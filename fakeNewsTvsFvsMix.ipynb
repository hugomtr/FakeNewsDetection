{
  "cells": [
    {
      "cell_type": "markdown",
      "metadata": {
        "id": "_9gBtpxq3cFT"
      },
      "source": [
        "@file fakeNews.ipynb\n",
        "<br>\n",
        "@author hugomtr\n",
        "<br>\n",
        "@brief \n",
        "<br>\n",
        "@version 0.1\n",
        "<br>\n",
        "@date 2022-02-28\n",
        "<br>\n",
        "@copyright Copyright (c) 2022"
      ]
    },
    {
      "cell_type": "markdown",
      "metadata": {
        "id": "i6z-w3-M-T-5"
      },
      "source": [
        "# Starting"
      ]
    },
    {
      "cell_type": "code",
      "execution_count": 1,
      "metadata": {
        "colab": {
          "base_uri": "https://localhost:8080/"
        },
        "id": "HQHttkaTwmkn",
        "outputId": "6b69b017-c6ea-45f0-c0ca-751d56a4b92e"
      },
      "outputs": [
        {
          "output_type": "stream",
          "name": "stdout",
          "text": [
            "Tue Apr 19 18:46:11 2022       \n",
            "+-----------------------------------------------------------------------------+\n",
            "| NVIDIA-SMI 460.32.03    Driver Version: 460.32.03    CUDA Version: 11.2     |\n",
            "|-------------------------------+----------------------+----------------------+\n",
            "| GPU  Name        Persistence-M| Bus-Id        Disp.A | Volatile Uncorr. ECC |\n",
            "| Fan  Temp  Perf  Pwr:Usage/Cap|         Memory-Usage | GPU-Util  Compute M. |\n",
            "|                               |                      |               MIG M. |\n",
            "|===============================+======================+======================|\n",
            "|   0  Tesla P100-PCIE...  Off  | 00000000:00:04.0 Off |                    0 |\n",
            "| N/A   41C    P0    27W / 250W |      0MiB / 16280MiB |      0%      Default |\n",
            "|                               |                      |                  N/A |\n",
            "+-------------------------------+----------------------+----------------------+\n",
            "                                                                               \n",
            "+-----------------------------------------------------------------------------+\n",
            "| Processes:                                                                  |\n",
            "|  GPU   GI   CI        PID   Type   Process name                  GPU Memory |\n",
            "|        ID   ID                                                   Usage      |\n",
            "|=============================================================================|\n",
            "|  No running processes found                                                 |\n",
            "+-----------------------------------------------------------------------------+\n"
          ]
        }
      ],
      "source": [
        "gpu_info = !nvidia-smi\n",
        "gpu_info = '\\n'.join(gpu_info)\n",
        "if gpu_info.find('failed') >= 0:\n",
        "  print('Not connected to a GPU')\n",
        "else:\n",
        "  print(gpu_info)"
      ]
    },
    {
      "cell_type": "code",
      "execution_count": 2,
      "metadata": {
        "id": "BB6b6eaZjDJe"
      },
      "outputs": [],
      "source": [
        "import pandas as pd\n",
        "import numpy as np\n",
        "import seaborn as sns\n",
        "import matplotlib.pyplot as plt\n",
        "import sys\n",
        "\n",
        "import sklearn\n",
        "\n",
        "# import some classifier\n",
        "from sklearn.naive_bayes import MultinomialNB\n",
        "from sklearn.linear_model import LogisticRegression\n",
        "from sklearn.naive_bayes import GaussianNB\n",
        "from sklearn.tree import DecisionTreeClassifier\n",
        "from sklearn.neighbors import KNeighborsClassifier\n",
        "from sklearn.ensemble import RandomForestClassifier\n",
        "from sklearn.svm import SVC\n",
        "from sklearn.linear_model import LinearRegression\n",
        "from sklearn.linear_model import SGDClassifier\n",
        "from sklearn.linear_model import PassiveAggressiveClassifier\n",
        "\n",
        "# import modules for vectorizing and pipe\n",
        "from sklearn.feature_extraction.text import CountVectorizer,TfidfVectorizer\n",
        "from sklearn.pipeline import Pipeline\n",
        "from sklearn import preprocessing\n",
        "from sklearn.feature_extraction.text import TfidfTransformer\n",
        "from sklearn.pipeline import make_pipeline\n",
        "\n",
        "# scale data\n",
        "from sklearn.preprocessing import StandardScaler\n",
        "\n",
        "# upsampling downsampling\n",
        "from sklearn.utils import resample\n",
        "\n",
        "# modules for model selection\n",
        "from sklearn.model_selection import train_test_split \n",
        "from sklearn.model_selection import KFold\n",
        "from sklearn.model_selection import GridSearchCV\n",
        "from sklearn.model_selection import cross_val_score\n",
        "\n",
        "# modules for evaluation\n",
        "from sklearn.metrics import accuracy_score\n",
        "from sklearn.metrics import confusion_matrix\n",
        "from sklearn.metrics import classification_report\n",
        "from sklearn.metrics import precision_recall_fscore_support as score\n",
        "\n",
        "# modules for vizualisation\n",
        "import seaborn as sns\n",
        "import matplotlib.pyplot as plt\n",
        "from tabulate import tabulate\n",
        "\n",
        "# others\n",
        "import itertools\n",
        "import random\n",
        "\n",
        "from sklearn.exceptions import ConvergenceWarning"
      ]
    },
    {
      "cell_type": "code",
      "execution_count": 3,
      "metadata": {
        "colab": {
          "base_uri": "https://localhost:8080/"
        },
        "id": "1Fy07f-gjuRO",
        "outputId": "cce06943-140c-4746-a116-4546fda105a8"
      },
      "outputs": [
        {
          "output_type": "stream",
          "name": "stdout",
          "text": [
            "Drive already mounted at /content/gdrive/; to attempt to forcibly remount, call drive.mount(\"/content/gdrive/\", force_remount=True).\n"
          ]
        }
      ],
      "source": [
        "from google.colab import drive\n",
        "drive.mount('/content/gdrive/')"
      ]
    },
    {
      "cell_type": "code",
      "execution_count": 4,
      "metadata": {
        "colab": {
          "base_uri": "https://localhost:8080/",
          "height": 0
        },
        "id": "pCNNDjdZjy5q",
        "outputId": "c8b6d288-282f-43ef-cf3d-014cc35bb41c"
      },
      "outputs": [
        {
          "output_type": "stream",
          "name": "stdout",
          "text": [
            "/content/gdrive/My Drive/Colab Notebooks/FakeNews\n"
          ]
        },
        {
          "output_type": "execute_result",
          "data": {
            "text/plain": [
              "'/content/gdrive/My Drive/Colab Notebooks/FakeNews'"
            ],
            "application/vnd.google.colaboratory.intrinsic+json": {
              "type": "string"
            }
          },
          "metadata": {},
          "execution_count": 4
        }
      ],
      "source": [
        "my_local_drive='/content/gdrive/My Drive/Colab Notebooks/FakeNews'\n",
        "# Ajout du path pour les librairies, fonctions et données\n",
        "sys.path.append(my_local_drive)\n",
        "# Se positionner sur le répertoire associé\n",
        "%cd $my_local_drive\n",
        "\n",
        "%pwd"
      ]
    },
    {
      "cell_type": "markdown",
      "metadata": {
        "id": "9gjp_awkJLFr"
      },
      "source": [
        "# Loading a dataset and choose classification\n"
      ]
    },
    {
      "cell_type": "code",
      "source": [
        "df = pd.read_csv(\"claimskg.csv\",sep=\";\")\n",
        "del df['Unnamed: 0']\n",
        "df.head(2)"
      ],
      "metadata": {
        "colab": {
          "base_uri": "https://localhost:8080/",
          "height": 381
        },
        "id": "eko-km391oA3",
        "outputId": "fbda04b6-2c4b-4411-84e4-1617ede23ba3"
      },
      "execution_count": 95,
      "outputs": [
        {
          "output_type": "execute_result",
          "data": {
            "text/plain": [
              "                                                  id  \\\n",
              "0  http://data.gesis.org/claimskg/claim_review/36...   \n",
              "1  http://data.gesis.org/claimskg/claim_review/e6...   \n",
              "\n",
              "                                                text        date  truthRating  \\\n",
              "0  'There will be no public funding for abortion ...  2010-03-21            3   \n",
              "1  Central Health 'is the only hospital district ...  2011-03-15            3   \n",
              "\n",
              "  ratingName           author  \\\n",
              "0       True      Bart Stupak   \n",
              "1       True  Wayne Christian   \n",
              "\n",
              "                                            headline  \\\n",
              "0  Stupak revises abortion stance on health care ...   \n",
              "1  State Rep. Wayne Christian says Central Health...   \n",
              "\n",
              "                                named_entities_claim named_entities_article  \\\n",
              "0  Abortion rights,Barack Obama,Bart Stupak,Ben N...               abortion   \n",
              "1  Austin American-Statesman,Harris County Hospit...                    NaN   \n",
              "\n",
              "               keywords      source                  sourceURL  \\\n",
              "0  Abortion,Health Care  politifact  http://www.politifact.com   \n",
              "1              Abortion  politifact  http://www.politifact.com   \n",
              "\n",
              "                                                link language  \n",
              "0  http://www.politifact.com/truth-o-meter/statem...  English  \n",
              "1  http://www.politifact.com/texas/statements/201...  English  "
            ],
            "text/html": [
              "\n",
              "  <div id=\"df-e3ef1f07-a2e7-4692-ae50-ecfd43ee08ac\">\n",
              "    <div class=\"colab-df-container\">\n",
              "      <div>\n",
              "<style scoped>\n",
              "    .dataframe tbody tr th:only-of-type {\n",
              "        vertical-align: middle;\n",
              "    }\n",
              "\n",
              "    .dataframe tbody tr th {\n",
              "        vertical-align: top;\n",
              "    }\n",
              "\n",
              "    .dataframe thead th {\n",
              "        text-align: right;\n",
              "    }\n",
              "</style>\n",
              "<table border=\"1\" class=\"dataframe\">\n",
              "  <thead>\n",
              "    <tr style=\"text-align: right;\">\n",
              "      <th></th>\n",
              "      <th>id</th>\n",
              "      <th>text</th>\n",
              "      <th>date</th>\n",
              "      <th>truthRating</th>\n",
              "      <th>ratingName</th>\n",
              "      <th>author</th>\n",
              "      <th>headline</th>\n",
              "      <th>named_entities_claim</th>\n",
              "      <th>named_entities_article</th>\n",
              "      <th>keywords</th>\n",
              "      <th>source</th>\n",
              "      <th>sourceURL</th>\n",
              "      <th>link</th>\n",
              "      <th>language</th>\n",
              "    </tr>\n",
              "  </thead>\n",
              "  <tbody>\n",
              "    <tr>\n",
              "      <th>0</th>\n",
              "      <td>http://data.gesis.org/claimskg/claim_review/36...</td>\n",
              "      <td>'There will be no public funding for abortion ...</td>\n",
              "      <td>2010-03-21</td>\n",
              "      <td>3</td>\n",
              "      <td>True</td>\n",
              "      <td>Bart Stupak</td>\n",
              "      <td>Stupak revises abortion stance on health care ...</td>\n",
              "      <td>Abortion rights,Barack Obama,Bart Stupak,Ben N...</td>\n",
              "      <td>abortion</td>\n",
              "      <td>Abortion,Health Care</td>\n",
              "      <td>politifact</td>\n",
              "      <td>http://www.politifact.com</td>\n",
              "      <td>http://www.politifact.com/truth-o-meter/statem...</td>\n",
              "      <td>English</td>\n",
              "    </tr>\n",
              "    <tr>\n",
              "      <th>1</th>\n",
              "      <td>http://data.gesis.org/claimskg/claim_review/e6...</td>\n",
              "      <td>Central Health 'is the only hospital district ...</td>\n",
              "      <td>2011-03-15</td>\n",
              "      <td>3</td>\n",
              "      <td>True</td>\n",
              "      <td>Wayne Christian</td>\n",
              "      <td>State Rep. Wayne Christian says Central Health...</td>\n",
              "      <td>Austin American-Statesman,Harris County Hospit...</td>\n",
              "      <td>NaN</td>\n",
              "      <td>Abortion</td>\n",
              "      <td>politifact</td>\n",
              "      <td>http://www.politifact.com</td>\n",
              "      <td>http://www.politifact.com/texas/statements/201...</td>\n",
              "      <td>English</td>\n",
              "    </tr>\n",
              "  </tbody>\n",
              "</table>\n",
              "</div>\n",
              "      <button class=\"colab-df-convert\" onclick=\"convertToInteractive('df-e3ef1f07-a2e7-4692-ae50-ecfd43ee08ac')\"\n",
              "              title=\"Convert this dataframe to an interactive table.\"\n",
              "              style=\"display:none;\">\n",
              "        \n",
              "  <svg xmlns=\"http://www.w3.org/2000/svg\" height=\"24px\"viewBox=\"0 0 24 24\"\n",
              "       width=\"24px\">\n",
              "    <path d=\"M0 0h24v24H0V0z\" fill=\"none\"/>\n",
              "    <path d=\"M18.56 5.44l.94 2.06.94-2.06 2.06-.94-2.06-.94-.94-2.06-.94 2.06-2.06.94zm-11 1L8.5 8.5l.94-2.06 2.06-.94-2.06-.94L8.5 2.5l-.94 2.06-2.06.94zm10 10l.94 2.06.94-2.06 2.06-.94-2.06-.94-.94-2.06-.94 2.06-2.06.94z\"/><path d=\"M17.41 7.96l-1.37-1.37c-.4-.4-.92-.59-1.43-.59-.52 0-1.04.2-1.43.59L10.3 9.45l-7.72 7.72c-.78.78-.78 2.05 0 2.83L4 21.41c.39.39.9.59 1.41.59.51 0 1.02-.2 1.41-.59l7.78-7.78 2.81-2.81c.8-.78.8-2.07 0-2.86zM5.41 20L4 18.59l7.72-7.72 1.47 1.35L5.41 20z\"/>\n",
              "  </svg>\n",
              "      </button>\n",
              "      \n",
              "  <style>\n",
              "    .colab-df-container {\n",
              "      display:flex;\n",
              "      flex-wrap:wrap;\n",
              "      gap: 12px;\n",
              "    }\n",
              "\n",
              "    .colab-df-convert {\n",
              "      background-color: #E8F0FE;\n",
              "      border: none;\n",
              "      border-radius: 50%;\n",
              "      cursor: pointer;\n",
              "      display: none;\n",
              "      fill: #1967D2;\n",
              "      height: 32px;\n",
              "      padding: 0 0 0 0;\n",
              "      width: 32px;\n",
              "    }\n",
              "\n",
              "    .colab-df-convert:hover {\n",
              "      background-color: #E2EBFA;\n",
              "      box-shadow: 0px 1px 2px rgba(60, 64, 67, 0.3), 0px 1px 3px 1px rgba(60, 64, 67, 0.15);\n",
              "      fill: #174EA6;\n",
              "    }\n",
              "\n",
              "    [theme=dark] .colab-df-convert {\n",
              "      background-color: #3B4455;\n",
              "      fill: #D2E3FC;\n",
              "    }\n",
              "\n",
              "    [theme=dark] .colab-df-convert:hover {\n",
              "      background-color: #434B5C;\n",
              "      box-shadow: 0px 1px 3px 1px rgba(0, 0, 0, 0.15);\n",
              "      filter: drop-shadow(0px 1px 2px rgba(0, 0, 0, 0.3));\n",
              "      fill: #FFFFFF;\n",
              "    }\n",
              "  </style>\n",
              "\n",
              "      <script>\n",
              "        const buttonEl =\n",
              "          document.querySelector('#df-e3ef1f07-a2e7-4692-ae50-ecfd43ee08ac button.colab-df-convert');\n",
              "        buttonEl.style.display =\n",
              "          google.colab.kernel.accessAllowed ? 'block' : 'none';\n",
              "\n",
              "        async function convertToInteractive(key) {\n",
              "          const element = document.querySelector('#df-e3ef1f07-a2e7-4692-ae50-ecfd43ee08ac');\n",
              "          const dataTable =\n",
              "            await google.colab.kernel.invokeFunction('convertToInteractive',\n",
              "                                                     [key], {});\n",
              "          if (!dataTable) return;\n",
              "\n",
              "          const docLinkHtml = 'Like what you see? Visit the ' +\n",
              "            '<a target=\"_blank\" href=https://colab.research.google.com/notebooks/data_table.ipynb>data table notebook</a>'\n",
              "            + ' to learn more about interactive tables.';\n",
              "          element.innerHTML = '';\n",
              "          dataTable['output_type'] = 'display_data';\n",
              "          await google.colab.output.renderOutput(dataTable, element);\n",
              "          const docLink = document.createElement('div');\n",
              "          docLink.innerHTML = docLinkHtml;\n",
              "          element.appendChild(docLink);\n",
              "        }\n",
              "      </script>\n",
              "    </div>\n",
              "  </div>\n",
              "  "
            ]
          },
          "metadata": {},
          "execution_count": 95
        }
      ]
    },
    {
      "cell_type": "code",
      "execution_count": 96,
      "metadata": {
        "id": "q6_cso9XTPr5"
      },
      "outputs": [],
      "source": [
        "df = pd.read_csv(\"claimskg.csv\",sep=\";\")\n",
        "del df['Unnamed: 0']\n",
        "\n",
        "def f(x):\n",
        "  if x==1:\n",
        "    return 0\n",
        "  if x==2:\n",
        "    return 2\n",
        "  return 1\n",
        "\n",
        "def g(x):\n",
        "  if x==1 or x==0:\n",
        "    return 0\n",
        "  else: \n",
        "    return 1\n",
        "\n",
        "def gbis(x):\n",
        "  if x==\"True\" or x==\"False\":\n",
        "    return \"True_False\"\n",
        "  else: \n",
        "    return \"MIXTURE\"\n",
        "\n",
        "def choose_classification():\n",
        "  print(\"Select which classification you want:\")\n",
        "  print(\"0 : {True} vs {False}\")\n",
        "  print(\"1 : {True,False} vs {Mixture}\")\n",
        "  print(\"2 : {True} vs {False} vs {Mixture}\")\n",
        "  n = int(input(\"select a number: \"))\n",
        "  return n\n",
        "\n",
        "def resample_(n,df):\n",
        "  \n",
        "  if n == 0:\n",
        "    # {True} vs {False}\n",
        "    df = df[df.truthRating.isin([0,1])]\n",
        "    df.groupby(\"ratingName\").size().plot(kind='pie',y='ratingName',label = \"Classe\",autopct='%1.1f%%',title= \"Downsampling or Upsampling  is needed?\")\n",
        "    plt.show()\n",
        "    true_data = df[df.ratingName == \"True\"]\n",
        "    false_data = df[df.ratingName == \"False\"]\n",
        "    \n",
        "    # downsampling false data\n",
        "    false_data = false_data.sample(len(true_data))\n",
        "    df = pd.concat([true_data,false_data])\n",
        "    df.groupby(\"ratingName\").size().plot(kind='pie',y='ratingName',label = \"Classe\",autopct='%1.1f%%',title= \"After resampling\")\n",
        "    plt.show()\n",
        "  \n",
        "  if n == 1:\n",
        "    # {True,False} vs {Mixture}\n",
        "    df[\"truthRating\"] = df[\"truthRating\"].apply(g)\n",
        "    df[\"ratingName\"] = df[\"ratingName\"].apply(gbis)\n",
        "    df.groupby(\"ratingName\").size().plot(kind='pie',y='ratingName',label = \"Classe\",autopct='%1.1f%%',title= \"Downsampling or Upsampling  is needed?\")\n",
        "    plt.show()\n",
        "    true_false_data = df[df.ratingName == \"True_False\"]\n",
        "    mixture_data = df[df.ratingName == \"MIXTURE\"]\n",
        "    \n",
        "    # downsampling mixture data\n",
        "    true_false_data = true_false_data.sample(len(mixture_data))\n",
        "    df = pd.concat([true_false_data,mixture_data])\n",
        "    df.groupby(\"ratingName\").size().plot(kind='pie',y='ratingName',label = \"Classe\",autopct='%1.1f%%',title= \"After resampling\")\n",
        "    plt.show()\n",
        "\n",
        "  if n == 2:\n",
        "    # {True} vs {False} vs {Mixture}\n",
        "    df.groupby(\"ratingName\").size().plot(kind='pie',y='ratingName',label = \"Classe\",autopct='%1.1f%%',title= \"Downsampling or Upsampling  is needed?\")\n",
        "    plt.show()\n",
        "    true_data = df[df.ratingName == \"True\"]\n",
        "    false_data = df[df.ratingName == \"False\"]\n",
        "    mixture_data = df[df.ratingName == \"MIXTURE\"]\n",
        "\n",
        "    # downsampling false data\n",
        "    false_data = false_data.sample(len(true_data))\n",
        "    mixture_data = mixture_data.sample(len(true_data))\n",
        "    df = pd.concat([true_data,false_data,mixture_data])\n",
        "    df.groupby(\"ratingName\").size().plot(kind='pie',y='ratingName',label = \"Classe\",autopct='%1.1f%%',title= \"After resampling\")\n",
        "    plt.show()\n",
        "  return df"
      ]
    },
    {
      "cell_type": "code",
      "execution_count": 97,
      "metadata": {
        "colab": {
          "base_uri": "https://localhost:8080/",
          "height": 622
        },
        "id": "F7JYbk--TIb2",
        "outputId": "6b1c8005-79ab-48a7-8f29-9d2a450625c8"
      },
      "outputs": [
        {
          "name": "stdout",
          "output_type": "stream",
          "text": [
            "Select which classification you want:\n",
            "0 : {True} vs {False}\n",
            "1 : {True,False} vs {Mixture}\n",
            "2 : {True} vs {False} vs {Mixture}\n",
            "select a number: 2\n"
          ]
        },
        {
          "output_type": "display_data",
          "data": {
            "text/plain": [
              "<Figure size 432x288 with 1 Axes>"
            ],
            "image/png": "[encoded data removed]"
          },
          "metadata": {}
        },
        {
          "output_type": "display_data",
          "data": {
            "text/plain": [
              "<Figure size 432x288 with 1 Axes>"
            ],
            "image/png": "[encoded data removed]"
          },
          "metadata": {}
        },
        {
          "output_type": "stream",
          "name": "stdout",
          "text": [
            "classes : ['True' 'False' 'MIXTURE'] n° rows df : 13356\n"
          ]
        }
      ],
      "source": [
        "df[\"truthRating\"] = df[\"truthRating\"].apply(f)\n",
        "\n",
        "n = choose_classification()\n",
        "\n",
        "df = resample_(n,df)\n",
        "\n",
        "classes = df.ratingName.unique()\n",
        "\n",
        "label_dict = {}\n",
        "for index, possible_label in enumerate(classes):\n",
        "    label_dict[possible_label] = index\n",
        "\n",
        "df['label'] = df.ratingName.replace(label_dict)\n",
        "df[\"text\"] = df[\"text\"] + \" \" +  df[\"author\"] + \" \" + df[\"headline\"] +  \" \" + df[\"source\"]\n",
        "df = df[[\"text\",\"label\",\"ratingName\"]]\n",
        "\n",
        "train, test = train_test_split(df, test_size=0.1, shuffle=True)\n",
        "print(\"classes :\",classes,\"n° rows df :\", len(df))"
      ]
    },
    {
      "cell_type": "code",
      "execution_count": 98,
      "metadata": {
        "id": "uutwhf9JY_1I"
      },
      "outputs": [],
      "source": [
        "# Saving Data in 2 csv file\n",
        "train.to_csv(\"train.csv\",sep=';')\n",
        "test.to_csv(\"test.csv\",sep=';')"
      ]
    },
    {
      "cell_type": "markdown",
      "metadata": {
        "id": "neyVpCHhGFFq"
      },
      "source": [
        "# Ingenierie Textuelle"
      ]
    },
    {
      "cell_type": "markdown",
      "metadata": {
        "id": "oF2RXtCsIAL1"
      },
      "source": [
        "### Installation Packages & Loading Data"
      ]
    },
    {
      "cell_type": "code",
      "execution_count": 9,
      "metadata": {
        "colab": {
          "base_uri": "https://localhost:8080/"
        },
        "id": "J_1yotixGPX4",
        "outputId": "9d362dfa-05ff-4f4c-c63c-1f99860a00bf"
      },
      "outputs": [
        {
          "output_type": "stream",
          "name": "stdout",
          "text": [
            "Requirement already satisfied: langdetect in /usr/local/lib/python3.7/dist-packages (1.0.9)\n",
            "Requirement already satisfied: six in /usr/local/lib/python3.7/dist-packages (from langdetect) (1.15.0)\n",
            "Requirement already satisfied: contractions in /usr/local/lib/python3.7/dist-packages (0.1.68)\n",
            "Requirement already satisfied: textsearch>=0.0.21 in /usr/local/lib/python3.7/dist-packages (from contractions) (0.0.21)\n",
            "Requirement already satisfied: pyahocorasick in /usr/local/lib/python3.7/dist-packages (from textsearch>=0.0.21->contractions) (1.4.4)\n",
            "Requirement already satisfied: anyascii in /usr/local/lib/python3.7/dist-packages (from textsearch>=0.0.21->contractions) (0.3.1)\n"
          ]
        }
      ],
      "source": [
        "!pip install langdetect \n",
        "!pip install contractions"
      ]
    },
    {
      "cell_type": "code",
      "execution_count": 10,
      "metadata": {
        "colab": {
          "base_uri": "https://localhost:8080/"
        },
        "id": "Dv2aDFARGICk",
        "outputId": "e00e24db-d3d5-477c-8a67-468b4fe06736"
      },
      "outputs": [
        {
          "output_type": "stream",
          "name": "stdout",
          "text": [
            "[nltk_data] Downloading package punkt to /root/nltk_data...\n",
            "[nltk_data]   Package punkt is already up-to-date!\n",
            "[nltk_data] Downloading package averaged_perceptron_tagger to\n",
            "[nltk_data]     /root/nltk_data...\n",
            "[nltk_data]   Package averaged_perceptron_tagger is already up-to-\n",
            "[nltk_data]       date!\n",
            "[nltk_data] Downloading package tagsets to /root/nltk_data...\n",
            "[nltk_data]   Package tagsets is already up-to-date!\n",
            "[nltk_data] Downloading package stopwords to /root/nltk_data...\n",
            "[nltk_data]   Package stopwords is already up-to-date!\n",
            "[nltk_data] Downloading package wordnet to /root/nltk_data...\n",
            "[nltk_data]   Package wordnet is already up-to-date!\n"
          ]
        }
      ],
      "source": [
        "# Importation des différentes librairies utiles pour le notebook\n",
        "\n",
        "#Sickit learn met régulièrement à jour des versions et \n",
        "#indique des futurs warnings. \n",
        "#ces deux lignes permettent de ne pas les afficher.\n",
        "import warnings\n",
        "warnings.filterwarnings(\"ignore\", category=FutureWarning)\n",
        "\n",
        "# librairies générales\n",
        "import pickle \n",
        "import pandas as pd\n",
        "from scipy.stats import randint\n",
        "import numpy as np\n",
        "import string\n",
        "import time\n",
        "import base64\n",
        "import re\n",
        "import sys\n",
        "\n",
        "import contractions\n",
        "\n",
        "# librairie BeautifulSoup\n",
        "from bs4 import BeautifulSoup\n",
        "\n",
        "# librairie affichage\n",
        "import matplotlib.pyplot as plt\n",
        "import seaborn as sns\n",
        "import wordcloud\n",
        "\n",
        "## detection de language\n",
        "import langdetect \n",
        "\n",
        "import nltk\n",
        "from nltk import sent_tokenize\n",
        "from nltk.tokenize import word_tokenize\n",
        "from nltk.stem import WordNetLemmatizer\n",
        "from nltk.stem import PorterStemmer\n",
        "from nltk import RegexpParser\n",
        "\n",
        "# il est possible de charger l'ensemble des librairies en une seule fois \n",
        "# décocher le commentaire de la ligne ci-dessous\n",
        "nltk.download('punkt')\n",
        "nltk.download('averaged_perceptron_tagger')\n",
        "from nltk import pos_tag\n",
        "nltk.download('tagsets')\n",
        "nltk.download(\"stopwords\")\n",
        "nltk.download('wordnet')\n",
        "\n",
        "from nltk.corpus import stopwords\n",
        "\n",
        "from sklearn.feature_extraction.text import TfidfVectorizer\n",
        "\n",
        "import spacy\n",
        "from spacy.tokens import Span\n",
        "# il faut sélectionner pour quelle langue les traitements vont être faits.\n",
        "nlp = spacy.load('en')"
      ]
    },
    {
      "cell_type": "code",
      "execution_count": 99,
      "metadata": {
        "id": "w6xYEr-1jeon"
      },
      "outputs": [],
      "source": [
        "# Loading training set and testing set\n",
        "df_train = pd.read_csv(\"train.csv\",sep=\";\")\n",
        "df_test = pd.read_csv(\"test.csv\",sep=\";\")\n",
        "\n",
        "del df_train['Unnamed: 0'];del df_test['Unnamed: 0']"
      ]
    },
    {
      "cell_type": "markdown",
      "metadata": {
        "id": "1qFonKxTD8c3"
      },
      "source": [
        "### Text Preprocessing class and function\n",
        "\n",
        "\n",
        "\n"
      ]
    },
    {
      "cell_type": "code",
      "execution_count": 12,
      "metadata": {
        "id": "jfjGSadiPMMQ"
      },
      "outputs": [],
      "source": [
        "# text = np.concatenate((df_train[\"text\"],df_test[\"text\"]))\n",
        "\n",
        "# def contains_digit(word):\n",
        "#   for c in word:\n",
        "#     if c.isdigit():\n",
        "#       return True\n",
        "#   return False\n",
        "\n",
        "# stopwords = np.array(nltk.corpus.stopwords.words('english'))\n",
        "\n",
        "# for i,sentence in zip(range(len(text)),text):\n",
        "#   # Removing punctuation\n",
        "#   tokenizer = nltk.RegexpTokenizer(r\"\\w+\")\n",
        "#   sentence = tokenizer.tokenize(sentence)\n",
        "\n",
        "#   sentence = \" \".join(sentence)\n",
        "#   sentence = re.sub(r'Unknown', '', str(sentence))\n",
        "\n",
        "#   sentence = word_tokenize(sentence)\n",
        "\n",
        "#   # converting each word to lowercase\n",
        "#   sentence = [word.lower() for word in sentence if not word in stopwords]\n",
        "\n",
        "#   # Removing stopwords\n",
        "#   sentence = [word for word in sentence if not word in stopwords]\n",
        "\n",
        "#   # Removing word with only one letter\n",
        "#   sentence = [word for word in sentence if len(word) != 1]\n",
        "\n",
        "#   # Removing word with digits\n",
        "#   sentence = [word for word in sentence if not contains_digit(word)]\n",
        "\n",
        "#   # stemmer words \n",
        "#   # lemmatizer = WordNetLemmatizer()\n",
        "#   ps = PorterStemmer()\n",
        "#   sentence = [ps.stem(word) for word in sentence]\n",
        "\n",
        "#   ## Removing pronouns infinitive verbs dt...\n",
        "#   # for word in nltk.pos_tag(sentence):\n",
        "#   #   word_to_keep = []\n",
        "#   #   if word[1] not in ['IN', 'PP', 'DT','PRP$','VB','MD']:\n",
        "#   #     word_to_keep.append(word[0])\n",
        "  \n",
        "#   sentence = (\" \").join(sentence)\n",
        "#   text[i] = sentence"
      ]
    },
    {
      "cell_type": "code",
      "execution_count": 13,
      "metadata": {
        "id": "-7WVUWnZ5Xek"
      },
      "outputs": [],
      "source": [
        "from sklearn.base import BaseEstimator, TransformerMixin\n",
        "\n",
        "def MyCleanText(X, \n",
        "  lowercase=False, # mettre en minuscule\n",
        "  removestopwords=False, # supprimer les stopwords\n",
        "  removedigit=False, # supprimer les nombres \n",
        "  getstemmer=False, # conserver la racine des termes\n",
        "  getlemmatisation=False # lematisation des termes \n",
        "  ):\n",
        "\n",
        "  sentence=str(X)\n",
        "\n",
        "  # suppression des caractères spéciaux\n",
        "  sentence = re.sub(r'[^\\w\\s]',' ', sentence)\n",
        "  # suppression de tous les caractères uniques\n",
        "  sentence = re.sub(r'\\s+[a-zA-Z]\\s+', ' ', sentence)\n",
        "  # substitution des espaces multiples par un seul espace\n",
        "  sentence = re.sub(r'\\s+', ' ', sentence, flags=re.I)\n",
        "  # subtitution of Unknown\n",
        "  sentence = re.sub(r'Unknown', '', sentence)\n",
        "\n",
        "  # remove some space\n",
        "  sentence = sentence.strip()\n",
        "\n",
        "  # decoupage en mots\n",
        "  tokens = word_tokenize(sentence)\n",
        "  if lowercase:\n",
        "    tokens = [token.lower() for token in tokens]\n",
        "\n",
        "  # suppression ponctuation\n",
        "  table = str.maketrans('', '', string.punctuation)\n",
        "  words = [token.translate(table) for token in tokens]\n",
        "\n",
        "  # suppression des tokens non alphabetique ou numerique\n",
        "  words = [word for word in words if word.isalnum()]\n",
        "\n",
        "  # suppression des tokens numerique\n",
        "  if removedigit:\n",
        "    words = [word for word in words if not word.isdigit()]\n",
        "\n",
        "  # suppression des stopwords\n",
        "  if removestopwords:\n",
        "    stopwords = np.array(nltk.corpus.stopwords.words('english'))\n",
        "    words = [word for word in words if not word in stopwords]\n",
        "\n",
        "  # lemmatisation\n",
        "  if getlemmatisation:\n",
        "    lemmatizer=WordNetLemmatizer()\n",
        "    words = [lemmatizer.lemmatize(word)for word in words]\n",
        "\n",
        "\n",
        "  # racinisation\n",
        "  if getstemmer:\n",
        "    ps = PorterStemmer()\n",
        "    words=[ps.stem(word) for word in words]\n",
        "\n",
        "    sentence= ' '.join(words)\n",
        "\n",
        "  return sentence \n",
        "\n",
        "class TextNormalizer(BaseEstimator, TransformerMixin):\n",
        "  def __init__(self, \n",
        "    removestopwords=False, # suppression des stopwords\n",
        "    lowercase=False,# passage en minuscule\n",
        "    removedigit=False, # supprimer les nombres \n",
        "    getstemmer=False,# racinisation des termes \n",
        "    getlemmatisation=False # lemmatisation des termes \n",
        "    ):\n",
        "  \n",
        "    self.lowercase=lowercase\n",
        "    self.getstemmer=getstemmer\n",
        "    self.removestopwords=removestopwords\n",
        "    self.getlemmatisation=getlemmatisation\n",
        "    self.removedigit=removedigit\n",
        "    \n",
        "\n",
        "  def transform(self, X, **transform_params):\n",
        "    # Nettoyage du texte\n",
        "    X=X.copy() # pour conserver le fichier d'origine\n",
        "    return [MyCleanText(text,lowercase=self.lowercase,\n",
        "    getstemmer=self.getstemmer,\n",
        "    removestopwords=self.removestopwords,\n",
        "    getlemmatisation=self.getlemmatisation,\n",
        "    removedigit=self.removedigit) for text in X]\n",
        "\n",
        "  def fit(self, X, y=None, **fit_params):\n",
        "    return self\n",
        "  \n",
        "  def fit_transform(self, X, y=None, **fit_params):\n",
        "    return self.fit(X).transform(X)\n",
        "\n",
        "  def get_params(self, deep=True):\n",
        "    return {\n",
        "    'lowercase':self.lowercase,\n",
        "    'getstemmer':self.getstemmer,\n",
        "    'removestopwords':self.removestopwords,\n",
        "    'getlemmatisation':self.getlemmatisation,\n",
        "    'removedigit':self.removedigit\n",
        "    } \n",
        "  \n",
        "  def set_params (self, **parameters):\n",
        "    for parameter, value in parameters.items():\n",
        "      setattr(self,parameter,value)\n",
        "    return self \n",
        "\n"
      ]
    },
    {
      "cell_type": "code",
      "execution_count": 14,
      "metadata": {
        "id": "u8Qq76KFDRaJ"
      },
      "outputs": [],
      "source": [
        "def preprocess_selection(model_name,model,X,y,lowercase=False):\n",
        "    CV_brut = Pipeline([('cleaner', TextNormalizer()), \n",
        "                        ('count_vectorizer', CountVectorizer(lowercase=False)),\n",
        "                        (model_name, model)])\n",
        "    CV_lowcase = Pipeline([('cleaner', TextNormalizer(removestopwords=False,lowercase=True,\n",
        "                                                getstemmer=False,removedigit=False)), \n",
        "                        ('count_vectorizer', CountVectorizer(lowercase=lowercase)),\n",
        "                        (model_name, model)])\n",
        "    CV_lowStop = Pipeline([('cleaner', TextNormalizer(removestopwords=True,lowercase=True,\n",
        "                                                getstemmer=False,removedigit=False)), \n",
        "                        ('count_vectorizer', CountVectorizer(lowercase=lowercase)),\n",
        "                        (model_name, model)])\n",
        "\n",
        "    CV_lowStopstem = Pipeline([('cleaner', TextNormalizer(removestopwords=True,lowercase=True,\n",
        "                                                getstemmer=True,removedigit=False)), \n",
        "                        ('count_vectorizer', CountVectorizer(lowercase=lowercase)),\n",
        "                        (model_name, model)])\n",
        "    \n",
        "    CV_lowStopna = Pipeline([('cleaner', TextNormalizer(removestopwords=True,lowercase=True,\n",
        "                                                getstemmer=True,removedigit=True)), \n",
        "                        ('count_vectorizer', CountVectorizer(lowercase=lowercase)),\n",
        "                        (model_name, model)])\n",
        "\n",
        "    TFIDF_brut = Pipeline ([('cleaner', TextNormalizer()), \n",
        "                        ('tfidf_vectorizer', TfidfVectorizer(lowercase=lowercase)),\n",
        "                        (model_name, model)])\n",
        "\n",
        "    TFIDF_lowcase = Pipeline([('cleaner', TextNormalizer(removestopwords=False,lowercase=True,\n",
        "                                                getstemmer=False,removedigit=False)), \n",
        "                        ('tfidf_vectorizer', TfidfVectorizer(lowercase=lowercase)),\n",
        "                        (model_name, model)])\n",
        "    TFIDF_lowStop = Pipeline([('cleaner', TextNormalizer(removestopwords=True,lowercase=True,\n",
        "                                                getstemmer=False,removedigit=False)), \n",
        "                        ('tfidf_vectorizer', TfidfVectorizer(lowercase=lowercase)),\n",
        "                        (model_name, model)])\n",
        "\n",
        "    TFIDF_lowStopstem = Pipeline([('cleaner', TextNormalizer(removestopwords=True,lowercase=True,\n",
        "                                                getstemmer=True,removedigit=False)), \n",
        "                        ('tfidf_vectorizer', TfidfVectorizer(lowercase=lowercase)),\n",
        "                        (model_name, model)])\n",
        "    TFIDF_lowStopna = Pipeline([('cleaner', TextNormalizer(removestopwords=True,lowercase=True,\n",
        "                                                getstemmer=True,removedigit=True)), \n",
        "                        ('tfidf_vectorizer', TfidfVectorizer(lowercase=lowercase)),\n",
        "                        (model_name, model)])\n",
        "\n",
        "    all_models = [\n",
        "        (\"CV_brut\", CV_brut),\n",
        "        (\"CV_lowcase\", CV_lowcase),\n",
        "        (\"CV_lowStop\", CV_lowStop),\n",
        "        (\"CV_lowStopstem\",CV_lowStopstem),\n",
        "        (\"CV_lowStopna\",CV_lowStopna),\n",
        "        (\"TFIDF_lowStopna\", TFIDF_lowStopna),\n",
        "        (\"TFIDF_lowcase\", TFIDF_lowcase),\n",
        "        (\"TFIDF_lowStop\", TFIDF_lowStop),\n",
        "        (\"TFIDF_lowStopstem\",TFIDF_lowStopstem),\n",
        "        (\"TFIDF_brut\", TFIDF_brut),\n",
        "    ]\n",
        "\n",
        "    print (\"Evaluation des différentes configurations : \")\n",
        "    unsorted_scores = [(name, cross_val_score(model, X, y, cv=5).mean()) for name, model in all_models]\n",
        "    scores = sorted(unsorted_scores, key=lambda x: -x[1])\n",
        "\n",
        "\n",
        "    print(tabulate(scores, floatfmt='.4f', headers=('Pipeline', 'Score')))"
      ]
    },
    {
      "cell_type": "markdown",
      "metadata": {
        "id": "je4KpcyhL7MG"
      },
      "source": [
        "### Selecting best preprocessing\n",
        "OPTIONAL!\n",
        "WARNING !!!\n",
        "<br>\n",
        "May take some minutes\n",
        "<br>\n",
        "example below ->"
      ]
    },
    {
      "cell_type": "code",
      "execution_count": 15,
      "metadata": {
        "colab": {
          "base_uri": "https://localhost:8080/"
        },
        "id": "XIbKtTePL_5u",
        "outputId": "98252de5-7c92-4330-a73f-278b5f52b8c2"
      },
      "outputs": [
        {
          "output_type": "stream",
          "name": "stdout",
          "text": [
            "Evaluation des différentes configurations : \n",
            "Pipeline             Score\n",
            "-----------------  -------\n",
            "TFIDF_lowcase       0.4440\n",
            "TFIDF_lowStop       0.4440\n",
            "TFIDF_brut          0.4440\n",
            "CV_lowStopna        0.4420\n",
            "CV_lowStopstem      0.4380\n",
            "TFIDF_lowStopstem   0.4360\n",
            "TFIDF_lowStopna     0.4320\n",
            "CV_brut             0.4100\n",
            "CV_lowcase          0.4100\n",
            "CV_lowStop          0.4100\n"
          ]
        }
      ],
      "source": [
        "X = df_train[\"text\"]\n",
        "y = df_train[\"label\"] \n",
        "\n",
        "X_s = X.sample(500)\n",
        "y_s = y.loc[X_s.index]\n",
        "preprocess_selection(\"multinomial_nb\",MultinomialNB(),X_s,y_s)"
      ]
    },
    {
      "cell_type": "markdown",
      "source": [
        "# ACP Visualisation des données"
      ],
      "metadata": {
        "id": "eQZJhmMxvzWR"
      }
    },
    {
      "cell_type": "code",
      "source": [
        "X = df_train[\"text\"]\n",
        "y = df_train[\"label\"]\n",
        "text_normalizer= TextNormalizer(removestopwords=False,lowercase=True,getstemmer=False,removedigit=False) \n",
        "X=text_normalizer.fit_transform(X)\n",
        "vectorizer = TfidfVectorizer()\n",
        "X = vectorizer.fit_transform(X)"
      ],
      "metadata": {
        "id": "yp0myLlPv3vG"
      },
      "execution_count": 16,
      "outputs": []
    },
    {
      "cell_type": "code",
      "source": [
        "from sklearn.decomposition import TruncatedSVD\n",
        "svd = TruncatedSVD(n_components=2)\n",
        "X_svd = svd.fit_transform(X)\n",
        "\n",
        "print(\"variance ratio: \",svd.explained_variance_ratio_)\n",
        "\n",
        "print(\"variance ratio sum: \",svd.explained_variance_ratio_.sum())\n",
        "print(\"singular values:\" ,svd.singular_values_)\n",
        "fig,ax = plt.subplots(figsize=(15,15))\n",
        "ax.scatter(X_svd[:1000,0], X_svd[:1000,1], alpha=0.2,c=y[:1000])\n",
        "plt.show()"
      ],
      "metadata": {
        "colab": {
          "base_uri": "https://localhost:8080/",
          "height": 918
        },
        "id": "vOW7jZSvy3At",
        "outputId": "f0a85a5c-c84a-43f0-b4d4-fc354bd6b260"
      },
      "execution_count": 17,
      "outputs": [
        {
          "output_type": "stream",
          "name": "stdout",
          "text": [
            "variance ratio:  [0.00263408 0.00486564]\n",
            "variance ratio sum:  0.007499712361949366\n",
            "singular values: [14.50312497  7.59375105]\n"
          ]
        },
        {
          "output_type": "display_data",
          "data": {
            "text/plain": [
              "<Figure size 1080x1080 with 1 Axes>"
            ],
            "image/png": "[encoded data removed]"
          },
          "metadata": {
            "needs_background": "light"
          }
        }
      ]
    },
    {
      "cell_type": "code",
      "source": [
        "from mpl_toolkits.mplot3d import Axes3D\n",
        "svd = TruncatedSVD(n_components=3)\n",
        "X_svd = svd.fit_transform(X)\n",
        "fig,ax = plt.subplots(figsize = (15,15))\n",
        "ax = fig.gca(projection='3d')\n",
        "ax.scatter(X_svd[:1000,0],X_svd[:1000,1],\n",
        "     X_svd[:1000,2],\n",
        "     zdir='z',s=40,depthshade=True,c=y[:1000])\n",
        "plt.show()"
      ],
      "metadata": {
        "colab": {
          "base_uri": "https://localhost:8080/",
          "height": 904
        },
        "id": "vA2iOOEJ0BKB",
        "outputId": "2c6319be-aad4-40d6-a44d-5ccefe776c67"
      },
      "execution_count": 18,
      "outputs": [
        {
          "output_type": "stream",
          "name": "stderr",
          "text": [
            "/usr/local/lib/python3.7/dist-packages/ipykernel_launcher.py:5: UserWarning: Requested projection is different from current axis projection, creating new axis with requested projection.\n",
            "  \"\"\"\n"
          ]
        },
        {
          "output_type": "display_data",
          "data": {
            "text/plain": [
              "<Figure size 1080x1080 with 2 Axes>"
            ],
            "image/png": "[encoded data removed]"
          },
          "metadata": {
            "needs_background": "light"
          }
        }
      ]
    },
    {
      "cell_type": "markdown",
      "metadata": {
        "id": "P5mcMyy65Kiz"
      },
      "source": [
        "# Premières approches "
      ]
    },
    {
      "cell_type": "code",
      "execution_count": 19,
      "metadata": {
        "id": "niBEZbyh6UfA"
      },
      "outputs": [],
      "source": [
        "def plot_confusion_matrix(cm, classes=classes,\n",
        "                          normalize=False,\n",
        "                          title='Confusion matrix',\n",
        "                          cmap=plt.cm.Blues):\n",
        "    \"\"\"\n",
        "    See full source and example: \n",
        "    http://scikit-learn.org/stable/auto_examples/model_selection/plot_confusion_matrix.html\n",
        "    \n",
        "    This function prints and plots the confusion matrix.\n",
        "    Normalization can be applied by setting `normalize=True`.\n",
        "    \"\"\"\n",
        "    plt.imshow(cm, interpolation='nearest', cmap=cmap)\n",
        "    plt.title(title)\n",
        "    plt.colorbar()\n",
        "    tick_marks = np.arange(len(classes))\n",
        "    plt.xticks(tick_marks, classes, rotation=45)\n",
        "    plt.yticks(tick_marks, classes)\n",
        "\n",
        "    if normalize:\n",
        "        cm = cm.astype('float') / cm.sum(axis=1)[:, np.newaxis]\n",
        "        print(\"Normalized confusion matrix\")\n",
        "    else:\n",
        "        print('Confusion matrix, without normalization')\n",
        "\n",
        "    thresh = 2*cm.max() / 3.\n",
        "    for i, j in itertools.product(range(cm.shape[0]), range(cm.shape[1])):\n",
        "        plt.text(j, i, cm[i, j],\n",
        "                 horizontalalignment=\"center\",\n",
        "                 color=\"white\" if cm[i, j] > thresh else \"black\")\n",
        "\n",
        "    plt.tight_layout()\n",
        "    plt.ylabel('True label')\n",
        "    plt.xlabel('Predicted label')\n",
        "\n",
        "\n",
        "def plot_quad_error(X,y,model):\n",
        "  arr1=[];arr2=[]\n",
        "  size = np.linspace(500,int(len(X)),25).astype('int32')\n",
        "  for m in size:\n",
        "    X_s = X.sample(m)\n",
        "    y_s = y.loc[X_s.index]\n",
        "    X_train,X_val,y_train,y_val = train_test_split(X_s,y_s,train_size=0.8,random_state=0)\n",
        "    clf = model.fit(X_train, y_train)\n",
        "    y_pred_train = clf.predict(X_train)\n",
        "    y_pred_val = clf.predict(X_val)\n",
        "    squarred_error_train = (1/len(y_pred_train))*np.sum((y_pred_train - y_train)**2)\n",
        "    squared_error_CV = (1/len(y_pred_val))*np.sum((y_pred_val - y_val)**2)\n",
        "    arr1.append(squarred_error_train)\n",
        "    arr2.append(squared_error_CV)\n",
        "\n",
        "  plt.plot(size,arr1,label='train error')\n",
        "  plt.plot(size,arr2,label='cv error')\n",
        "  plt.xlabel(\"Training Size\")\n",
        "  plt.gca().set_xlim([100,len(X)])\n",
        "  plt.ylabel(\"Quadratic Error\")\n",
        "  plt.title(\"Model Evaluation\")\n",
        "  plt.legend()\n",
        "  plt.show()"
      ]
    },
    {
      "cell_type": "markdown",
      "metadata": {
        "id": "pkOMzjASJd3_"
      },
      "source": [
        "## Logistic Regression special application (only for True vs False)"
      ]
    },
    {
      "cell_type": "markdown",
      "metadata": {
        "id": "7uZgCJHcuZlj"
      },
      "source": [
        "### special preprocessing based on frequency transformation\n",
        "\n",
        "Before running the classifier we need to compute the fake frequency and non fake frequency of each word. By this I mean counting each word appareance in the fake corpus (set of all fake post) and in the non fake corpus (set of all non fake post. From approximatively 3000 features one corresponding to each word we are now only dealing with 2."
      ]
    },
    {
      "cell_type": "code",
      "execution_count": 20,
      "metadata": {
        "id": "l1WsjBzWuWiZ"
      },
      "outputs": [],
      "source": [
        "# Last step of preprocessing = vectorizing the text\n",
        "text = np.concatenate((df_train[\"text\"],df_test[\"text\"]))\n",
        "label = np.concatenate((df_train[\"label\"],df_test[\"label\"]))\n",
        "\n",
        "arr = [i for i in range(len(df_train)+len(df_test))]\n",
        "idx = np.random.choice(arr,300)\n",
        "text = np.concatenate((df_train[\"text\"],df_test[\"text\"]))\n",
        "text = text[idx]\n",
        "label = label[idx]\n",
        "\n",
        "text_normalizer=TextNormalizer(lowercase=True)  \n",
        "text=text_normalizer.fit_transform(text)\n",
        "text = np.array(text)\n",
        "\n",
        "vectorizer = TfidfVectorizer()\n",
        "vectors = vectorizer.fit_transform(text)\n",
        "corpus = np.array(vectorizer.get_feature_names())"
      ]
    },
    {
      "cell_type": "code",
      "execution_count": 21,
      "metadata": {
        "id": "bLsF3P9jugyv"
      },
      "outputs": [],
      "source": [
        "def get_fake_no_fake_text(text):\n",
        "  fake_text = np.array(text[label == 0])\n",
        "  non_fake_text = np.array(text[label == 1])\n",
        "  return fake_text,non_fake_text\n",
        "\n",
        "def compute_frequency(fake_text,non_fake_text):\n",
        "  # Computes 2 different frequency use of dictionary for O(1) time acces to value of a paticular word\n",
        "  fake_text = \" \".join(fake_text)\n",
        "  fake_text = word_tokenize(fake_text)\n",
        "  non_fake_text = \" \".join(non_fake_text)\n",
        "  non_fake_text = word_tokenize(non_fake_text)\n",
        "  corpus = np.unique(np.concatenate((fake_text,non_fake_text),axis=0))\n",
        "\n",
        "  FakeFreq = {w:0 for w in corpus}\n",
        "  NonFakeFreq = {w:0 for w in corpus}\n",
        "\n",
        "  for word in fake_text:\n",
        "    FakeFreq[word] += 1\n",
        "\n",
        "  for word in non_fake_text:\n",
        "    NonFakeFreq[word] += 1\n",
        "\n",
        "  return FakeFreq,NonFakeFreq"
      ]
    },
    {
      "cell_type": "markdown",
      "metadata": {
        "id": "0NDkzoLDx96V"
      },
      "source": [
        "Before running the logistic regression algorithm we need to compute the frequency of each word in the 2 corpus\n",
        "<br>\n",
        "\n",
        "The training example will the have the following format with 1 for the bias term. \n",
        "$$ X^{(i)} = \\begin{pmatrix}\n",
        "1 \\\\\n",
        "X_{Fake}^{(i)} \\\\\n",
        "X_{NoFake}^{(i)} \n",
        "\\end{pmatrix} $$\n"
      ]
    },
    {
      "cell_type": "code",
      "execution_count": 22,
      "metadata": {
        "id": "qFPiDlUkzo9p"
      },
      "outputs": [],
      "source": [
        "fake_text,non_fake_text= get_fake_no_fake_text(text)\n",
        "FakeFreq,NonFakeFreq = compute_frequency(fake_text,non_fake_text)"
      ]
    },
    {
      "cell_type": "code",
      "execution_count": 23,
      "metadata": {
        "id": "mN4X2ogMzoDQ"
      },
      "outputs": [],
      "source": [
        "def feat_extraction_fake(row):\n",
        "  row_text = word_tokenize(row)\n",
        "  sum_fake_freq = 0\n",
        "  for word in row_text:\n",
        "    sum_fake_freq += FakeFreq[word]\n",
        "  return sum_fake_freq\n",
        "\n",
        "def feat_extraction_no_fake(row):\n",
        "  row_text = word_tokenize(row)\n",
        "  sum_non_fake_freq = 0\n",
        "  for word in row_text:\n",
        "    sum_non_fake_freq += NonFakeFreq[word]\n",
        "  return sum_non_fake_freq"
      ]
    },
    {
      "cell_type": "code",
      "execution_count": 24,
      "metadata": {
        "id": "OQVrIheJqwfj"
      },
      "outputs": [],
      "source": [
        "dfbis_train = pd.DataFrame(text,columns=[\"text\"])\n",
        "dfbis_train[\"bias\"] = 1\n",
        "dfbis_train[\"fake\"] = dfbis_train[\"text\"].apply(feat_extraction_fake)\n",
        "dfbis_train[\"no fake\"] = dfbis_train[\"text\"].apply(feat_extraction_no_fake)\n",
        "\n",
        "X = dfbis_train[[\"fake\",\"no fake\"]]\n",
        "y = pd.DataFrame(label,columns=[\"truthRating\"])"
      ]
    },
    {
      "cell_type": "markdown",
      "metadata": {
        "id": "eR2NsWz-BiHe"
      },
      "source": [
        "Logistic Regression implementation:\n",
        "<br>\n",
        "In short we are the trying to minimize the following cost function with the help to the famous gradient descent algorithm.\n",
        "<br>\n",
        "$$ J(θ) = -\\dfrac{1}{m}*\\sum_{i=1}^{m}[ \\log h(x^{(i)},θ) + (1 - y^{(i)})*log(1 - h(x^{(i)},θ))] $$\n",
        "<br>\n",
        "with h the sigmoid function define as follow $$ h(x^{i},θ) = \\dfrac{1}{1 + e^{-θ^{T}*x^{(i)}}} $$\n",
        "\n",
        "<br>\n",
        "\n",
        "$m =$ number of training examples\n",
        "<br>\n",
        "\n",
        "$x(i) =$ i-th example of the training set \n",
        "<br>\n",
        "\n",
        "Thus we make sure to resolve a convex problem and by this gradient descent find a global minima."
      ]
    },
    {
      "cell_type": "markdown",
      "metadata": {
        "id": "31SEMHPhuvQx"
      },
      "source": [
        "Training"
      ]
    },
    {
      "cell_type": "code",
      "execution_count": 25,
      "metadata": {
        "id": "yyaETv45yo6_",
        "colab": {
          "base_uri": "https://localhost:8080/"
        },
        "outputId": "fe7a9da2-7a34-44ea-db49-47be689081e6"
      },
      "outputs": [
        {
          "output_type": "stream",
          "name": "stdout",
          "text": [
            "accuracy 0.75\n",
            "              precision    recall  f1-score   support\n",
            "\n",
            "     No Fake       0.71      0.83      0.76        29\n",
            "        Fake       0.81      0.68      0.74        31\n",
            "\n",
            "    accuracy                           0.75        60\n",
            "   macro avg       0.76      0.75      0.75        60\n",
            "weighted avg       0.76      0.75      0.75        60\n",
            "\n"
          ]
        },
        {
          "output_type": "stream",
          "name": "stderr",
          "text": [
            "/usr/local/lib/python3.7/dist-packages/sklearn/utils/validation.py:993: DataConversionWarning: A column-vector y was passed when a 1d array was expected. Please change the shape of y to (n_samples, ), for example using ravel().\n",
            "  y = column_or_1d(y, warn=True)\n"
          ]
        }
      ],
      "source": [
        "X_train,X_val,y_train,y_val = train_test_split(X,y,train_size=0.8,random_state=0)\n",
        "\n",
        "clf = LogisticRegression(random_state=0).fit(X_train, y_train)\n",
        "\n",
        "y_pred = clf.predict(X_val)\n",
        "\n",
        "target_names = [\"No Fake\",\"Fake\"]\n",
        "\n",
        "print('accuracy %s' % accuracy_score(y_pred, y_val))\n",
        "print(classification_report(y_val, y_pred, target_names=target_names))"
      ]
    },
    {
      "cell_type": "code",
      "execution_count": 26,
      "metadata": {
        "id": "ah5UYvHR2AkM",
        "colab": {
          "base_uri": "https://localhost:8080/",
          "height": 330
        },
        "outputId": "0afdbf40-94e9-4f01-e2d8-925e75ae9020"
      },
      "outputs": [
        {
          "output_type": "stream",
          "name": "stdout",
          "text": [
            "Confusion matrix, without normalization\n"
          ]
        },
        {
          "output_type": "display_data",
          "data": {
            "text/plain": [
              "<Figure size 432x288 with 2 Axes>"
            ],
            "image/png": "[encoded data removed]"
          },
          "metadata": {
            "needs_background": "light"
          }
        }
      ],
      "source": [
        "plot_confusion_matrix(confusion_matrix(y_val, y_pred), classes=[\"Fake\",\"No Fake\"])"
      ]
    },
    {
      "cell_type": "markdown",
      "metadata": {
        "id": "orDvOWUR2WNp"
      },
      "source": [
        "Etant donnée la simplicité de nos features seulement 2 il n'est pas nécesaire ici d'appliquer des algorithmes de classifications plus performant sachant qu'ici une simple regression répond très bien à notre problème."
      ]
    },
    {
      "cell_type": "markdown",
      "metadata": {
        "id": "jUHxo9K61Tjm"
      },
      "source": [
        "## Naives Bayes"
      ]
    },
    {
      "cell_type": "markdown",
      "metadata": {
        "id": "-Z9pNHtg8W3Z"
      },
      "source": [
        "<br>\n",
        "\n",
        "Naives Bayes Approach Inference Rules for binary classification.\n",
        "<br>\n",
        "\n",
        "$$\\prod_{i=1}^{n} \\dfrac{P \\left( wi \\middle| \\ Fake \\right)}{P \\left( wi \\middle| \\ NonFake \\right)}$$\n",
        "<br>\n",
        "This expression says that we're going to take the product across all of the words (n words) in a post of the probability for each word in the fake class divide it by the probability in the non fake class\n",
        "<br>\n",
        "\n",
        "Laplacian Smoothing technique to avoid zero probability issue with the formula above\n",
        "<br>\n",
        "\n",
        "$$P \\left( wi \\middle| \\ class \\right) = \\dfrac{freq(wi,class)+1}{Nc + Vc} \\\\ class \\in \\{ Fake , Non Fake \\} $$\n",
        "<br>\n",
        "\n",
        "$N_c = \\ $frequency of all words in class \n",
        "class\n",
        "<br>\n",
        "\n",
        "​$V =\\ $number of unique words in vocabulary\n",
        "<br>"
      ]
    },
    {
      "cell_type": "code",
      "execution_count": 20,
      "metadata": {
        "id": "87tfMjlcK64L"
      },
      "outputs": [],
      "source": [
        "X = df_train[\"text\"]\n",
        "y = df_train[\"ratingName\"] \n",
        "\n",
        "text_normalizer= TextNormalizer(removestopwords=True,lowercase=True,getstemmer=True,removedigit=True) \n",
        "X=text_normalizer.fit_transform(X)"
      ]
    },
    {
      "cell_type": "code",
      "execution_count": 21,
      "metadata": {
        "colab": {
          "base_uri": "https://localhost:8080/"
        },
        "id": "7MUpJblbD0Jz",
        "outputId": "864a173e-ead2-4424-e6da-5a48865eb75d"
      },
      "outputs": [
        {
          "output_type": "stream",
          "name": "stdout",
          "text": [
            "accuracy 0.5041597337770383\n",
            "              precision    recall  f1-score   support\n",
            "\n",
            "        True       0.55      0.50      0.52      1220\n",
            "       False       0.50      0.66      0.57      1203\n",
            "     MIXTURE       0.46      0.35      0.40      1183\n",
            "\n",
            "    accuracy                           0.50      3606\n",
            "   macro avg       0.50      0.50      0.50      3606\n",
            "weighted avg       0.50      0.50      0.50      3606\n",
            "\n"
          ]
        }
      ],
      "source": [
        "X_train,X_val,y_train,y_val = train_test_split(X,y,train_size=0.7,random_state=0)\n",
        "\n",
        "nb = Pipeline([('vect', TfidfVectorizer()),\n",
        "               ('tfidf', TfidfTransformer()),\n",
        "               ('clf', MultinomialNB()),\n",
        "              ])\n",
        "nb.fit(X_train, y_train)\n",
        "\n",
        "y_pred = nb.predict(X_val)\n",
        "\n",
        "print('accuracy %s' % accuracy_score(y_pred, y_val))\n",
        "print(classification_report(y_val, y_pred,target_names=classes))"
      ]
    },
    {
      "cell_type": "markdown",
      "metadata": {
        "id": "LjIDmkrAGXLa"
      },
      "source": [
        "# ML Comparaison de tous les classifieurs"
      ]
    },
    {
      "cell_type": "markdown",
      "metadata": {
        "id": "p_bqvgoUCNf9"
      },
      "source": [
        "## Cross Validation"
      ]
    },
    {
      "cell_type": "code",
      "execution_count": 27,
      "metadata": {
        "id": "c2qbEYCDCQ_U"
      },
      "outputs": [],
      "source": [
        "X = df_train[\"text\"]\n",
        "y = df_train[\"label\"]\n",
        "# found when testing different parameters in the preprocessing  \n",
        "text_normalizer= TextNormalizer(removestopwords=False,lowercase=True,getstemmer=False,removedigit=False) \n",
        "X=text_normalizer.fit_transform(X)\n",
        "\n",
        "models = []\n",
        "models.append(('LRegression', LogisticRegression()))\n",
        "models.append(('KNN', KNeighborsClassifier()))\n",
        "models.append(('MultinomialNB', MultinomialNB()))\n",
        "models.append(('DecisionTreeClassifier', DecisionTreeClassifier()))\n",
        "models.append(('SVM', SVC()))\n",
        "models.append(('SGDClassifier',SGDClassifier()))\n",
        "models.append(('RandomForest', RandomForestClassifier()))\n",
        "models.append(('PassiveAggressiveClassifier',PassiveAggressiveClassifier()))"
      ]
    },
    {
      "cell_type": "code",
      "execution_count": 28,
      "metadata": {
        "colab": {
          "base_uri": "https://localhost:8080/"
        },
        "id": "M_i7PAfLCU44",
        "outputId": "db199de5-52a7-4b02-c77e-1326ab0ca90a"
      },
      "outputs": [
        {
          "output_type": "stream",
          "name": "stderr",
          "text": [
            "/usr/local/lib/python3.7/dist-packages/sklearn/linear_model/_logistic.py:818: ConvergenceWarning: lbfgs failed to converge (status=1):\n",
            "STOP: TOTAL NO. of ITERATIONS REACHED LIMIT.\n",
            "\n",
            "Increase the number of iterations (max_iter) or scale the data as shown in:\n",
            "    https://scikit-learn.org/stable/modules/preprocessing.html\n",
            "Please also refer to the documentation for alternative solver options:\n",
            "    https://scikit-learn.org/stable/modules/linear_model.html#logistic-regression\n",
            "  extra_warning_msg=_LOGISTIC_SOLVER_CONVERGENCE_MSG,\n",
            "/usr/local/lib/python3.7/dist-packages/sklearn/linear_model/_logistic.py:818: ConvergenceWarning: lbfgs failed to converge (status=1):\n",
            "STOP: TOTAL NO. of ITERATIONS REACHED LIMIT.\n",
            "\n",
            "Increase the number of iterations (max_iter) or scale the data as shown in:\n",
            "    https://scikit-learn.org/stable/modules/preprocessing.html\n",
            "Please also refer to the documentation for alternative solver options:\n",
            "    https://scikit-learn.org/stable/modules/linear_model.html#logistic-regression\n",
            "  extra_warning_msg=_LOGISTIC_SOLVER_CONVERGENCE_MSG,\n",
            "/usr/local/lib/python3.7/dist-packages/sklearn/linear_model/_logistic.py:818: ConvergenceWarning: lbfgs failed to converge (status=1):\n",
            "STOP: TOTAL NO. of ITERATIONS REACHED LIMIT.\n",
            "\n",
            "Increase the number of iterations (max_iter) or scale the data as shown in:\n",
            "    https://scikit-learn.org/stable/modules/preprocessing.html\n",
            "Please also refer to the documentation for alternative solver options:\n",
            "    https://scikit-learn.org/stable/modules/linear_model.html#logistic-regression\n",
            "  extra_warning_msg=_LOGISTIC_SOLVER_CONVERGENCE_MSG,\n",
            "/usr/local/lib/python3.7/dist-packages/sklearn/linear_model/_logistic.py:818: ConvergenceWarning: lbfgs failed to converge (status=1):\n",
            "STOP: TOTAL NO. of ITERATIONS REACHED LIMIT.\n",
            "\n",
            "Increase the number of iterations (max_iter) or scale the data as shown in:\n",
            "    https://scikit-learn.org/stable/modules/preprocessing.html\n",
            "Please also refer to the documentation for alternative solver options:\n",
            "    https://scikit-learn.org/stable/modules/linear_model.html#logistic-regression\n",
            "  extra_warning_msg=_LOGISTIC_SOLVER_CONVERGENCE_MSG,\n",
            "/usr/local/lib/python3.7/dist-packages/sklearn/linear_model/_logistic.py:818: ConvergenceWarning: lbfgs failed to converge (status=1):\n",
            "STOP: TOTAL NO. of ITERATIONS REACHED LIMIT.\n",
            "\n",
            "Increase the number of iterations (max_iter) or scale the data as shown in:\n",
            "    https://scikit-learn.org/stable/modules/preprocessing.html\n",
            "Please also refer to the documentation for alternative solver options:\n",
            "    https://scikit-learn.org/stable/modules/linear_model.html#logistic-regression\n",
            "  extra_warning_msg=_LOGISTIC_SOLVER_CONVERGENCE_MSG,\n"
          ]
        },
        {
          "output_type": "stream",
          "name": "stdout",
          "text": [
            "LRegression: 0.543677 (0.014973)\n",
            "KNN: 0.458819 (0.007064)\n",
            "MultinomialNB: 0.527621 (0.016075)\n",
            "DecisionTreeClassifier: 0.465058 (0.009200)\n",
            "SVM: 0.548502 (0.011058)\n",
            "SGDClassifier: 0.532196 (0.011330)\n",
            "RandomForest: 0.542512 (0.010665)\n",
            "PassiveAggressiveClassifier: 0.482696 (0.012183)\n"
          ]
        }
      ],
      "source": [
        "results = []\n",
        "names = []\n",
        "scoring = 'accuracy'\n",
        "for name, model in models:\n",
        "  kfold = KFold(n_splits=5, shuffle=True)\n",
        "  model = make_pipeline(TfidfVectorizer(), model)\n",
        "  cv_results = cross_val_score(model, X, y, cv=kfold, scoring=scoring)\n",
        "  results.append(cv_results)\n",
        "  names.append(name)\n",
        "  msg = \"%s: %f (%f)\" % (name, cv_results.mean(), cv_results.std())\n",
        "  print(msg)"
      ]
    },
    {
      "cell_type": "code",
      "execution_count": 29,
      "metadata": {
        "colab": {
          "base_uri": "https://localhost:8080/",
          "height": 634
        },
        "id": "MfRRViySCd1q",
        "outputId": "e418a558-9062-40df-da80-4898fc839849"
      },
      "outputs": [
        {
          "output_type": "display_data",
          "data": {
            "text/plain": [
              "<Figure size 576x576 with 1 Axes>"
            ],
            "image/png": "[encoded data removed]"
          },
          "metadata": {
            "needs_background": "light"
          }
        }
      ],
      "source": [
        "fig = plt.figure(figsize=(8,8))\n",
        "if len(classes)>2:\n",
        "  fig.suptitle('Comparison of models {} vs {} vs {}'.format(classes[0],classes[1],classes[2]))\n",
        "else:\n",
        "  fig.suptitle('Comparison of models {} vs {}'.format(classes[0],classes[1]))  \n",
        "ax = fig.add_subplot(111)\n",
        "ax.boxplot(results)\n",
        "ax.set_xticklabels(names,rotation = 45)\n",
        "plt.show()"
      ]
    },
    {
      "cell_type": "markdown",
      "metadata": {
        "id": "6yALCXJ1BMor"
      },
      "source": [
        "## Grid Search CV affinement des meilleurs paramètres\n",
        "\n"
      ]
    },
    {
      "cell_type": "markdown",
      "metadata": {
        "id": "srLlVE9pDdB-"
      },
      "source": [
        "### Logistic Regression"
      ]
    },
    {
      "cell_type": "code",
      "execution_count": 37,
      "metadata": {
        "colab": {
          "base_uri": "https://localhost:8080/"
        },
        "id": "OuH-2dLmk8GF",
        "outputId": "f037de34-d12f-46ef-e77d-a13ee469b81e"
      },
      "outputs": [
        {
          "output_type": "stream",
          "name": "stdout",
          "text": [
            "Evaluation des différentes configurations : \n",
            "Pipeline             Score\n",
            "-----------------  -------\n",
            "TFIDF_lowcase       0.5090\n",
            "TFIDF_lowStop       0.5090\n",
            "TFIDF_brut          0.5090\n",
            "CV_brut             0.5000\n",
            "CV_lowcase          0.5000\n",
            "CV_lowStop          0.5000\n",
            "TFIDF_lowStopna     0.4990\n",
            "TFIDF_lowStopstem   0.4980\n",
            "CV_lowStopstem      0.4720\n",
            "CV_lowStopna        0.4690\n"
          ]
        }
      ],
      "source": [
        "X = df_train[\"text\"]\n",
        "y = df_train[\"label\"] \n",
        "\n",
        "X_s = X.sample(1000)\n",
        "y_s = y.loc[X_s.index]\n",
        "preprocess_selection(\"logistic_regression\",LogisticRegression(),X_s,y_s)"
      ]
    },
    {
      "cell_type": "code",
      "source": [
        "X = df_train[\"text\"]\n",
        "y = df_train[\"label\"]\n",
        "\n",
        "# put text normalizer in the pipe is a bad idea because of the very long time processing\n",
        "text_normalizer = TextNormalizer(removestopwords=False,lowercase=True,getstemmer=False,removedigit=False)\n",
        "X = text_normalizer.fit_transform(X)\n",
        "\n",
        "X_train,X_val,y_train,y_val = train_test_split(X,y,train_size=0.8,random_state=0)\n",
        "\n",
        "pipe = Pipeline([('vect', TfidfVectorizer()),\n",
        "               ('clf', LogisticRegression(solver='lbfgs')),\n",
        "               ])\n",
        "\n",
        "grid = {\"clf__penalty\": ['l2' ,'none'],\n",
        "        \"clf__C\":np.logspace(-2,2,4),\n",
        "        \"clf__max_iter\":[100,1000]}\n",
        "\n",
        "gd_srLR = GridSearchCV(pipe,  \n",
        "                     param_grid=grid,\n",
        "                     scoring='accuracy',\n",
        "                     cv=5,\n",
        "                     n_jobs=-1,\n",
        "                    return_train_score=True)\n",
        "\n",
        "gd_srLR.fit(X_train, y_train)\n",
        "print('meilleur score ',\n",
        " gd_srLR.best_score_,'\\n')\n",
        "print('meilleurs paramètres',\n",
        " gd_srLR.best_params_,'\\n')\n",
        "print('meilleur estimateur',\n",
        "gd_srLR.best_estimator_,'\\n')"
      ],
      "metadata": {
        "colab": {
          "base_uri": "https://localhost:8080/"
        },
        "id": "bGKhiBxw8CAc",
        "outputId": "946a3d62-de6e-4be4-900a-a5d203428bee"
      },
      "execution_count": 39,
      "outputs": [
        {
          "output_type": "stream",
          "name": "stdout",
          "text": [
            "meilleur score  0.5341087156999793 \n",
            "\n",
            "meilleurs paramètres {'clf__C': 0.21544346900318834, 'clf__max_iter': 100, 'clf__penalty': 'l2'} \n",
            "\n",
            "meilleur estimateur Pipeline(steps=[('vect', TfidfVectorizer()),\n",
            "                ('clf', LogisticRegression(C=0.21544346900318834))]) \n",
            "\n"
          ]
        }
      ]
    },
    {
      "cell_type": "code",
      "execution_count": 40,
      "metadata": {
        "colab": {
          "base_uri": "https://localhost:8080/",
          "height": 587
        },
        "id": "HV2ReMyKI3VG",
        "outputId": "a34c49be-6301-4371-f9d6-4dacd68635f4"
      },
      "outputs": [
        {
          "output_type": "stream",
          "name": "stdout",
          "text": [
            "\n",
            " accuracy:  0.5353577371048253 \n",
            "\n",
            "\n",
            "               precision    recall  f1-score   support\n",
            "\n",
            "        True       0.50      0.35      0.41       793\n",
            "       False       0.56      0.61      0.58       814\n",
            "     MIXTURE       0.53      0.65      0.58       797\n",
            "\n",
            "    accuracy                           0.54      2404\n",
            "   macro avg       0.53      0.53      0.53      2404\n",
            "weighted avg       0.53      0.54      0.53      2404\n",
            "\n",
            "Confusion matrix, without normalization\n"
          ]
        },
        {
          "output_type": "display_data",
          "data": {
            "text/plain": [
              "<Figure size 432x288 with 2 Axes>"
            ],
            "image/png": "[encoded data removed]"
          },
          "metadata": {
            "needs_background": "light"
          }
        }
      ],
      "source": [
        "# Creation d'une instance de l'algorithme en utilisant les meilleurs paramètres\n",
        "lr = gd_srLR.best_estimator_\n",
        "\n",
        "lr.fit(X_train, y_train)\n",
        "y_pred = lr.predict(X_val)\n",
        "print('\\n accuracy: ', accuracy_score(y_pred, y_val),'\\n')\n",
        "\n",
        "print('\\n',classification_report(y_val, y_pred,target_names=classes))\n",
        "plot_confusion_matrix(confusion_matrix(y_val, y_pred),classes = classes)"
      ]
    },
    {
      "cell_type": "markdown",
      "metadata": {
        "id": "RNWuM1Bp5D6f"
      },
      "source": [
        "Overfitting, Underfitting ?"
      ]
    },
    {
      "cell_type": "code",
      "execution_count": 41,
      "metadata": {
        "colab": {
          "base_uri": "https://localhost:8080/",
          "height": 294
        },
        "id": "QydKI9pQ48fp",
        "outputId": "d5bd8a08-0cbc-4dc9-c0a6-f331d835f0be"
      },
      "outputs": [
        {
          "output_type": "display_data",
          "data": {
            "text/plain": [
              "<Figure size 432x288 with 1 Axes>"
            ],
            "image/png": "[encoded data removed]"
          },
          "metadata": {
            "needs_background": "light"
          }
        }
      ],
      "source": [
        "X = df_train[\"text\"]\n",
        "y = df_train[\"label\"]\n",
        "text_normalizer = TextNormalizer(removestopwords=True,lowercase=True,getstemmer=True,removedigit=False)\n",
        "X = text_normalizer.fit_transform(X)\n",
        "X = pd.Series(X)\n",
        "plot_quad_error(X,y,lr)"
      ]
    },
    {
      "cell_type": "markdown",
      "metadata": {
        "id": "YxyKCeTAxpyP"
      },
      "source": [
        "Evaluation sur le test set"
      ]
    },
    {
      "cell_type": "code",
      "execution_count": 42,
      "metadata": {
        "colab": {
          "base_uri": "https://localhost:8080/",
          "height": 587
        },
        "id": "dj3hQmjKxn1u",
        "outputId": "7f259417-09a9-49ef-ca55-040c7b65fb3a"
      },
      "outputs": [
        {
          "output_type": "stream",
          "name": "stdout",
          "text": [
            "\n",
            " accuracy:  0.5 \n",
            "\n",
            "\n",
            "               precision    recall  f1-score   support\n",
            "\n",
            "        True       0.48      0.44      0.45       443\n",
            "       False       0.53      0.55      0.54       468\n",
            "     MIXTURE       0.49      0.51      0.50       425\n",
            "\n",
            "    accuracy                           0.50      1336\n",
            "   macro avg       0.50      0.50      0.50      1336\n",
            "weighted avg       0.50      0.50      0.50      1336\n",
            "\n",
            "Confusion matrix, without normalization\n"
          ]
        },
        {
          "output_type": "display_data",
          "data": {
            "text/plain": [
              "<Figure size 432x288 with 2 Axes>"
            ],
            "image/png": "[encoded data removed]"
          },
          "metadata": {
            "needs_background": "light"
          }
        }
      ],
      "source": [
        "X_test,y_test = df_test[\"text\"],df_test[\"label\"]\n",
        "y_pred = lr.predict(X_test)\n",
        "print('\\n accuracy: ', accuracy_score(y_pred, y_test),'\\n')\n",
        "\n",
        "print('\\n',classification_report(y_test, y_pred,target_names=classes))\n",
        "plot_confusion_matrix(confusion_matrix(y_test, y_pred),classes = classes)"
      ]
    },
    {
      "cell_type": "markdown",
      "source": [
        "### SVC"
      ],
      "metadata": {
        "id": "7Lf0nU7N-Vhl"
      }
    },
    {
      "cell_type": "code",
      "source": [
        "X = df_train[\"text\"]\n",
        "y = df_train[\"label\"] \n",
        "\n",
        "X_s = X.sample(1000)\n",
        "y_s = y.loc[X_s.index]\n",
        "preprocess_selection(\"SVC\",SVC(),X_s,y_s)"
      ],
      "metadata": {
        "id": "OCD3jSMc-Yup",
        "colab": {
          "base_uri": "https://localhost:8080/"
        },
        "outputId": "2c8c509f-33e3-48ac-a5a1-012f93b7bedb"
      },
      "execution_count": 110,
      "outputs": [
        {
          "output_type": "stream",
          "name": "stdout",
          "text": [
            "Evaluation des différentes configurations : \n",
            "Pipeline             Score\n",
            "-----------------  -------\n",
            "CV_brut             0.4910\n",
            "CV_lowcase          0.4910\n",
            "CV_lowStop          0.4910\n",
            "TFIDF_lowcase       0.4870\n",
            "TFIDF_lowStop       0.4870\n",
            "TFIDF_brut          0.4870\n",
            "CV_lowStopstem      0.4800\n",
            "CV_lowStopna        0.4780\n",
            "TFIDF_lowStopstem   0.4620\n",
            "TFIDF_lowStopna     0.4580\n"
          ]
        }
      ]
    },
    {
      "cell_type": "code",
      "source": [
        "X = df_train[\"text\"]\n",
        "y = df_train[\"label\"]\n",
        "# put text normalizer in the pipe is a bad idea because of the very long time processing\n",
        "text_normalizer = TextNormalizer(removestopwords=True,lowercase=True,getstemmer=True,removedigit=True)\n",
        "X = text_normalizer.fit_transform(X)\n",
        "X_train,X_val,y_train,y_val = train_test_split(X,y,train_size=0.8,random_state=0)\n",
        "\n",
        "pipe = Pipeline([('vect', CountVectorizer(lowercase=True)),\n",
        "               ('clf', SVC()),\n",
        "              ])\n",
        "\n",
        "grid = {'clf__C': [100, 1000], \n",
        "        'clf__kernel': ['linear'],\n",
        "        'clf__gamma': [0.001, 0.0001], \n",
        "        'clf__kernel': ['rbf']}\n",
        "\n",
        "gd_srSVC = GridSearchCV(pipe,  \n",
        "                     param_grid=grid,\n",
        "                     scoring='accuracy',\n",
        "                     cv=5,\n",
        "                     n_jobs=-1,\n",
        "                    return_train_score=True)\n",
        "\n",
        "gd_srSVC.fit(X_train, y_train)\n",
        "print('meilleur score ',\n",
        " gd_srSVC.best_score_,'\\n')\n",
        "print('meilleurs paramètres',\n",
        " gd_srSVC.best_params_,'\\n')\n",
        "print('meilleur estimateur',\n",
        "gd_srSVC.best_estimator_,'\\n')\n"
      ],
      "metadata": {
        "id": "3dpz2wZO-bXS",
        "colab": {
          "base_uri": "https://localhost:8080/"
        },
        "outputId": "98003039-bd27-4dac-b413-85e132d52629"
      },
      "execution_count": 111,
      "outputs": [
        {
          "output_type": "stream",
          "name": "stdout",
          "text": [
            "meilleur score  0.5262063996073356 \n",
            "\n",
            "meilleurs paramètres {'clf__C': 100, 'clf__gamma': 0.0001, 'clf__kernel': 'rbf'} \n",
            "\n",
            "meilleur estimateur Pipeline(steps=[('vect', CountVectorizer()), ('clf', SVC(C=100, gamma=0.0001))]) \n",
            "\n"
          ]
        }
      ]
    },
    {
      "cell_type": "code",
      "source": [
        "# Creation d'une instance de l'algorithme en utilisant les meilleurs paramètres\n",
        "lr = gd_srSVC.best_estimator_\n",
        "\n",
        "lr.fit(X_train, y_train)\n",
        "y_pred = lr.predict(X_val)\n",
        "print('\\n accuracy: ', accuracy_score(y_pred, y_val),'\\n')\n",
        "\n",
        "print('\\n',classification_report(y_val, y_pred,target_names=classes))\n",
        "plot_confusion_matrix(confusion_matrix(y_val, y_pred),classes = classes)"
      ],
      "metadata": {
        "id": "CvLZWcIY-gNb",
        "colab": {
          "base_uri": "https://localhost:8080/",
          "height": 587
        },
        "outputId": "c705978e-4548-478b-ed90-1d3de038ddf1"
      },
      "execution_count": 112,
      "outputs": [
        {
          "output_type": "stream",
          "name": "stdout",
          "text": [
            "\n",
            " accuracy:  0.5320299500831946 \n",
            "\n",
            "\n",
            "               precision    recall  f1-score   support\n",
            "\n",
            "        True       0.48      0.36      0.41       758\n",
            "       False       0.59      0.55      0.57       833\n",
            "     MIXTURE       0.51      0.67      0.58       813\n",
            "\n",
            "    accuracy                           0.53      2404\n",
            "   macro avg       0.53      0.53      0.52      2404\n",
            "weighted avg       0.53      0.53      0.52      2404\n",
            "\n",
            "Confusion matrix, without normalization\n"
          ]
        },
        {
          "output_type": "display_data",
          "data": {
            "text/plain": [
              "<Figure size 432x288 with 2 Axes>"
            ],
            "image/png": "[encoded data removed]"
          },
          "metadata": {
            "needs_background": "light"
          }
        }
      ]
    },
    {
      "cell_type": "code",
      "source": [
        "X = df_train[\"text\"]\n",
        "y = df_train[\"label\"]\n",
        "text_normalizer = TextNormalizer(removestopwords=True,lowercase=True,getstemmer=True,removedigit=False)\n",
        "X = text_normalizer.fit_transform(X)\n",
        "X = pd.Series(X)\n",
        "plot_quad_error(X,y,lr)"
      ],
      "metadata": {
        "id": "izu25Agw-kUv",
        "colab": {
          "base_uri": "https://localhost:8080/",
          "height": 294
        },
        "outputId": "45e0421a-b5ba-4d68-a181-67e94df6d58d"
      },
      "execution_count": 113,
      "outputs": [
        {
          "output_type": "display_data",
          "data": {
            "text/plain": [
              "<Figure size 432x288 with 1 Axes>"
            ],
            "image/png": "[encoded data removed]"
          },
          "metadata": {
            "needs_background": "light"
          }
        }
      ]
    },
    {
      "cell_type": "code",
      "source": [
        "X_test,y_test = df_test[\"text\"],df_test[\"label\"]\n",
        "y_pred = lr.predict(X_test)\n",
        "print('\\n accuracy: ', accuracy_score(y_pred, y_test),'\\n')\n",
        "\n",
        "print('\\n',classification_report(y_test, y_pred,target_names=classes))\n",
        "plot_confusion_matrix(confusion_matrix(y_test, y_pred),classes = classes)"
      ],
      "metadata": {
        "id": "m2lQHb9M-pd7",
        "colab": {
          "base_uri": "https://localhost:8080/",
          "height": 587
        },
        "outputId": "aed37190-f502-4538-ade8-a49c4731b2cd"
      },
      "execution_count": 114,
      "outputs": [
        {
          "output_type": "stream",
          "name": "stdout",
          "text": [
            "\n",
            " accuracy:  0.5074850299401198 \n",
            "\n",
            "\n",
            "               precision    recall  f1-score   support\n",
            "\n",
            "        True       0.48      0.55      0.51       474\n",
            "       False       0.58      0.32      0.41       437\n",
            "     MIXTURE       0.50      0.65      0.57       425\n",
            "\n",
            "    accuracy                           0.51      1336\n",
            "   macro avg       0.52      0.51      0.50      1336\n",
            "weighted avg       0.52      0.51      0.50      1336\n",
            "\n",
            "Confusion matrix, without normalization\n"
          ]
        },
        {
          "output_type": "display_data",
          "data": {
            "text/plain": [
              "<Figure size 432x288 with 2 Axes>"
            ],
            "image/png": "[encoded data removed]"
          },
          "metadata": {
            "needs_background": "light"
          }
        }
      ]
    },
    {
      "cell_type": "markdown",
      "metadata": {
        "id": "P4XFbUHv3Jzk"
      },
      "source": [
        "### MultinomialNB"
      ]
    },
    {
      "cell_type": "code",
      "execution_count": 115,
      "metadata": {
        "colab": {
          "base_uri": "https://localhost:8080/"
        },
        "id": "DKDRMZyj3OAm",
        "outputId": "94673fa6-6efa-4808-dc88-bea4840e6727"
      },
      "outputs": [
        {
          "output_type": "stream",
          "name": "stdout",
          "text": [
            "Evaluation des différentes configurations : \n",
            "Pipeline             Score\n",
            "-----------------  -------\n",
            "TFIDF_lowcase       0.4820\n",
            "TFIDF_lowStop       0.4820\n",
            "TFIDF_brut          0.4820\n",
            "CV_brut             0.4760\n",
            "CV_lowcase          0.4760\n",
            "CV_lowStop          0.4760\n",
            "CV_lowStopna        0.4710\n",
            "CV_lowStopstem      0.4670\n",
            "TFIDF_lowStopna     0.4630\n",
            "TFIDF_lowStopstem   0.4610\n"
          ]
        }
      ],
      "source": [
        "X = df_train[\"text\"]\n",
        "y = df_train[\"label\"] \n",
        "\n",
        "X_s = X.sample(1000)\n",
        "y_s = y.loc[X_s.index]\n",
        "preprocess_selection(\"MuntinomialNB\",MultinomialNB(),X_s,y_s)"
      ]
    },
    {
      "cell_type": "code",
      "execution_count": 116,
      "metadata": {
        "colab": {
          "base_uri": "https://localhost:8080/"
        },
        "id": "xOOZw9T1i4NG",
        "outputId": "421ad282-4264-474e-87a8-eeee0d55e419"
      },
      "outputs": [
        {
          "output_type": "stream",
          "name": "stdout",
          "text": [
            "meilleur score  0.512687156134894 \n",
            "\n",
            "meilleurs paramètres {'clf__alpha': 1.5, 'clf__fit_prior': True} \n",
            "\n",
            "meilleur estimateur Pipeline(steps=[('vect', TfidfVectorizer()), ('clf', MultinomialNB(alpha=1.5))]) \n",
            "\n"
          ]
        }
      ],
      "source": [
        "X = df_train[\"text\"]\n",
        "y = df_train[\"label\"]\n",
        "# put text normalizer in the pipe is a bad idea because of the very long time processing\n",
        "text_normalizer = TextNormalizer(removestopwords=True,lowercase=True,getstemmer=True,removedigit=False)\n",
        "X = text_normalizer.fit_transform(X)\n",
        "X_train,X_val,y_train,y_val = train_test_split(X,y,train_size=0.8,random_state=0)\n",
        "\n",
        "pipe = Pipeline([('vect', TfidfVectorizer()),\n",
        "               ('clf', MultinomialNB()),\n",
        "              ])\n",
        "\n",
        "grid = {'clf__alpha': np.linspace(0.5, 1.5, 6),\n",
        "        'clf__fit_prior': [True, False],}\n",
        "\n",
        "gd_srMNB = GridSearchCV(pipe,  \n",
        "                     param_grid=grid,\n",
        "                     scoring='accuracy',\n",
        "                     cv=5,\n",
        "                     n_jobs=-1,\n",
        "                    return_train_score=True)\n",
        "\n",
        "gd_srMNB.fit(X_train, y_train)\n",
        "print('meilleur score ',\n",
        " gd_srMNB.best_score_,'\\n')\n",
        "print('meilleurs paramètres',\n",
        " gd_srMNB.best_params_,'\\n')\n",
        "print('meilleur estimateur',\n",
        "gd_srMNB.best_estimator_,'\\n')"
      ]
    },
    {
      "cell_type": "code",
      "execution_count": 117,
      "metadata": {
        "colab": {
          "base_uri": "https://localhost:8080/",
          "height": 587
        },
        "id": "ei967gRjjKeE",
        "outputId": "8544f1cb-3daa-4296-ba4a-fe17a6cff7b1"
      },
      "outputs": [
        {
          "output_type": "stream",
          "name": "stdout",
          "text": [
            "\n",
            " accuracy:  0.519134775374376 \n",
            "\n",
            "\n",
            "               precision    recall  f1-score   support\n",
            "\n",
            "        True       0.48      0.30      0.37       758\n",
            "       False       0.61      0.50      0.55       833\n",
            "     MIXTURE       0.49      0.74      0.59       813\n",
            "\n",
            "    accuracy                           0.52      2404\n",
            "   macro avg       0.52      0.51      0.50      2404\n",
            "weighted avg       0.53      0.52      0.51      2404\n",
            "\n",
            "Confusion matrix, without normalization\n"
          ]
        },
        {
          "output_type": "display_data",
          "data": {
            "text/plain": [
              "<Figure size 432x288 with 2 Axes>"
            ],
            "image/png": "[encoded data removed]"
          },
          "metadata": {
            "needs_background": "light"
          }
        }
      ],
      "source": [
        "#Creation d'une instance de l'algorithme en utilisant les meilleurs paramètres\n",
        "lr = gd_srMNB.best_estimator_\n",
        "\n",
        "lr.fit(X_train, y_train)\n",
        "y_pred = lr.predict(X_val)\n",
        "print('\\n accuracy: ', accuracy_score(y_pred, y_val),'\\n')\n",
        "\n",
        "print('\\n',classification_report(y_val, y_pred,target_names=classes))\n",
        "plot_confusion_matrix(confusion_matrix(y_val, y_pred))"
      ]
    },
    {
      "cell_type": "markdown",
      "metadata": {
        "id": "9Vt3JAJxjUGa"
      },
      "source": [
        "Overfitting underfitting ?"
      ]
    },
    {
      "cell_type": "code",
      "execution_count": 118,
      "metadata": {
        "colab": {
          "base_uri": "https://localhost:8080/",
          "height": 294
        },
        "id": "9NfML2wIjMt3",
        "outputId": "2211d9f5-288d-45e3-9aec-02d2dc66d3af"
      },
      "outputs": [
        {
          "output_type": "display_data",
          "data": {
            "text/plain": [
              "<Figure size 432x288 with 1 Axes>"
            ],
            "image/png": "[encoded data removed]"
          },
          "metadata": {
            "needs_background": "light"
          }
        }
      ],
      "source": [
        "X = df_train[\"text\"]\n",
        "y = df_train[\"label\"]\n",
        "text_normalizer = TextNormalizer(removestopwords=True,lowercase=True,getstemmer=True,removedigit=False)\n",
        "X = text_normalizer.fit_transform(X)\n",
        "X = pd.Series(X)\n",
        "plot_quad_error(X,y,lr)"
      ]
    },
    {
      "cell_type": "markdown",
      "metadata": {
        "id": "TZ5oopPHjQgJ"
      },
      "source": [
        "Evaluation sur le test Set"
      ]
    },
    {
      "cell_type": "code",
      "execution_count": 119,
      "metadata": {
        "colab": {
          "base_uri": "https://localhost:8080/",
          "height": 587
        },
        "id": "cvgo0VrMjPdJ",
        "outputId": "d48ae40d-e7fd-4501-f45b-f831d5f4db1d"
      },
      "outputs": [
        {
          "output_type": "stream",
          "name": "stdout",
          "text": [
            "\n",
            " accuracy:  0.48727544910179643 \n",
            "\n",
            "\n",
            "               precision    recall  f1-score   support\n",
            "\n",
            "        True       0.52      0.28      0.36       474\n",
            "       False       0.53      0.51      0.52       437\n",
            "     MIXTURE       0.45      0.70      0.55       425\n",
            "\n",
            "    accuracy                           0.49      1336\n",
            "   macro avg       0.50      0.50      0.48      1336\n",
            "weighted avg       0.50      0.49      0.47      1336\n",
            "\n",
            "Confusion matrix, without normalization\n"
          ]
        },
        {
          "output_type": "display_data",
          "data": {
            "text/plain": [
              "<Figure size 432x288 with 2 Axes>"
            ],
            "image/png": "[encoded data removed]"
          },
          "metadata": {
            "needs_background": "light"
          }
        }
      ],
      "source": [
        "X_test,y_test = df_test[\"text\"],df_test[\"label\"]\n",
        "y_pred = lr.predict(X_test)\n",
        "print('\\n accuracy: ', accuracy_score(y_pred, y_test),'\\n')\n",
        "\n",
        "print('\\n',classification_report(y_test, y_pred,target_names=classes))\n",
        "plot_confusion_matrix(confusion_matrix(y_test, y_pred),classes = classes)"
      ]
    },
    {
      "cell_type": "markdown",
      "metadata": {
        "id": "GTNQu5KtBihk"
      },
      "source": [
        "### RandomForest"
      ]
    },
    {
      "cell_type": "code",
      "execution_count": 120,
      "metadata": {
        "id": "PtdvsuNeBuFA"
      },
      "outputs": [],
      "source": [
        "# X = df_train[\"text\"]\n",
        "# y = df_train[\"truthRating\"]\n",
        "# text_normalizer= TextNormalizer(removestopwords=False,lowercase=True,getstemmer=False,removedigit=False) \n",
        "# X=text_normalizer.fit_transform(X)"
      ]
    },
    {
      "cell_type": "code",
      "execution_count": 121,
      "metadata": {
        "id": "v-2-yklJB9xg"
      },
      "outputs": [],
      "source": [
        "# X_train,X_val,y_train,y_val = train_test_split(X,y,train_size=0.7,random_state=0)\n",
        "\n",
        "# pipe = Pipeline([('vect', TfidfVectorizer()),\n",
        "#                ('clf', RandomForestClassifier()),\n",
        "#               ])\n",
        "# grid = { \n",
        "#     'clf__n_estimators': [100,200],\n",
        "#     'clf__max_features': ['auto', 'sqrt', 'log2'],\n",
        "#     'clf__max_depth' : [7,8],\n",
        "#     'clf__criterion' :['gini', 'entropy']\n",
        "# }\n",
        "# gd_srLR = GridSearchCV(pipe,  \n",
        "#                      param_grid=grid,\n",
        "#                      scoring='accuracy',\n",
        "#                      cv=5,\n",
        "#                      n_jobs=-1,\n",
        "#                     return_train_score=True)\n",
        "\n",
        "# gd_srLR.fit(X_train, y_train)\n",
        "# print ('meilleur score ',\n",
        "#  gd_srLR.best_score_,'\\n')\n",
        "# print ('meilleurs paramètres',\n",
        "#  gd_srLR.best_params_,'\\n')\n",
        "# print ('meilleur estimateur',\n",
        "# gd_srLR.best_estimator_,'\\n')"
      ]
    },
    {
      "cell_type": "code",
      "execution_count": 122,
      "metadata": {
        "id": "ZXwnkg0uB-pk"
      },
      "outputs": [],
      "source": [
        "# # Creation d'une instance de l'algorithme en utilisant les meilleurs paramètres\n",
        "# lr = gd_srLR.best_estimator_\n",
        "\n",
        "# lr.fit(X_train, y_train)\n",
        "# y_pred = lr.predict(X_val)\n",
        "# print('\\n accuracy: ', accuracy_score(y_pred, y_val),'\\n')\n",
        "\n",
        "# print('\\n',classification_report(y_val, y_pred,target_names=classes))\n",
        "# plot_confusion_matrix(confusion_matrix(y_val, y_pred),classes = classes)"
      ]
    },
    {
      "cell_type": "markdown",
      "metadata": {
        "id": "qEpLC2fvITPA"
      },
      "source": [
        "# Deep learning "
      ]
    },
    {
      "cell_type": "markdown",
      "metadata": {
        "id": "fIVl36Eytiq5"
      },
      "source": [
        "### LSTM"
      ]
    },
    {
      "cell_type": "code",
      "execution_count": 81,
      "metadata": {
        "id": "lVPKO0UyKRe1"
      },
      "outputs": [],
      "source": [
        "from tensorflow import keras\n",
        "from keras.preprocessing.text import Tokenizer\n",
        "from keras.models import Sequential\n",
        "from keras.layers import Embedding\n",
        "from keras.layers import SpatialDropout1D\n",
        "from keras.layers import Dense\n",
        "from keras.layers import LSTM\n",
        "from keras.callbacks import EarlyStopping"
      ]
    },
    {
      "cell_type": "code",
      "source": [
        "X = df_train[\"text\"]\n",
        "y = df_train[\"ratingName\"]\n",
        "\n",
        "text_normalizer= TextNormalizer(removestopwords=True,lowercase=True,getstemmer=True,removedigit=False) \n",
        "X=text_normalizer.fit_transform(X)\n",
        "\n",
        "# The maximum number of words to be used. (most frequent)\n",
        "MAX_NB_WORDS = 50000\n",
        "# Max number of words in each complaint.\n",
        "MAX_SEQUENCE_LENGTH = 250\n",
        "# This is fixed.\n",
        "EMBEDDING_DIM = 100\n",
        "tokenizer = Tokenizer(num_words=MAX_NB_WORDS, filters='!\"#$%&()*+,-./:;<=>?@[\\]^_`{|}~', lower=True)\n",
        "tokenizer.fit_on_texts(X)\n",
        "word_index = tokenizer.word_index\n",
        "print('Found %s unique tokens.' % len(word_index))\n",
        "\n",
        "X = tokenizer.texts_to_sequences(X)\n",
        "X = keras.preprocessing.sequence.pad_sequences(X, maxlen=MAX_SEQUENCE_LENGTH)\n",
        "print('Shape of data tensor:', X.shape)\n",
        "y = pd.get_dummies(y).values\n",
        "print('Shape of label tensor:', y.shape)\n",
        "\n",
        "X_train, X_test, y_train, y_test = train_test_split(X,y, test_size = 0.10, random_state = 42)\n",
        "print(X_train.shape,y_train.shape)\n",
        "print(X_test.shape,y_test.shape)\n"
      ],
      "metadata": {
        "colab": {
          "base_uri": "https://localhost:8080/"
        },
        "id": "MB4ZZSWo7T_o",
        "outputId": "7dbd023d-4465-47b5-849b-ab357f3265b7"
      },
      "execution_count": 82,
      "outputs": [
        {
          "output_type": "stream",
          "name": "stdout",
          "text": [
            "Found 13714 unique tokens.\n",
            "Shape of data tensor: (12020, 250)\n",
            "Shape of label tensor: (12020, 3)\n",
            "(10818, 250) (10818, 3)\n",
            "(1202, 250) (1202, 3)\n"
          ]
        }
      ]
    },
    {
      "cell_type": "code",
      "execution_count": 83,
      "metadata": {
        "colab": {
          "base_uri": "https://localhost:8080/"
        },
        "id": "iruf-B7GN_oq",
        "outputId": "c768a533-3be7-4fef-e1c6-1b6a13e81170"
      },
      "outputs": [
        {
          "output_type": "stream",
          "name": "stdout",
          "text": [
            "WARNING:tensorflow:Layer lstm_2 will not use cuDNN kernels since it doesn't meet the criteria. It will use a generic GPU kernel as fallback when running on GPU.\n",
            "Model: \"sequential_2\"\n",
            "_________________________________________________________________\n",
            " Layer (type)                Output Shape              Param #   \n",
            "=================================================================\n",
            " embedding_2 (Embedding)     (None, 250, 100)          5000000   \n",
            "                                                                 \n",
            " spatial_dropout1d_2 (Spatia  (None, 250, 100)         0         \n",
            " lDropout1D)                                                     \n",
            "                                                                 \n",
            " lstm_2 (LSTM)               (None, 100)               80400     \n",
            "                                                                 \n",
            " dense_2 (Dense)             (None, 3)                 303       \n",
            "                                                                 \n",
            "=================================================================\n",
            "Total params: 5,080,703\n",
            "Trainable params: 5,080,703\n",
            "Non-trainable params: 0\n",
            "_________________________________________________________________\n",
            "None\n",
            "Epoch 1/5\n",
            "153/153 [==============================] - 125s 798ms/step - loss: 1.0263 - accuracy: 0.4639 - val_loss: 0.9810 - val_accuracy: 0.5250\n",
            "Epoch 2/5\n",
            "153/153 [==============================] - 119s 777ms/step - loss: 0.8399 - accuracy: 0.6220 - val_loss: 0.9714 - val_accuracy: 0.5240\n",
            "Epoch 3/5\n",
            "153/153 [==============================] - 118s 773ms/step - loss: 0.6197 - accuracy: 0.7478 - val_loss: 1.0393 - val_accuracy: 0.5092\n",
            "Epoch 4/5\n",
            "153/153 [==============================] - 119s 777ms/step - loss: 0.4581 - accuracy: 0.8220 - val_loss: 1.3220 - val_accuracy: 0.5018\n",
            "Epoch 5/5\n",
            "153/153 [==============================] - 118s 773ms/step - loss: 0.3372 - accuracy: 0.8702 - val_loss: 1.4583 - val_accuracy: 0.4843\n"
          ]
        }
      ],
      "source": [
        "model = Sequential()\n",
        "model.add(Embedding(MAX_NB_WORDS, EMBEDDING_DIM, input_length=X.shape[1]))\n",
        "model.add(SpatialDropout1D(0.2))\n",
        "model.add(LSTM(100, dropout=0.3, recurrent_dropout=0.3))\n",
        "model.add(Dense(y.shape[1], activation='softmax'))\n",
        "model.compile(loss='categorical_crossentropy', optimizer='adam', metrics=['accuracy'])\n",
        "print(model.summary())\n",
        "epochs = 5\n",
        "batch_size = 64\n",
        "\n",
        "history = model.fit(X_train, y_train, epochs=epochs, batch_size=batch_size,validation_split=0.1)"
      ]
    },
    {
      "cell_type": "code",
      "source": [
        "plt.title('Loss')\n",
        "plt.plot(history.history['loss'], label='train')\n",
        "plt.plot(history.history['val_loss'], label='validation')\n",
        "plt.legend()\n",
        "plt.show()"
      ],
      "metadata": {
        "colab": {
          "base_uri": "https://localhost:8080/",
          "height": 281
        },
        "id": "6KW1aVDH9prD",
        "outputId": "9790f0cd-88e1-4ae4-d967-7483f25bf3aa"
      },
      "execution_count": 84,
      "outputs": [
        {
          "output_type": "display_data",
          "data": {
            "text/plain": [
              "<Figure size 432x288 with 1 Axes>"
            ],
            "image/png": "[encoded data removed]"
          },
          "metadata": {
            "needs_background": "light"
          }
        }
      ]
    },
    {
      "cell_type": "code",
      "source": [
        "plt.title('Accuracy for LSTM')\n",
        "plt.plot(history.history['accuracy'], label='train')\n",
        "plt.plot(history.history['val_accuracy'], label='validation')\n",
        "plt.legend()\n",
        "plt.show()"
      ],
      "metadata": {
        "colab": {
          "base_uri": "https://localhost:8080/",
          "height": 281
        },
        "id": "8KxxpeEG9qZm",
        "outputId": "a4c2d6d1-9c0c-47da-8fe8-a39a504b1d95"
      },
      "execution_count": 85,
      "outputs": [
        {
          "output_type": "display_data",
          "data": {
            "text/plain": [
              "<Figure size 432x288 with 1 Axes>"
            ],
            "image/png": "[encoded data removed]"
          },
          "metadata": {
            "needs_background": "light"
          }
        }
      ]
    },
    {
      "cell_type": "markdown",
      "metadata": {
        "id": "l4p6VgqzPD0L"
      },
      "source": [
        "### Fine tuning BERT"
      ]
    },
    {
      "cell_type": "code",
      "execution_count": 100,
      "metadata": {
        "colab": {
          "base_uri": "https://localhost:8080/"
        },
        "id": "65qWrqJygjuX",
        "outputId": "024f6f9e-2a4f-469d-8517-85610d87ccaa"
      },
      "outputs": [
        {
          "output_type": "stream",
          "name": "stdout",
          "text": [
            "Requirement already satisfied: transformers in /usr/local/lib/python3.7/dist-packages (4.18.0)\n",
            "Requirement already satisfied: sacremoses in /usr/local/lib/python3.7/dist-packages (from transformers) (0.0.49)\n",
            "Requirement already satisfied: tqdm>=4.27 in /usr/local/lib/python3.7/dist-packages (from transformers) (4.64.0)\n",
            "Requirement already satisfied: numpy>=1.17 in /usr/local/lib/python3.7/dist-packages (from transformers) (1.21.6)\n",
            "Requirement already satisfied: huggingface-hub<1.0,>=0.1.0 in /usr/local/lib/python3.7/dist-packages (from transformers) (0.5.1)\n",
            "Requirement already satisfied: filelock in /usr/local/lib/python3.7/dist-packages (from transformers) (3.6.0)\n",
            "Requirement already satisfied: pyyaml>=5.1 in /usr/local/lib/python3.7/dist-packages (from transformers) (6.0)\n",
            "Requirement already satisfied: requests in /usr/local/lib/python3.7/dist-packages (from transformers) (2.23.0)\n",
            "Requirement already satisfied: regex!=2019.12.17 in /usr/local/lib/python3.7/dist-packages (from transformers) (2019.12.20)\n",
            "Requirement already satisfied: packaging>=20.0 in /usr/local/lib/python3.7/dist-packages (from transformers) (21.3)\n",
            "Requirement already satisfied: tokenizers!=0.11.3,<0.13,>=0.11.1 in /usr/local/lib/python3.7/dist-packages (from transformers) (0.12.1)\n",
            "Requirement already satisfied: importlib-metadata in /usr/local/lib/python3.7/dist-packages (from transformers) (4.11.3)\n",
            "Requirement already satisfied: typing-extensions>=3.7.4.3 in /usr/local/lib/python3.7/dist-packages (from huggingface-hub<1.0,>=0.1.0->transformers) (4.1.1)\n",
            "Requirement already satisfied: pyparsing!=3.0.5,>=2.0.2 in /usr/local/lib/python3.7/dist-packages (from packaging>=20.0->transformers) (3.0.8)\n",
            "Requirement already satisfied: zipp>=0.5 in /usr/local/lib/python3.7/dist-packages (from importlib-metadata->transformers) (3.8.0)\n",
            "Requirement already satisfied: urllib3!=1.25.0,!=1.25.1,<1.26,>=1.21.1 in /usr/local/lib/python3.7/dist-packages (from requests->transformers) (1.24.3)\n",
            "Requirement already satisfied: idna<3,>=2.5 in /usr/local/lib/python3.7/dist-packages (from requests->transformers) (2.10)\n",
            "Requirement already satisfied: chardet<4,>=3.0.2 in /usr/local/lib/python3.7/dist-packages (from requests->transformers) (3.0.4)\n",
            "Requirement already satisfied: certifi>=2017.4.17 in /usr/local/lib/python3.7/dist-packages (from requests->transformers) (2021.10.8)\n",
            "Requirement already satisfied: click in /usr/local/lib/python3.7/dist-packages (from sacremoses->transformers) (7.1.2)\n",
            "Requirement already satisfied: joblib in /usr/local/lib/python3.7/dist-packages (from sacremoses->transformers) (1.1.0)\n",
            "Requirement already satisfied: six in /usr/local/lib/python3.7/dist-packages (from sacremoses->transformers) (1.15.0)\n"
          ]
        }
      ],
      "source": [
        "import torch\n",
        "from tqdm.notebook import tqdm\n",
        "!pip install transformers\n",
        "from transformers import BertTokenizer\n",
        "from torch.utils.data import TensorDataset\n",
        "from transformers import BertForSequenceClassification"
      ]
    },
    {
      "cell_type": "code",
      "execution_count": 101,
      "metadata": {
        "colab": {
          "base_uri": "https://localhost:8080/",
          "height": 268
        },
        "id": "rI__hcqqFo4X",
        "outputId": "59db649e-5798-49e9-d9ba-efa663ee58d7"
      },
      "outputs": [
        {
          "output_type": "execute_result",
          "data": {
            "text/plain": [
              "                            text\n",
              "ratingName label data_type      \n",
              "False      1     train      3413\n",
              "                 val         602\n",
              "MIXTURE    2     train      3423\n",
              "                 val         604\n",
              "True       0     train      3381\n",
              "                 val         597"
            ],
            "text/html": [
              "\n",
              "  <div id=\"df-08c5c6f8-36a1-4eb0-b738-9353ace4ea29\">\n",
              "    <div class=\"colab-df-container\">\n",
              "      <div>\n",
              "<style scoped>\n",
              "    .dataframe tbody tr th:only-of-type {\n",
              "        vertical-align: middle;\n",
              "    }\n",
              "\n",
              "    .dataframe tbody tr th {\n",
              "        vertical-align: top;\n",
              "    }\n",
              "\n",
              "    .dataframe thead th {\n",
              "        text-align: right;\n",
              "    }\n",
              "</style>\n",
              "<table border=\"1\" class=\"dataframe\">\n",
              "  <thead>\n",
              "    <tr style=\"text-align: right;\">\n",
              "      <th></th>\n",
              "      <th></th>\n",
              "      <th></th>\n",
              "      <th>text</th>\n",
              "    </tr>\n",
              "    <tr>\n",
              "      <th>ratingName</th>\n",
              "      <th>label</th>\n",
              "      <th>data_type</th>\n",
              "      <th></th>\n",
              "    </tr>\n",
              "  </thead>\n",
              "  <tbody>\n",
              "    <tr>\n",
              "      <th rowspan=\"2\" valign=\"top\">False</th>\n",
              "      <th rowspan=\"2\" valign=\"top\">1</th>\n",
              "      <th>train</th>\n",
              "      <td>3413</td>\n",
              "    </tr>\n",
              "    <tr>\n",
              "      <th>val</th>\n",
              "      <td>602</td>\n",
              "    </tr>\n",
              "    <tr>\n",
              "      <th rowspan=\"2\" valign=\"top\">MIXTURE</th>\n",
              "      <th rowspan=\"2\" valign=\"top\">2</th>\n",
              "      <th>train</th>\n",
              "      <td>3423</td>\n",
              "    </tr>\n",
              "    <tr>\n",
              "      <th>val</th>\n",
              "      <td>604</td>\n",
              "    </tr>\n",
              "    <tr>\n",
              "      <th rowspan=\"2\" valign=\"top\">True</th>\n",
              "      <th rowspan=\"2\" valign=\"top\">0</th>\n",
              "      <th>train</th>\n",
              "      <td>3381</td>\n",
              "    </tr>\n",
              "    <tr>\n",
              "      <th>val</th>\n",
              "      <td>597</td>\n",
              "    </tr>\n",
              "  </tbody>\n",
              "</table>\n",
              "</div>\n",
              "      <button class=\"colab-df-convert\" onclick=\"convertToInteractive('df-08c5c6f8-36a1-4eb0-b738-9353ace4ea29')\"\n",
              "              title=\"Convert this dataframe to an interactive table.\"\n",
              "              style=\"display:none;\">\n",
              "        \n",
              "  <svg xmlns=\"http://www.w3.org/2000/svg\" height=\"24px\"viewBox=\"0 0 24 24\"\n",
              "       width=\"24px\">\n",
              "    <path d=\"M0 0h24v24H0V0z\" fill=\"none\"/>\n",
              "    <path d=\"M18.56 5.44l.94 2.06.94-2.06 2.06-.94-2.06-.94-.94-2.06-.94 2.06-2.06.94zm-11 1L8.5 8.5l.94-2.06 2.06-.94-2.06-.94L8.5 2.5l-.94 2.06-2.06.94zm10 10l.94 2.06.94-2.06 2.06-.94-2.06-.94-.94-2.06-.94 2.06-2.06.94z\"/><path d=\"M17.41 7.96l-1.37-1.37c-.4-.4-.92-.59-1.43-.59-.52 0-1.04.2-1.43.59L10.3 9.45l-7.72 7.72c-.78.78-.78 2.05 0 2.83L4 21.41c.39.39.9.59 1.41.59.51 0 1.02-.2 1.41-.59l7.78-7.78 2.81-2.81c.8-.78.8-2.07 0-2.86zM5.41 20L4 18.59l7.72-7.72 1.47 1.35L5.41 20z\"/>\n",
              "  </svg>\n",
              "      </button>\n",
              "      \n",
              "  <style>\n",
              "    .colab-df-container {\n",
              "      display:flex;\n",
              "      flex-wrap:wrap;\n",
              "      gap: 12px;\n",
              "    }\n",
              "\n",
              "    .colab-df-convert {\n",
              "      background-color: #E8F0FE;\n",
              "      border: none;\n",
              "      border-radius: 50%;\n",
              "      cursor: pointer;\n",
              "      display: none;\n",
              "      fill: #1967D2;\n",
              "      height: 32px;\n",
              "      padding: 0 0 0 0;\n",
              "      width: 32px;\n",
              "    }\n",
              "\n",
              "    .colab-df-convert:hover {\n",
              "      background-color: #E2EBFA;\n",
              "      box-shadow: 0px 1px 2px rgba(60, 64, 67, 0.3), 0px 1px 3px 1px rgba(60, 64, 67, 0.15);\n",
              "      fill: #174EA6;\n",
              "    }\n",
              "\n",
              "    [theme=dark] .colab-df-convert {\n",
              "      background-color: #3B4455;\n",
              "      fill: #D2E3FC;\n",
              "    }\n",
              "\n",
              "    [theme=dark] .colab-df-convert:hover {\n",
              "      background-color: #434B5C;\n",
              "      box-shadow: 0px 1px 3px 1px rgba(0, 0, 0, 0.15);\n",
              "      filter: drop-shadow(0px 1px 2px rgba(0, 0, 0, 0.3));\n",
              "      fill: #FFFFFF;\n",
              "    }\n",
              "  </style>\n",
              "\n",
              "      <script>\n",
              "        const buttonEl =\n",
              "          document.querySelector('#df-08c5c6f8-36a1-4eb0-b738-9353ace4ea29 button.colab-df-convert');\n",
              "        buttonEl.style.display =\n",
              "          google.colab.kernel.accessAllowed ? 'block' : 'none';\n",
              "\n",
              "        async function convertToInteractive(key) {\n",
              "          const element = document.querySelector('#df-08c5c6f8-36a1-4eb0-b738-9353ace4ea29');\n",
              "          const dataTable =\n",
              "            await google.colab.kernel.invokeFunction('convertToInteractive',\n",
              "                                                     [key], {});\n",
              "          if (!dataTable) return;\n",
              "\n",
              "          const docLinkHtml = 'Like what you see? Visit the ' +\n",
              "            '<a target=\"_blank\" href=https://colab.research.google.com/notebooks/data_table.ipynb>data table notebook</a>'\n",
              "            + ' to learn more about interactive tables.';\n",
              "          element.innerHTML = '';\n",
              "          dataTable['output_type'] = 'display_data';\n",
              "          await google.colab.output.renderOutput(dataTable, element);\n",
              "          const docLink = document.createElement('div');\n",
              "          docLink.innerHTML = docLinkHtml;\n",
              "          element.appendChild(docLink);\n",
              "        }\n",
              "      </script>\n",
              "    </div>\n",
              "  </div>\n",
              "  "
            ]
          },
          "metadata": {},
          "execution_count": 101
        }
      ],
      "source": [
        "from sklearn.model_selection import train_test_split\n",
        "\n",
        "X_train, X_val, y_train, y_val = train_test_split(df_train.index.values, df_train.label.values, test_size=0.15, random_state=0, stratify=df_train.label.values)\n",
        "\n",
        "df_train.loc[X_train, 'data_type'] = 'train'\n",
        "df_train.loc[X_val, 'data_type'] = 'val'\n",
        "\n",
        "df_train.groupby(['ratingName', 'label', 'data_type']).count()"
      ]
    },
    {
      "cell_type": "code",
      "execution_count": 102,
      "metadata": {
        "colab": {
          "base_uri": "https://localhost:8080/"
        },
        "id": "tIO8RGPwf5OV",
        "outputId": "aad8f64b-5e98-4b56-ca8f-f490fee14f6f"
      },
      "outputs": [
        {
          "output_type": "stream",
          "name": "stderr",
          "text": [
            "Truncation was not explicitly activated but `max_length` is provided a specific value, please use `truncation=True` to explicitly truncate examples to max length. Defaulting to 'longest_first' truncation strategy. If you encode pairs of sequences (GLUE-style) with the tokenizer you can select this strategy more precisely by providing a specific strategy to `truncation`.\n"
          ]
        }
      ],
      "source": [
        "tokenizer = BertTokenizer.from_pretrained('bert-base-uncased', \n",
        "                                          do_lower_case=True)\n",
        "                                          \n",
        "encoded_data_train = tokenizer.batch_encode_plus(\n",
        "    df_train[df_train.data_type=='train'].text.values, \n",
        "    add_special_tokens=True, \n",
        "    return_attention_mask=True, \n",
        "    pad_to_max_length=True, \n",
        "    max_length=256, \n",
        "    return_tensors='pt'\n",
        ")\n",
        "\n",
        "encoded_data_val = tokenizer.batch_encode_plus(\n",
        "    df_train[df_train.data_type=='val'].text.values, \n",
        "    add_special_tokens=True, \n",
        "    return_attention_mask=True, \n",
        "    pad_to_max_length=True, \n",
        "    max_length=256, \n",
        "    return_tensors='pt' \n",
        ")\n",
        "\n",
        "encoded_data_test = tokenizer.batch_encode_plus(\n",
        "    df_test.text.values, \n",
        "    add_special_tokens=True, \n",
        "    return_attention_mask=True, \n",
        "    pad_to_max_length=True, \n",
        "    max_length=256, \n",
        "    return_tensors='pt' \n",
        ")\n",
        "\n",
        "input_ids_train = encoded_data_train['input_ids']\n",
        "attention_masks_train = encoded_data_train['attention_mask']\n",
        "labels_train = torch.tensor(df_train[df_train.data_type=='train'].label.values)\n",
        "\n",
        "input_ids_val = encoded_data_val['input_ids']\n",
        "attention_masks_val = encoded_data_val['attention_mask']\n",
        "labels_val = torch.tensor(df_train[df_train.data_type=='val'].label.values)\n",
        "\n",
        "input_ids_test = encoded_data_test['input_ids']\n",
        "attention_masks_test = encoded_data_test['attention_mask']\n",
        "labels_test = torch.tensor(df_test.label.values)\n",
        "\n",
        "dataset_train = TensorDataset(input_ids_train, attention_masks_train, labels_train)\n",
        "dataset_val = TensorDataset(input_ids_val, attention_masks_val, labels_val)\n",
        "dataset_test = TensorDataset(input_ids_test, attention_masks_test, labels_test)"
      ]
    },
    {
      "cell_type": "code",
      "execution_count": 103,
      "metadata": {
        "colab": {
          "base_uri": "https://localhost:8080/"
        },
        "id": "SfuNyEPWf6FJ",
        "outputId": "48754fc4-5947-494c-b0e8-2da1ad997be8"
      },
      "outputs": [
        {
          "output_type": "stream",
          "name": "stderr",
          "text": [
            "Some weights of the model checkpoint at bert-base-uncased were not used when initializing BertForSequenceClassification: ['cls.predictions.transform.dense.weight', 'cls.predictions.bias', 'cls.predictions.transform.LayerNorm.bias', 'cls.seq_relationship.weight', 'cls.seq_relationship.bias', 'cls.predictions.transform.LayerNorm.weight', 'cls.predictions.decoder.weight', 'cls.predictions.transform.dense.bias']\n",
            "- This IS expected if you are initializing BertForSequenceClassification from the checkpoint of a model trained on another task or with another architecture (e.g. initializing a BertForSequenceClassification model from a BertForPreTraining model).\n",
            "- This IS NOT expected if you are initializing BertForSequenceClassification from the checkpoint of a model that you expect to be exactly identical (initializing a BertForSequenceClassification model from a BertForSequenceClassification model).\n",
            "Some weights of BertForSequenceClassification were not initialized from the model checkpoint at bert-base-uncased and are newly initialized: ['classifier.bias', 'classifier.weight']\n",
            "You should probably TRAIN this model on a down-stream task to be able to use it for predictions and inference.\n"
          ]
        }
      ],
      "source": [
        "model = BertForSequenceClassification.from_pretrained(\"bert-base-uncased\",\n",
        "                                                      num_labels=len(label_dict),\n",
        "                                                      output_attentions=False,\n",
        "                                                      output_hidden_states=False)"
      ]
    },
    {
      "cell_type": "code",
      "execution_count": 104,
      "metadata": {
        "id": "R6xZm8FfgNEx"
      },
      "outputs": [],
      "source": [
        "# We will use Random sampler for train set and sequential sampler for validation\n",
        "from torch.utils.data import DataLoader, RandomSampler, SequentialSampler\n",
        "\n",
        "batch_size = 3\n",
        "\n",
        "dataloader_train = DataLoader(dataset_train, \n",
        "                              sampler=RandomSampler(dataset_train), \n",
        "                              batch_size=batch_size)\n",
        "\n",
        "dataloader_validation = DataLoader(dataset_val, \n",
        "                                   sampler=SequentialSampler(dataset_val), \n",
        "                                   batch_size=batch_size)\n",
        "\n",
        "dataloader_test = DataLoader(dataset_test, \n",
        "                                   sampler=SequentialSampler(dataset_test), \n",
        "                                   batch_size=batch_size)"
      ]
    },
    {
      "cell_type": "code",
      "execution_count": 105,
      "metadata": {
        "id": "Hn2kzKH6gQiK"
      },
      "outputs": [],
      "source": [
        "from transformers import get_linear_schedule_with_warmup\n",
        "\n",
        "optimizer = torch.optim.AdamW(model.parameters(),\n",
        "                  lr=1e-5, \n",
        "                  eps=1e-8)\n",
        "                  \n",
        "epochs = 5\n",
        "\n",
        "scheduler = get_linear_schedule_with_warmup(optimizer, \n",
        "                                            num_warmup_steps=0,\n",
        "                                            num_training_steps=len(dataloader_train)*epochs)"
      ]
    },
    {
      "cell_type": "code",
      "execution_count": 106,
      "metadata": {
        "id": "zrq1hKuTgTCr"
      },
      "outputs": [],
      "source": [
        "from sklearn.metrics import f1_score\n",
        "\n",
        "def f1_score_func(preds, labels):\n",
        "    preds_flat = np.argmax(preds, axis=1).flatten()\n",
        "    labels_flat = labels.flatten()\n",
        "    return f1_score(labels_flat, preds_flat, average='weighted')\n",
        "\n",
        "def accuracy_per_class(preds, labels):\n",
        "    label_dict_inverse = {v: k for k, v in label_dict.items()}\n",
        "    \n",
        "    preds_flat = np.argmax(preds, axis=1).flatten()\n",
        "    labels_flat = labels.flatten()\n",
        "\n",
        "    for label in np.unique(labels_flat):\n",
        "        y_preds = preds_flat[labels_flat==label]\n",
        "        y_true = labels_flat[labels_flat==label]\n",
        "        print(f'Class: {label_dict_inverse[label]}')\n",
        "        print(f'Accuracy: {len(y_preds[y_preds==label])}/{len(y_true)}\\n')"
      ]
    },
    {
      "cell_type": "code",
      "execution_count": 107,
      "metadata": {
        "colab": {
          "base_uri": "https://localhost:8080/"
        },
        "id": "f8kKqXtcgUhV",
        "outputId": "37159efd-b329-49c7-e738-2e1583c49699"
      },
      "outputs": [
        {
          "output_type": "stream",
          "name": "stdout",
          "text": [
            "cuda\n"
          ]
        }
      ],
      "source": [
        "device = torch.device('cuda' if torch.cuda.is_available() else 'cpu')\n",
        "model.to(device)\n",
        "\n",
        "print(device)"
      ]
    },
    {
      "cell_type": "code",
      "execution_count": 108,
      "metadata": {
        "colab": {
          "base_uri": "https://localhost:8080/",
          "height": 510,
          "referenced_widgets": [
            "417171a9d0434a1d8757b900b755891d",
            "c547b748efb54bcfb54851d8107f616c",
            "d7558b5e3097459b8ab1b08258c94362",
            "d3a35aa2355540d1ae5d0a8b04f0c4d3",
            "b03646c9b59b4e4bb5e3462ffdf58532",
            "3e56060852a04562bc1cb03659a2e1de",
            "042852ac35aa4a0992861f2dcd2442a5",
            "23fa09756b194ee39289ea2ce51cc2ff",
            "7311f1fa2ae34ca99306a7c48ed201c4",
            "0fd57a7919e94a77aa54879d3edb69a4",
            "52817e2e063542d88870677ffe139ac1",
            "c6bd1aa47786408ebad1112355fa7f12",
            "6276955c35df4a898d4728d6b8412b72",
            "9cc0391356464a1a9dc3926370329710",
            "62e6877bbd88407fb700758670671a91",
            "b846003af70b4fb8b28ddb8db7868544",
            "acd85635d5614534ac0ce76db7a28be0",
            "e0bb6df583f54aa392589182c304079a",
            "d6f20ce1c701436ea26c5bff13b7e26b",
            "6fb487792e204df383474d483ad66c34",
            "e53a9edfe79f479f964867f124446ee3",
            "00ea56003b38441cb46698afc9c312ef",
            "a0f77686189d47869cff7e49068e81ca",
            "577cb68ba57348c89daf23a8a8c2421e",
            "2fb13a8609474952b86add1c77b778e2",
            "2bf3fa1615484815953edc31efeacccc",
            "a0d89fb47d67474397c5903b9b354886",
            "f67a7178f8ba4db1821a7bccc1fccb8e",
            "380f3d589a1c4f48a7898c1a98e48b17",
            "3d77d4d5a217457794976a60f2615dbe",
            "cf38ad116a1344b6b8f25fcf4a990c87",
            "669d2cea1c8940849d4e5d1820968aeb",
            "ce1e106672d1435db13555b08e3a0dfb",
            "daa2545c2f4d42549d5c4be1585886fd",
            "40aaf0cd2108449a81f9041b063642d0",
            "34c719c67f48455cb448e5cf782a530c",
            "67d938acd3be4231bdafc3b4d4a178b2",
            "26d13034aa2d45e59cde03461b7e4ddf",
            "6e684877fedc462489ece187d78a55cf",
            "d8bc1897ac9943c0a61df75509f5344e",
            "0f44957e39b94060bb3e508e62b2fc8a",
            "7e8a3e3dd1794e57814c638e49626237",
            "257df4e9d53a4108b3e1ba1e0c7bfce8",
            "62a26eab2c3c4d338b1ec8669ea3d444",
            "74d3eba87fd14bbcb428a2a8c8238971",
            "ac84ac2f6f804248af712347747cd917",
            "931c1da97ed34c728bfff119165781a8",
            "067ea108e8b34ba2951ad58207cacaf9",
            "c3d3c27e90e14aae8c70700903a096ff",
            "9ed5faef44b14fdba6ef3fab12083a59",
            "f4dfc2f5db1742ceaf392f3b095c38c9",
            "a33b73ebb96240f0bb109388a9a4428a",
            "9de71237683b410bbd48acf706f3fd44",
            "6bd2ac9fd70844ecac16c695b82266ed",
            "ee75ce00fe5a4e3387b785aaba592051",
            "68b59e7886334f948b8c886c64e1bf8a",
            "d49163d22e0c435c852d8ae888eb5f5b",
            "aa497f5354b847be97e49ed60b65d88b",
            "6800d49cc8fb44a2b22b02c53534587a",
            "e08f647e886e49a39e57d47c9d9ac7d6",
            "75bfa4d51d73427588a3b36fed06b772",
            "c97b9d0e422c4e3e8cb660aa415a7f57",
            "d32412d9487e44c1ab34f4f3b3978f31",
            "2f40e3e563b4431d9fcea46ee3e9aa0e",
            "79036e4b087749048498317b3d7f2484",
            "e4d0986e894245a8b26a17b092fa332e"
          ]
        },
        "id": "1Q2Yt_UYgWP3",
        "outputId": "dbcf460a-ce8f-4a0a-8b34-b26fd4c1a6dc"
      },
      "outputs": [
        {
          "output_type": "display_data",
          "data": {
            "text/plain": [
              "  0%|          | 0/5 [00:00<?, ?it/s]"
            ],
            "application/vnd.jupyter.widget-view+json": {
              "version_major": 2,
              "version_minor": 0,
              "model_id": "417171a9d0434a1d8757b900b755891d"
            }
          },
          "metadata": {}
        },
        {
          "output_type": "display_data",
          "data": {
            "text/plain": [
              "Epoch 1:   0%|          | 0/3406 [00:00<?, ?it/s]"
            ],
            "application/vnd.jupyter.widget-view+json": {
              "version_major": 2,
              "version_minor": 0,
              "model_id": "c6bd1aa47786408ebad1112355fa7f12"
            }
          },
          "metadata": {}
        },
        {
          "output_type": "stream",
          "name": "stdout",
          "text": [
            "\n",
            "Epoch 1\n",
            "Training loss: 0.9639179591161674\n",
            "Validation loss: 0.8629154280051217\n",
            "F1 Score (Weighted): 0.5963671283328454\n"
          ]
        },
        {
          "output_type": "display_data",
          "data": {
            "text/plain": [
              "Epoch 2:   0%|          | 0/3406 [00:00<?, ?it/s]"
            ],
            "application/vnd.jupyter.widget-view+json": {
              "version_major": 2,
              "version_minor": 0,
              "model_id": "a0f77686189d47869cff7e49068e81ca"
            }
          },
          "metadata": {}
        },
        {
          "output_type": "stream",
          "name": "stdout",
          "text": [
            "\n",
            "Epoch 2\n",
            "Training loss: 0.805934125697541\n",
            "Validation loss: 0.9143482195941759\n",
            "F1 Score (Weighted): 0.6263481655979651\n"
          ]
        },
        {
          "output_type": "display_data",
          "data": {
            "text/plain": [
              "Epoch 3:   0%|          | 0/3406 [00:00<?, ?it/s]"
            ],
            "application/vnd.jupyter.widget-view+json": {
              "version_major": 2,
              "version_minor": 0,
              "model_id": "daa2545c2f4d42549d5c4be1585886fd"
            }
          },
          "metadata": {}
        },
        {
          "output_type": "stream",
          "name": "stdout",
          "text": [
            "\n",
            "Epoch 3\n",
            "Training loss: 0.696750730466009\n",
            "Validation loss: 1.3700210460157176\n",
            "F1 Score (Weighted): 0.6137722479463503\n"
          ]
        },
        {
          "output_type": "display_data",
          "data": {
            "text/plain": [
              "Epoch 4:   0%|          | 0/3406 [00:00<?, ?it/s]"
            ],
            "application/vnd.jupyter.widget-view+json": {
              "version_major": 2,
              "version_minor": 0,
              "model_id": "74d3eba87fd14bbcb428a2a8c8238971"
            }
          },
          "metadata": {}
        },
        {
          "output_type": "stream",
          "name": "stdout",
          "text": [
            "\n",
            "Epoch 4\n",
            "Training loss: 0.5825946746656434\n",
            "Validation loss: 2.0301626345491193\n",
            "F1 Score (Weighted): 0.6099022196898184\n"
          ]
        },
        {
          "output_type": "display_data",
          "data": {
            "text/plain": [
              "Epoch 5:   0%|          | 0/3406 [00:00<?, ?it/s]"
            ],
            "application/vnd.jupyter.widget-view+json": {
              "version_major": 2,
              "version_minor": 0,
              "model_id": "68b59e7886334f948b8c886c64e1bf8a"
            }
          },
          "metadata": {}
        },
        {
          "output_type": "stream",
          "name": "stdout",
          "text": [
            "\n",
            "Epoch 5\n",
            "Training loss: 0.4221550590933129\n",
            "Validation loss: 2.3030392494134584\n",
            "F1 Score (Weighted): 0.6072258883814627\n"
          ]
        }
      ],
      "source": [
        "seed_val = 42\n",
        "random.seed(seed_val)\n",
        "np.random.seed(seed_val)\n",
        "torch.manual_seed(seed_val)\n",
        "torch.cuda.manual_seed_all(seed_val)\n",
        "\n",
        "def evaluate(dataloader_val):\n",
        "\n",
        "    model.eval()\n",
        "    \n",
        "    loss_val_total = 0\n",
        "    predictions, true_vals = [], []\n",
        "    \n",
        "    for batch in dataloader_val:\n",
        "        \n",
        "        batch = tuple(b.to(device) for b in batch)\n",
        "        \n",
        "        inputs = {'input_ids':      batch[0],\n",
        "                  'attention_mask': batch[1],\n",
        "                  'labels':         batch[2],\n",
        "                 }\n",
        "\n",
        "        with torch.no_grad():        \n",
        "            outputs = model(**inputs)\n",
        "            \n",
        "        loss = outputs[0]\n",
        "        logits = outputs[1]\n",
        "        loss_val_total += loss.item()\n",
        "\n",
        "        logits = logits.detach().cpu().numpy()\n",
        "        label_ids = inputs['labels'].cpu().numpy()\n",
        "        predictions.append(logits)\n",
        "        true_vals.append(label_ids)\n",
        "    loss_val_avg = loss_val_total/len(dataloader_val) \n",
        "    \n",
        "    predictions = np.concatenate(predictions, axis=0)\n",
        "    true_vals = np.concatenate(true_vals, axis=0)\n",
        "            \n",
        "    return loss_val_avg, predictions, true_vals\n",
        "    \n",
        "for epoch in tqdm(range(1, epochs+1)):\n",
        "    \n",
        "    model.train()\n",
        "    \n",
        "    loss_train_total = 0\n",
        "\n",
        "    progress_bar = tqdm(dataloader_train, desc='Epoch {:1d}'.format(epoch), leave=False, disable=False)\n",
        "    for batch in progress_bar:\n",
        "\n",
        "        model.zero_grad()\n",
        "        \n",
        "        batch = tuple(b.to(device) for b in batch)\n",
        "        \n",
        "        inputs = {'input_ids':      batch[0],\n",
        "                  'attention_mask': batch[1],\n",
        "                  'labels':         batch[2],\n",
        "                 }       \n",
        "\n",
        "        outputs = model(**inputs)\n",
        "        \n",
        "        loss = outputs[0]\n",
        "        loss_train_total += loss.item()\n",
        "        loss.backward()\n",
        "\n",
        "        torch.nn.utils.clip_grad_norm_(model.parameters(), 1.0)\n",
        "\n",
        "        optimizer.step()\n",
        "        scheduler.step()\n",
        "        \n",
        "        progress_bar.set_postfix({'training_loss': '{:.3f}'.format(loss.item()/len(batch))})\n",
        "         \n",
        "        \n",
        "    torch.save(model.state_dict(), f'finetuned_BERT_epoch_{epoch}.model')\n",
        "    tqdm.write(f'\\nEpoch {epoch}')\n",
        "    \n",
        "    loss_train_avg = loss_train_total/len(dataloader_train)            \n",
        "    tqdm.write(f'Training loss: {loss_train_avg}')\n",
        "    \n",
        "    val_loss, predictions, true_vals = evaluate(dataloader_validation)\n",
        "    val_f1 = f1_score_func(predictions, true_vals)\n",
        "    tqdm.write(f'Validation loss: {val_loss}')\n",
        "    tqdm.write(f'F1 Score (Weighted): {val_f1}')"
      ]
    },
    {
      "cell_type": "code",
      "execution_count": 109,
      "metadata": {
        "id": "QrQ2ZWzfgbL0",
        "colab": {
          "base_uri": "https://localhost:8080/"
        },
        "outputId": "d1fc5506-2668-48d1-e383-4f117f3ff88e"
      },
      "outputs": [
        {
          "output_type": "stream",
          "name": "stderr",
          "text": [
            "Some weights of the model checkpoint at bert-base-uncased were not used when initializing BertForSequenceClassification: ['cls.predictions.transform.dense.weight', 'cls.predictions.bias', 'cls.predictions.transform.LayerNorm.bias', 'cls.seq_relationship.weight', 'cls.seq_relationship.bias', 'cls.predictions.transform.LayerNorm.weight', 'cls.predictions.decoder.weight', 'cls.predictions.transform.dense.bias']\n",
            "- This IS expected if you are initializing BertForSequenceClassification from the checkpoint of a model trained on another task or with another architecture (e.g. initializing a BertForSequenceClassification model from a BertForPreTraining model).\n",
            "- This IS NOT expected if you are initializing BertForSequenceClassification from the checkpoint of a model that you expect to be exactly identical (initializing a BertForSequenceClassification model from a BertForSequenceClassification model).\n",
            "Some weights of BertForSequenceClassification were not initialized from the model checkpoint at bert-base-uncased and are newly initialized: ['classifier.bias', 'classifier.weight']\n",
            "You should probably TRAIN this model on a down-stream task to be able to use it for predictions and inference.\n"
          ]
        },
        {
          "output_type": "stream",
          "name": "stdout",
          "text": [
            "Class: True\n",
            "Accuracy: 215/474\n",
            "\n",
            "Class: False\n",
            "Accuracy: 222/437\n",
            "\n",
            "Class: MIXTURE\n",
            "Accuracy: 343/425\n",
            "\n"
          ]
        }
      ],
      "source": [
        "model = BertForSequenceClassification.from_pretrained(\"bert-base-uncased\",\n",
        "                                                      num_labels=len(label_dict),\n",
        "                                                      output_attentions=False,\n",
        "                                                      output_hidden_states=False)\n",
        "\n",
        "model.to(device)\n",
        "\n",
        "model.load_state_dict(torch.load('finetuned_BERT_epoch_1.model', map_location=torch.device('cpu')))\n",
        "\n",
        "_, predictions, true_vals = evaluate(dataloader_test)\n",
        "accuracy_per_class(predictions, true_vals)"
      ]
    }
  ],
  "metadata": {
    "accelerator": "GPU",
    "colab": {
      "collapsed_sections": [
        "i6z-w3-M-T-5",
        "9gjp_awkJLFr",
        "eQZJhmMxvzWR",
        "pkOMzjASJd3_",
        "7uZgCJHcuZlj",
        "jUHxo9K61Tjm",
        "GTNQu5KtBihk",
        "qEpLC2fvITPA"
      ],
      "machine_shape": "hm",
      "name": "fakeNews.ipynb",
      "provenance": []
    },
    "kernelspec": {
      "display_name": "Python 3",
      "name": "python3"
    },
    "language_info": {
      "name": "python"
    },
    "widgets": {
      "application/vnd.jupyter.widget-state+json": {
        "417171a9d0434a1d8757b900b755891d": {
          "model_module": "@jupyter-widgets/controls",
          "model_name": "HBoxModel",
          "model_module_version": "1.5.0",
          "state": {
            "_dom_classes": [],
            "_model_module": "@jupyter-widgets/controls",
            "_model_module_version": "1.5.0",
            "_model_name": "HBoxModel",
            "_view_count": null,
            "_view_module": "@jupyter-widgets/controls",
            "_view_module_version": "1.5.0",
            "_view_name": "HBoxView",
            "box_style": "",
            "children": [
              "IPY_MODEL_c547b748efb54bcfb54851d8107f616c",
              "IPY_MODEL_d7558b5e3097459b8ab1b08258c94362",
              "IPY_MODEL_d3a35aa2355540d1ae5d0a8b04f0c4d3"
            ],
            "layout": "IPY_MODEL_b03646c9b59b4e4bb5e3462ffdf58532"
          }
        },
        "c547b748efb54bcfb54851d8107f616c": {
          "model_module": "@jupyter-widgets/controls",
          "model_name": "HTMLModel",
          "model_module_version": "1.5.0",
          "state": {
            "_dom_classes": [],
            "_model_module": "@jupyter-widgets/controls",
            "_model_module_version": "1.5.0",
            "_model_name": "HTMLModel",
            "_view_count": null,
            "_view_module": "@jupyter-widgets/controls",
            "_view_module_version": "1.5.0",
            "_view_name": "HTMLView",
            "description": "",
            "description_tooltip": null,
            "layout": "IPY_MODEL_3e56060852a04562bc1cb03659a2e1de",
            "placeholder": "​",
            "style": "IPY_MODEL_042852ac35aa4a0992861f2dcd2442a5",
            "value": "100%"
          }
        },
        "d7558b5e3097459b8ab1b08258c94362": {
          "model_module": "@jupyter-widgets/controls",
          "model_name": "FloatProgressModel",
          "model_module_version": "1.5.0",
          "state": {
            "_dom_classes": [],
            "_model_module": "@jupyter-widgets/controls",
            "_model_module_version": "1.5.0",
            "_model_name": "FloatProgressModel",
            "_view_count": null,
            "_view_module": "@jupyter-widgets/controls",
            "_view_module_version": "1.5.0",
            "_view_name": "ProgressView",
            "bar_style": "success",
            "description": "",
            "description_tooltip": null,
            "layout": "IPY_MODEL_23fa09756b194ee39289ea2ce51cc2ff",
            "max": 5,
            "min": 0,
            "orientation": "horizontal",
            "style": "IPY_MODEL_7311f1fa2ae34ca99306a7c48ed201c4",
            "value": 5
          }
        },
        "d3a35aa2355540d1ae5d0a8b04f0c4d3": {
          "model_module": "@jupyter-widgets/controls",
          "model_name": "HTMLModel",
          "model_module_version": "1.5.0",
          "state": {
            "_dom_classes": [],
            "_model_module": "@jupyter-widgets/controls",
            "_model_module_version": "1.5.0",
            "_model_name": "HTMLModel",
            "_view_count": null,
            "_view_module": "@jupyter-widgets/controls",
            "_view_module_version": "1.5.0",
            "_view_name": "HTMLView",
            "description": "",
            "description_tooltip": null,
            "layout": "IPY_MODEL_0fd57a7919e94a77aa54879d3edb69a4",
            "placeholder": "​",
            "style": "IPY_MODEL_52817e2e063542d88870677ffe139ac1",
            "value": " 5/5 [35:16&lt;00:00, 423.03s/it]"
          }
        },
        "b03646c9b59b4e4bb5e3462ffdf58532": {
          "model_module": "@jupyter-widgets/base",
          "model_name": "LayoutModel",
          "model_module_version": "1.2.0",
          "state": {
            "_model_module": "@jupyter-widgets/base",
            "_model_module_version": "1.2.0",
            "_model_name": "LayoutModel",
            "_view_count": null,
            "_view_module": "@jupyter-widgets/base",
            "_view_module_version": "1.2.0",
            "_view_name": "LayoutView",
            "align_content": null,
            "align_items": null,
            "align_self": null,
            "border": null,
            "bottom": null,
            "display": null,
            "flex": null,
            "flex_flow": null,
            "grid_area": null,
            "grid_auto_columns": null,
            "grid_auto_flow": null,
            "grid_auto_rows": null,
            "grid_column": null,
            "grid_gap": null,
            "grid_row": null,
            "grid_template_areas": null,
            "grid_template_columns": null,
            "grid_template_rows": null,
            "height": null,
            "justify_content": null,
            "justify_items": null,
            "left": null,
            "margin": null,
            "max_height": null,
            "max_width": null,
            "min_height": null,
            "min_width": null,
            "object_fit": null,
            "object_position": null,
            "order": null,
            "overflow": null,
            "overflow_x": null,
            "overflow_y": null,
            "padding": null,
            "right": null,
            "top": null,
            "visibility": null,
            "width": null
          }
        },
        "3e56060852a04562bc1cb03659a2e1de": {
          "model_module": "@jupyter-widgets/base",
          "model_name": "LayoutModel",
          "model_module_version": "1.2.0",
          "state": {
            "_model_module": "@jupyter-widgets/base",
            "_model_module_version": "1.2.0",
            "_model_name": "LayoutModel",
            "_view_count": null,
            "_view_module": "@jupyter-widgets/base",
            "_view_module_version": "1.2.0",
            "_view_name": "LayoutView",
            "align_content": null,
            "align_items": null,
            "align_self": null,
            "border": null,
            "bottom": null,
            "display": null,
            "flex": null,
            "flex_flow": null,
            "grid_area": null,
            "grid_auto_columns": null,
            "grid_auto_flow": null,
            "grid_auto_rows": null,
            "grid_column": null,
            "grid_gap": null,
            "grid_row": null,
            "grid_template_areas": null,
            "grid_template_columns": null,
            "grid_template_rows": null,
            "height": null,
            "justify_content": null,
            "justify_items": null,
            "left": null,
            "margin": null,
            "max_height": null,
            "max_width": null,
            "min_height": null,
            "min_width": null,
            "object_fit": null,
            "object_position": null,
            "order": null,
            "overflow": null,
            "overflow_x": null,
            "overflow_y": null,
            "padding": null,
            "right": null,
            "top": null,
            "visibility": null,
            "width": null
          }
        },
        "042852ac35aa4a0992861f2dcd2442a5": {
          "model_module": "@jupyter-widgets/controls",
          "model_name": "DescriptionStyleModel",
          "model_module_version": "1.5.0",
          "state": {
            "_model_module": "@jupyter-widgets/controls",
            "_model_module_version": "1.5.0",
            "_model_name": "DescriptionStyleModel",
            "_view_count": null,
            "_view_module": "@jupyter-widgets/base",
            "_view_module_version": "1.2.0",
            "_view_name": "StyleView",
            "description_width": ""
          }
        },
        "23fa09756b194ee39289ea2ce51cc2ff": {
          "model_module": "@jupyter-widgets/base",
          "model_name": "LayoutModel",
          "model_module_version": "1.2.0",
          "state": {
            "_model_module": "@jupyter-widgets/base",
            "_model_module_version": "1.2.0",
            "_model_name": "LayoutModel",
            "_view_count": null,
            "_view_module": "@jupyter-widgets/base",
            "_view_module_version": "1.2.0",
            "_view_name": "LayoutView",
            "align_content": null,
            "align_items": null,
            "align_self": null,
            "border": null,
            "bottom": null,
            "display": null,
            "flex": null,
            "flex_flow": null,
            "grid_area": null,
            "grid_auto_columns": null,
            "grid_auto_flow": null,
            "grid_auto_rows": null,
            "grid_column": null,
            "grid_gap": null,
            "grid_row": null,
            "grid_template_areas": null,
            "grid_template_columns": null,
            "grid_template_rows": null,
            "height": null,
            "justify_content": null,
            "justify_items": null,
            "left": null,
            "margin": null,
            "max_height": null,
            "max_width": null,
            "min_height": null,
            "min_width": null,
            "object_fit": null,
            "object_position": null,
            "order": null,
            "overflow": null,
            "overflow_x": null,
            "overflow_y": null,
            "padding": null,
            "right": null,
            "top": null,
            "visibility": null,
            "width": null
          }
        },
        "7311f1fa2ae34ca99306a7c48ed201c4": {
          "model_module": "@jupyter-widgets/controls",
          "model_name": "ProgressStyleModel",
          "model_module_version": "1.5.0",
          "state": {
            "_model_module": "@jupyter-widgets/controls",
            "_model_module_version": "1.5.0",
            "_model_name": "ProgressStyleModel",
            "_view_count": null,
            "_view_module": "@jupyter-widgets/base",
            "_view_module_version": "1.2.0",
            "_view_name": "StyleView",
            "bar_color": null,
            "description_width": ""
          }
        },
        "0fd57a7919e94a77aa54879d3edb69a4": {
          "model_module": "@jupyter-widgets/base",
          "model_name": "LayoutModel",
          "model_module_version": "1.2.0",
          "state": {
            "_model_module": "@jupyter-widgets/base",
            "_model_module_version": "1.2.0",
            "_model_name": "LayoutModel",
            "_view_count": null,
            "_view_module": "@jupyter-widgets/base",
            "_view_module_version": "1.2.0",
            "_view_name": "LayoutView",
            "align_content": null,
            "align_items": null,
            "align_self": null,
            "border": null,
            "bottom": null,
            "display": null,
            "flex": null,
            "flex_flow": null,
            "grid_area": null,
            "grid_auto_columns": null,
            "grid_auto_flow": null,
            "grid_auto_rows": null,
            "grid_column": null,
            "grid_gap": null,
            "grid_row": null,
            "grid_template_areas": null,
            "grid_template_columns": null,
            "grid_template_rows": null,
            "height": null,
            "justify_content": null,
            "justify_items": null,
            "left": null,
            "margin": null,
            "max_height": null,
            "max_width": null,
            "min_height": null,
            "min_width": null,
            "object_fit": null,
            "object_position": null,
            "order": null,
            "overflow": null,
            "overflow_x": null,
            "overflow_y": null,
            "padding": null,
            "right": null,
            "top": null,
            "visibility": null,
            "width": null
          }
        },
        "52817e2e063542d88870677ffe139ac1": {
          "model_module": "@jupyter-widgets/controls",
          "model_name": "DescriptionStyleModel",
          "model_module_version": "1.5.0",
          "state": {
            "_model_module": "@jupyter-widgets/controls",
            "_model_module_version": "1.5.0",
            "_model_name": "DescriptionStyleModel",
            "_view_count": null,
            "_view_module": "@jupyter-widgets/base",
            "_view_module_version": "1.2.0",
            "_view_name": "StyleView",
            "description_width": ""
          }
        },
        "c6bd1aa47786408ebad1112355fa7f12": {
          "model_module": "@jupyter-widgets/controls",
          "model_name": "HBoxModel",
          "model_module_version": "1.5.0",
          "state": {
            "_dom_classes": [],
            "_model_module": "@jupyter-widgets/controls",
            "_model_module_version": "1.5.0",
            "_model_name": "HBoxModel",
            "_view_count": null,
            "_view_module": "@jupyter-widgets/controls",
            "_view_module_version": "1.5.0",
            "_view_name": "HBoxView",
            "box_style": "",
            "children": [
              "IPY_MODEL_6276955c35df4a898d4728d6b8412b72",
              "IPY_MODEL_9cc0391356464a1a9dc3926370329710",
              "IPY_MODEL_62e6877bbd88407fb700758670671a91"
            ],
            "layout": "IPY_MODEL_b846003af70b4fb8b28ddb8db7868544"
          }
        },
        "6276955c35df4a898d4728d6b8412b72": {
          "model_module": "@jupyter-widgets/controls",
          "model_name": "HTMLModel",
          "model_module_version": "1.5.0",
          "state": {
            "_dom_classes": [],
            "_model_module": "@jupyter-widgets/controls",
            "_model_module_version": "1.5.0",
            "_model_name": "HTMLModel",
            "_view_count": null,
            "_view_module": "@jupyter-widgets/controls",
            "_view_module_version": "1.5.0",
            "_view_name": "HTMLView",
            "description": "",
            "description_tooltip": null,
            "layout": "IPY_MODEL_acd85635d5614534ac0ce76db7a28be0",
            "placeholder": "​",
            "style": "IPY_MODEL_e0bb6df583f54aa392589182c304079a",
            "value": "Epoch 1: 100%"
          }
        },
        "9cc0391356464a1a9dc3926370329710": {
          "model_module": "@jupyter-widgets/controls",
          "model_name": "FloatProgressModel",
          "model_module_version": "1.5.0",
          "state": {
            "_dom_classes": [],
            "_model_module": "@jupyter-widgets/controls",
            "_model_module_version": "1.5.0",
            "_model_name": "FloatProgressModel",
            "_view_count": null,
            "_view_module": "@jupyter-widgets/controls",
            "_view_module_version": "1.5.0",
            "_view_name": "ProgressView",
            "bar_style": "",
            "description": "",
            "description_tooltip": null,
            "layout": "IPY_MODEL_d6f20ce1c701436ea26c5bff13b7e26b",
            "max": 3406,
            "min": 0,
            "orientation": "horizontal",
            "style": "IPY_MODEL_6fb487792e204df383474d483ad66c34",
            "value": 3406
          }
        },
        "62e6877bbd88407fb700758670671a91": {
          "model_module": "@jupyter-widgets/controls",
          "model_name": "HTMLModel",
          "model_module_version": "1.5.0",
          "state": {
            "_dom_classes": [],
            "_model_module": "@jupyter-widgets/controls",
            "_model_module_version": "1.5.0",
            "_model_name": "HTMLModel",
            "_view_count": null,
            "_view_module": "@jupyter-widgets/controls",
            "_view_module_version": "1.5.0",
            "_view_name": "HTMLView",
            "description": "",
            "description_tooltip": null,
            "layout": "IPY_MODEL_e53a9edfe79f479f964867f124446ee3",
            "placeholder": "​",
            "style": "IPY_MODEL_00ea56003b38441cb46698afc9c312ef",
            "value": " 3405/3406 [06:45&lt;00:00,  8.40it/s, training_loss=0.076]"
          }
        },
        "b846003af70b4fb8b28ddb8db7868544": {
          "model_module": "@jupyter-widgets/base",
          "model_name": "LayoutModel",
          "model_module_version": "1.2.0",
          "state": {
            "_model_module": "@jupyter-widgets/base",
            "_model_module_version": "1.2.0",
            "_model_name": "LayoutModel",
            "_view_count": null,
            "_view_module": "@jupyter-widgets/base",
            "_view_module_version": "1.2.0",
            "_view_name": "LayoutView",
            "align_content": null,
            "align_items": null,
            "align_self": null,
            "border": null,
            "bottom": null,
            "display": null,
            "flex": null,
            "flex_flow": null,
            "grid_area": null,
            "grid_auto_columns": null,
            "grid_auto_flow": null,
            "grid_auto_rows": null,
            "grid_column": null,
            "grid_gap": null,
            "grid_row": null,
            "grid_template_areas": null,
            "grid_template_columns": null,
            "grid_template_rows": null,
            "height": null,
            "justify_content": null,
            "justify_items": null,
            "left": null,
            "margin": null,
            "max_height": null,
            "max_width": null,
            "min_height": null,
            "min_width": null,
            "object_fit": null,
            "object_position": null,
            "order": null,
            "overflow": null,
            "overflow_x": null,
            "overflow_y": null,
            "padding": null,
            "right": null,
            "top": null,
            "visibility": null,
            "width": null
          }
        },
        "acd85635d5614534ac0ce76db7a28be0": {
          "model_module": "@jupyter-widgets/base",
          "model_name": "LayoutModel",
          "model_module_version": "1.2.0",
          "state": {
            "_model_module": "@jupyter-widgets/base",
            "_model_module_version": "1.2.0",
            "_model_name": "LayoutModel",
            "_view_count": null,
            "_view_module": "@jupyter-widgets/base",
            "_view_module_version": "1.2.0",
            "_view_name": "LayoutView",
            "align_content": null,
            "align_items": null,
            "align_self": null,
            "border": null,
            "bottom": null,
            "display": null,
            "flex": null,
            "flex_flow": null,
            "grid_area": null,
            "grid_auto_columns": null,
            "grid_auto_flow": null,
            "grid_auto_rows": null,
            "grid_column": null,
            "grid_gap": null,
            "grid_row": null,
            "grid_template_areas": null,
            "grid_template_columns": null,
            "grid_template_rows": null,
            "height": null,
            "justify_content": null,
            "justify_items": null,
            "left": null,
            "margin": null,
            "max_height": null,
            "max_width": null,
            "min_height": null,
            "min_width": null,
            "object_fit": null,
            "object_position": null,
            "order": null,
            "overflow": null,
            "overflow_x": null,
            "overflow_y": null,
            "padding": null,
            "right": null,
            "top": null,
            "visibility": null,
            "width": null
          }
        },
        "e0bb6df583f54aa392589182c304079a": {
          "model_module": "@jupyter-widgets/controls",
          "model_name": "DescriptionStyleModel",
          "model_module_version": "1.5.0",
          "state": {
            "_model_module": "@jupyter-widgets/controls",
            "_model_module_version": "1.5.0",
            "_model_name": "DescriptionStyleModel",
            "_view_count": null,
            "_view_module": "@jupyter-widgets/base",
            "_view_module_version": "1.2.0",
            "_view_name": "StyleView",
            "description_width": ""
          }
        },
        "d6f20ce1c701436ea26c5bff13b7e26b": {
          "model_module": "@jupyter-widgets/base",
          "model_name": "LayoutModel",
          "model_module_version": "1.2.0",
          "state": {
            "_model_module": "@jupyter-widgets/base",
            "_model_module_version": "1.2.0",
            "_model_name": "LayoutModel",
            "_view_count": null,
            "_view_module": "@jupyter-widgets/base",
            "_view_module_version": "1.2.0",
            "_view_name": "LayoutView",
            "align_content": null,
            "align_items": null,
            "align_self": null,
            "border": null,
            "bottom": null,
            "display": null,
            "flex": null,
            "flex_flow": null,
            "grid_area": null,
            "grid_auto_columns": null,
            "grid_auto_flow": null,
            "grid_auto_rows": null,
            "grid_column": null,
            "grid_gap": null,
            "grid_row": null,
            "grid_template_areas": null,
            "grid_template_columns": null,
            "grid_template_rows": null,
            "height": null,
            "justify_content": null,
            "justify_items": null,
            "left": null,
            "margin": null,
            "max_height": null,
            "max_width": null,
            "min_height": null,
            "min_width": null,
            "object_fit": null,
            "object_position": null,
            "order": null,
            "overflow": null,
            "overflow_x": null,
            "overflow_y": null,
            "padding": null,
            "right": null,
            "top": null,
            "visibility": null,
            "width": null
          }
        },
        "6fb487792e204df383474d483ad66c34": {
          "model_module": "@jupyter-widgets/controls",
          "model_name": "ProgressStyleModel",
          "model_module_version": "1.5.0",
          "state": {
            "_model_module": "@jupyter-widgets/controls",
            "_model_module_version": "1.5.0",
            "_model_name": "ProgressStyleModel",
            "_view_count": null,
            "_view_module": "@jupyter-widgets/base",
            "_view_module_version": "1.2.0",
            "_view_name": "StyleView",
            "bar_color": null,
            "description_width": ""
          }
        },
        "e53a9edfe79f479f964867f124446ee3": {
          "model_module": "@jupyter-widgets/base",
          "model_name": "LayoutModel",
          "model_module_version": "1.2.0",
          "state": {
            "_model_module": "@jupyter-widgets/base",
            "_model_module_version": "1.2.0",
            "_model_name": "LayoutModel",
            "_view_count": null,
            "_view_module": "@jupyter-widgets/base",
            "_view_module_version": "1.2.0",
            "_view_name": "LayoutView",
            "align_content": null,
            "align_items": null,
            "align_self": null,
            "border": null,
            "bottom": null,
            "display": null,
            "flex": null,
            "flex_flow": null,
            "grid_area": null,
            "grid_auto_columns": null,
            "grid_auto_flow": null,
            "grid_auto_rows": null,
            "grid_column": null,
            "grid_gap": null,
            "grid_row": null,
            "grid_template_areas": null,
            "grid_template_columns": null,
            "grid_template_rows": null,
            "height": null,
            "justify_content": null,
            "justify_items": null,
            "left": null,
            "margin": null,
            "max_height": null,
            "max_width": null,
            "min_height": null,
            "min_width": null,
            "object_fit": null,
            "object_position": null,
            "order": null,
            "overflow": null,
            "overflow_x": null,
            "overflow_y": null,
            "padding": null,
            "right": null,
            "top": null,
            "visibility": null,
            "width": null
          }
        },
        "00ea56003b38441cb46698afc9c312ef": {
          "model_module": "@jupyter-widgets/controls",
          "model_name": "DescriptionStyleModel",
          "model_module_version": "1.5.0",
          "state": {
            "_model_module": "@jupyter-widgets/controls",
            "_model_module_version": "1.5.0",
            "_model_name": "DescriptionStyleModel",
            "_view_count": null,
            "_view_module": "@jupyter-widgets/base",
            "_view_module_version": "1.2.0",
            "_view_name": "StyleView",
            "description_width": ""
          }
        },
        "a0f77686189d47869cff7e49068e81ca": {
          "model_module": "@jupyter-widgets/controls",
          "model_name": "HBoxModel",
          "model_module_version": "1.5.0",
          "state": {
            "_dom_classes": [],
            "_model_module": "@jupyter-widgets/controls",
            "_model_module_version": "1.5.0",
            "_model_name": "HBoxModel",
            "_view_count": null,
            "_view_module": "@jupyter-widgets/controls",
            "_view_module_version": "1.5.0",
            "_view_name": "HBoxView",
            "box_style": "",
            "children": [
              "IPY_MODEL_577cb68ba57348c89daf23a8a8c2421e",
              "IPY_MODEL_2fb13a8609474952b86add1c77b778e2",
              "IPY_MODEL_2bf3fa1615484815953edc31efeacccc"
            ],
            "layout": "IPY_MODEL_a0d89fb47d67474397c5903b9b354886"
          }
        },
        "577cb68ba57348c89daf23a8a8c2421e": {
          "model_module": "@jupyter-widgets/controls",
          "model_name": "HTMLModel",
          "model_module_version": "1.5.0",
          "state": {
            "_dom_classes": [],
            "_model_module": "@jupyter-widgets/controls",
            "_model_module_version": "1.5.0",
            "_model_name": "HTMLModel",
            "_view_count": null,
            "_view_module": "@jupyter-widgets/controls",
            "_view_module_version": "1.5.0",
            "_view_name": "HTMLView",
            "description": "",
            "description_tooltip": null,
            "layout": "IPY_MODEL_f67a7178f8ba4db1821a7bccc1fccb8e",
            "placeholder": "​",
            "style": "IPY_MODEL_380f3d589a1c4f48a7898c1a98e48b17",
            "value": "Epoch 2: 100%"
          }
        },
        "2fb13a8609474952b86add1c77b778e2": {
          "model_module": "@jupyter-widgets/controls",
          "model_name": "FloatProgressModel",
          "model_module_version": "1.5.0",
          "state": {
            "_dom_classes": [],
            "_model_module": "@jupyter-widgets/controls",
            "_model_module_version": "1.5.0",
            "_model_name": "FloatProgressModel",
            "_view_count": null,
            "_view_module": "@jupyter-widgets/controls",
            "_view_module_version": "1.5.0",
            "_view_name": "ProgressView",
            "bar_style": "",
            "description": "",
            "description_tooltip": null,
            "layout": "IPY_MODEL_3d77d4d5a217457794976a60f2615dbe",
            "max": 3406,
            "min": 0,
            "orientation": "horizontal",
            "style": "IPY_MODEL_cf38ad116a1344b6b8f25fcf4a990c87",
            "value": 3406
          }
        },
        "2bf3fa1615484815953edc31efeacccc": {
          "model_module": "@jupyter-widgets/controls",
          "model_name": "HTMLModel",
          "model_module_version": "1.5.0",
          "state": {
            "_dom_classes": [],
            "_model_module": "@jupyter-widgets/controls",
            "_model_module_version": "1.5.0",
            "_model_name": "HTMLModel",
            "_view_count": null,
            "_view_module": "@jupyter-widgets/controls",
            "_view_module_version": "1.5.0",
            "_view_name": "HTMLView",
            "description": "",
            "description_tooltip": null,
            "layout": "IPY_MODEL_669d2cea1c8940849d4e5d1820968aeb",
            "placeholder": "​",
            "style": "IPY_MODEL_ce1e106672d1435db13555b08e3a0dfb",
            "value": " 3405/3406 [06:44&lt;00:00,  8.41it/s, training_loss=0.742]"
          }
        },
        "a0d89fb47d67474397c5903b9b354886": {
          "model_module": "@jupyter-widgets/base",
          "model_name": "LayoutModel",
          "model_module_version": "1.2.0",
          "state": {
            "_model_module": "@jupyter-widgets/base",
            "_model_module_version": "1.2.0",
            "_model_name": "LayoutModel",
            "_view_count": null,
            "_view_module": "@jupyter-widgets/base",
            "_view_module_version": "1.2.0",
            "_view_name": "LayoutView",
            "align_content": null,
            "align_items": null,
            "align_self": null,
            "border": null,
            "bottom": null,
            "display": null,
            "flex": null,
            "flex_flow": null,
            "grid_area": null,
            "grid_auto_columns": null,
            "grid_auto_flow": null,
            "grid_auto_rows": null,
            "grid_column": null,
            "grid_gap": null,
            "grid_row": null,
            "grid_template_areas": null,
            "grid_template_columns": null,
            "grid_template_rows": null,
            "height": null,
            "justify_content": null,
            "justify_items": null,
            "left": null,
            "margin": null,
            "max_height": null,
            "max_width": null,
            "min_height": null,
            "min_width": null,
            "object_fit": null,
            "object_position": null,
            "order": null,
            "overflow": null,
            "overflow_x": null,
            "overflow_y": null,
            "padding": null,
            "right": null,
            "top": null,
            "visibility": null,
            "width": null
          }
        },
        "f67a7178f8ba4db1821a7bccc1fccb8e": {
          "model_module": "@jupyter-widgets/base",
          "model_name": "LayoutModel",
          "model_module_version": "1.2.0",
          "state": {
            "_model_module": "@jupyter-widgets/base",
            "_model_module_version": "1.2.0",
            "_model_name": "LayoutModel",
            "_view_count": null,
            "_view_module": "@jupyter-widgets/base",
            "_view_module_version": "1.2.0",
            "_view_name": "LayoutView",
            "align_content": null,
            "align_items": null,
            "align_self": null,
            "border": null,
            "bottom": null,
            "display": null,
            "flex": null,
            "flex_flow": null,
            "grid_area": null,
            "grid_auto_columns": null,
            "grid_auto_flow": null,
            "grid_auto_rows": null,
            "grid_column": null,
            "grid_gap": null,
            "grid_row": null,
            "grid_template_areas": null,
            "grid_template_columns": null,
            "grid_template_rows": null,
            "height": null,
            "justify_content": null,
            "justify_items": null,
            "left": null,
            "margin": null,
            "max_height": null,
            "max_width": null,
            "min_height": null,
            "min_width": null,
            "object_fit": null,
            "object_position": null,
            "order": null,
            "overflow": null,
            "overflow_x": null,
            "overflow_y": null,
            "padding": null,
            "right": null,
            "top": null,
            "visibility": null,
            "width": null
          }
        },
        "380f3d589a1c4f48a7898c1a98e48b17": {
          "model_module": "@jupyter-widgets/controls",
          "model_name": "DescriptionStyleModel",
          "model_module_version": "1.5.0",
          "state": {
            "_model_module": "@jupyter-widgets/controls",
            "_model_module_version": "1.5.0",
            "_model_name": "DescriptionStyleModel",
            "_view_count": null,
            "_view_module": "@jupyter-widgets/base",
            "_view_module_version": "1.2.0",
            "_view_name": "StyleView",
            "description_width": ""
          }
        },
        "3d77d4d5a217457794976a60f2615dbe": {
          "model_module": "@jupyter-widgets/base",
          "model_name": "LayoutModel",
          "model_module_version": "1.2.0",
          "state": {
            "_model_module": "@jupyter-widgets/base",
            "_model_module_version": "1.2.0",
            "_model_name": "LayoutModel",
            "_view_count": null,
            "_view_module": "@jupyter-widgets/base",
            "_view_module_version": "1.2.0",
            "_view_name": "LayoutView",
            "align_content": null,
            "align_items": null,
            "align_self": null,
            "border": null,
            "bottom": null,
            "display": null,
            "flex": null,
            "flex_flow": null,
            "grid_area": null,
            "grid_auto_columns": null,
            "grid_auto_flow": null,
            "grid_auto_rows": null,
            "grid_column": null,
            "grid_gap": null,
            "grid_row": null,
            "grid_template_areas": null,
            "grid_template_columns": null,
            "grid_template_rows": null,
            "height": null,
            "justify_content": null,
            "justify_items": null,
            "left": null,
            "margin": null,
            "max_height": null,
            "max_width": null,
            "min_height": null,
            "min_width": null,
            "object_fit": null,
            "object_position": null,
            "order": null,
            "overflow": null,
            "overflow_x": null,
            "overflow_y": null,
            "padding": null,
            "right": null,
            "top": null,
            "visibility": null,
            "width": null
          }
        },
        "cf38ad116a1344b6b8f25fcf4a990c87": {
          "model_module": "@jupyter-widgets/controls",
          "model_name": "ProgressStyleModel",
          "model_module_version": "1.5.0",
          "state": {
            "_model_module": "@jupyter-widgets/controls",
            "_model_module_version": "1.5.0",
            "_model_name": "ProgressStyleModel",
            "_view_count": null,
            "_view_module": "@jupyter-widgets/base",
            "_view_module_version": "1.2.0",
            "_view_name": "StyleView",
            "bar_color": null,
            "description_width": ""
          }
        },
        "669d2cea1c8940849d4e5d1820968aeb": {
          "model_module": "@jupyter-widgets/base",
          "model_name": "LayoutModel",
          "model_module_version": "1.2.0",
          "state": {
            "_model_module": "@jupyter-widgets/base",
            "_model_module_version": "1.2.0",
            "_model_name": "LayoutModel",
            "_view_count": null,
            "_view_module": "@jupyter-widgets/base",
            "_view_module_version": "1.2.0",
            "_view_name": "LayoutView",
            "align_content": null,
            "align_items": null,
            "align_self": null,
            "border": null,
            "bottom": null,
            "display": null,
            "flex": null,
            "flex_flow": null,
            "grid_area": null,
            "grid_auto_columns": null,
            "grid_auto_flow": null,
            "grid_auto_rows": null,
            "grid_column": null,
            "grid_gap": null,
            "grid_row": null,
            "grid_template_areas": null,
            "grid_template_columns": null,
            "grid_template_rows": null,
            "height": null,
            "justify_content": null,
            "justify_items": null,
            "left": null,
            "margin": null,
            "max_height": null,
            "max_width": null,
            "min_height": null,
            "min_width": null,
            "object_fit": null,
            "object_position": null,
            "order": null,
            "overflow": null,
            "overflow_x": null,
            "overflow_y": null,
            "padding": null,
            "right": null,
            "top": null,
            "visibility": null,
            "width": null
          }
        },
        "ce1e106672d1435db13555b08e3a0dfb": {
          "model_module": "@jupyter-widgets/controls",
          "model_name": "DescriptionStyleModel",
          "model_module_version": "1.5.0",
          "state": {
            "_model_module": "@jupyter-widgets/controls",
            "_model_module_version": "1.5.0",
            "_model_name": "DescriptionStyleModel",
            "_view_count": null,
            "_view_module": "@jupyter-widgets/base",
            "_view_module_version": "1.2.0",
            "_view_name": "StyleView",
            "description_width": ""
          }
        },
        "daa2545c2f4d42549d5c4be1585886fd": {
          "model_module": "@jupyter-widgets/controls",
          "model_name": "HBoxModel",
          "model_module_version": "1.5.0",
          "state": {
            "_dom_classes": [],
            "_model_module": "@jupyter-widgets/controls",
            "_model_module_version": "1.5.0",
            "_model_name": "HBoxModel",
            "_view_count": null,
            "_view_module": "@jupyter-widgets/controls",
            "_view_module_version": "1.5.0",
            "_view_name": "HBoxView",
            "box_style": "",
            "children": [
              "IPY_MODEL_40aaf0cd2108449a81f9041b063642d0",
              "IPY_MODEL_34c719c67f48455cb448e5cf782a530c",
              "IPY_MODEL_67d938acd3be4231bdafc3b4d4a178b2"
            ],
            "layout": "IPY_MODEL_26d13034aa2d45e59cde03461b7e4ddf"
          }
        },
        "40aaf0cd2108449a81f9041b063642d0": {
          "model_module": "@jupyter-widgets/controls",
          "model_name": "HTMLModel",
          "model_module_version": "1.5.0",
          "state": {
            "_dom_classes": [],
            "_model_module": "@jupyter-widgets/controls",
            "_model_module_version": "1.5.0",
            "_model_name": "HTMLModel",
            "_view_count": null,
            "_view_module": "@jupyter-widgets/controls",
            "_view_module_version": "1.5.0",
            "_view_name": "HTMLView",
            "description": "",
            "description_tooltip": null,
            "layout": "IPY_MODEL_6e684877fedc462489ece187d78a55cf",
            "placeholder": "​",
            "style": "IPY_MODEL_d8bc1897ac9943c0a61df75509f5344e",
            "value": "Epoch 3: 100%"
          }
        },
        "34c719c67f48455cb448e5cf782a530c": {
          "model_module": "@jupyter-widgets/controls",
          "model_name": "FloatProgressModel",
          "model_module_version": "1.5.0",
          "state": {
            "_dom_classes": [],
            "_model_module": "@jupyter-widgets/controls",
            "_model_module_version": "1.5.0",
            "_model_name": "FloatProgressModel",
            "_view_count": null,
            "_view_module": "@jupyter-widgets/controls",
            "_view_module_version": "1.5.0",
            "_view_name": "ProgressView",
            "bar_style": "",
            "description": "",
            "description_tooltip": null,
            "layout": "IPY_MODEL_0f44957e39b94060bb3e508e62b2fc8a",
            "max": 3406,
            "min": 0,
            "orientation": "horizontal",
            "style": "IPY_MODEL_7e8a3e3dd1794e57814c638e49626237",
            "value": 3406
          }
        },
        "67d938acd3be4231bdafc3b4d4a178b2": {
          "model_module": "@jupyter-widgets/controls",
          "model_name": "HTMLModel",
          "model_module_version": "1.5.0",
          "state": {
            "_dom_classes": [],
            "_model_module": "@jupyter-widgets/controls",
            "_model_module_version": "1.5.0",
            "_model_name": "HTMLModel",
            "_view_count": null,
            "_view_module": "@jupyter-widgets/controls",
            "_view_module_version": "1.5.0",
            "_view_name": "HTMLView",
            "description": "",
            "description_tooltip": null,
            "layout": "IPY_MODEL_257df4e9d53a4108b3e1ba1e0c7bfce8",
            "placeholder": "​",
            "style": "IPY_MODEL_62a26eab2c3c4d338b1ec8669ea3d444",
            "value": " 3405/3406 [06:44&lt;00:00,  8.44it/s, training_loss=0.872]"
          }
        },
        "26d13034aa2d45e59cde03461b7e4ddf": {
          "model_module": "@jupyter-widgets/base",
          "model_name": "LayoutModel",
          "model_module_version": "1.2.0",
          "state": {
            "_model_module": "@jupyter-widgets/base",
            "_model_module_version": "1.2.0",
            "_model_name": "LayoutModel",
            "_view_count": null,
            "_view_module": "@jupyter-widgets/base",
            "_view_module_version": "1.2.0",
            "_view_name": "LayoutView",
            "align_content": null,
            "align_items": null,
            "align_self": null,
            "border": null,
            "bottom": null,
            "display": null,
            "flex": null,
            "flex_flow": null,
            "grid_area": null,
            "grid_auto_columns": null,
            "grid_auto_flow": null,
            "grid_auto_rows": null,
            "grid_column": null,
            "grid_gap": null,
            "grid_row": null,
            "grid_template_areas": null,
            "grid_template_columns": null,
            "grid_template_rows": null,
            "height": null,
            "justify_content": null,
            "justify_items": null,
            "left": null,
            "margin": null,
            "max_height": null,
            "max_width": null,
            "min_height": null,
            "min_width": null,
            "object_fit": null,
            "object_position": null,
            "order": null,
            "overflow": null,
            "overflow_x": null,
            "overflow_y": null,
            "padding": null,
            "right": null,
            "top": null,
            "visibility": null,
            "width": null
          }
        },
        "6e684877fedc462489ece187d78a55cf": {
          "model_module": "@jupyter-widgets/base",
          "model_name": "LayoutModel",
          "model_module_version": "1.2.0",
          "state": {
            "_model_module": "@jupyter-widgets/base",
            "_model_module_version": "1.2.0",
            "_model_name": "LayoutModel",
            "_view_count": null,
            "_view_module": "@jupyter-widgets/base",
            "_view_module_version": "1.2.0",
            "_view_name": "LayoutView",
            "align_content": null,
            "align_items": null,
            "align_self": null,
            "border": null,
            "bottom": null,
            "display": null,
            "flex": null,
            "flex_flow": null,
            "grid_area": null,
            "grid_auto_columns": null,
            "grid_auto_flow": null,
            "grid_auto_rows": null,
            "grid_column": null,
            "grid_gap": null,
            "grid_row": null,
            "grid_template_areas": null,
            "grid_template_columns": null,
            "grid_template_rows": null,
            "height": null,
            "justify_content": null,
            "justify_items": null,
            "left": null,
            "margin": null,
            "max_height": null,
            "max_width": null,
            "min_height": null,
            "min_width": null,
            "object_fit": null,
            "object_position": null,
            "order": null,
            "overflow": null,
            "overflow_x": null,
            "overflow_y": null,
            "padding": null,
            "right": null,
            "top": null,
            "visibility": null,
            "width": null
          }
        },
        "d8bc1897ac9943c0a61df75509f5344e": {
          "model_module": "@jupyter-widgets/controls",
          "model_name": "DescriptionStyleModel",
          "model_module_version": "1.5.0",
          "state": {
            "_model_module": "@jupyter-widgets/controls",
            "_model_module_version": "1.5.0",
            "_model_name": "DescriptionStyleModel",
            "_view_count": null,
            "_view_module": "@jupyter-widgets/base",
            "_view_module_version": "1.2.0",
            "_view_name": "StyleView",
            "description_width": ""
          }
        },
        "0f44957e39b94060bb3e508e62b2fc8a": {
          "model_module": "@jupyter-widgets/base",
          "model_name": "LayoutModel",
          "model_module_version": "1.2.0",
          "state": {
            "_model_module": "@jupyter-widgets/base",
            "_model_module_version": "1.2.0",
            "_model_name": "LayoutModel",
            "_view_count": null,
            "_view_module": "@jupyter-widgets/base",
            "_view_module_version": "1.2.0",
            "_view_name": "LayoutView",
            "align_content": null,
            "align_items": null,
            "align_self": null,
            "border": null,
            "bottom": null,
            "display": null,
            "flex": null,
            "flex_flow": null,
            "grid_area": null,
            "grid_auto_columns": null,
            "grid_auto_flow": null,
            "grid_auto_rows": null,
            "grid_column": null,
            "grid_gap": null,
            "grid_row": null,
            "grid_template_areas": null,
            "grid_template_columns": null,
            "grid_template_rows": null,
            "height": null,
            "justify_content": null,
            "justify_items": null,
            "left": null,
            "margin": null,
            "max_height": null,
            "max_width": null,
            "min_height": null,
            "min_width": null,
            "object_fit": null,
            "object_position": null,
            "order": null,
            "overflow": null,
            "overflow_x": null,
            "overflow_y": null,
            "padding": null,
            "right": null,
            "top": null,
            "visibility": null,
            "width": null
          }
        },
        "7e8a3e3dd1794e57814c638e49626237": {
          "model_module": "@jupyter-widgets/controls",
          "model_name": "ProgressStyleModel",
          "model_module_version": "1.5.0",
          "state": {
            "_model_module": "@jupyter-widgets/controls",
            "_model_module_version": "1.5.0",
            "_model_name": "ProgressStyleModel",
            "_view_count": null,
            "_view_module": "@jupyter-widgets/base",
            "_view_module_version": "1.2.0",
            "_view_name": "StyleView",
            "bar_color": null,
            "description_width": ""
          }
        },
        "257df4e9d53a4108b3e1ba1e0c7bfce8": {
          "model_module": "@jupyter-widgets/base",
          "model_name": "LayoutModel",
          "model_module_version": "1.2.0",
          "state": {
            "_model_module": "@jupyter-widgets/base",
            "_model_module_version": "1.2.0",
            "_model_name": "LayoutModel",
            "_view_count": null,
            "_view_module": "@jupyter-widgets/base",
            "_view_module_version": "1.2.0",
            "_view_name": "LayoutView",
            "align_content": null,
            "align_items": null,
            "align_self": null,
            "border": null,
            "bottom": null,
            "display": null,
            "flex": null,
            "flex_flow": null,
            "grid_area": null,
            "grid_auto_columns": null,
            "grid_auto_flow": null,
            "grid_auto_rows": null,
            "grid_column": null,
            "grid_gap": null,
            "grid_row": null,
            "grid_template_areas": null,
            "grid_template_columns": null,
            "grid_template_rows": null,
            "height": null,
            "justify_content": null,
            "justify_items": null,
            "left": null,
            "margin": null,
            "max_height": null,
            "max_width": null,
            "min_height": null,
            "min_width": null,
            "object_fit": null,
            "object_position": null,
            "order": null,
            "overflow": null,
            "overflow_x": null,
            "overflow_y": null,
            "padding": null,
            "right": null,
            "top": null,
            "visibility": null,
            "width": null
          }
        },
        "62a26eab2c3c4d338b1ec8669ea3d444": {
          "model_module": "@jupyter-widgets/controls",
          "model_name": "DescriptionStyleModel",
          "model_module_version": "1.5.0",
          "state": {
            "_model_module": "@jupyter-widgets/controls",
            "_model_module_version": "1.5.0",
            "_model_name": "DescriptionStyleModel",
            "_view_count": null,
            "_view_module": "@jupyter-widgets/base",
            "_view_module_version": "1.2.0",
            "_view_name": "StyleView",
            "description_width": ""
          }
        },
        "74d3eba87fd14bbcb428a2a8c8238971": {
          "model_module": "@jupyter-widgets/controls",
          "model_name": "HBoxModel",
          "model_module_version": "1.5.0",
          "state": {
            "_dom_classes": [],
            "_model_module": "@jupyter-widgets/controls",
            "_model_module_version": "1.5.0",
            "_model_name": "HBoxModel",
            "_view_count": null,
            "_view_module": "@jupyter-widgets/controls",
            "_view_module_version": "1.5.0",
            "_view_name": "HBoxView",
            "box_style": "",
            "children": [
              "IPY_MODEL_ac84ac2f6f804248af712347747cd917",
              "IPY_MODEL_931c1da97ed34c728bfff119165781a8",
              "IPY_MODEL_067ea108e8b34ba2951ad58207cacaf9"
            ],
            "layout": "IPY_MODEL_c3d3c27e90e14aae8c70700903a096ff"
          }
        },
        "ac84ac2f6f804248af712347747cd917": {
          "model_module": "@jupyter-widgets/controls",
          "model_name": "HTMLModel",
          "model_module_version": "1.5.0",
          "state": {
            "_dom_classes": [],
            "_model_module": "@jupyter-widgets/controls",
            "_model_module_version": "1.5.0",
            "_model_name": "HTMLModel",
            "_view_count": null,
            "_view_module": "@jupyter-widgets/controls",
            "_view_module_version": "1.5.0",
            "_view_name": "HTMLView",
            "description": "",
            "description_tooltip": null,
            "layout": "IPY_MODEL_9ed5faef44b14fdba6ef3fab12083a59",
            "placeholder": "​",
            "style": "IPY_MODEL_f4dfc2f5db1742ceaf392f3b095c38c9",
            "value": "Epoch 4: 100%"
          }
        },
        "931c1da97ed34c728bfff119165781a8": {
          "model_module": "@jupyter-widgets/controls",
          "model_name": "FloatProgressModel",
          "model_module_version": "1.5.0",
          "state": {
            "_dom_classes": [],
            "_model_module": "@jupyter-widgets/controls",
            "_model_module_version": "1.5.0",
            "_model_name": "FloatProgressModel",
            "_view_count": null,
            "_view_module": "@jupyter-widgets/controls",
            "_view_module_version": "1.5.0",
            "_view_name": "ProgressView",
            "bar_style": "",
            "description": "",
            "description_tooltip": null,
            "layout": "IPY_MODEL_a33b73ebb96240f0bb109388a9a4428a",
            "max": 3406,
            "min": 0,
            "orientation": "horizontal",
            "style": "IPY_MODEL_9de71237683b410bbd48acf706f3fd44",
            "value": 3406
          }
        },
        "067ea108e8b34ba2951ad58207cacaf9": {
          "model_module": "@jupyter-widgets/controls",
          "model_name": "HTMLModel",
          "model_module_version": "1.5.0",
          "state": {
            "_dom_classes": [],
            "_model_module": "@jupyter-widgets/controls",
            "_model_module_version": "1.5.0",
            "_model_name": "HTMLModel",
            "_view_count": null,
            "_view_module": "@jupyter-widgets/controls",
            "_view_module_version": "1.5.0",
            "_view_name": "HTMLView",
            "description": "",
            "description_tooltip": null,
            "layout": "IPY_MODEL_6bd2ac9fd70844ecac16c695b82266ed",
            "placeholder": "​",
            "style": "IPY_MODEL_ee75ce00fe5a4e3387b785aaba592051",
            "value": " 3405/3406 [06:43&lt;00:00,  8.41it/s, training_loss=0.003]"
          }
        },
        "c3d3c27e90e14aae8c70700903a096ff": {
          "model_module": "@jupyter-widgets/base",
          "model_name": "LayoutModel",
          "model_module_version": "1.2.0",
          "state": {
            "_model_module": "@jupyter-widgets/base",
            "_model_module_version": "1.2.0",
            "_model_name": "LayoutModel",
            "_view_count": null,
            "_view_module": "@jupyter-widgets/base",
            "_view_module_version": "1.2.0",
            "_view_name": "LayoutView",
            "align_content": null,
            "align_items": null,
            "align_self": null,
            "border": null,
            "bottom": null,
            "display": null,
            "flex": null,
            "flex_flow": null,
            "grid_area": null,
            "grid_auto_columns": null,
            "grid_auto_flow": null,
            "grid_auto_rows": null,
            "grid_column": null,
            "grid_gap": null,
            "grid_row": null,
            "grid_template_areas": null,
            "grid_template_columns": null,
            "grid_template_rows": null,
            "height": null,
            "justify_content": null,
            "justify_items": null,
            "left": null,
            "margin": null,
            "max_height": null,
            "max_width": null,
            "min_height": null,
            "min_width": null,
            "object_fit": null,
            "object_position": null,
            "order": null,
            "overflow": null,
            "overflow_x": null,
            "overflow_y": null,
            "padding": null,
            "right": null,
            "top": null,
            "visibility": null,
            "width": null
          }
        },
        "9ed5faef44b14fdba6ef3fab12083a59": {
          "model_module": "@jupyter-widgets/base",
          "model_name": "LayoutModel",
          "model_module_version": "1.2.0",
          "state": {
            "_model_module": "@jupyter-widgets/base",
            "_model_module_version": "1.2.0",
            "_model_name": "LayoutModel",
            "_view_count": null,
            "_view_module": "@jupyter-widgets/base",
            "_view_module_version": "1.2.0",
            "_view_name": "LayoutView",
            "align_content": null,
            "align_items": null,
            "align_self": null,
            "border": null,
            "bottom": null,
            "display": null,
            "flex": null,
            "flex_flow": null,
            "grid_area": null,
            "grid_auto_columns": null,
            "grid_auto_flow": null,
            "grid_auto_rows": null,
            "grid_column": null,
            "grid_gap": null,
            "grid_row": null,
            "grid_template_areas": null,
            "grid_template_columns": null,
            "grid_template_rows": null,
            "height": null,
            "justify_content": null,
            "justify_items": null,
            "left": null,
            "margin": null,
            "max_height": null,
            "max_width": null,
            "min_height": null,
            "min_width": null,
            "object_fit": null,
            "object_position": null,
            "order": null,
            "overflow": null,
            "overflow_x": null,
            "overflow_y": null,
            "padding": null,
            "right": null,
            "top": null,
            "visibility": null,
            "width": null
          }
        },
        "f4dfc2f5db1742ceaf392f3b095c38c9": {
          "model_module": "@jupyter-widgets/controls",
          "model_name": "DescriptionStyleModel",
          "model_module_version": "1.5.0",
          "state": {
            "_model_module": "@jupyter-widgets/controls",
            "_model_module_version": "1.5.0",
            "_model_name": "DescriptionStyleModel",
            "_view_count": null,
            "_view_module": "@jupyter-widgets/base",
            "_view_module_version": "1.2.0",
            "_view_name": "StyleView",
            "description_width": ""
          }
        },
        "a33b73ebb96240f0bb109388a9a4428a": {
          "model_module": "@jupyter-widgets/base",
          "model_name": "LayoutModel",
          "model_module_version": "1.2.0",
          "state": {
            "_model_module": "@jupyter-widgets/base",
            "_model_module_version": "1.2.0",
            "_model_name": "LayoutModel",
            "_view_count": null,
            "_view_module": "@jupyter-widgets/base",
            "_view_module_version": "1.2.0",
            "_view_name": "LayoutView",
            "align_content": null,
            "align_items": null,
            "align_self": null,
            "border": null,
            "bottom": null,
            "display": null,
            "flex": null,
            "flex_flow": null,
            "grid_area": null,
            "grid_auto_columns": null,
            "grid_auto_flow": null,
            "grid_auto_rows": null,
            "grid_column": null,
            "grid_gap": null,
            "grid_row": null,
            "grid_template_areas": null,
            "grid_template_columns": null,
            "grid_template_rows": null,
            "height": null,
            "justify_content": null,
            "justify_items": null,
            "left": null,
            "margin": null,
            "max_height": null,
            "max_width": null,
            "min_height": null,
            "min_width": null,
            "object_fit": null,
            "object_position": null,
            "order": null,
            "overflow": null,
            "overflow_x": null,
            "overflow_y": null,
            "padding": null,
            "right": null,
            "top": null,
            "visibility": null,
            "width": null
          }
        },
        "9de71237683b410bbd48acf706f3fd44": {
          "model_module": "@jupyter-widgets/controls",
          "model_name": "ProgressStyleModel",
          "model_module_version": "1.5.0",
          "state": {
            "_model_module": "@jupyter-widgets/controls",
            "_model_module_version": "1.5.0",
            "_model_name": "ProgressStyleModel",
            "_view_count": null,
            "_view_module": "@jupyter-widgets/base",
            "_view_module_version": "1.2.0",
            "_view_name": "StyleView",
            "bar_color": null,
            "description_width": ""
          }
        },
        "6bd2ac9fd70844ecac16c695b82266ed": {
          "model_module": "@jupyter-widgets/base",
          "model_name": "LayoutModel",
          "model_module_version": "1.2.0",
          "state": {
            "_model_module": "@jupyter-widgets/base",
            "_model_module_version": "1.2.0",
            "_model_name": "LayoutModel",
            "_view_count": null,
            "_view_module": "@jupyter-widgets/base",
            "_view_module_version": "1.2.0",
            "_view_name": "LayoutView",
            "align_content": null,
            "align_items": null,
            "align_self": null,
            "border": null,
            "bottom": null,
            "display": null,
            "flex": null,
            "flex_flow": null,
            "grid_area": null,
            "grid_auto_columns": null,
            "grid_auto_flow": null,
            "grid_auto_rows": null,
            "grid_column": null,
            "grid_gap": null,
            "grid_row": null,
            "grid_template_areas": null,
            "grid_template_columns": null,
            "grid_template_rows": null,
            "height": null,
            "justify_content": null,
            "justify_items": null,
            "left": null,
            "margin": null,
            "max_height": null,
            "max_width": null,
            "min_height": null,
            "min_width": null,
            "object_fit": null,
            "object_position": null,
            "order": null,
            "overflow": null,
            "overflow_x": null,
            "overflow_y": null,
            "padding": null,
            "right": null,
            "top": null,
            "visibility": null,
            "width": null
          }
        },
        "ee75ce00fe5a4e3387b785aaba592051": {
          "model_module": "@jupyter-widgets/controls",
          "model_name": "DescriptionStyleModel",
          "model_module_version": "1.5.0",
          "state": {
            "_model_module": "@jupyter-widgets/controls",
            "_model_module_version": "1.5.0",
            "_model_name": "DescriptionStyleModel",
            "_view_count": null,
            "_view_module": "@jupyter-widgets/base",
            "_view_module_version": "1.2.0",
            "_view_name": "StyleView",
            "description_width": ""
          }
        },
        "68b59e7886334f948b8c886c64e1bf8a": {
          "model_module": "@jupyter-widgets/controls",
          "model_name": "HBoxModel",
          "model_module_version": "1.5.0",
          "state": {
            "_dom_classes": [],
            "_model_module": "@jupyter-widgets/controls",
            "_model_module_version": "1.5.0",
            "_model_name": "HBoxModel",
            "_view_count": null,
            "_view_module": "@jupyter-widgets/controls",
            "_view_module_version": "1.5.0",
            "_view_name": "HBoxView",
            "box_style": "",
            "children": [
              "IPY_MODEL_d49163d22e0c435c852d8ae888eb5f5b",
              "IPY_MODEL_aa497f5354b847be97e49ed60b65d88b",
              "IPY_MODEL_6800d49cc8fb44a2b22b02c53534587a"
            ],
            "layout": "IPY_MODEL_e08f647e886e49a39e57d47c9d9ac7d6"
          }
        },
        "d49163d22e0c435c852d8ae888eb5f5b": {
          "model_module": "@jupyter-widgets/controls",
          "model_name": "HTMLModel",
          "model_module_version": "1.5.0",
          "state": {
            "_dom_classes": [],
            "_model_module": "@jupyter-widgets/controls",
            "_model_module_version": "1.5.0",
            "_model_name": "HTMLModel",
            "_view_count": null,
            "_view_module": "@jupyter-widgets/controls",
            "_view_module_version": "1.5.0",
            "_view_name": "HTMLView",
            "description": "",
            "description_tooltip": null,
            "layout": "IPY_MODEL_75bfa4d51d73427588a3b36fed06b772",
            "placeholder": "​",
            "style": "IPY_MODEL_c97b9d0e422c4e3e8cb660aa415a7f57",
            "value": "Epoch 5: 100%"
          }
        },
        "aa497f5354b847be97e49ed60b65d88b": {
          "model_module": "@jupyter-widgets/controls",
          "model_name": "FloatProgressModel",
          "model_module_version": "1.5.0",
          "state": {
            "_dom_classes": [],
            "_model_module": "@jupyter-widgets/controls",
            "_model_module_version": "1.5.0",
            "_model_name": "FloatProgressModel",
            "_view_count": null,
            "_view_module": "@jupyter-widgets/controls",
            "_view_module_version": "1.5.0",
            "_view_name": "ProgressView",
            "bar_style": "",
            "description": "",
            "description_tooltip": null,
            "layout": "IPY_MODEL_d32412d9487e44c1ab34f4f3b3978f31",
            "max": 3406,
            "min": 0,
            "orientation": "horizontal",
            "style": "IPY_MODEL_2f40e3e563b4431d9fcea46ee3e9aa0e",
            "value": 3406
          }
        },
        "6800d49cc8fb44a2b22b02c53534587a": {
          "model_module": "@jupyter-widgets/controls",
          "model_name": "HTMLModel",
          "model_module_version": "1.5.0",
          "state": {
            "_dom_classes": [],
            "_model_module": "@jupyter-widgets/controls",
            "_model_module_version": "1.5.0",
            "_model_name": "HTMLModel",
            "_view_count": null,
            "_view_module": "@jupyter-widgets/controls",
            "_view_module_version": "1.5.0",
            "_view_name": "HTMLView",
            "description": "",
            "description_tooltip": null,
            "layout": "IPY_MODEL_79036e4b087749048498317b3d7f2484",
            "placeholder": "​",
            "style": "IPY_MODEL_e4d0986e894245a8b26a17b092fa332e",
            "value": " 3405/3406 [06:43&lt;00:00,  8.45it/s, training_loss=0.000]"
          }
        },
        "e08f647e886e49a39e57d47c9d9ac7d6": {
          "model_module": "@jupyter-widgets/base",
          "model_name": "LayoutModel",
          "model_module_version": "1.2.0",
          "state": {
            "_model_module": "@jupyter-widgets/base",
            "_model_module_version": "1.2.0",
            "_model_name": "LayoutModel",
            "_view_count": null,
            "_view_module": "@jupyter-widgets/base",
            "_view_module_version": "1.2.0",
            "_view_name": "LayoutView",
            "align_content": null,
            "align_items": null,
            "align_self": null,
            "border": null,
            "bottom": null,
            "display": null,
            "flex": null,
            "flex_flow": null,
            "grid_area": null,
            "grid_auto_columns": null,
            "grid_auto_flow": null,
            "grid_auto_rows": null,
            "grid_column": null,
            "grid_gap": null,
            "grid_row": null,
            "grid_template_areas": null,
            "grid_template_columns": null,
            "grid_template_rows": null,
            "height": null,
            "justify_content": null,
            "justify_items": null,
            "left": null,
            "margin": null,
            "max_height": null,
            "max_width": null,
            "min_height": null,
            "min_width": null,
            "object_fit": null,
            "object_position": null,
            "order": null,
            "overflow": null,
            "overflow_x": null,
            "overflow_y": null,
            "padding": null,
            "right": null,
            "top": null,
            "visibility": null,
            "width": null
          }
        },
        "75bfa4d51d73427588a3b36fed06b772": {
          "model_module": "@jupyter-widgets/base",
          "model_name": "LayoutModel",
          "model_module_version": "1.2.0",
          "state": {
            "_model_module": "@jupyter-widgets/base",
            "_model_module_version": "1.2.0",
            "_model_name": "LayoutModel",
            "_view_count": null,
            "_view_module": "@jupyter-widgets/base",
            "_view_module_version": "1.2.0",
            "_view_name": "LayoutView",
            "align_content": null,
            "align_items": null,
            "align_self": null,
            "border": null,
            "bottom": null,
            "display": null,
            "flex": null,
            "flex_flow": null,
            "grid_area": null,
            "grid_auto_columns": null,
            "grid_auto_flow": null,
            "grid_auto_rows": null,
            "grid_column": null,
            "grid_gap": null,
            "grid_row": null,
            "grid_template_areas": null,
            "grid_template_columns": null,
            "grid_template_rows": null,
            "height": null,
            "justify_content": null,
            "justify_items": null,
            "left": null,
            "margin": null,
            "max_height": null,
            "max_width": null,
            "min_height": null,
            "min_width": null,
            "object_fit": null,
            "object_position": null,
            "order": null,
            "overflow": null,
            "overflow_x": null,
            "overflow_y": null,
            "padding": null,
            "right": null,
            "top": null,
            "visibility": null,
            "width": null
          }
        },
        "c97b9d0e422c4e3e8cb660aa415a7f57": {
          "model_module": "@jupyter-widgets/controls",
          "model_name": "DescriptionStyleModel",
          "model_module_version": "1.5.0",
          "state": {
            "_model_module": "@jupyter-widgets/controls",
            "_model_module_version": "1.5.0",
            "_model_name": "DescriptionStyleModel",
            "_view_count": null,
            "_view_module": "@jupyter-widgets/base",
            "_view_module_version": "1.2.0",
            "_view_name": "StyleView",
            "description_width": ""
          }
        },
        "d32412d9487e44c1ab34f4f3b3978f31": {
          "model_module": "@jupyter-widgets/base",
          "model_name": "LayoutModel",
          "model_module_version": "1.2.0",
          "state": {
            "_model_module": "@jupyter-widgets/base",
            "_model_module_version": "1.2.0",
            "_model_name": "LayoutModel",
            "_view_count": null,
            "_view_module": "@jupyter-widgets/base",
            "_view_module_version": "1.2.0",
            "_view_name": "LayoutView",
            "align_content": null,
            "align_items": null,
            "align_self": null,
            "border": null,
            "bottom": null,
            "display": null,
            "flex": null,
            "flex_flow": null,
            "grid_area": null,
            "grid_auto_columns": null,
            "grid_auto_flow": null,
            "grid_auto_rows": null,
            "grid_column": null,
            "grid_gap": null,
            "grid_row": null,
            "grid_template_areas": null,
            "grid_template_columns": null,
            "grid_template_rows": null,
            "height": null,
            "justify_content": null,
            "justify_items": null,
            "left": null,
            "margin": null,
            "max_height": null,
            "max_width": null,
            "min_height": null,
            "min_width": null,
            "object_fit": null,
            "object_position": null,
            "order": null,
            "overflow": null,
            "overflow_x": null,
            "overflow_y": null,
            "padding": null,
            "right": null,
            "top": null,
            "visibility": null,
            "width": null
          }
        },
        "2f40e3e563b4431d9fcea46ee3e9aa0e": {
          "model_module": "@jupyter-widgets/controls",
          "model_name": "ProgressStyleModel",
          "model_module_version": "1.5.0",
          "state": {
            "_model_module": "@jupyter-widgets/controls",
            "_model_module_version": "1.5.0",
            "_model_name": "ProgressStyleModel",
            "_view_count": null,
            "_view_module": "@jupyter-widgets/base",
            "_view_module_version": "1.2.0",
            "_view_name": "StyleView",
            "bar_color": null,
            "description_width": ""
          }
        },
        "79036e4b087749048498317b3d7f2484": {
          "model_module": "@jupyter-widgets/base",
          "model_name": "LayoutModel",
          "model_module_version": "1.2.0",
          "state": {
            "_model_module": "@jupyter-widgets/base",
            "_model_module_version": "1.2.0",
            "_model_name": "LayoutModel",
            "_view_count": null,
            "_view_module": "@jupyter-widgets/base",
            "_view_module_version": "1.2.0",
            "_view_name": "LayoutView",
            "align_content": null,
            "align_items": null,
            "align_self": null,
            "border": null,
            "bottom": null,
            "display": null,
            "flex": null,
            "flex_flow": null,
            "grid_area": null,
            "grid_auto_columns": null,
            "grid_auto_flow": null,
            "grid_auto_rows": null,
            "grid_column": null,
            "grid_gap": null,
            "grid_row": null,
            "grid_template_areas": null,
            "grid_template_columns": null,
            "grid_template_rows": null,
            "height": null,
            "justify_content": null,
            "justify_items": null,
            "left": null,
            "margin": null,
            "max_height": null,
            "max_width": null,
            "min_height": null,
            "min_width": null,
            "object_fit": null,
            "object_position": null,
            "order": null,
            "overflow": null,
            "overflow_x": null,
            "overflow_y": null,
            "padding": null,
            "right": null,
            "top": null,
            "visibility": null,
            "width": null
          }
        },
        "e4d0986e894245a8b26a17b092fa332e": {
          "model_module": "@jupyter-widgets/controls",
          "model_name": "DescriptionStyleModel",
          "model_module_version": "1.5.0",
          "state": {
            "_model_module": "@jupyter-widgets/controls",
            "_model_module_version": "1.5.0",
            "_model_name": "DescriptionStyleModel",
            "_view_count": null,
            "_view_module": "@jupyter-widgets/base",
            "_view_module_version": "1.2.0",
            "_view_name": "StyleView",
            "description_width": ""
          }
        }
      }
    }
  },
  "nbformat": 4,
  "nbformat_minor": 0
}