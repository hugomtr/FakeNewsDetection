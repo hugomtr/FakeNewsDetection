{
  "cells": [
    {
      "cell_type": "markdown",
      "source": [
        "@file fakeNews.ipynb\n",
        "<br>\n",
        "@author hugomtr\n",
        "<br>\n",
        "@brief \n",
        "<br>\n",
        "@version 0.1\n",
        "<br>\n",
        "@date 2022-02-28\n",
        "<br>\n",
        "@copyright Copyright (c) 2022"
      ],
      "metadata": {
        "id": "_9gBtpxq3cFT"
      }
    },
    {
      "cell_type": "markdown",
      "metadata": {
        "id": "i6z-w3-M-T-5"
      },
      "source": [
        "# Starting"
      ]
    },
    {
      "cell_type": "code",
      "source": [
        "gpu_info = !nvidia-smi\n",
        "gpu_info = '\\n'.join(gpu_info)\n",
        "if gpu_info.find('failed') >= 0:\n",
        "  print('Not connected to a GPU')\n",
        "else:\n",
        "  print(gpu_info)"
      ],
      "metadata": {
        "colab": {
          "base_uri": "https://localhost:8080/"
        },
        "id": "HQHttkaTwmkn",
        "outputId": "d25fed33-f8fb-441e-d87c-6ef2a782969a"
      },
      "execution_count": 19,
      "outputs": [
        {
          "output_type": "stream",
          "name": "stdout",
          "text": [
            "Thu Mar 24 12:19:52 2022       \n",
            "+-----------------------------------------------------------------------------+\n",
            "| NVIDIA-SMI 460.32.03    Driver Version: 460.32.03    CUDA Version: 11.2     |\n",
            "|-------------------------------+----------------------+----------------------+\n",
            "| GPU  Name        Persistence-M| Bus-Id        Disp.A | Volatile Uncorr. ECC |\n",
            "| Fan  Temp  Perf  Pwr:Usage/Cap|         Memory-Usage | GPU-Util  Compute M. |\n",
            "|                               |                      |               MIG M. |\n",
            "|===============================+======================+======================|\n",
            "|   0  Tesla T4            Off  | 00000000:00:04.0 Off |                    0 |\n",
            "| N/A   35C    P8    10W /  70W |      0MiB / 15109MiB |      0%      Default |\n",
            "|                               |                      |                  N/A |\n",
            "+-------------------------------+----------------------+----------------------+\n",
            "                                                                               \n",
            "+-----------------------------------------------------------------------------+\n",
            "| Processes:                                                                  |\n",
            "|  GPU   GI   CI        PID   Type   Process name                  GPU Memory |\n",
            "|        ID   ID                                                   Usage      |\n",
            "|=============================================================================|\n",
            "|  No running processes found                                                 |\n",
            "+-----------------------------------------------------------------------------+\n"
          ]
        }
      ]
    },
    {
      "cell_type": "code",
      "execution_count": 136,
      "metadata": {
        "id": "BB6b6eaZjDJe",
        "colab": {
          "base_uri": "https://localhost:8080/"
        },
        "outputId": "b03c1754-7c89-4e3a-eab4-88eb5d4a0515"
      },
      "outputs": [
        {
          "output_type": "stream",
          "name": "stdout",
          "text": [
            "Requirement already satisfied: tabulate in /usr/local/lib/python3.7/dist-packages (0.8.9)\n"
          ]
        }
      ],
      "source": [
        "import pandas as pd\n",
        "import numpy as np\n",
        "import seaborn as sns\n",
        "import matplotlib.pyplot as plt\n",
        "import sys\n",
        "\n",
        "import sklearn\n",
        "\n",
        "# import some classifier\n",
        "from sklearn.naive_bayes import MultinomialNB\n",
        "from sklearn.linear_model import LogisticRegression\n",
        "from sklearn.naive_bayes import GaussianNB\n",
        "from sklearn.tree import DecisionTreeClassifier\n",
        "from sklearn.neighbors import KNeighborsClassifier\n",
        "from sklearn.ensemble import RandomForestClassifier\n",
        "from sklearn.svm import SVC\n",
        "from sklearn.linear_model import LinearRegression\n",
        "from sklearn.linear_model import SGDClassifier\n",
        "from sklearn.linear_model import PassiveAggressiveClassifier\n",
        "\n",
        "\n",
        "# import modules for vectorizing and pipe\n",
        "from sklearn.feature_extraction.text import CountVectorizer,TfidfVectorizer\n",
        "from sklearn.pipeline import Pipeline\n",
        "from sklearn.feature_extraction.text import TfidfTransformer\n",
        "from sklearn.pipeline import make_pipeline\n",
        "\n",
        "# modules for model selection\n",
        "from sklearn.model_selection import train_test_split \n",
        "from sklearn.model_selection import KFold\n",
        "from sklearn.model_selection import GridSearchCV\n",
        "from sklearn.model_selection import cross_val_score\n",
        "\n",
        "# modules for evaluation\n",
        "from sklearn.metrics import accuracy_score\n",
        "from sklearn.metrics import confusion_matrix\n",
        "from sklearn.metrics import classification_report\n",
        "from sklearn.metrics import precision_recall_fscore_support as score\n",
        "\n",
        "# modules for vizualisation\n",
        "import seaborn as sns\n",
        "import matplotlib.pyplot as plt\n",
        "from sklearn.metrics import plot_confusion_matrix\n",
        "from tabulate import tabulate\n",
        "\n",
        "# others\n",
        "import itertools\n",
        "import random"
      ]
    },
    {
      "cell_type": "code",
      "execution_count": 21,
      "metadata": {
        "colab": {
          "base_uri": "https://localhost:8080/"
        },
        "id": "1Fy07f-gjuRO",
        "outputId": "3f37e802-e609-4172-fe64-73c1f3454f85"
      },
      "outputs": [
        {
          "output_type": "stream",
          "name": "stdout",
          "text": [
            "Drive already mounted at /content/gdrive/; to attempt to forcibly remount, call drive.mount(\"/content/gdrive/\", force_remount=True).\n"
          ]
        }
      ],
      "source": [
        "from google.colab import drive\n",
        "drive.mount('/content/gdrive/')"
      ]
    },
    {
      "cell_type": "code",
      "execution_count": 22,
      "metadata": {
        "colab": {
          "base_uri": "https://localhost:8080/",
          "height": 54
        },
        "id": "pCNNDjdZjy5q",
        "outputId": "4105d304-5094-4694-c52b-79324fda9223"
      },
      "outputs": [
        {
          "output_type": "stream",
          "name": "stdout",
          "text": [
            "/content/gdrive/My Drive/Colab Notebooks/FakeNews\n"
          ]
        },
        {
          "output_type": "execute_result",
          "data": {
            "text/plain": [
              "'/content/gdrive/My Drive/Colab Notebooks/FakeNews'"
            ],
            "application/vnd.google.colaboratory.intrinsic+json": {
              "type": "string"
            }
          },
          "metadata": {},
          "execution_count": 22
        }
      ],
      "source": [
        "my_local_drive='/content/gdrive/My Drive/Colab Notebooks/FakeNews'\n",
        "# Ajout du path pour les librairies, fonctions et données\n",
        "sys.path.append(my_local_drive)\n",
        "# Se positionner sur le répertoire associé\n",
        "%cd $my_local_drive\n",
        "\n",
        "%pwd"
      ]
    },
    {
      "cell_type": "markdown",
      "metadata": {
        "id": "9gjp_awkJLFr"
      },
      "source": [
        "# Loading a smaller dataset (Optional) "
      ]
    },
    {
      "cell_type": "code",
      "execution_count": 150,
      "metadata": {
        "id": "cpy-Kj4II1Ba"
      },
      "outputs": [],
      "source": [
        "df = pd.read_csv(\"claimskg.csv\")"
      ]
    },
    {
      "cell_type": "code",
      "execution_count": 151,
      "metadata": {
        "id": "uNzZSnYjJYD6"
      },
      "outputs": [],
      "source": [
        "f = lambda x : 1 if (x == 3) else 0\n",
        "df[\"truthRating\"] = df[\"truthRating\"].apply(f)"
      ]
    },
    {
      "cell_type": "code",
      "execution_count": 152,
      "metadata": {
        "id": "MOkYXayOJolJ"
      },
      "outputs": [],
      "source": [
        "import random\n",
        "from sklearn.model_selection import train_test_split "
      ]
    },
    {
      "cell_type": "markdown",
      "metadata": {
        "id": "3oF1nGg-JkW2"
      },
      "source": [
        "In the example below we choose n examples of True and n False"
      ]
    },
    {
      "cell_type": "code",
      "execution_count": 153,
      "metadata": {
        "id": "qY7A5O-AJa7g",
        "colab": {
          "base_uri": "https://localhost:8080/"
        },
        "outputId": "1ba20de8-02a2-477e-cc63-d6773afa7187"
      },
      "outputs": [
        {
          "output_type": "stream",
          "name": "stderr",
          "text": [
            "/usr/local/lib/python3.7/dist-packages/ipykernel_launcher.py:3: SettingWithCopyWarning: \n",
            "A value is trying to be set on a copy of a slice from a DataFrame.\n",
            "Try using .loc[row_indexer,col_indexer] = value instead\n",
            "\n",
            "See the caveats in the documentation: https://pandas.pydata.org/pandas-docs/stable/user_guide/indexing.html#returning-a-view-versus-a-copy\n",
            "  This is separate from the ipykernel package so we can avoid doing imports until\n"
          ]
        }
      ],
      "source": [
        "df2 = df.copy()\n",
        "df2 = df[[\"text\",\"truthRating\"]]\n",
        "df2[\"text\"] = df[\"date\"] + \" \"  + df[\"author\"] + \" \" + df[\"text\"]\n",
        "bool_0 = df2[\"truthRating\"] == 0\n",
        "bool_1 = df2[\"truthRating\"] == 1\n",
        "idx0 = [i for i, x in enumerate(bool_0) if x]\n",
        "idx1 = [i for i, x in enumerate(bool_1) if x]\n",
        "# selecting n index of Fake News and True News\n",
        "idx_0 = random.sample(idx0, 2500)\t\n",
        "idx_1 = random.sample(idx1, 2500)\t"
      ]
    },
    {
      "cell_type": "code",
      "execution_count": 154,
      "metadata": {
        "id": "2qtrKk_FJzp7"
      },
      "outputs": [],
      "source": [
        "idx_selected = np.sort(np.concatenate((idx_0,idx_1), axis=None))\n",
        "df2 = df2.iloc[idx_selected]\n",
        "train, test = train_test_split(df2, test_size=0.2, random_state=42, shuffle=True)"
      ]
    },
    {
      "cell_type": "markdown",
      "metadata": {
        "id": "Va4x8OFtKMSY"
      },
      "source": [
        "Saving Data in 2 csv file"
      ]
    },
    {
      "cell_type": "code",
      "execution_count": 155,
      "metadata": {
        "id": "Mw2m4efyKDzt"
      },
      "outputs": [],
      "source": [
        "train.to_csv(\"train.csv\",sep=';')\n",
        "test.to_csv(\"test.csv\",sep=';')"
      ]
    },
    {
      "cell_type": "markdown",
      "metadata": {
        "id": "neyVpCHhGFFq"
      },
      "source": [
        "# Ingenierie Textuelle"
      ]
    },
    {
      "cell_type": "markdown",
      "metadata": {
        "id": "oF2RXtCsIAL1"
      },
      "source": [
        "### Installation Packages & Loading Data"
      ]
    },
    {
      "cell_type": "code",
      "execution_count": 156,
      "metadata": {
        "colab": {
          "base_uri": "https://localhost:8080/"
        },
        "id": "J_1yotixGPX4",
        "outputId": "0ae2bc03-83f9-4680-acf4-f10ab3950340"
      },
      "outputs": [
        {
          "output_type": "stream",
          "name": "stdout",
          "text": [
            "Requirement already satisfied: langdetect in /usr/local/lib/python3.7/dist-packages (1.0.9)\n",
            "Requirement already satisfied: six in /usr/local/lib/python3.7/dist-packages (from langdetect) (1.15.0)\n",
            "Requirement already satisfied: contractions in /usr/local/lib/python3.7/dist-packages (0.1.68)\n",
            "Requirement already satisfied: textsearch>=0.0.21 in /usr/local/lib/python3.7/dist-packages (from contractions) (0.0.21)\n",
            "Requirement already satisfied: anyascii in /usr/local/lib/python3.7/dist-packages (from textsearch>=0.0.21->contractions) (0.3.0)\n",
            "Requirement already satisfied: pyahocorasick in /usr/local/lib/python3.7/dist-packages (from textsearch>=0.0.21->contractions) (1.4.4)\n"
          ]
        }
      ],
      "source": [
        "!pip install langdetect \n",
        "!pip install contractions"
      ]
    },
    {
      "cell_type": "code",
      "execution_count": 157,
      "metadata": {
        "colab": {
          "base_uri": "https://localhost:8080/"
        },
        "id": "Dv2aDFARGICk",
        "outputId": "ea1d4492-3eef-46ed-fdf0-7b3577c64a10"
      },
      "outputs": [
        {
          "output_type": "stream",
          "name": "stdout",
          "text": [
            "[nltk_data] Downloading package punkt to /root/nltk_data...\n",
            "[nltk_data]   Package punkt is already up-to-date!\n",
            "[nltk_data] Downloading package averaged_perceptron_tagger to\n",
            "[nltk_data]     /root/nltk_data...\n",
            "[nltk_data]   Package averaged_perceptron_tagger is already up-to-\n",
            "[nltk_data]       date!\n",
            "[nltk_data] Downloading package tagsets to /root/nltk_data...\n",
            "[nltk_data]   Package tagsets is already up-to-date!\n",
            "[nltk_data] Downloading package stopwords to /root/nltk_data...\n",
            "[nltk_data]   Package stopwords is already up-to-date!\n",
            "[nltk_data] Downloading package wordnet to /root/nltk_data...\n",
            "[nltk_data]   Package wordnet is already up-to-date!\n"
          ]
        }
      ],
      "source": [
        "# Importation des différentes librairies utiles pour le notebook\n",
        "\n",
        "#Sickit learn met régulièrement à jour des versions et \n",
        "#indique des futurs warnings. \n",
        "#ces deux lignes permettent de ne pas les afficher.\n",
        "import warnings\n",
        "warnings.filterwarnings(\"ignore\", category=FutureWarning)\n",
        "\n",
        "# librairies générales\n",
        "import pickle \n",
        "import pandas as pd\n",
        "from scipy.stats import randint\n",
        "import numpy as np\n",
        "import string\n",
        "import time\n",
        "import base64\n",
        "import re\n",
        "import sys\n",
        "\n",
        "import contractions\n",
        "\n",
        "# librairie BeautifulSoup\n",
        "from bs4 import BeautifulSoup\n",
        "\n",
        "# librairie affichage\n",
        "import matplotlib.pyplot as plt\n",
        "import seaborn as sns\n",
        "import wordcloud\n",
        "\n",
        "## detection de language\n",
        "import langdetect \n",
        "\n",
        "import nltk\n",
        "from nltk import sent_tokenize\n",
        "from nltk.tokenize import word_tokenize\n",
        "from nltk.stem import WordNetLemmatizer\n",
        "from nltk.stem import PorterStemmer\n",
        "from nltk import RegexpParser\n",
        "\n",
        "# il est possible de charger l'ensemble des librairies en une seule fois \n",
        "# décocher le commentaire de la ligne ci-dessous\n",
        "nltk.download('punkt')\n",
        "nltk.download('averaged_perceptron_tagger')\n",
        "from nltk import pos_tag\n",
        "nltk.download('tagsets')\n",
        "nltk.download(\"stopwords\")\n",
        "nltk.download('wordnet')\n",
        "\n",
        "from nltk.corpus import stopwords\n",
        "\n",
        "from sklearn.feature_extraction.text import TfidfVectorizer\n",
        "\n",
        "import spacy\n",
        "from spacy.tokens import Span\n",
        "# il faut sélectionner pour quelle langue les traitements vont être faits.\n",
        "nlp = spacy.load('en')"
      ]
    },
    {
      "cell_type": "code",
      "execution_count": 158,
      "metadata": {
        "id": "w6xYEr-1jeon"
      },
      "outputs": [],
      "source": [
        "# Loading\n",
        "df_train = pd.read_csv(\"train.csv\",sep=\";\")\n",
        "df_test = pd.read_csv(\"test.csv\",sep=\";\")\n",
        "\n",
        "# Select only the row we want\n",
        "df_train = df_train[[\"text\",\"truthRating\"]]\n",
        "df_test = df_test[[\"text\",\"truthRating\"]]"
      ]
    },
    {
      "cell_type": "markdown",
      "metadata": {
        "id": "1qFonKxTD8c3"
      },
      "source": [
        "### Text Preprocessing class and function\n",
        "\n",
        "\n",
        "\n"
      ]
    },
    {
      "cell_type": "code",
      "execution_count": 159,
      "metadata": {
        "id": "jfjGSadiPMMQ"
      },
      "outputs": [],
      "source": [
        "# text = np.concatenate((df_train[\"text\"],df_test[\"text\"]))\n",
        "\n",
        "# def contains_digit(word):\n",
        "#   for c in word:\n",
        "#     if c.isdigit():\n",
        "#       return True\n",
        "#   return False\n",
        "\n",
        "# stopwords = np.array(nltk.corpus.stopwords.words('english'))\n",
        "\n",
        "# for i,sentence in zip(range(len(text)),text):\n",
        "#   # Removing punctuation\n",
        "#   tokenizer = nltk.RegexpTokenizer(r\"\\w+\")\n",
        "#   sentence = tokenizer.tokenize(sentence)\n",
        "\n",
        "#   sentence = \" \".join(sentence)\n",
        "#   sentence = re.sub(r'Unknown', '', str(sentence))\n",
        "\n",
        "#   sentence = word_tokenize(sentence)\n",
        "\n",
        "#   # converting each word to lowercase\n",
        "#   sentence = [word.lower() for word in sentence if not word in stopwords]\n",
        "\n",
        "#   # Removing stopwords\n",
        "#   sentence = [word for word in sentence if not word in stopwords]\n",
        "\n",
        "#   # Removing word with only one letter\n",
        "#   sentence = [word for word in sentence if len(word) != 1]\n",
        "\n",
        "#   # Removing word with digits\n",
        "#   sentence = [word for word in sentence if not contains_digit(word)]\n",
        "\n",
        "#   # stemmer words \n",
        "#   # lemmatizer = WordNetLemmatizer()\n",
        "#   ps = PorterStemmer()\n",
        "#   sentence = [ps.stem(word) for word in sentence]\n",
        "\n",
        "#   ## Removing pronouns infinitive verbs dt...\n",
        "#   # for word in nltk.pos_tag(sentence):\n",
        "#   #   word_to_keep = []\n",
        "#   #   if word[1] not in ['IN', 'PP', 'DT','PRP$','VB','MD']:\n",
        "#   #     word_to_keep.append(word[0])\n",
        "  \n",
        "#   sentence = (\" \").join(sentence)\n",
        "#   text[i] = sentence"
      ]
    },
    {
      "cell_type": "code",
      "source": [
        "from sklearn.base import BaseEstimator, TransformerMixin\n",
        "\n",
        "def MyCleanText(X, \n",
        "  lowercase=False, # mettre en minuscule\n",
        "  removestopwords=False, # supprimer les stopwords\n",
        "  removedigit=False, # supprimer les nombres \n",
        "  getstemmer=False, # conserver la racine des termes\n",
        "  getlemmatisation=False # lematisation des termes \n",
        "  ):\n",
        "\n",
        "  sentence=str(X)\n",
        "\n",
        "  # suppression des caractères spéciaux\n",
        "  sentence = re.sub(r'[^\\w\\s]',' ', sentence)\n",
        "  # suppression de tous les caractères uniques\n",
        "  sentence = re.sub(r'\\s+[a-zA-Z]\\s+', ' ', sentence)\n",
        "  # substitution des espaces multiples par un seul espace\n",
        "  sentence = re.sub(r'\\s+', ' ', sentence, flags=re.I)\n",
        "  # subtitution of Unknown\n",
        "  sentence = re.sub(r'Unknown', '', sentence)\n",
        "\n",
        "  # remove some space\n",
        "  sentence = sentence.strip()\n",
        "\n",
        "  # decoupage en mots\n",
        "  tokens = word_tokenize(sentence)\n",
        "  if lowercase:\n",
        "    tokens = [token.lower() for token in tokens]\n",
        "\n",
        "  # suppression ponctuation\n",
        "  table = str.maketrans('', '', string.punctuation)\n",
        "  words = [token.translate(table) for token in tokens]\n",
        "\n",
        "  # suppression des tokens non alphabetique ou numerique\n",
        "  words = [word for word in words if word.isalnum()]\n",
        "\n",
        "  # suppression des tokens numerique\n",
        "  if removedigit:\n",
        "    words = [word for word in words if not word.isdigit()]\n",
        "\n",
        "  # suppression des stopwords\n",
        "  if removestopwords:\n",
        "    stopwords = np.array(nltk.corpus.stopwords.words('english'))\n",
        "    words = [word for word in words if not word in stopwords]\n",
        "\n",
        "  # lemmatisation\n",
        "  if getlemmatisation:\n",
        "    lemmatizer=WordNetLemmatizer()\n",
        "    words = [lemmatizer.lemmatize(word)for word in words]\n",
        "\n",
        "\n",
        "  # racinisation\n",
        "  if getstemmer:\n",
        "    ps = PorterStemmer()\n",
        "    words=[ps.stem(word) for word in words]\n",
        "\n",
        "    sentence= ' '.join(words)\n",
        "\n",
        "  return sentence \n",
        "\n",
        "class TextNormalizer(BaseEstimator, TransformerMixin):\n",
        "  def __init__(self, \n",
        "    removestopwords=False, # suppression des stopwords\n",
        "    lowercase=False,# passage en minuscule\n",
        "    removedigit=False, # supprimer les nombres \n",
        "    getstemmer=False,# racinisation des termes \n",
        "    getlemmatisation=False # lemmatisation des termes \n",
        "    ):\n",
        "  \n",
        "    self.lowercase=lowercase\n",
        "    self.getstemmer=getstemmer\n",
        "    self.removestopwords=removestopwords\n",
        "    self.getlemmatisation=getlemmatisation\n",
        "    self.removedigit=removedigit\n",
        "    \n",
        "\n",
        "  def transform(self, X, **transform_params):\n",
        "    # Nettoyage du texte\n",
        "    X=X.copy() # pour conserver le fichier d'origine\n",
        "    return [MyCleanText(text,lowercase=self.lowercase,\n",
        "    getstemmer=self.getstemmer,\n",
        "    removestopwords=self.removestopwords,\n",
        "    getlemmatisation=self.getlemmatisation,\n",
        "    removedigit=self.removedigit) for text in X]\n",
        "\n",
        "  def fit(self, X, y=None, **fit_params):\n",
        "    return self\n",
        "  \n",
        "  def fit_transform(self, X, y=None, **fit_params):\n",
        "    return self.fit(X).transform(X)\n",
        "\n",
        "  def get_params(self, deep=True):\n",
        "    return {\n",
        "    'lowercase':self.lowercase,\n",
        "    'getstemmer':self.getstemmer,\n",
        "    'removestopwords':self.removestopwords,\n",
        "    'getlemmatisation':self.getlemmatisation,\n",
        "    'removedigit':self.removedigit\n",
        "    } \n",
        "  \n",
        "  def set_params (self, **parameters):\n",
        "    for parameter, value in parameters.items():\n",
        "      setattr(self,parameter,value)\n",
        "    return self \n",
        "\n"
      ],
      "metadata": {
        "id": "-7WVUWnZ5Xek"
      },
      "execution_count": 160,
      "outputs": []
    },
    {
      "cell_type": "code",
      "source": [
        "def preprocess_selection(model_name,model,lowercase=False):\n",
        "    CV_brut = Pipeline([('cleaner', TextNormalizer()), \n",
        "                        ('count_vectorizer', CountVectorizer(lowercase=False)),\n",
        "                        (model_name, model)])\n",
        "    CV_lowcase = Pipeline([('cleaner', TextNormalizer(removestopwords=False,lowercase=True,\n",
        "                                                getstemmer=False,removedigit=False)), \n",
        "                        ('count_vectorizer', CountVectorizer(lowercase=lowercase)),\n",
        "                        (model_name, model)])\n",
        "    CV_lowStop = Pipeline([('cleaner', TextNormalizer(removestopwords=True,lowercase=True,\n",
        "                                                getstemmer=False,removedigit=False)), \n",
        "                        ('count_vectorizer', CountVectorizer(lowercase=lowercase)),\n",
        "                        (model_name, model)])\n",
        "\n",
        "    CV_lowStopstem = Pipeline([('cleaner', TextNormalizer(removestopwords=True,lowercase=True,\n",
        "                                                getstemmer=True,removedigit=False)), \n",
        "                        ('count_vectorizer', CountVectorizer(lowercase=lowercase)),\n",
        "                        (model_name, model)])\n",
        "    \n",
        "    CV_lowStopna = Pipeline([('cleaner', TextNormalizer(removestopwords=True,lowercase=True,\n",
        "                                                getstemmer=True,removedigit=True)), \n",
        "                        ('count_vectorizer', CountVectorizer(lowercase=lowercase)),\n",
        "                        (model_name, model)])\n",
        "\n",
        "    TFIDF_brut = Pipeline ([('cleaner', TextNormalizer()), \n",
        "                        ('tfidf_vectorizer', TfidfVectorizer(lowercase=lowercase)),\n",
        "                        (model_name, model)])\n",
        "\n",
        "    TFIDF_lowcase = Pipeline([('cleaner', TextNormalizer(removestopwords=False,lowercase=True,\n",
        "                                                getstemmer=False,removedigit=False)), \n",
        "                        ('tfidf_vectorizer', TfidfVectorizer(lowercase=lowercase)),\n",
        "                        (model_name, model)])\n",
        "    TFIDF_lowStop = Pipeline([('cleaner', TextNormalizer(removestopwords=True,lowercase=True,\n",
        "                                                getstemmer=False,removedigit=False)), \n",
        "                        ('tfidf_vectorizer', TfidfVectorizer(lowercase=lowercase)),\n",
        "                        (model_name, model)])\n",
        "\n",
        "    TFIDF_lowStopstem = Pipeline([('cleaner', TextNormalizer(removestopwords=True,lowercase=True,\n",
        "                                                getstemmer=True,removedigit=False)), \n",
        "                        ('tfidf_vectorizer', TfidfVectorizer(lowercase=lowercase)),\n",
        "                        (model_name, model)])\n",
        "    TFIDF_lowStopna = Pipeline([('cleaner', TextNormalizer(removestopwords=True,lowercase=True,\n",
        "                                                getstemmer=True,removedigit=True)), \n",
        "                        ('tfidf_vectorizer', TfidfVectorizer(lowercase=lowercase)),\n",
        "                        (model_name, model)])\n",
        "\n",
        "    all_models = [\n",
        "        (\"CV_brut\", CV_brut),\n",
        "        (\"CV_lowcase\", CV_lowcase),\n",
        "        (\"CV_lowStop\", CV_lowStop),\n",
        "        (\"CV_lowStopstem\",CV_lowStopstem),\n",
        "        (\"CV_lowStopna\",CV_lowStopna),\n",
        "        (\"TFIDF_lowStopna\", TFIDF_lowStopna),\n",
        "        (\"TFIDF_lowcase\", TFIDF_lowcase),\n",
        "        (\"TFIDF_lowStop\", TFIDF_lowStop),\n",
        "        (\"TFIDF_lowStopstem\",TFIDF_lowStopstem),\n",
        "        (\"TFIDF_brut\", TFIDF_brut),\n",
        "    ]\n",
        "\n",
        "    print (\"Evaluation des différentes configurations : \")\n",
        "    unsorted_scores = [(name, cross_val_score(model, X, y, cv=5).mean()) for name, model in all_models]\n",
        "    scores = sorted(unsorted_scores, key=lambda x: -x[1])\n",
        "\n",
        "\n",
        "    print(tabulate(scores, floatfmt='.4f', headers=('Pipeline', 'Score')))"
      ],
      "metadata": {
        "id": "u8Qq76KFDRaJ"
      },
      "execution_count": 161,
      "outputs": []
    },
    {
      "cell_type": "markdown",
      "source": [
        "### Selecting best preprocessing\n",
        "WARNING !!!\n",
        "<br>\n",
        "May take some minutes"
      ],
      "metadata": {
        "id": "je4KpcyhL7MG"
      }
    },
    {
      "cell_type": "code",
      "source": [
        "X = df_train[\"text\"]\n",
        "y = df_train[\"truthRating\"] \n",
        "\n",
        "preprocess_selection(\"logistic_regression\",LogisticRegression())"
      ],
      "metadata": {
        "colab": {
          "base_uri": "https://localhost:8080/"
        },
        "id": "XIbKtTePL_5u",
        "outputId": "be22380b-8b3b-4692-82cc-bc675142833b"
      },
      "execution_count": 162,
      "outputs": [
        {
          "output_type": "stream",
          "name": "stdout",
          "text": [
            "Evaluation des différentes configurations : \n",
            "Pipeline             Score\n",
            "-----------------  -------\n",
            "TFIDF_lowcase       0.6395\n",
            "TFIDF_lowStop       0.6395\n",
            "TFIDF_brut          0.6395\n",
            "TFIDF_lowStopna     0.6260\n",
            "CV_brut             0.6258\n",
            "CV_lowcase          0.6258\n",
            "CV_lowStop          0.6258\n",
            "TFIDF_lowStopstem   0.6248\n",
            "CV_lowStopstem      0.6110\n",
            "CV_lowStopna        0.6102\n"
          ]
        }
      ]
    },
    {
      "cell_type": "code",
      "source": [
        "X = df_train[\"text\"]\n",
        "y = df_train[\"truthRating\"] \n",
        "\n",
        "preprocess_selection(\"multinomial_nb\",MultinomialNB())"
      ],
      "metadata": {
        "colab": {
          "base_uri": "https://localhost:8080/"
        },
        "id": "q2oQk6lMMFg0",
        "outputId": "8a3c9d2c-549c-48e3-d8e2-b353023df461"
      },
      "execution_count": 163,
      "outputs": [
        {
          "output_type": "stream",
          "name": "stdout",
          "text": [
            "Evaluation des différentes configurations : \n",
            "Pipeline             Score\n",
            "-----------------  -------\n",
            "TFIDF_lowcase       0.6310\n",
            "TFIDF_lowStop       0.6310\n",
            "TFIDF_brut          0.6310\n",
            "CV_lowStopna        0.6302\n",
            "CV_lowStopstem      0.6290\n",
            "TFIDF_lowStopstem   0.6278\n",
            "TFIDF_lowStopna     0.6240\n",
            "CV_brut             0.6228\n",
            "CV_lowcase          0.6228\n",
            "CV_lowStop          0.6228\n"
          ]
        }
      ]
    },
    {
      "cell_type": "markdown",
      "source": [
        "# Classifieur Binaires"
      ],
      "metadata": {
        "id": "P5mcMyy65Kiz"
      }
    },
    {
      "cell_type": "code",
      "source": [
        "def plot_confusion_matrix(cm, classes,\n",
        "                          normalize=False,\n",
        "                          title='Confusion matrix',\n",
        "                          cmap=plt.cm.Blues):\n",
        "    \"\"\"\n",
        "    See full source and example: \n",
        "    http://scikit-learn.org/stable/auto_examples/model_selection/plot_confusion_matrix.html\n",
        "    \n",
        "    This function prints and plots the confusion matrix.\n",
        "    Normalization can be applied by setting `normalize=True`.\n",
        "    \"\"\"\n",
        "    plt.imshow(cm, interpolation='nearest', cmap=cmap)\n",
        "    plt.title(title)\n",
        "    plt.colorbar()\n",
        "    tick_marks = np.arange(len(classes))\n",
        "    plt.xticks(tick_marks, classes, rotation=45)\n",
        "    plt.yticks(tick_marks, classes)\n",
        "\n",
        "    if normalize:\n",
        "        cm = cm.astype('float') / cm.sum(axis=1)[:, np.newaxis]\n",
        "        print(\"Normalized confusion matrix\")\n",
        "    else:\n",
        "        print('Confusion matrix, without normalization')\n",
        "\n",
        "    thresh = cm.max() / 2.\n",
        "    for i, j in itertools.product(range(cm.shape[0]), range(cm.shape[1])):\n",
        "        plt.text(j, i, cm[i, j],\n",
        "                 horizontalalignment=\"center\",\n",
        "                 color=\"white\" if cm[i, j] > thresh else \"black\")\n",
        "\n",
        "    plt.tight_layout()\n",
        "    plt.ylabel('True label')\n",
        "    plt.xlabel('Predicted label')"
      ],
      "metadata": {
        "id": "niBEZbyh6UfA",
        "colab": {
          "base_uri": "https://localhost:8080/"
        },
        "outputId": "d2ea3081-84cf-4b3f-aac1-844b35e8e382"
      },
      "execution_count": 118,
      "outputs": [
        {
          "output_type": "stream",
          "name": "stdout",
          "text": [
            "Requirement already satisfied: tabulate in /usr/local/lib/python3.7/dist-packages (0.8.9)\n"
          ]
        }
      ]
    },
    {
      "cell_type": "markdown",
      "metadata": {
        "id": "pkOMzjASJd3_"
      },
      "source": [
        "## Logistic Regression"
      ]
    },
    {
      "cell_type": "markdown",
      "source": [
        "### special preprocessing based on frequency transformation\n",
        "\n",
        "Before running the classifier we need to compute the fake frequency and non fake frequency of each word. By this I mean counting each word appareance in the fake corpus (set of all fake post) and in the non fake corpus (set of all non fake post. From approximatively 3000 features one corresponding to each word we are now only dealing with 2."
      ],
      "metadata": {
        "id": "7uZgCJHcuZlj"
      }
    },
    {
      "cell_type": "code",
      "source": [
        "# Last step of preprocessing = vectorizing the text\n",
        "text = np.concatenate((df_train[\"text\"],df_test[\"text\"]))\n",
        "\n",
        "text_normalizer=TextNormalizer(lowercase=True)  \n",
        "text=text_normalizer.fit_transform(text)\n",
        "print(\"texte après application des pré-traitements\")\n",
        "text = np.array(text)   \n",
        "\n",
        "dfbis_train = df_train.copy() \n",
        "dfbis_train[\"text\"] = text[:len(df_train)]\n",
        "\n",
        "vectorizer = TfidfVectorizer()\n",
        "vectors = vectorizer.fit_transform(text)\n",
        "corpus = np.array(vectorizer.get_feature_names())"
      ],
      "metadata": {
        "id": "l1WsjBzWuWiZ",
        "colab": {
          "base_uri": "https://localhost:8080/"
        },
        "outputId": "5da8ebf4-7957-42d3-99ab-7d7cfd5ee079"
      },
      "execution_count": 72,
      "outputs": [
        {
          "output_type": "stream",
          "name": "stdout",
          "text": [
            "texte après application des pré-traitements\n"
          ]
        }
      ]
    },
    {
      "cell_type": "code",
      "source": [
        "def get_fake_no_fake_text(text):\n",
        "  idx0 = np.array(df_train[df_train[\"truthRating\"] == 0].index)\n",
        "  #idx0b = np.array(df_test[df_test[\"truthRating\"] == 0].index+len(df_train))\n",
        "  #idx0 = np.concatenate((idx0a, idx0b), axis=0)  \n",
        "  idx1 = np.array(df_train[df_train[\"truthRating\"] == 1].index)\n",
        "  #idx1b = np.array(df_test[df_test[\"truthRating\"] == 1].index+len(df_train))\n",
        "  #idx1 = np.concatenate((idx1a, idx1b), axis=0)\n",
        "  fake_text = text[idx0]\n",
        "  non_fake_text = text[idx1]\n",
        "  return fake_text,non_fake_text\n",
        "\n",
        "\n",
        "def compute_frequency(fake_text,non_fake_text):\n",
        "  # Computes 2 different frequency use of dictionary for O(1) time acces to value of a paticular word\n",
        "  fake_text = \" \".join(fake_text)\n",
        "  fake_text = word_tokenize(fake_text)\n",
        "  non_fake_text = \" \".join(non_fake_text)\n",
        "  non_fake_text = word_tokenize(non_fake_text)\n",
        "  corpus = np.unique(np.concatenate((fake_text,non_fake_text),axis=0))\n",
        "\n",
        "  FakeFreq = {w:0 for w in corpus}\n",
        "  NonFakeFreq = {w:0 for w in corpus}\n",
        "\n",
        "  for word in fake_text:\n",
        "    FakeFreq[word] += 1\n",
        "\n",
        "  for word in non_fake_text:\n",
        "    NonFakeFreq[word] += 1\n",
        "\n",
        "  return FakeFreq,NonFakeFreq\n"
      ],
      "metadata": {
        "id": "bLsF3P9jugyv"
      },
      "execution_count": 73,
      "outputs": []
    },
    {
      "cell_type": "markdown",
      "source": [
        "Before running the logistic regression algorithm we need to compute the frequency of each word in the 2 corpus\n",
        "<br>\n",
        "\n",
        "The training example will the have the following format with 1 for the bias term. \n",
        "$$ X^{(i)} = \\begin{pmatrix}\n",
        "1 \\\\\n",
        "X_{Fake}^{(i)} \\\\\n",
        "X_{NoFake}^{(i)} \n",
        "\\end{pmatrix} $$\n"
      ],
      "metadata": {
        "id": "0NDkzoLDx96V"
      }
    },
    {
      "cell_type": "code",
      "source": [
        "fake_text,non_fake_text= get_fake_no_fake_text(text)\n",
        "FakeFreq,NonFakeFreq = compute_frequency(fake_text,non_fake_text)"
      ],
      "metadata": {
        "id": "qFPiDlUkzo9p"
      },
      "execution_count": 74,
      "outputs": []
    },
    {
      "cell_type": "code",
      "source": [
        "def feat_extraction_fake(row):\n",
        "  row_text = word_tokenize(row)\n",
        "  sum_fake_freq = 0\n",
        "  for word in row_text:\n",
        "    sum_fake_freq += FakeFreq[word]\n",
        "  return sum_fake_freq\n",
        "\n",
        "\n",
        "def feat_extraction_no_fake(row):\n",
        "  row_text = word_tokenize(row)\n",
        "  sum_non_fake_freq = 0\n",
        "  for word in row_text:\n",
        "    sum_non_fake_freq += NonFakeFreq[word]\n",
        "  return sum_non_fake_freq"
      ],
      "metadata": {
        "id": "mN4X2ogMzoDQ"
      },
      "execution_count": 75,
      "outputs": []
    },
    {
      "cell_type": "code",
      "execution_count": 76,
      "metadata": {
        "id": "OQVrIheJqwfj"
      },
      "outputs": [],
      "source": [
        "dfbis_train[\"bias\"] = 1\n",
        "dfbis_train[\"fake\"] = dfbis_train[\"text\"].apply(feat_extraction_fake)\n",
        "dfbis_train[\"no fake\"] = dfbis_train[\"text\"].apply(feat_extraction_no_fake)\n",
        "\n",
        "df_X_train = dfbis_train[[\"fake\",\"no fake\"]]"
      ]
    },
    {
      "cell_type": "markdown",
      "source": [
        "Logistic Regression implementation:\n",
        "<br>\n",
        "In short we are the trying to minimize the following cost function with the help to the famous gradient descent algorithm.\n",
        "<br>\n",
        "$$ J(θ) = -\\dfrac{1}{m}*\\sum_{i=1}^{m}[ \\log h(x^{(i)},θ) + (1 - y^{(i)})*log(1 - h(x^{(i)},θ))] $$\n",
        "<br>\n",
        "with h the sigmoid function define as follow $$ h(x^{i},θ) = \\dfrac{1}{1 + e^{-θ^{T}*x^{(i)}}} $$\n",
        "\n",
        "<br>\n",
        "\n",
        "$m =$ number of training examples\n",
        "<br>\n",
        "\n",
        "$x(i) =$ i-th example of the training set \n",
        "<br>\n",
        "\n",
        "Thus we make sure to resolve a convex problem and by this gradient descent find a global minima."
      ],
      "metadata": {
        "id": "eR2NsWz-BiHe"
      }
    },
    {
      "cell_type": "markdown",
      "source": [
        "### Training"
      ],
      "metadata": {
        "id": "31SEMHPhuvQx"
      }
    },
    {
      "cell_type": "code",
      "source": [
        "X,y = df_X_train,dfbis_train[\"truthRating\"] \n",
        "\n",
        "X_train,X_val,y_train,y_val = train_test_split(X,y,train_size=0.8,random_state=0)\n",
        "\n",
        "clf = LogisticRegression(random_state=0).fit(X_train, y_train)\n",
        "\n",
        "y_pred = clf.predict(X_val)\n",
        "\n",
        "target_names = [\"No Fake\",\"Fake\"]\n",
        "\n",
        "print('accuracy %s' % accuracy_score(y_pred, y_val))\n",
        "print(classification_report(y_val, y_pred, target_names=target_names))"
      ],
      "metadata": {
        "colab": {
          "base_uri": "https://localhost:8080/"
        },
        "id": "yyaETv45yo6_",
        "outputId": "f9b0f969-9c8d-4789-87c7-24d0ad53d5c6"
      },
      "execution_count": 120,
      "outputs": [
        {
          "output_type": "stream",
          "name": "stdout",
          "text": [
            "accuracy 0.7625\n",
            "              precision    recall  f1-score   support\n",
            "\n",
            "     No Fake       0.77      0.75      0.76        79\n",
            "        Fake       0.76      0.78      0.77        81\n",
            "\n",
            "    accuracy                           0.76       160\n",
            "   macro avg       0.76      0.76      0.76       160\n",
            "weighted avg       0.76      0.76      0.76       160\n",
            "\n"
          ]
        }
      ]
    },
    {
      "cell_type": "code",
      "source": [
        "plot_confusion_matrix(confusion_matrix(y_val, y_pred), classes=[\"Fake\",\"No Fake\"])"
      ],
      "metadata": {
        "colab": {
          "base_uri": "https://localhost:8080/",
          "height": 329
        },
        "id": "ah5UYvHR2AkM",
        "outputId": "e1259497-8797-4a9d-8b24-e9b28dfa57a9"
      },
      "execution_count": 121,
      "outputs": [
        {
          "output_type": "stream",
          "name": "stdout",
          "text": [
            "Confusion matrix, without normalization\n"
          ]
        },
        {
          "output_type": "display_data",
          "data": {
            "text/plain": [
              "<Figure size 432x288 with 2 Axes>"
            ],
            "image/png": "[encoded data removed]"
          },
          "metadata": {
            "needs_background": "light"
          }
        }
      ]
    },
    {
      "cell_type": "markdown",
      "source": [
        "Etant donnée la simplicité de nos features seulement 2 il n'est pas nécesaire ici d'appliquer des algorithmes de classifications plus performant sachant qu'ici une simple regression répond très bien à notre problème."
      ],
      "metadata": {
        "id": "orDvOWUR2WNp"
      }
    },
    {
      "cell_type": "markdown",
      "source": [
        "## Naives Bayes"
      ],
      "metadata": {
        "id": "jUHxo9K61Tjm"
      }
    },
    {
      "cell_type": "markdown",
      "source": [
        "<br>\n",
        "\n",
        "Naives Bayes Approach Inference Rules for binary classification.\n",
        "<br>\n",
        "\n",
        "$$\\prod_{i=1}^{n} \\dfrac{P \\left( wi \\middle| \\ Fake \\right)}{P \\left( wi \\middle| \\ NonFake \\right)}$$\n",
        "<br>\n",
        "This expression says that we're going to take the product across all of the words (n words) in a post of the probability for each word in the fake class divide it by the probability in the non fake class\n",
        "<br>\n",
        "\n",
        "Laplacian Smoothing technique to avoid zero probability issue with the formula above\n",
        "<br>\n",
        "\n",
        "$$P \\left( wi \\middle| \\ class \\right) = \\dfrac{freq(wi,class)+1}{Nc + Vc} \\\\ class \\in \\{ Fake , Non Fake \\} $$\n",
        "<br>\n",
        "\n",
        "$N_c = \\ $frequency of all words in class \n",
        "class\n",
        "<br>\n",
        "\n",
        "​$V =\\ $number of unique words in vocabulary\n",
        "<br>"
      ],
      "metadata": {
        "id": "-Z9pNHtg8W3Z"
      }
    },
    {
      "cell_type": "code",
      "source": [
        "X = df_train[\"text\"]\n",
        "y = df_train[\"truthRating\"] \n",
        "\n",
        "# found when testing different parameters in the preprocessing  \n",
        "text_normalizer= TextNormalizer(removestopwords=False,lowercase=True,getstemmer=False,removedigit=False) \n",
        "X=text_normalizer.fit_transform(X)"
      ],
      "metadata": {
        "id": "87tfMjlcK64L"
      },
      "execution_count": 186,
      "outputs": []
    },
    {
      "cell_type": "code",
      "source": [
        "X_train,X_val,y_train,y_val = train_test_split(X,y,train_size=0.7,random_state=0)\n",
        "\n",
        "nb = Pipeline([('vect', TfidfVectorizer()),\n",
        "               ('tfidf', TfidfTransformer()),\n",
        "               ('clf', MultinomialNB()),\n",
        "              ])\n",
        "nb.fit(X_train, y_train)\n",
        "\n",
        "from sklearn.metrics import classification_report\n",
        "y_pred = nb.predict(X_val)\n",
        "\n",
        "print('accuracy %s' % accuracy_score(y_pred, y_val))\n",
        "print(classification_report(y_val, y_pred,target_names=[\"Fake\", \"No Fake\"]))"
      ],
      "metadata": {
        "colab": {
          "base_uri": "https://localhost:8080/"
        },
        "id": "7MUpJblbD0Jz",
        "outputId": "14982bb7-17bd-48b5-f251-cecb27cfeb18"
      },
      "execution_count": 187,
      "outputs": [
        {
          "output_type": "stream",
          "name": "stdout",
          "text": [
            "accuracy 0.6483333333333333\n",
            "              precision    recall  f1-score   support\n",
            "\n",
            "        Fake       0.68      0.58      0.63       613\n",
            "     No Fake       0.62      0.72      0.67       587\n",
            "\n",
            "    accuracy                           0.65      1200\n",
            "   macro avg       0.65      0.65      0.65      1200\n",
            "weighted avg       0.65      0.65      0.65      1200\n",
            "\n"
          ]
        }
      ]
    },
    {
      "cell_type": "markdown",
      "metadata": {
        "id": "LjIDmkrAGXLa"
      },
      "source": [
        "## Comparaison de tous les classifieurs"
      ]
    },
    {
      "cell_type": "code",
      "execution_count": 178,
      "metadata": {
        "id": "gIrYRFffavfD"
      },
      "outputs": [],
      "source": [
        "X = df_train[\"text\"]\n",
        "y = df_train[\"truthRating\"]"
      ]
    },
    {
      "cell_type": "markdown",
      "metadata": {
        "id": "p_bqvgoUCNf9"
      },
      "source": [
        "### Cross Validation"
      ]
    },
    {
      "cell_type": "code",
      "execution_count": 179,
      "metadata": {
        "id": "c2qbEYCDCQ_U"
      },
      "outputs": [],
      "source": [
        "# found when testing different parameters in the preprocessing  \n",
        "text_normalizer= TextNormalizer(removestopwords=False,lowercase=True,getstemmer=False,removedigit=False) \n",
        "X=text_normalizer.fit_transform(X)\n",
        "\n",
        "models = []\n",
        "models.append(('LRregression', LogisticRegression()))\n",
        "models.append(('KNN', KNeighborsClassifier()))\n",
        "models.append(('MultinomialNB', MultinomialNB()))\n",
        "models.append(('DecisionTreeClassifier', DecisionTreeClassifier()))\n",
        "models.append(('SVM', SVC()))\n",
        "models.append(('SGDClassifier',SGDClassifier()))\n",
        "models.append(('RandomForest', RandomForestClassifier()))\n",
        "models.append(('PassiveAggressiveClassifier',PassiveAggressiveClassifier()))"
      ]
    },
    {
      "cell_type": "code",
      "execution_count": 180,
      "metadata": {
        "colab": {
          "base_uri": "https://localhost:8080/"
        },
        "id": "M_i7PAfLCU44",
        "outputId": "2dbc5fc8-4717-4be9-8bdf-196e7861a328"
      },
      "outputs": [
        {
          "output_type": "stream",
          "name": "stdout",
          "text": [
            "LRregression: 0.641250 (0.019089)\n",
            "KNN: 0.595000 (0.011699)\n",
            "MultinomialNB: 0.631250 (0.013578)\n",
            "DecisionTreeClassifier: 0.572750 (0.008782)\n",
            "SVM: 0.640250 (0.016982)\n",
            "SGDClassifier: 0.613000 (0.006500)\n",
            "RandomForest: 0.622500 (0.020600)\n",
            "PassiveAggressiveClassifier: 0.600750 (0.012057)\n"
          ]
        }
      ],
      "source": [
        "results = []\n",
        "names = []\n",
        "scoring = 'accuracy'\n",
        "for name, model in models:\n",
        "  kfold = KFold(n_splits=5, shuffle=False)\n",
        "  model = make_pipeline(TfidfVectorizer(), model)\n",
        "  cv_results = cross_val_score(model, X, y, cv=kfold, scoring=scoring)\n",
        "  results.append(cv_results)\n",
        "  names.append(name)\n",
        "  msg = \"%s: %f (%f)\" % (name, cv_results.mean(), cv_results.std())\n",
        "  print(msg)"
      ]
    },
    {
      "cell_type": "code",
      "execution_count": 181,
      "metadata": {
        "colab": {
          "base_uri": "https://localhost:8080/",
          "height": 635
        },
        "id": "MfRRViySCd1q",
        "outputId": "94cb9b0c-e205-45b3-a03a-407ee3b7ba84"
      },
      "outputs": [
        {
          "output_type": "display_data",
          "data": {
            "text/plain": [
              "<Figure size 576x576 with 1 Axes>"
            ],
            "image/png": "[encoded data removed]"
          },
          "metadata": {
            "needs_background": "light"
          }
        }
      ],
      "source": [
        "fig = plt.figure(figsize=(8,8))\n",
        "fig.suptitle('Comparison of models')\n",
        "ax = fig.add_subplot(111)\n",
        "ax.boxplot(results)\n",
        "ax.set_xticklabels(names,rotation = 45)\n",
        "plt.show()"
      ]
    },
    {
      "cell_type": "markdown",
      "source": [
        "As we expected LogRegression and MultionomialNB are the classifiers that perform the best."
      ],
      "metadata": {
        "id": "z91fTU_kHgL7"
      }
    },
    {
      "cell_type": "markdown",
      "metadata": {
        "id": "srLlVE9pDdB-"
      },
      "source": [
        "### Entrainement sur le Test Set avec affinement des paramètres des meilleurs classifieurs"
      ]
    },
    {
      "cell_type": "code",
      "execution_count": 183,
      "metadata": {
        "id": "Q8Fk4iQuvhAt",
        "colab": {
          "base_uri": "https://localhost:8080/"
        },
        "outputId": "db50a128-91e4-4ce6-ff7b-a6edaf8e1f1a"
      },
      "outputs": [
        {
          "output_type": "stream",
          "name": "stdout",
          "text": [
            "meilleur score  0.6249999999999999 \n",
            "\n",
            "meilleurs paramètres {'clf__C': 3.1622776601683795} \n",
            "\n",
            "meilleur estimateur Pipeline(steps=[('vect', CountVectorizer()), ('tfidf', TfidfTransformer()),\n",
            "                ('clf', LogisticRegression(C=3.1622776601683795))]) \n",
            "\n"
          ]
        }
      ],
      "source": [
        "X_train,X_val,y_train,y_val = train_test_split(X,y,train_size=0.7,random_state=0)\n",
        "\n",
        "pipe = Pipeline([('vect', CountVectorizer()),\n",
        "               ('tfidf', TfidfTransformer()),\n",
        "               ('clf', LogisticRegression()),\n",
        "              ])\n",
        "grid = {\"clf__C\":np.logspace(-3,4,7)}\n",
        "\n",
        "gd_srLR = GridSearchCV(pipe,  \n",
        "                     param_grid=grid,\n",
        "                     scoring='accuracy',\n",
        "                     cv=5,\n",
        "                     n_jobs=-1,\n",
        "                    return_train_score=True)\n",
        "\n",
        "gd_srLR.fit(X_train, y_train)\n",
        "print ('meilleur score ',\n",
        " gd_srLR.best_score_,'\\n')\n",
        "print ('meilleurs paramètres',\n",
        " gd_srLR.best_params_,'\\n')\n",
        "print ('meilleur estimateur',\n",
        "gd_srLR.best_estimator_,'\\n')"
      ]
    },
    {
      "cell_type": "code",
      "source": [
        "# Creation d'une instance de l'algorithme en utilisant les meilleurs paramètres\n",
        "lr = gd_srLR.best_estimator_\n",
        "\n",
        "lr.fit(X_train, y_train)\n",
        "y_pred = lr.predict(X_val)\n",
        "print('\\n accuracy: ', accuracy_score(y_pred, y_val),'\\n')\n",
        "\n",
        "print('\\n',classification_report(y_val, y_pred))\n",
        "confusion_matrix(y_val, y_pred)"
      ],
      "metadata": {
        "colab": {
          "base_uri": "https://localhost:8080/"
        },
        "id": "HV2ReMyKI3VG",
        "outputId": "c4f347cf-4561-44f4-ed03-23f757ab5181"
      },
      "execution_count": 184,
      "outputs": [
        {
          "output_type": "stream",
          "name": "stdout",
          "text": [
            "\n",
            " accuracy:  0.6533333333333333 \n",
            "\n",
            "\n",
            "               precision    recall  f1-score   support\n",
            "\n",
            "           0       0.67      0.64      0.66       613\n",
            "           1       0.64      0.66      0.65       587\n",
            "\n",
            "    accuracy                           0.65      1200\n",
            "   macro avg       0.65      0.65      0.65      1200\n",
            "weighted avg       0.65      0.65      0.65      1200\n",
            "\n"
          ]
        },
        {
          "output_type": "execute_result",
          "data": {
            "text/plain": [
              "array([[395, 218],\n",
              "       [198, 389]])"
            ]
          },
          "metadata": {},
          "execution_count": 184
        }
      ]
    },
    {
      "cell_type": "markdown",
      "source": [
        "### Evaluation sur le test Set"
      ],
      "metadata": {
        "id": "a-K9BfEr0PLI"
      }
    }
  ],
  "metadata": {
    "accelerator": "GPU",
    "colab": {
      "collapsed_sections": [
        "i6z-w3-M-T-5",
        "9gjp_awkJLFr",
        "neyVpCHhGFFq",
        "oF2RXtCsIAL1",
        "P5mcMyy65Kiz",
        "pkOMzjASJd3_",
        "7uZgCJHcuZlj",
        "jUHxo9K61Tjm",
        "LjIDmkrAGXLa"
      ],
      "name": "fakeNews.ipynb",
      "provenance": []
    },
    "kernelspec": {
      "display_name": "Python 3",
      "name": "python3"
    },
    "language_info": {
      "name": "python"
    }
  },
  "nbformat": 4,
  "nbformat_minor": 0
}