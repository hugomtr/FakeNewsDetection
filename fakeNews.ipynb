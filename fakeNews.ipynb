{
  "cells": [
    {
      "cell_type": "markdown",
      "source": [
        "@file fakeNews.ipynb\n",
        "<br>\n",
        "@author hugomtr\n",
        "<br>\n",
        "@brief \n",
        "<br>\n",
        "@version 0.1\n",
        "<br>\n",
        "@date 2022-02-28\n",
        "<br>\n",
        "@copyright Copyright (c) 2022"
      ],
      "metadata": {
        "id": "_9gBtpxq3cFT"
      }
    },
    {
      "cell_type": "markdown",
      "metadata": {
        "id": "i6z-w3-M-T-5"
      },
      "source": [
        "# Starting"
      ]
    },
    {
      "cell_type": "code",
      "source": [
        "gpu_info = !nvidia-smi\n",
        "gpu_info = '\\n'.join(gpu_info)\n",
        "if gpu_info.find('failed') >= 0:\n",
        "  print('Not connected to a GPU')\n",
        "else:\n",
        "  print(gpu_info)"
      ],
      "metadata": {
        "colab": {
          "base_uri": "https://localhost:8080/"
        },
        "id": "HQHttkaTwmkn",
        "outputId": "80e76151-1935-489f-eb6b-52a9464017d1"
      },
      "execution_count": null,
      "outputs": [
        {
          "output_type": "stream",
          "name": "stdout",
          "text": [
            "Wed Mar 30 08:24:58 2022       \n",
            "+-----------------------------------------------------------------------------+\n",
            "| NVIDIA-SMI 460.32.03    Driver Version: 460.32.03    CUDA Version: 11.2     |\n",
            "|-------------------------------+----------------------+----------------------+\n",
            "| GPU  Name        Persistence-M| Bus-Id        Disp.A | Volatile Uncorr. ECC |\n",
            "| Fan  Temp  Perf  Pwr:Usage/Cap|         Memory-Usage | GPU-Util  Compute M. |\n",
            "|                               |                      |               MIG M. |\n",
            "|===============================+======================+======================|\n",
            "|   0  Tesla P100-PCIE...  Off  | 00000000:00:04.0 Off |                    0 |\n",
            "| N/A   34C    P0    27W / 250W |      0MiB / 16280MiB |      0%      Default |\n",
            "|                               |                      |                  N/A |\n",
            "+-------------------------------+----------------------+----------------------+\n",
            "                                                                               \n",
            "+-----------------------------------------------------------------------------+\n",
            "| Processes:                                                                  |\n",
            "|  GPU   GI   CI        PID   Type   Process name                  GPU Memory |\n",
            "|        ID   ID                                                   Usage      |\n",
            "|=============================================================================|\n",
            "|  No running processes found                                                 |\n",
            "+-----------------------------------------------------------------------------+\n"
          ]
        }
      ]
    },
    {
      "cell_type": "code",
      "execution_count": null,
      "metadata": {
        "id": "BB6b6eaZjDJe"
      },
      "outputs": [],
      "source": [
        "import pandas as pd\n",
        "import numpy as np\n",
        "import seaborn as sns\n",
        "import matplotlib.pyplot as plt\n",
        "import sys\n",
        "\n",
        "import sklearn\n",
        "\n",
        "# import some classifier\n",
        "from sklearn.naive_bayes import MultinomialNB\n",
        "from sklearn.linear_model import LogisticRegression\n",
        "from sklearn.naive_bayes import GaussianNB\n",
        "from sklearn.tree import DecisionTreeClassifier\n",
        "from sklearn.neighbors import KNeighborsClassifier\n",
        "from sklearn.ensemble import RandomForestClassifier\n",
        "from sklearn.svm import SVC\n",
        "from sklearn.linear_model import LinearRegression\n",
        "from sklearn.linear_model import SGDClassifier\n",
        "from sklearn.linear_model import PassiveAggressiveClassifier\n",
        "\n",
        "# import modules for vectorizing and pipe\n",
        "from sklearn.feature_extraction.text import CountVectorizer,TfidfVectorizer\n",
        "from sklearn.pipeline import Pipeline\n",
        "from sklearn import preprocessing\n",
        "from sklearn.feature_extraction.text import TfidfTransformer\n",
        "from sklearn.pipeline import make_pipeline\n",
        "\n",
        "# scale data\n",
        "from sklearn.preprocessing import StandardScaler\n",
        "\n",
        "# modules for model selection\n",
        "from sklearn.model_selection import train_test_split \n",
        "from sklearn.model_selection import KFold\n",
        "from sklearn.model_selection import GridSearchCV\n",
        "from sklearn.model_selection import cross_val_score\n",
        "\n",
        "# modules for evaluation\n",
        "from sklearn.metrics import accuracy_score\n",
        "from sklearn.metrics import confusion_matrix\n",
        "from sklearn.metrics import classification_report\n",
        "from sklearn.metrics import precision_recall_fscore_support as score\n",
        "\n",
        "# modules for vizualisation\n",
        "import seaborn as sns\n",
        "import matplotlib.pyplot as plt\n",
        "from tabulate import tabulate\n",
        "\n",
        "# others\n",
        "import itertools\n",
        "import random\n",
        "\n",
        "from sklearn.exceptions import ConvergenceWarning"
      ]
    },
    {
      "cell_type": "code",
      "execution_count": null,
      "metadata": {
        "colab": {
          "base_uri": "https://localhost:8080/"
        },
        "id": "1Fy07f-gjuRO",
        "outputId": "91066eb5-6daa-40e3-84fb-f9d435d79fea"
      },
      "outputs": [
        {
          "output_type": "stream",
          "name": "stdout",
          "text": [
            "Mounted at /content/gdrive/\n"
          ]
        }
      ],
      "source": [
        "from google.colab import drive\n",
        "drive.mount('/content/gdrive/')"
      ]
    },
    {
      "cell_type": "code",
      "execution_count": null,
      "metadata": {
        "colab": {
          "base_uri": "https://localhost:8080/",
          "height": 53
        },
        "id": "pCNNDjdZjy5q",
        "outputId": "23b08a5f-4ba7-4fbe-e0b9-a1b487d881aa"
      },
      "outputs": [
        {
          "output_type": "stream",
          "name": "stdout",
          "text": [
            "/content/gdrive/My Drive/Colab Notebooks/FakeNews\n"
          ]
        },
        {
          "output_type": "execute_result",
          "data": {
            "text/plain": [
              "'/content/gdrive/My Drive/Colab Notebooks/FakeNews'"
            ],
            "application/vnd.google.colaboratory.intrinsic+json": {
              "type": "string"
            }
          },
          "metadata": {},
          "execution_count": 4
        }
      ],
      "source": [
        "my_local_drive='/content/gdrive/My Drive/Colab Notebooks/FakeNews'\n",
        "# Ajout du path pour les librairies, fonctions et données\n",
        "sys.path.append(my_local_drive)\n",
        "# Se positionner sur le répertoire associé\n",
        "%cd $my_local_drive\n",
        "\n",
        "%pwd"
      ]
    },
    {
      "cell_type": "markdown",
      "metadata": {
        "id": "9gjp_awkJLFr"
      },
      "source": [
        "# Loading a dataset and choose classification\n"
      ]
    },
    {
      "cell_type": "code",
      "source": [
        "df = pd.read_csv(\"claimskg.csv\",sep=\";\")\n",
        "del df['Unnamed: 0']\n",
        "\n",
        "def f(x):\n",
        "  if x==1:\n",
        "    return 0\n",
        "  if x==2:\n",
        "    return 2\n",
        "  return 1\n",
        "\n",
        "def g(x):\n",
        "  if x==1 or x==0:\n",
        "    return 0\n",
        "  else: \n",
        "    return 1\n",
        "\n",
        "def choose_classification():\n",
        "  print(\"Select which classification you want:\")\n",
        "  print(\"0 : {True} vs {False}\")\n",
        "  print(\"1 : {True,False} vs {Mixture}\")\n",
        "  print(\"2 : {True} vs {False} vs {Mixture}\")\n",
        "  n = int(input(\"select a number: \"))\n",
        "  return n\n",
        "\n",
        "def select(n,df):\n",
        "  if n == 0:\n",
        "    # {True} vs {False}\n",
        "    df = df[df.truthRating.isin([0,1])]\n",
        "  if n == 1:\n",
        "    df[\"truthRating\"] = df[\"truthRating\"].apply(g)\n",
        "    df = df[df.truthRating.isin([0,1])]\n",
        "  return df"
      ],
      "metadata": {
        "id": "q6_cso9XTPr5"
      },
      "execution_count": null,
      "outputs": []
    },
    {
      "cell_type": "code",
      "source": [
        "df[\"truthRating\"] = df[\"truthRating\"].apply(f)\n",
        "\n",
        "n = choose_classification()\n",
        "\n",
        "df = select(n,df)\n",
        "\n",
        "classes = df.ratingName.unique()\n",
        "\n",
        "label_dict = {}\n",
        "for index, possible_label in enumerate(classes):\n",
        "    label_dict[possible_label] = index\n",
        "\n",
        "df['label'] = df.ratingName.replace(label_dict)\n",
        "df = df[[\"text\",\"label\",\"ratingName\"]]\n",
        "\n",
        "train, test = train_test_split(df, test_size=0.1, shuffle=True)"
      ],
      "metadata": {
        "colab": {
          "base_uri": "https://localhost:8080/"
        },
        "id": "F7JYbk--TIb2",
        "outputId": "4e343897-a54e-413b-9b96-848546570037"
      },
      "execution_count": null,
      "outputs": [
        {
          "name": "stdout",
          "output_type": "stream",
          "text": [
            "Select which classification you want:\n",
            "0 : {True} vs {False}\n",
            "1 : {True,False} vs {Mixture}\n",
            "2 : {True} vs {False} vs {Mixture}\n",
            "select a number: 1\n"
          ]
        }
      ]
    },
    {
      "cell_type": "code",
      "source": [
        "train.groupby(['ratingName', 'label']).count()"
      ],
      "metadata": {
        "colab": {
          "base_uri": "https://localhost:8080/",
          "height": 175
        },
        "id": "eY_JKTCuYlzs",
        "outputId": "06e46efb-4071-4555-b987-eacb93f24a72"
      },
      "execution_count": null,
      "outputs": [
        {
          "output_type": "execute_result",
          "data": {
            "text/plain": [
              "                  text\n",
              "ratingName label      \n",
              "False      1      9024\n",
              "MIXTURE    2      8973\n",
              "True       0      4009"
            ],
            "text/html": [
              "\n",
              "  <div id=\"df-6da51c32-8b43-4cbd-a102-ea99204a103f\">\n",
              "    <div class=\"colab-df-container\">\n",
              "      <div>\n",
              "<style scoped>\n",
              "    .dataframe tbody tr th:only-of-type {\n",
              "        vertical-align: middle;\n",
              "    }\n",
              "\n",
              "    .dataframe tbody tr th {\n",
              "        vertical-align: top;\n",
              "    }\n",
              "\n",
              "    .dataframe thead th {\n",
              "        text-align: right;\n",
              "    }\n",
              "</style>\n",
              "<table border=\"1\" class=\"dataframe\">\n",
              "  <thead>\n",
              "    <tr style=\"text-align: right;\">\n",
              "      <th></th>\n",
              "      <th></th>\n",
              "      <th>text</th>\n",
              "    </tr>\n",
              "    <tr>\n",
              "      <th>ratingName</th>\n",
              "      <th>label</th>\n",
              "      <th></th>\n",
              "    </tr>\n",
              "  </thead>\n",
              "  <tbody>\n",
              "    <tr>\n",
              "      <th>False</th>\n",
              "      <th>1</th>\n",
              "      <td>9024</td>\n",
              "    </tr>\n",
              "    <tr>\n",
              "      <th>MIXTURE</th>\n",
              "      <th>2</th>\n",
              "      <td>8973</td>\n",
              "    </tr>\n",
              "    <tr>\n",
              "      <th>True</th>\n",
              "      <th>0</th>\n",
              "      <td>4009</td>\n",
              "    </tr>\n",
              "  </tbody>\n",
              "</table>\n",
              "</div>\n",
              "      <button class=\"colab-df-convert\" onclick=\"convertToInteractive('df-6da51c32-8b43-4cbd-a102-ea99204a103f')\"\n",
              "              title=\"Convert this dataframe to an interactive table.\"\n",
              "              style=\"display:none;\">\n",
              "        \n",
              "  <svg xmlns=\"http://www.w3.org/2000/svg\" height=\"24px\"viewBox=\"0 0 24 24\"\n",
              "       width=\"24px\">\n",
              "    <path d=\"M0 0h24v24H0V0z\" fill=\"none\"/>\n",
              "    <path d=\"M18.56 5.44l.94 2.06.94-2.06 2.06-.94-2.06-.94-.94-2.06-.94 2.06-2.06.94zm-11 1L8.5 8.5l.94-2.06 2.06-.94-2.06-.94L8.5 2.5l-.94 2.06-2.06.94zm10 10l.94 2.06.94-2.06 2.06-.94-2.06-.94-.94-2.06-.94 2.06-2.06.94z\"/><path d=\"M17.41 7.96l-1.37-1.37c-.4-.4-.92-.59-1.43-.59-.52 0-1.04.2-1.43.59L10.3 9.45l-7.72 7.72c-.78.78-.78 2.05 0 2.83L4 21.41c.39.39.9.59 1.41.59.51 0 1.02-.2 1.41-.59l7.78-7.78 2.81-2.81c.8-.78.8-2.07 0-2.86zM5.41 20L4 18.59l7.72-7.72 1.47 1.35L5.41 20z\"/>\n",
              "  </svg>\n",
              "      </button>\n",
              "      \n",
              "  <style>\n",
              "    .colab-df-container {\n",
              "      display:flex;\n",
              "      flex-wrap:wrap;\n",
              "      gap: 12px;\n",
              "    }\n",
              "\n",
              "    .colab-df-convert {\n",
              "      background-color: #E8F0FE;\n",
              "      border: none;\n",
              "      border-radius: 50%;\n",
              "      cursor: pointer;\n",
              "      display: none;\n",
              "      fill: #1967D2;\n",
              "      height: 32px;\n",
              "      padding: 0 0 0 0;\n",
              "      width: 32px;\n",
              "    }\n",
              "\n",
              "    .colab-df-convert:hover {\n",
              "      background-color: #E2EBFA;\n",
              "      box-shadow: 0px 1px 2px rgba(60, 64, 67, 0.3), 0px 1px 3px 1px rgba(60, 64, 67, 0.15);\n",
              "      fill: #174EA6;\n",
              "    }\n",
              "\n",
              "    [theme=dark] .colab-df-convert {\n",
              "      background-color: #3B4455;\n",
              "      fill: #D2E3FC;\n",
              "    }\n",
              "\n",
              "    [theme=dark] .colab-df-convert:hover {\n",
              "      background-color: #434B5C;\n",
              "      box-shadow: 0px 1px 3px 1px rgba(0, 0, 0, 0.15);\n",
              "      filter: drop-shadow(0px 1px 2px rgba(0, 0, 0, 0.3));\n",
              "      fill: #FFFFFF;\n",
              "    }\n",
              "  </style>\n",
              "\n",
              "      <script>\n",
              "        const buttonEl =\n",
              "          document.querySelector('#df-6da51c32-8b43-4cbd-a102-ea99204a103f button.colab-df-convert');\n",
              "        buttonEl.style.display =\n",
              "          google.colab.kernel.accessAllowed ? 'block' : 'none';\n",
              "\n",
              "        async function convertToInteractive(key) {\n",
              "          const element = document.querySelector('#df-6da51c32-8b43-4cbd-a102-ea99204a103f');\n",
              "          const dataTable =\n",
              "            await google.colab.kernel.invokeFunction('convertToInteractive',\n",
              "                                                     [key], {});\n",
              "          if (!dataTable) return;\n",
              "\n",
              "          const docLinkHtml = 'Like what you see? Visit the ' +\n",
              "            '<a target=\"_blank\" href=https://colab.research.google.com/notebooks/data_table.ipynb>data table notebook</a>'\n",
              "            + ' to learn more about interactive tables.';\n",
              "          element.innerHTML = '';\n",
              "          dataTable['output_type'] = 'display_data';\n",
              "          await google.colab.output.renderOutput(dataTable, element);\n",
              "          const docLink = document.createElement('div');\n",
              "          docLink.innerHTML = docLinkHtml;\n",
              "          element.appendChild(docLink);\n",
              "        }\n",
              "      </script>\n",
              "    </div>\n",
              "  </div>\n",
              "  "
            ]
          },
          "metadata": {},
          "execution_count": 117
        }
      ]
    },
    {
      "cell_type": "code",
      "source": [
        "test.groupby(['ratingName', 'label']).count()"
      ],
      "metadata": {
        "colab": {
          "base_uri": "https://localhost:8080/",
          "height": 175
        },
        "id": "XMW04baJY48h",
        "outputId": "9069927e-547a-4419-a3ee-c9966497f88c"
      },
      "execution_count": null,
      "outputs": [
        {
          "output_type": "execute_result",
          "data": {
            "text/plain": [
              "                  text\n",
              "ratingName label      \n",
              "False      1       976\n",
              "MIXTURE    2      1027\n",
              "True       0       443"
            ],
            "text/html": [
              "\n",
              "  <div id=\"df-18de184a-04b6-49df-bcf5-94aff27df95a\">\n",
              "    <div class=\"colab-df-container\">\n",
              "      <div>\n",
              "<style scoped>\n",
              "    .dataframe tbody tr th:only-of-type {\n",
              "        vertical-align: middle;\n",
              "    }\n",
              "\n",
              "    .dataframe tbody tr th {\n",
              "        vertical-align: top;\n",
              "    }\n",
              "\n",
              "    .dataframe thead th {\n",
              "        text-align: right;\n",
              "    }\n",
              "</style>\n",
              "<table border=\"1\" class=\"dataframe\">\n",
              "  <thead>\n",
              "    <tr style=\"text-align: right;\">\n",
              "      <th></th>\n",
              "      <th></th>\n",
              "      <th>text</th>\n",
              "    </tr>\n",
              "    <tr>\n",
              "      <th>ratingName</th>\n",
              "      <th>label</th>\n",
              "      <th></th>\n",
              "    </tr>\n",
              "  </thead>\n",
              "  <tbody>\n",
              "    <tr>\n",
              "      <th>False</th>\n",
              "      <th>1</th>\n",
              "      <td>976</td>\n",
              "    </tr>\n",
              "    <tr>\n",
              "      <th>MIXTURE</th>\n",
              "      <th>2</th>\n",
              "      <td>1027</td>\n",
              "    </tr>\n",
              "    <tr>\n",
              "      <th>True</th>\n",
              "      <th>0</th>\n",
              "      <td>443</td>\n",
              "    </tr>\n",
              "  </tbody>\n",
              "</table>\n",
              "</div>\n",
              "      <button class=\"colab-df-convert\" onclick=\"convertToInteractive('df-18de184a-04b6-49df-bcf5-94aff27df95a')\"\n",
              "              title=\"Convert this dataframe to an interactive table.\"\n",
              "              style=\"display:none;\">\n",
              "        \n",
              "  <svg xmlns=\"http://www.w3.org/2000/svg\" height=\"24px\"viewBox=\"0 0 24 24\"\n",
              "       width=\"24px\">\n",
              "    <path d=\"M0 0h24v24H0V0z\" fill=\"none\"/>\n",
              "    <path d=\"M18.56 5.44l.94 2.06.94-2.06 2.06-.94-2.06-.94-.94-2.06-.94 2.06-2.06.94zm-11 1L8.5 8.5l.94-2.06 2.06-.94-2.06-.94L8.5 2.5l-.94 2.06-2.06.94zm10 10l.94 2.06.94-2.06 2.06-.94-2.06-.94-.94-2.06-.94 2.06-2.06.94z\"/><path d=\"M17.41 7.96l-1.37-1.37c-.4-.4-.92-.59-1.43-.59-.52 0-1.04.2-1.43.59L10.3 9.45l-7.72 7.72c-.78.78-.78 2.05 0 2.83L4 21.41c.39.39.9.59 1.41.59.51 0 1.02-.2 1.41-.59l7.78-7.78 2.81-2.81c.8-.78.8-2.07 0-2.86zM5.41 20L4 18.59l7.72-7.72 1.47 1.35L5.41 20z\"/>\n",
              "  </svg>\n",
              "      </button>\n",
              "      \n",
              "  <style>\n",
              "    .colab-df-container {\n",
              "      display:flex;\n",
              "      flex-wrap:wrap;\n",
              "      gap: 12px;\n",
              "    }\n",
              "\n",
              "    .colab-df-convert {\n",
              "      background-color: #E8F0FE;\n",
              "      border: none;\n",
              "      border-radius: 50%;\n",
              "      cursor: pointer;\n",
              "      display: none;\n",
              "      fill: #1967D2;\n",
              "      height: 32px;\n",
              "      padding: 0 0 0 0;\n",
              "      width: 32px;\n",
              "    }\n",
              "\n",
              "    .colab-df-convert:hover {\n",
              "      background-color: #E2EBFA;\n",
              "      box-shadow: 0px 1px 2px rgba(60, 64, 67, 0.3), 0px 1px 3px 1px rgba(60, 64, 67, 0.15);\n",
              "      fill: #174EA6;\n",
              "    }\n",
              "\n",
              "    [theme=dark] .colab-df-convert {\n",
              "      background-color: #3B4455;\n",
              "      fill: #D2E3FC;\n",
              "    }\n",
              "\n",
              "    [theme=dark] .colab-df-convert:hover {\n",
              "      background-color: #434B5C;\n",
              "      box-shadow: 0px 1px 3px 1px rgba(0, 0, 0, 0.15);\n",
              "      filter: drop-shadow(0px 1px 2px rgba(0, 0, 0, 0.3));\n",
              "      fill: #FFFFFF;\n",
              "    }\n",
              "  </style>\n",
              "\n",
              "      <script>\n",
              "        const buttonEl =\n",
              "          document.querySelector('#df-18de184a-04b6-49df-bcf5-94aff27df95a button.colab-df-convert');\n",
              "        buttonEl.style.display =\n",
              "          google.colab.kernel.accessAllowed ? 'block' : 'none';\n",
              "\n",
              "        async function convertToInteractive(key) {\n",
              "          const element = document.querySelector('#df-18de184a-04b6-49df-bcf5-94aff27df95a');\n",
              "          const dataTable =\n",
              "            await google.colab.kernel.invokeFunction('convertToInteractive',\n",
              "                                                     [key], {});\n",
              "          if (!dataTable) return;\n",
              "\n",
              "          const docLinkHtml = 'Like what you see? Visit the ' +\n",
              "            '<a target=\"_blank\" href=https://colab.research.google.com/notebooks/data_table.ipynb>data table notebook</a>'\n",
              "            + ' to learn more about interactive tables.';\n",
              "          element.innerHTML = '';\n",
              "          dataTable['output_type'] = 'display_data';\n",
              "          await google.colab.output.renderOutput(dataTable, element);\n",
              "          const docLink = document.createElement('div');\n",
              "          docLink.innerHTML = docLinkHtml;\n",
              "          element.appendChild(docLink);\n",
              "        }\n",
              "      </script>\n",
              "    </div>\n",
              "  </div>\n",
              "  "
            ]
          },
          "metadata": {},
          "execution_count": 118
        }
      ]
    },
    {
      "cell_type": "code",
      "source": [
        "# Saving Data in 2 csv file\n",
        "train.to_csv(\"train.csv\",sep=';')\n",
        "test.to_csv(\"test.csv\",sep=';')"
      ],
      "metadata": {
        "id": "uutwhf9JY_1I"
      },
      "execution_count": null,
      "outputs": []
    },
    {
      "cell_type": "markdown",
      "metadata": {
        "id": "neyVpCHhGFFq"
      },
      "source": [
        "# Ingenierie Textuelle"
      ]
    },
    {
      "cell_type": "markdown",
      "metadata": {
        "id": "oF2RXtCsIAL1"
      },
      "source": [
        "### Installation Packages & Loading Data"
      ]
    },
    {
      "cell_type": "code",
      "execution_count": null,
      "metadata": {
        "colab": {
          "base_uri": "https://localhost:8080/"
        },
        "id": "J_1yotixGPX4",
        "outputId": "9de64caf-b13f-494f-f09a-2be8e1223ef8"
      },
      "outputs": [
        {
          "output_type": "stream",
          "name": "stdout",
          "text": [
            "Collecting langdetect\n",
            "  Downloading langdetect-1.0.9.tar.gz (981 kB)\n",
            "\u001b[?25l\r\u001b[K     |▍                               | 10 kB 32.3 MB/s eta 0:00:01\r\u001b[K     |▊                               | 20 kB 35.9 MB/s eta 0:00:01\r\u001b[K     |█                               | 30 kB 20.3 MB/s eta 0:00:01\r\u001b[K     |█▍                              | 40 kB 8.7 MB/s eta 0:00:01\r\u001b[K     |█▊                              | 51 kB 9.9 MB/s eta 0:00:01\r\u001b[K     |██                              | 61 kB 11.7 MB/s eta 0:00:01\r\u001b[K     |██▍                             | 71 kB 9.2 MB/s eta 0:00:01\r\u001b[K     |██▊                             | 81 kB 9.8 MB/s eta 0:00:01\r\u001b[K     |███                             | 92 kB 10.9 MB/s eta 0:00:01\r\u001b[K     |███▍                            | 102 kB 9.7 MB/s eta 0:00:01\r\u001b[K     |███▊                            | 112 kB 9.7 MB/s eta 0:00:01\r\u001b[K     |████                            | 122 kB 9.7 MB/s eta 0:00:01\r\u001b[K     |████▍                           | 133 kB 9.7 MB/s eta 0:00:01\r\u001b[K     |████▊                           | 143 kB 9.7 MB/s eta 0:00:01\r\u001b[K     |█████                           | 153 kB 9.7 MB/s eta 0:00:01\r\u001b[K     |█████▍                          | 163 kB 9.7 MB/s eta 0:00:01\r\u001b[K     |█████▊                          | 174 kB 9.7 MB/s eta 0:00:01\r\u001b[K     |██████                          | 184 kB 9.7 MB/s eta 0:00:01\r\u001b[K     |██████▍                         | 194 kB 9.7 MB/s eta 0:00:01\r\u001b[K     |██████▊                         | 204 kB 9.7 MB/s eta 0:00:01\r\u001b[K     |███████                         | 215 kB 9.7 MB/s eta 0:00:01\r\u001b[K     |███████▍                        | 225 kB 9.7 MB/s eta 0:00:01\r\u001b[K     |███████▊                        | 235 kB 9.7 MB/s eta 0:00:01\r\u001b[K     |████████                        | 245 kB 9.7 MB/s eta 0:00:01\r\u001b[K     |████████▍                       | 256 kB 9.7 MB/s eta 0:00:01\r\u001b[K     |████████▊                       | 266 kB 9.7 MB/s eta 0:00:01\r\u001b[K     |█████████                       | 276 kB 9.7 MB/s eta 0:00:01\r\u001b[K     |█████████▍                      | 286 kB 9.7 MB/s eta 0:00:01\r\u001b[K     |█████████▊                      | 296 kB 9.7 MB/s eta 0:00:01\r\u001b[K     |██████████                      | 307 kB 9.7 MB/s eta 0:00:01\r\u001b[K     |██████████▍                     | 317 kB 9.7 MB/s eta 0:00:01\r\u001b[K     |██████████▊                     | 327 kB 9.7 MB/s eta 0:00:01\r\u001b[K     |███████████                     | 337 kB 9.7 MB/s eta 0:00:01\r\u001b[K     |███████████▍                    | 348 kB 9.7 MB/s eta 0:00:01\r\u001b[K     |███████████▊                    | 358 kB 9.7 MB/s eta 0:00:01\r\u001b[K     |████████████                    | 368 kB 9.7 MB/s eta 0:00:01\r\u001b[K     |████████████▍                   | 378 kB 9.7 MB/s eta 0:00:01\r\u001b[K     |████████████▊                   | 389 kB 9.7 MB/s eta 0:00:01\r\u001b[K     |█████████████                   | 399 kB 9.7 MB/s eta 0:00:01\r\u001b[K     |█████████████▍                  | 409 kB 9.7 MB/s eta 0:00:01\r\u001b[K     |█████████████▊                  | 419 kB 9.7 MB/s eta 0:00:01\r\u001b[K     |██████████████                  | 430 kB 9.7 MB/s eta 0:00:01\r\u001b[K     |██████████████▍                 | 440 kB 9.7 MB/s eta 0:00:01\r\u001b[K     |██████████████▊                 | 450 kB 9.7 MB/s eta 0:00:01\r\u001b[K     |███████████████                 | 460 kB 9.7 MB/s eta 0:00:01\r\u001b[K     |███████████████▍                | 471 kB 9.7 MB/s eta 0:00:01\r\u001b[K     |███████████████▊                | 481 kB 9.7 MB/s eta 0:00:01\r\u001b[K     |████████████████                | 491 kB 9.7 MB/s eta 0:00:01\r\u001b[K     |████████████████▍               | 501 kB 9.7 MB/s eta 0:00:01\r\u001b[K     |████████████████▊               | 512 kB 9.7 MB/s eta 0:00:01\r\u001b[K     |█████████████████               | 522 kB 9.7 MB/s eta 0:00:01\r\u001b[K     |█████████████████▍              | 532 kB 9.7 MB/s eta 0:00:01\r\u001b[K     |█████████████████▊              | 542 kB 9.7 MB/s eta 0:00:01\r\u001b[K     |██████████████████              | 552 kB 9.7 MB/s eta 0:00:01\r\u001b[K     |██████████████████▍             | 563 kB 9.7 MB/s eta 0:00:01\r\u001b[K     |██████████████████▊             | 573 kB 9.7 MB/s eta 0:00:01\r\u001b[K     |███████████████████             | 583 kB 9.7 MB/s eta 0:00:01\r\u001b[K     |███████████████████▍            | 593 kB 9.7 MB/s eta 0:00:01\r\u001b[K     |███████████████████▊            | 604 kB 9.7 MB/s eta 0:00:01\r\u001b[K     |████████████████████            | 614 kB 9.7 MB/s eta 0:00:01\r\u001b[K     |████████████████████▍           | 624 kB 9.7 MB/s eta 0:00:01\r\u001b[K     |████████████████████▊           | 634 kB 9.7 MB/s eta 0:00:01\r\u001b[K     |█████████████████████           | 645 kB 9.7 MB/s eta 0:00:01\r\u001b[K     |█████████████████████▍          | 655 kB 9.7 MB/s eta 0:00:01\r\u001b[K     |█████████████████████▊          | 665 kB 9.7 MB/s eta 0:00:01\r\u001b[K     |██████████████████████          | 675 kB 9.7 MB/s eta 0:00:01\r\u001b[K     |██████████████████████▍         | 686 kB 9.7 MB/s eta 0:00:01\r\u001b[K     |██████████████████████▊         | 696 kB 9.7 MB/s eta 0:00:01\r\u001b[K     |███████████████████████         | 706 kB 9.7 MB/s eta 0:00:01\r\u001b[K     |███████████████████████▍        | 716 kB 9.7 MB/s eta 0:00:01\r\u001b[K     |███████████████████████▊        | 727 kB 9.7 MB/s eta 0:00:01\r\u001b[K     |████████████████████████        | 737 kB 9.7 MB/s eta 0:00:01\r\u001b[K     |████████████████████████▍       | 747 kB 9.7 MB/s eta 0:00:01\r\u001b[K     |████████████████████████▊       | 757 kB 9.7 MB/s eta 0:00:01\r\u001b[K     |█████████████████████████       | 768 kB 9.7 MB/s eta 0:00:01\r\u001b[K     |█████████████████████████▍      | 778 kB 9.7 MB/s eta 0:00:01\r\u001b[K     |█████████████████████████▊      | 788 kB 9.7 MB/s eta 0:00:01\r\u001b[K     |██████████████████████████      | 798 kB 9.7 MB/s eta 0:00:01\r\u001b[K     |██████████████████████████▍     | 808 kB 9.7 MB/s eta 0:00:01\r\u001b[K     |██████████████████████████▊     | 819 kB 9.7 MB/s eta 0:00:01\r\u001b[K     |███████████████████████████     | 829 kB 9.7 MB/s eta 0:00:01\r\u001b[K     |███████████████████████████▍    | 839 kB 9.7 MB/s eta 0:00:01\r\u001b[K     |███████████████████████████▊    | 849 kB 9.7 MB/s eta 0:00:01\r\u001b[K     |████████████████████████████    | 860 kB 9.7 MB/s eta 0:00:01\r\u001b[K     |████████████████████████████▍   | 870 kB 9.7 MB/s eta 0:00:01\r\u001b[K     |████████████████████████████▊   | 880 kB 9.7 MB/s eta 0:00:01\r\u001b[K     |█████████████████████████████   | 890 kB 9.7 MB/s eta 0:00:01\r\u001b[K     |█████████████████████████████▍  | 901 kB 9.7 MB/s eta 0:00:01\r\u001b[K     |█████████████████████████████▊  | 911 kB 9.7 MB/s eta 0:00:01\r\u001b[K     |██████████████████████████████  | 921 kB 9.7 MB/s eta 0:00:01\r\u001b[K     |██████████████████████████████▍ | 931 kB 9.7 MB/s eta 0:00:01\r\u001b[K     |██████████████████████████████▊ | 942 kB 9.7 MB/s eta 0:00:01\r\u001b[K     |███████████████████████████████ | 952 kB 9.7 MB/s eta 0:00:01\r\u001b[K     |███████████████████████████████▍| 962 kB 9.7 MB/s eta 0:00:01\r\u001b[K     |███████████████████████████████▊| 972 kB 9.7 MB/s eta 0:00:01\r\u001b[K     |████████████████████████████████| 981 kB 9.7 MB/s \n",
            "\u001b[?25hRequirement already satisfied: six in /usr/local/lib/python3.7/dist-packages (from langdetect) (1.15.0)\n",
            "Building wheels for collected packages: langdetect\n",
            "  Building wheel for langdetect (setup.py) ... \u001b[?25l\u001b[?25hdone\n",
            "  Created wheel for langdetect: filename=langdetect-1.0.9-py3-none-any.whl size=993242 sha256=61a6c04e7ba87b3fdb735b7bf3841a56d9238af672b44b535899173deff05330\n",
            "  Stored in directory: /root/.cache/pip/wheels/c5/96/8a/f90c59ed25d75e50a8c10a1b1c2d4c402e4dacfa87f3aff36a\n",
            "Successfully built langdetect\n",
            "Installing collected packages: langdetect\n",
            "Successfully installed langdetect-1.0.9\n",
            "Collecting contractions\n",
            "  Downloading contractions-0.1.68-py2.py3-none-any.whl (8.1 kB)\n",
            "Collecting textsearch>=0.0.21\n",
            "  Downloading textsearch-0.0.21-py2.py3-none-any.whl (7.5 kB)\n",
            "Collecting pyahocorasick\n",
            "  Downloading pyahocorasick-1.4.4-cp37-cp37m-manylinux_2_17_x86_64.manylinux2014_x86_64.whl (106 kB)\n",
            "\u001b[K     |████████████████████████████████| 106 kB 8.8 MB/s \n",
            "\u001b[?25hCollecting anyascii\n",
            "  Downloading anyascii-0.3.0-py3-none-any.whl (284 kB)\n",
            "\u001b[K     |████████████████████████████████| 284 kB 55.5 MB/s \n",
            "\u001b[?25hInstalling collected packages: pyahocorasick, anyascii, textsearch, contractions\n",
            "Successfully installed anyascii-0.3.0 contractions-0.1.68 pyahocorasick-1.4.4 textsearch-0.0.21\n"
          ]
        }
      ],
      "source": [
        "!pip install langdetect \n",
        "!pip install contractions"
      ]
    },
    {
      "cell_type": "code",
      "execution_count": null,
      "metadata": {
        "colab": {
          "base_uri": "https://localhost:8080/"
        },
        "id": "Dv2aDFARGICk",
        "outputId": "34d1fd6c-e0be-4bef-b2f9-69a39adcfbb1"
      },
      "outputs": [
        {
          "output_type": "stream",
          "name": "stdout",
          "text": [
            "[nltk_data] Downloading package punkt to /root/nltk_data...\n",
            "[nltk_data]   Unzipping tokenizers/punkt.zip.\n",
            "[nltk_data] Downloading package averaged_perceptron_tagger to\n",
            "[nltk_data]     /root/nltk_data...\n",
            "[nltk_data]   Unzipping taggers/averaged_perceptron_tagger.zip.\n",
            "[nltk_data] Downloading package tagsets to /root/nltk_data...\n",
            "[nltk_data]   Unzipping help/tagsets.zip.\n",
            "[nltk_data] Downloading package stopwords to /root/nltk_data...\n",
            "[nltk_data]   Unzipping corpora/stopwords.zip.\n",
            "[nltk_data] Downloading package wordnet to /root/nltk_data...\n",
            "[nltk_data]   Unzipping corpora/wordnet.zip.\n"
          ]
        }
      ],
      "source": [
        "# Importation des différentes librairies utiles pour le notebook\n",
        "\n",
        "#Sickit learn met régulièrement à jour des versions et \n",
        "#indique des futurs warnings. \n",
        "#ces deux lignes permettent de ne pas les afficher.\n",
        "import warnings\n",
        "warnings.filterwarnings(\"ignore\", category=FutureWarning)\n",
        "\n",
        "# librairies générales\n",
        "import pickle \n",
        "import pandas as pd\n",
        "from scipy.stats import randint\n",
        "import numpy as np\n",
        "import string\n",
        "import time\n",
        "import base64\n",
        "import re\n",
        "import sys\n",
        "\n",
        "import contractions\n",
        "\n",
        "# librairie BeautifulSoup\n",
        "from bs4 import BeautifulSoup\n",
        "\n",
        "# librairie affichage\n",
        "import matplotlib.pyplot as plt\n",
        "import seaborn as sns\n",
        "import wordcloud\n",
        "\n",
        "## detection de language\n",
        "import langdetect \n",
        "\n",
        "import nltk\n",
        "from nltk import sent_tokenize\n",
        "from nltk.tokenize import word_tokenize\n",
        "from nltk.stem import WordNetLemmatizer\n",
        "from nltk.stem import PorterStemmer\n",
        "from nltk import RegexpParser\n",
        "\n",
        "# il est possible de charger l'ensemble des librairies en une seule fois \n",
        "# décocher le commentaire de la ligne ci-dessous\n",
        "nltk.download('punkt')\n",
        "nltk.download('averaged_perceptron_tagger')\n",
        "from nltk import pos_tag\n",
        "nltk.download('tagsets')\n",
        "nltk.download(\"stopwords\")\n",
        "nltk.download('wordnet')\n",
        "\n",
        "from nltk.corpus import stopwords\n",
        "\n",
        "from sklearn.feature_extraction.text import TfidfVectorizer\n",
        "\n",
        "import spacy\n",
        "from spacy.tokens import Span\n",
        "# il faut sélectionner pour quelle langue les traitements vont être faits.\n",
        "nlp = spacy.load('en')"
      ]
    },
    {
      "cell_type": "code",
      "execution_count": null,
      "metadata": {
        "id": "w6xYEr-1jeon"
      },
      "outputs": [],
      "source": [
        "# Loading\n",
        "df_train = pd.read_csv(\"train.csv\",sep=\";\")\n",
        "df_test = pd.read_csv(\"test.csv\",sep=\";\")\n",
        "\n",
        "del df_train['Unnamed: 0'];del df_test['Unnamed: 0']"
      ]
    },
    {
      "cell_type": "markdown",
      "metadata": {
        "id": "1qFonKxTD8c3"
      },
      "source": [
        "### Text Preprocessing class and function\n",
        "\n",
        "\n",
        "\n"
      ]
    },
    {
      "cell_type": "code",
      "execution_count": null,
      "metadata": {
        "id": "jfjGSadiPMMQ"
      },
      "outputs": [],
      "source": [
        "# text = np.concatenate((df_train[\"text\"],df_test[\"text\"]))\n",
        "\n",
        "# def contains_digit(word):\n",
        "#   for c in word:\n",
        "#     if c.isdigit():\n",
        "#       return True\n",
        "#   return False\n",
        "\n",
        "# stopwords = np.array(nltk.corpus.stopwords.words('english'))\n",
        "\n",
        "# for i,sentence in zip(range(len(text)),text):\n",
        "#   # Removing punctuation\n",
        "#   tokenizer = nltk.RegexpTokenizer(r\"\\w+\")\n",
        "#   sentence = tokenizer.tokenize(sentence)\n",
        "\n",
        "#   sentence = \" \".join(sentence)\n",
        "#   sentence = re.sub(r'Unknown', '', str(sentence))\n",
        "\n",
        "#   sentence = word_tokenize(sentence)\n",
        "\n",
        "#   # converting each word to lowercase\n",
        "#   sentence = [word.lower() for word in sentence if not word in stopwords]\n",
        "\n",
        "#   # Removing stopwords\n",
        "#   sentence = [word for word in sentence if not word in stopwords]\n",
        "\n",
        "#   # Removing word with only one letter\n",
        "#   sentence = [word for word in sentence if len(word) != 1]\n",
        "\n",
        "#   # Removing word with digits\n",
        "#   sentence = [word for word in sentence if not contains_digit(word)]\n",
        "\n",
        "#   # stemmer words \n",
        "#   # lemmatizer = WordNetLemmatizer()\n",
        "#   ps = PorterStemmer()\n",
        "#   sentence = [ps.stem(word) for word in sentence]\n",
        "\n",
        "#   ## Removing pronouns infinitive verbs dt...\n",
        "#   # for word in nltk.pos_tag(sentence):\n",
        "#   #   word_to_keep = []\n",
        "#   #   if word[1] not in ['IN', 'PP', 'DT','PRP$','VB','MD']:\n",
        "#   #     word_to_keep.append(word[0])\n",
        "  \n",
        "#   sentence = (\" \").join(sentence)\n",
        "#   text[i] = sentence"
      ]
    },
    {
      "cell_type": "code",
      "source": [
        "from sklearn.base import BaseEstimator, TransformerMixin\n",
        "\n",
        "def MyCleanText(X, \n",
        "  lowercase=False, # mettre en minuscule\n",
        "  removestopwords=False, # supprimer les stopwords\n",
        "  removedigit=False, # supprimer les nombres \n",
        "  getstemmer=False, # conserver la racine des termes\n",
        "  getlemmatisation=False # lematisation des termes \n",
        "  ):\n",
        "\n",
        "  sentence=str(X)\n",
        "\n",
        "  # suppression des caractères spéciaux\n",
        "  sentence = re.sub(r'[^\\w\\s]',' ', sentence)\n",
        "  # suppression de tous les caractères uniques\n",
        "  sentence = re.sub(r'\\s+[a-zA-Z]\\s+', ' ', sentence)\n",
        "  # substitution des espaces multiples par un seul espace\n",
        "  sentence = re.sub(r'\\s+', ' ', sentence, flags=re.I)\n",
        "  # subtitution of Unknown\n",
        "  sentence = re.sub(r'Unknown', '', sentence)\n",
        "\n",
        "  # remove some space\n",
        "  sentence = sentence.strip()\n",
        "\n",
        "  # decoupage en mots\n",
        "  tokens = word_tokenize(sentence)\n",
        "  if lowercase:\n",
        "    tokens = [token.lower() for token in tokens]\n",
        "\n",
        "  # suppression ponctuation\n",
        "  table = str.maketrans('', '', string.punctuation)\n",
        "  words = [token.translate(table) for token in tokens]\n",
        "\n",
        "  # suppression des tokens non alphabetique ou numerique\n",
        "  words = [word for word in words if word.isalnum()]\n",
        "\n",
        "  # suppression des tokens numerique\n",
        "  if removedigit:\n",
        "    words = [word for word in words if not word.isdigit()]\n",
        "\n",
        "  # suppression des stopwords\n",
        "  if removestopwords:\n",
        "    stopwords = np.array(nltk.corpus.stopwords.words('english'))\n",
        "    words = [word for word in words if not word in stopwords]\n",
        "\n",
        "  # lemmatisation\n",
        "  if getlemmatisation:\n",
        "    lemmatizer=WordNetLemmatizer()\n",
        "    words = [lemmatizer.lemmatize(word)for word in words]\n",
        "\n",
        "\n",
        "  # racinisation\n",
        "  if getstemmer:\n",
        "    ps = PorterStemmer()\n",
        "    words=[ps.stem(word) for word in words]\n",
        "\n",
        "    sentence= ' '.join(words)\n",
        "\n",
        "  return sentence \n",
        "\n",
        "class TextNormalizer(BaseEstimator, TransformerMixin):\n",
        "  def __init__(self, \n",
        "    removestopwords=False, # suppression des stopwords\n",
        "    lowercase=False,# passage en minuscule\n",
        "    removedigit=False, # supprimer les nombres \n",
        "    getstemmer=False,# racinisation des termes \n",
        "    getlemmatisation=False # lemmatisation des termes \n",
        "    ):\n",
        "  \n",
        "    self.lowercase=lowercase\n",
        "    self.getstemmer=getstemmer\n",
        "    self.removestopwords=removestopwords\n",
        "    self.getlemmatisation=getlemmatisation\n",
        "    self.removedigit=removedigit\n",
        "    \n",
        "\n",
        "  def transform(self, X, **transform_params):\n",
        "    # Nettoyage du texte\n",
        "    X=X.copy() # pour conserver le fichier d'origine\n",
        "    return [MyCleanText(text,lowercase=self.lowercase,\n",
        "    getstemmer=self.getstemmer,\n",
        "    removestopwords=self.removestopwords,\n",
        "    getlemmatisation=self.getlemmatisation,\n",
        "    removedigit=self.removedigit) for text in X]\n",
        "\n",
        "  def fit(self, X, y=None, **fit_params):\n",
        "    return self\n",
        "  \n",
        "  def fit_transform(self, X, y=None, **fit_params):\n",
        "    return self.fit(X).transform(X)\n",
        "\n",
        "  def get_params(self, deep=True):\n",
        "    return {\n",
        "    'lowercase':self.lowercase,\n",
        "    'getstemmer':self.getstemmer,\n",
        "    'removestopwords':self.removestopwords,\n",
        "    'getlemmatisation':self.getlemmatisation,\n",
        "    'removedigit':self.removedigit\n",
        "    } \n",
        "  \n",
        "  def set_params (self, **parameters):\n",
        "    for parameter, value in parameters.items():\n",
        "      setattr(self,parameter,value)\n",
        "    return self \n",
        "\n"
      ],
      "metadata": {
        "id": "-7WVUWnZ5Xek"
      },
      "execution_count": null,
      "outputs": []
    },
    {
      "cell_type": "code",
      "source": [
        "def preprocess_selection(model_name,model,X,y,lowercase=False):\n",
        "    CV_brut = Pipeline([('cleaner', TextNormalizer()), \n",
        "                        ('count_vectorizer', CountVectorizer(lowercase=False)),\n",
        "                        (model_name, model)])\n",
        "    CV_lowcase = Pipeline([('cleaner', TextNormalizer(removestopwords=False,lowercase=True,\n",
        "                                                getstemmer=False,removedigit=False)), \n",
        "                        ('count_vectorizer', CountVectorizer(lowercase=lowercase)),\n",
        "                        (model_name, model)])\n",
        "    CV_lowStop = Pipeline([('cleaner', TextNormalizer(removestopwords=True,lowercase=True,\n",
        "                                                getstemmer=False,removedigit=False)), \n",
        "                        ('count_vectorizer', CountVectorizer(lowercase=lowercase)),\n",
        "                        (model_name, model)])\n",
        "\n",
        "    CV_lowStopstem = Pipeline([('cleaner', TextNormalizer(removestopwords=True,lowercase=True,\n",
        "                                                getstemmer=True,removedigit=False)), \n",
        "                        ('count_vectorizer', CountVectorizer(lowercase=lowercase)),\n",
        "                        (model_name, model)])\n",
        "    \n",
        "    CV_lowStopna = Pipeline([('cleaner', TextNormalizer(removestopwords=True,lowercase=True,\n",
        "                                                getstemmer=True,removedigit=True)), \n",
        "                        ('count_vectorizer', CountVectorizer(lowercase=lowercase)),\n",
        "                        (model_name, model)])\n",
        "\n",
        "    TFIDF_brut = Pipeline ([('cleaner', TextNormalizer()), \n",
        "                        ('tfidf_vectorizer', TfidfVectorizer(lowercase=lowercase)),\n",
        "                        (model_name, model)])\n",
        "\n",
        "    TFIDF_lowcase = Pipeline([('cleaner', TextNormalizer(removestopwords=False,lowercase=True,\n",
        "                                                getstemmer=False,removedigit=False)), \n",
        "                        ('tfidf_vectorizer', TfidfVectorizer(lowercase=lowercase)),\n",
        "                        (model_name, model)])\n",
        "    TFIDF_lowStop = Pipeline([('cleaner', TextNormalizer(removestopwords=True,lowercase=True,\n",
        "                                                getstemmer=False,removedigit=False)), \n",
        "                        ('tfidf_vectorizer', TfidfVectorizer(lowercase=lowercase)),\n",
        "                        (model_name, model)])\n",
        "\n",
        "    TFIDF_lowStopstem = Pipeline([('cleaner', TextNormalizer(removestopwords=True,lowercase=True,\n",
        "                                                getstemmer=True,removedigit=False)), \n",
        "                        ('tfidf_vectorizer', TfidfVectorizer(lowercase=lowercase)),\n",
        "                        (model_name, model)])\n",
        "    TFIDF_lowStopna = Pipeline([('cleaner', TextNormalizer(removestopwords=True,lowercase=True,\n",
        "                                                getstemmer=True,removedigit=True)), \n",
        "                        ('tfidf_vectorizer', TfidfVectorizer(lowercase=lowercase)),\n",
        "                        (model_name, model)])\n",
        "\n",
        "    all_models = [\n",
        "        (\"CV_brut\", CV_brut),\n",
        "        (\"CV_lowcase\", CV_lowcase),\n",
        "        (\"CV_lowStop\", CV_lowStop),\n",
        "        (\"CV_lowStopstem\",CV_lowStopstem),\n",
        "        (\"CV_lowStopna\",CV_lowStopna),\n",
        "        (\"TFIDF_lowStopna\", TFIDF_lowStopna),\n",
        "        (\"TFIDF_lowcase\", TFIDF_lowcase),\n",
        "        (\"TFIDF_lowStop\", TFIDF_lowStop),\n",
        "        (\"TFIDF_lowStopstem\",TFIDF_lowStopstem),\n",
        "        (\"TFIDF_brut\", TFIDF_brut),\n",
        "    ]\n",
        "\n",
        "    print (\"Evaluation des différentes configurations : \")\n",
        "    unsorted_scores = [(name, cross_val_score(model, X, y, cv=5).mean()) for name, model in all_models]\n",
        "    scores = sorted(unsorted_scores, key=lambda x: -x[1])\n",
        "\n",
        "\n",
        "    print(tabulate(scores, floatfmt='.4f', headers=('Pipeline', 'Score')))"
      ],
      "metadata": {
        "id": "u8Qq76KFDRaJ"
      },
      "execution_count": null,
      "outputs": []
    },
    {
      "cell_type": "markdown",
      "source": [
        "### Selecting best preprocessing\n",
        "OPTIONAL!\n",
        "WARNING !!!\n",
        "<br>\n",
        "May take some minutes\n",
        "<br>\n",
        "example below ->"
      ],
      "metadata": {
        "id": "je4KpcyhL7MG"
      }
    },
    {
      "cell_type": "code",
      "source": [
        "X = df_train[\"text\"]\n",
        "y = df_train[\"label\"] \n",
        "\n",
        "X_s = X.sample(500)\n",
        "y_s = y.loc[X_s.index]\n",
        "preprocess_selection(\"logistic_regression\",LogisticRegression(),X_s,y_s)"
      ],
      "metadata": {
        "id": "XIbKtTePL_5u",
        "colab": {
          "base_uri": "https://localhost:8080/"
        },
        "outputId": "8751ada3-554b-44bd-ce31-f5e3e9d7f81d"
      },
      "execution_count": null,
      "outputs": [
        {
          "output_type": "stream",
          "name": "stdout",
          "text": [
            "Evaluation des différentes configurations : \n",
            "Pipeline             Score\n",
            "-----------------  -------\n",
            "TFIDF_lowStopna     0.5360\n",
            "TFIDF_lowStopstem   0.5320\n",
            "CV_brut             0.5160\n",
            "CV_lowcase          0.5160\n",
            "CV_lowStop          0.5160\n",
            "TFIDF_lowcase       0.5100\n",
            "TFIDF_lowStop       0.5100\n",
            "TFIDF_brut          0.5100\n",
            "CV_lowStopstem      0.5080\n",
            "CV_lowStopna        0.5020\n"
          ]
        }
      ]
    },
    {
      "cell_type": "markdown",
      "source": [
        "# Classifieur Binaires"
      ],
      "metadata": {
        "id": "P5mcMyy65Kiz"
      }
    },
    {
      "cell_type": "code",
      "source": [
        "def plot_confusion_matrix(cm, classes=classes,\n",
        "                          normalize=False,\n",
        "                          title='Confusion matrix',\n",
        "                          cmap=plt.cm.Blues):\n",
        "    \"\"\"\n",
        "    See full source and example: \n",
        "    http://scikit-learn.org/stable/auto_examples/model_selection/plot_confusion_matrix.html\n",
        "    \n",
        "    This function prints and plots the confusion matrix.\n",
        "    Normalization can be applied by setting `normalize=True`.\n",
        "    \"\"\"\n",
        "    plt.imshow(cm, interpolation='nearest', cmap=cmap)\n",
        "    plt.title(title)\n",
        "    plt.colorbar()\n",
        "    tick_marks = np.arange(len(classes))\n",
        "    plt.xticks(tick_marks, classes, rotation=45)\n",
        "    plt.yticks(tick_marks, classes)\n",
        "\n",
        "    if normalize:\n",
        "        cm = cm.astype('float') / cm.sum(axis=1)[:, np.newaxis]\n",
        "        print(\"Normalized confusion matrix\")\n",
        "    else:\n",
        "        print('Confusion matrix, without normalization')\n",
        "\n",
        "    thresh = 2*cm.max() / 3.\n",
        "    for i, j in itertools.product(range(cm.shape[0]), range(cm.shape[1])):\n",
        "        plt.text(j, i, cm[i, j],\n",
        "                 horizontalalignment=\"center\",\n",
        "                 color=\"white\" if cm[i, j] > thresh else \"black\")\n",
        "\n",
        "    plt.tight_layout()\n",
        "    plt.ylabel('True label')\n",
        "    plt.xlabel('Predicted label')\n",
        "\n",
        "\n",
        "def plot_quad_error(X,y,model):\n",
        "  arr1=[];arr2=[]\n",
        "  size = np.linspace(500,int(len(X)),25).astype('int32')\n",
        "  for m in size:\n",
        "    X_s = X.sample(m)\n",
        "    y_s = y.loc[X_s.index]\n",
        "    X_train,X_val,y_train,y_val = train_test_split(X_s,y_s,train_size=0.8,random_state=0)\n",
        "    clf = model.fit(X_train, y_train)\n",
        "    y_pred_train = clf.predict(X_train)\n",
        "    y_pred_val = clf.predict(X_val)\n",
        "    squarred_error_train = (1/len(y_pred_train))*np.sum((y_pred_train - y_train)**2)\n",
        "    squared_error_CV = (1/len(y_pred_val))*np.sum((y_pred_val - y_val)**2)\n",
        "    arr1.append(squarred_error_train)\n",
        "    arr2.append(squared_error_CV)\n",
        "\n",
        "  plt.plot(size,arr1,label='train error')\n",
        "  plt.plot(size,arr2,label='cv error')\n",
        "  plt.xlabel(\"Training Size\")\n",
        "  plt.gca().set_xlim([100,len(X)])\n",
        "  plt.ylabel(\"Quadratic Error\")\n",
        "  plt.title(\"Model Evaluation\")\n",
        "  plt.legend()\n",
        "  plt.show()"
      ],
      "metadata": {
        "id": "niBEZbyh6UfA"
      },
      "execution_count": null,
      "outputs": []
    },
    {
      "cell_type": "markdown",
      "metadata": {
        "id": "pkOMzjASJd3_"
      },
      "source": [
        "## Logistic Regression"
      ]
    },
    {
      "cell_type": "markdown",
      "source": [
        "### special preprocessing based on frequency transformation\n",
        "\n",
        "Before running the classifier we need to compute the fake frequency and non fake frequency of each word. By this I mean counting each word appareance in the fake corpus (set of all fake post) and in the non fake corpus (set of all non fake post. From approximatively 3000 features one corresponding to each word we are now only dealing with 2."
      ],
      "metadata": {
        "id": "7uZgCJHcuZlj"
      }
    },
    {
      "cell_type": "code",
      "source": [
        "# Last step of preprocessing = vectorizing the text\n",
        "text = np.concatenate((df_train[\"text\"],df_test[\"text\"]))\n",
        "\n",
        "text_normalizer=TextNormalizer(lowercase=True)  \n",
        "text=text_normalizer.fit_transform(text)\n",
        "print(\"texte après application des pré-traitements\")\n",
        "text = np.array(text)   \n",
        "\n",
        "dfbis_train = df_train.copy() \n",
        "dfbis_train[\"text\"] = text[:len(df_train)]\n",
        "\n",
        "vectorizer = TfidfVectorizer()\n",
        "vectors = vectorizer.fit_transform(text)\n",
        "corpus = np.array(vectorizer.get_feature_names())"
      ],
      "metadata": {
        "id": "l1WsjBzWuWiZ",
        "colab": {
          "base_uri": "https://localhost:8080/"
        },
        "outputId": "645fca35-693a-44d4-df70-3d1f41ee0602"
      },
      "execution_count": null,
      "outputs": [
        {
          "output_type": "stream",
          "name": "stdout",
          "text": [
            "texte après application des pré-traitements\n"
          ]
        }
      ]
    },
    {
      "cell_type": "code",
      "source": [
        "def get_fake_no_fake_text(text):\n",
        "  idx0 = np.array(df_train[df_train[\"truthRating\"] == 0].index)\n",
        "  idx1 = np.array(df_train[df_train[\"truthRating\"] == 1].index)\n",
        "  fake_text = text[idx0]\n",
        "  non_fake_text = text[idx1]\n",
        "  return fake_text,non_fake_text\n",
        "\n",
        "\n",
        "def compute_frequency(fake_text,non_fake_text):\n",
        "  # Computes 2 different frequency use of dictionary for O(1) time acces to value of a paticular word\n",
        "  fake_text = \" \".join(fake_text)\n",
        "  fake_text = word_tokenize(fake_text)\n",
        "  non_fake_text = \" \".join(non_fake_text)\n",
        "  non_fake_text = word_tokenize(non_fake_text)\n",
        "  corpus = np.unique(np.concatenate((fake_text,non_fake_text),axis=0))\n",
        "\n",
        "  FakeFreq = {w:0 for w in corpus}\n",
        "  NonFakeFreq = {w:0 for w in corpus}\n",
        "\n",
        "  for word in fake_text:\n",
        "    FakeFreq[word] += 1\n",
        "\n",
        "  for word in non_fake_text:\n",
        "    NonFakeFreq[word] += 1\n",
        "\n",
        "  return FakeFreq,NonFakeFreq\n"
      ],
      "metadata": {
        "id": "bLsF3P9jugyv"
      },
      "execution_count": null,
      "outputs": []
    },
    {
      "cell_type": "markdown",
      "source": [
        "Before running the logistic regression algorithm we need to compute the frequency of each word in the 2 corpus\n",
        "<br>\n",
        "\n",
        "The training example will the have the following format with 1 for the bias term. \n",
        "$$ X^{(i)} = \\begin{pmatrix}\n",
        "1 \\\\\n",
        "X_{Fake}^{(i)} \\\\\n",
        "X_{NoFake}^{(i)} \n",
        "\\end{pmatrix} $$\n"
      ],
      "metadata": {
        "id": "0NDkzoLDx96V"
      }
    },
    {
      "cell_type": "code",
      "source": [
        "fake_text,non_fake_text= get_fake_no_fake_text(text)\n",
        "FakeFreq,NonFakeFreq = compute_frequency(fake_text,non_fake_text)"
      ],
      "metadata": {
        "id": "qFPiDlUkzo9p"
      },
      "execution_count": null,
      "outputs": []
    },
    {
      "cell_type": "code",
      "source": [
        "def feat_extraction_fake(row):\n",
        "  row_text = word_tokenize(row)\n",
        "  sum_fake_freq = 0\n",
        "  for word in row_text:\n",
        "    sum_fake_freq += FakeFreq[word]\n",
        "  return sum_fake_freq\n",
        "\n",
        "\n",
        "def feat_extraction_no_fake(row):\n",
        "  row_text = word_tokenize(row)\n",
        "  sum_non_fake_freq = 0\n",
        "  for word in row_text:\n",
        "    sum_non_fake_freq += NonFakeFreq[word]\n",
        "  return sum_non_fake_freq"
      ],
      "metadata": {
        "id": "mN4X2ogMzoDQ"
      },
      "execution_count": null,
      "outputs": []
    },
    {
      "cell_type": "code",
      "execution_count": null,
      "metadata": {
        "id": "OQVrIheJqwfj"
      },
      "outputs": [],
      "source": [
        "dfbis_train[\"bias\"] = 1\n",
        "dfbis_train[\"fake\"] = dfbis_train[\"text\"].apply(feat_extraction_fake)\n",
        "dfbis_train[\"no fake\"] = dfbis_train[\"text\"].apply(feat_extraction_no_fake)\n",
        "\n",
        "df_X_train = dfbis_train[[\"fake\",\"no fake\"]]"
      ]
    },
    {
      "cell_type": "markdown",
      "source": [
        "Logistic Regression implementation:\n",
        "<br>\n",
        "In short we are the trying to minimize the following cost function with the help to the famous gradient descent algorithm.\n",
        "<br>\n",
        "$$ J(θ) = -\\dfrac{1}{m}*\\sum_{i=1}^{m}[ \\log h(x^{(i)},θ) + (1 - y^{(i)})*log(1 - h(x^{(i)},θ))] $$\n",
        "<br>\n",
        "with h the sigmoid function define as follow $$ h(x^{i},θ) = \\dfrac{1}{1 + e^{-θ^{T}*x^{(i)}}} $$\n",
        "\n",
        "<br>\n",
        "\n",
        "$m =$ number of training examples\n",
        "<br>\n",
        "\n",
        "$x(i) =$ i-th example of the training set \n",
        "<br>\n",
        "\n",
        "Thus we make sure to resolve a convex problem and by this gradient descent find a global minima."
      ],
      "metadata": {
        "id": "eR2NsWz-BiHe"
      }
    },
    {
      "cell_type": "markdown",
      "source": [
        "### Training"
      ],
      "metadata": {
        "id": "31SEMHPhuvQx"
      }
    },
    {
      "cell_type": "code",
      "source": [
        "X,y = df_X_train,dfbis_train[\"ratingName\"] \n",
        "\n",
        "X_train,X_val,y_train,y_val = train_test_split(X,y,train_size=0.8,random_state=0)\n",
        "\n",
        "clf = LogisticRegression(random_state=0).fit(X_train, y_train)\n",
        "\n",
        "y_pred = clf.predict(X_val)\n",
        "\n",
        "target_names = [\"No Fake\",\"Fake\"]\n",
        "\n",
        "print('accuracy %s' % accuracy_score(y_pred, y_val))\n",
        "print(classification_report(y_val, y_pred, target_names=target_names))"
      ],
      "metadata": {
        "colab": {
          "base_uri": "https://localhost:8080/"
        },
        "id": "yyaETv45yo6_",
        "outputId": "a36f02dd-4e9e-44f6-aa57-fc9c5b220f1c"
      },
      "execution_count": null,
      "outputs": [
        {
          "output_type": "stream",
          "name": "stdout",
          "text": [
            "accuracy 0.6228932584269663\n",
            "              precision    recall  f1-score   support\n",
            "\n",
            "     No Fake       0.61      0.64      0.63       695\n",
            "        Fake       0.64      0.60      0.62       729\n",
            "\n",
            "    accuracy                           0.62      1424\n",
            "   macro avg       0.62      0.62      0.62      1424\n",
            "weighted avg       0.62      0.62      0.62      1424\n",
            "\n"
          ]
        }
      ]
    },
    {
      "cell_type": "code",
      "source": [
        "plot_confusion_matrix(confusion_matrix(y_val, y_pred), classes=[\"Fake\",\"No Fake\"])"
      ],
      "metadata": {
        "colab": {
          "base_uri": "https://localhost:8080/",
          "height": 328
        },
        "id": "ah5UYvHR2AkM",
        "outputId": "f86b740d-95f5-48a3-bc0e-ddebba5cdcff"
      },
      "execution_count": null,
      "outputs": [
        {
          "output_type": "stream",
          "name": "stdout",
          "text": [
            "Confusion matrix, without normalization\n"
          ]
        },
        {
          "output_type": "display_data",
          "data": {
            "text/plain": [
              "<Figure size 432x288 with 2 Axes>"
            ],
            "image/png": "[encoded data removed]"
          },
          "metadata": {
            "needs_background": "light"
          }
        }
      ]
    },
    {
      "cell_type": "markdown",
      "source": [
        "Analyze if there is overfitting or underfitting"
      ],
      "metadata": {
        "id": "1P2YeA6Gv31D"
      }
    },
    {
      "cell_type": "code",
      "source": [
        "plot_quad_error(X,y,LogisticRegression())"
      ],
      "metadata": {
        "colab": {
          "base_uri": "https://localhost:8080/",
          "height": 295
        },
        "id": "Yw3xiR5Wv2M9",
        "outputId": "4e286980-26cd-4b08-d01b-d1af3229d328"
      },
      "execution_count": null,
      "outputs": [
        {
          "output_type": "display_data",
          "data": {
            "text/plain": [
              "<Figure size 432x288 with 1 Axes>"
            ],
            "image/png": "[encoded data removed]"
          },
          "metadata": {
            "needs_background": "light"
          }
        }
      ]
    },
    {
      "cell_type": "markdown",
      "source": [
        "Etant donnée la simplicité de nos features seulement 2 il n'est pas nécesaire ici d'appliquer des algorithmes de classifications plus performant sachant qu'ici une simple regression répond très bien à notre problème."
      ],
      "metadata": {
        "id": "orDvOWUR2WNp"
      }
    },
    {
      "cell_type": "markdown",
      "source": [
        "## Naives Bayes"
      ],
      "metadata": {
        "id": "jUHxo9K61Tjm"
      }
    },
    {
      "cell_type": "markdown",
      "source": [
        "<br>\n",
        "\n",
        "Naives Bayes Approach Inference Rules for binary classification.\n",
        "<br>\n",
        "\n",
        "$$\\prod_{i=1}^{n} \\dfrac{P \\left( wi \\middle| \\ Fake \\right)}{P \\left( wi \\middle| \\ NonFake \\right)}$$\n",
        "<br>\n",
        "This expression says that we're going to take the product across all of the words (n words) in a post of the probability for each word in the fake class divide it by the probability in the non fake class\n",
        "<br>\n",
        "\n",
        "Laplacian Smoothing technique to avoid zero probability issue with the formula above\n",
        "<br>\n",
        "\n",
        "$$P \\left( wi \\middle| \\ class \\right) = \\dfrac{freq(wi,class)+1}{Nc + Vc} \\\\ class \\in \\{ Fake , Non Fake \\} $$\n",
        "<br>\n",
        "\n",
        "$N_c = \\ $frequency of all words in class \n",
        "class\n",
        "<br>\n",
        "\n",
        "​$V =\\ $number of unique words in vocabulary\n",
        "<br>"
      ],
      "metadata": {
        "id": "-Z9pNHtg8W3Z"
      }
    },
    {
      "cell_type": "code",
      "source": [
        "X = df_train[\"text\"]\n",
        "y = df_train[\"ratingName\"] \n",
        "\n",
        "text_normalizer= TextNormalizer(removestopwords=True,lowercase=True,getstemmer=True,removedigit=True) \n",
        "X=text_normalizer.fit_transform(X)"
      ],
      "metadata": {
        "id": "87tfMjlcK64L"
      },
      "execution_count": null,
      "outputs": []
    },
    {
      "cell_type": "code",
      "source": [
        "X_train,X_val,y_train,y_val = train_test_split(X,y,train_size=0.7,random_state=0)\n",
        "\n",
        "nb = Pipeline([('vect', TfidfVectorizer()),\n",
        "               ('tfidf', TfidfTransformer()),\n",
        "               ('clf', MultinomialNB()),\n",
        "              ])\n",
        "nb.fit(X_train, y_train)\n",
        "\n",
        "from sklearn.metrics import classification_report\n",
        "y_pred = nb.predict(X_val)\n",
        "\n",
        "print('accuracy %s' % accuracy_score(y_pred, y_val))\n",
        "print(classification_report(y_val, y_pred,target_names=classes))"
      ],
      "metadata": {
        "colab": {
          "base_uri": "https://localhost:8080/"
        },
        "id": "7MUpJblbD0Jz",
        "outputId": "c0a8c30b-6785-42fa-e33b-8596954eec94"
      },
      "execution_count": null,
      "outputs": [
        {
          "output_type": "stream",
          "name": "stdout",
          "text": [
            "accuracy 0.5031900138696255\n",
            "              precision    recall  f1-score   support\n",
            "\n",
            "        True       0.55      0.49      0.52      1197\n",
            "       False       0.46      0.35      0.40      1165\n",
            "     Mixture       0.50      0.67      0.57      1243\n",
            "\n",
            "    accuracy                           0.50      3605\n",
            "   macro avg       0.50      0.50      0.49      3605\n",
            "weighted avg       0.50      0.50      0.50      3605\n",
            "\n"
          ]
        }
      ]
    },
    {
      "cell_type": "markdown",
      "metadata": {
        "id": "LjIDmkrAGXLa"
      },
      "source": [
        "## Comparaison de tous les classifieurs"
      ]
    },
    {
      "cell_type": "code",
      "execution_count": null,
      "metadata": {
        "id": "gIrYRFffavfD"
      },
      "outputs": [],
      "source": [
        "X = df_train[\"text\"]\n",
        "y = df_train[\"ratingName\"]"
      ]
    },
    {
      "cell_type": "markdown",
      "metadata": {
        "id": "p_bqvgoUCNf9"
      },
      "source": [
        "## Cross Validation"
      ]
    },
    {
      "cell_type": "code",
      "execution_count": null,
      "metadata": {
        "id": "c2qbEYCDCQ_U"
      },
      "outputs": [],
      "source": [
        "# found when testing different parameters in the preprocessing  \n",
        "text_normalizer= TextNormalizer(removestopwords=False,lowercase=True,getstemmer=False,removedigit=False) \n",
        "X=text_normalizer.fit_transform(X)\n",
        "\n",
        "models = []\n",
        "models.append(('LRregression', LogisticRegression()))\n",
        "models.append(('KNN', KNeighborsClassifier()))\n",
        "models.append(('MultinomialNB', MultinomialNB()))\n",
        "models.append(('DecisionTreeClassifier', DecisionTreeClassifier()))\n",
        "models.append(('SVM', SVC()))\n",
        "models.append(('SGDClassifier',SGDClassifier()))\n",
        "models.append(('RandomForest', RandomForestClassifier()))\n",
        "models.append(('PassiveAggressiveClassifier',PassiveAggressiveClassifier()))"
      ]
    },
    {
      "cell_type": "code",
      "execution_count": null,
      "metadata": {
        "colab": {
          "base_uri": "https://localhost:8080/"
        },
        "id": "M_i7PAfLCU44",
        "outputId": "874a7d5b-7b35-4a15-a879-c7499d9bdcce"
      },
      "outputs": [
        {
          "output_type": "stream",
          "name": "stderr",
          "text": [
            "/usr/local/lib/python3.7/dist-packages/sklearn/linear_model/_logistic.py:818: ConvergenceWarning: lbfgs failed to converge (status=1):\n",
            "STOP: TOTAL NO. of ITERATIONS REACHED LIMIT.\n",
            "\n",
            "Increase the number of iterations (max_iter) or scale the data as shown in:\n",
            "    https://scikit-learn.org/stable/modules/preprocessing.html\n",
            "Please also refer to the documentation for alternative solver options:\n",
            "    https://scikit-learn.org/stable/modules/linear_model.html#logistic-regression\n",
            "  extra_warning_msg=_LOGISTIC_SOLVER_CONVERGENCE_MSG,\n",
            "/usr/local/lib/python3.7/dist-packages/sklearn/linear_model/_logistic.py:818: ConvergenceWarning: lbfgs failed to converge (status=1):\n",
            "STOP: TOTAL NO. of ITERATIONS REACHED LIMIT.\n",
            "\n",
            "Increase the number of iterations (max_iter) or scale the data as shown in:\n",
            "    https://scikit-learn.org/stable/modules/preprocessing.html\n",
            "Please also refer to the documentation for alternative solver options:\n",
            "    https://scikit-learn.org/stable/modules/linear_model.html#logistic-regression\n",
            "  extra_warning_msg=_LOGISTIC_SOLVER_CONVERGENCE_MSG,\n",
            "/usr/local/lib/python3.7/dist-packages/sklearn/linear_model/_logistic.py:818: ConvergenceWarning: lbfgs failed to converge (status=1):\n",
            "STOP: TOTAL NO. of ITERATIONS REACHED LIMIT.\n",
            "\n",
            "Increase the number of iterations (max_iter) or scale the data as shown in:\n",
            "    https://scikit-learn.org/stable/modules/preprocessing.html\n",
            "Please also refer to the documentation for alternative solver options:\n",
            "    https://scikit-learn.org/stable/modules/linear_model.html#logistic-regression\n",
            "  extra_warning_msg=_LOGISTIC_SOLVER_CONVERGENCE_MSG,\n",
            "/usr/local/lib/python3.7/dist-packages/sklearn/linear_model/_logistic.py:818: ConvergenceWarning: lbfgs failed to converge (status=1):\n",
            "STOP: TOTAL NO. of ITERATIONS REACHED LIMIT.\n",
            "\n",
            "Increase the number of iterations (max_iter) or scale the data as shown in:\n",
            "    https://scikit-learn.org/stable/modules/preprocessing.html\n",
            "Please also refer to the documentation for alternative solver options:\n",
            "    https://scikit-learn.org/stable/modules/linear_model.html#logistic-regression\n",
            "  extra_warning_msg=_LOGISTIC_SOLVER_CONVERGENCE_MSG,\n"
          ]
        },
        {
          "output_type": "stream",
          "name": "stdout",
          "text": [
            "LRregression: 0.501873 (0.008773)\n",
            "KNN: 0.456097 (0.011841)\n",
            "MultinomialNB: 0.510445 (0.010277)\n",
            "DecisionTreeClassifier: 0.405077 (0.013968)\n",
            "SVM: 0.512276 (0.015597)\n",
            "SGDClassifier: 0.500707 (0.008558)\n",
            "RandomForest: 0.497295 (0.009302)\n",
            "PassiveAggressiveClassifier: 0.443362 (0.006525)\n"
          ]
        }
      ],
      "source": [
        "results = []\n",
        "names = []\n",
        "scoring = 'accuracy'\n",
        "for name, model in models:\n",
        "  kfold = KFold(n_splits=5, shuffle=True)\n",
        "  model = make_pipeline(TfidfVectorizer(), model)\n",
        "  cv_results = cross_val_score(model, X, y, cv=kfold, scoring=scoring)\n",
        "  results.append(cv_results)\n",
        "  names.append(name)\n",
        "  msg = \"%s: %f (%f)\" % (name, cv_results.mean(), cv_results.std())\n",
        "  print(msg)"
      ]
    },
    {
      "cell_type": "code",
      "execution_count": null,
      "metadata": {
        "colab": {
          "base_uri": "https://localhost:8080/",
          "height": 635
        },
        "id": "MfRRViySCd1q",
        "outputId": "2f4da7bf-0493-427a-b55b-9a1a62184ac6"
      },
      "outputs": [
        {
          "output_type": "display_data",
          "data": {
            "text/plain": [
              "<Figure size 576x576 with 1 Axes>"
            ],
            "image/png": "[encoded data removed]"
          },
          "metadata": {
            "needs_background": "light"
          }
        }
      ],
      "source": [
        "fig = plt.figure(figsize=(8,8))\n",
        "fig.suptitle('Comparison of models {} vs {} vs {}'.format(classes[0],classes[1],classes[2]))\n",
        "ax = fig.add_subplot(111)\n",
        "ax.boxplot(results)\n",
        "ax.set_xticklabels(names,rotation = 45)\n",
        "plt.show()"
      ]
    },
    {
      "cell_type": "markdown",
      "source": [
        "## Grid Search CV affinement des meilleurs paramètres"
      ],
      "metadata": {
        "id": "6yALCXJ1BMor"
      }
    },
    {
      "cell_type": "markdown",
      "metadata": {
        "id": "srLlVE9pDdB-"
      },
      "source": [
        "### Logistic Regression"
      ]
    },
    {
      "cell_type": "code",
      "source": [
        "X = df_train[\"text\"]\n",
        "y = df_train[\"truthRating\"] \n",
        "\n",
        "X_s = X.sample(1000)\n",
        "y_s = y.loc[X_s.index]\n",
        "preprocess_selection(\"logistic_regression\",LogisticRegression(),X_s,y_s)"
      ],
      "metadata": {
        "id": "OuH-2dLmk8GF",
        "colab": {
          "base_uri": "https://localhost:8080/"
        },
        "outputId": "07c5b189-9731-45a9-dba7-8a4fab4893db"
      },
      "execution_count": null,
      "outputs": [
        {
          "output_type": "stream",
          "name": "stdout",
          "text": [
            "Evaluation des différentes configurations : \n",
            "Pipeline             Score\n",
            "-----------------  -------\n",
            "TFIDF_lowcase       0.4910\n",
            "TFIDF_lowStop       0.4910\n",
            "TFIDF_brut          0.4910\n",
            "CV_brut             0.4770\n",
            "CV_lowcase          0.4770\n",
            "CV_lowStop          0.4770\n",
            "TFIDF_lowStopna     0.4670\n",
            "TFIDF_lowStopstem   0.4660\n",
            "CV_lowStopstem      0.4440\n",
            "CV_lowStopna        0.4420\n"
          ]
        }
      ]
    },
    {
      "cell_type": "code",
      "execution_count": null,
      "metadata": {
        "id": "Q8Fk4iQuvhAt",
        "colab": {
          "base_uri": "https://localhost:8080/"
        },
        "outputId": "7578210e-0a44-4ee0-ad84-4c2c740f62f6"
      },
      "outputs": [
        {
          "output_type": "stream",
          "name": "stdout",
          "text": [
            "meilleur score  0.5020790550664691 \n",
            "\n",
            "meilleurs paramètres {'clf__C': 0.21544346900318834, 'clf__max_iter': 100, 'vect__max_features': None} \n",
            "\n",
            "meilleur estimateur Pipeline(steps=[('vect', TfidfVectorizer()),\n",
            "                ('clf', LogisticRegression(C=0.21544346900318834))]) \n",
            "\n"
          ]
        }
      ],
      "source": [
        "# X = df_train[\"text\"]\n",
        "# y = df_train[\"truthRating\"]\n",
        "\n",
        "# # put text normalizer in the pipe is a bad idea because of the very long time processing\n",
        "# text_normalizer = TextNormalizer(removestopwords=True,lowercase=True,getstemmer=True,removedigit=False)\n",
        "# X = text_normalizer.fit_transform(X)\n",
        "\n",
        "X_train,X_val,y_train,y_val = train_test_split(X,y,train_size=0.8,random_state=0)\n",
        "\n",
        "pipe = Pipeline([('vect', TfidfVectorizer()),\n",
        "               ('clf', LogisticRegression(solver='lbfgs')),\n",
        "               ])\n",
        "\n",
        "grid = {\"clf__C\":np.logspace(-2,2,4),\n",
        "        \"clf__max_iter\":[100,1000]}\n",
        "\n",
        "gd_srLR = GridSearchCV(pipe,  \n",
        "                     param_grid=grid,\n",
        "                     scoring='accuracy',\n",
        "                     cv=5,\n",
        "                     n_jobs=-1,\n",
        "                    return_train_score=True)\n",
        "\n",
        "gd_srLR.fit(X_train, y_train)\n",
        "print('meilleur score ',\n",
        " gd_srLR.best_score_,'\\n')\n",
        "print('meilleurs paramètres',\n",
        " gd_srLR.best_params_,'\\n')\n",
        "print('meilleur estimateur',\n",
        "gd_srLR.best_estimator_,'\\n')"
      ]
    },
    {
      "cell_type": "code",
      "source": [
        "# Creation d'une instance de l'algorithme en utilisant les meilleurs paramètres\n",
        "lr = gd_srLR.best_estimator_\n",
        "\n",
        "lr.fit(X_train, y_train)\n",
        "y_pred = lr.predict(X_val)\n",
        "print('\\n accuracy: ', accuracy_score(y_pred, y_val),'\\n')\n",
        "\n",
        "print('\\n',classification_report(y_val, y_pred,target_names=classes))\n",
        "plot_confusion_matrix(confusion_matrix(y_val, y_pred))"
      ],
      "metadata": {
        "colab": {
          "base_uri": "https://localhost:8080/",
          "height": 571
        },
        "id": "HV2ReMyKI3VG",
        "outputId": "5de04809-4e5c-4b41-a6fa-465e8baf2e33"
      },
      "execution_count": null,
      "outputs": [
        {
          "output_type": "stream",
          "name": "stdout",
          "text": [
            "\n",
            " accuracy:  0.5118601747815231 \n",
            "\n",
            "\n",
            "               precision    recall  f1-score   support\n",
            "\n",
            "        True       0.53      0.58      0.55       796\n",
            "       False       0.47      0.40      0.43       769\n",
            "     Mixture       0.53      0.55      0.54       838\n",
            "\n",
            "    accuracy                           0.51      2403\n",
            "   macro avg       0.51      0.51      0.51      2403\n",
            "weighted avg       0.51      0.51      0.51      2403\n",
            "\n",
            "Confusion matrix, without normalization\n"
          ]
        },
        {
          "output_type": "display_data",
          "data": {
            "text/plain": [
              "<Figure size 432x288 with 2 Axes>"
            ],
            "image/png": "[encoded data removed]"
          },
          "metadata": {
            "needs_background": "light"
          }
        }
      ]
    },
    {
      "cell_type": "markdown",
      "source": [
        "Overfitting, Underfitting ?"
      ],
      "metadata": {
        "id": "RNWuM1Bp5D6f"
      }
    },
    {
      "cell_type": "code",
      "source": [
        "X = df_train[\"text\"]\n",
        "y = df_train[\"truthRating\"]\n",
        "text_normalizer = TextNormalizer(removestopwords=True,lowercase=True,getstemmer=True,removedigit=False)\n",
        "X = text_normalizer.fit_transform(X)\n",
        "X = pd.Series(X)\n",
        "plot_quad_error(X,y,lr)"
      ],
      "metadata": {
        "id": "QydKI9pQ48fp",
        "colab": {
          "base_uri": "https://localhost:8080/",
          "height": 295
        },
        "outputId": "264d4ab7-d4b4-4156-b412-bd6dc00458e2"
      },
      "execution_count": null,
      "outputs": [
        {
          "output_type": "display_data",
          "data": {
            "text/plain": [
              "<Figure size 432x288 with 1 Axes>"
            ],
            "image/png": "[encoded data removed]"
          },
          "metadata": {
            "needs_background": "light"
          }
        }
      ]
    },
    {
      "cell_type": "markdown",
      "source": [
        "Evaluation sur le test set"
      ],
      "metadata": {
        "id": "YxyKCeTAxpyP"
      }
    },
    {
      "cell_type": "code",
      "source": [
        "X_test,y_test = df_test[\"text\"],df_test[\"truthRating\"]\n",
        "y_pred = lr.predict(X_test)\n",
        "print('\\n accuracy: ', accuracy_score(y_pred, y_test),'\\n')\n",
        "\n",
        "print('\\n',classification_report(y_test, y_pred,target_names=classes))\n",
        "plot_confusion_matrix(confusion_matrix(y_test, y_pred))"
      ],
      "metadata": {
        "colab": {
          "base_uri": "https://localhost:8080/",
          "height": 571
        },
        "id": "dj3hQmjKxn1u",
        "outputId": "f0c12a2c-b288-4d5b-cfbe-6f511bc7a1c4"
      },
      "execution_count": null,
      "outputs": [
        {
          "output_type": "stream",
          "name": "stdout",
          "text": [
            "\n",
            " accuracy:  0.48239700374531835 \n",
            "\n",
            "\n",
            "               precision    recall  f1-score   support\n",
            "\n",
            "        True       0.48      0.67      0.56       448\n",
            "       False       0.47      0.40      0.43       454\n",
            "     Mixture       0.50      0.38      0.43       433\n",
            "\n",
            "    accuracy                           0.48      1335\n",
            "   macro avg       0.48      0.48      0.47      1335\n",
            "weighted avg       0.48      0.48      0.47      1335\n",
            "\n",
            "Confusion matrix, without normalization\n"
          ]
        },
        {
          "output_type": "display_data",
          "data": {
            "text/plain": [
              "<Figure size 432x288 with 2 Axes>"
            ],
            "image/png": "[encoded data removed]"
          },
          "metadata": {
            "needs_background": "light"
          }
        }
      ]
    },
    {
      "cell_type": "markdown",
      "source": [
        "### SVC"
      ],
      "metadata": {
        "id": "6uaerwwsBcFX"
      }
    },
    {
      "cell_type": "code",
      "source": [
        "X = df_train[\"text\"]\n",
        "y = df_train[\"truthRating\"] \n",
        "\n",
        "X_s = X.sample(1000)\n",
        "y_s = y.loc[X_s.index]\n",
        "preprocess_selection(\"SVC\",SVC(),X_s,y_s)"
      ],
      "metadata": {
        "colab": {
          "base_uri": "https://localhost:8080/"
        },
        "id": "GLlviG4KyE8T",
        "outputId": "2b58a426-2d02-45d8-b779-dfda10a60dda"
      },
      "execution_count": null,
      "outputs": [
        {
          "output_type": "stream",
          "name": "stdout",
          "text": [
            "Evaluation des différentes configurations : \n",
            "Pipeline             Score\n",
            "-----------------  -------\n",
            "CV_lowStopstem      0.6480\n",
            "CV_lowStopna        0.6430\n",
            "TFIDF_lowStopna     0.6400\n",
            "TFIDF_lowStopstem   0.6400\n",
            "TFIDF_lowcase       0.6320\n",
            "TFIDF_lowStop       0.6320\n",
            "TFIDF_brut          0.6320\n",
            "CV_brut             0.6180\n",
            "CV_lowcase          0.6180\n",
            "CV_lowStop          0.6180\n"
          ]
        }
      ]
    },
    {
      "cell_type": "code",
      "source": [
        "X = df_train[\"text\"]\n",
        "y = df_train[\"truthRating\"]\n",
        "# put text normalizer in the pipe is a bad idea because of the very long time processing\n",
        "text_normalizer = TextNormalizer(removestopwords=True,lowercase=True,getstemmer=True,removedigit=False)\n",
        "X = text_normalizer.fit_transform(X)\n",
        "X_train,X_val,y_train,y_val = train_test_split(X,y,train_size=0.8,random_state=0)\n",
        "\n",
        "pipe = Pipeline([('vect', TfidfVectorizer()),\n",
        "               ('clf', SVC()),\n",
        "              ])\n",
        "\n",
        "grid = {'clf__C': [100, 1000], \n",
        "        'clf__kernel': ['linear'],\n",
        "        'clf__gamma': [0.001, 0.0001,0.00001], \n",
        "        'clf__kernel': ['rbf']}\n",
        "\n",
        "gd_srSVC = GridSearchCV(pipe,  \n",
        "                     param_grid=grid,\n",
        "                     scoring='accuracy',\n",
        "                     cv=5,\n",
        "                     n_jobs=-1,\n",
        "                    return_train_score=True)\n",
        "\n",
        "gd_srSVC.fit(X_train, y_train)\n",
        "print('meilleur score ',\n",
        " gd_srSVC.best_score_,'\\n')\n",
        "print('meilleurs paramètres',\n",
        " gd_srSVC.best_params_,'\\n')\n",
        "print('meilleur estimateur',\n",
        "gd_srSVC.best_estimator_,'\\n')"
      ],
      "metadata": {
        "colab": {
          "base_uri": "https://localhost:8080/"
        },
        "id": "RfZ-JvhyyToe",
        "outputId": "5e84cabe-8d2c-499b-8827-2a14217c30a1"
      },
      "execution_count": null,
      "outputs": [
        {
          "output_type": "stream",
          "name": "stdout",
          "text": [
            "meilleur score  0.6670833333333333 \n",
            "\n",
            "meilleurs paramètres {'clf__C': 1000, 'clf__gamma': 0.0001, 'clf__kernel': 'rbf'} \n",
            "\n",
            "meilleur estimateur Pipeline(steps=[('vect', TfidfVectorizer()),\n",
            "                ('clf', SVC(C=1000, gamma=0.0001))]) \n",
            "\n"
          ]
        }
      ]
    },
    {
      "cell_type": "code",
      "source": [
        "# Creation d'une instance de l'algorithme en utilisant les meilleurs paramètres\n",
        "lr = gd_srSVC.best_estimator_\n",
        "\n",
        "lr.fit(X_train, y_train)\n",
        "y_pred = lr.predict(X_val)\n",
        "print('\\n accuracy: ', accuracy_score(y_pred, y_val),'\\n')\n",
        "\n",
        "print('\\n',classification_report(y_val, y_pred,target_names=classes))\n",
        "plot_confusion_matrix(confusion_matrix(y_val, y_pred))"
      ],
      "metadata": {
        "colab": {
          "base_uri": "https://localhost:8080/",
          "height": 554
        },
        "id": "Q7pKwICzzuM9",
        "outputId": "a6e9893d-18ac-4b90-91d6-91d115718b81"
      },
      "execution_count": null,
      "outputs": [
        {
          "output_type": "stream",
          "name": "stdout",
          "text": [
            "\n",
            " accuracy:  0.6652777777777777 \n",
            "\n",
            "\n",
            "               precision    recall  f1-score   support\n",
            "\n",
            "  True,False       0.66      0.66      0.66      1768\n",
            "     Mixture       0.67      0.67      0.67      1832\n",
            "\n",
            "    accuracy                           0.67      3600\n",
            "   macro avg       0.67      0.67      0.67      3600\n",
            "weighted avg       0.67      0.67      0.67      3600\n",
            "\n",
            "Confusion matrix, without normalization\n"
          ]
        },
        {
          "output_type": "display_data",
          "data": {
            "text/plain": [
              "<Figure size 432x288 with 2 Axes>"
            ],
            "image/png": "[encoded data removed]"
          },
          "metadata": {
            "needs_background": "light"
          }
        }
      ]
    },
    {
      "cell_type": "code",
      "source": [
        "X = df_train[\"text\"]\n",
        "y = df_train[\"truthRating\"]\n",
        "text_normalizer = TextNormalizer(removestopwords=True,lowercase=True,getstemmer=True,removedigit=False)\n",
        "X = text_normalizer.fit_transform(X)\n",
        "X = pd.Series(X)\n",
        "plot_quad_error(X,y,lr)"
      ],
      "metadata": {
        "colab": {
          "base_uri": "https://localhost:8080/",
          "height": 295
        },
        "id": "TpuhedAVzw8i",
        "outputId": "55a1b9a4-1388-4615-9468-8f433afe70f2"
      },
      "execution_count": null,
      "outputs": [
        {
          "output_type": "display_data",
          "data": {
            "text/plain": [
              "<Figure size 432x288 with 1 Axes>"
            ],
            "image/png": "[encoded data removed]"
          },
          "metadata": {
            "needs_background": "light"
          }
        }
      ]
    },
    {
      "cell_type": "markdown",
      "source": [
        "Evaluation sur le test Set"
      ],
      "metadata": {
        "id": "IZuCP1plzzeT"
      }
    },
    {
      "cell_type": "code",
      "source": [
        "X_test,y_test = df_test[\"text\"],df_test[\"truthRating\"]\n",
        "y_pred = lr.predict(X_test)\n",
        "print('\\n accuracy: ', accuracy_score(y_pred, y_test),'\\n')\n",
        "\n",
        "print('\\n',classification_report(y_test, y_pred,target_names=classes))\n",
        "plot_confusion_matrix(confusion_matrix(y_test, y_pred))"
      ],
      "metadata": {
        "colab": {
          "base_uri": "https://localhost:8080/"
        },
        "id": "5qXCD5V6z1lo",
        "outputId": "c4623327-8caa-411a-b0d7-9959e15991b4"
      },
      "execution_count": null,
      "outputs": [
        {
          "output_type": "stream",
          "name": "stdout",
          "text": [
            "\n",
            " accuracy:  0.648 \n",
            "\n",
            "\n",
            "               precision    recall  f1-score   support\n",
            "\n",
            "  True,False       0.62      0.76      0.68      1008\n",
            "     Mixture       0.69      0.54      0.60       992\n",
            "\n",
            "    accuracy                           0.65      2000\n",
            "   macro avg       0.65      0.65      0.64      2000\n",
            "weighted avg       0.65      0.65      0.64      2000\n",
            "\n",
            "Confusion matrix, without normalization\n"
          ]
        },
        {
          "output_type": "display_data",
          "data": {
            "text/plain": [
              "<Figure size 432x288 with 2 Axes>"
            ],
            "image/png": "[encoded data removed]"
          },
          "metadata": {
            "needs_background": "light"
          }
        }
      ]
    },
    {
      "cell_type": "markdown",
      "source": [
        "### MultinomialNB"
      ],
      "metadata": {
        "id": "P4XFbUHv3Jzk"
      }
    },
    {
      "cell_type": "code",
      "source": [
        ""
      ],
      "metadata": {
        "id": "DKDRMZyj3OAm"
      },
      "execution_count": null,
      "outputs": []
    },
    {
      "cell_type": "markdown",
      "source": [
        "### RandomForest"
      ],
      "metadata": {
        "id": "GTNQu5KtBihk"
      }
    },
    {
      "cell_type": "code",
      "source": [
        "X = df_train[\"text\"]\n",
        "y = df_train[\"truthRating\"]\n",
        "text_normalizer= TextNormalizer(removestopwords=False,lowercase=True,getstemmer=False,removedigit=False) \n",
        "X=text_normalizer.fit_transform(X)"
      ],
      "metadata": {
        "id": "PtdvsuNeBuFA"
      },
      "execution_count": null,
      "outputs": []
    },
    {
      "cell_type": "code",
      "source": [
        "X_train,X_val,y_train,y_val = train_test_split(X,y,train_size=0.7,random_state=0)\n",
        "\n",
        "pipe = Pipeline([('vect', TfidfVectorizer()),\n",
        "               ('clf', RandomForestClassifier()),\n",
        "              ])\n",
        "grid = { \n",
        "    'clf__n_estimators': [100,200],\n",
        "    'clf__max_features': ['auto', 'sqrt', 'log2'],\n",
        "    'clf__max_depth' : [7,8],\n",
        "    'clf__criterion' :['gini', 'entropy']\n",
        "}\n",
        "gd_srLR = GridSearchCV(pipe,  \n",
        "                     param_grid=grid,\n",
        "                     scoring='accuracy',\n",
        "                     cv=5,\n",
        "                     n_jobs=-1,\n",
        "                    return_train_score=True)\n",
        "\n",
        "gd_srLR.fit(X_train, y_train)\n",
        "print ('meilleur score ',\n",
        " gd_srLR.best_score_,'\\n')\n",
        "print ('meilleurs paramètres',\n",
        " gd_srLR.best_params_,'\\n')\n",
        "print ('meilleur estimateur',\n",
        "gd_srLR.best_estimator_,'\\n')"
      ],
      "metadata": {
        "colab": {
          "base_uri": "https://localhost:8080/"
        },
        "id": "v-2-yklJB9xg",
        "outputId": "59ddaee2-73a3-4e35-d85c-23b1196fc7fc"
      },
      "execution_count": null,
      "outputs": [
        {
          "output_type": "stream",
          "name": "stdout",
          "text": [
            "meilleur score  0.5807154703775113 \n",
            "\n",
            "meilleurs paramètres {'clf__criterion': 'gini', 'clf__max_depth': 8, 'clf__max_features': 'sqrt', 'clf__n_estimators': 100} \n",
            "\n",
            "meilleur estimateur Pipeline(steps=[('vect', TfidfVectorizer()),\n",
            "                ('clf',\n",
            "                 RandomForestClassifier(max_depth=8, max_features='sqrt'))]) \n",
            "\n"
          ]
        }
      ]
    },
    {
      "cell_type": "code",
      "source": [
        "# Creation d'une instance de l'algorithme en utilisant les meilleurs paramètres\n",
        "lr = gd_srLR.best_estimator_\n",
        "\n",
        "lr.fit(X_train, y_train)\n",
        "y_pred = lr.predict(X_val)\n",
        "print('\\n accuracy: ', accuracy_score(y_pred, y_val),'\\n')\n",
        "\n",
        "print('\\n',classification_report(y_val, y_pred,target_names=classes))\n",
        "plot_confusion_matrix(confusion_matrix(y_val, y_pred),classes = classes)"
      ],
      "metadata": {
        "colab": {
          "base_uri": "https://localhost:8080/",
          "height": 554
        },
        "id": "ZXwnkg0uB-pk",
        "outputId": "6deab2bc-9492-4a32-8fd7-ecc73c7554db"
      },
      "execution_count": null,
      "outputs": [
        {
          "output_type": "stream",
          "name": "stdout",
          "text": [
            "\n",
            " accuracy:  0.5691489361702128 \n",
            "\n",
            "\n",
            "               precision    recall  f1-score   support\n",
            "\n",
            "  True,False       0.55      0.98      0.71      2694\n",
            "     Mixture       0.82      0.10      0.19      2382\n",
            "\n",
            "    accuracy                           0.57      5076\n",
            "   macro avg       0.69      0.54      0.45      5076\n",
            "weighted avg       0.68      0.57      0.46      5076\n",
            "\n",
            "Confusion matrix, without normalization\n"
          ]
        },
        {
          "output_type": "display_data",
          "data": {
            "text/plain": [
              "<Figure size 432x288 with 2 Axes>"
            ],
            "image/png": "[encoded data removed]"
          },
          "metadata": {
            "needs_background": "light"
          }
        }
      ]
    },
    {
      "cell_type": "markdown",
      "source": [
        "# Deep learning Approach"
      ],
      "metadata": {
        "id": "qEpLC2fvITPA"
      }
    },
    {
      "cell_type": "code",
      "source": [
        "import tensorflow_hub as hub\n",
        "import tensorflow as tf\n",
        "!pip install tensorflow-text\n",
        "import tensorflow_text as text"
      ],
      "metadata": {
        "colab": {
          "base_uri": "https://localhost:8080/",
          "height": 1000
        },
        "id": "lVPKO0UyKRe1",
        "outputId": "6d7abe34-4c7e-4e4a-b98f-daaf0b433da0"
      },
      "execution_count": null,
      "outputs": [
        {
          "output_type": "stream",
          "name": "stdout",
          "text": [
            "Collecting tensorflow-text\n",
            "  Downloading tensorflow_text-2.8.1-cp37-cp37m-manylinux_2_12_x86_64.manylinux2010_x86_64.whl (4.9 MB)\n",
            "\u001b[K     |████████████████████████████████| 4.9 MB 7.8 MB/s \n",
            "\u001b[?25hRequirement already satisfied: tensorflow-hub>=0.8.0 in /usr/local/lib/python3.7/dist-packages (from tensorflow-text) (0.12.0)\n",
            "Requirement already satisfied: tensorflow<2.9,>=2.8.0 in /usr/local/lib/python3.7/dist-packages (from tensorflow-text) (2.8.0)\n",
            "Requirement already satisfied: opt-einsum>=2.3.2 in /usr/local/lib/python3.7/dist-packages (from tensorflow<2.9,>=2.8.0->tensorflow-text) (3.3.0)\n",
            "Requirement already satisfied: tensorboard<2.9,>=2.8 in /usr/local/lib/python3.7/dist-packages (from tensorflow<2.9,>=2.8.0->tensorflow-text) (2.8.0)\n",
            "Requirement already satisfied: absl-py>=0.4.0 in /usr/local/lib/python3.7/dist-packages (from tensorflow<2.9,>=2.8.0->tensorflow-text) (1.0.0)\n",
            "Requirement already satisfied: libclang>=9.0.1 in /usr/local/lib/python3.7/dist-packages (from tensorflow<2.9,>=2.8.0->tensorflow-text) (13.0.0)\n",
            "Requirement already satisfied: astunparse>=1.6.0 in /usr/local/lib/python3.7/dist-packages (from tensorflow<2.9,>=2.8.0->tensorflow-text) (1.6.3)\n",
            "Requirement already satisfied: six>=1.12.0 in /usr/local/lib/python3.7/dist-packages (from tensorflow<2.9,>=2.8.0->tensorflow-text) (1.15.0)\n",
            "Requirement already satisfied: protobuf>=3.9.2 in /usr/local/lib/python3.7/dist-packages (from tensorflow<2.9,>=2.8.0->tensorflow-text) (3.17.3)\n",
            "Requirement already satisfied: typing-extensions>=3.6.6 in /usr/local/lib/python3.7/dist-packages (from tensorflow<2.9,>=2.8.0->tensorflow-text) (3.10.0.2)\n",
            "Requirement already satisfied: google-pasta>=0.1.1 in /usr/local/lib/python3.7/dist-packages (from tensorflow<2.9,>=2.8.0->tensorflow-text) (0.2.0)\n",
            "Requirement already satisfied: keras-preprocessing>=1.1.1 in /usr/local/lib/python3.7/dist-packages (from tensorflow<2.9,>=2.8.0->tensorflow-text) (1.1.2)\n",
            "Requirement already satisfied: keras<2.9,>=2.8.0rc0 in /usr/local/lib/python3.7/dist-packages (from tensorflow<2.9,>=2.8.0->tensorflow-text) (2.8.0)\n",
            "Requirement already satisfied: termcolor>=1.1.0 in /usr/local/lib/python3.7/dist-packages (from tensorflow<2.9,>=2.8.0->tensorflow-text) (1.1.0)\n",
            "Requirement already satisfied: flatbuffers>=1.12 in /usr/local/lib/python3.7/dist-packages (from tensorflow<2.9,>=2.8.0->tensorflow-text) (2.0)\n",
            "Requirement already satisfied: h5py>=2.9.0 in /usr/local/lib/python3.7/dist-packages (from tensorflow<2.9,>=2.8.0->tensorflow-text) (3.1.0)\n",
            "Requirement already satisfied: gast>=0.2.1 in /usr/local/lib/python3.7/dist-packages (from tensorflow<2.9,>=2.8.0->tensorflow-text) (0.5.3)\n",
            "Collecting tf-estimator-nightly==2.8.0.dev2021122109\n",
            "  Downloading tf_estimator_nightly-2.8.0.dev2021122109-py2.py3-none-any.whl (462 kB)\n",
            "\u001b[K     |████████████████████████████████| 462 kB 76.6 MB/s \n",
            "\u001b[?25hRequirement already satisfied: tensorflow-io-gcs-filesystem>=0.23.1 in /usr/local/lib/python3.7/dist-packages (from tensorflow<2.9,>=2.8.0->tensorflow-text) (0.24.0)\n",
            "Requirement already satisfied: wrapt>=1.11.0 in /usr/local/lib/python3.7/dist-packages (from tensorflow<2.9,>=2.8.0->tensorflow-text) (1.14.0)\n",
            "Requirement already satisfied: numpy>=1.20 in /usr/local/lib/python3.7/dist-packages (from tensorflow<2.9,>=2.8.0->tensorflow-text) (1.21.5)\n",
            "Requirement already satisfied: setuptools in /usr/local/lib/python3.7/dist-packages (from tensorflow<2.9,>=2.8.0->tensorflow-text) (57.4.0)\n",
            "Requirement already satisfied: grpcio<2.0,>=1.24.3 in /usr/local/lib/python3.7/dist-packages (from tensorflow<2.9,>=2.8.0->tensorflow-text) (1.44.0)\n",
            "Requirement already satisfied: wheel<1.0,>=0.23.0 in /usr/local/lib/python3.7/dist-packages (from astunparse>=1.6.0->tensorflow<2.9,>=2.8.0->tensorflow-text) (0.37.1)\n",
            "Requirement already satisfied: cached-property in /usr/local/lib/python3.7/dist-packages (from h5py>=2.9.0->tensorflow<2.9,>=2.8.0->tensorflow-text) (1.5.2)\n",
            "Requirement already satisfied: markdown>=2.6.8 in /usr/local/lib/python3.7/dist-packages (from tensorboard<2.9,>=2.8->tensorflow<2.9,>=2.8.0->tensorflow-text) (3.3.6)\n",
            "Requirement already satisfied: tensorboard-plugin-wit>=1.6.0 in /usr/local/lib/python3.7/dist-packages (from tensorboard<2.9,>=2.8->tensorflow<2.9,>=2.8.0->tensorflow-text) (1.8.1)\n",
            "Requirement already satisfied: requests<3,>=2.21.0 in /usr/local/lib/python3.7/dist-packages (from tensorboard<2.9,>=2.8->tensorflow<2.9,>=2.8.0->tensorflow-text) (2.23.0)\n",
            "Requirement already satisfied: google-auth-oauthlib<0.5,>=0.4.1 in /usr/local/lib/python3.7/dist-packages (from tensorboard<2.9,>=2.8->tensorflow<2.9,>=2.8.0->tensorflow-text) (0.4.6)\n",
            "Requirement already satisfied: tensorboard-data-server<0.7.0,>=0.6.0 in /usr/local/lib/python3.7/dist-packages (from tensorboard<2.9,>=2.8->tensorflow<2.9,>=2.8.0->tensorflow-text) (0.6.1)\n",
            "Requirement already satisfied: google-auth<3,>=1.6.3 in /usr/local/lib/python3.7/dist-packages (from tensorboard<2.9,>=2.8->tensorflow<2.9,>=2.8.0->tensorflow-text) (1.35.0)\n",
            "Requirement already satisfied: werkzeug>=0.11.15 in /usr/local/lib/python3.7/dist-packages (from tensorboard<2.9,>=2.8->tensorflow<2.9,>=2.8.0->tensorflow-text) (1.0.1)\n",
            "Requirement already satisfied: pyasn1-modules>=0.2.1 in /usr/local/lib/python3.7/dist-packages (from google-auth<3,>=1.6.3->tensorboard<2.9,>=2.8->tensorflow<2.9,>=2.8.0->tensorflow-text) (0.2.8)\n",
            "Requirement already satisfied: rsa<5,>=3.1.4 in /usr/local/lib/python3.7/dist-packages (from google-auth<3,>=1.6.3->tensorboard<2.9,>=2.8->tensorflow<2.9,>=2.8.0->tensorflow-text) (4.8)\n",
            "Requirement already satisfied: cachetools<5.0,>=2.0.0 in /usr/local/lib/python3.7/dist-packages (from google-auth<3,>=1.6.3->tensorboard<2.9,>=2.8->tensorflow<2.9,>=2.8.0->tensorflow-text) (4.2.4)\n",
            "Requirement already satisfied: requests-oauthlib>=0.7.0 in /usr/local/lib/python3.7/dist-packages (from google-auth-oauthlib<0.5,>=0.4.1->tensorboard<2.9,>=2.8->tensorflow<2.9,>=2.8.0->tensorflow-text) (1.3.1)\n",
            "Requirement already satisfied: importlib-metadata>=4.4 in /usr/local/lib/python3.7/dist-packages (from markdown>=2.6.8->tensorboard<2.9,>=2.8->tensorflow<2.9,>=2.8.0->tensorflow-text) (4.11.3)\n",
            "Requirement already satisfied: zipp>=0.5 in /usr/local/lib/python3.7/dist-packages (from importlib-metadata>=4.4->markdown>=2.6.8->tensorboard<2.9,>=2.8->tensorflow<2.9,>=2.8.0->tensorflow-text) (3.7.0)\n",
            "Requirement already satisfied: pyasn1<0.5.0,>=0.4.6 in /usr/local/lib/python3.7/dist-packages (from pyasn1-modules>=0.2.1->google-auth<3,>=1.6.3->tensorboard<2.9,>=2.8->tensorflow<2.9,>=2.8.0->tensorflow-text) (0.4.8)\n",
            "Requirement already satisfied: urllib3!=1.25.0,!=1.25.1,<1.26,>=1.21.1 in /usr/local/lib/python3.7/dist-packages (from requests<3,>=2.21.0->tensorboard<2.9,>=2.8->tensorflow<2.9,>=2.8.0->tensorflow-text) (1.24.3)\n",
            "Requirement already satisfied: chardet<4,>=3.0.2 in /usr/local/lib/python3.7/dist-packages (from requests<3,>=2.21.0->tensorboard<2.9,>=2.8->tensorflow<2.9,>=2.8.0->tensorflow-text) (3.0.4)\n",
            "Requirement already satisfied: certifi>=2017.4.17 in /usr/local/lib/python3.7/dist-packages (from requests<3,>=2.21.0->tensorboard<2.9,>=2.8->tensorflow<2.9,>=2.8.0->tensorflow-text) (2021.10.8)\n",
            "Requirement already satisfied: idna<3,>=2.5 in /usr/local/lib/python3.7/dist-packages (from requests<3,>=2.21.0->tensorboard<2.9,>=2.8->tensorflow<2.9,>=2.8.0->tensorflow-text) (2.10)\n",
            "Requirement already satisfied: oauthlib>=3.0.0 in /usr/local/lib/python3.7/dist-packages (from requests-oauthlib>=0.7.0->google-auth-oauthlib<0.5,>=0.4.1->tensorboard<2.9,>=2.8->tensorflow<2.9,>=2.8.0->tensorflow-text) (3.2.0)\n",
            "Installing collected packages: tf-estimator-nightly, tensorflow-text\n",
            "Successfully installed tensorflow-text-2.8.1 tf-estimator-nightly-2.8.0.dev2021122109\n"
          ]
        },
        {
          "output_type": "display_data",
          "data": {
            "application/vnd.colab-display-data+json": {
              "pip_warning": {
                "packages": [
                  "tensorflow_estimator"
                ]
              }
            }
          },
          "metadata": {}
        }
      ]
    },
    {
      "cell_type": "code",
      "source": [
        "X = df_train[\"text\"]\n",
        "y = df_train[\"truthRating\"]\n",
        "\n",
        "# known to perform best with the following parameters \n",
        "# given some article on the web\n",
        "text_normalizer= TextNormalizer(removestopwords=True,lowercase=True,getstemmer=True,removedigit=False) \n",
        "X=text_normalizer.fit_transform(X)\n",
        "X_train,X_val,y_train,y_val = train_test_split(X,y,train_size=0.8,random_state=0)\n",
        "\n",
        "embed = hub.load(\"https://tfhub.dev/google/Wiki-words-250/2\")\n",
        "\n",
        "# Convert each series of words to a word2vec embedding\n",
        "indiv = []\n",
        "for i in X_train:\n",
        "  temp = np.array(embed(i.split(\" \")))\n",
        "  indiv.append(temp)\n",
        "\n",
        "#Accounts for different length of words\n",
        "indiv = tf.keras.preprocessing.sequence.pad_sequences(indiv,dtype='float')\n",
        "indiv.shape"
      ],
      "metadata": {
        "colab": {
          "base_uri": "https://localhost:8080/"
        },
        "id": "Qp0p8XF0IYK-",
        "outputId": "5bf7c3cf-ac6a-40c3-cfad-f2c1a31650a3"
      },
      "execution_count": null,
      "outputs": [
        {
          "output_type": "execute_result",
          "data": {
            "text/plain": [
              "(9612, 60, 250)"
            ]
          },
          "metadata": {},
          "execution_count": 69
        }
      ]
    },
    {
      "cell_type": "code",
      "source": [
        "# Convert each series of words to a word2vec embedding\n",
        "val = []\n",
        "for i in X_val:\n",
        "  temp = np.array(embed(i.split(\" \")))\n",
        "  val.append(temp)\n",
        "\n",
        "val = tf.keras.preprocessing.sequence.pad_sequences(val,dtype='float')"
      ],
      "metadata": {
        "id": "hvRvV7rSNrWu"
      },
      "execution_count": null,
      "outputs": []
    },
    {
      "cell_type": "code",
      "source": [
        "val.shape"
      ],
      "metadata": {
        "colab": {
          "base_uri": "https://localhost:8080/"
        },
        "id": "LIi76L1XOiKr",
        "outputId": "0b8eadbd-af65-4e55-fb41-e5432e7d2845"
      },
      "execution_count": null,
      "outputs": [
        {
          "output_type": "execute_result",
          "data": {
            "text/plain": [
              "(2403, 52, 250)"
            ]
          },
          "metadata": {},
          "execution_count": 71
        }
      ]
    },
    {
      "cell_type": "code",
      "source": [
        "#Sequential model has a 60 cell LSTM layer before Dense layers\n",
        "model = tf.keras.models.Sequential()\n",
        "\n",
        "model.add(tf.keras.layers.LSTM(50))\n",
        "model.add(tf.keras.layers.Dense(20,activation='relu'))\n",
        "model.add(tf.keras.layers.Dense(5,activation='relu'))\n",
        "model.add(tf.keras.layers.Dense(1,activation='sigmoid'))\n",
        "\n",
        "#Compile model with binary_crossentropy loss, Adam optimizer, and accuracy metrics\n",
        "model.compile(optimizer=tf.keras.optimizers.Adam(learning_rate = 0.0001),\\\n",
        "              loss=\"binary_crossentropy\", metrics=['accuracy'])\n",
        "\n",
        "#Train model on 10 epochs\n",
        "model.fit(indiv, y_train,validation_data=[val,y_val],epochs=10)"
      ],
      "metadata": {
        "colab": {
          "base_uri": "https://localhost:8080/"
        },
        "id": "iruf-B7GN_oq",
        "outputId": "949dd030-50f6-42d6-caed-3a8fb9bea6eb"
      },
      "execution_count": null,
      "outputs": [
        {
          "output_type": "stream",
          "name": "stdout",
          "text": [
            "Epoch 1/10\n",
            "301/301 [==============================] - 12s 15ms/step - loss: 0.2904 - accuracy: 0.3369 - val_loss: -0.0409 - val_accuracy: 0.3200\n",
            "Epoch 2/10\n",
            "301/301 [==============================] - 3s 10ms/step - loss: 0.0109 - accuracy: 0.3357 - val_loss: -0.1098 - val_accuracy: 0.3200\n",
            "Epoch 3/10\n",
            "301/301 [==============================] - 3s 10ms/step - loss: -0.1448 - accuracy: 0.3357 - val_loss: -0.4165 - val_accuracy: 0.3200\n",
            "Epoch 4/10\n",
            "301/301 [==============================] - 3s 8ms/step - loss: -0.5185 - accuracy: 0.3354 - val_loss: -0.9070 - val_accuracy: 0.3175\n",
            "Epoch 5/10\n",
            "301/301 [==============================] - 2s 8ms/step - loss: -1.0473 - accuracy: 0.3359 - val_loss: -1.5920 - val_accuracy: 0.3159\n",
            "Epoch 6/10\n",
            "301/301 [==============================] - 2s 6ms/step - loss: -1.7224 - accuracy: 0.3349 - val_loss: -2.3975 - val_accuracy: 0.3200\n",
            "Epoch 7/10\n",
            "301/301 [==============================] - 2s 6ms/step - loss: -2.5149 - accuracy: 0.3357 - val_loss: -3.2491 - val_accuracy: 0.3200\n",
            "Epoch 8/10\n",
            "301/301 [==============================] - 2s 6ms/step - loss: -3.4902 - accuracy: 0.3357 - val_loss: -4.2391 - val_accuracy: 0.3200\n",
            "Epoch 9/10\n",
            "301/301 [==============================] - 2s 6ms/step - loss: -4.5330 - accuracy: 0.3357 - val_loss: -5.5819 - val_accuracy: 0.3200\n",
            "Epoch 10/10\n",
            "301/301 [==============================] - 2s 6ms/step - loss: -5.7936 - accuracy: 0.3357 - val_loss: -6.9575 - val_accuracy: 0.3200\n"
          ]
        },
        {
          "output_type": "execute_result",
          "data": {
            "text/plain": [
              "<keras.callbacks.History at 0x7f9ffae50d90>"
            ]
          },
          "metadata": {},
          "execution_count": 72
        }
      ]
    },
    {
      "cell_type": "markdown",
      "source": [
        "### Fine tuning BERT"
      ],
      "metadata": {
        "id": "l4p6VgqzPD0L"
      }
    },
    {
      "cell_type": "code",
      "source": [
        "X = df_train[\"text\"].values\n",
        "y = df_train[\"truthRating\"].values\n",
        "X_train, X_val, y_train, y_val = train_test_split(X, y, test_size=0.2, random_state=0)\n",
        "\n",
        "#Use the bert preprocesser and bert encoder from tensorflow_hub\n",
        "bert_preprocess = hub.KerasLayer(\"https://tfhub.dev/tensorflow/bert_en_uncased_preprocess/3\")\n",
        "bert_encoder = hub.KerasLayer('https://tfhub.dev/tensorflow/bert_en_uncased_L-12_H-768_A-12/4')"
      ],
      "metadata": {
        "id": "5FwALIqHPCYh"
      },
      "execution_count": null,
      "outputs": []
    },
    {
      "cell_type": "code",
      "source": [
        "# Input Layers\n",
        "input_layer = tf.keras.layers.Input(shape=(), dtype=tf.string, name='news')\n",
        "\n",
        "# BERT layers\n",
        "processed = bert_preprocess(input_layer)\n",
        "output = bert_encoder(processed)\n",
        "\n",
        "# Fully Connected Layers\n",
        "# layer = tf.keras.layers.Dropout(0.2, name='dropout')(output['pooled_output'])\n",
        "layer = tf.keras.layers.Dense(20,activation='relu', name='hidden1')(output['pooled_output'])\n",
        "layer = tf.keras.layers.Dense(5,activation='relu', name='hidden2')(layer)\n",
        "layer = tf.keras.layers.Dense(1,activation='sigmoid', name='output')(layer)\n",
        "\n",
        "model = tf.keras.Model(inputs=[input_layer],outputs=[layer])"
      ],
      "metadata": {
        "id": "OURG36uRrA6q"
      },
      "execution_count": null,
      "outputs": []
    },
    {
      "cell_type": "code",
      "source": [
        "#Compile model on adam optimizer, binary_crossentropy loss, and accuracy metrics\n",
        "model.compile(optimizer='adam',loss='binary_crossentropy',metrics=['accuracy'])\n",
        "#Train model on 10 epochs\n",
        "\n",
        "model.fit(X_train, y_train,epochs=10)\n",
        "\n",
        "#Evaluate model on test data\n",
        "model.evaluate(X_val,y_val)"
      ],
      "metadata": {
        "colab": {
          "base_uri": "https://localhost:8080/"
        },
        "id": "DtjEGvzNo1Mx",
        "outputId": "ab0aef3e-1fd1-49a0-b595-0067d2a0ee1c"
      },
      "execution_count": null,
      "outputs": [
        {
          "output_type": "stream",
          "name": "stdout",
          "text": [
            "Epoch 1/10\n",
            "301/301 [==============================] - 72s 207ms/step - loss: -4.7084 - accuracy: 0.3388\n",
            "Epoch 2/10\n",
            "301/301 [==============================] - 62s 207ms/step - loss: -46.5022 - accuracy: 0.3433\n",
            "Epoch 3/10\n",
            "301/301 [==============================] - 62s 207ms/step - loss: -175.2220 - accuracy: 0.3468\n",
            "Epoch 4/10\n",
            "301/301 [==============================] - 62s 207ms/step - loss: -424.6622 - accuracy: 0.3468\n",
            "Epoch 5/10\n",
            "301/301 [==============================] - 62s 207ms/step - loss: -821.2997 - accuracy: 0.3486\n",
            "Epoch 6/10\n",
            "301/301 [==============================] - 62s 207ms/step - loss: -1389.6600 - accuracy: 0.3458\n",
            "Epoch 7/10\n",
            "301/301 [==============================] - 62s 207ms/step - loss: -2120.2373 - accuracy: 0.3485\n",
            "Epoch 8/10\n",
            "301/301 [==============================] - 62s 207ms/step - loss: -3051.1926 - accuracy: 0.3475\n",
            "Epoch 9/10\n",
            "301/301 [==============================] - 62s 207ms/step - loss: -4168.2231 - accuracy: 0.3489\n",
            "Epoch 10/10\n",
            "301/301 [==============================] - 62s 207ms/step - loss: -5497.4287 - accuracy: 0.3494\n",
            "76/76 [==============================] - 16s 205ms/step - loss: -6967.1084 - accuracy: 0.3329\n"
          ]
        },
        {
          "output_type": "execute_result",
          "data": {
            "text/plain": [
              "[-6967.1083984375, 0.332917183637619]"
            ]
          },
          "metadata": {},
          "execution_count": 75
        }
      ]
    },
    {
      "cell_type": "code",
      "source": [
        "model.evaluate(X_val,y_val)"
      ],
      "metadata": {
        "colab": {
          "base_uri": "https://localhost:8080/"
        },
        "id": "I3CX481rw9OV",
        "outputId": "b959becd-1721-45a5-f552-1fe7bd1ff8a3"
      },
      "execution_count": null,
      "outputs": [
        {
          "output_type": "stream",
          "name": "stdout",
          "text": [
            "76/76 [==============================] - 16s 205ms/step - loss: -6967.1084 - accuracy: 0.3329\n"
          ]
        },
        {
          "output_type": "execute_result",
          "data": {
            "text/plain": [
              "[-6967.1083984375, 0.332917183637619]"
            ]
          },
          "metadata": {},
          "execution_count": 76
        }
      ]
    }
  ],
  "metadata": {
    "accelerator": "GPU",
    "colab": {
      "collapsed_sections": [
        "1qFonKxTD8c3",
        "LjIDmkrAGXLa",
        "6uaerwwsBcFX",
        "P4XFbUHv3Jzk",
        "GTNQu5KtBihk"
      ],
      "name": "fakeNews.ipynb",
      "provenance": [],
      "machine_shape": "hm"
    },
    "kernelspec": {
      "display_name": "Python 3",
      "name": "python3"
    },
    "language_info": {
      "name": "python"
    }
  },
  "nbformat": 4,
  "nbformat_minor": 0
}