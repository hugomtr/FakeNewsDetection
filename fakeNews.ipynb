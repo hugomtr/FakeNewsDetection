{
  "cells": [
    {
      "cell_type": "markdown",
      "metadata": {
        "id": "_9gBtpxq3cFT"
      },
      "source": [
        "@file fakeNewsTvFvM.ipynb\n",
        "<br>\n",
        "@author hugomtr\n",
        "<br>\n",
        "@brief \n",
        "<br>\n",
        "@version 0.1\n",
        "<br>\n",
        "@date 2022-02-28\n",
        "<br>\n",
        "@copyright Copyright (c) 2022"
      ]
    },
    {
      "cell_type": "markdown",
      "metadata": {
        "id": "i6z-w3-M-T-5"
      },
      "source": [
        "# Starting"
      ]
    },
    {
      "cell_type": "code",
      "execution_count": 163,
      "metadata": {
        "colab": {
          "base_uri": "https://localhost:8080/"
        },
        "id": "HQHttkaTwmkn",
        "outputId": "bd00fe50-8e77-458f-b978-f9908e3e7dc9"
      },
      "outputs": [
        {
          "output_type": "stream",
          "name": "stdout",
          "text": [
            "Tue Apr 19 09:47:18 2022       \n",
            "+-----------------------------------------------------------------------------+\n",
            "| NVIDIA-SMI 460.32.03    Driver Version: 460.32.03    CUDA Version: 11.2     |\n",
            "|-------------------------------+----------------------+----------------------+\n",
            "| GPU  Name        Persistence-M| Bus-Id        Disp.A | Volatile Uncorr. ECC |\n",
            "| Fan  Temp  Perf  Pwr:Usage/Cap|         Memory-Usage | GPU-Util  Compute M. |\n",
            "|                               |                      |               MIG M. |\n",
            "|===============================+======================+======================|\n",
            "|   0  Tesla T4            Off  | 00000000:00:04.0 Off |                    0 |\n",
            "| N/A   76C    P0    43W /  70W |   4058MiB / 15109MiB |     83%      Default |\n",
            "|                               |                      |                  N/A |\n",
            "+-------------------------------+----------------------+----------------------+\n",
            "                                                                               \n",
            "+-----------------------------------------------------------------------------+\n",
            "| Processes:                                                                  |\n",
            "|  GPU   GI   CI        PID   Type   Process name                  GPU Memory |\n",
            "|        ID   ID                                                   Usage      |\n",
            "|=============================================================================|\n",
            "+-----------------------------------------------------------------------------+\n"
          ]
        }
      ],
      "source": [
        "gpu_info = !nvidia-smi\n",
        "gpu_info = '\\n'.join(gpu_info)\n",
        "if gpu_info.find('failed') >= 0:\n",
        "  print('Not connected to a GPU')\n",
        "else:\n",
        "  print(gpu_info)"
      ]
    },
    {
      "cell_type": "code",
      "execution_count": 164,
      "metadata": {
        "id": "BB6b6eaZjDJe"
      },
      "outputs": [],
      "source": [
        "import pandas as pd\n",
        "import numpy as np\n",
        "import seaborn as sns\n",
        "import matplotlib.pyplot as plt\n",
        "import sys\n",
        "\n",
        "import sklearn\n",
        "\n",
        "# import some classifier\n",
        "from sklearn.naive_bayes import MultinomialNB\n",
        "from sklearn.linear_model import LogisticRegression\n",
        "from sklearn.naive_bayes import GaussianNB\n",
        "from sklearn.tree import DecisionTreeClassifier\n",
        "from sklearn.neighbors import KNeighborsClassifier\n",
        "from sklearn.ensemble import RandomForestClassifier\n",
        "from sklearn.svm import SVC\n",
        "from sklearn.linear_model import LinearRegression\n",
        "from sklearn.linear_model import SGDClassifier\n",
        "from sklearn.linear_model import PassiveAggressiveClassifier\n",
        "\n",
        "# import modules for vectorizing and pipe\n",
        "from sklearn.feature_extraction.text import CountVectorizer,TfidfVectorizer\n",
        "from sklearn.pipeline import Pipeline\n",
        "from sklearn import preprocessing\n",
        "from sklearn.feature_extraction.text import TfidfTransformer\n",
        "from sklearn.pipeline import make_pipeline\n",
        "\n",
        "# scale data\n",
        "from sklearn.preprocessing import StandardScaler\n",
        "\n",
        "# upsampling downsampling\n",
        "from sklearn.utils import resample\n",
        "\n",
        "# modules for model selection\n",
        "from sklearn.model_selection import train_test_split \n",
        "from sklearn.model_selection import KFold\n",
        "from sklearn.model_selection import GridSearchCV\n",
        "from sklearn.model_selection import cross_val_score\n",
        "\n",
        "# modules for evaluation\n",
        "from sklearn.metrics import accuracy_score\n",
        "from sklearn.metrics import confusion_matrix\n",
        "from sklearn.metrics import classification_report\n",
        "from sklearn.metrics import precision_recall_fscore_support as score\n",
        "\n",
        "# modules for vizualisation\n",
        "import seaborn as sns\n",
        "import matplotlib.pyplot as plt\n",
        "from tabulate import tabulate\n",
        "\n",
        "# others\n",
        "import itertools\n",
        "import random\n",
        "\n",
        "from sklearn.exceptions import ConvergenceWarning"
      ]
    },
    {
      "cell_type": "code",
      "execution_count": 165,
      "metadata": {
        "colab": {
          "base_uri": "https://localhost:8080/"
        },
        "id": "1Fy07f-gjuRO",
        "outputId": "0a55d44e-0faf-4d1e-8b1a-7a88ca6c2801"
      },
      "outputs": [
        {
          "output_type": "stream",
          "name": "stdout",
          "text": [
            "Drive already mounted at /content/gdrive/; to attempt to forcibly remount, call drive.mount(\"/content/gdrive/\", force_remount=True).\n"
          ]
        }
      ],
      "source": [
        "from google.colab import drive\n",
        "drive.mount('/content/gdrive/')"
      ]
    },
    {
      "cell_type": "code",
      "execution_count": 166,
      "metadata": {
        "colab": {
          "base_uri": "https://localhost:8080/",
          "height": 941
        },
        "id": "pCNNDjdZjy5q",
        "outputId": "9364e171-c0d5-445d-a24f-9bde65a06ef4"
      },
      "outputs": [
        {
          "output_type": "stream",
          "name": "stdout",
          "text": [
            "/content/gdrive/My Drive/Colab Notebooks/FakeNews\n"
          ]
        },
        {
          "output_type": "execute_result",
          "data": {
            "text/plain": [
              "'/content/gdrive/My Drive/Colab Notebooks/FakeNews'"
            ],
            "application/vnd.google.colaboratory.intrinsic+json": {
              "type": "string"
            }
          },
          "metadata": {},
          "execution_count": 166
        }
      ],
      "source": [
        "my_local_drive='/content/gdrive/My Drive/Colab Notebooks/FakeNews'\n",
        "# Ajout du path pour les librairies, fonctions et données\n",
        "sys.path.append(my_local_drive)\n",
        "# Se positionner sur le répertoire associé\n",
        "%cd $my_local_drive\n",
        "\n",
        "%pwd"
      ]
    },
    {
      "cell_type": "markdown",
      "metadata": {
        "id": "9gjp_awkJLFr"
      },
      "source": [
        "# Loading a dataset and choose classification\n"
      ]
    },
    {
      "cell_type": "code",
      "source": [
        "df = pd.read_csv(\"claimskg.csv\",sep=\";\")\n",
        "del df['Unnamed: 0']\n",
        "df.head(2)"
      ],
      "metadata": {
        "colab": {
          "base_uri": "https://localhost:8080/",
          "height": 402
        },
        "id": "eko-km391oA3",
        "outputId": "31c3fad8-4c7d-475e-8e8e-77aa742a47b8"
      },
      "execution_count": null,
      "outputs": [
        {
          "output_type": "execute_result",
          "data": {
            "text/plain": [
              "                                                  id  \\\n",
              "0  http://data.gesis.org/claimskg/claim_review/36...   \n",
              "1  http://data.gesis.org/claimskg/claim_review/e6...   \n",
              "\n",
              "                                                text        date  truthRating  \\\n",
              "0  'There will be no public funding for abortion ...  2010-03-21            3   \n",
              "1  Central Health 'is the only hospital district ...  2011-03-15            3   \n",
              "\n",
              "  ratingName           author  \\\n",
              "0       True      Bart Stupak   \n",
              "1       True  Wayne Christian   \n",
              "\n",
              "                                            headline  \\\n",
              "0  Stupak revises abortion stance on health care ...   \n",
              "1  State Rep. Wayne Christian says Central Health...   \n",
              "\n",
              "                                named_entities_claim named_entities_article  \\\n",
              "0  Abortion rights,Barack Obama,Bart Stupak,Ben N...               abortion   \n",
              "1  Austin American-Statesman,Harris County Hospit...                    NaN   \n",
              "\n",
              "               keywords      source                  sourceURL  \\\n",
              "0  Abortion,Health Care  politifact  http://www.politifact.com   \n",
              "1              Abortion  politifact  http://www.politifact.com   \n",
              "\n",
              "                                                link language  \n",
              "0  http://www.politifact.com/truth-o-meter/statem...  English  \n",
              "1  http://www.politifact.com/texas/statements/201...  English  "
            ],
            "text/html": [
              "\n",
              "  <div id=\"df-e0412ec4-06a2-4fd2-9fd3-f0fd997affd3\">\n",
              "    <div class=\"colab-df-container\">\n",
              "      <div>\n",
              "<style scoped>\n",
              "    .dataframe tbody tr th:only-of-type {\n",
              "        vertical-align: middle;\n",
              "    }\n",
              "\n",
              "    .dataframe tbody tr th {\n",
              "        vertical-align: top;\n",
              "    }\n",
              "\n",
              "    .dataframe thead th {\n",
              "        text-align: right;\n",
              "    }\n",
              "</style>\n",
              "<table border=\"1\" class=\"dataframe\">\n",
              "  <thead>\n",
              "    <tr style=\"text-align: right;\">\n",
              "      <th></th>\n",
              "      <th>id</th>\n",
              "      <th>text</th>\n",
              "      <th>date</th>\n",
              "      <th>truthRating</th>\n",
              "      <th>ratingName</th>\n",
              "      <th>author</th>\n",
              "      <th>headline</th>\n",
              "      <th>named_entities_claim</th>\n",
              "      <th>named_entities_article</th>\n",
              "      <th>keywords</th>\n",
              "      <th>source</th>\n",
              "      <th>sourceURL</th>\n",
              "      <th>link</th>\n",
              "      <th>language</th>\n",
              "    </tr>\n",
              "  </thead>\n",
              "  <tbody>\n",
              "    <tr>\n",
              "      <th>0</th>\n",
              "      <td>http://data.gesis.org/claimskg/claim_review/36...</td>\n",
              "      <td>'There will be no public funding for abortion ...</td>\n",
              "      <td>2010-03-21</td>\n",
              "      <td>3</td>\n",
              "      <td>True</td>\n",
              "      <td>Bart Stupak</td>\n",
              "      <td>Stupak revises abortion stance on health care ...</td>\n",
              "      <td>Abortion rights,Barack Obama,Bart Stupak,Ben N...</td>\n",
              "      <td>abortion</td>\n",
              "      <td>Abortion,Health Care</td>\n",
              "      <td>politifact</td>\n",
              "      <td>http://www.politifact.com</td>\n",
              "      <td>http://www.politifact.com/truth-o-meter/statem...</td>\n",
              "      <td>English</td>\n",
              "    </tr>\n",
              "    <tr>\n",
              "      <th>1</th>\n",
              "      <td>http://data.gesis.org/claimskg/claim_review/e6...</td>\n",
              "      <td>Central Health 'is the only hospital district ...</td>\n",
              "      <td>2011-03-15</td>\n",
              "      <td>3</td>\n",
              "      <td>True</td>\n",
              "      <td>Wayne Christian</td>\n",
              "      <td>State Rep. Wayne Christian says Central Health...</td>\n",
              "      <td>Austin American-Statesman,Harris County Hospit...</td>\n",
              "      <td>NaN</td>\n",
              "      <td>Abortion</td>\n",
              "      <td>politifact</td>\n",
              "      <td>http://www.politifact.com</td>\n",
              "      <td>http://www.politifact.com/texas/statements/201...</td>\n",
              "      <td>English</td>\n",
              "    </tr>\n",
              "  </tbody>\n",
              "</table>\n",
              "</div>\n",
              "      <button class=\"colab-df-convert\" onclick=\"convertToInteractive('df-e0412ec4-06a2-4fd2-9fd3-f0fd997affd3')\"\n",
              "              title=\"Convert this dataframe to an interactive table.\"\n",
              "              style=\"display:none;\">\n",
              "        \n",
              "  <svg xmlns=\"http://www.w3.org/2000/svg\" height=\"24px\"viewBox=\"0 0 24 24\"\n",
              "       width=\"24px\">\n",
              "    <path d=\"M0 0h24v24H0V0z\" fill=\"none\"/>\n",
              "    <path d=\"M18.56 5.44l.94 2.06.94-2.06 2.06-.94-2.06-.94-.94-2.06-.94 2.06-2.06.94zm-11 1L8.5 8.5l.94-2.06 2.06-.94-2.06-.94L8.5 2.5l-.94 2.06-2.06.94zm10 10l.94 2.06.94-2.06 2.06-.94-2.06-.94-.94-2.06-.94 2.06-2.06.94z\"/><path d=\"M17.41 7.96l-1.37-1.37c-.4-.4-.92-.59-1.43-.59-.52 0-1.04.2-1.43.59L10.3 9.45l-7.72 7.72c-.78.78-.78 2.05 0 2.83L4 21.41c.39.39.9.59 1.41.59.51 0 1.02-.2 1.41-.59l7.78-7.78 2.81-2.81c.8-.78.8-2.07 0-2.86zM5.41 20L4 18.59l7.72-7.72 1.47 1.35L5.41 20z\"/>\n",
              "  </svg>\n",
              "      </button>\n",
              "      \n",
              "  <style>\n",
              "    .colab-df-container {\n",
              "      display:flex;\n",
              "      flex-wrap:wrap;\n",
              "      gap: 12px;\n",
              "    }\n",
              "\n",
              "    .colab-df-convert {\n",
              "      background-color: #E8F0FE;\n",
              "      border: none;\n",
              "      border-radius: 50%;\n",
              "      cursor: pointer;\n",
              "      display: none;\n",
              "      fill: #1967D2;\n",
              "      height: 32px;\n",
              "      padding: 0 0 0 0;\n",
              "      width: 32px;\n",
              "    }\n",
              "\n",
              "    .colab-df-convert:hover {\n",
              "      background-color: #E2EBFA;\n",
              "      box-shadow: 0px 1px 2px rgba(60, 64, 67, 0.3), 0px 1px 3px 1px rgba(60, 64, 67, 0.15);\n",
              "      fill: #174EA6;\n",
              "    }\n",
              "\n",
              "    [theme=dark] .colab-df-convert {\n",
              "      background-color: #3B4455;\n",
              "      fill: #D2E3FC;\n",
              "    }\n",
              "\n",
              "    [theme=dark] .colab-df-convert:hover {\n",
              "      background-color: #434B5C;\n",
              "      box-shadow: 0px 1px 3px 1px rgba(0, 0, 0, 0.15);\n",
              "      filter: drop-shadow(0px 1px 2px rgba(0, 0, 0, 0.3));\n",
              "      fill: #FFFFFF;\n",
              "    }\n",
              "  </style>\n",
              "\n",
              "      <script>\n",
              "        const buttonEl =\n",
              "          document.querySelector('#df-e0412ec4-06a2-4fd2-9fd3-f0fd997affd3 button.colab-df-convert');\n",
              "        buttonEl.style.display =\n",
              "          google.colab.kernel.accessAllowed ? 'block' : 'none';\n",
              "\n",
              "        async function convertToInteractive(key) {\n",
              "          const element = document.querySelector('#df-e0412ec4-06a2-4fd2-9fd3-f0fd997affd3');\n",
              "          const dataTable =\n",
              "            await google.colab.kernel.invokeFunction('convertToInteractive',\n",
              "                                                     [key], {});\n",
              "          if (!dataTable) return;\n",
              "\n",
              "          const docLinkHtml = 'Like what you see? Visit the ' +\n",
              "            '<a target=\"_blank\" href=https://colab.research.google.com/notebooks/data_table.ipynb>data table notebook</a>'\n",
              "            + ' to learn more about interactive tables.';\n",
              "          element.innerHTML = '';\n",
              "          dataTable['output_type'] = 'display_data';\n",
              "          await google.colab.output.renderOutput(dataTable, element);\n",
              "          const docLink = document.createElement('div');\n",
              "          docLink.innerHTML = docLinkHtml;\n",
              "          element.appendChild(docLink);\n",
              "        }\n",
              "      </script>\n",
              "    </div>\n",
              "  </div>\n",
              "  "
            ]
          },
          "metadata": {},
          "execution_count": 144
        }
      ]
    },
    {
      "cell_type": "code",
      "execution_count": null,
      "metadata": {
        "id": "q6_cso9XTPr5"
      },
      "outputs": [],
      "source": [
        "df = pd.read_csv(\"claimskg.csv\",sep=\";\")\n",
        "del df['Unnamed: 0']\n",
        "\n",
        "def f(x):\n",
        "  if x==1:\n",
        "    return 0\n",
        "  if x==2:\n",
        "    return 2\n",
        "  return 1\n",
        "\n",
        "def g(x):\n",
        "  if x==1 or x==0:\n",
        "    return 0\n",
        "  else: \n",
        "    return 1\n",
        "\n",
        "def gbis(x):\n",
        "  if x==\"True\" or x==\"False\":\n",
        "    return \"True_False\"\n",
        "  else: \n",
        "    return \"MIXTURE\"\n",
        "\n",
        "def choose_classification():\n",
        "  print(\"Select which classification you want:\")\n",
        "  print(\"0 : {True} vs {False}\")\n",
        "  print(\"1 : {True,False} vs {Mixture}\")\n",
        "  print(\"2 : {True} vs {False} vs {Mixture}\")\n",
        "  n = int(input(\"select a number: \"))\n",
        "  return n\n",
        "\n",
        "def resample_(n,df):\n",
        "  \n",
        "  if n == 0:\n",
        "    # {True} vs {False}\n",
        "    df = df[df.truthRating.isin([0,1])]\n",
        "    df.groupby(\"ratingName\").size().plot(kind='pie',y='ratingName',label = \"Classe\",autopct='%1.1f%%',title= \"Downsampling or Upsampling  is needed?\")\n",
        "    plt.show()\n",
        "    true_data = df[df.ratingName == \"True\"]\n",
        "    false_data = df[df.ratingName == \"False\"]\n",
        "    \n",
        "    # downsampling false data\n",
        "    false_data = false_data.sample(len(true_data))\n",
        "    df = pd.concat([true_data,false_data])\n",
        "    df.groupby(\"ratingName\").size().plot(kind='pie',y='ratingName',label = \"Classe\",autopct='%1.1f%%',title= \"After resampling\")\n",
        "    plt.show()\n",
        "  \n",
        "  if n == 1:\n",
        "    # {True,False} vs {Mixture}\n",
        "    df[\"truthRating\"] = df[\"truthRating\"].apply(g)\n",
        "    df[\"ratingName\"] = df[\"ratingName\"].apply(gbis)\n",
        "    df.groupby(\"ratingName\").size().plot(kind='pie',y='ratingName',label = \"Classe\",autopct='%1.1f%%',title= \"Downsampling or Upsampling  is needed?\")\n",
        "    plt.show()\n",
        "    true_false_data = df[df.ratingName == \"True_False\"]\n",
        "    mixture_data = df[df.ratingName == \"MIXTURE\"]\n",
        "    \n",
        "    # downsampling mixture data\n",
        "    true_false_data = true_false_data.sample(len(mixture_data))\n",
        "    df = pd.concat([true_false_data,mixture_data])\n",
        "    df.groupby(\"ratingName\").size().plot(kind='pie',y='ratingName',label = \"Classe\",autopct='%1.1f%%',title= \"After resampling\")\n",
        "    plt.show()\n",
        "\n",
        "  if n == 2:\n",
        "    # {True} vs {False} vs {Mixture}\n",
        "    df.groupby(\"ratingName\").size().plot(kind='pie',y='ratingName',label = \"Classe\",autopct='%1.1f%%',title= \"Downsampling or Upsampling  is needed?\")\n",
        "    plt.show()\n",
        "    true_data = df[df.ratingName == \"True\"]\n",
        "    false_data = df[df.ratingName == \"False\"]\n",
        "    mixture_data = df[df.ratingName == \"MIXTURE\"]\n",
        "\n",
        "    # downsampling false data\n",
        "    false_data = false_data.sample(len(true_data))\n",
        "    mixture_data = mixture_data.sample(len(true_data))\n",
        "    df = pd.concat([true_data,false_data,mixture_data])\n",
        "    df.groupby(\"ratingName\").size().plot(kind='pie',y='ratingName',label = \"Classe\",autopct='%1.1f%%',title= \"After resampling\")\n",
        "    plt.show()\n",
        "  return df"
      ]
    },
    {
      "cell_type": "code",
      "execution_count": null,
      "metadata": {
        "colab": {
          "base_uri": "https://localhost:8080/",
          "height": 615
        },
        "id": "F7JYbk--TIb2",
        "outputId": "45ba3557-c02e-42d1-c8a5-5e548b031f4b"
      },
      "outputs": [
        {
          "name": "stdout",
          "output_type": "stream",
          "text": [
            "Select which classification you want:\n",
            "0 : {True} vs {False}\n",
            "1 : {True,False} vs {Mixture}\n",
            "2 : {True} vs {False} vs {Mixture}\n",
            "select a number: 2\n"
          ]
        },
        {
          "output_type": "display_data",
          "data": {
            "text/plain": [
              "<Figure size 432x288 with 1 Axes>"
            ],
            "image/png": "[encoded data removed]"
          },
          "metadata": {}
        },
        {
          "output_type": "display_data",
          "data": {
            "text/plain": [
              "<Figure size 432x288 with 1 Axes>"
            ],
            "image/png": "[encoded data removed]"
          },
          "metadata": {}
        },
        {
          "output_type": "stream",
          "name": "stdout",
          "text": [
            "classes : ['True' 'False' 'MIXTURE'] n° rows df : 13356\n"
          ]
        }
      ],
      "source": [
        "df[\"truthRating\"] = df[\"truthRating\"].apply(f)\n",
        "\n",
        "n = choose_classification()\n",
        "\n",
        "df = resample_(n,df)\n",
        "\n",
        "classes = df.ratingName.unique()\n",
        "\n",
        "label_dict = {}\n",
        "for index, possible_label in enumerate(classes):\n",
        "    label_dict[possible_label] = index\n",
        "\n",
        "df['label'] = df.ratingName.replace(label_dict)\n",
        "df[\"text\"] = df[\"text\"] + \" \" +  df[\"author\"] + \" \" + df[\"headline\"] +  \" \" + df[\"source\"]\n",
        "df = df[[\"text\",\"label\",\"ratingName\"]]\n",
        "\n",
        "train, test = train_test_split(df, test_size=0.1, shuffle=True)\n",
        "print(\"classes :\",classes,\"n° rows df :\", len(df))"
      ]
    },
    {
      "cell_type": "code",
      "execution_count": null,
      "metadata": {
        "id": "uutwhf9JY_1I"
      },
      "outputs": [],
      "source": [
        "# Saving Data in 2 csv file\n",
        "train.to_csv(\"train.csv\",sep=';')\n",
        "test.to_csv(\"test.csv\",sep=';')"
      ]
    },
    {
      "cell_type": "markdown",
      "metadata": {
        "id": "neyVpCHhGFFq"
      },
      "source": [
        "# Ingenierie Textuelle"
      ]
    },
    {
      "cell_type": "markdown",
      "metadata": {
        "id": "oF2RXtCsIAL1"
      },
      "source": [
        "### Installation Packages & Loading Data"
      ]
    },
    {
      "cell_type": "code",
      "execution_count": null,
      "metadata": {
        "colab": {
          "base_uri": "https://localhost:8080/"
        },
        "id": "J_1yotixGPX4",
        "outputId": "3759d7ef-51be-461c-ea6a-1ec47c65e3f2"
      },
      "outputs": [
        {
          "output_type": "stream",
          "name": "stdout",
          "text": [
            "Collecting langdetect\n",
            "  Downloading langdetect-1.0.9.tar.gz (981 kB)\n",
            "\u001b[?25l\r\u001b[K     |▍                               | 10 kB 30.6 MB/s eta 0:00:01\r\u001b[K     |▊                               | 20 kB 37.1 MB/s eta 0:00:01\r\u001b[K     |█                               | 30 kB 25.3 MB/s eta 0:00:01\r\u001b[K     |█▍                              | 40 kB 15.3 MB/s eta 0:00:01\r\u001b[K     |█▊                              | 51 kB 13.0 MB/s eta 0:00:01\r\u001b[K     |██                              | 61 kB 15.1 MB/s eta 0:00:01\r\u001b[K     |██▍                             | 71 kB 15.3 MB/s eta 0:00:01\r\u001b[K     |██▊                             | 81 kB 13.4 MB/s eta 0:00:01\r\u001b[K     |███                             | 92 kB 14.7 MB/s eta 0:00:01\r\u001b[K     |███▍                            | 102 kB 16.0 MB/s eta 0:00:01\r\u001b[K     |███▊                            | 112 kB 16.0 MB/s eta 0:00:01\r\u001b[K     |████                            | 122 kB 16.0 MB/s eta 0:00:01\r\u001b[K     |████▍                           | 133 kB 16.0 MB/s eta 0:00:01\r\u001b[K     |████▊                           | 143 kB 16.0 MB/s eta 0:00:01\r\u001b[K     |█████                           | 153 kB 16.0 MB/s eta 0:00:01\r\u001b[K     |█████▍                          | 163 kB 16.0 MB/s eta 0:00:01\r\u001b[K     |█████▊                          | 174 kB 16.0 MB/s eta 0:00:01\r\u001b[K     |██████                          | 184 kB 16.0 MB/s eta 0:00:01\r\u001b[K     |██████▍                         | 194 kB 16.0 MB/s eta 0:00:01\r\u001b[K     |██████▊                         | 204 kB 16.0 MB/s eta 0:00:01\r\u001b[K     |███████                         | 215 kB 16.0 MB/s eta 0:00:01\r\u001b[K     |███████▍                        | 225 kB 16.0 MB/s eta 0:00:01\r\u001b[K     |███████▊                        | 235 kB 16.0 MB/s eta 0:00:01\r\u001b[K     |████████                        | 245 kB 16.0 MB/s eta 0:00:01\r\u001b[K     |████████▍                       | 256 kB 16.0 MB/s eta 0:00:01\r\u001b[K     |████████▊                       | 266 kB 16.0 MB/s eta 0:00:01\r\u001b[K     |█████████                       | 276 kB 16.0 MB/s eta 0:00:01\r\u001b[K     |█████████▍                      | 286 kB 16.0 MB/s eta 0:00:01\r\u001b[K     |█████████▊                      | 296 kB 16.0 MB/s eta 0:00:01\r\u001b[K     |██████████                      | 307 kB 16.0 MB/s eta 0:00:01\r\u001b[K     |██████████▍                     | 317 kB 16.0 MB/s eta 0:00:01\r\u001b[K     |██████████▊                     | 327 kB 16.0 MB/s eta 0:00:01\r\u001b[K     |███████████                     | 337 kB 16.0 MB/s eta 0:00:01\r\u001b[K     |███████████▍                    | 348 kB 16.0 MB/s eta 0:00:01\r\u001b[K     |███████████▊                    | 358 kB 16.0 MB/s eta 0:00:01\r\u001b[K     |████████████                    | 368 kB 16.0 MB/s eta 0:00:01\r\u001b[K     |████████████▍                   | 378 kB 16.0 MB/s eta 0:00:01\r\u001b[K     |████████████▊                   | 389 kB 16.0 MB/s eta 0:00:01\r\u001b[K     |█████████████                   | 399 kB 16.0 MB/s eta 0:00:01\r\u001b[K     |█████████████▍                  | 409 kB 16.0 MB/s eta 0:00:01\r\u001b[K     |█████████████▊                  | 419 kB 16.0 MB/s eta 0:00:01\r\u001b[K     |██████████████                  | 430 kB 16.0 MB/s eta 0:00:01\r\u001b[K     |██████████████▍                 | 440 kB 16.0 MB/s eta 0:00:01\r\u001b[K     |██████████████▊                 | 450 kB 16.0 MB/s eta 0:00:01\r\u001b[K     |███████████████                 | 460 kB 16.0 MB/s eta 0:00:01\r\u001b[K     |███████████████▍                | 471 kB 16.0 MB/s eta 0:00:01\r\u001b[K     |███████████████▊                | 481 kB 16.0 MB/s eta 0:00:01\r\u001b[K     |████████████████                | 491 kB 16.0 MB/s eta 0:00:01\r\u001b[K     |████████████████▍               | 501 kB 16.0 MB/s eta 0:00:01\r\u001b[K     |████████████████▊               | 512 kB 16.0 MB/s eta 0:00:01\r\u001b[K     |█████████████████               | 522 kB 16.0 MB/s eta 0:00:01\r\u001b[K     |█████████████████▍              | 532 kB 16.0 MB/s eta 0:00:01\r\u001b[K     |█████████████████▊              | 542 kB 16.0 MB/s eta 0:00:01\r\u001b[K     |██████████████████              | 552 kB 16.0 MB/s eta 0:00:01\r\u001b[K     |██████████████████▍             | 563 kB 16.0 MB/s eta 0:00:01\r\u001b[K     |██████████████████▊             | 573 kB 16.0 MB/s eta 0:00:01\r\u001b[K     |███████████████████             | 583 kB 16.0 MB/s eta 0:00:01\r\u001b[K     |███████████████████▍            | 593 kB 16.0 MB/s eta 0:00:01\r\u001b[K     |███████████████████▊            | 604 kB 16.0 MB/s eta 0:00:01\r\u001b[K     |████████████████████            | 614 kB 16.0 MB/s eta 0:00:01\r\u001b[K     |████████████████████▍           | 624 kB 16.0 MB/s eta 0:00:01\r\u001b[K     |████████████████████▊           | 634 kB 16.0 MB/s eta 0:00:01\r\u001b[K     |█████████████████████           | 645 kB 16.0 MB/s eta 0:00:01\r\u001b[K     |█████████████████████▍          | 655 kB 16.0 MB/s eta 0:00:01\r\u001b[K     |█████████████████████▊          | 665 kB 16.0 MB/s eta 0:00:01\r\u001b[K     |██████████████████████          | 675 kB 16.0 MB/s eta 0:00:01\r\u001b[K     |██████████████████████▍         | 686 kB 16.0 MB/s eta 0:00:01\r\u001b[K     |██████████████████████▊         | 696 kB 16.0 MB/s eta 0:00:01\r\u001b[K     |███████████████████████         | 706 kB 16.0 MB/s eta 0:00:01\r\u001b[K     |███████████████████████▍        | 716 kB 16.0 MB/s eta 0:00:01\r\u001b[K     |███████████████████████▊        | 727 kB 16.0 MB/s eta 0:00:01\r\u001b[K     |████████████████████████        | 737 kB 16.0 MB/s eta 0:00:01\r\u001b[K     |████████████████████████▍       | 747 kB 16.0 MB/s eta 0:00:01\r\u001b[K     |████████████████████████▊       | 757 kB 16.0 MB/s eta 0:00:01\r\u001b[K     |█████████████████████████       | 768 kB 16.0 MB/s eta 0:00:01\r\u001b[K     |█████████████████████████▍      | 778 kB 16.0 MB/s eta 0:00:01\r\u001b[K     |█████████████████████████▊      | 788 kB 16.0 MB/s eta 0:00:01\r\u001b[K     |██████████████████████████      | 798 kB 16.0 MB/s eta 0:00:01\r\u001b[K     |██████████████████████████▍     | 808 kB 16.0 MB/s eta 0:00:01\r\u001b[K     |██████████████████████████▊     | 819 kB 16.0 MB/s eta 0:00:01\r\u001b[K     |███████████████████████████     | 829 kB 16.0 MB/s eta 0:00:01\r\u001b[K     |███████████████████████████▍    | 839 kB 16.0 MB/s eta 0:00:01\r\u001b[K     |███████████████████████████▊    | 849 kB 16.0 MB/s eta 0:00:01\r\u001b[K     |████████████████████████████    | 860 kB 16.0 MB/s eta 0:00:01\r\u001b[K     |████████████████████████████▍   | 870 kB 16.0 MB/s eta 0:00:01\r\u001b[K     |████████████████████████████▊   | 880 kB 16.0 MB/s eta 0:00:01\r\u001b[K     |█████████████████████████████   | 890 kB 16.0 MB/s eta 0:00:01\r\u001b[K     |█████████████████████████████▍  | 901 kB 16.0 MB/s eta 0:00:01\r\u001b[K     |█████████████████████████████▊  | 911 kB 16.0 MB/s eta 0:00:01\r\u001b[K     |██████████████████████████████  | 921 kB 16.0 MB/s eta 0:00:01\r\u001b[K     |██████████████████████████████▍ | 931 kB 16.0 MB/s eta 0:00:01\r\u001b[K     |██████████████████████████████▊ | 942 kB 16.0 MB/s eta 0:00:01\r\u001b[K     |███████████████████████████████ | 952 kB 16.0 MB/s eta 0:00:01\r\u001b[K     |███████████████████████████████▍| 962 kB 16.0 MB/s eta 0:00:01\r\u001b[K     |███████████████████████████████▊| 972 kB 16.0 MB/s eta 0:00:01\r\u001b[K     |████████████████████████████████| 981 kB 16.0 MB/s \n",
            "\u001b[?25hRequirement already satisfied: six in /usr/local/lib/python3.7/dist-packages (from langdetect) (1.15.0)\n",
            "Building wheels for collected packages: langdetect\n",
            "  Building wheel for langdetect (setup.py) ... \u001b[?25l\u001b[?25hdone\n",
            "  Created wheel for langdetect: filename=langdetect-1.0.9-py3-none-any.whl size=993242 sha256=407bbe30078bc821d45211d824583bdf1726a99608550758fb14406729456970\n",
            "  Stored in directory: /root/.cache/pip/wheels/c5/96/8a/f90c59ed25d75e50a8c10a1b1c2d4c402e4dacfa87f3aff36a\n",
            "Successfully built langdetect\n",
            "Installing collected packages: langdetect\n",
            "Successfully installed langdetect-1.0.9\n",
            "Collecting contractions\n",
            "  Downloading contractions-0.1.68-py2.py3-none-any.whl (8.1 kB)\n",
            "Collecting textsearch>=0.0.21\n",
            "  Downloading textsearch-0.0.21-py2.py3-none-any.whl (7.5 kB)\n",
            "Collecting anyascii\n",
            "  Downloading anyascii-0.3.1-py3-none-any.whl (287 kB)\n",
            "\u001b[K     |████████████████████████████████| 287 kB 13.8 MB/s \n",
            "\u001b[?25hCollecting pyahocorasick\n",
            "  Downloading pyahocorasick-1.4.4-cp37-cp37m-manylinux_2_17_x86_64.manylinux2014_x86_64.whl (106 kB)\n",
            "\u001b[K     |████████████████████████████████| 106 kB 73.7 MB/s \n",
            "\u001b[?25hInstalling collected packages: pyahocorasick, anyascii, textsearch, contractions\n",
            "Successfully installed anyascii-0.3.1 contractions-0.1.68 pyahocorasick-1.4.4 textsearch-0.0.21\n"
          ]
        }
      ],
      "source": [
        "!pip install langdetect \n",
        "!pip install contractions"
      ]
    },
    {
      "cell_type": "code",
      "execution_count": null,
      "metadata": {
        "colab": {
          "base_uri": "https://localhost:8080/"
        },
        "id": "Dv2aDFARGICk",
        "outputId": "59d746d2-c3a9-4e8f-bfa1-bea91dc26194"
      },
      "outputs": [
        {
          "output_type": "stream",
          "name": "stdout",
          "text": [
            "[nltk_data] Downloading package punkt to /root/nltk_data...\n",
            "[nltk_data]   Unzipping tokenizers/punkt.zip.\n",
            "[nltk_data] Downloading package averaged_perceptron_tagger to\n",
            "[nltk_data]     /root/nltk_data...\n",
            "[nltk_data]   Unzipping taggers/averaged_perceptron_tagger.zip.\n",
            "[nltk_data] Downloading package tagsets to /root/nltk_data...\n",
            "[nltk_data]   Unzipping help/tagsets.zip.\n",
            "[nltk_data] Downloading package stopwords to /root/nltk_data...\n",
            "[nltk_data]   Unzipping corpora/stopwords.zip.\n",
            "[nltk_data] Downloading package wordnet to /root/nltk_data...\n",
            "[nltk_data]   Unzipping corpora/wordnet.zip.\n"
          ]
        }
      ],
      "source": [
        "# Importation des différentes librairies utiles pour le notebook\n",
        "\n",
        "#Sickit learn met régulièrement à jour des versions et \n",
        "#indique des futurs warnings. \n",
        "#ces deux lignes permettent de ne pas les afficher.\n",
        "import warnings\n",
        "warnings.filterwarnings(\"ignore\", category=FutureWarning)\n",
        "\n",
        "# librairies générales\n",
        "import pickle \n",
        "import pandas as pd\n",
        "from scipy.stats import randint\n",
        "import numpy as np\n",
        "import string\n",
        "import time\n",
        "import base64\n",
        "import re\n",
        "import sys\n",
        "\n",
        "import contractions\n",
        "\n",
        "# librairie BeautifulSoup\n",
        "from bs4 import BeautifulSoup\n",
        "\n",
        "# librairie affichage\n",
        "import matplotlib.pyplot as plt\n",
        "import seaborn as sns\n",
        "import wordcloud\n",
        "\n",
        "## detection de language\n",
        "import langdetect \n",
        "\n",
        "import nltk\n",
        "from nltk import sent_tokenize\n",
        "from nltk.tokenize import word_tokenize\n",
        "from nltk.stem import WordNetLemmatizer\n",
        "from nltk.stem import PorterStemmer\n",
        "from nltk import RegexpParser\n",
        "\n",
        "# il est possible de charger l'ensemble des librairies en une seule fois \n",
        "# décocher le commentaire de la ligne ci-dessous\n",
        "nltk.download('punkt')\n",
        "nltk.download('averaged_perceptron_tagger')\n",
        "from nltk import pos_tag\n",
        "nltk.download('tagsets')\n",
        "nltk.download(\"stopwords\")\n",
        "nltk.download('wordnet')\n",
        "\n",
        "from nltk.corpus import stopwords\n",
        "\n",
        "from sklearn.feature_extraction.text import TfidfVectorizer\n",
        "\n",
        "import spacy\n",
        "from spacy.tokens import Span\n",
        "# il faut sélectionner pour quelle langue les traitements vont être faits.\n",
        "nlp = spacy.load('en')"
      ]
    },
    {
      "cell_type": "code",
      "execution_count": null,
      "metadata": {
        "id": "w6xYEr-1jeon"
      },
      "outputs": [],
      "source": [
        "# Loading training set and testing set\n",
        "df_train = pd.read_csv(\"train.csv\",sep=\";\")\n",
        "df_test = pd.read_csv(\"test.csv\",sep=\";\")\n",
        "\n",
        "del df_train['Unnamed: 0'];del df_test['Unnamed: 0']"
      ]
    },
    {
      "cell_type": "markdown",
      "metadata": {
        "id": "1qFonKxTD8c3"
      },
      "source": [
        "### Text Preprocessing class and function\n",
        "\n",
        "\n",
        "\n"
      ]
    },
    {
      "cell_type": "code",
      "execution_count": null,
      "metadata": {
        "id": "jfjGSadiPMMQ"
      },
      "outputs": [],
      "source": [
        "# text = np.concatenate((df_train[\"text\"],df_test[\"text\"]))\n",
        "\n",
        "# def contains_digit(word):\n",
        "#   for c in word:\n",
        "#     if c.isdigit():\n",
        "#       return True\n",
        "#   return False\n",
        "\n",
        "# stopwords = np.array(nltk.corpus.stopwords.words('english'))\n",
        "\n",
        "# for i,sentence in zip(range(len(text)),text):\n",
        "#   # Removing punctuation\n",
        "#   tokenizer = nltk.RegexpTokenizer(r\"\\w+\")\n",
        "#   sentence = tokenizer.tokenize(sentence)\n",
        "\n",
        "#   sentence = \" \".join(sentence)\n",
        "#   sentence = re.sub(r'Unknown', '', str(sentence))\n",
        "\n",
        "#   sentence = word_tokenize(sentence)\n",
        "\n",
        "#   # converting each word to lowercase\n",
        "#   sentence = [word.lower() for word in sentence if not word in stopwords]\n",
        "\n",
        "#   # Removing stopwords\n",
        "#   sentence = [word for word in sentence if not word in stopwords]\n",
        "\n",
        "#   # Removing word with only one letter\n",
        "#   sentence = [word for word in sentence if len(word) != 1]\n",
        "\n",
        "#   # Removing word with digits\n",
        "#   sentence = [word for word in sentence if not contains_digit(word)]\n",
        "\n",
        "#   # stemmer words \n",
        "#   # lemmatizer = WordNetLemmatizer()\n",
        "#   ps = PorterStemmer()\n",
        "#   sentence = [ps.stem(word) for word in sentence]\n",
        "\n",
        "#   ## Removing pronouns infinitive verbs dt...\n",
        "#   # for word in nltk.pos_tag(sentence):\n",
        "#   #   word_to_keep = []\n",
        "#   #   if word[1] not in ['IN', 'PP', 'DT','PRP$','VB','MD']:\n",
        "#   #     word_to_keep.append(word[0])\n",
        "  \n",
        "#   sentence = (\" \").join(sentence)\n",
        "#   text[i] = sentence"
      ]
    },
    {
      "cell_type": "code",
      "execution_count": null,
      "metadata": {
        "id": "-7WVUWnZ5Xek"
      },
      "outputs": [],
      "source": [
        "from sklearn.base import BaseEstimator, TransformerMixin\n",
        "\n",
        "def MyCleanText(X, \n",
        "  lowercase=False, # mettre en minuscule\n",
        "  removestopwords=False, # supprimer les stopwords\n",
        "  removedigit=False, # supprimer les nombres \n",
        "  getstemmer=False, # conserver la racine des termes\n",
        "  getlemmatisation=False # lematisation des termes \n",
        "  ):\n",
        "\n",
        "  sentence=str(X)\n",
        "\n",
        "  # suppression des caractères spéciaux\n",
        "  sentence = re.sub(r'[^\\w\\s]',' ', sentence)\n",
        "  # suppression de tous les caractères uniques\n",
        "  sentence = re.sub(r'\\s+[a-zA-Z]\\s+', ' ', sentence)\n",
        "  # substitution des espaces multiples par un seul espace\n",
        "  sentence = re.sub(r'\\s+', ' ', sentence, flags=re.I)\n",
        "  # subtitution of Unknown\n",
        "  sentence = re.sub(r'Unknown', '', sentence)\n",
        "\n",
        "  # remove some space\n",
        "  sentence = sentence.strip()\n",
        "\n",
        "  # decoupage en mots\n",
        "  tokens = word_tokenize(sentence)\n",
        "  if lowercase:\n",
        "    tokens = [token.lower() for token in tokens]\n",
        "\n",
        "  # suppression ponctuation\n",
        "  table = str.maketrans('', '', string.punctuation)\n",
        "  words = [token.translate(table) for token in tokens]\n",
        "\n",
        "  # suppression des tokens non alphabetique ou numerique\n",
        "  words = [word for word in words if word.isalnum()]\n",
        "\n",
        "  # suppression des tokens numerique\n",
        "  if removedigit:\n",
        "    words = [word for word in words if not word.isdigit()]\n",
        "\n",
        "  # suppression des stopwords\n",
        "  if removestopwords:\n",
        "    stopwords = np.array(nltk.corpus.stopwords.words('english'))\n",
        "    words = [word for word in words if not word in stopwords]\n",
        "\n",
        "  # lemmatisation\n",
        "  if getlemmatisation:\n",
        "    lemmatizer=WordNetLemmatizer()\n",
        "    words = [lemmatizer.lemmatize(word)for word in words]\n",
        "\n",
        "\n",
        "  # racinisation\n",
        "  if getstemmer:\n",
        "    ps = PorterStemmer()\n",
        "    words=[ps.stem(word) for word in words]\n",
        "\n",
        "    sentence= ' '.join(words)\n",
        "\n",
        "  return sentence \n",
        "\n",
        "class TextNormalizer(BaseEstimator, TransformerMixin):\n",
        "  def __init__(self, \n",
        "    removestopwords=False, # suppression des stopwords\n",
        "    lowercase=False,# passage en minuscule\n",
        "    removedigit=False, # supprimer les nombres \n",
        "    getstemmer=False,# racinisation des termes \n",
        "    getlemmatisation=False # lemmatisation des termes \n",
        "    ):\n",
        "  \n",
        "    self.lowercase=lowercase\n",
        "    self.getstemmer=getstemmer\n",
        "    self.removestopwords=removestopwords\n",
        "    self.getlemmatisation=getlemmatisation\n",
        "    self.removedigit=removedigit\n",
        "    \n",
        "\n",
        "  def transform(self, X, **transform_params):\n",
        "    # Nettoyage du texte\n",
        "    X=X.copy() # pour conserver le fichier d'origine\n",
        "    return [MyCleanText(text,lowercase=self.lowercase,\n",
        "    getstemmer=self.getstemmer,\n",
        "    removestopwords=self.removestopwords,\n",
        "    getlemmatisation=self.getlemmatisation,\n",
        "    removedigit=self.removedigit) for text in X]\n",
        "\n",
        "  def fit(self, X, y=None, **fit_params):\n",
        "    return self\n",
        "  \n",
        "  def fit_transform(self, X, y=None, **fit_params):\n",
        "    return self.fit(X).transform(X)\n",
        "\n",
        "  def get_params(self, deep=True):\n",
        "    return {\n",
        "    'lowercase':self.lowercase,\n",
        "    'getstemmer':self.getstemmer,\n",
        "    'removestopwords':self.removestopwords,\n",
        "    'getlemmatisation':self.getlemmatisation,\n",
        "    'removedigit':self.removedigit\n",
        "    } \n",
        "  \n",
        "  def set_params (self, **parameters):\n",
        "    for parameter, value in parameters.items():\n",
        "      setattr(self,parameter,value)\n",
        "    return self \n",
        "\n"
      ]
    },
    {
      "cell_type": "code",
      "execution_count": null,
      "metadata": {
        "id": "u8Qq76KFDRaJ"
      },
      "outputs": [],
      "source": [
        "def preprocess_selection(model_name,model,X,y,lowercase=False):\n",
        "    CV_brut = Pipeline([('cleaner', TextNormalizer()), \n",
        "                        ('count_vectorizer', CountVectorizer(lowercase=False)),\n",
        "                        (model_name, model)])\n",
        "    CV_lowcase = Pipeline([('cleaner', TextNormalizer(removestopwords=False,lowercase=True,\n",
        "                                                getstemmer=False,removedigit=False)), \n",
        "                        ('count_vectorizer', CountVectorizer(lowercase=lowercase)),\n",
        "                        (model_name, model)])\n",
        "    CV_lowStop = Pipeline([('cleaner', TextNormalizer(removestopwords=True,lowercase=True,\n",
        "                                                getstemmer=False,removedigit=False)), \n",
        "                        ('count_vectorizer', CountVectorizer(lowercase=lowercase)),\n",
        "                        (model_name, model)])\n",
        "\n",
        "    CV_lowStopstem = Pipeline([('cleaner', TextNormalizer(removestopwords=True,lowercase=True,\n",
        "                                                getstemmer=True,removedigit=False)), \n",
        "                        ('count_vectorizer', CountVectorizer(lowercase=lowercase)),\n",
        "                        (model_name, model)])\n",
        "    \n",
        "    CV_lowStopna = Pipeline([('cleaner', TextNormalizer(removestopwords=True,lowercase=True,\n",
        "                                                getstemmer=True,removedigit=True)), \n",
        "                        ('count_vectorizer', CountVectorizer(lowercase=lowercase)),\n",
        "                        (model_name, model)])\n",
        "\n",
        "    TFIDF_brut = Pipeline ([('cleaner', TextNormalizer()), \n",
        "                        ('tfidf_vectorizer', TfidfVectorizer(lowercase=lowercase)),\n",
        "                        (model_name, model)])\n",
        "\n",
        "    TFIDF_lowcase = Pipeline([('cleaner', TextNormalizer(removestopwords=False,lowercase=True,\n",
        "                                                getstemmer=False,removedigit=False)), \n",
        "                        ('tfidf_vectorizer', TfidfVectorizer(lowercase=lowercase)),\n",
        "                        (model_name, model)])\n",
        "    TFIDF_lowStop = Pipeline([('cleaner', TextNormalizer(removestopwords=True,lowercase=True,\n",
        "                                                getstemmer=False,removedigit=False)), \n",
        "                        ('tfidf_vectorizer', TfidfVectorizer(lowercase=lowercase)),\n",
        "                        (model_name, model)])\n",
        "\n",
        "    TFIDF_lowStopstem = Pipeline([('cleaner', TextNormalizer(removestopwords=True,lowercase=True,\n",
        "                                                getstemmer=True,removedigit=False)), \n",
        "                        ('tfidf_vectorizer', TfidfVectorizer(lowercase=lowercase)),\n",
        "                        (model_name, model)])\n",
        "    TFIDF_lowStopna = Pipeline([('cleaner', TextNormalizer(removestopwords=True,lowercase=True,\n",
        "                                                getstemmer=True,removedigit=True)), \n",
        "                        ('tfidf_vectorizer', TfidfVectorizer(lowercase=lowercase)),\n",
        "                        (model_name, model)])\n",
        "\n",
        "    all_models = [\n",
        "        (\"CV_brut\", CV_brut),\n",
        "        (\"CV_lowcase\", CV_lowcase),\n",
        "        (\"CV_lowStop\", CV_lowStop),\n",
        "        (\"CV_lowStopstem\",CV_lowStopstem),\n",
        "        (\"CV_lowStopna\",CV_lowStopna),\n",
        "        (\"TFIDF_lowStopna\", TFIDF_lowStopna),\n",
        "        (\"TFIDF_lowcase\", TFIDF_lowcase),\n",
        "        (\"TFIDF_lowStop\", TFIDF_lowStop),\n",
        "        (\"TFIDF_lowStopstem\",TFIDF_lowStopstem),\n",
        "        (\"TFIDF_brut\", TFIDF_brut),\n",
        "    ]\n",
        "\n",
        "    print (\"Evaluation des différentes configurations : \")\n",
        "    unsorted_scores = [(name, cross_val_score(model, X, y, cv=5).mean()) for name, model in all_models]\n",
        "    scores = sorted(unsorted_scores, key=lambda x: -x[1])\n",
        "\n",
        "\n",
        "    print(tabulate(scores, floatfmt='.4f', headers=('Pipeline', 'Score')))"
      ]
    },
    {
      "cell_type": "markdown",
      "metadata": {
        "id": "je4KpcyhL7MG"
      },
      "source": [
        "### Selecting best preprocessing\n",
        "OPTIONAL!\n",
        "WARNING !!!\n",
        "<br>\n",
        "May take some minutes\n",
        "<br>\n",
        "example below ->"
      ]
    },
    {
      "cell_type": "code",
      "execution_count": null,
      "metadata": {
        "colab": {
          "base_uri": "https://localhost:8080/"
        },
        "id": "XIbKtTePL_5u",
        "outputId": "80984729-bd03-44de-f9d6-74ed70ce88a6"
      },
      "outputs": [
        {
          "output_type": "stream",
          "name": "stdout",
          "text": [
            "Evaluation des différentes configurations : \n",
            "Pipeline             Score\n",
            "-----------------  -------\n",
            "CV_brut             0.4680\n",
            "CV_lowcase          0.4680\n",
            "CV_lowStop          0.4680\n",
            "TFIDF_lowStopna     0.4520\n",
            "TFIDF_lowStopstem   0.4520\n",
            "TFIDF_lowcase       0.4440\n",
            "TFIDF_lowStop       0.4440\n",
            "TFIDF_brut          0.4440\n",
            "CV_lowStopstem      0.4420\n",
            "CV_lowStopna        0.4380\n"
          ]
        }
      ],
      "source": [
        "X = df_train[\"text\"]\n",
        "y = df_train[\"label\"] \n",
        "\n",
        "X_s = X.sample(500)\n",
        "y_s = y.loc[X_s.index]\n",
        "preprocess_selection(\"multinomial_nb\",MultinomialNB(),X_s,y_s)"
      ]
    },
    {
      "cell_type": "markdown",
      "source": [
        "# ACP Visualisation des données"
      ],
      "metadata": {
        "id": "eQZJhmMxvzWR"
      }
    },
    {
      "cell_type": "code",
      "source": [
        "X = df_train[\"text\"]\n",
        "y = df_train[\"label\"]\n",
        "text_normalizer= TextNormalizer(removestopwords=False,lowercase=True,getstemmer=False,removedigit=False) \n",
        "X=text_normalizer.fit_transform(X)\n",
        "vectorizer = TfidfVectorizer()\n",
        "X = vectorizer.fit_transform(X)"
      ],
      "metadata": {
        "id": "yp0myLlPv3vG"
      },
      "execution_count": 167,
      "outputs": []
    },
    {
      "cell_type": "code",
      "source": [
        "from sklearn.decomposition import TruncatedSVD\n",
        "svd = TruncatedSVD(n_components=2)\n",
        "X_svd = svd.fit_transform(X)\n",
        "\n",
        "print(\"variance ratio: \",svd.explained_variance_ratio_)\n",
        "\n",
        "print(\"variance ratio sum: \",svd.explained_variance_ratio_.sum())\n",
        "print(\"singular values:\" ,svd.singular_values_)\n",
        "fig,ax = plt.subplots(figsize=(15,15))\n",
        "ax.scatter(X_svd[:1000,0], X_svd[:1000,1], alpha=0.2,c=y[:1000])\n",
        "plt.show()"
      ],
      "metadata": {
        "colab": {
          "base_uri": "https://localhost:8080/",
          "height": 915
        },
        "id": "vOW7jZSvy3At",
        "outputId": "6e38e907-5ea1-4c24-828b-73b8f9d08fc6"
      },
      "execution_count": 168,
      "outputs": [
        {
          "output_type": "stream",
          "name": "stdout",
          "text": [
            "variance ratio:  [0.00265237 0.0049014 ]\n",
            "variance ratio sum:  0.007553775309227389\n",
            "singular values: [14.54002478  7.62188959]\n"
          ]
        },
        {
          "output_type": "display_data",
          "data": {
            "text/plain": [
              "<Figure size 1080x1080 with 1 Axes>"
            ],
            "image/png": "[encoded data removed]"
          },
          "metadata": {
            "needs_background": "light"
          }
        }
      ]
    },
    {
      "cell_type": "code",
      "source": [
        "from mpl_toolkits.mplot3d import Axes3D\n",
        "svd = TruncatedSVD(n_components=3)\n",
        "X_svd = svd.fit_transform(X)\n",
        "fig,ax = plt.subplots(figsize = (15,15))\n",
        "ax = fig.gca(projection='3d')\n",
        "ax.scatter(X_svd[:1000,0],X_svd[:1000,1],\n",
        "     X_svd[:1000,2],\n",
        "     zdir='z',s=40,depthshade=True,c=y[:1000])\n",
        "plt.show()"
      ],
      "metadata": {
        "colab": {
          "base_uri": "https://localhost:8080/",
          "height": 902
        },
        "id": "vA2iOOEJ0BKB",
        "outputId": "57a1dd02-4697-4541-f343-4fc8e06e83e7"
      },
      "execution_count": 169,
      "outputs": [
        {
          "output_type": "stream",
          "name": "stderr",
          "text": [
            "/usr/local/lib/python3.7/dist-packages/ipykernel_launcher.py:5: UserWarning: Requested projection is different from current axis projection, creating new axis with requested projection.\n",
            "  \"\"\"\n"
          ]
        },
        {
          "output_type": "display_data",
          "data": {
            "text/plain": [
              "<Figure size 1080x1080 with 2 Axes>"
            ],
            "image/png": "[encoded data removed]"
          },
          "metadata": {
            "needs_background": "light"
          }
        }
      ]
    },
    {
      "cell_type": "markdown",
      "metadata": {
        "id": "P5mcMyy65Kiz"
      },
      "source": [
        "# Premières approches "
      ]
    },
    {
      "cell_type": "code",
      "execution_count": null,
      "metadata": {
        "id": "niBEZbyh6UfA"
      },
      "outputs": [],
      "source": [
        "def plot_confusion_matrix(cm, classes=classes,\n",
        "                          normalize=False,\n",
        "                          title='Confusion matrix',\n",
        "                          cmap=plt.cm.Blues):\n",
        "    \"\"\"\n",
        "    See full source and example: \n",
        "    http://scikit-learn.org/stable/auto_examples/model_selection/plot_confusion_matrix.html\n",
        "    \n",
        "    This function prints and plots the confusion matrix.\n",
        "    Normalization can be applied by setting `normalize=True`.\n",
        "    \"\"\"\n",
        "    plt.imshow(cm, interpolation='nearest', cmap=cmap)\n",
        "    plt.title(title)\n",
        "    plt.colorbar()\n",
        "    tick_marks = np.arange(len(classes))\n",
        "    plt.xticks(tick_marks, classes, rotation=45)\n",
        "    plt.yticks(tick_marks, classes)\n",
        "\n",
        "    if normalize:\n",
        "        cm = cm.astype('float') / cm.sum(axis=1)[:, np.newaxis]\n",
        "        print(\"Normalized confusion matrix\")\n",
        "    else:\n",
        "        print('Confusion matrix, without normalization')\n",
        "\n",
        "    thresh = 2*cm.max() / 3.\n",
        "    for i, j in itertools.product(range(cm.shape[0]), range(cm.shape[1])):\n",
        "        plt.text(j, i, cm[i, j],\n",
        "                 horizontalalignment=\"center\",\n",
        "                 color=\"white\" if cm[i, j] > thresh else \"black\")\n",
        "\n",
        "    plt.tight_layout()\n",
        "    plt.ylabel('True label')\n",
        "    plt.xlabel('Predicted label')\n",
        "\n",
        "\n",
        "def plot_quad_error(X,y,model):\n",
        "  arr1=[];arr2=[]\n",
        "  size = np.linspace(500,int(len(X)),25).astype('int32')\n",
        "  for m in size:\n",
        "    X_s = X.sample(m)\n",
        "    y_s = y.loc[X_s.index]\n",
        "    X_train,X_val,y_train,y_val = train_test_split(X_s,y_s,train_size=0.8,random_state=0)\n",
        "    clf = model.fit(X_train, y_train)\n",
        "    y_pred_train = clf.predict(X_train)\n",
        "    y_pred_val = clf.predict(X_val)\n",
        "    squarred_error_train = (1/len(y_pred_train))*np.sum((y_pred_train - y_train)**2)\n",
        "    squared_error_CV = (1/len(y_pred_val))*np.sum((y_pred_val - y_val)**2)\n",
        "    arr1.append(squarred_error_train)\n",
        "    arr2.append(squared_error_CV)\n",
        "\n",
        "  plt.plot(size,arr1,label='train error')\n",
        "  plt.plot(size,arr2,label='cv error')\n",
        "  plt.xlabel(\"Training Size\")\n",
        "  plt.gca().set_xlim([100,len(X)])\n",
        "  plt.ylabel(\"Quadratic Error\")\n",
        "  plt.title(\"Model Evaluation\")\n",
        "  plt.legend()\n",
        "  plt.show()"
      ]
    },
    {
      "cell_type": "markdown",
      "metadata": {
        "id": "pkOMzjASJd3_"
      },
      "source": [
        "## Logistic Regression special application (only for True vs False)"
      ]
    },
    {
      "cell_type": "markdown",
      "metadata": {
        "id": "7uZgCJHcuZlj"
      },
      "source": [
        "### special preprocessing based on frequency transformation\n",
        "\n",
        "Before running the classifier we need to compute the fake frequency and non fake frequency of each word. By this I mean counting each word appareance in the fake corpus (set of all fake post) and in the non fake corpus (set of all non fake post. From approximatively 3000 features one corresponding to each word we are now only dealing with 2."
      ]
    },
    {
      "cell_type": "code",
      "execution_count": null,
      "metadata": {
        "colab": {
          "base_uri": "https://localhost:8080/"
        },
        "id": "l1WsjBzWuWiZ",
        "outputId": "be15891b-0d58-471e-844e-5ed130ffc652"
      },
      "outputs": [
        {
          "output_type": "stream",
          "name": "stdout",
          "text": [
            "texte après application des pré-traitements\n"
          ]
        }
      ],
      "source": [
        "# Last step of preprocessing = vectorizing the text\n",
        "text = np.concatenate((df_train[\"text\"],df_test[\"text\"]))\n",
        "\n",
        "text_normalizer=TextNormalizer(lowercase=True)  \n",
        "text=text_normalizer.fit_transform(text)\n",
        "print(\"texte après application des pré-traitements\")\n",
        "text = np.array(text)   \n",
        "\n",
        "dfbis_train = df_train.copy() \n",
        "dfbis_train[\"text\"] = text[:len(df_train)]\n",
        "\n",
        "vectorizer = TfidfVectorizer()\n",
        "vectors = vectorizer.fit_transform(text)\n",
        "corpus = np.array(vectorizer.get_feature_names())"
      ]
    },
    {
      "cell_type": "code",
      "execution_count": null,
      "metadata": {
        "id": "bLsF3P9jugyv"
      },
      "outputs": [],
      "source": [
        "def get_fake_no_fake_text(text):\n",
        "  idx0 = np.array(df_train[df_train[\"ratingName\"] == 0].index)\n",
        "  idx1 = np.array(df_train[df_train[\"ratingName\"] == 1].index)\n",
        "  fake_text = text[idx0]\n",
        "  non_fake_text = text[idx1]\n",
        "  return fake_text,non_fake_text\n",
        "\n",
        "\n",
        "def compute_frequency(fake_text,non_fake_text):\n",
        "  # Computes 2 different frequency use of dictionary for O(1) time acces to value of a paticular word\n",
        "  fake_text = \" \".join(fake_text)\n",
        "  fake_text = word_tokenize(fake_text)\n",
        "  non_fake_text = \" \".join(non_fake_text)\n",
        "  non_fake_text = word_tokenize(non_fake_text)\n",
        "  corpus = np.unique(np.concatenate((fake_text,non_fake_text),axis=0))\n",
        "\n",
        "  FakeFreq = {w:0 for w in corpus}\n",
        "  NonFakeFreq = {w:0 for w in corpus}\n",
        "\n",
        "  for word in fake_text:\n",
        "    FakeFreq[word] += 1\n",
        "\n",
        "  for word in non_fake_text:\n",
        "    NonFakeFreq[word] += 1\n",
        "\n",
        "  return FakeFreq,NonFakeFreq\n"
      ]
    },
    {
      "cell_type": "markdown",
      "metadata": {
        "id": "0NDkzoLDx96V"
      },
      "source": [
        "Before running the logistic regression algorithm we need to compute the frequency of each word in the 2 corpus\n",
        "<br>\n",
        "\n",
        "The training example will the have the following format with 1 for the bias term. \n",
        "$$ X^{(i)} = \\begin{pmatrix}\n",
        "1 \\\\\n",
        "X_{Fake}^{(i)} \\\\\n",
        "X_{NoFake}^{(i)} \n",
        "\\end{pmatrix} $$\n"
      ]
    },
    {
      "cell_type": "code",
      "execution_count": null,
      "metadata": {
        "id": "qFPiDlUkzo9p"
      },
      "outputs": [],
      "source": [
        "fake_text,non_fake_text= get_fake_no_fake_text(text)\n",
        "FakeFreq,NonFakeFreq = compute_frequency(fake_text,non_fake_text)"
      ]
    },
    {
      "cell_type": "code",
      "execution_count": null,
      "metadata": {
        "id": "mN4X2ogMzoDQ"
      },
      "outputs": [],
      "source": [
        "def feat_extraction_fake(row):\n",
        "  row_text = word_tokenize(row)\n",
        "  sum_fake_freq = 0\n",
        "  for word in row_text:\n",
        "    sum_fake_freq += FakeFreq[word]\n",
        "  return sum_fake_freq\n",
        "\n",
        "\n",
        "def feat_extraction_no_fake(row):\n",
        "  row_text = word_tokenize(row)\n",
        "  sum_non_fake_freq = 0\n",
        "  for word in row_text:\n",
        "    sum_non_fake_freq += NonFakeFreq[word]\n",
        "  return sum_non_fake_freq"
      ]
    },
    {
      "cell_type": "code",
      "execution_count": null,
      "metadata": {
        "id": "OQVrIheJqwfj"
      },
      "outputs": [],
      "source": [
        "dfbis_train[\"bias\"] = 1\n",
        "dfbis_train[\"fake\"] = dfbis_train[\"text\"].apply(feat_extraction_fake)\n",
        "dfbis_train[\"no fake\"] = dfbis_train[\"text\"].apply(feat_extraction_no_fake)\n",
        "\n",
        "df_X_train = dfbis_train[[\"fake\",\"no fake\"]]"
      ]
    },
    {
      "cell_type": "markdown",
      "metadata": {
        "id": "eR2NsWz-BiHe"
      },
      "source": [
        "Logistic Regression implementation:\n",
        "<br>\n",
        "In short we are the trying to minimize the following cost function with the help to the famous gradient descent algorithm.\n",
        "<br>\n",
        "$$ J(θ) = -\\dfrac{1}{m}*\\sum_{i=1}^{m}[ \\log h(x^{(i)},θ) + (1 - y^{(i)})*log(1 - h(x^{(i)},θ))] $$\n",
        "<br>\n",
        "with h the sigmoid function define as follow $$ h(x^{i},θ) = \\dfrac{1}{1 + e^{-θ^{T}*x^{(i)}}} $$\n",
        "\n",
        "<br>\n",
        "\n",
        "$m =$ number of training examples\n",
        "<br>\n",
        "\n",
        "$x(i) =$ i-th example of the training set \n",
        "<br>\n",
        "\n",
        "Thus we make sure to resolve a convex problem and by this gradient descent find a global minima."
      ]
    },
    {
      "cell_type": "markdown",
      "metadata": {
        "id": "31SEMHPhuvQx"
      },
      "source": [
        "### Training"
      ]
    },
    {
      "cell_type": "code",
      "execution_count": null,
      "metadata": {
        "colab": {
          "base_uri": "https://localhost:8080/"
        },
        "id": "yyaETv45yo6_",
        "outputId": "5417eaa3-f0cb-44af-94f5-1d9623be6b0d"
      },
      "outputs": [
        {
          "output_type": "stream",
          "name": "stdout",
          "text": [
            "accuracy 0.5932626325639426\n",
            "              precision    recall  f1-score   support\n",
            "\n",
            "     No Fake       0.60      0.64      0.62       823\n",
            "        Fake       0.59      0.55      0.57       780\n",
            "\n",
            "    accuracy                           0.59      1603\n",
            "   macro avg       0.59      0.59      0.59      1603\n",
            "weighted avg       0.59      0.59      0.59      1603\n",
            "\n"
          ]
        }
      ],
      "source": [
        "X,y = df_X_train,dfbis_train[\"ratingName\"] \n",
        "\n",
        "X_train,X_val,y_train,y_val = train_test_split(X,y,train_size=0.8,random_state=0)\n",
        "\n",
        "clf = LogisticRegression(random_state=0).fit(X_train, y_train)\n",
        "\n",
        "y_pred = clf.predict(X_val)\n",
        "\n",
        "target_names = [\"No Fake\",\"Fake\"]\n",
        "\n",
        "print('accuracy %s' % accuracy_score(y_pred, y_val))\n",
        "print(classification_report(y_val, y_pred, target_names=target_names))"
      ]
    },
    {
      "cell_type": "code",
      "execution_count": null,
      "metadata": {
        "colab": {
          "base_uri": "https://localhost:8080/",
          "height": 328
        },
        "id": "ah5UYvHR2AkM",
        "outputId": "818a2ec8-a4bd-46b0-f188-4b27b70d4b22"
      },
      "outputs": [
        {
          "output_type": "stream",
          "name": "stdout",
          "text": [
            "Confusion matrix, without normalization\n"
          ]
        },
        {
          "output_type": "display_data",
          "data": {
            "text/plain": [
              "<Figure size 432x288 with 2 Axes>"
            ],
            "image/png": "[encoded data removed]"
          },
          "metadata": {
            "needs_background": "light"
          }
        }
      ],
      "source": [
        "plot_confusion_matrix(confusion_matrix(y_val, y_pred), classes=[\"Fake\",\"No Fake\"])"
      ]
    },
    {
      "cell_type": "markdown",
      "metadata": {
        "id": "orDvOWUR2WNp"
      },
      "source": [
        "Etant donnée la simplicité de nos features seulement 2 il n'est pas nécesaire ici d'appliquer des algorithmes de classifications plus performant sachant qu'ici une simple regression répond très bien à notre problème."
      ]
    },
    {
      "cell_type": "markdown",
      "metadata": {
        "id": "jUHxo9K61Tjm"
      },
      "source": [
        "## Naives Bayes"
      ]
    },
    {
      "cell_type": "markdown",
      "metadata": {
        "id": "-Z9pNHtg8W3Z"
      },
      "source": [
        "<br>\n",
        "\n",
        "Naives Bayes Approach Inference Rules for binary classification.\n",
        "<br>\n",
        "\n",
        "$$\\prod_{i=1}^{n} \\dfrac{P \\left( wi \\middle| \\ Fake \\right)}{P \\left( wi \\middle| \\ NonFake \\right)}$$\n",
        "<br>\n",
        "This expression says that we're going to take the product across all of the words (n words) in a post of the probability for each word in the fake class divide it by the probability in the non fake class\n",
        "<br>\n",
        "\n",
        "Laplacian Smoothing technique to avoid zero probability issue with the formula above\n",
        "<br>\n",
        "\n",
        "$$P \\left( wi \\middle| \\ class \\right) = \\dfrac{freq(wi,class)+1}{Nc + Vc} \\\\ class \\in \\{ Fake , Non Fake \\} $$\n",
        "<br>\n",
        "\n",
        "$N_c = \\ $frequency of all words in class \n",
        "class\n",
        "<br>\n",
        "\n",
        "​$V =\\ $number of unique words in vocabulary\n",
        "<br>"
      ]
    },
    {
      "cell_type": "code",
      "execution_count": null,
      "metadata": {
        "id": "87tfMjlcK64L"
      },
      "outputs": [],
      "source": [
        "X = df_train[\"text\"]\n",
        "y = df_train[\"ratingName\"] \n",
        "\n",
        "text_normalizer= TextNormalizer(removestopwords=True,lowercase=True,getstemmer=True,removedigit=True) \n",
        "X=text_normalizer.fit_transform(X)"
      ]
    },
    {
      "cell_type": "code",
      "execution_count": null,
      "metadata": {
        "colab": {
          "base_uri": "https://localhost:8080/"
        },
        "id": "7MUpJblbD0Jz",
        "outputId": "b1d11726-c678-4edc-b71c-d0dafa3dcdf8"
      },
      "outputs": [
        {
          "output_type": "stream",
          "name": "stdout",
          "text": [
            "accuracy 0.6480865224625624\n",
            "              precision    recall  f1-score   support\n",
            "\n",
            "        True       0.67      0.61      0.64      1217\n",
            "       False       0.63      0.69      0.66      1187\n",
            "\n",
            "    accuracy                           0.65      2404\n",
            "   macro avg       0.65      0.65      0.65      2404\n",
            "weighted avg       0.65      0.65      0.65      2404\n",
            "\n"
          ]
        }
      ],
      "source": [
        "X_train,X_val,y_train,y_val = train_test_split(X,y,train_size=0.7,random_state=0)\n",
        "\n",
        "nb = Pipeline([('vect', TfidfVectorizer()),\n",
        "               ('tfidf', TfidfTransformer()),\n",
        "               ('clf', MultinomialNB()),\n",
        "              ])\n",
        "nb.fit(X_train, y_train)\n",
        "\n",
        "y_pred = nb.predict(X_val)\n",
        "\n",
        "print('accuracy %s' % accuracy_score(y_pred, y_val))\n",
        "print(classification_report(y_val, y_pred,target_names=classes))"
      ]
    },
    {
      "cell_type": "markdown",
      "metadata": {
        "id": "LjIDmkrAGXLa"
      },
      "source": [
        "# ML Comparaison de tous les classifieurs"
      ]
    },
    {
      "cell_type": "markdown",
      "metadata": {
        "id": "p_bqvgoUCNf9"
      },
      "source": [
        "## Cross Validation"
      ]
    },
    {
      "cell_type": "code",
      "execution_count": 170,
      "metadata": {
        "id": "c2qbEYCDCQ_U"
      },
      "outputs": [],
      "source": [
        "X = df_train[\"text\"]\n",
        "y = df_train[\"label\"]\n",
        "# found when testing different parameters in the preprocessing  \n",
        "text_normalizer= TextNormalizer(removestopwords=False,lowercase=True,getstemmer=False,removedigit=False) \n",
        "X=text_normalizer.fit_transform(X)\n",
        "\n",
        "models = []\n",
        "models.append(('LRegression', LogisticRegression()))\n",
        "models.append(('KNN', KNeighborsClassifier()))\n",
        "models.append(('MultinomialNB', MultinomialNB()))\n",
        "models.append(('DecisionTreeClassifier', DecisionTreeClassifier()))\n",
        "models.append(('SVM', SVC()))\n",
        "models.append(('SGDClassifier',SGDClassifier()))\n",
        "models.append(('RandomForest', RandomForestClassifier()))\n",
        "models.append(('PassiveAggressiveClassifier',PassiveAggressiveClassifier()))"
      ]
    },
    {
      "cell_type": "code",
      "execution_count": 171,
      "metadata": {
        "colab": {
          "base_uri": "https://localhost:8080/"
        },
        "id": "M_i7PAfLCU44",
        "outputId": "5b7059f2-5e0b-4fa5-fadb-acac23b1b231"
      },
      "outputs": [
        {
          "output_type": "stream",
          "name": "stderr",
          "text": [
            "/usr/local/lib/python3.7/dist-packages/sklearn/linear_model/_logistic.py:818: ConvergenceWarning: lbfgs failed to converge (status=1):\n",
            "STOP: TOTAL NO. of ITERATIONS REACHED LIMIT.\n",
            "\n",
            "Increase the number of iterations (max_iter) or scale the data as shown in:\n",
            "    https://scikit-learn.org/stable/modules/preprocessing.html\n",
            "Please also refer to the documentation for alternative solver options:\n",
            "    https://scikit-learn.org/stable/modules/linear_model.html#logistic-regression\n",
            "  extra_warning_msg=_LOGISTIC_SOLVER_CONVERGENCE_MSG,\n",
            "/usr/local/lib/python3.7/dist-packages/sklearn/linear_model/_logistic.py:818: ConvergenceWarning: lbfgs failed to converge (status=1):\n",
            "STOP: TOTAL NO. of ITERATIONS REACHED LIMIT.\n",
            "\n",
            "Increase the number of iterations (max_iter) or scale the data as shown in:\n",
            "    https://scikit-learn.org/stable/modules/preprocessing.html\n",
            "Please also refer to the documentation for alternative solver options:\n",
            "    https://scikit-learn.org/stable/modules/linear_model.html#logistic-regression\n",
            "  extra_warning_msg=_LOGISTIC_SOLVER_CONVERGENCE_MSG,\n",
            "/usr/local/lib/python3.7/dist-packages/sklearn/linear_model/_logistic.py:818: ConvergenceWarning: lbfgs failed to converge (status=1):\n",
            "STOP: TOTAL NO. of ITERATIONS REACHED LIMIT.\n",
            "\n",
            "Increase the number of iterations (max_iter) or scale the data as shown in:\n",
            "    https://scikit-learn.org/stable/modules/preprocessing.html\n",
            "Please also refer to the documentation for alternative solver options:\n",
            "    https://scikit-learn.org/stable/modules/linear_model.html#logistic-regression\n",
            "  extra_warning_msg=_LOGISTIC_SOLVER_CONVERGENCE_MSG,\n",
            "/usr/local/lib/python3.7/dist-packages/sklearn/linear_model/_logistic.py:818: ConvergenceWarning: lbfgs failed to converge (status=1):\n",
            "STOP: TOTAL NO. of ITERATIONS REACHED LIMIT.\n",
            "\n",
            "Increase the number of iterations (max_iter) or scale the data as shown in:\n",
            "    https://scikit-learn.org/stable/modules/preprocessing.html\n",
            "Please also refer to the documentation for alternative solver options:\n",
            "    https://scikit-learn.org/stable/modules/linear_model.html#logistic-regression\n",
            "  extra_warning_msg=_LOGISTIC_SOLVER_CONVERGENCE_MSG,\n"
          ]
        },
        {
          "output_type": "stream",
          "name": "stdout",
          "text": [
            "LRegression: 0.536855 (0.006350)\n",
            "KNN: 0.457820 (0.006782)\n",
            "MultinomialNB: 0.527953 (0.009838)\n",
            "DecisionTreeClassifier: 0.461647 (0.008046)\n",
            "SVM: 0.544925 (0.011917)\n",
            "SGDClassifier: 0.536522 (0.010389)\n",
            "RandomForest: 0.544842 (0.008715)\n",
            "PassiveAggressiveClassifier: 0.483860 (0.011129)\n"
          ]
        }
      ],
      "source": [
        "results = []\n",
        "names = []\n",
        "scoring = 'accuracy'\n",
        "for name, model in models:\n",
        "  kfold = KFold(n_splits=5, shuffle=True)\n",
        "  model = make_pipeline(TfidfVectorizer(), model)\n",
        "  cv_results = cross_val_score(model, X, y, cv=kfold, scoring=scoring)\n",
        "  results.append(cv_results)\n",
        "  names.append(name)\n",
        "  msg = \"%s: %f (%f)\" % (name, cv_results.mean(), cv_results.std())\n",
        "  print(msg)"
      ]
    },
    {
      "cell_type": "code",
      "execution_count": 172,
      "metadata": {
        "colab": {
          "base_uri": "https://localhost:8080/",
          "height": 635
        },
        "id": "MfRRViySCd1q",
        "outputId": "0aee4269-3f84-4316-acc5-1fb5ca82a429"
      },
      "outputs": [
        {
          "output_type": "display_data",
          "data": {
            "text/plain": [
              "<Figure size 576x576 with 1 Axes>"
            ],
            "image/png": "[encoded data removed]"
          },
          "metadata": {
            "needs_background": "light"
          }
        }
      ],
      "source": [
        "fig = plt.figure(figsize=(8,8))\n",
        "if len(classes)>2:\n",
        "  fig.suptitle('Comparison of models {} vs {} vs {}'.format(classes[0],classes[1],classes[2]))\n",
        "else:\n",
        "  fig.suptitle('Comparison of models {} vs {}'.format(classes[0],classes[1]))  \n",
        "ax = fig.add_subplot(111)\n",
        "ax.boxplot(results)\n",
        "ax.set_xticklabels(names,rotation = 45)\n",
        "plt.show()"
      ]
    },
    {
      "cell_type": "markdown",
      "metadata": {
        "id": "6yALCXJ1BMor"
      },
      "source": [
        "## Grid Search CV affinement des meilleurs paramètres\n",
        "\n"
      ]
    },
    {
      "cell_type": "markdown",
      "metadata": {
        "id": "srLlVE9pDdB-"
      },
      "source": [
        "### Logistic Regression"
      ]
    },
    {
      "cell_type": "code",
      "execution_count": 173,
      "metadata": {
        "colab": {
          "base_uri": "https://localhost:8080/"
        },
        "id": "OuH-2dLmk8GF",
        "outputId": "56ef6c87-f3df-4c37-bec9-99cdb76e214e"
      },
      "outputs": [
        {
          "output_type": "stream",
          "name": "stdout",
          "text": [
            "Evaluation des différentes configurations : \n",
            "Pipeline             Score\n",
            "-----------------  -------\n",
            "TFIDF_lowcase       0.4770\n",
            "TFIDF_lowStop       0.4770\n",
            "TFIDF_brut          0.4770\n",
            "TFIDF_lowStopstem   0.4730\n",
            "TFIDF_lowStopna     0.4720\n",
            "CV_brut             0.4650\n",
            "CV_lowcase          0.4650\n",
            "CV_lowStop          0.4650\n",
            "CV_lowStopna        0.4530\n",
            "CV_lowStopstem      0.4510\n"
          ]
        }
      ],
      "source": [
        "X = df_train[\"text\"]\n",
        "y = df_train[\"label\"] \n",
        "\n",
        "X_s = X.sample(1000)\n",
        "y_s = y.loc[X_s.index]\n",
        "preprocess_selection(\"logistic_regression\",LogisticRegression(),X_s,y_s)"
      ]
    },
    {
      "cell_type": "code",
      "source": [
        "X = df_train[\"text\"]\n",
        "y = df_train[\"label\"]\n",
        "\n",
        "# put text normalizer in the pipe is a bad idea because of the very long time processing\n",
        "text_normalizer = TextNormalizer(removestopwords=False,lowercase=False,getstemmer=False,removedigit=False)\n",
        "X = text_normalizer.fit_transform(X)\n",
        "\n",
        "X_train,X_val,y_train,y_val = train_test_split(X,y,train_size=0.8,random_state=0)\n",
        "\n",
        "pipe = Pipeline([('vect', TfidfVectorizer()),\n",
        "               ('clf', LogisticRegression(solver='lbfgs')),\n",
        "               ])\n",
        "\n",
        "grid = {\"clf__penalty\": ['l2' ,'none'],\n",
        "        \"clf__C\":np.logspace(-2,2,4),\n",
        "        \"clf__max_iter\":[100,1000]}\n",
        "\n",
        "gd_srLR = GridSearchCV(pipe,  \n",
        "                     param_grid=grid,\n",
        "                     scoring='accuracy',\n",
        "                     cv=5,\n",
        "                     n_jobs=-1,\n",
        "                    return_train_score=True)\n",
        "\n",
        "gd_srLR.fit(X_train, y_train)\n",
        "print('meilleur score ',\n",
        " gd_srLR.best_score_,'\\n')\n",
        "print('meilleurs paramètres',\n",
        " gd_srLR.best_params_,'\\n')\n",
        "print('meilleur estimateur',\n",
        "gd_srLR.best_estimator_,'\\n')"
      ],
      "metadata": {
        "colab": {
          "base_uri": "https://localhost:8080/"
        },
        "id": "bGKhiBxw8CAc",
        "outputId": "8ce65eaa-f69d-4a3b-ed5d-ca35a25519f7"
      },
      "execution_count": 174,
      "outputs": [
        {
          "output_type": "stream",
          "name": "stdout",
          "text": [
            "meilleur score  0.5342147739963653 \n",
            "\n",
            "meilleurs paramètres {'clf__C': 0.21544346900318834, 'clf__max_iter': 100, 'clf__penalty': 'l2'} \n",
            "\n",
            "meilleur estimateur Pipeline(steps=[('vect', TfidfVectorizer()),\n",
            "                ('clf', LogisticRegression(C=0.21544346900318834))]) \n",
            "\n"
          ]
        }
      ]
    },
    {
      "cell_type": "code",
      "execution_count": 175,
      "metadata": {
        "colab": {
          "base_uri": "https://localhost:8080/",
          "height": 572
        },
        "id": "HV2ReMyKI3VG",
        "outputId": "80282061-fd4d-45d6-8a6f-61066e781156"
      },
      "outputs": [
        {
          "output_type": "stream",
          "name": "stdout",
          "text": [
            "\n",
            " accuracy:  0.5249584026622296 \n",
            "\n",
            "\n",
            "               precision    recall  f1-score   support\n",
            "\n",
            "        True       0.52      0.35      0.42       826\n",
            "       False       0.54      0.62      0.57       788\n",
            "     MIXTURE       0.52      0.62      0.56       790\n",
            "\n",
            "    accuracy                           0.52      2404\n",
            "   macro avg       0.53      0.53      0.52      2404\n",
            "weighted avg       0.53      0.52      0.52      2404\n",
            "\n",
            "Confusion matrix, without normalization\n"
          ]
        },
        {
          "output_type": "display_data",
          "data": {
            "text/plain": [
              "<Figure size 432x288 with 2 Axes>"
            ],
            "image/png": "[encoded data removed]"
          },
          "metadata": {
            "needs_background": "light"
          }
        }
      ],
      "source": [
        "# Creation d'une instance de l'algorithme en utilisant les meilleurs paramètres\n",
        "lr = gd_srLR.best_estimator_\n",
        "\n",
        "lr.fit(X_train, y_train)\n",
        "y_pred = lr.predict(X_val)\n",
        "print('\\n accuracy: ', accuracy_score(y_pred, y_val),'\\n')\n",
        "\n",
        "print('\\n',classification_report(y_val, y_pred,target_names=classes))\n",
        "plot_confusion_matrix(confusion_matrix(y_val, y_pred))"
      ]
    },
    {
      "cell_type": "markdown",
      "metadata": {
        "id": "RNWuM1Bp5D6f"
      },
      "source": [
        "Overfitting, Underfitting ?"
      ]
    },
    {
      "cell_type": "code",
      "execution_count": 176,
      "metadata": {
        "colab": {
          "base_uri": "https://localhost:8080/",
          "height": 295
        },
        "id": "QydKI9pQ48fp",
        "outputId": "af1b5160-6fcc-4bcc-c18a-d3eb7993254f"
      },
      "outputs": [
        {
          "output_type": "display_data",
          "data": {
            "text/plain": [
              "<Figure size 432x288 with 1 Axes>"
            ],
            "image/png": "[encoded data removed]"
          },
          "metadata": {
            "needs_background": "light"
          }
        }
      ],
      "source": [
        "X = df_train[\"text\"]\n",
        "y = df_train[\"label\"]\n",
        "text_normalizer = TextNormalizer(removestopwords=True,lowercase=True,getstemmer=True,removedigit=False)\n",
        "X = text_normalizer.fit_transform(X)\n",
        "X = pd.Series(X)\n",
        "plot_quad_error(X,y,lr)"
      ]
    },
    {
      "cell_type": "markdown",
      "metadata": {
        "id": "YxyKCeTAxpyP"
      },
      "source": [
        "Evaluation sur le test set"
      ]
    },
    {
      "cell_type": "code",
      "execution_count": 177,
      "metadata": {
        "colab": {
          "base_uri": "https://localhost:8080/",
          "height": 572
        },
        "id": "dj3hQmjKxn1u",
        "outputId": "9adf3085-af43-4398-e099-56a650fc5f9d"
      },
      "outputs": [
        {
          "output_type": "stream",
          "name": "stdout",
          "text": [
            "\n",
            " accuracy:  0.5187125748502994 \n",
            "\n",
            "\n",
            "               precision    recall  f1-score   support\n",
            "\n",
            "        True       0.54      0.36      0.43       478\n",
            "       False       0.50      0.65      0.57       420\n",
            "     MIXTURE       0.52      0.57      0.55       438\n",
            "\n",
            "    accuracy                           0.52      1336\n",
            "   macro avg       0.52      0.53      0.51      1336\n",
            "weighted avg       0.52      0.52      0.51      1336\n",
            "\n",
            "Confusion matrix, without normalization\n"
          ]
        },
        {
          "output_type": "display_data",
          "data": {
            "text/plain": [
              "<Figure size 432x288 with 2 Axes>"
            ],
            "image/png": "[encoded data removed]"
          },
          "metadata": {
            "needs_background": "light"
          }
        }
      ],
      "source": [
        "X_test,y_test = df_test[\"text\"],df_test[\"label\"]\n",
        "y_pred = lr.predict(X_test)\n",
        "print('\\n accuracy: ', accuracy_score(y_pred, y_test),'\\n')\n",
        "\n",
        "print('\\n',classification_report(y_test, y_pred,target_names=classes))\n",
        "plot_confusion_matrix(confusion_matrix(y_test, y_pred))"
      ]
    },
    {
      "cell_type": "markdown",
      "source": [
        "### SVC"
      ],
      "metadata": {
        "id": "7Lf0nU7N-Vhl"
      }
    },
    {
      "cell_type": "code",
      "source": [
        "X = df_train[\"text\"]\n",
        "y = df_train[\"label\"] \n",
        "\n",
        "X_s = X.sample(1000)\n",
        "y_s = y.loc[X_s.index]\n",
        "preprocess_selection(\"SVC\",SVC(),X_s,y_s)"
      ],
      "metadata": {
        "id": "OCD3jSMc-Yup",
        "colab": {
          "base_uri": "https://localhost:8080/"
        },
        "outputId": "b9ae0b18-94cf-4234-eb0d-ade5d339bcec"
      },
      "execution_count": 200,
      "outputs": [
        {
          "output_type": "stream",
          "name": "stdout",
          "text": [
            "Evaluation des différentes configurations : \n",
            "Pipeline             Score\n",
            "-----------------  -------\n",
            "TFIDF_lowcase       0.4820\n",
            "TFIDF_lowStop       0.4820\n",
            "TFIDF_brut          0.4820\n",
            "CV_lowStopstem      0.4780\n",
            "CV_lowStopna        0.4780\n",
            "TFIDF_lowStopna     0.4680\n",
            "TFIDF_lowStopstem   0.4680\n",
            "CV_brut             0.4590\n",
            "CV_lowcase          0.4590\n",
            "CV_lowStop          0.4590\n"
          ]
        }
      ]
    },
    {
      "cell_type": "code",
      "source": [
        "X = df_train[\"text\"]\n",
        "y = df_train[\"label\"]\n",
        "# put text normalizer in the pipe is a bad idea because of the very long time processing\n",
        "text_normalizer = TextNormalizer(removestopwords=False,lowercase=True,getstemmer=False,removedigit=False)\n",
        "X = text_normalizer.fit_transform(X)\n",
        "X_train,X_val,y_train,y_val = train_test_split(X,y,train_size=0.8,random_state=0)\n",
        "\n",
        "pipe = Pipeline([('vect', TfidfVectorizer()),\n",
        "               ('clf', SVC()),\n",
        "              ])\n",
        "\n",
        "grid = {'clf__C': [100, 1000], \n",
        "        'clf__kernel': ['linear'],\n",
        "        'clf__gamma': [0.001, 0.0001,0.00001], \n",
        "        'clf__kernel': ['rbf']}\n",
        "\n",
        "gd_srSVC = GridSearchCV(pipe,  \n",
        "                     param_grid=grid,\n",
        "                     scoring='accuracy',\n",
        "                     cv=5,\n",
        "                     n_jobs=-1,\n",
        "                    return_train_score=True)\n",
        "\n",
        "gd_srSVC.fit(X_train, y_train)\n",
        "print('meilleur score ',\n",
        " gd_srSVC.best_score_,'\\n')\n",
        "print('meilleurs paramètres',\n",
        " gd_srSVC.best_params_,'\\n')\n",
        "print('meilleur estimateur',\n",
        "gd_srSVC.best_estimator_,'\\n')\n"
      ],
      "metadata": {
        "id": "3dpz2wZO-bXS",
        "colab": {
          "base_uri": "https://localhost:8080/"
        },
        "outputId": "8215707a-6f77-4df4-f235-28ea152c165a"
      },
      "execution_count": 201,
      "outputs": [
        {
          "output_type": "stream",
          "name": "stdout",
          "text": [
            "meilleur score  0.5285985493473793 \n",
            "\n",
            "meilleurs paramètres {'clf__C': 1000, 'clf__gamma': 0.0001, 'clf__kernel': 'rbf'} \n",
            "\n",
            "meilleur estimateur Pipeline(steps=[('vect', TfidfVectorizer()),\n",
            "                ('clf', SVC(C=1000, gamma=0.0001))]) \n",
            "\n"
          ]
        }
      ]
    },
    {
      "cell_type": "code",
      "source": [
        "# Creation d'une instance de l'algorithme en utilisant les meilleurs paramètres\n",
        "lr = gd_srSVC.best_estimator_\n",
        "\n",
        "lr.fit(X_train, y_train)\n",
        "y_pred = lr.predict(X_val)\n",
        "print('\\n accuracy: ', accuracy_score(y_pred, y_val),'\\n')\n",
        "\n",
        "print('\\n',classification_report(y_val, y_pred,target_names=classes))\n",
        "plot_confusion_matrix(confusion_matrix(y_val, y_pred))"
      ],
      "metadata": {
        "id": "CvLZWcIY-gNb",
        "colab": {
          "base_uri": "https://localhost:8080/",
          "height": 572
        },
        "outputId": "39fcff69-5437-48b8-b534-650d67635a26"
      },
      "execution_count": 202,
      "outputs": [
        {
          "output_type": "stream",
          "name": "stdout",
          "text": [
            "\n",
            " accuracy:  0.5141430948419301 \n",
            "\n",
            "\n",
            "               precision    recall  f1-score   support\n",
            "\n",
            "        True       0.55      0.21      0.30       826\n",
            "       False       0.52      0.65      0.58       788\n",
            "     MIXTURE       0.50      0.70      0.58       790\n",
            "\n",
            "    accuracy                           0.51      2404\n",
            "   macro avg       0.52      0.52      0.49      2404\n",
            "weighted avg       0.52      0.51      0.48      2404\n",
            "\n",
            "Confusion matrix, without normalization\n"
          ]
        },
        {
          "output_type": "display_data",
          "data": {
            "text/plain": [
              "<Figure size 432x288 with 2 Axes>"
            ],
            "image/png": "[encoded data removed]"
          },
          "metadata": {
            "needs_background": "light"
          }
        }
      ]
    },
    {
      "cell_type": "code",
      "source": [
        "X = df_train[\"text\"]\n",
        "y = df_train[\"label\"]\n",
        "text_normalizer = TextNormalizer(removestopwords=True,lowercase=True,getstemmer=True,removedigit=False)\n",
        "X = text_normalizer.fit_transform(X)\n",
        "X = pd.Series(X)\n",
        "plot_quad_error(X,y,lr)"
      ],
      "metadata": {
        "id": "izu25Agw-kUv",
        "colab": {
          "base_uri": "https://localhost:8080/",
          "height": 295
        },
        "outputId": "85337c6b-1d9d-4d9e-ab22-b4e00ad72c26"
      },
      "execution_count": 203,
      "outputs": [
        {
          "output_type": "display_data",
          "data": {
            "text/plain": [
              "<Figure size 432x288 with 1 Axes>"
            ],
            "image/png": "[encoded data removed]"
          },
          "metadata": {
            "needs_background": "light"
          }
        }
      ]
    },
    {
      "cell_type": "code",
      "source": [
        "X_test,y_test = df_test[\"text\"],df_test[\"label\"]\n",
        "y_pred = lr.predict(X_test)\n",
        "print('\\n accuracy: ', accuracy_score(y_pred, y_test),'\\n')\n",
        "\n",
        "print('\\n',classification_report(y_test, y_pred,target_names=classes))\n",
        "plot_confusion_matrix(confusion_matrix(y_test, y_pred))"
      ],
      "metadata": {
        "id": "m2lQHb9M-pd7",
        "colab": {
          "base_uri": "https://localhost:8080/",
          "height": 572
        },
        "outputId": "c1933700-e104-4868-acaa-d6855cbe4430"
      },
      "execution_count": 204,
      "outputs": [
        {
          "output_type": "stream",
          "name": "stdout",
          "text": [
            "\n",
            " accuracy:  0.5112275449101796 \n",
            "\n",
            "\n",
            "               precision    recall  f1-score   support\n",
            "\n",
            "        True       0.54      0.30      0.39       478\n",
            "       False       0.52      0.60      0.56       420\n",
            "     MIXTURE       0.49      0.65      0.56       438\n",
            "\n",
            "    accuracy                           0.51      1336\n",
            "   macro avg       0.52      0.52      0.50      1336\n",
            "weighted avg       0.52      0.51      0.50      1336\n",
            "\n",
            "Confusion matrix, without normalization\n"
          ]
        },
        {
          "output_type": "display_data",
          "data": {
            "text/plain": [
              "<Figure size 432x288 with 2 Axes>"
            ],
            "image/png": "[encoded data removed]"
          },
          "metadata": {
            "needs_background": "light"
          }
        }
      ]
    },
    {
      "cell_type": "markdown",
      "metadata": {
        "id": "P4XFbUHv3Jzk"
      },
      "source": [
        "### MultinomialNB"
      ]
    },
    {
      "cell_type": "code",
      "execution_count": 183,
      "metadata": {
        "colab": {
          "base_uri": "https://localhost:8080/"
        },
        "id": "DKDRMZyj3OAm",
        "outputId": "7ea7ffe0-aeff-447c-ef83-0d4d28ea7dc6"
      },
      "outputs": [
        {
          "output_type": "stream",
          "name": "stdout",
          "text": [
            "Evaluation des différentes configurations : \n",
            "Pipeline             Score\n",
            "-----------------  -------\n",
            "TFIDF_lowcase       0.5040\n",
            "TFIDF_lowStop       0.5040\n",
            "TFIDF_brut          0.5040\n",
            "CV_brut             0.4950\n",
            "CV_lowcase          0.4950\n",
            "CV_lowStop          0.4950\n",
            "TFIDF_lowStopstem   0.4640\n",
            "CV_lowStopstem      0.4620\n",
            "TFIDF_lowStopna     0.4610\n",
            "CV_lowStopna        0.4490\n"
          ]
        }
      ],
      "source": [
        "X = df_train[\"text\"]\n",
        "y = df_train[\"label\"] \n",
        "\n",
        "X_s = X.sample(1000)\n",
        "y_s = y.loc[X_s.index]\n",
        "preprocess_selection(\"MuntinomialNB\",MultinomialNB(),X_s,y_s)"
      ]
    },
    {
      "cell_type": "code",
      "execution_count": 184,
      "metadata": {
        "colab": {
          "base_uri": "https://localhost:8080/"
        },
        "id": "xOOZw9T1i4NG",
        "outputId": "e9b22bdd-35ae-4937-fb40-dcf0849baf22"
      },
      "outputs": [
        {
          "output_type": "stream",
          "name": "stdout",
          "text": [
            "meilleur score  0.5215267529620105 \n",
            "\n",
            "meilleurs paramètres {'clf__alpha': 1.5, 'clf__fit_prior': False} \n",
            "\n",
            "meilleur estimateur Pipeline(steps=[('vect', TfidfVectorizer()),\n",
            "                ('clf', MultinomialNB(alpha=1.5, fit_prior=False))]) \n",
            "\n"
          ]
        }
      ],
      "source": [
        "X = df_train[\"text\"]\n",
        "y = df_train[\"label\"]\n",
        "# put text normalizer in the pipe is a bad idea because of the very long time processing\n",
        "text_normalizer = TextNormalizer(removestopwords=True,lowercase=True,getstemmer=True,removedigit=False)\n",
        "X = text_normalizer.fit_transform(X)\n",
        "X_train,X_val,y_train,y_val = train_test_split(X,y,train_size=0.8,random_state=0)\n",
        "\n",
        "pipe = Pipeline([('vect', TfidfVectorizer()),\n",
        "               ('clf', MultinomialNB()),\n",
        "              ])\n",
        "\n",
        "grid = {'clf__alpha': np.linspace(0.5, 1.5, 6),\n",
        "        'clf__fit_prior': [True, False],}\n",
        "\n",
        "gd_srMNB = GridSearchCV(pipe,  \n",
        "                     param_grid=grid,\n",
        "                     scoring='accuracy',\n",
        "                     cv=5,\n",
        "                     n_jobs=-1,\n",
        "                    return_train_score=True)\n",
        "\n",
        "gd_srMNB.fit(X_train, y_train)\n",
        "print('meilleur score ',\n",
        " gd_srMNB.best_score_,'\\n')\n",
        "print('meilleurs paramètres',\n",
        " gd_srMNB.best_params_,'\\n')\n",
        "print('meilleur estimateur',\n",
        "gd_srMNB.best_estimator_,'\\n')"
      ]
    },
    {
      "cell_type": "code",
      "execution_count": 185,
      "metadata": {
        "colab": {
          "base_uri": "https://localhost:8080/",
          "height": 572
        },
        "id": "ei967gRjjKeE",
        "outputId": "dbba2eae-d376-4698-b2ba-16d0b2ab09b4"
      },
      "outputs": [
        {
          "output_type": "stream",
          "name": "stdout",
          "text": [
            "\n",
            " accuracy:  0.512063227953411 \n",
            "\n",
            "\n",
            "               precision    recall  f1-score   support\n",
            "\n",
            "        True       0.50      0.29      0.37       826\n",
            "       False       0.56      0.53      0.54       788\n",
            "     MIXTURE       0.49      0.73      0.58       790\n",
            "\n",
            "    accuracy                           0.51      2404\n",
            "   macro avg       0.51      0.52      0.50      2404\n",
            "weighted avg       0.51      0.51      0.50      2404\n",
            "\n",
            "Confusion matrix, without normalization\n"
          ]
        },
        {
          "output_type": "display_data",
          "data": {
            "text/plain": [
              "<Figure size 432x288 with 2 Axes>"
            ],
            "image/png": "[encoded data removed]"
          },
          "metadata": {
            "needs_background": "light"
          }
        }
      ],
      "source": [
        "# Creation d'une instance de l'algorithme en utilisant les meilleurs paramètres\n",
        "lr = gd_srMNB.best_estimator_\n",
        "\n",
        "lr.fit(X_train, y_train)\n",
        "y_pred = lr.predict(X_val)\n",
        "print('\\n accuracy: ', accuracy_score(y_pred, y_val),'\\n')\n",
        "\n",
        "print('\\n',classification_report(y_val, y_pred,target_names=classes))\n",
        "plot_confusion_matrix(confusion_matrix(y_val, y_pred))"
      ]
    },
    {
      "cell_type": "markdown",
      "metadata": {
        "id": "9Vt3JAJxjUGa"
      },
      "source": [
        "Overfitting underfitting ?"
      ]
    },
    {
      "cell_type": "code",
      "execution_count": 186,
      "metadata": {
        "colab": {
          "base_uri": "https://localhost:8080/",
          "height": 295
        },
        "id": "9NfML2wIjMt3",
        "outputId": "6ce858c8-7dc6-421e-f44c-6fe7ac199c5a"
      },
      "outputs": [
        {
          "output_type": "display_data",
          "data": {
            "text/plain": [
              "<Figure size 432x288 with 1 Axes>"
            ],
            "image/png": "[encoded data removed]"
          },
          "metadata": {
            "needs_background": "light"
          }
        }
      ],
      "source": [
        "X = df_train[\"text\"]\n",
        "y = df_train[\"label\"]\n",
        "text_normalizer = TextNormalizer(removestopwords=True,lowercase=True,getstemmer=True,removedigit=False)\n",
        "X = text_normalizer.fit_transform(X)\n",
        "X = pd.Series(X)\n",
        "plot_quad_error(X,y,lr)"
      ]
    },
    {
      "cell_type": "markdown",
      "metadata": {
        "id": "TZ5oopPHjQgJ"
      },
      "source": [
        "Evaluation sur le test Set"
      ]
    },
    {
      "cell_type": "code",
      "execution_count": 187,
      "metadata": {
        "colab": {
          "base_uri": "https://localhost:8080/",
          "height": 572
        },
        "id": "cvgo0VrMjPdJ",
        "outputId": "b94fac68-b5f6-4aff-b871-ce96dbbbf77d"
      },
      "outputs": [
        {
          "output_type": "stream",
          "name": "stdout",
          "text": [
            "\n",
            " accuracy:  0.4940119760479042 \n",
            "\n",
            "\n",
            "               precision    recall  f1-score   support\n",
            "\n",
            "        True       0.52      0.21      0.30       478\n",
            "       False       0.52      0.59      0.55       420\n",
            "     MIXTURE       0.47      0.72      0.57       438\n",
            "\n",
            "    accuracy                           0.49      1336\n",
            "   macro avg       0.50      0.50      0.47      1336\n",
            "weighted avg       0.50      0.49      0.47      1336\n",
            "\n",
            "Confusion matrix, without normalization\n"
          ]
        },
        {
          "output_type": "display_data",
          "data": {
            "text/plain": [
              "<Figure size 432x288 with 2 Axes>"
            ],
            "image/png": "[encoded data removed]"
          },
          "metadata": {
            "needs_background": "light"
          }
        }
      ],
      "source": [
        "X_test,y_test = df_test[\"text\"],df_test[\"label\"]\n",
        "y_pred = lr.predict(X_test)\n",
        "print('\\n accuracy: ', accuracy_score(y_pred, y_test),'\\n')\n",
        "\n",
        "print('\\n',classification_report(y_test, y_pred,target_names=classes))\n",
        "plot_confusion_matrix(confusion_matrix(y_test, y_pred))"
      ]
    },
    {
      "cell_type": "markdown",
      "metadata": {
        "id": "GTNQu5KtBihk"
      },
      "source": [
        "### RandomForest"
      ]
    },
    {
      "cell_type": "code",
      "execution_count": 188,
      "metadata": {
        "id": "PtdvsuNeBuFA"
      },
      "outputs": [],
      "source": [
        "# X = df_train[\"text\"]\n",
        "# y = df_train[\"truthRating\"]\n",
        "# text_normalizer= TextNormalizer(removestopwords=False,lowercase=True,getstemmer=False,removedigit=False) \n",
        "# X=text_normalizer.fit_transform(X)"
      ]
    },
    {
      "cell_type": "code",
      "execution_count": 189,
      "metadata": {
        "id": "v-2-yklJB9xg"
      },
      "outputs": [],
      "source": [
        "# X_train,X_val,y_train,y_val = train_test_split(X,y,train_size=0.7,random_state=0)\n",
        "\n",
        "# pipe = Pipeline([('vect', TfidfVectorizer()),\n",
        "#                ('clf', RandomForestClassifier()),\n",
        "#               ])\n",
        "# grid = { \n",
        "#     'clf__n_estimators': [100,200],\n",
        "#     'clf__max_features': ['auto', 'sqrt', 'log2'],\n",
        "#     'clf__max_depth' : [7,8],\n",
        "#     'clf__criterion' :['gini', 'entropy']\n",
        "# }\n",
        "# gd_srLR = GridSearchCV(pipe,  \n",
        "#                      param_grid=grid,\n",
        "#                      scoring='accuracy',\n",
        "#                      cv=5,\n",
        "#                      n_jobs=-1,\n",
        "#                     return_train_score=True)\n",
        "\n",
        "# gd_srLR.fit(X_train, y_train)\n",
        "# print ('meilleur score ',\n",
        "#  gd_srLR.best_score_,'\\n')\n",
        "# print ('meilleurs paramètres',\n",
        "#  gd_srLR.best_params_,'\\n')\n",
        "# print ('meilleur estimateur',\n",
        "# gd_srLR.best_estimator_,'\\n')"
      ]
    },
    {
      "cell_type": "code",
      "execution_count": 190,
      "metadata": {
        "id": "ZXwnkg0uB-pk"
      },
      "outputs": [],
      "source": [
        "# # Creation d'une instance de l'algorithme en utilisant les meilleurs paramètres\n",
        "# lr = gd_srLR.best_estimator_\n",
        "\n",
        "# lr.fit(X_train, y_train)\n",
        "# y_pred = lr.predict(X_val)\n",
        "# print('\\n accuracy: ', accuracy_score(y_pred, y_val),'\\n')\n",
        "\n",
        "# print('\\n',classification_report(y_val, y_pred,target_names=classes))\n",
        "# plot_confusion_matrix(confusion_matrix(y_val, y_pred),classes = classes)"
      ]
    },
    {
      "cell_type": "markdown",
      "metadata": {
        "id": "qEpLC2fvITPA"
      },
      "source": [
        "# Deep learning "
      ]
    },
    {
      "cell_type": "markdown",
      "metadata": {
        "id": "fIVl36Eytiq5"
      },
      "source": [
        "### LSTM"
      ]
    },
    {
      "cell_type": "code",
      "execution_count": 191,
      "metadata": {
        "id": "lVPKO0UyKRe1"
      },
      "outputs": [],
      "source": [
        "from tensorflow import keras\n",
        "from keras.preprocessing.text import Tokenizer\n",
        "from keras.models import Sequential\n",
        "from keras.layers import Embedding\n",
        "from keras.layers import SpatialDropout1D\n",
        "from keras.layers import Dense\n",
        "from keras.layers import LSTM\n",
        "from keras.callbacks import EarlyStopping"
      ]
    },
    {
      "cell_type": "code",
      "source": [
        "X = df_train[\"text\"]\n",
        "y = df_train[\"ratingName\"]\n",
        "\n",
        "text_normalizer= TextNormalizer(removestopwords=True,lowercase=True,getstemmer=True,removedigit=False) \n",
        "X=text_normalizer.fit_transform(X)\n",
        "\n",
        "# The maximum number of words to be used. (most frequent)\n",
        "MAX_NB_WORDS = 50000\n",
        "# Max number of words in each complaint.\n",
        "MAX_SEQUENCE_LENGTH = 250\n",
        "# This is fixed.\n",
        "EMBEDDING_DIM = 100\n",
        "tokenizer = Tokenizer(num_words=MAX_NB_WORDS, filters='!\"#$%&()*+,-./:;<=>?@[\\]^_`{|}~', lower=True)\n",
        "tokenizer.fit_on_texts(X)\n",
        "word_index = tokenizer.word_index\n",
        "print('Found %s unique tokens.' % len(word_index))\n",
        "\n",
        "X = tokenizer.texts_to_sequences(X)\n",
        "X = keras.preprocessing.sequence.pad_sequences(X, maxlen=MAX_SEQUENCE_LENGTH)\n",
        "print('Shape of data tensor:', X.shape)\n",
        "y = pd.get_dummies(y).values\n",
        "print('Shape of label tensor:', y.shape)\n",
        "\n",
        "X_train, X_test, y_train, y_test = train_test_split(X,y, test_size = 0.10, random_state = 42)\n",
        "print(X_train.shape,y_train.shape)\n",
        "print(X_test.shape,y_test.shape)\n"
      ],
      "metadata": {
        "colab": {
          "base_uri": "https://localhost:8080/"
        },
        "id": "MB4ZZSWo7T_o",
        "outputId": "7cbafe18-df24-42e6-e3e7-499dcea901ae"
      },
      "execution_count": 192,
      "outputs": [
        {
          "output_type": "stream",
          "name": "stdout",
          "text": [
            "Found 13813 unique tokens.\n",
            "Shape of data tensor: (12020, 250)\n",
            "Shape of label tensor: (12020, 3)\n",
            "(10818, 250) (10818, 3)\n",
            "(1202, 250) (1202, 3)\n"
          ]
        }
      ]
    },
    {
      "cell_type": "code",
      "execution_count": 193,
      "metadata": {
        "colab": {
          "base_uri": "https://localhost:8080/"
        },
        "id": "iruf-B7GN_oq",
        "outputId": "077aba4d-f9fb-4d43-f1b3-780d2467170c"
      },
      "outputs": [
        {
          "output_type": "stream",
          "name": "stdout",
          "text": [
            "WARNING:tensorflow:Layer lstm will not use cuDNN kernels since it doesn't meet the criteria. It will use a generic GPU kernel as fallback when running on GPU.\n",
            "Model: \"sequential\"\n",
            "_________________________________________________________________\n",
            " Layer (type)                Output Shape              Param #   \n",
            "=================================================================\n",
            " embedding (Embedding)       (None, 250, 100)          5000000   \n",
            "                                                                 \n",
            " spatial_dropout1d (SpatialD  (None, 250, 100)         0         \n",
            " ropout1D)                                                       \n",
            "                                                                 \n",
            " lstm (LSTM)                 (None, 100)               80400     \n",
            "                                                                 \n",
            " dense (Dense)               (None, 3)                 303       \n",
            "                                                                 \n",
            "=================================================================\n",
            "Total params: 5,080,703\n",
            "Trainable params: 5,080,703\n",
            "Non-trainable params: 0\n",
            "_________________________________________________________________\n",
            "None\n",
            "Epoch 1/5\n",
            "153/153 [==============================] - 127s 797ms/step - loss: 1.0264 - accuracy: 0.4674 - val_loss: 0.9765 - val_accuracy: 0.5148\n",
            "Epoch 2/5\n",
            "153/153 [==============================] - 121s 792ms/step - loss: 0.8458 - accuracy: 0.6123 - val_loss: 0.9513 - val_accuracy: 0.5342\n",
            "Epoch 3/5\n",
            "153/153 [==============================] - 122s 800ms/step - loss: 0.6085 - accuracy: 0.7511 - val_loss: 1.0833 - val_accuracy: 0.5203\n",
            "Epoch 4/5\n",
            "153/153 [==============================] - 122s 794ms/step - loss: 0.4357 - accuracy: 0.8315 - val_loss: 1.2498 - val_accuracy: 0.5111\n",
            "Epoch 5/5\n",
            "153/153 [==============================] - 121s 794ms/step - loss: 0.3221 - accuracy: 0.8787 - val_loss: 1.4464 - val_accuracy: 0.4982\n"
          ]
        }
      ],
      "source": [
        "model = Sequential()\n",
        "model.add(Embedding(MAX_NB_WORDS, EMBEDDING_DIM, input_length=X.shape[1]))\n",
        "model.add(SpatialDropout1D(0.2))\n",
        "model.add(LSTM(100, dropout=0.3, recurrent_dropout=0.3))\n",
        "model.add(Dense(y.shape[1], activation='softmax'))\n",
        "model.compile(loss='categorical_crossentropy', optimizer='adam', metrics=['accuracy'])\n",
        "print(model.summary())\n",
        "epochs = 5\n",
        "batch_size = 64\n",
        "\n",
        "history = model.fit(X_train, y_train, epochs=epochs, batch_size=batch_size,validation_split=0.1)"
      ]
    },
    {
      "cell_type": "code",
      "source": [
        "plt.title('Loss')\n",
        "plt.plot(history.history['loss'], label='train')\n",
        "plt.plot(history.history['val_loss'], label='validation')\n",
        "plt.legend()\n",
        "plt.show()"
      ],
      "metadata": {
        "colab": {
          "base_uri": "https://localhost:8080/",
          "height": 281
        },
        "id": "6KW1aVDH9prD",
        "outputId": "37404af2-c5ea-497a-d6bb-c4bad1fa7ab6"
      },
      "execution_count": 197,
      "outputs": [
        {
          "output_type": "display_data",
          "data": {
            "text/plain": [
              "<Figure size 432x288 with 1 Axes>"
            ],
            "image/png": "[encoded data removed]"
          },
          "metadata": {
            "needs_background": "light"
          }
        }
      ]
    },
    {
      "cell_type": "code",
      "source": [
        "plt.title('Accuracy for LSTM')\n",
        "plt.plot(history.history['accuracy'], label='train')\n",
        "plt.plot(history.history['val_accuracy'], label='validation')\n",
        "plt.legend()\n",
        "plt.show()"
      ],
      "metadata": {
        "colab": {
          "base_uri": "https://localhost:8080/",
          "height": 281
        },
        "id": "8KxxpeEG9qZm",
        "outputId": "1bb67ad7-b26d-441b-c6bc-ff349aabf969"
      },
      "execution_count": 199,
      "outputs": [
        {
          "output_type": "display_data",
          "data": {
            "text/plain": [
              "<Figure size 432x288 with 1 Axes>"
            ],
            "image/png": "[encoded data removed]"
          },
          "metadata": {
            "needs_background": "light"
          }
        }
      ]
    },
    {
      "cell_type": "markdown",
      "metadata": {
        "id": "l4p6VgqzPD0L"
      },
      "source": [
        "### Fine tuning BERT"
      ]
    },
    {
      "cell_type": "code",
      "execution_count": null,
      "metadata": {
        "colab": {
          "base_uri": "https://localhost:8080/"
        },
        "id": "65qWrqJygjuX",
        "outputId": "ccf9940f-a1bb-446e-ff70-d7e7601258b7"
      },
      "outputs": [
        {
          "output_type": "stream",
          "name": "stdout",
          "text": [
            "Collecting transformers\n",
            "  Downloading transformers-4.18.0-py3-none-any.whl (4.0 MB)\n",
            "\u001b[K     |████████████████████████████████| 4.0 MB 14.1 MB/s \n",
            "\u001b[?25hRequirement already satisfied: packaging>=20.0 in /usr/local/lib/python3.7/dist-packages (from transformers) (21.3)\n",
            "Collecting tokenizers!=0.11.3,<0.13,>=0.11.1\n",
            "  Downloading tokenizers-0.12.1-cp37-cp37m-manylinux_2_12_x86_64.manylinux2010_x86_64.whl (6.6 MB)\n",
            "\u001b[K     |████████████████████████████████| 6.6 MB 79.5 MB/s \n",
            "\u001b[?25hCollecting pyyaml>=5.1\n",
            "  Downloading PyYAML-6.0-cp37-cp37m-manylinux_2_5_x86_64.manylinux1_x86_64.manylinux_2_12_x86_64.manylinux2010_x86_64.whl (596 kB)\n",
            "\u001b[K     |████████████████████████████████| 596 kB 76.8 MB/s \n",
            "\u001b[?25hRequirement already satisfied: numpy>=1.17 in /usr/local/lib/python3.7/dist-packages (from transformers) (1.21.5)\n",
            "Requirement already satisfied: regex!=2019.12.17 in /usr/local/lib/python3.7/dist-packages (from transformers) (2019.12.20)\n",
            "Requirement already satisfied: tqdm>=4.27 in /usr/local/lib/python3.7/dist-packages (from transformers) (4.64.0)\n",
            "Collecting huggingface-hub<1.0,>=0.1.0\n",
            "  Downloading huggingface_hub-0.5.1-py3-none-any.whl (77 kB)\n",
            "\u001b[K     |████████████████████████████████| 77 kB 8.5 MB/s \n",
            "\u001b[?25hRequirement already satisfied: filelock in /usr/local/lib/python3.7/dist-packages (from transformers) (3.6.0)\n",
            "Collecting sacremoses\n",
            "  Downloading sacremoses-0.0.49-py3-none-any.whl (895 kB)\n",
            "\u001b[K     |████████████████████████████████| 895 kB 79.8 MB/s \n",
            "\u001b[?25hRequirement already satisfied: requests in /usr/local/lib/python3.7/dist-packages (from transformers) (2.23.0)\n",
            "Requirement already satisfied: importlib-metadata in /usr/local/lib/python3.7/dist-packages (from transformers) (4.11.3)\n",
            "Requirement already satisfied: typing-extensions>=3.7.4.3 in /usr/local/lib/python3.7/dist-packages (from huggingface-hub<1.0,>=0.1.0->transformers) (4.1.1)\n",
            "Requirement already satisfied: pyparsing!=3.0.5,>=2.0.2 in /usr/local/lib/python3.7/dist-packages (from packaging>=20.0->transformers) (3.0.8)\n",
            "Requirement already satisfied: zipp>=0.5 in /usr/local/lib/python3.7/dist-packages (from importlib-metadata->transformers) (3.8.0)\n",
            "Requirement already satisfied: urllib3!=1.25.0,!=1.25.1,<1.26,>=1.21.1 in /usr/local/lib/python3.7/dist-packages (from requests->transformers) (1.24.3)\n",
            "Requirement already satisfied: idna<3,>=2.5 in /usr/local/lib/python3.7/dist-packages (from requests->transformers) (2.10)\n",
            "Requirement already satisfied: certifi>=2017.4.17 in /usr/local/lib/python3.7/dist-packages (from requests->transformers) (2021.10.8)\n",
            "Requirement already satisfied: chardet<4,>=3.0.2 in /usr/local/lib/python3.7/dist-packages (from requests->transformers) (3.0.4)\n",
            "Requirement already satisfied: joblib in /usr/local/lib/python3.7/dist-packages (from sacremoses->transformers) (1.1.0)\n",
            "Requirement already satisfied: six in /usr/local/lib/python3.7/dist-packages (from sacremoses->transformers) (1.15.0)\n",
            "Requirement already satisfied: click in /usr/local/lib/python3.7/dist-packages (from sacremoses->transformers) (7.1.2)\n",
            "Installing collected packages: pyyaml, tokenizers, sacremoses, huggingface-hub, transformers\n",
            "  Attempting uninstall: pyyaml\n",
            "    Found existing installation: PyYAML 3.13\n",
            "    Uninstalling PyYAML-3.13:\n",
            "      Successfully uninstalled PyYAML-3.13\n",
            "Successfully installed huggingface-hub-0.5.1 pyyaml-6.0 sacremoses-0.0.49 tokenizers-0.12.1 transformers-4.18.0\n"
          ]
        }
      ],
      "source": [
        "import torch\n",
        "from tqdm.notebook import tqdm\n",
        "!pip install transformers\n",
        "from transformers import BertTokenizer\n",
        "from torch.utils.data import TensorDataset\n",
        "from transformers import BertForSequenceClassification"
      ]
    },
    {
      "cell_type": "code",
      "execution_count": null,
      "metadata": {
        "colab": {
          "base_uri": "https://localhost:8080/",
          "height": 269
        },
        "id": "rI__hcqqFo4X",
        "outputId": "785186b5-0a6b-4c58-bdaf-770315606fe0"
      },
      "outputs": [
        {
          "output_type": "execute_result",
          "data": {
            "text/plain": [
              "                            text\n",
              "ratingName label data_type      \n",
              "False      1     train      3427\n",
              "                 val         605\n",
              "MIXTURE    2     train      3412\n",
              "                 val         602\n",
              "True       0     train      3378\n",
              "                 val         596"
            ],
            "text/html": [
              "\n",
              "  <div id=\"df-f22b5353-6720-4c24-b718-bdf40abd4639\">\n",
              "    <div class=\"colab-df-container\">\n",
              "      <div>\n",
              "<style scoped>\n",
              "    .dataframe tbody tr th:only-of-type {\n",
              "        vertical-align: middle;\n",
              "    }\n",
              "\n",
              "    .dataframe tbody tr th {\n",
              "        vertical-align: top;\n",
              "    }\n",
              "\n",
              "    .dataframe thead th {\n",
              "        text-align: right;\n",
              "    }\n",
              "</style>\n",
              "<table border=\"1\" class=\"dataframe\">\n",
              "  <thead>\n",
              "    <tr style=\"text-align: right;\">\n",
              "      <th></th>\n",
              "      <th></th>\n",
              "      <th></th>\n",
              "      <th>text</th>\n",
              "    </tr>\n",
              "    <tr>\n",
              "      <th>ratingName</th>\n",
              "      <th>label</th>\n",
              "      <th>data_type</th>\n",
              "      <th></th>\n",
              "    </tr>\n",
              "  </thead>\n",
              "  <tbody>\n",
              "    <tr>\n",
              "      <th rowspan=\"2\" valign=\"top\">False</th>\n",
              "      <th rowspan=\"2\" valign=\"top\">1</th>\n",
              "      <th>train</th>\n",
              "      <td>3427</td>\n",
              "    </tr>\n",
              "    <tr>\n",
              "      <th>val</th>\n",
              "      <td>605</td>\n",
              "    </tr>\n",
              "    <tr>\n",
              "      <th rowspan=\"2\" valign=\"top\">MIXTURE</th>\n",
              "      <th rowspan=\"2\" valign=\"top\">2</th>\n",
              "      <th>train</th>\n",
              "      <td>3412</td>\n",
              "    </tr>\n",
              "    <tr>\n",
              "      <th>val</th>\n",
              "      <td>602</td>\n",
              "    </tr>\n",
              "    <tr>\n",
              "      <th rowspan=\"2\" valign=\"top\">True</th>\n",
              "      <th rowspan=\"2\" valign=\"top\">0</th>\n",
              "      <th>train</th>\n",
              "      <td>3378</td>\n",
              "    </tr>\n",
              "    <tr>\n",
              "      <th>val</th>\n",
              "      <td>596</td>\n",
              "    </tr>\n",
              "  </tbody>\n",
              "</table>\n",
              "</div>\n",
              "      <button class=\"colab-df-convert\" onclick=\"convertToInteractive('df-f22b5353-6720-4c24-b718-bdf40abd4639')\"\n",
              "              title=\"Convert this dataframe to an interactive table.\"\n",
              "              style=\"display:none;\">\n",
              "        \n",
              "  <svg xmlns=\"http://www.w3.org/2000/svg\" height=\"24px\"viewBox=\"0 0 24 24\"\n",
              "       width=\"24px\">\n",
              "    <path d=\"M0 0h24v24H0V0z\" fill=\"none\"/>\n",
              "    <path d=\"M18.56 5.44l.94 2.06.94-2.06 2.06-.94-2.06-.94-.94-2.06-.94 2.06-2.06.94zm-11 1L8.5 8.5l.94-2.06 2.06-.94-2.06-.94L8.5 2.5l-.94 2.06-2.06.94zm10 10l.94 2.06.94-2.06 2.06-.94-2.06-.94-.94-2.06-.94 2.06-2.06.94z\"/><path d=\"M17.41 7.96l-1.37-1.37c-.4-.4-.92-.59-1.43-.59-.52 0-1.04.2-1.43.59L10.3 9.45l-7.72 7.72c-.78.78-.78 2.05 0 2.83L4 21.41c.39.39.9.59 1.41.59.51 0 1.02-.2 1.41-.59l7.78-7.78 2.81-2.81c.8-.78.8-2.07 0-2.86zM5.41 20L4 18.59l7.72-7.72 1.47 1.35L5.41 20z\"/>\n",
              "  </svg>\n",
              "      </button>\n",
              "      \n",
              "  <style>\n",
              "    .colab-df-container {\n",
              "      display:flex;\n",
              "      flex-wrap:wrap;\n",
              "      gap: 12px;\n",
              "    }\n",
              "\n",
              "    .colab-df-convert {\n",
              "      background-color: #E8F0FE;\n",
              "      border: none;\n",
              "      border-radius: 50%;\n",
              "      cursor: pointer;\n",
              "      display: none;\n",
              "      fill: #1967D2;\n",
              "      height: 32px;\n",
              "      padding: 0 0 0 0;\n",
              "      width: 32px;\n",
              "    }\n",
              "\n",
              "    .colab-df-convert:hover {\n",
              "      background-color: #E2EBFA;\n",
              "      box-shadow: 0px 1px 2px rgba(60, 64, 67, 0.3), 0px 1px 3px 1px rgba(60, 64, 67, 0.15);\n",
              "      fill: #174EA6;\n",
              "    }\n",
              "\n",
              "    [theme=dark] .colab-df-convert {\n",
              "      background-color: #3B4455;\n",
              "      fill: #D2E3FC;\n",
              "    }\n",
              "\n",
              "    [theme=dark] .colab-df-convert:hover {\n",
              "      background-color: #434B5C;\n",
              "      box-shadow: 0px 1px 3px 1px rgba(0, 0, 0, 0.15);\n",
              "      filter: drop-shadow(0px 1px 2px rgba(0, 0, 0, 0.3));\n",
              "      fill: #FFFFFF;\n",
              "    }\n",
              "  </style>\n",
              "\n",
              "      <script>\n",
              "        const buttonEl =\n",
              "          document.querySelector('#df-f22b5353-6720-4c24-b718-bdf40abd4639 button.colab-df-convert');\n",
              "        buttonEl.style.display =\n",
              "          google.colab.kernel.accessAllowed ? 'block' : 'none';\n",
              "\n",
              "        async function convertToInteractive(key) {\n",
              "          const element = document.querySelector('#df-f22b5353-6720-4c24-b718-bdf40abd4639');\n",
              "          const dataTable =\n",
              "            await google.colab.kernel.invokeFunction('convertToInteractive',\n",
              "                                                     [key], {});\n",
              "          if (!dataTable) return;\n",
              "\n",
              "          const docLinkHtml = 'Like what you see? Visit the ' +\n",
              "            '<a target=\"_blank\" href=https://colab.research.google.com/notebooks/data_table.ipynb>data table notebook</a>'\n",
              "            + ' to learn more about interactive tables.';\n",
              "          element.innerHTML = '';\n",
              "          dataTable['output_type'] = 'display_data';\n",
              "          await google.colab.output.renderOutput(dataTable, element);\n",
              "          const docLink = document.createElement('div');\n",
              "          docLink.innerHTML = docLinkHtml;\n",
              "          element.appendChild(docLink);\n",
              "        }\n",
              "      </script>\n",
              "    </div>\n",
              "  </div>\n",
              "  "
            ]
          },
          "metadata": {},
          "execution_count": 154
        }
      ],
      "source": [
        "from sklearn.model_selection import train_test_split\n",
        "\n",
        "X_train, X_val, y_train, y_val = train_test_split(df_train.index.values, df_train.label.values, test_size=0.15, random_state=0, stratify=df_train.label.values)\n",
        "\n",
        "df_train.loc[X_train, 'data_type'] = 'train'\n",
        "df_train.loc[X_val, 'data_type'] = 'val'\n",
        "\n",
        "df_train.groupby(['ratingName', 'label', 'data_type']).count()"
      ]
    },
    {
      "cell_type": "code",
      "execution_count": null,
      "metadata": {
        "colab": {
          "base_uri": "https://localhost:8080/",
          "height": 150,
          "referenced_widgets": [
            "56d0174f3f9642abb12425a959ca404f",
            "5867df89eff6433e87aa3331f9f0d06f",
            "a1d2df39228c45068afbf106bc45bc03",
            "aa31626a12a34473bfb52f508cbf91df",
            "18eb8150679c47749915275ae4bd252a",
            "b7d8b9789a5e4609824036955f3d161e",
            "8447c3e1a39b4629b443191c7e92786b",
            "86134613bd39405fb273011b872bc1c6",
            "0ea2b0229f954856b6570f4bd11b1ffc",
            "c954ea366c1c43f4aca8653ed76a08a0",
            "513488f339ec479fb410acb6dfb1dafe",
            "fdf8798e1cbb4e319185597b42aac2bf",
            "428bc77a964c40ebb3c93a9859fef538",
            "fba9fd7b8966450b944df1b704fe8536",
            "4a15b0fcd8c24e1c8c1f65f042e69802",
            "e15b820264134cf89907f41bf6023a2d",
            "9b7e1ebce83c4181904bcaeff1143333",
            "d5fab724ccdd402aa89e63d92c595749",
            "f1045fca5477443ca08d7e30936f7ff9",
            "a8b94f8bb55946959728820f8bc1e256",
            "d47ca26d6baf4e6a85090e1a01eb37ae",
            "39da358df09445ff9db0c10960a8ebc7",
            "e8d96cbeab744a42816cf0efc22dbbec",
            "7c3506640f404614ae85ee21131b8c1c",
            "1f5a4fdad41c47959f2c30cb5eaa5487",
            "ca4319ac25a0487ab202e4ac9d3f6602",
            "3c11d2c1c37a4d25b4ad000f52b5ac10",
            "d063b6523f264da49736f20533c8c281",
            "b9374da6a2404f428d01405d8b1c7ff8",
            "fca02c20dfb142d586bafbe4de128511",
            "46c27656976646b2b708ec4ca3c92373",
            "73b578e2758f44d6b007d8212474a7f7",
            "519c755d6bcc4d228d8ac7ac96219b56"
          ]
        },
        "id": "tIO8RGPwf5OV",
        "outputId": "475947a9-fa40-41d3-93a2-b9ee86e82370"
      },
      "outputs": [
        {
          "output_type": "display_data",
          "data": {
            "text/plain": [
              "Downloading:   0%|          | 0.00/226k [00:00<?, ?B/s]"
            ],
            "application/vnd.jupyter.widget-view+json": {
              "version_major": 2,
              "version_minor": 0,
              "model_id": "56d0174f3f9642abb12425a959ca404f"
            }
          },
          "metadata": {}
        },
        {
          "output_type": "display_data",
          "data": {
            "text/plain": [
              "Downloading:   0%|          | 0.00/28.0 [00:00<?, ?B/s]"
            ],
            "application/vnd.jupyter.widget-view+json": {
              "version_major": 2,
              "version_minor": 0,
              "model_id": "fdf8798e1cbb4e319185597b42aac2bf"
            }
          },
          "metadata": {}
        },
        {
          "output_type": "display_data",
          "data": {
            "text/plain": [
              "Downloading:   0%|          | 0.00/570 [00:00<?, ?B/s]"
            ],
            "application/vnd.jupyter.widget-view+json": {
              "version_major": 2,
              "version_minor": 0,
              "model_id": "e8d96cbeab744a42816cf0efc22dbbec"
            }
          },
          "metadata": {}
        },
        {
          "output_type": "stream",
          "name": "stderr",
          "text": [
            "Truncation was not explicitly activated but `max_length` is provided a specific value, please use `truncation=True` to explicitly truncate examples to max length. Defaulting to 'longest_first' truncation strategy. If you encode pairs of sequences (GLUE-style) with the tokenizer you can select this strategy more precisely by providing a specific strategy to `truncation`.\n"
          ]
        }
      ],
      "source": [
        "tokenizer = BertTokenizer.from_pretrained('bert-base-uncased', \n",
        "                                          do_lower_case=True)\n",
        "                                          \n",
        "encoded_data_train = tokenizer.batch_encode_plus(\n",
        "    df_train[df_train.data_type=='train'].text.values, \n",
        "    add_special_tokens=True, \n",
        "    return_attention_mask=True, \n",
        "    pad_to_max_length=True, \n",
        "    max_length=256, \n",
        "    return_tensors='pt'\n",
        ")\n",
        "\n",
        "encoded_data_val = tokenizer.batch_encode_plus(\n",
        "    df_train[df_train.data_type=='val'].text.values, \n",
        "    add_special_tokens=True, \n",
        "    return_attention_mask=True, \n",
        "    pad_to_max_length=True, \n",
        "    max_length=256, \n",
        "    return_tensors='pt' \n",
        ")\n",
        "\n",
        "encoded_data_test = tokenizer.batch_encode_plus(\n",
        "    df_test.text.values, \n",
        "    add_special_tokens=True, \n",
        "    return_attention_mask=True, \n",
        "    pad_to_max_length=True, \n",
        "    max_length=256, \n",
        "    return_tensors='pt' \n",
        ")\n",
        "\n",
        "input_ids_train = encoded_data_train['input_ids']\n",
        "attention_masks_train = encoded_data_train['attention_mask']\n",
        "labels_train = torch.tensor(df_train[df_train.data_type=='train'].label.values)\n",
        "\n",
        "input_ids_val = encoded_data_val['input_ids']\n",
        "attention_masks_val = encoded_data_val['attention_mask']\n",
        "labels_val = torch.tensor(df_train[df_train.data_type=='val'].label.values)\n",
        "\n",
        "input_ids_test = encoded_data_test['input_ids']\n",
        "attention_masks_test = encoded_data_test['attention_mask']\n",
        "labels_test = torch.tensor(df_test.label.values)\n",
        "\n",
        "dataset_train = TensorDataset(input_ids_train, attention_masks_train, labels_train)\n",
        "dataset_val = TensorDataset(input_ids_val, attention_masks_val, labels_val)\n",
        "dataset_test = TensorDataset(input_ids_test, attention_masks_test, labels_test)"
      ]
    },
    {
      "cell_type": "code",
      "execution_count": null,
      "metadata": {
        "colab": {
          "base_uri": "https://localhost:8080/",
          "height": 156,
          "referenced_widgets": [
            "d3f9a5e5ed4349a3b4ca2e592d8130cb",
            "d7d9c40a66fb43fbb2ac1e51ab3edaef",
            "20c3a14f1a784a16ba5c757db26c7e96",
            "3c018ce2861e411fbf00b9ba78ed734a",
            "8a6862b145af462c81295b295a277e85",
            "624a6c57f3234b4c9c21f49bbe18f602",
            "504eb7a194ef467aa3115ba772c40877",
            "a61557e46c1245a4a6f28040d3a75d4d",
            "db8ab24a329b412bbde3b4ce5d3b5f37",
            "cb7a775537234ed09f5eaa02a07d62e3",
            "4031de35ad824dfaa328d22d82c93eea"
          ]
        },
        "id": "SfuNyEPWf6FJ",
        "outputId": "9a2267bf-4627-4ee7-d3d4-59f1da4eeed1"
      },
      "outputs": [
        {
          "output_type": "display_data",
          "data": {
            "text/plain": [
              "Downloading:   0%|          | 0.00/420M [00:00<?, ?B/s]"
            ],
            "application/vnd.jupyter.widget-view+json": {
              "version_major": 2,
              "version_minor": 0,
              "model_id": "d3f9a5e5ed4349a3b4ca2e592d8130cb"
            }
          },
          "metadata": {}
        },
        {
          "output_type": "stream",
          "name": "stderr",
          "text": [
            "Some weights of the model checkpoint at bert-base-uncased were not used when initializing BertForSequenceClassification: ['cls.predictions.decoder.weight', 'cls.predictions.transform.LayerNorm.weight', 'cls.predictions.transform.dense.bias', 'cls.predictions.bias', 'cls.seq_relationship.weight', 'cls.predictions.transform.LayerNorm.bias', 'cls.seq_relationship.bias', 'cls.predictions.transform.dense.weight']\n",
            "- This IS expected if you are initializing BertForSequenceClassification from the checkpoint of a model trained on another task or with another architecture (e.g. initializing a BertForSequenceClassification model from a BertForPreTraining model).\n",
            "- This IS NOT expected if you are initializing BertForSequenceClassification from the checkpoint of a model that you expect to be exactly identical (initializing a BertForSequenceClassification model from a BertForSequenceClassification model).\n",
            "Some weights of BertForSequenceClassification were not initialized from the model checkpoint at bert-base-uncased and are newly initialized: ['classifier.weight', 'classifier.bias']\n",
            "You should probably TRAIN this model on a down-stream task to be able to use it for predictions and inference.\n"
          ]
        }
      ],
      "source": [
        "model = BertForSequenceClassification.from_pretrained(\"bert-base-uncased\",\n",
        "                                                      num_labels=len(label_dict),\n",
        "                                                      output_attentions=False,\n",
        "                                                      output_hidden_states=False)"
      ]
    },
    {
      "cell_type": "code",
      "execution_count": null,
      "metadata": {
        "id": "R6xZm8FfgNEx"
      },
      "outputs": [],
      "source": [
        "# We will use Random sampler for train set and sequential sampler for validation\n",
        "from torch.utils.data import DataLoader, RandomSampler, SequentialSampler\n",
        "\n",
        "batch_size = 3\n",
        "\n",
        "dataloader_train = DataLoader(dataset_train, \n",
        "                              sampler=RandomSampler(dataset_train), \n",
        "                              batch_size=batch_size)\n",
        "\n",
        "dataloader_validation = DataLoader(dataset_val, \n",
        "                                   sampler=SequentialSampler(dataset_val), \n",
        "                                   batch_size=batch_size)\n",
        "\n",
        "dataloader_test = DataLoader(dataset_test, \n",
        "                                   sampler=SequentialSampler(dataset_test), \n",
        "                                   batch_size=batch_size)"
      ]
    },
    {
      "cell_type": "code",
      "execution_count": null,
      "metadata": {
        "id": "Hn2kzKH6gQiK"
      },
      "outputs": [],
      "source": [
        "from transformers import get_linear_schedule_with_warmup\n",
        "\n",
        "optimizer = torch.optim.AdamW(model.parameters(),\n",
        "                  lr=1e-5, \n",
        "                  eps=1e-8)\n",
        "                  \n",
        "epochs = 5\n",
        "\n",
        "scheduler = get_linear_schedule_with_warmup(optimizer, \n",
        "                                            num_warmup_steps=0,\n",
        "                                            num_training_steps=len(dataloader_train)*epochs)"
      ]
    },
    {
      "cell_type": "code",
      "execution_count": null,
      "metadata": {
        "id": "zrq1hKuTgTCr"
      },
      "outputs": [],
      "source": [
        "from sklearn.metrics import f1_score\n",
        "\n",
        "def f1_score_func(preds, labels):\n",
        "    preds_flat = np.argmax(preds, axis=1).flatten()\n",
        "    labels_flat = labels.flatten()\n",
        "    return f1_score(labels_flat, preds_flat, average='weighted')\n",
        "\n",
        "def accuracy_per_class(preds, labels):\n",
        "    label_dict_inverse = {v: k for k, v in label_dict.items()}\n",
        "    \n",
        "    preds_flat = np.argmax(preds, axis=1).flatten()\n",
        "    labels_flat = labels.flatten()\n",
        "\n",
        "    for label in np.unique(labels_flat):\n",
        "        y_preds = preds_flat[labels_flat==label]\n",
        "        y_true = labels_flat[labels_flat==label]\n",
        "        print(f'Class: {label_dict_inverse[label]}')\n",
        "        print(f'Accuracy: {len(y_preds[y_preds==label])}/{len(y_true)}\\n')"
      ]
    },
    {
      "cell_type": "code",
      "execution_count": null,
      "metadata": {
        "colab": {
          "base_uri": "https://localhost:8080/"
        },
        "id": "f8kKqXtcgUhV",
        "outputId": "032c89fc-3176-4a3a-ef31-9af9efa93c11"
      },
      "outputs": [
        {
          "output_type": "stream",
          "name": "stdout",
          "text": [
            "cuda\n"
          ]
        }
      ],
      "source": [
        "device = torch.device('cuda' if torch.cuda.is_available() else 'cpu')\n",
        "model.to(device)\n",
        "\n",
        "print(device)"
      ]
    },
    {
      "cell_type": "code",
      "execution_count": 161,
      "metadata": {
        "colab": {
          "base_uri": "https://localhost:8080/",
          "height": 515,
          "referenced_widgets": [
            "196bac67be2541b8ae2a0aaf3c29e3e0",
            "e4fc7b1e7bfc4ea7ba516650f20b0e09",
            "2293b1479078426f9621478cdff0a55f",
            "743aa5af2c3e44779129d9937b3a8664",
            "09fa0b4f754c40e1846fb6f41bc8b544",
            "fd57ee3c411046439bd9c2ab8cc585f4",
            "3af8b024e9134155bab1f57c972342f1",
            "8cbb35ca1eb54f7682b42ab4a1bf9b2a",
            "a5bcc1e15b2a4f399e6deb427ec55002",
            "c3def36f89184e0dba0c8d7dc6554744",
            "11e0df9c61fa4aa0837798db0e834e22",
            "6997bc0e9b8d476896ec6700e9fb5459",
            "2081ee9f7ce0427a908ab38d7b3a7397",
            "f0bd9e6c068f4547a253aeba4ddacb78",
            "e7453ac5905d47b68645e35c51473689",
            "b8071293f65c4e1e8149711b2f009ed0",
            "6cea172edb724d3c94d2676f106e6752",
            "f883f47543004eb39704e09662633937",
            "39ef0d7b197e470aa364d18c64de81c1",
            "14ac65d04e1a48b382216ed26e3a7ab4",
            "7a740a90e7974a4eb4821a1d56e85159",
            "8fbc3760058149d99b5fd03d0bcfe658",
            "16ea8af3e4e24c019700b9b4bf6ee556",
            "08fef03f5a014befaf7929cb9caa4738",
            "c6634f00e3b34eceafcb0f3c4d464cb9",
            "116253b53e274f3ab910e4e3c918d0df",
            "4dc203ce850344f58cd3c51cfdfa9729",
            "4d89cda21dac46dcb53748bbe080adf5",
            "9259ab229f7f406fa1654a6328c8b74d",
            "9b1381e46e664a0fa373d60c48726ff9",
            "8426c5e8247841c5b71a4ce835ca91b0",
            "a0b7418764f746d88069ee1b092c1ed1",
            "12d42c215b7345638de74303f34fa156",
            "60ff826562674f679f42d13cd73f2184",
            "0ece55c0d4de41289dc800f1c9cf74ce",
            "45c154f21c8e4427b46bb0ba4059af3e",
            "43699ace6d1a44829065a67c72a105c1",
            "0c37571a30ed45c9bb6ae0d58e6db8e5",
            "6806d690e5d743849e9b2b587629e884",
            "c9ffee1b90f243868a6f8fa91a9eaf9e",
            "78e3fd17009b4cabb900ec9d27f8bea1",
            "063870025e084983a949b166f7f61457",
            "e4bab221543846249fbda5805f9590d2",
            "67422b2f95c049fdbb9bb04efd769988",
            "ebe675296a494315bdafe06f6c42f4d9",
            "76518666f16a4c9cbcd068def899e3c5",
            "faba6374a19946a5a05cf6798fa5fa4e",
            "59b9417a85af470c8033a349a00c0df9",
            "86af67055a79497487ca0e658c946248",
            "3be54092ca7a4d02b57d50c5c3a0173c",
            "d39d9652e0a343c28e0644b0e0dd62a8",
            "f05568883dce46f98657479a416bbb65",
            "2199ffb976df4939a57698fe8ece1ddf",
            "b85815d18f3d4c919843dc095f3e00dd",
            "0e39c17ce7a5416f884ee06010c2706c",
            "18d92629ef584b7db6f7080483c48396",
            "8080647839d84229ac66030e1fdfdb31",
            "211595c2b9e84db3b389976e93895cb2",
            "88160198508d4e97b345faf251954069",
            "cab536fa47674b5597532ded678070ef",
            "10536526fac64f51bd2d2a26f2fca6e9",
            "7b553aef23844efe978771386e09b9b3",
            "7bda4716fe6b4a11993e547eaa35d77b",
            "60a13ab4fa9b48dfac8e90ea6a51c23a",
            "52c64ed31850427e8bb4f8d994d5f1a0",
            "b5131af2dd20422580e2f5a12ef1bbcf"
          ]
        },
        "id": "1Q2Yt_UYgWP3",
        "outputId": "6b272809-240d-414e-ba5c-154a84152ebf"
      },
      "outputs": [
        {
          "data": {
            "application/vnd.jupyter.widget-view+json": {
              "model_id": "196bac67be2541b8ae2a0aaf3c29e3e0",
              "version_major": 2,
              "version_minor": 0
            },
            "text/plain": [
              "  0%|          | 0/5 [00:00<?, ?it/s]"
            ]
          },
          "metadata": {},
          "output_type": "display_data"
        },
        {
          "data": {
            "application/vnd.jupyter.widget-view+json": {
              "model_id": "6997bc0e9b8d476896ec6700e9fb5459",
              "version_major": 2,
              "version_minor": 0
            },
            "text/plain": [
              "Epoch 1:   0%|          | 0/3406 [00:00<?, ?it/s]"
            ]
          },
          "metadata": {},
          "output_type": "display_data"
        },
        {
          "metadata": {
            "tags": null
          },
          "name": "stdout",
          "output_type": "stream",
          "text": [
            "\n",
            "Epoch 1\n",
            "Training loss: 0.9728555764064534\n",
            "Validation loss: 0.908821290498367\n",
            "F1 Score (Weighted): 0.5636700671116385\n"
          ]
        },
        {
          "data": {
            "application/vnd.jupyter.widget-view+json": {
              "model_id": "16ea8af3e4e24c019700b9b4bf6ee556",
              "version_major": 2,
              "version_minor": 0
            },
            "text/plain": [
              "Epoch 2:   0%|          | 0/3406 [00:00<?, ?it/s]"
            ]
          },
          "metadata": {},
          "output_type": "display_data"
        },
        {
          "output_type": "stream",
          "name": "stdout",
          "text": [
            "\n",
            "Epoch 2\n",
            "Training loss: 0.8209876509845975\n",
            "Validation loss: 0.9354175162841001\n",
            "F1 Score (Weighted): 0.5770768409434971\n"
          ]
        },
        {
          "output_type": "display_data",
          "data": {
            "text/plain": [
              "Epoch 3:   0%|          | 0/3406 [00:00<?, ?it/s]"
            ],
            "application/vnd.jupyter.widget-view+json": {
              "version_major": 2,
              "version_minor": 0,
              "model_id": "60ff826562674f679f42d13cd73f2184"
            }
          },
          "metadata": {}
        },
        {
          "output_type": "stream",
          "name": "stdout",
          "text": [
            "\n",
            "Epoch 3\n",
            "Training loss: 0.6962525677652996\n",
            "Validation loss: 1.3030185757194044\n",
            "F1 Score (Weighted): 0.5992571037437672\n"
          ]
        },
        {
          "output_type": "display_data",
          "data": {
            "text/plain": [
              "Epoch 4:   0%|          | 0/3406 [00:00<?, ?it/s]"
            ],
            "application/vnd.jupyter.widget-view+json": {
              "version_major": 2,
              "version_minor": 0,
              "model_id": "ebe675296a494315bdafe06f6c42f4d9"
            }
          },
          "metadata": {}
        },
        {
          "output_type": "stream",
          "name": "stdout",
          "text": [
            "\n",
            "Epoch 4\n",
            "Training loss: 0.5914180540999658\n",
            "Validation loss: 1.8273686636432025\n",
            "F1 Score (Weighted): 0.5963910849083217\n"
          ]
        },
        {
          "output_type": "display_data",
          "data": {
            "text/plain": [
              "Epoch 5:   0%|          | 0/3406 [00:00<?, ?it/s]"
            ],
            "application/vnd.jupyter.widget-view+json": {
              "version_major": 2,
              "version_minor": 0,
              "model_id": "18d92629ef584b7db6f7080483c48396"
            }
          },
          "metadata": {}
        },
        {
          "output_type": "stream",
          "name": "stdout",
          "text": [
            "\n",
            "Epoch 5\n",
            "Training loss: 0.4551328120951359\n",
            "Validation loss: 2.1605209420946894\n",
            "F1 Score (Weighted): 0.6019716289924001\n"
          ]
        }
      ],
      "source": [
        "seed_val = 42\n",
        "random.seed(seed_val)\n",
        "np.random.seed(seed_val)\n",
        "torch.manual_seed(seed_val)\n",
        "torch.cuda.manual_seed_all(seed_val)\n",
        "\n",
        "def evaluate(dataloader_val):\n",
        "\n",
        "    model.eval()\n",
        "    \n",
        "    loss_val_total = 0\n",
        "    predictions, true_vals = [], []\n",
        "    \n",
        "    for batch in dataloader_val:\n",
        "        \n",
        "        batch = tuple(b.to(device) for b in batch)\n",
        "        \n",
        "        inputs = {'input_ids':      batch[0],\n",
        "                  'attention_mask': batch[1],\n",
        "                  'labels':         batch[2],\n",
        "                 }\n",
        "\n",
        "        with torch.no_grad():        \n",
        "            outputs = model(**inputs)\n",
        "            \n",
        "        loss = outputs[0]\n",
        "        logits = outputs[1]\n",
        "        loss_val_total += loss.item()\n",
        "\n",
        "        logits = logits.detach().cpu().numpy()\n",
        "        label_ids = inputs['labels'].cpu().numpy()\n",
        "        predictions.append(logits)\n",
        "        true_vals.append(label_ids)\n",
        "    loss_val_avg = loss_val_total/len(dataloader_val) \n",
        "    \n",
        "    predictions = np.concatenate(predictions, axis=0)\n",
        "    true_vals = np.concatenate(true_vals, axis=0)\n",
        "            \n",
        "    return loss_val_avg, predictions, true_vals\n",
        "    \n",
        "for epoch in tqdm(range(1, epochs+1)):\n",
        "    \n",
        "    model.train()\n",
        "    \n",
        "    loss_train_total = 0\n",
        "\n",
        "    progress_bar = tqdm(dataloader_train, desc='Epoch {:1d}'.format(epoch), leave=False, disable=False)\n",
        "    for batch in progress_bar:\n",
        "\n",
        "        model.zero_grad()\n",
        "        \n",
        "        batch = tuple(b.to(device) for b in batch)\n",
        "        \n",
        "        inputs = {'input_ids':      batch[0],\n",
        "                  'attention_mask': batch[1],\n",
        "                  'labels':         batch[2],\n",
        "                 }       \n",
        "\n",
        "        outputs = model(**inputs)\n",
        "        \n",
        "        loss = outputs[0]\n",
        "        loss_train_total += loss.item()\n",
        "        loss.backward()\n",
        "\n",
        "        torch.nn.utils.clip_grad_norm_(model.parameters(), 1.0)\n",
        "\n",
        "        optimizer.step()\n",
        "        scheduler.step()\n",
        "        \n",
        "        progress_bar.set_postfix({'training_loss': '{:.3f}'.format(loss.item()/len(batch))})\n",
        "         \n",
        "        \n",
        "    torch.save(model.state_dict(), f'finetuned_BERT_epoch_{epoch}.model')\n",
        "    tqdm.write(f'\\nEpoch {epoch}')\n",
        "    \n",
        "    loss_train_avg = loss_train_total/len(dataloader_train)            \n",
        "    tqdm.write(f'Training loss: {loss_train_avg}')\n",
        "    \n",
        "    val_loss, predictions, true_vals = evaluate(dataloader_validation)\n",
        "    val_f1 = f1_score_func(predictions, true_vals)\n",
        "    tqdm.write(f'Validation loss: {val_loss}')\n",
        "    tqdm.write(f'F1 Score (Weighted): {val_f1}')"
      ]
    },
    {
      "cell_type": "code",
      "execution_count": 162,
      "metadata": {
        "id": "QrQ2ZWzfgbL0",
        "colab": {
          "base_uri": "https://localhost:8080/"
        },
        "outputId": "2f883945-eaad-4c3b-abfc-7668792eedc2"
      },
      "outputs": [
        {
          "output_type": "stream",
          "name": "stderr",
          "text": [
            "Some weights of the model checkpoint at bert-base-uncased were not used when initializing BertForSequenceClassification: ['cls.predictions.decoder.weight', 'cls.predictions.transform.LayerNorm.weight', 'cls.predictions.transform.dense.bias', 'cls.predictions.bias', 'cls.seq_relationship.weight', 'cls.predictions.transform.LayerNorm.bias', 'cls.seq_relationship.bias', 'cls.predictions.transform.dense.weight']\n",
            "- This IS expected if you are initializing BertForSequenceClassification from the checkpoint of a model trained on another task or with another architecture (e.g. initializing a BertForSequenceClassification model from a BertForPreTraining model).\n",
            "- This IS NOT expected if you are initializing BertForSequenceClassification from the checkpoint of a model that you expect to be exactly identical (initializing a BertForSequenceClassification model from a BertForSequenceClassification model).\n",
            "Some weights of BertForSequenceClassification were not initialized from the model checkpoint at bert-base-uncased and are newly initialized: ['classifier.weight', 'classifier.bias']\n",
            "You should probably TRAIN this model on a down-stream task to be able to use it for predictions and inference.\n"
          ]
        },
        {
          "output_type": "stream",
          "name": "stdout",
          "text": [
            "Class: True\n",
            "Accuracy: 185/478\n",
            "\n",
            "Class: False\n",
            "Accuracy: 269/420\n",
            "\n",
            "Class: MIXTURE\n",
            "Accuracy: 321/438\n",
            "\n"
          ]
        }
      ],
      "source": [
        "model = BertForSequenceClassification.from_pretrained(\"bert-base-uncased\",\n",
        "                                                      num_labels=len(label_dict),\n",
        "                                                      output_attentions=False,\n",
        "                                                      output_hidden_states=False)\n",
        "\n",
        "model.to(device)\n",
        "\n",
        "model.load_state_dict(torch.load('finetuned_BERT_epoch_1.model', map_location=torch.device('cpu')))\n",
        "\n",
        "_, predictions, true_vals = evaluate(dataloader_test)\n",
        "accuracy_per_class(predictions, true_vals)"
      ]
    }
  ],
  "metadata": {
    "accelerator": "GPU",
    "colab": {
      "collapsed_sections": [
        "i6z-w3-M-T-5",
        "oF2RXtCsIAL1",
        "je4KpcyhL7MG",
        "pkOMzjASJd3_",
        "7uZgCJHcuZlj",
        "31SEMHPhuvQx",
        "jUHxo9K61Tjm",
        "srLlVE9pDdB-",
        "P4XFbUHv3Jzk",
        "GTNQu5KtBihk"
      ],
      "machine_shape": "hm",
      "name": "fakeNews.ipynb",
      "provenance": []
    },
    "kernelspec": {
      "display_name": "Python 3",
      "name": "python3"
    },
    "language_info": {
      "name": "python"
    },
    "widgets": {
      "application/vnd.jupyter.widget-state+json": {
        "56d0174f3f9642abb12425a959ca404f": {
          "model_module": "@jupyter-widgets/controls",
          "model_name": "HBoxModel",
          "model_module_version": "1.5.0",
          "state": {
            "_dom_classes": [],
            "_model_module": "@jupyter-widgets/controls",
            "_model_module_version": "1.5.0",
            "_model_name": "HBoxModel",
            "_view_count": null,
            "_view_module": "@jupyter-widgets/controls",
            "_view_module_version": "1.5.0",
            "_view_name": "HBoxView",
            "box_style": "",
            "children": [
              "IPY_MODEL_5867df89eff6433e87aa3331f9f0d06f",
              "IPY_MODEL_a1d2df39228c45068afbf106bc45bc03",
              "IPY_MODEL_aa31626a12a34473bfb52f508cbf91df"
            ],
            "layout": "IPY_MODEL_18eb8150679c47749915275ae4bd252a"
          }
        },
        "5867df89eff6433e87aa3331f9f0d06f": {
          "model_module": "@jupyter-widgets/controls",
          "model_name": "HTMLModel",
          "model_module_version": "1.5.0",
          "state": {
            "_dom_classes": [],
            "_model_module": "@jupyter-widgets/controls",
            "_model_module_version": "1.5.0",
            "_model_name": "HTMLModel",
            "_view_count": null,
            "_view_module": "@jupyter-widgets/controls",
            "_view_module_version": "1.5.0",
            "_view_name": "HTMLView",
            "description": "",
            "description_tooltip": null,
            "layout": "IPY_MODEL_b7d8b9789a5e4609824036955f3d161e",
            "placeholder": "​",
            "style": "IPY_MODEL_8447c3e1a39b4629b443191c7e92786b",
            "value": "Downloading: 100%"
          }
        },
        "a1d2df39228c45068afbf106bc45bc03": {
          "model_module": "@jupyter-widgets/controls",
          "model_name": "FloatProgressModel",
          "model_module_version": "1.5.0",
          "state": {
            "_dom_classes": [],
            "_model_module": "@jupyter-widgets/controls",
            "_model_module_version": "1.5.0",
            "_model_name": "FloatProgressModel",
            "_view_count": null,
            "_view_module": "@jupyter-widgets/controls",
            "_view_module_version": "1.5.0",
            "_view_name": "ProgressView",
            "bar_style": "success",
            "description": "",
            "description_tooltip": null,
            "layout": "IPY_MODEL_86134613bd39405fb273011b872bc1c6",
            "max": 231508,
            "min": 0,
            "orientation": "horizontal",
            "style": "IPY_MODEL_0ea2b0229f954856b6570f4bd11b1ffc",
            "value": 231508
          }
        },
        "aa31626a12a34473bfb52f508cbf91df": {
          "model_module": "@jupyter-widgets/controls",
          "model_name": "HTMLModel",
          "model_module_version": "1.5.0",
          "state": {
            "_dom_classes": [],
            "_model_module": "@jupyter-widgets/controls",
            "_model_module_version": "1.5.0",
            "_model_name": "HTMLModel",
            "_view_count": null,
            "_view_module": "@jupyter-widgets/controls",
            "_view_module_version": "1.5.0",
            "_view_name": "HTMLView",
            "description": "",
            "description_tooltip": null,
            "layout": "IPY_MODEL_c954ea366c1c43f4aca8653ed76a08a0",
            "placeholder": "​",
            "style": "IPY_MODEL_513488f339ec479fb410acb6dfb1dafe",
            "value": " 226k/226k [00:00&lt;00:00, 628kB/s]"
          }
        },
        "18eb8150679c47749915275ae4bd252a": {
          "model_module": "@jupyter-widgets/base",
          "model_name": "LayoutModel",
          "model_module_version": "1.2.0",
          "state": {
            "_model_module": "@jupyter-widgets/base",
            "_model_module_version": "1.2.0",
            "_model_name": "LayoutModel",
            "_view_count": null,
            "_view_module": "@jupyter-widgets/base",
            "_view_module_version": "1.2.0",
            "_view_name": "LayoutView",
            "align_content": null,
            "align_items": null,
            "align_self": null,
            "border": null,
            "bottom": null,
            "display": null,
            "flex": null,
            "flex_flow": null,
            "grid_area": null,
            "grid_auto_columns": null,
            "grid_auto_flow": null,
            "grid_auto_rows": null,
            "grid_column": null,
            "grid_gap": null,
            "grid_row": null,
            "grid_template_areas": null,
            "grid_template_columns": null,
            "grid_template_rows": null,
            "height": null,
            "justify_content": null,
            "justify_items": null,
            "left": null,
            "margin": null,
            "max_height": null,
            "max_width": null,
            "min_height": null,
            "min_width": null,
            "object_fit": null,
            "object_position": null,
            "order": null,
            "overflow": null,
            "overflow_x": null,
            "overflow_y": null,
            "padding": null,
            "right": null,
            "top": null,
            "visibility": null,
            "width": null
          }
        },
        "b7d8b9789a5e4609824036955f3d161e": {
          "model_module": "@jupyter-widgets/base",
          "model_name": "LayoutModel",
          "model_module_version": "1.2.0",
          "state": {
            "_model_module": "@jupyter-widgets/base",
            "_model_module_version": "1.2.0",
            "_model_name": "LayoutModel",
            "_view_count": null,
            "_view_module": "@jupyter-widgets/base",
            "_view_module_version": "1.2.0",
            "_view_name": "LayoutView",
            "align_content": null,
            "align_items": null,
            "align_self": null,
            "border": null,
            "bottom": null,
            "display": null,
            "flex": null,
            "flex_flow": null,
            "grid_area": null,
            "grid_auto_columns": null,
            "grid_auto_flow": null,
            "grid_auto_rows": null,
            "grid_column": null,
            "grid_gap": null,
            "grid_row": null,
            "grid_template_areas": null,
            "grid_template_columns": null,
            "grid_template_rows": null,
            "height": null,
            "justify_content": null,
            "justify_items": null,
            "left": null,
            "margin": null,
            "max_height": null,
            "max_width": null,
            "min_height": null,
            "min_width": null,
            "object_fit": null,
            "object_position": null,
            "order": null,
            "overflow": null,
            "overflow_x": null,
            "overflow_y": null,
            "padding": null,
            "right": null,
            "top": null,
            "visibility": null,
            "width": null
          }
        },
        "8447c3e1a39b4629b443191c7e92786b": {
          "model_module": "@jupyter-widgets/controls",
          "model_name": "DescriptionStyleModel",
          "model_module_version": "1.5.0",
          "state": {
            "_model_module": "@jupyter-widgets/controls",
            "_model_module_version": "1.5.0",
            "_model_name": "DescriptionStyleModel",
            "_view_count": null,
            "_view_module": "@jupyter-widgets/base",
            "_view_module_version": "1.2.0",
            "_view_name": "StyleView",
            "description_width": ""
          }
        },
        "86134613bd39405fb273011b872bc1c6": {
          "model_module": "@jupyter-widgets/base",
          "model_name": "LayoutModel",
          "model_module_version": "1.2.0",
          "state": {
            "_model_module": "@jupyter-widgets/base",
            "_model_module_version": "1.2.0",
            "_model_name": "LayoutModel",
            "_view_count": null,
            "_view_module": "@jupyter-widgets/base",
            "_view_module_version": "1.2.0",
            "_view_name": "LayoutView",
            "align_content": null,
            "align_items": null,
            "align_self": null,
            "border": null,
            "bottom": null,
            "display": null,
            "flex": null,
            "flex_flow": null,
            "grid_area": null,
            "grid_auto_columns": null,
            "grid_auto_flow": null,
            "grid_auto_rows": null,
            "grid_column": null,
            "grid_gap": null,
            "grid_row": null,
            "grid_template_areas": null,
            "grid_template_columns": null,
            "grid_template_rows": null,
            "height": null,
            "justify_content": null,
            "justify_items": null,
            "left": null,
            "margin": null,
            "max_height": null,
            "max_width": null,
            "min_height": null,
            "min_width": null,
            "object_fit": null,
            "object_position": null,
            "order": null,
            "overflow": null,
            "overflow_x": null,
            "overflow_y": null,
            "padding": null,
            "right": null,
            "top": null,
            "visibility": null,
            "width": null
          }
        },
        "0ea2b0229f954856b6570f4bd11b1ffc": {
          "model_module": "@jupyter-widgets/controls",
          "model_name": "ProgressStyleModel",
          "model_module_version": "1.5.0",
          "state": {
            "_model_module": "@jupyter-widgets/controls",
            "_model_module_version": "1.5.0",
            "_model_name": "ProgressStyleModel",
            "_view_count": null,
            "_view_module": "@jupyter-widgets/base",
            "_view_module_version": "1.2.0",
            "_view_name": "StyleView",
            "bar_color": null,
            "description_width": ""
          }
        },
        "c954ea366c1c43f4aca8653ed76a08a0": {
          "model_module": "@jupyter-widgets/base",
          "model_name": "LayoutModel",
          "model_module_version": "1.2.0",
          "state": {
            "_model_module": "@jupyter-widgets/base",
            "_model_module_version": "1.2.0",
            "_model_name": "LayoutModel",
            "_view_count": null,
            "_view_module": "@jupyter-widgets/base",
            "_view_module_version": "1.2.0",
            "_view_name": "LayoutView",
            "align_content": null,
            "align_items": null,
            "align_self": null,
            "border": null,
            "bottom": null,
            "display": null,
            "flex": null,
            "flex_flow": null,
            "grid_area": null,
            "grid_auto_columns": null,
            "grid_auto_flow": null,
            "grid_auto_rows": null,
            "grid_column": null,
            "grid_gap": null,
            "grid_row": null,
            "grid_template_areas": null,
            "grid_template_columns": null,
            "grid_template_rows": null,
            "height": null,
            "justify_content": null,
            "justify_items": null,
            "left": null,
            "margin": null,
            "max_height": null,
            "max_width": null,
            "min_height": null,
            "min_width": null,
            "object_fit": null,
            "object_position": null,
            "order": null,
            "overflow": null,
            "overflow_x": null,
            "overflow_y": null,
            "padding": null,
            "right": null,
            "top": null,
            "visibility": null,
            "width": null
          }
        },
        "513488f339ec479fb410acb6dfb1dafe": {
          "model_module": "@jupyter-widgets/controls",
          "model_name": "DescriptionStyleModel",
          "model_module_version": "1.5.0",
          "state": {
            "_model_module": "@jupyter-widgets/controls",
            "_model_module_version": "1.5.0",
            "_model_name": "DescriptionStyleModel",
            "_view_count": null,
            "_view_module": "@jupyter-widgets/base",
            "_view_module_version": "1.2.0",
            "_view_name": "StyleView",
            "description_width": ""
          }
        },
        "fdf8798e1cbb4e319185597b42aac2bf": {
          "model_module": "@jupyter-widgets/controls",
          "model_name": "HBoxModel",
          "model_module_version": "1.5.0",
          "state": {
            "_dom_classes": [],
            "_model_module": "@jupyter-widgets/controls",
            "_model_module_version": "1.5.0",
            "_model_name": "HBoxModel",
            "_view_count": null,
            "_view_module": "@jupyter-widgets/controls",
            "_view_module_version": "1.5.0",
            "_view_name": "HBoxView",
            "box_style": "",
            "children": [
              "IPY_MODEL_428bc77a964c40ebb3c93a9859fef538",
              "IPY_MODEL_fba9fd7b8966450b944df1b704fe8536",
              "IPY_MODEL_4a15b0fcd8c24e1c8c1f65f042e69802"
            ],
            "layout": "IPY_MODEL_e15b820264134cf89907f41bf6023a2d"
          }
        },
        "428bc77a964c40ebb3c93a9859fef538": {
          "model_module": "@jupyter-widgets/controls",
          "model_name": "HTMLModel",
          "model_module_version": "1.5.0",
          "state": {
            "_dom_classes": [],
            "_model_module": "@jupyter-widgets/controls",
            "_model_module_version": "1.5.0",
            "_model_name": "HTMLModel",
            "_view_count": null,
            "_view_module": "@jupyter-widgets/controls",
            "_view_module_version": "1.5.0",
            "_view_name": "HTMLView",
            "description": "",
            "description_tooltip": null,
            "layout": "IPY_MODEL_9b7e1ebce83c4181904bcaeff1143333",
            "placeholder": "​",
            "style": "IPY_MODEL_d5fab724ccdd402aa89e63d92c595749",
            "value": "Downloading: 100%"
          }
        },
        "fba9fd7b8966450b944df1b704fe8536": {
          "model_module": "@jupyter-widgets/controls",
          "model_name": "FloatProgressModel",
          "model_module_version": "1.5.0",
          "state": {
            "_dom_classes": [],
            "_model_module": "@jupyter-widgets/controls",
            "_model_module_version": "1.5.0",
            "_model_name": "FloatProgressModel",
            "_view_count": null,
            "_view_module": "@jupyter-widgets/controls",
            "_view_module_version": "1.5.0",
            "_view_name": "ProgressView",
            "bar_style": "success",
            "description": "",
            "description_tooltip": null,
            "layout": "IPY_MODEL_f1045fca5477443ca08d7e30936f7ff9",
            "max": 28,
            "min": 0,
            "orientation": "horizontal",
            "style": "IPY_MODEL_a8b94f8bb55946959728820f8bc1e256",
            "value": 28
          }
        },
        "4a15b0fcd8c24e1c8c1f65f042e69802": {
          "model_module": "@jupyter-widgets/controls",
          "model_name": "HTMLModel",
          "model_module_version": "1.5.0",
          "state": {
            "_dom_classes": [],
            "_model_module": "@jupyter-widgets/controls",
            "_model_module_version": "1.5.0",
            "_model_name": "HTMLModel",
            "_view_count": null,
            "_view_module": "@jupyter-widgets/controls",
            "_view_module_version": "1.5.0",
            "_view_name": "HTMLView",
            "description": "",
            "description_tooltip": null,
            "layout": "IPY_MODEL_d47ca26d6baf4e6a85090e1a01eb37ae",
            "placeholder": "​",
            "style": "IPY_MODEL_39da358df09445ff9db0c10960a8ebc7",
            "value": " 28.0/28.0 [00:00&lt;00:00, 1.17kB/s]"
          }
        },
        "e15b820264134cf89907f41bf6023a2d": {
          "model_module": "@jupyter-widgets/base",
          "model_name": "LayoutModel",
          "model_module_version": "1.2.0",
          "state": {
            "_model_module": "@jupyter-widgets/base",
            "_model_module_version": "1.2.0",
            "_model_name": "LayoutModel",
            "_view_count": null,
            "_view_module": "@jupyter-widgets/base",
            "_view_module_version": "1.2.0",
            "_view_name": "LayoutView",
            "align_content": null,
            "align_items": null,
            "align_self": null,
            "border": null,
            "bottom": null,
            "display": null,
            "flex": null,
            "flex_flow": null,
            "grid_area": null,
            "grid_auto_columns": null,
            "grid_auto_flow": null,
            "grid_auto_rows": null,
            "grid_column": null,
            "grid_gap": null,
            "grid_row": null,
            "grid_template_areas": null,
            "grid_template_columns": null,
            "grid_template_rows": null,
            "height": null,
            "justify_content": null,
            "justify_items": null,
            "left": null,
            "margin": null,
            "max_height": null,
            "max_width": null,
            "min_height": null,
            "min_width": null,
            "object_fit": null,
            "object_position": null,
            "order": null,
            "overflow": null,
            "overflow_x": null,
            "overflow_y": null,
            "padding": null,
            "right": null,
            "top": null,
            "visibility": null,
            "width": null
          }
        },
        "9b7e1ebce83c4181904bcaeff1143333": {
          "model_module": "@jupyter-widgets/base",
          "model_name": "LayoutModel",
          "model_module_version": "1.2.0",
          "state": {
            "_model_module": "@jupyter-widgets/base",
            "_model_module_version": "1.2.0",
            "_model_name": "LayoutModel",
            "_view_count": null,
            "_view_module": "@jupyter-widgets/base",
            "_view_module_version": "1.2.0",
            "_view_name": "LayoutView",
            "align_content": null,
            "align_items": null,
            "align_self": null,
            "border": null,
            "bottom": null,
            "display": null,
            "flex": null,
            "flex_flow": null,
            "grid_area": null,
            "grid_auto_columns": null,
            "grid_auto_flow": null,
            "grid_auto_rows": null,
            "grid_column": null,
            "grid_gap": null,
            "grid_row": null,
            "grid_template_areas": null,
            "grid_template_columns": null,
            "grid_template_rows": null,
            "height": null,
            "justify_content": null,
            "justify_items": null,
            "left": null,
            "margin": null,
            "max_height": null,
            "max_width": null,
            "min_height": null,
            "min_width": null,
            "object_fit": null,
            "object_position": null,
            "order": null,
            "overflow": null,
            "overflow_x": null,
            "overflow_y": null,
            "padding": null,
            "right": null,
            "top": null,
            "visibility": null,
            "width": null
          }
        },
        "d5fab724ccdd402aa89e63d92c595749": {
          "model_module": "@jupyter-widgets/controls",
          "model_name": "DescriptionStyleModel",
          "model_module_version": "1.5.0",
          "state": {
            "_model_module": "@jupyter-widgets/controls",
            "_model_module_version": "1.5.0",
            "_model_name": "DescriptionStyleModel",
            "_view_count": null,
            "_view_module": "@jupyter-widgets/base",
            "_view_module_version": "1.2.0",
            "_view_name": "StyleView",
            "description_width": ""
          }
        },
        "f1045fca5477443ca08d7e30936f7ff9": {
          "model_module": "@jupyter-widgets/base",
          "model_name": "LayoutModel",
          "model_module_version": "1.2.0",
          "state": {
            "_model_module": "@jupyter-widgets/base",
            "_model_module_version": "1.2.0",
            "_model_name": "LayoutModel",
            "_view_count": null,
            "_view_module": "@jupyter-widgets/base",
            "_view_module_version": "1.2.0",
            "_view_name": "LayoutView",
            "align_content": null,
            "align_items": null,
            "align_self": null,
            "border": null,
            "bottom": null,
            "display": null,
            "flex": null,
            "flex_flow": null,
            "grid_area": null,
            "grid_auto_columns": null,
            "grid_auto_flow": null,
            "grid_auto_rows": null,
            "grid_column": null,
            "grid_gap": null,
            "grid_row": null,
            "grid_template_areas": null,
            "grid_template_columns": null,
            "grid_template_rows": null,
            "height": null,
            "justify_content": null,
            "justify_items": null,
            "left": null,
            "margin": null,
            "max_height": null,
            "max_width": null,
            "min_height": null,
            "min_width": null,
            "object_fit": null,
            "object_position": null,
            "order": null,
            "overflow": null,
            "overflow_x": null,
            "overflow_y": null,
            "padding": null,
            "right": null,
            "top": null,
            "visibility": null,
            "width": null
          }
        },
        "a8b94f8bb55946959728820f8bc1e256": {
          "model_module": "@jupyter-widgets/controls",
          "model_name": "ProgressStyleModel",
          "model_module_version": "1.5.0",
          "state": {
            "_model_module": "@jupyter-widgets/controls",
            "_model_module_version": "1.5.0",
            "_model_name": "ProgressStyleModel",
            "_view_count": null,
            "_view_module": "@jupyter-widgets/base",
            "_view_module_version": "1.2.0",
            "_view_name": "StyleView",
            "bar_color": null,
            "description_width": ""
          }
        },
        "d47ca26d6baf4e6a85090e1a01eb37ae": {
          "model_module": "@jupyter-widgets/base",
          "model_name": "LayoutModel",
          "model_module_version": "1.2.0",
          "state": {
            "_model_module": "@jupyter-widgets/base",
            "_model_module_version": "1.2.0",
            "_model_name": "LayoutModel",
            "_view_count": null,
            "_view_module": "@jupyter-widgets/base",
            "_view_module_version": "1.2.0",
            "_view_name": "LayoutView",
            "align_content": null,
            "align_items": null,
            "align_self": null,
            "border": null,
            "bottom": null,
            "display": null,
            "flex": null,
            "flex_flow": null,
            "grid_area": null,
            "grid_auto_columns": null,
            "grid_auto_flow": null,
            "grid_auto_rows": null,
            "grid_column": null,
            "grid_gap": null,
            "grid_row": null,
            "grid_template_areas": null,
            "grid_template_columns": null,
            "grid_template_rows": null,
            "height": null,
            "justify_content": null,
            "justify_items": null,
            "left": null,
            "margin": null,
            "max_height": null,
            "max_width": null,
            "min_height": null,
            "min_width": null,
            "object_fit": null,
            "object_position": null,
            "order": null,
            "overflow": null,
            "overflow_x": null,
            "overflow_y": null,
            "padding": null,
            "right": null,
            "top": null,
            "visibility": null,
            "width": null
          }
        },
        "39da358df09445ff9db0c10960a8ebc7": {
          "model_module": "@jupyter-widgets/controls",
          "model_name": "DescriptionStyleModel",
          "model_module_version": "1.5.0",
          "state": {
            "_model_module": "@jupyter-widgets/controls",
            "_model_module_version": "1.5.0",
            "_model_name": "DescriptionStyleModel",
            "_view_count": null,
            "_view_module": "@jupyter-widgets/base",
            "_view_module_version": "1.2.0",
            "_view_name": "StyleView",
            "description_width": ""
          }
        },
        "e8d96cbeab744a42816cf0efc22dbbec": {
          "model_module": "@jupyter-widgets/controls",
          "model_name": "HBoxModel",
          "model_module_version": "1.5.0",
          "state": {
            "_dom_classes": [],
            "_model_module": "@jupyter-widgets/controls",
            "_model_module_version": "1.5.0",
            "_model_name": "HBoxModel",
            "_view_count": null,
            "_view_module": "@jupyter-widgets/controls",
            "_view_module_version": "1.5.0",
            "_view_name": "HBoxView",
            "box_style": "",
            "children": [
              "IPY_MODEL_7c3506640f404614ae85ee21131b8c1c",
              "IPY_MODEL_1f5a4fdad41c47959f2c30cb5eaa5487",
              "IPY_MODEL_ca4319ac25a0487ab202e4ac9d3f6602"
            ],
            "layout": "IPY_MODEL_3c11d2c1c37a4d25b4ad000f52b5ac10"
          }
        },
        "7c3506640f404614ae85ee21131b8c1c": {
          "model_module": "@jupyter-widgets/controls",
          "model_name": "HTMLModel",
          "model_module_version": "1.5.0",
          "state": {
            "_dom_classes": [],
            "_model_module": "@jupyter-widgets/controls",
            "_model_module_version": "1.5.0",
            "_model_name": "HTMLModel",
            "_view_count": null,
            "_view_module": "@jupyter-widgets/controls",
            "_view_module_version": "1.5.0",
            "_view_name": "HTMLView",
            "description": "",
            "description_tooltip": null,
            "layout": "IPY_MODEL_d063b6523f264da49736f20533c8c281",
            "placeholder": "​",
            "style": "IPY_MODEL_b9374da6a2404f428d01405d8b1c7ff8",
            "value": "Downloading: 100%"
          }
        },
        "1f5a4fdad41c47959f2c30cb5eaa5487": {
          "model_module": "@jupyter-widgets/controls",
          "model_name": "FloatProgressModel",
          "model_module_version": "1.5.0",
          "state": {
            "_dom_classes": [],
            "_model_module": "@jupyter-widgets/controls",
            "_model_module_version": "1.5.0",
            "_model_name": "FloatProgressModel",
            "_view_count": null,
            "_view_module": "@jupyter-widgets/controls",
            "_view_module_version": "1.5.0",
            "_view_name": "ProgressView",
            "bar_style": "success",
            "description": "",
            "description_tooltip": null,
            "layout": "IPY_MODEL_fca02c20dfb142d586bafbe4de128511",
            "max": 570,
            "min": 0,
            "orientation": "horizontal",
            "style": "IPY_MODEL_46c27656976646b2b708ec4ca3c92373",
            "value": 570
          }
        },
        "ca4319ac25a0487ab202e4ac9d3f6602": {
          "model_module": "@jupyter-widgets/controls",
          "model_name": "HTMLModel",
          "model_module_version": "1.5.0",
          "state": {
            "_dom_classes": [],
            "_model_module": "@jupyter-widgets/controls",
            "_model_module_version": "1.5.0",
            "_model_name": "HTMLModel",
            "_view_count": null,
            "_view_module": "@jupyter-widgets/controls",
            "_view_module_version": "1.5.0",
            "_view_name": "HTMLView",
            "description": "",
            "description_tooltip": null,
            "layout": "IPY_MODEL_73b578e2758f44d6b007d8212474a7f7",
            "placeholder": "​",
            "style": "IPY_MODEL_519c755d6bcc4d228d8ac7ac96219b56",
            "value": " 570/570 [00:00&lt;00:00, 23.0kB/s]"
          }
        },
        "3c11d2c1c37a4d25b4ad000f52b5ac10": {
          "model_module": "@jupyter-widgets/base",
          "model_name": "LayoutModel",
          "model_module_version": "1.2.0",
          "state": {
            "_model_module": "@jupyter-widgets/base",
            "_model_module_version": "1.2.0",
            "_model_name": "LayoutModel",
            "_view_count": null,
            "_view_module": "@jupyter-widgets/base",
            "_view_module_version": "1.2.0",
            "_view_name": "LayoutView",
            "align_content": null,
            "align_items": null,
            "align_self": null,
            "border": null,
            "bottom": null,
            "display": null,
            "flex": null,
            "flex_flow": null,
            "grid_area": null,
            "grid_auto_columns": null,
            "grid_auto_flow": null,
            "grid_auto_rows": null,
            "grid_column": null,
            "grid_gap": null,
            "grid_row": null,
            "grid_template_areas": null,
            "grid_template_columns": null,
            "grid_template_rows": null,
            "height": null,
            "justify_content": null,
            "justify_items": null,
            "left": null,
            "margin": null,
            "max_height": null,
            "max_width": null,
            "min_height": null,
            "min_width": null,
            "object_fit": null,
            "object_position": null,
            "order": null,
            "overflow": null,
            "overflow_x": null,
            "overflow_y": null,
            "padding": null,
            "right": null,
            "top": null,
            "visibility": null,
            "width": null
          }
        },
        "d063b6523f264da49736f20533c8c281": {
          "model_module": "@jupyter-widgets/base",
          "model_name": "LayoutModel",
          "model_module_version": "1.2.0",
          "state": {
            "_model_module": "@jupyter-widgets/base",
            "_model_module_version": "1.2.0",
            "_model_name": "LayoutModel",
            "_view_count": null,
            "_view_module": "@jupyter-widgets/base",
            "_view_module_version": "1.2.0",
            "_view_name": "LayoutView",
            "align_content": null,
            "align_items": null,
            "align_self": null,
            "border": null,
            "bottom": null,
            "display": null,
            "flex": null,
            "flex_flow": null,
            "grid_area": null,
            "grid_auto_columns": null,
            "grid_auto_flow": null,
            "grid_auto_rows": null,
            "grid_column": null,
            "grid_gap": null,
            "grid_row": null,
            "grid_template_areas": null,
            "grid_template_columns": null,
            "grid_template_rows": null,
            "height": null,
            "justify_content": null,
            "justify_items": null,
            "left": null,
            "margin": null,
            "max_height": null,
            "max_width": null,
            "min_height": null,
            "min_width": null,
            "object_fit": null,
            "object_position": null,
            "order": null,
            "overflow": null,
            "overflow_x": null,
            "overflow_y": null,
            "padding": null,
            "right": null,
            "top": null,
            "visibility": null,
            "width": null
          }
        },
        "b9374da6a2404f428d01405d8b1c7ff8": {
          "model_module": "@jupyter-widgets/controls",
          "model_name": "DescriptionStyleModel",
          "model_module_version": "1.5.0",
          "state": {
            "_model_module": "@jupyter-widgets/controls",
            "_model_module_version": "1.5.0",
            "_model_name": "DescriptionStyleModel",
            "_view_count": null,
            "_view_module": "@jupyter-widgets/base",
            "_view_module_version": "1.2.0",
            "_view_name": "StyleView",
            "description_width": ""
          }
        },
        "fca02c20dfb142d586bafbe4de128511": {
          "model_module": "@jupyter-widgets/base",
          "model_name": "LayoutModel",
          "model_module_version": "1.2.0",
          "state": {
            "_model_module": "@jupyter-widgets/base",
            "_model_module_version": "1.2.0",
            "_model_name": "LayoutModel",
            "_view_count": null,
            "_view_module": "@jupyter-widgets/base",
            "_view_module_version": "1.2.0",
            "_view_name": "LayoutView",
            "align_content": null,
            "align_items": null,
            "align_self": null,
            "border": null,
            "bottom": null,
            "display": null,
            "flex": null,
            "flex_flow": null,
            "grid_area": null,
            "grid_auto_columns": null,
            "grid_auto_flow": null,
            "grid_auto_rows": null,
            "grid_column": null,
            "grid_gap": null,
            "grid_row": null,
            "grid_template_areas": null,
            "grid_template_columns": null,
            "grid_template_rows": null,
            "height": null,
            "justify_content": null,
            "justify_items": null,
            "left": null,
            "margin": null,
            "max_height": null,
            "max_width": null,
            "min_height": null,
            "min_width": null,
            "object_fit": null,
            "object_position": null,
            "order": null,
            "overflow": null,
            "overflow_x": null,
            "overflow_y": null,
            "padding": null,
            "right": null,
            "top": null,
            "visibility": null,
            "width": null
          }
        },
        "46c27656976646b2b708ec4ca3c92373": {
          "model_module": "@jupyter-widgets/controls",
          "model_name": "ProgressStyleModel",
          "model_module_version": "1.5.0",
          "state": {
            "_model_module": "@jupyter-widgets/controls",
            "_model_module_version": "1.5.0",
            "_model_name": "ProgressStyleModel",
            "_view_count": null,
            "_view_module": "@jupyter-widgets/base",
            "_view_module_version": "1.2.0",
            "_view_name": "StyleView",
            "bar_color": null,
            "description_width": ""
          }
        },
        "73b578e2758f44d6b007d8212474a7f7": {
          "model_module": "@jupyter-widgets/base",
          "model_name": "LayoutModel",
          "model_module_version": "1.2.0",
          "state": {
            "_model_module": "@jupyter-widgets/base",
            "_model_module_version": "1.2.0",
            "_model_name": "LayoutModel",
            "_view_count": null,
            "_view_module": "@jupyter-widgets/base",
            "_view_module_version": "1.2.0",
            "_view_name": "LayoutView",
            "align_content": null,
            "align_items": null,
            "align_self": null,
            "border": null,
            "bottom": null,
            "display": null,
            "flex": null,
            "flex_flow": null,
            "grid_area": null,
            "grid_auto_columns": null,
            "grid_auto_flow": null,
            "grid_auto_rows": null,
            "grid_column": null,
            "grid_gap": null,
            "grid_row": null,
            "grid_template_areas": null,
            "grid_template_columns": null,
            "grid_template_rows": null,
            "height": null,
            "justify_content": null,
            "justify_items": null,
            "left": null,
            "margin": null,
            "max_height": null,
            "max_width": null,
            "min_height": null,
            "min_width": null,
            "object_fit": null,
            "object_position": null,
            "order": null,
            "overflow": null,
            "overflow_x": null,
            "overflow_y": null,
            "padding": null,
            "right": null,
            "top": null,
            "visibility": null,
            "width": null
          }
        },
        "519c755d6bcc4d228d8ac7ac96219b56": {
          "model_module": "@jupyter-widgets/controls",
          "model_name": "DescriptionStyleModel",
          "model_module_version": "1.5.0",
          "state": {
            "_model_module": "@jupyter-widgets/controls",
            "_model_module_version": "1.5.0",
            "_model_name": "DescriptionStyleModel",
            "_view_count": null,
            "_view_module": "@jupyter-widgets/base",
            "_view_module_version": "1.2.0",
            "_view_name": "StyleView",
            "description_width": ""
          }
        },
        "d3f9a5e5ed4349a3b4ca2e592d8130cb": {
          "model_module": "@jupyter-widgets/controls",
          "model_name": "HBoxModel",
          "model_module_version": "1.5.0",
          "state": {
            "_dom_classes": [],
            "_model_module": "@jupyter-widgets/controls",
            "_model_module_version": "1.5.0",
            "_model_name": "HBoxModel",
            "_view_count": null,
            "_view_module": "@jupyter-widgets/controls",
            "_view_module_version": "1.5.0",
            "_view_name": "HBoxView",
            "box_style": "",
            "children": [
              "IPY_MODEL_d7d9c40a66fb43fbb2ac1e51ab3edaef",
              "IPY_MODEL_20c3a14f1a784a16ba5c757db26c7e96",
              "IPY_MODEL_3c018ce2861e411fbf00b9ba78ed734a"
            ],
            "layout": "IPY_MODEL_8a6862b145af462c81295b295a277e85"
          }
        },
        "d7d9c40a66fb43fbb2ac1e51ab3edaef": {
          "model_module": "@jupyter-widgets/controls",
          "model_name": "HTMLModel",
          "model_module_version": "1.5.0",
          "state": {
            "_dom_classes": [],
            "_model_module": "@jupyter-widgets/controls",
            "_model_module_version": "1.5.0",
            "_model_name": "HTMLModel",
            "_view_count": null,
            "_view_module": "@jupyter-widgets/controls",
            "_view_module_version": "1.5.0",
            "_view_name": "HTMLView",
            "description": "",
            "description_tooltip": null,
            "layout": "IPY_MODEL_624a6c57f3234b4c9c21f49bbe18f602",
            "placeholder": "​",
            "style": "IPY_MODEL_504eb7a194ef467aa3115ba772c40877",
            "value": "Downloading: 100%"
          }
        },
        "20c3a14f1a784a16ba5c757db26c7e96": {
          "model_module": "@jupyter-widgets/controls",
          "model_name": "FloatProgressModel",
          "model_module_version": "1.5.0",
          "state": {
            "_dom_classes": [],
            "_model_module": "@jupyter-widgets/controls",
            "_model_module_version": "1.5.0",
            "_model_name": "FloatProgressModel",
            "_view_count": null,
            "_view_module": "@jupyter-widgets/controls",
            "_view_module_version": "1.5.0",
            "_view_name": "ProgressView",
            "bar_style": "success",
            "description": "",
            "description_tooltip": null,
            "layout": "IPY_MODEL_a61557e46c1245a4a6f28040d3a75d4d",
            "max": 440473133,
            "min": 0,
            "orientation": "horizontal",
            "style": "IPY_MODEL_db8ab24a329b412bbde3b4ce5d3b5f37",
            "value": 440473133
          }
        },
        "3c018ce2861e411fbf00b9ba78ed734a": {
          "model_module": "@jupyter-widgets/controls",
          "model_name": "HTMLModel",
          "model_module_version": "1.5.0",
          "state": {
            "_dom_classes": [],
            "_model_module": "@jupyter-widgets/controls",
            "_model_module_version": "1.5.0",
            "_model_name": "HTMLModel",
            "_view_count": null,
            "_view_module": "@jupyter-widgets/controls",
            "_view_module_version": "1.5.0",
            "_view_name": "HTMLView",
            "description": "",
            "description_tooltip": null,
            "layout": "IPY_MODEL_cb7a775537234ed09f5eaa02a07d62e3",
            "placeholder": "​",
            "style": "IPY_MODEL_4031de35ad824dfaa328d22d82c93eea",
            "value": " 420M/420M [00:08&lt;00:00, 47.9MB/s]"
          }
        },
        "8a6862b145af462c81295b295a277e85": {
          "model_module": "@jupyter-widgets/base",
          "model_name": "LayoutModel",
          "model_module_version": "1.2.0",
          "state": {
            "_model_module": "@jupyter-widgets/base",
            "_model_module_version": "1.2.0",
            "_model_name": "LayoutModel",
            "_view_count": null,
            "_view_module": "@jupyter-widgets/base",
            "_view_module_version": "1.2.0",
            "_view_name": "LayoutView",
            "align_content": null,
            "align_items": null,
            "align_self": null,
            "border": null,
            "bottom": null,
            "display": null,
            "flex": null,
            "flex_flow": null,
            "grid_area": null,
            "grid_auto_columns": null,
            "grid_auto_flow": null,
            "grid_auto_rows": null,
            "grid_column": null,
            "grid_gap": null,
            "grid_row": null,
            "grid_template_areas": null,
            "grid_template_columns": null,
            "grid_template_rows": null,
            "height": null,
            "justify_content": null,
            "justify_items": null,
            "left": null,
            "margin": null,
            "max_height": null,
            "max_width": null,
            "min_height": null,
            "min_width": null,
            "object_fit": null,
            "object_position": null,
            "order": null,
            "overflow": null,
            "overflow_x": null,
            "overflow_y": null,
            "padding": null,
            "right": null,
            "top": null,
            "visibility": null,
            "width": null
          }
        },
        "624a6c57f3234b4c9c21f49bbe18f602": {
          "model_module": "@jupyter-widgets/base",
          "model_name": "LayoutModel",
          "model_module_version": "1.2.0",
          "state": {
            "_model_module": "@jupyter-widgets/base",
            "_model_module_version": "1.2.0",
            "_model_name": "LayoutModel",
            "_view_count": null,
            "_view_module": "@jupyter-widgets/base",
            "_view_module_version": "1.2.0",
            "_view_name": "LayoutView",
            "align_content": null,
            "align_items": null,
            "align_self": null,
            "border": null,
            "bottom": null,
            "display": null,
            "flex": null,
            "flex_flow": null,
            "grid_area": null,
            "grid_auto_columns": null,
            "grid_auto_flow": null,
            "grid_auto_rows": null,
            "grid_column": null,
            "grid_gap": null,
            "grid_row": null,
            "grid_template_areas": null,
            "grid_template_columns": null,
            "grid_template_rows": null,
            "height": null,
            "justify_content": null,
            "justify_items": null,
            "left": null,
            "margin": null,
            "max_height": null,
            "max_width": null,
            "min_height": null,
            "min_width": null,
            "object_fit": null,
            "object_position": null,
            "order": null,
            "overflow": null,
            "overflow_x": null,
            "overflow_y": null,
            "padding": null,
            "right": null,
            "top": null,
            "visibility": null,
            "width": null
          }
        },
        "504eb7a194ef467aa3115ba772c40877": {
          "model_module": "@jupyter-widgets/controls",
          "model_name": "DescriptionStyleModel",
          "model_module_version": "1.5.0",
          "state": {
            "_model_module": "@jupyter-widgets/controls",
            "_model_module_version": "1.5.0",
            "_model_name": "DescriptionStyleModel",
            "_view_count": null,
            "_view_module": "@jupyter-widgets/base",
            "_view_module_version": "1.2.0",
            "_view_name": "StyleView",
            "description_width": ""
          }
        },
        "a61557e46c1245a4a6f28040d3a75d4d": {
          "model_module": "@jupyter-widgets/base",
          "model_name": "LayoutModel",
          "model_module_version": "1.2.0",
          "state": {
            "_model_module": "@jupyter-widgets/base",
            "_model_module_version": "1.2.0",
            "_model_name": "LayoutModel",
            "_view_count": null,
            "_view_module": "@jupyter-widgets/base",
            "_view_module_version": "1.2.0",
            "_view_name": "LayoutView",
            "align_content": null,
            "align_items": null,
            "align_self": null,
            "border": null,
            "bottom": null,
            "display": null,
            "flex": null,
            "flex_flow": null,
            "grid_area": null,
            "grid_auto_columns": null,
            "grid_auto_flow": null,
            "grid_auto_rows": null,
            "grid_column": null,
            "grid_gap": null,
            "grid_row": null,
            "grid_template_areas": null,
            "grid_template_columns": null,
            "grid_template_rows": null,
            "height": null,
            "justify_content": null,
            "justify_items": null,
            "left": null,
            "margin": null,
            "max_height": null,
            "max_width": null,
            "min_height": null,
            "min_width": null,
            "object_fit": null,
            "object_position": null,
            "order": null,
            "overflow": null,
            "overflow_x": null,
            "overflow_y": null,
            "padding": null,
            "right": null,
            "top": null,
            "visibility": null,
            "width": null
          }
        },
        "db8ab24a329b412bbde3b4ce5d3b5f37": {
          "model_module": "@jupyter-widgets/controls",
          "model_name": "ProgressStyleModel",
          "model_module_version": "1.5.0",
          "state": {
            "_model_module": "@jupyter-widgets/controls",
            "_model_module_version": "1.5.0",
            "_model_name": "ProgressStyleModel",
            "_view_count": null,
            "_view_module": "@jupyter-widgets/base",
            "_view_module_version": "1.2.0",
            "_view_name": "StyleView",
            "bar_color": null,
            "description_width": ""
          }
        },
        "cb7a775537234ed09f5eaa02a07d62e3": {
          "model_module": "@jupyter-widgets/base",
          "model_name": "LayoutModel",
          "model_module_version": "1.2.0",
          "state": {
            "_model_module": "@jupyter-widgets/base",
            "_model_module_version": "1.2.0",
            "_model_name": "LayoutModel",
            "_view_count": null,
            "_view_module": "@jupyter-widgets/base",
            "_view_module_version": "1.2.0",
            "_view_name": "LayoutView",
            "align_content": null,
            "align_items": null,
            "align_self": null,
            "border": null,
            "bottom": null,
            "display": null,
            "flex": null,
            "flex_flow": null,
            "grid_area": null,
            "grid_auto_columns": null,
            "grid_auto_flow": null,
            "grid_auto_rows": null,
            "grid_column": null,
            "grid_gap": null,
            "grid_row": null,
            "grid_template_areas": null,
            "grid_template_columns": null,
            "grid_template_rows": null,
            "height": null,
            "justify_content": null,
            "justify_items": null,
            "left": null,
            "margin": null,
            "max_height": null,
            "max_width": null,
            "min_height": null,
            "min_width": null,
            "object_fit": null,
            "object_position": null,
            "order": null,
            "overflow": null,
            "overflow_x": null,
            "overflow_y": null,
            "padding": null,
            "right": null,
            "top": null,
            "visibility": null,
            "width": null
          }
        },
        "4031de35ad824dfaa328d22d82c93eea": {
          "model_module": "@jupyter-widgets/controls",
          "model_name": "DescriptionStyleModel",
          "model_module_version": "1.5.0",
          "state": {
            "_model_module": "@jupyter-widgets/controls",
            "_model_module_version": "1.5.0",
            "_model_name": "DescriptionStyleModel",
            "_view_count": null,
            "_view_module": "@jupyter-widgets/base",
            "_view_module_version": "1.2.0",
            "_view_name": "StyleView",
            "description_width": ""
          }
        },
        "196bac67be2541b8ae2a0aaf3c29e3e0": {
          "model_module": "@jupyter-widgets/controls",
          "model_name": "HBoxModel",
          "model_module_version": "1.5.0",
          "state": {
            "_dom_classes": [],
            "_model_module": "@jupyter-widgets/controls",
            "_model_module_version": "1.5.0",
            "_model_name": "HBoxModel",
            "_view_count": null,
            "_view_module": "@jupyter-widgets/controls",
            "_view_module_version": "1.5.0",
            "_view_name": "HBoxView",
            "box_style": "",
            "children": [
              "IPY_MODEL_e4fc7b1e7bfc4ea7ba516650f20b0e09",
              "IPY_MODEL_2293b1479078426f9621478cdff0a55f",
              "IPY_MODEL_743aa5af2c3e44779129d9937b3a8664"
            ],
            "layout": "IPY_MODEL_09fa0b4f754c40e1846fb6f41bc8b544"
          }
        },
        "e4fc7b1e7bfc4ea7ba516650f20b0e09": {
          "model_module": "@jupyter-widgets/controls",
          "model_name": "HTMLModel",
          "model_module_version": "1.5.0",
          "state": {
            "_dom_classes": [],
            "_model_module": "@jupyter-widgets/controls",
            "_model_module_version": "1.5.0",
            "_model_name": "HTMLModel",
            "_view_count": null,
            "_view_module": "@jupyter-widgets/controls",
            "_view_module_version": "1.5.0",
            "_view_name": "HTMLView",
            "description": "",
            "description_tooltip": null,
            "layout": "IPY_MODEL_fd57ee3c411046439bd9c2ab8cc585f4",
            "placeholder": "​",
            "style": "IPY_MODEL_3af8b024e9134155bab1f57c972342f1",
            "value": "100%"
          }
        },
        "2293b1479078426f9621478cdff0a55f": {
          "model_module": "@jupyter-widgets/controls",
          "model_name": "FloatProgressModel",
          "model_module_version": "1.5.0",
          "state": {
            "_dom_classes": [],
            "_model_module": "@jupyter-widgets/controls",
            "_model_module_version": "1.5.0",
            "_model_name": "FloatProgressModel",
            "_view_count": null,
            "_view_module": "@jupyter-widgets/controls",
            "_view_module_version": "1.5.0",
            "_view_name": "ProgressView",
            "bar_style": "success",
            "description": "",
            "description_tooltip": null,
            "layout": "IPY_MODEL_8cbb35ca1eb54f7682b42ab4a1bf9b2a",
            "max": 5,
            "min": 0,
            "orientation": "horizontal",
            "style": "IPY_MODEL_a5bcc1e15b2a4f399e6deb427ec55002",
            "value": 5
          }
        },
        "743aa5af2c3e44779129d9937b3a8664": {
          "model_module": "@jupyter-widgets/controls",
          "model_name": "HTMLModel",
          "model_module_version": "1.5.0",
          "state": {
            "_dom_classes": [],
            "_model_module": "@jupyter-widgets/controls",
            "_model_module_version": "1.5.0",
            "_model_name": "HTMLModel",
            "_view_count": null,
            "_view_module": "@jupyter-widgets/controls",
            "_view_module_version": "1.5.0",
            "_view_name": "HTMLView",
            "description": "",
            "description_tooltip": null,
            "layout": "IPY_MODEL_c3def36f89184e0dba0c8d7dc6554744",
            "placeholder": "​",
            "style": "IPY_MODEL_11e0df9c61fa4aa0837798db0e834e22",
            "value": " 5/5 [56:03&lt;00:00, 672.77s/it]"
          }
        },
        "09fa0b4f754c40e1846fb6f41bc8b544": {
          "model_module": "@jupyter-widgets/base",
          "model_name": "LayoutModel",
          "model_module_version": "1.2.0",
          "state": {
            "_model_module": "@jupyter-widgets/base",
            "_model_module_version": "1.2.0",
            "_model_name": "LayoutModel",
            "_view_count": null,
            "_view_module": "@jupyter-widgets/base",
            "_view_module_version": "1.2.0",
            "_view_name": "LayoutView",
            "align_content": null,
            "align_items": null,
            "align_self": null,
            "border": null,
            "bottom": null,
            "display": null,
            "flex": null,
            "flex_flow": null,
            "grid_area": null,
            "grid_auto_columns": null,
            "grid_auto_flow": null,
            "grid_auto_rows": null,
            "grid_column": null,
            "grid_gap": null,
            "grid_row": null,
            "grid_template_areas": null,
            "grid_template_columns": null,
            "grid_template_rows": null,
            "height": null,
            "justify_content": null,
            "justify_items": null,
            "left": null,
            "margin": null,
            "max_height": null,
            "max_width": null,
            "min_height": null,
            "min_width": null,
            "object_fit": null,
            "object_position": null,
            "order": null,
            "overflow": null,
            "overflow_x": null,
            "overflow_y": null,
            "padding": null,
            "right": null,
            "top": null,
            "visibility": null,
            "width": null
          }
        },
        "fd57ee3c411046439bd9c2ab8cc585f4": {
          "model_module": "@jupyter-widgets/base",
          "model_name": "LayoutModel",
          "model_module_version": "1.2.0",
          "state": {
            "_model_module": "@jupyter-widgets/base",
            "_model_module_version": "1.2.0",
            "_model_name": "LayoutModel",
            "_view_count": null,
            "_view_module": "@jupyter-widgets/base",
            "_view_module_version": "1.2.0",
            "_view_name": "LayoutView",
            "align_content": null,
            "align_items": null,
            "align_self": null,
            "border": null,
            "bottom": null,
            "display": null,
            "flex": null,
            "flex_flow": null,
            "grid_area": null,
            "grid_auto_columns": null,
            "grid_auto_flow": null,
            "grid_auto_rows": null,
            "grid_column": null,
            "grid_gap": null,
            "grid_row": null,
            "grid_template_areas": null,
            "grid_template_columns": null,
            "grid_template_rows": null,
            "height": null,
            "justify_content": null,
            "justify_items": null,
            "left": null,
            "margin": null,
            "max_height": null,
            "max_width": null,
            "min_height": null,
            "min_width": null,
            "object_fit": null,
            "object_position": null,
            "order": null,
            "overflow": null,
            "overflow_x": null,
            "overflow_y": null,
            "padding": null,
            "right": null,
            "top": null,
            "visibility": null,
            "width": null
          }
        },
        "3af8b024e9134155bab1f57c972342f1": {
          "model_module": "@jupyter-widgets/controls",
          "model_name": "DescriptionStyleModel",
          "model_module_version": "1.5.0",
          "state": {
            "_model_module": "@jupyter-widgets/controls",
            "_model_module_version": "1.5.0",
            "_model_name": "DescriptionStyleModel",
            "_view_count": null,
            "_view_module": "@jupyter-widgets/base",
            "_view_module_version": "1.2.0",
            "_view_name": "StyleView",
            "description_width": ""
          }
        },
        "8cbb35ca1eb54f7682b42ab4a1bf9b2a": {
          "model_module": "@jupyter-widgets/base",
          "model_name": "LayoutModel",
          "model_module_version": "1.2.0",
          "state": {
            "_model_module": "@jupyter-widgets/base",
            "_model_module_version": "1.2.0",
            "_model_name": "LayoutModel",
            "_view_count": null,
            "_view_module": "@jupyter-widgets/base",
            "_view_module_version": "1.2.0",
            "_view_name": "LayoutView",
            "align_content": null,
            "align_items": null,
            "align_self": null,
            "border": null,
            "bottom": null,
            "display": null,
            "flex": null,
            "flex_flow": null,
            "grid_area": null,
            "grid_auto_columns": null,
            "grid_auto_flow": null,
            "grid_auto_rows": null,
            "grid_column": null,
            "grid_gap": null,
            "grid_row": null,
            "grid_template_areas": null,
            "grid_template_columns": null,
            "grid_template_rows": null,
            "height": null,
            "justify_content": null,
            "justify_items": null,
            "left": null,
            "margin": null,
            "max_height": null,
            "max_width": null,
            "min_height": null,
            "min_width": null,
            "object_fit": null,
            "object_position": null,
            "order": null,
            "overflow": null,
            "overflow_x": null,
            "overflow_y": null,
            "padding": null,
            "right": null,
            "top": null,
            "visibility": null,
            "width": null
          }
        },
        "a5bcc1e15b2a4f399e6deb427ec55002": {
          "model_module": "@jupyter-widgets/controls",
          "model_name": "ProgressStyleModel",
          "model_module_version": "1.5.0",
          "state": {
            "_model_module": "@jupyter-widgets/controls",
            "_model_module_version": "1.5.0",
            "_model_name": "ProgressStyleModel",
            "_view_count": null,
            "_view_module": "@jupyter-widgets/base",
            "_view_module_version": "1.2.0",
            "_view_name": "StyleView",
            "bar_color": null,
            "description_width": ""
          }
        },
        "c3def36f89184e0dba0c8d7dc6554744": {
          "model_module": "@jupyter-widgets/base",
          "model_name": "LayoutModel",
          "model_module_version": "1.2.0",
          "state": {
            "_model_module": "@jupyter-widgets/base",
            "_model_module_version": "1.2.0",
            "_model_name": "LayoutModel",
            "_view_count": null,
            "_view_module": "@jupyter-widgets/base",
            "_view_module_version": "1.2.0",
            "_view_name": "LayoutView",
            "align_content": null,
            "align_items": null,
            "align_self": null,
            "border": null,
            "bottom": null,
            "display": null,
            "flex": null,
            "flex_flow": null,
            "grid_area": null,
            "grid_auto_columns": null,
            "grid_auto_flow": null,
            "grid_auto_rows": null,
            "grid_column": null,
            "grid_gap": null,
            "grid_row": null,
            "grid_template_areas": null,
            "grid_template_columns": null,
            "grid_template_rows": null,
            "height": null,
            "justify_content": null,
            "justify_items": null,
            "left": null,
            "margin": null,
            "max_height": null,
            "max_width": null,
            "min_height": null,
            "min_width": null,
            "object_fit": null,
            "object_position": null,
            "order": null,
            "overflow": null,
            "overflow_x": null,
            "overflow_y": null,
            "padding": null,
            "right": null,
            "top": null,
            "visibility": null,
            "width": null
          }
        },
        "11e0df9c61fa4aa0837798db0e834e22": {
          "model_module": "@jupyter-widgets/controls",
          "model_name": "DescriptionStyleModel",
          "model_module_version": "1.5.0",
          "state": {
            "_model_module": "@jupyter-widgets/controls",
            "_model_module_version": "1.5.0",
            "_model_name": "DescriptionStyleModel",
            "_view_count": null,
            "_view_module": "@jupyter-widgets/base",
            "_view_module_version": "1.2.0",
            "_view_name": "StyleView",
            "description_width": ""
          }
        },
        "6997bc0e9b8d476896ec6700e9fb5459": {
          "model_module": "@jupyter-widgets/controls",
          "model_name": "HBoxModel",
          "model_module_version": "1.5.0",
          "state": {
            "_dom_classes": [],
            "_model_module": "@jupyter-widgets/controls",
            "_model_module_version": "1.5.0",
            "_model_name": "HBoxModel",
            "_view_count": null,
            "_view_module": "@jupyter-widgets/controls",
            "_view_module_version": "1.5.0",
            "_view_name": "HBoxView",
            "box_style": "",
            "children": [
              "IPY_MODEL_2081ee9f7ce0427a908ab38d7b3a7397",
              "IPY_MODEL_f0bd9e6c068f4547a253aeba4ddacb78",
              "IPY_MODEL_e7453ac5905d47b68645e35c51473689"
            ],
            "layout": "IPY_MODEL_b8071293f65c4e1e8149711b2f009ed0"
          }
        },
        "2081ee9f7ce0427a908ab38d7b3a7397": {
          "model_module": "@jupyter-widgets/controls",
          "model_name": "HTMLModel",
          "model_module_version": "1.5.0",
          "state": {
            "_dom_classes": [],
            "_model_module": "@jupyter-widgets/controls",
            "_model_module_version": "1.5.0",
            "_model_name": "HTMLModel",
            "_view_count": null,
            "_view_module": "@jupyter-widgets/controls",
            "_view_module_version": "1.5.0",
            "_view_name": "HTMLView",
            "description": "",
            "description_tooltip": null,
            "layout": "IPY_MODEL_6cea172edb724d3c94d2676f106e6752",
            "placeholder": "​",
            "style": "IPY_MODEL_f883f47543004eb39704e09662633937",
            "value": "Epoch 1: 100%"
          }
        },
        "f0bd9e6c068f4547a253aeba4ddacb78": {
          "model_module": "@jupyter-widgets/controls",
          "model_name": "FloatProgressModel",
          "model_module_version": "1.5.0",
          "state": {
            "_dom_classes": [],
            "_model_module": "@jupyter-widgets/controls",
            "_model_module_version": "1.5.0",
            "_model_name": "FloatProgressModel",
            "_view_count": null,
            "_view_module": "@jupyter-widgets/controls",
            "_view_module_version": "1.5.0",
            "_view_name": "ProgressView",
            "bar_style": "",
            "description": "",
            "description_tooltip": null,
            "layout": "IPY_MODEL_39ef0d7b197e470aa364d18c64de81c1",
            "max": 3406,
            "min": 0,
            "orientation": "horizontal",
            "style": "IPY_MODEL_14ac65d04e1a48b382216ed26e3a7ab4",
            "value": 3406
          }
        },
        "e7453ac5905d47b68645e35c51473689": {
          "model_module": "@jupyter-widgets/controls",
          "model_name": "HTMLModel",
          "model_module_version": "1.5.0",
          "state": {
            "_dom_classes": [],
            "_model_module": "@jupyter-widgets/controls",
            "_model_module_version": "1.5.0",
            "_model_name": "HTMLModel",
            "_view_count": null,
            "_view_module": "@jupyter-widgets/controls",
            "_view_module_version": "1.5.0",
            "_view_name": "HTMLView",
            "description": "",
            "description_tooltip": null,
            "layout": "IPY_MODEL_7a740a90e7974a4eb4821a1d56e85159",
            "placeholder": "​",
            "style": "IPY_MODEL_8fbc3760058149d99b5fd03d0bcfe658",
            "value": " 3406/3406 [10:27&lt;00:00,  5.80it/s, training_loss=0.741]"
          }
        },
        "b8071293f65c4e1e8149711b2f009ed0": {
          "model_module": "@jupyter-widgets/base",
          "model_name": "LayoutModel",
          "model_module_version": "1.2.0",
          "state": {
            "_model_module": "@jupyter-widgets/base",
            "_model_module_version": "1.2.0",
            "_model_name": "LayoutModel",
            "_view_count": null,
            "_view_module": "@jupyter-widgets/base",
            "_view_module_version": "1.2.0",
            "_view_name": "LayoutView",
            "align_content": null,
            "align_items": null,
            "align_self": null,
            "border": null,
            "bottom": null,
            "display": null,
            "flex": null,
            "flex_flow": null,
            "grid_area": null,
            "grid_auto_columns": null,
            "grid_auto_flow": null,
            "grid_auto_rows": null,
            "grid_column": null,
            "grid_gap": null,
            "grid_row": null,
            "grid_template_areas": null,
            "grid_template_columns": null,
            "grid_template_rows": null,
            "height": null,
            "justify_content": null,
            "justify_items": null,
            "left": null,
            "margin": null,
            "max_height": null,
            "max_width": null,
            "min_height": null,
            "min_width": null,
            "object_fit": null,
            "object_position": null,
            "order": null,
            "overflow": null,
            "overflow_x": null,
            "overflow_y": null,
            "padding": null,
            "right": null,
            "top": null,
            "visibility": null,
            "width": null
          }
        },
        "6cea172edb724d3c94d2676f106e6752": {
          "model_module": "@jupyter-widgets/base",
          "model_name": "LayoutModel",
          "model_module_version": "1.2.0",
          "state": {
            "_model_module": "@jupyter-widgets/base",
            "_model_module_version": "1.2.0",
            "_model_name": "LayoutModel",
            "_view_count": null,
            "_view_module": "@jupyter-widgets/base",
            "_view_module_version": "1.2.0",
            "_view_name": "LayoutView",
            "align_content": null,
            "align_items": null,
            "align_self": null,
            "border": null,
            "bottom": null,
            "display": null,
            "flex": null,
            "flex_flow": null,
            "grid_area": null,
            "grid_auto_columns": null,
            "grid_auto_flow": null,
            "grid_auto_rows": null,
            "grid_column": null,
            "grid_gap": null,
            "grid_row": null,
            "grid_template_areas": null,
            "grid_template_columns": null,
            "grid_template_rows": null,
            "height": null,
            "justify_content": null,
            "justify_items": null,
            "left": null,
            "margin": null,
            "max_height": null,
            "max_width": null,
            "min_height": null,
            "min_width": null,
            "object_fit": null,
            "object_position": null,
            "order": null,
            "overflow": null,
            "overflow_x": null,
            "overflow_y": null,
            "padding": null,
            "right": null,
            "top": null,
            "visibility": null,
            "width": null
          }
        },
        "f883f47543004eb39704e09662633937": {
          "model_module": "@jupyter-widgets/controls",
          "model_name": "DescriptionStyleModel",
          "model_module_version": "1.5.0",
          "state": {
            "_model_module": "@jupyter-widgets/controls",
            "_model_module_version": "1.5.0",
            "_model_name": "DescriptionStyleModel",
            "_view_count": null,
            "_view_module": "@jupyter-widgets/base",
            "_view_module_version": "1.2.0",
            "_view_name": "StyleView",
            "description_width": ""
          }
        },
        "39ef0d7b197e470aa364d18c64de81c1": {
          "model_module": "@jupyter-widgets/base",
          "model_name": "LayoutModel",
          "model_module_version": "1.2.0",
          "state": {
            "_model_module": "@jupyter-widgets/base",
            "_model_module_version": "1.2.0",
            "_model_name": "LayoutModel",
            "_view_count": null,
            "_view_module": "@jupyter-widgets/base",
            "_view_module_version": "1.2.0",
            "_view_name": "LayoutView",
            "align_content": null,
            "align_items": null,
            "align_self": null,
            "border": null,
            "bottom": null,
            "display": null,
            "flex": null,
            "flex_flow": null,
            "grid_area": null,
            "grid_auto_columns": null,
            "grid_auto_flow": null,
            "grid_auto_rows": null,
            "grid_column": null,
            "grid_gap": null,
            "grid_row": null,
            "grid_template_areas": null,
            "grid_template_columns": null,
            "grid_template_rows": null,
            "height": null,
            "justify_content": null,
            "justify_items": null,
            "left": null,
            "margin": null,
            "max_height": null,
            "max_width": null,
            "min_height": null,
            "min_width": null,
            "object_fit": null,
            "object_position": null,
            "order": null,
            "overflow": null,
            "overflow_x": null,
            "overflow_y": null,
            "padding": null,
            "right": null,
            "top": null,
            "visibility": null,
            "width": null
          }
        },
        "14ac65d04e1a48b382216ed26e3a7ab4": {
          "model_module": "@jupyter-widgets/controls",
          "model_name": "ProgressStyleModel",
          "model_module_version": "1.5.0",
          "state": {
            "_model_module": "@jupyter-widgets/controls",
            "_model_module_version": "1.5.0",
            "_model_name": "ProgressStyleModel",
            "_view_count": null,
            "_view_module": "@jupyter-widgets/base",
            "_view_module_version": "1.2.0",
            "_view_name": "StyleView",
            "bar_color": null,
            "description_width": ""
          }
        },
        "7a740a90e7974a4eb4821a1d56e85159": {
          "model_module": "@jupyter-widgets/base",
          "model_name": "LayoutModel",
          "model_module_version": "1.2.0",
          "state": {
            "_model_module": "@jupyter-widgets/base",
            "_model_module_version": "1.2.0",
            "_model_name": "LayoutModel",
            "_view_count": null,
            "_view_module": "@jupyter-widgets/base",
            "_view_module_version": "1.2.0",
            "_view_name": "LayoutView",
            "align_content": null,
            "align_items": null,
            "align_self": null,
            "border": null,
            "bottom": null,
            "display": null,
            "flex": null,
            "flex_flow": null,
            "grid_area": null,
            "grid_auto_columns": null,
            "grid_auto_flow": null,
            "grid_auto_rows": null,
            "grid_column": null,
            "grid_gap": null,
            "grid_row": null,
            "grid_template_areas": null,
            "grid_template_columns": null,
            "grid_template_rows": null,
            "height": null,
            "justify_content": null,
            "justify_items": null,
            "left": null,
            "margin": null,
            "max_height": null,
            "max_width": null,
            "min_height": null,
            "min_width": null,
            "object_fit": null,
            "object_position": null,
            "order": null,
            "overflow": null,
            "overflow_x": null,
            "overflow_y": null,
            "padding": null,
            "right": null,
            "top": null,
            "visibility": null,
            "width": null
          }
        },
        "8fbc3760058149d99b5fd03d0bcfe658": {
          "model_module": "@jupyter-widgets/controls",
          "model_name": "DescriptionStyleModel",
          "model_module_version": "1.5.0",
          "state": {
            "_model_module": "@jupyter-widgets/controls",
            "_model_module_version": "1.5.0",
            "_model_name": "DescriptionStyleModel",
            "_view_count": null,
            "_view_module": "@jupyter-widgets/base",
            "_view_module_version": "1.2.0",
            "_view_name": "StyleView",
            "description_width": ""
          }
        },
        "16ea8af3e4e24c019700b9b4bf6ee556": {
          "model_module": "@jupyter-widgets/controls",
          "model_name": "HBoxModel",
          "model_module_version": "1.5.0",
          "state": {
            "_dom_classes": [],
            "_model_module": "@jupyter-widgets/controls",
            "_model_module_version": "1.5.0",
            "_model_name": "HBoxModel",
            "_view_count": null,
            "_view_module": "@jupyter-widgets/controls",
            "_view_module_version": "1.5.0",
            "_view_name": "HBoxView",
            "box_style": "",
            "children": [
              "IPY_MODEL_08fef03f5a014befaf7929cb9caa4738",
              "IPY_MODEL_c6634f00e3b34eceafcb0f3c4d464cb9",
              "IPY_MODEL_116253b53e274f3ab910e4e3c918d0df"
            ],
            "layout": "IPY_MODEL_4dc203ce850344f58cd3c51cfdfa9729"
          }
        },
        "08fef03f5a014befaf7929cb9caa4738": {
          "model_module": "@jupyter-widgets/controls",
          "model_name": "HTMLModel",
          "model_module_version": "1.5.0",
          "state": {
            "_dom_classes": [],
            "_model_module": "@jupyter-widgets/controls",
            "_model_module_version": "1.5.0",
            "_model_name": "HTMLModel",
            "_view_count": null,
            "_view_module": "@jupyter-widgets/controls",
            "_view_module_version": "1.5.0",
            "_view_name": "HTMLView",
            "description": "",
            "description_tooltip": null,
            "layout": "IPY_MODEL_4d89cda21dac46dcb53748bbe080adf5",
            "placeholder": "​",
            "style": "IPY_MODEL_9259ab229f7f406fa1654a6328c8b74d",
            "value": "Epoch 2: 100%"
          }
        },
        "c6634f00e3b34eceafcb0f3c4d464cb9": {
          "model_module": "@jupyter-widgets/controls",
          "model_name": "FloatProgressModel",
          "model_module_version": "1.5.0",
          "state": {
            "_dom_classes": [],
            "_model_module": "@jupyter-widgets/controls",
            "_model_module_version": "1.5.0",
            "_model_name": "FloatProgressModel",
            "_view_count": null,
            "_view_module": "@jupyter-widgets/controls",
            "_view_module_version": "1.5.0",
            "_view_name": "ProgressView",
            "bar_style": "",
            "description": "",
            "description_tooltip": null,
            "layout": "IPY_MODEL_9b1381e46e664a0fa373d60c48726ff9",
            "max": 3406,
            "min": 0,
            "orientation": "horizontal",
            "style": "IPY_MODEL_8426c5e8247841c5b71a4ce835ca91b0",
            "value": 3406
          }
        },
        "116253b53e274f3ab910e4e3c918d0df": {
          "model_module": "@jupyter-widgets/controls",
          "model_name": "HTMLModel",
          "model_module_version": "1.5.0",
          "state": {
            "_dom_classes": [],
            "_model_module": "@jupyter-widgets/controls",
            "_model_module_version": "1.5.0",
            "_model_name": "HTMLModel",
            "_view_count": null,
            "_view_module": "@jupyter-widgets/controls",
            "_view_module_version": "1.5.0",
            "_view_name": "HTMLView",
            "description": "",
            "description_tooltip": null,
            "layout": "IPY_MODEL_a0b7418764f746d88069ee1b092c1ed1",
            "placeholder": "​",
            "style": "IPY_MODEL_12d42c215b7345638de74303f34fa156",
            "value": " 3406/3406 [10:32&lt;00:00,  5.77it/s, training_loss=0.039]"
          }
        },
        "4dc203ce850344f58cd3c51cfdfa9729": {
          "model_module": "@jupyter-widgets/base",
          "model_name": "LayoutModel",
          "model_module_version": "1.2.0",
          "state": {
            "_model_module": "@jupyter-widgets/base",
            "_model_module_version": "1.2.0",
            "_model_name": "LayoutModel",
            "_view_count": null,
            "_view_module": "@jupyter-widgets/base",
            "_view_module_version": "1.2.0",
            "_view_name": "LayoutView",
            "align_content": null,
            "align_items": null,
            "align_self": null,
            "border": null,
            "bottom": null,
            "display": null,
            "flex": null,
            "flex_flow": null,
            "grid_area": null,
            "grid_auto_columns": null,
            "grid_auto_flow": null,
            "grid_auto_rows": null,
            "grid_column": null,
            "grid_gap": null,
            "grid_row": null,
            "grid_template_areas": null,
            "grid_template_columns": null,
            "grid_template_rows": null,
            "height": null,
            "justify_content": null,
            "justify_items": null,
            "left": null,
            "margin": null,
            "max_height": null,
            "max_width": null,
            "min_height": null,
            "min_width": null,
            "object_fit": null,
            "object_position": null,
            "order": null,
            "overflow": null,
            "overflow_x": null,
            "overflow_y": null,
            "padding": null,
            "right": null,
            "top": null,
            "visibility": null,
            "width": null
          }
        },
        "4d89cda21dac46dcb53748bbe080adf5": {
          "model_module": "@jupyter-widgets/base",
          "model_name": "LayoutModel",
          "model_module_version": "1.2.0",
          "state": {
            "_model_module": "@jupyter-widgets/base",
            "_model_module_version": "1.2.0",
            "_model_name": "LayoutModel",
            "_view_count": null,
            "_view_module": "@jupyter-widgets/base",
            "_view_module_version": "1.2.0",
            "_view_name": "LayoutView",
            "align_content": null,
            "align_items": null,
            "align_self": null,
            "border": null,
            "bottom": null,
            "display": null,
            "flex": null,
            "flex_flow": null,
            "grid_area": null,
            "grid_auto_columns": null,
            "grid_auto_flow": null,
            "grid_auto_rows": null,
            "grid_column": null,
            "grid_gap": null,
            "grid_row": null,
            "grid_template_areas": null,
            "grid_template_columns": null,
            "grid_template_rows": null,
            "height": null,
            "justify_content": null,
            "justify_items": null,
            "left": null,
            "margin": null,
            "max_height": null,
            "max_width": null,
            "min_height": null,
            "min_width": null,
            "object_fit": null,
            "object_position": null,
            "order": null,
            "overflow": null,
            "overflow_x": null,
            "overflow_y": null,
            "padding": null,
            "right": null,
            "top": null,
            "visibility": null,
            "width": null
          }
        },
        "9259ab229f7f406fa1654a6328c8b74d": {
          "model_module": "@jupyter-widgets/controls",
          "model_name": "DescriptionStyleModel",
          "model_module_version": "1.5.0",
          "state": {
            "_model_module": "@jupyter-widgets/controls",
            "_model_module_version": "1.5.0",
            "_model_name": "DescriptionStyleModel",
            "_view_count": null,
            "_view_module": "@jupyter-widgets/base",
            "_view_module_version": "1.2.0",
            "_view_name": "StyleView",
            "description_width": ""
          }
        },
        "9b1381e46e664a0fa373d60c48726ff9": {
          "model_module": "@jupyter-widgets/base",
          "model_name": "LayoutModel",
          "model_module_version": "1.2.0",
          "state": {
            "_model_module": "@jupyter-widgets/base",
            "_model_module_version": "1.2.0",
            "_model_name": "LayoutModel",
            "_view_count": null,
            "_view_module": "@jupyter-widgets/base",
            "_view_module_version": "1.2.0",
            "_view_name": "LayoutView",
            "align_content": null,
            "align_items": null,
            "align_self": null,
            "border": null,
            "bottom": null,
            "display": null,
            "flex": null,
            "flex_flow": null,
            "grid_area": null,
            "grid_auto_columns": null,
            "grid_auto_flow": null,
            "grid_auto_rows": null,
            "grid_column": null,
            "grid_gap": null,
            "grid_row": null,
            "grid_template_areas": null,
            "grid_template_columns": null,
            "grid_template_rows": null,
            "height": null,
            "justify_content": null,
            "justify_items": null,
            "left": null,
            "margin": null,
            "max_height": null,
            "max_width": null,
            "min_height": null,
            "min_width": null,
            "object_fit": null,
            "object_position": null,
            "order": null,
            "overflow": null,
            "overflow_x": null,
            "overflow_y": null,
            "padding": null,
            "right": null,
            "top": null,
            "visibility": null,
            "width": null
          }
        },
        "8426c5e8247841c5b71a4ce835ca91b0": {
          "model_module": "@jupyter-widgets/controls",
          "model_name": "ProgressStyleModel",
          "model_module_version": "1.5.0",
          "state": {
            "_model_module": "@jupyter-widgets/controls",
            "_model_module_version": "1.5.0",
            "_model_name": "ProgressStyleModel",
            "_view_count": null,
            "_view_module": "@jupyter-widgets/base",
            "_view_module_version": "1.2.0",
            "_view_name": "StyleView",
            "bar_color": null,
            "description_width": ""
          }
        },
        "a0b7418764f746d88069ee1b092c1ed1": {
          "model_module": "@jupyter-widgets/base",
          "model_name": "LayoutModel",
          "model_module_version": "1.2.0",
          "state": {
            "_model_module": "@jupyter-widgets/base",
            "_model_module_version": "1.2.0",
            "_model_name": "LayoutModel",
            "_view_count": null,
            "_view_module": "@jupyter-widgets/base",
            "_view_module_version": "1.2.0",
            "_view_name": "LayoutView",
            "align_content": null,
            "align_items": null,
            "align_self": null,
            "border": null,
            "bottom": null,
            "display": null,
            "flex": null,
            "flex_flow": null,
            "grid_area": null,
            "grid_auto_columns": null,
            "grid_auto_flow": null,
            "grid_auto_rows": null,
            "grid_column": null,
            "grid_gap": null,
            "grid_row": null,
            "grid_template_areas": null,
            "grid_template_columns": null,
            "grid_template_rows": null,
            "height": null,
            "justify_content": null,
            "justify_items": null,
            "left": null,
            "margin": null,
            "max_height": null,
            "max_width": null,
            "min_height": null,
            "min_width": null,
            "object_fit": null,
            "object_position": null,
            "order": null,
            "overflow": null,
            "overflow_x": null,
            "overflow_y": null,
            "padding": null,
            "right": null,
            "top": null,
            "visibility": null,
            "width": null
          }
        },
        "12d42c215b7345638de74303f34fa156": {
          "model_module": "@jupyter-widgets/controls",
          "model_name": "DescriptionStyleModel",
          "model_module_version": "1.5.0",
          "state": {
            "_model_module": "@jupyter-widgets/controls",
            "_model_module_version": "1.5.0",
            "_model_name": "DescriptionStyleModel",
            "_view_count": null,
            "_view_module": "@jupyter-widgets/base",
            "_view_module_version": "1.2.0",
            "_view_name": "StyleView",
            "description_width": ""
          }
        },
        "60ff826562674f679f42d13cd73f2184": {
          "model_module": "@jupyter-widgets/controls",
          "model_name": "HBoxModel",
          "model_module_version": "1.5.0",
          "state": {
            "_dom_classes": [],
            "_model_module": "@jupyter-widgets/controls",
            "_model_module_version": "1.5.0",
            "_model_name": "HBoxModel",
            "_view_count": null,
            "_view_module": "@jupyter-widgets/controls",
            "_view_module_version": "1.5.0",
            "_view_name": "HBoxView",
            "box_style": "",
            "children": [
              "IPY_MODEL_0ece55c0d4de41289dc800f1c9cf74ce",
              "IPY_MODEL_45c154f21c8e4427b46bb0ba4059af3e",
              "IPY_MODEL_43699ace6d1a44829065a67c72a105c1"
            ],
            "layout": "IPY_MODEL_0c37571a30ed45c9bb6ae0d58e6db8e5"
          }
        },
        "0ece55c0d4de41289dc800f1c9cf74ce": {
          "model_module": "@jupyter-widgets/controls",
          "model_name": "HTMLModel",
          "model_module_version": "1.5.0",
          "state": {
            "_dom_classes": [],
            "_model_module": "@jupyter-widgets/controls",
            "_model_module_version": "1.5.0",
            "_model_name": "HTMLModel",
            "_view_count": null,
            "_view_module": "@jupyter-widgets/controls",
            "_view_module_version": "1.5.0",
            "_view_name": "HTMLView",
            "description": "",
            "description_tooltip": null,
            "layout": "IPY_MODEL_6806d690e5d743849e9b2b587629e884",
            "placeholder": "​",
            "style": "IPY_MODEL_c9ffee1b90f243868a6f8fa91a9eaf9e",
            "value": "Epoch 3: 100%"
          }
        },
        "45c154f21c8e4427b46bb0ba4059af3e": {
          "model_module": "@jupyter-widgets/controls",
          "model_name": "FloatProgressModel",
          "model_module_version": "1.5.0",
          "state": {
            "_dom_classes": [],
            "_model_module": "@jupyter-widgets/controls",
            "_model_module_version": "1.5.0",
            "_model_name": "FloatProgressModel",
            "_view_count": null,
            "_view_module": "@jupyter-widgets/controls",
            "_view_module_version": "1.5.0",
            "_view_name": "ProgressView",
            "bar_style": "",
            "description": "",
            "description_tooltip": null,
            "layout": "IPY_MODEL_78e3fd17009b4cabb900ec9d27f8bea1",
            "max": 3406,
            "min": 0,
            "orientation": "horizontal",
            "style": "IPY_MODEL_063870025e084983a949b166f7f61457",
            "value": 3406
          }
        },
        "43699ace6d1a44829065a67c72a105c1": {
          "model_module": "@jupyter-widgets/controls",
          "model_name": "HTMLModel",
          "model_module_version": "1.5.0",
          "state": {
            "_dom_classes": [],
            "_model_module": "@jupyter-widgets/controls",
            "_model_module_version": "1.5.0",
            "_model_name": "HTMLModel",
            "_view_count": null,
            "_view_module": "@jupyter-widgets/controls",
            "_view_module_version": "1.5.0",
            "_view_name": "HTMLView",
            "description": "",
            "description_tooltip": null,
            "layout": "IPY_MODEL_e4bab221543846249fbda5805f9590d2",
            "placeholder": "​",
            "style": "IPY_MODEL_67422b2f95c049fdbb9bb04efd769988",
            "value": " 3406/3406 [10:33&lt;00:00,  5.79it/s, training_loss=0.019]"
          }
        },
        "0c37571a30ed45c9bb6ae0d58e6db8e5": {
          "model_module": "@jupyter-widgets/base",
          "model_name": "LayoutModel",
          "model_module_version": "1.2.0",
          "state": {
            "_model_module": "@jupyter-widgets/base",
            "_model_module_version": "1.2.0",
            "_model_name": "LayoutModel",
            "_view_count": null,
            "_view_module": "@jupyter-widgets/base",
            "_view_module_version": "1.2.0",
            "_view_name": "LayoutView",
            "align_content": null,
            "align_items": null,
            "align_self": null,
            "border": null,
            "bottom": null,
            "display": null,
            "flex": null,
            "flex_flow": null,
            "grid_area": null,
            "grid_auto_columns": null,
            "grid_auto_flow": null,
            "grid_auto_rows": null,
            "grid_column": null,
            "grid_gap": null,
            "grid_row": null,
            "grid_template_areas": null,
            "grid_template_columns": null,
            "grid_template_rows": null,
            "height": null,
            "justify_content": null,
            "justify_items": null,
            "left": null,
            "margin": null,
            "max_height": null,
            "max_width": null,
            "min_height": null,
            "min_width": null,
            "object_fit": null,
            "object_position": null,
            "order": null,
            "overflow": null,
            "overflow_x": null,
            "overflow_y": null,
            "padding": null,
            "right": null,
            "top": null,
            "visibility": null,
            "width": null
          }
        },
        "6806d690e5d743849e9b2b587629e884": {
          "model_module": "@jupyter-widgets/base",
          "model_name": "LayoutModel",
          "model_module_version": "1.2.0",
          "state": {
            "_model_module": "@jupyter-widgets/base",
            "_model_module_version": "1.2.0",
            "_model_name": "LayoutModel",
            "_view_count": null,
            "_view_module": "@jupyter-widgets/base",
            "_view_module_version": "1.2.0",
            "_view_name": "LayoutView",
            "align_content": null,
            "align_items": null,
            "align_self": null,
            "border": null,
            "bottom": null,
            "display": null,
            "flex": null,
            "flex_flow": null,
            "grid_area": null,
            "grid_auto_columns": null,
            "grid_auto_flow": null,
            "grid_auto_rows": null,
            "grid_column": null,
            "grid_gap": null,
            "grid_row": null,
            "grid_template_areas": null,
            "grid_template_columns": null,
            "grid_template_rows": null,
            "height": null,
            "justify_content": null,
            "justify_items": null,
            "left": null,
            "margin": null,
            "max_height": null,
            "max_width": null,
            "min_height": null,
            "min_width": null,
            "object_fit": null,
            "object_position": null,
            "order": null,
            "overflow": null,
            "overflow_x": null,
            "overflow_y": null,
            "padding": null,
            "right": null,
            "top": null,
            "visibility": null,
            "width": null
          }
        },
        "c9ffee1b90f243868a6f8fa91a9eaf9e": {
          "model_module": "@jupyter-widgets/controls",
          "model_name": "DescriptionStyleModel",
          "model_module_version": "1.5.0",
          "state": {
            "_model_module": "@jupyter-widgets/controls",
            "_model_module_version": "1.5.0",
            "_model_name": "DescriptionStyleModel",
            "_view_count": null,
            "_view_module": "@jupyter-widgets/base",
            "_view_module_version": "1.2.0",
            "_view_name": "StyleView",
            "description_width": ""
          }
        },
        "78e3fd17009b4cabb900ec9d27f8bea1": {
          "model_module": "@jupyter-widgets/base",
          "model_name": "LayoutModel",
          "model_module_version": "1.2.0",
          "state": {
            "_model_module": "@jupyter-widgets/base",
            "_model_module_version": "1.2.0",
            "_model_name": "LayoutModel",
            "_view_count": null,
            "_view_module": "@jupyter-widgets/base",
            "_view_module_version": "1.2.0",
            "_view_name": "LayoutView",
            "align_content": null,
            "align_items": null,
            "align_self": null,
            "border": null,
            "bottom": null,
            "display": null,
            "flex": null,
            "flex_flow": null,
            "grid_area": null,
            "grid_auto_columns": null,
            "grid_auto_flow": null,
            "grid_auto_rows": null,
            "grid_column": null,
            "grid_gap": null,
            "grid_row": null,
            "grid_template_areas": null,
            "grid_template_columns": null,
            "grid_template_rows": null,
            "height": null,
            "justify_content": null,
            "justify_items": null,
            "left": null,
            "margin": null,
            "max_height": null,
            "max_width": null,
            "min_height": null,
            "min_width": null,
            "object_fit": null,
            "object_position": null,
            "order": null,
            "overflow": null,
            "overflow_x": null,
            "overflow_y": null,
            "padding": null,
            "right": null,
            "top": null,
            "visibility": null,
            "width": null
          }
        },
        "063870025e084983a949b166f7f61457": {
          "model_module": "@jupyter-widgets/controls",
          "model_name": "ProgressStyleModel",
          "model_module_version": "1.5.0",
          "state": {
            "_model_module": "@jupyter-widgets/controls",
            "_model_module_version": "1.5.0",
            "_model_name": "ProgressStyleModel",
            "_view_count": null,
            "_view_module": "@jupyter-widgets/base",
            "_view_module_version": "1.2.0",
            "_view_name": "StyleView",
            "bar_color": null,
            "description_width": ""
          }
        },
        "e4bab221543846249fbda5805f9590d2": {
          "model_module": "@jupyter-widgets/base",
          "model_name": "LayoutModel",
          "model_module_version": "1.2.0",
          "state": {
            "_model_module": "@jupyter-widgets/base",
            "_model_module_version": "1.2.0",
            "_model_name": "LayoutModel",
            "_view_count": null,
            "_view_module": "@jupyter-widgets/base",
            "_view_module_version": "1.2.0",
            "_view_name": "LayoutView",
            "align_content": null,
            "align_items": null,
            "align_self": null,
            "border": null,
            "bottom": null,
            "display": null,
            "flex": null,
            "flex_flow": null,
            "grid_area": null,
            "grid_auto_columns": null,
            "grid_auto_flow": null,
            "grid_auto_rows": null,
            "grid_column": null,
            "grid_gap": null,
            "grid_row": null,
            "grid_template_areas": null,
            "grid_template_columns": null,
            "grid_template_rows": null,
            "height": null,
            "justify_content": null,
            "justify_items": null,
            "left": null,
            "margin": null,
            "max_height": null,
            "max_width": null,
            "min_height": null,
            "min_width": null,
            "object_fit": null,
            "object_position": null,
            "order": null,
            "overflow": null,
            "overflow_x": null,
            "overflow_y": null,
            "padding": null,
            "right": null,
            "top": null,
            "visibility": null,
            "width": null
          }
        },
        "67422b2f95c049fdbb9bb04efd769988": {
          "model_module": "@jupyter-widgets/controls",
          "model_name": "DescriptionStyleModel",
          "model_module_version": "1.5.0",
          "state": {
            "_model_module": "@jupyter-widgets/controls",
            "_model_module_version": "1.5.0",
            "_model_name": "DescriptionStyleModel",
            "_view_count": null,
            "_view_module": "@jupyter-widgets/base",
            "_view_module_version": "1.2.0",
            "_view_name": "StyleView",
            "description_width": ""
          }
        },
        "ebe675296a494315bdafe06f6c42f4d9": {
          "model_module": "@jupyter-widgets/controls",
          "model_name": "HBoxModel",
          "model_module_version": "1.5.0",
          "state": {
            "_dom_classes": [],
            "_model_module": "@jupyter-widgets/controls",
            "_model_module_version": "1.5.0",
            "_model_name": "HBoxModel",
            "_view_count": null,
            "_view_module": "@jupyter-widgets/controls",
            "_view_module_version": "1.5.0",
            "_view_name": "HBoxView",
            "box_style": "",
            "children": [
              "IPY_MODEL_76518666f16a4c9cbcd068def899e3c5",
              "IPY_MODEL_faba6374a19946a5a05cf6798fa5fa4e",
              "IPY_MODEL_59b9417a85af470c8033a349a00c0df9"
            ],
            "layout": "IPY_MODEL_86af67055a79497487ca0e658c946248"
          }
        },
        "76518666f16a4c9cbcd068def899e3c5": {
          "model_module": "@jupyter-widgets/controls",
          "model_name": "HTMLModel",
          "model_module_version": "1.5.0",
          "state": {
            "_dom_classes": [],
            "_model_module": "@jupyter-widgets/controls",
            "_model_module_version": "1.5.0",
            "_model_name": "HTMLModel",
            "_view_count": null,
            "_view_module": "@jupyter-widgets/controls",
            "_view_module_version": "1.5.0",
            "_view_name": "HTMLView",
            "description": "",
            "description_tooltip": null,
            "layout": "IPY_MODEL_3be54092ca7a4d02b57d50c5c3a0173c",
            "placeholder": "​",
            "style": "IPY_MODEL_d39d9652e0a343c28e0644b0e0dd62a8",
            "value": "Epoch 4: 100%"
          }
        },
        "faba6374a19946a5a05cf6798fa5fa4e": {
          "model_module": "@jupyter-widgets/controls",
          "model_name": "FloatProgressModel",
          "model_module_version": "1.5.0",
          "state": {
            "_dom_classes": [],
            "_model_module": "@jupyter-widgets/controls",
            "_model_module_version": "1.5.0",
            "_model_name": "FloatProgressModel",
            "_view_count": null,
            "_view_module": "@jupyter-widgets/controls",
            "_view_module_version": "1.5.0",
            "_view_name": "ProgressView",
            "bar_style": "",
            "description": "",
            "description_tooltip": null,
            "layout": "IPY_MODEL_f05568883dce46f98657479a416bbb65",
            "max": 3406,
            "min": 0,
            "orientation": "horizontal",
            "style": "IPY_MODEL_2199ffb976df4939a57698fe8ece1ddf",
            "value": 3406
          }
        },
        "59b9417a85af470c8033a349a00c0df9": {
          "model_module": "@jupyter-widgets/controls",
          "model_name": "HTMLModel",
          "model_module_version": "1.5.0",
          "state": {
            "_dom_classes": [],
            "_model_module": "@jupyter-widgets/controls",
            "_model_module_version": "1.5.0",
            "_model_name": "HTMLModel",
            "_view_count": null,
            "_view_module": "@jupyter-widgets/controls",
            "_view_module_version": "1.5.0",
            "_view_name": "HTMLView",
            "description": "",
            "description_tooltip": null,
            "layout": "IPY_MODEL_b85815d18f3d4c919843dc095f3e00dd",
            "placeholder": "​",
            "style": "IPY_MODEL_0e39c17ce7a5416f884ee06010c2706c",
            "value": " 3406/3406 [10:33&lt;00:00,  5.82it/s, training_loss=0.001]"
          }
        },
        "86af67055a79497487ca0e658c946248": {
          "model_module": "@jupyter-widgets/base",
          "model_name": "LayoutModel",
          "model_module_version": "1.2.0",
          "state": {
            "_model_module": "@jupyter-widgets/base",
            "_model_module_version": "1.2.0",
            "_model_name": "LayoutModel",
            "_view_count": null,
            "_view_module": "@jupyter-widgets/base",
            "_view_module_version": "1.2.0",
            "_view_name": "LayoutView",
            "align_content": null,
            "align_items": null,
            "align_self": null,
            "border": null,
            "bottom": null,
            "display": null,
            "flex": null,
            "flex_flow": null,
            "grid_area": null,
            "grid_auto_columns": null,
            "grid_auto_flow": null,
            "grid_auto_rows": null,
            "grid_column": null,
            "grid_gap": null,
            "grid_row": null,
            "grid_template_areas": null,
            "grid_template_columns": null,
            "grid_template_rows": null,
            "height": null,
            "justify_content": null,
            "justify_items": null,
            "left": null,
            "margin": null,
            "max_height": null,
            "max_width": null,
            "min_height": null,
            "min_width": null,
            "object_fit": null,
            "object_position": null,
            "order": null,
            "overflow": null,
            "overflow_x": null,
            "overflow_y": null,
            "padding": null,
            "right": null,
            "top": null,
            "visibility": null,
            "width": null
          }
        },
        "3be54092ca7a4d02b57d50c5c3a0173c": {
          "model_module": "@jupyter-widgets/base",
          "model_name": "LayoutModel",
          "model_module_version": "1.2.0",
          "state": {
            "_model_module": "@jupyter-widgets/base",
            "_model_module_version": "1.2.0",
            "_model_name": "LayoutModel",
            "_view_count": null,
            "_view_module": "@jupyter-widgets/base",
            "_view_module_version": "1.2.0",
            "_view_name": "LayoutView",
            "align_content": null,
            "align_items": null,
            "align_self": null,
            "border": null,
            "bottom": null,
            "display": null,
            "flex": null,
            "flex_flow": null,
            "grid_area": null,
            "grid_auto_columns": null,
            "grid_auto_flow": null,
            "grid_auto_rows": null,
            "grid_column": null,
            "grid_gap": null,
            "grid_row": null,
            "grid_template_areas": null,
            "grid_template_columns": null,
            "grid_template_rows": null,
            "height": null,
            "justify_content": null,
            "justify_items": null,
            "left": null,
            "margin": null,
            "max_height": null,
            "max_width": null,
            "min_height": null,
            "min_width": null,
            "object_fit": null,
            "object_position": null,
            "order": null,
            "overflow": null,
            "overflow_x": null,
            "overflow_y": null,
            "padding": null,
            "right": null,
            "top": null,
            "visibility": null,
            "width": null
          }
        },
        "d39d9652e0a343c28e0644b0e0dd62a8": {
          "model_module": "@jupyter-widgets/controls",
          "model_name": "DescriptionStyleModel",
          "model_module_version": "1.5.0",
          "state": {
            "_model_module": "@jupyter-widgets/controls",
            "_model_module_version": "1.5.0",
            "_model_name": "DescriptionStyleModel",
            "_view_count": null,
            "_view_module": "@jupyter-widgets/base",
            "_view_module_version": "1.2.0",
            "_view_name": "StyleView",
            "description_width": ""
          }
        },
        "f05568883dce46f98657479a416bbb65": {
          "model_module": "@jupyter-widgets/base",
          "model_name": "LayoutModel",
          "model_module_version": "1.2.0",
          "state": {
            "_model_module": "@jupyter-widgets/base",
            "_model_module_version": "1.2.0",
            "_model_name": "LayoutModel",
            "_view_count": null,
            "_view_module": "@jupyter-widgets/base",
            "_view_module_version": "1.2.0",
            "_view_name": "LayoutView",
            "align_content": null,
            "align_items": null,
            "align_self": null,
            "border": null,
            "bottom": null,
            "display": null,
            "flex": null,
            "flex_flow": null,
            "grid_area": null,
            "grid_auto_columns": null,
            "grid_auto_flow": null,
            "grid_auto_rows": null,
            "grid_column": null,
            "grid_gap": null,
            "grid_row": null,
            "grid_template_areas": null,
            "grid_template_columns": null,
            "grid_template_rows": null,
            "height": null,
            "justify_content": null,
            "justify_items": null,
            "left": null,
            "margin": null,
            "max_height": null,
            "max_width": null,
            "min_height": null,
            "min_width": null,
            "object_fit": null,
            "object_position": null,
            "order": null,
            "overflow": null,
            "overflow_x": null,
            "overflow_y": null,
            "padding": null,
            "right": null,
            "top": null,
            "visibility": null,
            "width": null
          }
        },
        "2199ffb976df4939a57698fe8ece1ddf": {
          "model_module": "@jupyter-widgets/controls",
          "model_name": "ProgressStyleModel",
          "model_module_version": "1.5.0",
          "state": {
            "_model_module": "@jupyter-widgets/controls",
            "_model_module_version": "1.5.0",
            "_model_name": "ProgressStyleModel",
            "_view_count": null,
            "_view_module": "@jupyter-widgets/base",
            "_view_module_version": "1.2.0",
            "_view_name": "StyleView",
            "bar_color": null,
            "description_width": ""
          }
        },
        "b85815d18f3d4c919843dc095f3e00dd": {
          "model_module": "@jupyter-widgets/base",
          "model_name": "LayoutModel",
          "model_module_version": "1.2.0",
          "state": {
            "_model_module": "@jupyter-widgets/base",
            "_model_module_version": "1.2.0",
            "_model_name": "LayoutModel",
            "_view_count": null,
            "_view_module": "@jupyter-widgets/base",
            "_view_module_version": "1.2.0",
            "_view_name": "LayoutView",
            "align_content": null,
            "align_items": null,
            "align_self": null,
            "border": null,
            "bottom": null,
            "display": null,
            "flex": null,
            "flex_flow": null,
            "grid_area": null,
            "grid_auto_columns": null,
            "grid_auto_flow": null,
            "grid_auto_rows": null,
            "grid_column": null,
            "grid_gap": null,
            "grid_row": null,
            "grid_template_areas": null,
            "grid_template_columns": null,
            "grid_template_rows": null,
            "height": null,
            "justify_content": null,
            "justify_items": null,
            "left": null,
            "margin": null,
            "max_height": null,
            "max_width": null,
            "min_height": null,
            "min_width": null,
            "object_fit": null,
            "object_position": null,
            "order": null,
            "overflow": null,
            "overflow_x": null,
            "overflow_y": null,
            "padding": null,
            "right": null,
            "top": null,
            "visibility": null,
            "width": null
          }
        },
        "0e39c17ce7a5416f884ee06010c2706c": {
          "model_module": "@jupyter-widgets/controls",
          "model_name": "DescriptionStyleModel",
          "model_module_version": "1.5.0",
          "state": {
            "_model_module": "@jupyter-widgets/controls",
            "_model_module_version": "1.5.0",
            "_model_name": "DescriptionStyleModel",
            "_view_count": null,
            "_view_module": "@jupyter-widgets/base",
            "_view_module_version": "1.2.0",
            "_view_name": "StyleView",
            "description_width": ""
          }
        },
        "18d92629ef584b7db6f7080483c48396": {
          "model_module": "@jupyter-widgets/controls",
          "model_name": "HBoxModel",
          "model_module_version": "1.5.0",
          "state": {
            "_dom_classes": [],
            "_model_module": "@jupyter-widgets/controls",
            "_model_module_version": "1.5.0",
            "_model_name": "HBoxModel",
            "_view_count": null,
            "_view_module": "@jupyter-widgets/controls",
            "_view_module_version": "1.5.0",
            "_view_name": "HBoxView",
            "box_style": "",
            "children": [
              "IPY_MODEL_8080647839d84229ac66030e1fdfdb31",
              "IPY_MODEL_211595c2b9e84db3b389976e93895cb2",
              "IPY_MODEL_88160198508d4e97b345faf251954069"
            ],
            "layout": "IPY_MODEL_cab536fa47674b5597532ded678070ef"
          }
        },
        "8080647839d84229ac66030e1fdfdb31": {
          "model_module": "@jupyter-widgets/controls",
          "model_name": "HTMLModel",
          "model_module_version": "1.5.0",
          "state": {
            "_dom_classes": [],
            "_model_module": "@jupyter-widgets/controls",
            "_model_module_version": "1.5.0",
            "_model_name": "HTMLModel",
            "_view_count": null,
            "_view_module": "@jupyter-widgets/controls",
            "_view_module_version": "1.5.0",
            "_view_name": "HTMLView",
            "description": "",
            "description_tooltip": null,
            "layout": "IPY_MODEL_10536526fac64f51bd2d2a26f2fca6e9",
            "placeholder": "​",
            "style": "IPY_MODEL_7b553aef23844efe978771386e09b9b3",
            "value": "Epoch 5: 100%"
          }
        },
        "211595c2b9e84db3b389976e93895cb2": {
          "model_module": "@jupyter-widgets/controls",
          "model_name": "FloatProgressModel",
          "model_module_version": "1.5.0",
          "state": {
            "_dom_classes": [],
            "_model_module": "@jupyter-widgets/controls",
            "_model_module_version": "1.5.0",
            "_model_name": "FloatProgressModel",
            "_view_count": null,
            "_view_module": "@jupyter-widgets/controls",
            "_view_module_version": "1.5.0",
            "_view_name": "ProgressView",
            "bar_style": "",
            "description": "",
            "description_tooltip": null,
            "layout": "IPY_MODEL_7bda4716fe6b4a11993e547eaa35d77b",
            "max": 3406,
            "min": 0,
            "orientation": "horizontal",
            "style": "IPY_MODEL_60a13ab4fa9b48dfac8e90ea6a51c23a",
            "value": 3406
          }
        },
        "88160198508d4e97b345faf251954069": {
          "model_module": "@jupyter-widgets/controls",
          "model_name": "HTMLModel",
          "model_module_version": "1.5.0",
          "state": {
            "_dom_classes": [],
            "_model_module": "@jupyter-widgets/controls",
            "_model_module_version": "1.5.0",
            "_model_name": "HTMLModel",
            "_view_count": null,
            "_view_module": "@jupyter-widgets/controls",
            "_view_module_version": "1.5.0",
            "_view_name": "HTMLView",
            "description": "",
            "description_tooltip": null,
            "layout": "IPY_MODEL_52c64ed31850427e8bb4f8d994d5f1a0",
            "placeholder": "​",
            "style": "IPY_MODEL_b5131af2dd20422580e2f5a12ef1bbcf",
            "value": " 3406/3406 [10:32&lt;00:00,  5.78it/s, training_loss=0.038]"
          }
        },
        "cab536fa47674b5597532ded678070ef": {
          "model_module": "@jupyter-widgets/base",
          "model_name": "LayoutModel",
          "model_module_version": "1.2.0",
          "state": {
            "_model_module": "@jupyter-widgets/base",
            "_model_module_version": "1.2.0",
            "_model_name": "LayoutModel",
            "_view_count": null,
            "_view_module": "@jupyter-widgets/base",
            "_view_module_version": "1.2.0",
            "_view_name": "LayoutView",
            "align_content": null,
            "align_items": null,
            "align_self": null,
            "border": null,
            "bottom": null,
            "display": null,
            "flex": null,
            "flex_flow": null,
            "grid_area": null,
            "grid_auto_columns": null,
            "grid_auto_flow": null,
            "grid_auto_rows": null,
            "grid_column": null,
            "grid_gap": null,
            "grid_row": null,
            "grid_template_areas": null,
            "grid_template_columns": null,
            "grid_template_rows": null,
            "height": null,
            "justify_content": null,
            "justify_items": null,
            "left": null,
            "margin": null,
            "max_height": null,
            "max_width": null,
            "min_height": null,
            "min_width": null,
            "object_fit": null,
            "object_position": null,
            "order": null,
            "overflow": null,
            "overflow_x": null,
            "overflow_y": null,
            "padding": null,
            "right": null,
            "top": null,
            "visibility": null,
            "width": null
          }
        },
        "10536526fac64f51bd2d2a26f2fca6e9": {
          "model_module": "@jupyter-widgets/base",
          "model_name": "LayoutModel",
          "model_module_version": "1.2.0",
          "state": {
            "_model_module": "@jupyter-widgets/base",
            "_model_module_version": "1.2.0",
            "_model_name": "LayoutModel",
            "_view_count": null,
            "_view_module": "@jupyter-widgets/base",
            "_view_module_version": "1.2.0",
            "_view_name": "LayoutView",
            "align_content": null,
            "align_items": null,
            "align_self": null,
            "border": null,
            "bottom": null,
            "display": null,
            "flex": null,
            "flex_flow": null,
            "grid_area": null,
            "grid_auto_columns": null,
            "grid_auto_flow": null,
            "grid_auto_rows": null,
            "grid_column": null,
            "grid_gap": null,
            "grid_row": null,
            "grid_template_areas": null,
            "grid_template_columns": null,
            "grid_template_rows": null,
            "height": null,
            "justify_content": null,
            "justify_items": null,
            "left": null,
            "margin": null,
            "max_height": null,
            "max_width": null,
            "min_height": null,
            "min_width": null,
            "object_fit": null,
            "object_position": null,
            "order": null,
            "overflow": null,
            "overflow_x": null,
            "overflow_y": null,
            "padding": null,
            "right": null,
            "top": null,
            "visibility": null,
            "width": null
          }
        },
        "7b553aef23844efe978771386e09b9b3": {
          "model_module": "@jupyter-widgets/controls",
          "model_name": "DescriptionStyleModel",
          "model_module_version": "1.5.0",
          "state": {
            "_model_module": "@jupyter-widgets/controls",
            "_model_module_version": "1.5.0",
            "_model_name": "DescriptionStyleModel",
            "_view_count": null,
            "_view_module": "@jupyter-widgets/base",
            "_view_module_version": "1.2.0",
            "_view_name": "StyleView",
            "description_width": ""
          }
        },
        "7bda4716fe6b4a11993e547eaa35d77b": {
          "model_module": "@jupyter-widgets/base",
          "model_name": "LayoutModel",
          "model_module_version": "1.2.0",
          "state": {
            "_model_module": "@jupyter-widgets/base",
            "_model_module_version": "1.2.0",
            "_model_name": "LayoutModel",
            "_view_count": null,
            "_view_module": "@jupyter-widgets/base",
            "_view_module_version": "1.2.0",
            "_view_name": "LayoutView",
            "align_content": null,
            "align_items": null,
            "align_self": null,
            "border": null,
            "bottom": null,
            "display": null,
            "flex": null,
            "flex_flow": null,
            "grid_area": null,
            "grid_auto_columns": null,
            "grid_auto_flow": null,
            "grid_auto_rows": null,
            "grid_column": null,
            "grid_gap": null,
            "grid_row": null,
            "grid_template_areas": null,
            "grid_template_columns": null,
            "grid_template_rows": null,
            "height": null,
            "justify_content": null,
            "justify_items": null,
            "left": null,
            "margin": null,
            "max_height": null,
            "max_width": null,
            "min_height": null,
            "min_width": null,
            "object_fit": null,
            "object_position": null,
            "order": null,
            "overflow": null,
            "overflow_x": null,
            "overflow_y": null,
            "padding": null,
            "right": null,
            "top": null,
            "visibility": null,
            "width": null
          }
        },
        "60a13ab4fa9b48dfac8e90ea6a51c23a": {
          "model_module": "@jupyter-widgets/controls",
          "model_name": "ProgressStyleModel",
          "model_module_version": "1.5.0",
          "state": {
            "_model_module": "@jupyter-widgets/controls",
            "_model_module_version": "1.5.0",
            "_model_name": "ProgressStyleModel",
            "_view_count": null,
            "_view_module": "@jupyter-widgets/base",
            "_view_module_version": "1.2.0",
            "_view_name": "StyleView",
            "bar_color": null,
            "description_width": ""
          }
        },
        "52c64ed31850427e8bb4f8d994d5f1a0": {
          "model_module": "@jupyter-widgets/base",
          "model_name": "LayoutModel",
          "model_module_version": "1.2.0",
          "state": {
            "_model_module": "@jupyter-widgets/base",
            "_model_module_version": "1.2.0",
            "_model_name": "LayoutModel",
            "_view_count": null,
            "_view_module": "@jupyter-widgets/base",
            "_view_module_version": "1.2.0",
            "_view_name": "LayoutView",
            "align_content": null,
            "align_items": null,
            "align_self": null,
            "border": null,
            "bottom": null,
            "display": null,
            "flex": null,
            "flex_flow": null,
            "grid_area": null,
            "grid_auto_columns": null,
            "grid_auto_flow": null,
            "grid_auto_rows": null,
            "grid_column": null,
            "grid_gap": null,
            "grid_row": null,
            "grid_template_areas": null,
            "grid_template_columns": null,
            "grid_template_rows": null,
            "height": null,
            "justify_content": null,
            "justify_items": null,
            "left": null,
            "margin": null,
            "max_height": null,
            "max_width": null,
            "min_height": null,
            "min_width": null,
            "object_fit": null,
            "object_position": null,
            "order": null,
            "overflow": null,
            "overflow_x": null,
            "overflow_y": null,
            "padding": null,
            "right": null,
            "top": null,
            "visibility": null,
            "width": null
          }
        },
        "b5131af2dd20422580e2f5a12ef1bbcf": {
          "model_module": "@jupyter-widgets/controls",
          "model_name": "DescriptionStyleModel",
          "model_module_version": "1.5.0",
          "state": {
            "_model_module": "@jupyter-widgets/controls",
            "_model_module_version": "1.5.0",
            "_model_name": "DescriptionStyleModel",
            "_view_count": null,
            "_view_module": "@jupyter-widgets/base",
            "_view_module_version": "1.2.0",
            "_view_name": "StyleView",
            "description_width": ""
          }
        }
      }
    }
  },
  "nbformat": 4,
  "nbformat_minor": 0
}
