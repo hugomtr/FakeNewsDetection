{
  "cells": [
    {
      "cell_type": "markdown",
      "metadata": {
        "id": "_9gBtpxq3cFT"
      },
      "source": [
        "@file fakeNews.ipynb\n",
        "<br>\n",
        "@author hugomtr\n",
        "<br>\n",
        "@brief \n",
        "<br>\n",
        "@version 0.1\n",
        "<br>\n",
        "@date 2022-02-28\n",
        "<br>\n",
        "@copyright Copyright (c) 2022"
      ]
    },
    {
      "cell_type": "markdown",
      "metadata": {
        "id": "i6z-w3-M-T-5"
      },
      "source": [
        "# Starting"
      ]
    },
    {
      "cell_type": "code",
      "execution_count": 1,
      "metadata": {
        "colab": {
          "base_uri": "https://localhost:8080/"
        },
        "id": "HQHttkaTwmkn",
        "outputId": "cf2fc675-73a4-40d5-b7d7-5e150e4170ef"
      },
      "outputs": [
        {
          "output_type": "stream",
          "name": "stdout",
          "text": [
            "Tue Apr 19 17:57:57 2022       \n",
            "+-----------------------------------------------------------------------------+\n",
            "| NVIDIA-SMI 460.32.03    Driver Version: 460.32.03    CUDA Version: 11.2     |\n",
            "|-------------------------------+----------------------+----------------------+\n",
            "| GPU  Name        Persistence-M| Bus-Id        Disp.A | Volatile Uncorr. ECC |\n",
            "| Fan  Temp  Perf  Pwr:Usage/Cap|         Memory-Usage | GPU-Util  Compute M. |\n",
            "|                               |                      |               MIG M. |\n",
            "|===============================+======================+======================|\n",
            "|   0  Tesla P100-PCIE...  Off  | 00000000:00:04.0 Off |                    0 |\n",
            "| N/A   37C    P0    26W / 250W |      0MiB / 16280MiB |      0%      Default |\n",
            "|                               |                      |                  N/A |\n",
            "+-------------------------------+----------------------+----------------------+\n",
            "                                                                               \n",
            "+-----------------------------------------------------------------------------+\n",
            "| Processes:                                                                  |\n",
            "|  GPU   GI   CI        PID   Type   Process name                  GPU Memory |\n",
            "|        ID   ID                                                   Usage      |\n",
            "|=============================================================================|\n",
            "|  No running processes found                                                 |\n",
            "+-----------------------------------------------------------------------------+\n"
          ]
        }
      ],
      "source": [
        "gpu_info = !nvidia-smi\n",
        "gpu_info = '\\n'.join(gpu_info)\n",
        "if gpu_info.find('failed') >= 0:\n",
        "  print('Not connected to a GPU')\n",
        "else:\n",
        "  print(gpu_info)"
      ]
    },
    {
      "cell_type": "code",
      "execution_count": 2,
      "metadata": {
        "id": "BB6b6eaZjDJe"
      },
      "outputs": [],
      "source": [
        "import pandas as pd\n",
        "import numpy as np\n",
        "import seaborn as sns\n",
        "import matplotlib.pyplot as plt\n",
        "import sys\n",
        "\n",
        "import sklearn\n",
        "\n",
        "# import some classifier\n",
        "from sklearn.naive_bayes import MultinomialNB\n",
        "from sklearn.linear_model import LogisticRegression\n",
        "from sklearn.naive_bayes import GaussianNB\n",
        "from sklearn.tree import DecisionTreeClassifier\n",
        "from sklearn.neighbors import KNeighborsClassifier\n",
        "from sklearn.ensemble import RandomForestClassifier\n",
        "from sklearn.svm import SVC\n",
        "from sklearn.linear_model import LinearRegression\n",
        "from sklearn.linear_model import SGDClassifier\n",
        "from sklearn.linear_model import PassiveAggressiveClassifier\n",
        "\n",
        "# import modules for vectorizing and pipe\n",
        "from sklearn.feature_extraction.text import CountVectorizer,TfidfVectorizer\n",
        "from sklearn.pipeline import Pipeline\n",
        "from sklearn import preprocessing\n",
        "from sklearn.feature_extraction.text import TfidfTransformer\n",
        "from sklearn.pipeline import make_pipeline\n",
        "\n",
        "# scale data\n",
        "from sklearn.preprocessing import StandardScaler\n",
        "\n",
        "# upsampling downsampling\n",
        "from sklearn.utils import resample\n",
        "\n",
        "# modules for model selection\n",
        "from sklearn.model_selection import train_test_split \n",
        "from sklearn.model_selection import KFold\n",
        "from sklearn.model_selection import GridSearchCV\n",
        "from sklearn.model_selection import cross_val_score\n",
        "\n",
        "# modules for evaluation\n",
        "from sklearn.metrics import accuracy_score\n",
        "from sklearn.metrics import confusion_matrix\n",
        "from sklearn.metrics import classification_report\n",
        "from sklearn.metrics import precision_recall_fscore_support as score\n",
        "\n",
        "# modules for vizualisation\n",
        "import seaborn as sns\n",
        "import matplotlib.pyplot as plt\n",
        "from tabulate import tabulate\n",
        "\n",
        "# others\n",
        "import itertools\n",
        "import random\n",
        "\n",
        "from sklearn.exceptions import ConvergenceWarning"
      ]
    },
    {
      "cell_type": "code",
      "execution_count": 3,
      "metadata": {
        "colab": {
          "base_uri": "https://localhost:8080/"
        },
        "id": "1Fy07f-gjuRO",
        "outputId": "b18b292a-4eb7-4e86-d69e-c970cf58c643"
      },
      "outputs": [
        {
          "output_type": "stream",
          "name": "stdout",
          "text": [
            "Mounted at /content/gdrive/\n"
          ]
        }
      ],
      "source": [
        "from google.colab import drive\n",
        "drive.mount('/content/gdrive/')"
      ]
    },
    {
      "cell_type": "code",
      "execution_count": 4,
      "metadata": {
        "colab": {
          "base_uri": "https://localhost:8080/",
          "height": 54
        },
        "id": "pCNNDjdZjy5q",
        "outputId": "b5d617b8-116b-4105-fa00-82ad3e62dda1"
      },
      "outputs": [
        {
          "output_type": "stream",
          "name": "stdout",
          "text": [
            "/content/gdrive/My Drive/Colab Notebooks/FakeNews\n"
          ]
        },
        {
          "output_type": "execute_result",
          "data": {
            "text/plain": [
              "'/content/gdrive/My Drive/Colab Notebooks/FakeNews'"
            ],
            "application/vnd.google.colaboratory.intrinsic+json": {
              "type": "string"
            }
          },
          "metadata": {},
          "execution_count": 4
        }
      ],
      "source": [
        "my_local_drive='/content/gdrive/My Drive/Colab Notebooks/FakeNews'\n",
        "# Ajout du path pour les librairies, fonctions et données\n",
        "sys.path.append(my_local_drive)\n",
        "# Se positionner sur le répertoire associé\n",
        "%cd $my_local_drive\n",
        "\n",
        "%pwd"
      ]
    },
    {
      "cell_type": "markdown",
      "metadata": {
        "id": "9gjp_awkJLFr"
      },
      "source": [
        "# Loading a dataset and choose classification\n"
      ]
    },
    {
      "cell_type": "code",
      "source": [
        "df = pd.read_csv(\"claimskg.csv\",sep=\";\")\n",
        "del df['Unnamed: 0']\n",
        "df.head(2)"
      ],
      "metadata": {
        "colab": {
          "base_uri": "https://localhost:8080/",
          "height": 381
        },
        "id": "eko-km391oA3",
        "outputId": "7510d0f0-acb8-47f0-b8ee-4a59aee924fd"
      },
      "execution_count": 5,
      "outputs": [
        {
          "output_type": "execute_result",
          "data": {
            "text/plain": [
              "                                                  id  \\\n",
              "0  http://data.gesis.org/claimskg/claim_review/36...   \n",
              "1  http://data.gesis.org/claimskg/claim_review/e6...   \n",
              "\n",
              "                                                text        date  truthRating  \\\n",
              "0  'There will be no public funding for abortion ...  2010-03-21            3   \n",
              "1  Central Health 'is the only hospital district ...  2011-03-15            3   \n",
              "\n",
              "  ratingName           author  \\\n",
              "0       True      Bart Stupak   \n",
              "1       True  Wayne Christian   \n",
              "\n",
              "                                            headline  \\\n",
              "0  Stupak revises abortion stance on health care ...   \n",
              "1  State Rep. Wayne Christian says Central Health...   \n",
              "\n",
              "                                named_entities_claim named_entities_article  \\\n",
              "0  Abortion rights,Barack Obama,Bart Stupak,Ben N...               abortion   \n",
              "1  Austin American-Statesman,Harris County Hospit...                    NaN   \n",
              "\n",
              "               keywords      source                  sourceURL  \\\n",
              "0  Abortion,Health Care  politifact  http://www.politifact.com   \n",
              "1              Abortion  politifact  http://www.politifact.com   \n",
              "\n",
              "                                                link language  \n",
              "0  http://www.politifact.com/truth-o-meter/statem...  English  \n",
              "1  http://www.politifact.com/texas/statements/201...  English  "
            ],
            "text/html": [
              "\n",
              "  <div id=\"df-5a4f7762-b84e-4df5-8943-c4a0fde64795\">\n",
              "    <div class=\"colab-df-container\">\n",
              "      <div>\n",
              "<style scoped>\n",
              "    .dataframe tbody tr th:only-of-type {\n",
              "        vertical-align: middle;\n",
              "    }\n",
              "\n",
              "    .dataframe tbody tr th {\n",
              "        vertical-align: top;\n",
              "    }\n",
              "\n",
              "    .dataframe thead th {\n",
              "        text-align: right;\n",
              "    }\n",
              "</style>\n",
              "<table border=\"1\" class=\"dataframe\">\n",
              "  <thead>\n",
              "    <tr style=\"text-align: right;\">\n",
              "      <th></th>\n",
              "      <th>id</th>\n",
              "      <th>text</th>\n",
              "      <th>date</th>\n",
              "      <th>truthRating</th>\n",
              "      <th>ratingName</th>\n",
              "      <th>author</th>\n",
              "      <th>headline</th>\n",
              "      <th>named_entities_claim</th>\n",
              "      <th>named_entities_article</th>\n",
              "      <th>keywords</th>\n",
              "      <th>source</th>\n",
              "      <th>sourceURL</th>\n",
              "      <th>link</th>\n",
              "      <th>language</th>\n",
              "    </tr>\n",
              "  </thead>\n",
              "  <tbody>\n",
              "    <tr>\n",
              "      <th>0</th>\n",
              "      <td>http://data.gesis.org/claimskg/claim_review/36...</td>\n",
              "      <td>'There will be no public funding for abortion ...</td>\n",
              "      <td>2010-03-21</td>\n",
              "      <td>3</td>\n",
              "      <td>True</td>\n",
              "      <td>Bart Stupak</td>\n",
              "      <td>Stupak revises abortion stance on health care ...</td>\n",
              "      <td>Abortion rights,Barack Obama,Bart Stupak,Ben N...</td>\n",
              "      <td>abortion</td>\n",
              "      <td>Abortion,Health Care</td>\n",
              "      <td>politifact</td>\n",
              "      <td>http://www.politifact.com</td>\n",
              "      <td>http://www.politifact.com/truth-o-meter/statem...</td>\n",
              "      <td>English</td>\n",
              "    </tr>\n",
              "    <tr>\n",
              "      <th>1</th>\n",
              "      <td>http://data.gesis.org/claimskg/claim_review/e6...</td>\n",
              "      <td>Central Health 'is the only hospital district ...</td>\n",
              "      <td>2011-03-15</td>\n",
              "      <td>3</td>\n",
              "      <td>True</td>\n",
              "      <td>Wayne Christian</td>\n",
              "      <td>State Rep. Wayne Christian says Central Health...</td>\n",
              "      <td>Austin American-Statesman,Harris County Hospit...</td>\n",
              "      <td>NaN</td>\n",
              "      <td>Abortion</td>\n",
              "      <td>politifact</td>\n",
              "      <td>http://www.politifact.com</td>\n",
              "      <td>http://www.politifact.com/texas/statements/201...</td>\n",
              "      <td>English</td>\n",
              "    </tr>\n",
              "  </tbody>\n",
              "</table>\n",
              "</div>\n",
              "      <button class=\"colab-df-convert\" onclick=\"convertToInteractive('df-5a4f7762-b84e-4df5-8943-c4a0fde64795')\"\n",
              "              title=\"Convert this dataframe to an interactive table.\"\n",
              "              style=\"display:none;\">\n",
              "        \n",
              "  <svg xmlns=\"http://www.w3.org/2000/svg\" height=\"24px\"viewBox=\"0 0 24 24\"\n",
              "       width=\"24px\">\n",
              "    <path d=\"M0 0h24v24H0V0z\" fill=\"none\"/>\n",
              "    <path d=\"M18.56 5.44l.94 2.06.94-2.06 2.06-.94-2.06-.94-.94-2.06-.94 2.06-2.06.94zm-11 1L8.5 8.5l.94-2.06 2.06-.94-2.06-.94L8.5 2.5l-.94 2.06-2.06.94zm10 10l.94 2.06.94-2.06 2.06-.94-2.06-.94-.94-2.06-.94 2.06-2.06.94z\"/><path d=\"M17.41 7.96l-1.37-1.37c-.4-.4-.92-.59-1.43-.59-.52 0-1.04.2-1.43.59L10.3 9.45l-7.72 7.72c-.78.78-.78 2.05 0 2.83L4 21.41c.39.39.9.59 1.41.59.51 0 1.02-.2 1.41-.59l7.78-7.78 2.81-2.81c.8-.78.8-2.07 0-2.86zM5.41 20L4 18.59l7.72-7.72 1.47 1.35L5.41 20z\"/>\n",
              "  </svg>\n",
              "      </button>\n",
              "      \n",
              "  <style>\n",
              "    .colab-df-container {\n",
              "      display:flex;\n",
              "      flex-wrap:wrap;\n",
              "      gap: 12px;\n",
              "    }\n",
              "\n",
              "    .colab-df-convert {\n",
              "      background-color: #E8F0FE;\n",
              "      border: none;\n",
              "      border-radius: 50%;\n",
              "      cursor: pointer;\n",
              "      display: none;\n",
              "      fill: #1967D2;\n",
              "      height: 32px;\n",
              "      padding: 0 0 0 0;\n",
              "      width: 32px;\n",
              "    }\n",
              "\n",
              "    .colab-df-convert:hover {\n",
              "      background-color: #E2EBFA;\n",
              "      box-shadow: 0px 1px 2px rgba(60, 64, 67, 0.3), 0px 1px 3px 1px rgba(60, 64, 67, 0.15);\n",
              "      fill: #174EA6;\n",
              "    }\n",
              "\n",
              "    [theme=dark] .colab-df-convert {\n",
              "      background-color: #3B4455;\n",
              "      fill: #D2E3FC;\n",
              "    }\n",
              "\n",
              "    [theme=dark] .colab-df-convert:hover {\n",
              "      background-color: #434B5C;\n",
              "      box-shadow: 0px 1px 3px 1px rgba(0, 0, 0, 0.15);\n",
              "      filter: drop-shadow(0px 1px 2px rgba(0, 0, 0, 0.3));\n",
              "      fill: #FFFFFF;\n",
              "    }\n",
              "  </style>\n",
              "\n",
              "      <script>\n",
              "        const buttonEl =\n",
              "          document.querySelector('#df-5a4f7762-b84e-4df5-8943-c4a0fde64795 button.colab-df-convert');\n",
              "        buttonEl.style.display =\n",
              "          google.colab.kernel.accessAllowed ? 'block' : 'none';\n",
              "\n",
              "        async function convertToInteractive(key) {\n",
              "          const element = document.querySelector('#df-5a4f7762-b84e-4df5-8943-c4a0fde64795');\n",
              "          const dataTable =\n",
              "            await google.colab.kernel.invokeFunction('convertToInteractive',\n",
              "                                                     [key], {});\n",
              "          if (!dataTable) return;\n",
              "\n",
              "          const docLinkHtml = 'Like what you see? Visit the ' +\n",
              "            '<a target=\"_blank\" href=https://colab.research.google.com/notebooks/data_table.ipynb>data table notebook</a>'\n",
              "            + ' to learn more about interactive tables.';\n",
              "          element.innerHTML = '';\n",
              "          dataTable['output_type'] = 'display_data';\n",
              "          await google.colab.output.renderOutput(dataTable, element);\n",
              "          const docLink = document.createElement('div');\n",
              "          docLink.innerHTML = docLinkHtml;\n",
              "          element.appendChild(docLink);\n",
              "        }\n",
              "      </script>\n",
              "    </div>\n",
              "  </div>\n",
              "  "
            ]
          },
          "metadata": {},
          "execution_count": 5
        }
      ]
    },
    {
      "cell_type": "code",
      "execution_count": 6,
      "metadata": {
        "id": "q6_cso9XTPr5"
      },
      "outputs": [],
      "source": [
        "df = pd.read_csv(\"claimskg.csv\",sep=\";\")\n",
        "del df['Unnamed: 0']\n",
        "\n",
        "def f(x):\n",
        "  if x==1:\n",
        "    return 0\n",
        "  if x==2:\n",
        "    return 2\n",
        "  return 1\n",
        "\n",
        "def g(x):\n",
        "  if x==1 or x==0:\n",
        "    return 0\n",
        "  else: \n",
        "    return 1\n",
        "\n",
        "def gbis(x):\n",
        "  if x==\"True\" or x==\"False\":\n",
        "    return \"True_False\"\n",
        "  else: \n",
        "    return \"MIXTURE\"\n",
        "\n",
        "def choose_classification():\n",
        "  print(\"Select which classification you want:\")\n",
        "  print(\"0 : {True} vs {False}\")\n",
        "  print(\"1 : {True,False} vs {Mixture}\")\n",
        "  print(\"2 : {True} vs {False} vs {Mixture}\")\n",
        "  n = int(input(\"select a number: \"))\n",
        "  return n\n",
        "\n",
        "def resample_(n,df):\n",
        "  \n",
        "  if n == 0:\n",
        "    # {True} vs {False}\n",
        "    df = df[df.truthRating.isin([0,1])]\n",
        "    df.groupby(\"ratingName\").size().plot(kind='pie',y='ratingName',label = \"Classe\",autopct='%1.1f%%',title= \"Downsampling or Upsampling  is needed?\")\n",
        "    plt.show()\n",
        "    true_data = df[df.ratingName == \"True\"]\n",
        "    false_data = df[df.ratingName == \"False\"]\n",
        "    \n",
        "    # downsampling false data\n",
        "    false_data = false_data.sample(len(true_data))\n",
        "    df = pd.concat([true_data,false_data])\n",
        "    df.groupby(\"ratingName\").size().plot(kind='pie',y='ratingName',label = \"Classe\",autopct='%1.1f%%',title= \"After resampling\")\n",
        "    plt.show()\n",
        "  \n",
        "  if n == 1:\n",
        "    # {True,False} vs {Mixture}\n",
        "    df[\"truthRating\"] = df[\"truthRating\"].apply(g)\n",
        "    df[\"ratingName\"] = df[\"ratingName\"].apply(gbis)\n",
        "    df.groupby(\"ratingName\").size().plot(kind='pie',y='ratingName',label = \"Classe\",autopct='%1.1f%%',title= \"Downsampling or Upsampling  is needed?\")\n",
        "    plt.show()\n",
        "    true_false_data = df[df.ratingName == \"True_False\"]\n",
        "    mixture_data = df[df.ratingName == \"MIXTURE\"]\n",
        "    \n",
        "    # downsampling mixture data\n",
        "    true_false_data = true_false_data.sample(len(mixture_data))\n",
        "    df = pd.concat([true_false_data,mixture_data])\n",
        "    df.groupby(\"ratingName\").size().plot(kind='pie',y='ratingName',label = \"Classe\",autopct='%1.1f%%',title= \"After resampling\")\n",
        "    plt.show()\n",
        "\n",
        "  if n == 2:\n",
        "    # {True} vs {False} vs {Mixture}\n",
        "    df.groupby(\"ratingName\").size().plot(kind='pie',y='ratingName',label = \"Classe\",autopct='%1.1f%%',title= \"Downsampling or Upsampling  is needed?\")\n",
        "    plt.show()\n",
        "    true_data = df[df.ratingName == \"True\"]\n",
        "    false_data = df[df.ratingName == \"False\"]\n",
        "    mixture_data = df[df.ratingName == \"MIXTURE\"]\n",
        "\n",
        "    # downsampling false data\n",
        "    false_data = false_data.sample(len(true_data))\n",
        "    mixture_data = mixture_data.sample(len(true_data))\n",
        "    df = pd.concat([true_data,false_data,mixture_data])\n",
        "    df.groupby(\"ratingName\").size().plot(kind='pie',y='ratingName',label = \"Classe\",autopct='%1.1f%%',title= \"After resampling\")\n",
        "    plt.show()\n",
        "  return df"
      ]
    },
    {
      "cell_type": "code",
      "execution_count": 7,
      "metadata": {
        "colab": {
          "base_uri": "https://localhost:8080/",
          "height": 622
        },
        "id": "F7JYbk--TIb2",
        "outputId": "b485abc6-3c75-4807-c29f-758e057ae12f"
      },
      "outputs": [
        {
          "name": "stdout",
          "output_type": "stream",
          "text": [
            "Select which classification you want:\n",
            "0 : {True} vs {False}\n",
            "1 : {True,False} vs {Mixture}\n",
            "2 : {True} vs {False} vs {Mixture}\n",
            "select a number: 0\n"
          ]
        },
        {
          "output_type": "display_data",
          "data": {
            "text/plain": [
              "<Figure size 432x288 with 1 Axes>"
            ],
            "image/png": "[encoded data removed]"
          },
          "metadata": {}
        },
        {
          "output_type": "display_data",
          "data": {
            "text/plain": [
              "<Figure size 432x288 with 1 Axes>"
            ],
            "image/png": "[encoded data removed]"
          },
          "metadata": {}
        },
        {
          "output_type": "stream",
          "name": "stdout",
          "text": [
            "classes : ['True' 'False'] n° rows df : 8904\n"
          ]
        }
      ],
      "source": [
        "df[\"truthRating\"] = df[\"truthRating\"].apply(f)\n",
        "\n",
        "n = choose_classification()\n",
        "\n",
        "df = resample_(n,df)\n",
        "\n",
        "classes = df.ratingName.unique()\n",
        "\n",
        "label_dict = {}\n",
        "for index, possible_label in enumerate(classes):\n",
        "    label_dict[possible_label] = index\n",
        "\n",
        "df['label'] = df.ratingName.replace(label_dict)\n",
        "df[\"text\"] = df[\"text\"] + \" \" +  df[\"author\"] + \" \" + df[\"headline\"] +  \" \" + df[\"source\"]\n",
        "df = df[[\"text\",\"label\",\"ratingName\"]]\n",
        "\n",
        "train, test = train_test_split(df, test_size=0.1, shuffle=True)\n",
        "print(\"classes :\",classes,\"n° rows df :\", len(df))"
      ]
    },
    {
      "cell_type": "code",
      "execution_count": 8,
      "metadata": {
        "id": "uutwhf9JY_1I"
      },
      "outputs": [],
      "source": [
        "# Saving Data in 2 csv file\n",
        "train.to_csv(\"train.csv\",sep=';')\n",
        "test.to_csv(\"test.csv\",sep=';')"
      ]
    },
    {
      "cell_type": "markdown",
      "metadata": {
        "id": "neyVpCHhGFFq"
      },
      "source": [
        "# Ingenierie Textuelle"
      ]
    },
    {
      "cell_type": "markdown",
      "metadata": {
        "id": "oF2RXtCsIAL1"
      },
      "source": [
        "### Installation Packages & Loading Data"
      ]
    },
    {
      "cell_type": "code",
      "execution_count": 9,
      "metadata": {
        "colab": {
          "base_uri": "https://localhost:8080/"
        },
        "id": "J_1yotixGPX4",
        "outputId": "044e945a-3750-4904-824d-0d647672b4bf"
      },
      "outputs": [
        {
          "output_type": "stream",
          "name": "stdout",
          "text": [
            "Collecting langdetect\n",
            "  Downloading langdetect-1.0.9.tar.gz (981 kB)\n",
            "\u001b[?25l\r\u001b[K     |▍                               | 10 kB 40.3 MB/s eta 0:00:01\r\u001b[K     |▊                               | 20 kB 26.1 MB/s eta 0:00:01\r\u001b[K     |█                               | 30 kB 18.2 MB/s eta 0:00:01\r\u001b[K     |█▍                              | 40 kB 16.4 MB/s eta 0:00:01\r\u001b[K     |█▊                              | 51 kB 7.6 MB/s eta 0:00:01\r\u001b[K     |██                              | 61 kB 9.0 MB/s eta 0:00:01\r\u001b[K     |██▍                             | 71 kB 9.4 MB/s eta 0:00:01\r\u001b[K     |██▊                             | 81 kB 9.2 MB/s eta 0:00:01\r\u001b[K     |███                             | 92 kB 10.2 MB/s eta 0:00:01\r\u001b[K     |███▍                            | 102 kB 8.5 MB/s eta 0:00:01\r\u001b[K     |███▊                            | 112 kB 8.5 MB/s eta 0:00:01\r\u001b[K     |████                            | 122 kB 8.5 MB/s eta 0:00:01\r\u001b[K     |████▍                           | 133 kB 8.5 MB/s eta 0:00:01\r\u001b[K     |████▊                           | 143 kB 8.5 MB/s eta 0:00:01\r\u001b[K     |█████                           | 153 kB 8.5 MB/s eta 0:00:01\r\u001b[K     |█████▍                          | 163 kB 8.5 MB/s eta 0:00:01\r\u001b[K     |█████▊                          | 174 kB 8.5 MB/s eta 0:00:01\r\u001b[K     |██████                          | 184 kB 8.5 MB/s eta 0:00:01\r\u001b[K     |██████▍                         | 194 kB 8.5 MB/s eta 0:00:01\r\u001b[K     |██████▊                         | 204 kB 8.5 MB/s eta 0:00:01\r\u001b[K     |███████                         | 215 kB 8.5 MB/s eta 0:00:01\r\u001b[K     |███████▍                        | 225 kB 8.5 MB/s eta 0:00:01\r\u001b[K     |███████▊                        | 235 kB 8.5 MB/s eta 0:00:01\r\u001b[K     |████████                        | 245 kB 8.5 MB/s eta 0:00:01\r\u001b[K     |████████▍                       | 256 kB 8.5 MB/s eta 0:00:01\r\u001b[K     |████████▊                       | 266 kB 8.5 MB/s eta 0:00:01\r\u001b[K     |█████████                       | 276 kB 8.5 MB/s eta 0:00:01\r\u001b[K     |█████████▍                      | 286 kB 8.5 MB/s eta 0:00:01\r\u001b[K     |█████████▊                      | 296 kB 8.5 MB/s eta 0:00:01\r\u001b[K     |██████████                      | 307 kB 8.5 MB/s eta 0:00:01\r\u001b[K     |██████████▍                     | 317 kB 8.5 MB/s eta 0:00:01\r\u001b[K     |██████████▊                     | 327 kB 8.5 MB/s eta 0:00:01\r\u001b[K     |███████████                     | 337 kB 8.5 MB/s eta 0:00:01\r\u001b[K     |███████████▍                    | 348 kB 8.5 MB/s eta 0:00:01\r\u001b[K     |███████████▊                    | 358 kB 8.5 MB/s eta 0:00:01\r\u001b[K     |████████████                    | 368 kB 8.5 MB/s eta 0:00:01\r\u001b[K     |████████████▍                   | 378 kB 8.5 MB/s eta 0:00:01\r\u001b[K     |████████████▊                   | 389 kB 8.5 MB/s eta 0:00:01\r\u001b[K     |█████████████                   | 399 kB 8.5 MB/s eta 0:00:01\r\u001b[K     |█████████████▍                  | 409 kB 8.5 MB/s eta 0:00:01\r\u001b[K     |█████████████▊                  | 419 kB 8.5 MB/s eta 0:00:01\r\u001b[K     |██████████████                  | 430 kB 8.5 MB/s eta 0:00:01\r\u001b[K     |██████████████▍                 | 440 kB 8.5 MB/s eta 0:00:01\r\u001b[K     |██████████████▊                 | 450 kB 8.5 MB/s eta 0:00:01\r\u001b[K     |███████████████                 | 460 kB 8.5 MB/s eta 0:00:01\r\u001b[K     |███████████████▍                | 471 kB 8.5 MB/s eta 0:00:01\r\u001b[K     |███████████████▊                | 481 kB 8.5 MB/s eta 0:00:01\r\u001b[K     |████████████████                | 491 kB 8.5 MB/s eta 0:00:01\r\u001b[K     |████████████████▍               | 501 kB 8.5 MB/s eta 0:00:01\r\u001b[K     |████████████████▊               | 512 kB 8.5 MB/s eta 0:00:01\r\u001b[K     |█████████████████               | 522 kB 8.5 MB/s eta 0:00:01\r\u001b[K     |█████████████████▍              | 532 kB 8.5 MB/s eta 0:00:01\r\u001b[K     |█████████████████▊              | 542 kB 8.5 MB/s eta 0:00:01\r\u001b[K     |██████████████████              | 552 kB 8.5 MB/s eta 0:00:01\r\u001b[K     |██████████████████▍             | 563 kB 8.5 MB/s eta 0:00:01\r\u001b[K     |██████████████████▊             | 573 kB 8.5 MB/s eta 0:00:01\r\u001b[K     |███████████████████             | 583 kB 8.5 MB/s eta 0:00:01\r\u001b[K     |███████████████████▍            | 593 kB 8.5 MB/s eta 0:00:01\r\u001b[K     |███████████████████▊            | 604 kB 8.5 MB/s eta 0:00:01\r\u001b[K     |████████████████████            | 614 kB 8.5 MB/s eta 0:00:01\r\u001b[K     |████████████████████▍           | 624 kB 8.5 MB/s eta 0:00:01\r\u001b[K     |████████████████████▊           | 634 kB 8.5 MB/s eta 0:00:01\r\u001b[K     |█████████████████████           | 645 kB 8.5 MB/s eta 0:00:01\r\u001b[K     |█████████████████████▍          | 655 kB 8.5 MB/s eta 0:00:01\r\u001b[K     |█████████████████████▊          | 665 kB 8.5 MB/s eta 0:00:01\r\u001b[K     |██████████████████████          | 675 kB 8.5 MB/s eta 0:00:01\r\u001b[K     |██████████████████████▍         | 686 kB 8.5 MB/s eta 0:00:01\r\u001b[K     |██████████████████████▊         | 696 kB 8.5 MB/s eta 0:00:01\r\u001b[K     |███████████████████████         | 706 kB 8.5 MB/s eta 0:00:01\r\u001b[K     |███████████████████████▍        | 716 kB 8.5 MB/s eta 0:00:01\r\u001b[K     |███████████████████████▊        | 727 kB 8.5 MB/s eta 0:00:01\r\u001b[K     |████████████████████████        | 737 kB 8.5 MB/s eta 0:00:01\r\u001b[K     |████████████████████████▍       | 747 kB 8.5 MB/s eta 0:00:01\r\u001b[K     |████████████████████████▊       | 757 kB 8.5 MB/s eta 0:00:01\r\u001b[K     |█████████████████████████       | 768 kB 8.5 MB/s eta 0:00:01\r\u001b[K     |█████████████████████████▍      | 778 kB 8.5 MB/s eta 0:00:01\r\u001b[K     |█████████████████████████▊      | 788 kB 8.5 MB/s eta 0:00:01\r\u001b[K     |██████████████████████████      | 798 kB 8.5 MB/s eta 0:00:01\r\u001b[K     |██████████████████████████▍     | 808 kB 8.5 MB/s eta 0:00:01\r\u001b[K     |██████████████████████████▊     | 819 kB 8.5 MB/s eta 0:00:01\r\u001b[K     |███████████████████████████     | 829 kB 8.5 MB/s eta 0:00:01\r\u001b[K     |███████████████████████████▍    | 839 kB 8.5 MB/s eta 0:00:01\r\u001b[K     |███████████████████████████▊    | 849 kB 8.5 MB/s eta 0:00:01\r\u001b[K     |████████████████████████████    | 860 kB 8.5 MB/s eta 0:00:01\r\u001b[K     |████████████████████████████▍   | 870 kB 8.5 MB/s eta 0:00:01\r\u001b[K     |████████████████████████████▊   | 880 kB 8.5 MB/s eta 0:00:01\r\u001b[K     |█████████████████████████████   | 890 kB 8.5 MB/s eta 0:00:01\r\u001b[K     |█████████████████████████████▍  | 901 kB 8.5 MB/s eta 0:00:01\r\u001b[K     |█████████████████████████████▊  | 911 kB 8.5 MB/s eta 0:00:01\r\u001b[K     |██████████████████████████████  | 921 kB 8.5 MB/s eta 0:00:01\r\u001b[K     |██████████████████████████████▍ | 931 kB 8.5 MB/s eta 0:00:01\r\u001b[K     |██████████████████████████████▊ | 942 kB 8.5 MB/s eta 0:00:01\r\u001b[K     |███████████████████████████████ | 952 kB 8.5 MB/s eta 0:00:01\r\u001b[K     |███████████████████████████████▍| 962 kB 8.5 MB/s eta 0:00:01\r\u001b[K     |███████████████████████████████▊| 972 kB 8.5 MB/s eta 0:00:01\r\u001b[K     |████████████████████████████████| 981 kB 8.5 MB/s \n",
            "\u001b[?25hRequirement already satisfied: six in /usr/local/lib/python3.7/dist-packages (from langdetect) (1.15.0)\n",
            "Building wheels for collected packages: langdetect\n",
            "  Building wheel for langdetect (setup.py) ... \u001b[?25l\u001b[?25hdone\n",
            "  Created wheel for langdetect: filename=langdetect-1.0.9-py3-none-any.whl size=993242 sha256=c083b94613b1d9ca1ff66eb969150acfd6f47754c36a4c6d8957857d16f31615\n",
            "  Stored in directory: /root/.cache/pip/wheels/c5/96/8a/f90c59ed25d75e50a8c10a1b1c2d4c402e4dacfa87f3aff36a\n",
            "Successfully built langdetect\n",
            "Installing collected packages: langdetect\n",
            "Successfully installed langdetect-1.0.9\n",
            "Collecting contractions\n",
            "  Downloading contractions-0.1.68-py2.py3-none-any.whl (8.1 kB)\n",
            "Collecting textsearch>=0.0.21\n",
            "  Downloading textsearch-0.0.21-py2.py3-none-any.whl (7.5 kB)\n",
            "Collecting pyahocorasick\n",
            "  Downloading pyahocorasick-1.4.4-cp37-cp37m-manylinux_2_17_x86_64.manylinux2014_x86_64.whl (106 kB)\n",
            "\u001b[K     |████████████████████████████████| 106 kB 8.2 MB/s \n",
            "\u001b[?25hCollecting anyascii\n",
            "  Downloading anyascii-0.3.1-py3-none-any.whl (287 kB)\n",
            "\u001b[K     |████████████████████████████████| 287 kB 57.6 MB/s \n",
            "\u001b[?25hInstalling collected packages: pyahocorasick, anyascii, textsearch, contractions\n",
            "Successfully installed anyascii-0.3.1 contractions-0.1.68 pyahocorasick-1.4.4 textsearch-0.0.21\n"
          ]
        }
      ],
      "source": [
        "!pip install langdetect \n",
        "!pip install contractions"
      ]
    },
    {
      "cell_type": "code",
      "execution_count": 10,
      "metadata": {
        "colab": {
          "base_uri": "https://localhost:8080/"
        },
        "id": "Dv2aDFARGICk",
        "outputId": "fdc703a4-534b-48fb-bae2-ab8a3d070f56"
      },
      "outputs": [
        {
          "output_type": "stream",
          "name": "stdout",
          "text": [
            "[nltk_data] Downloading package punkt to /root/nltk_data...\n",
            "[nltk_data]   Unzipping tokenizers/punkt.zip.\n",
            "[nltk_data] Downloading package averaged_perceptron_tagger to\n",
            "[nltk_data]     /root/nltk_data...\n",
            "[nltk_data]   Unzipping taggers/averaged_perceptron_tagger.zip.\n",
            "[nltk_data] Downloading package tagsets to /root/nltk_data...\n",
            "[nltk_data]   Unzipping help/tagsets.zip.\n",
            "[nltk_data] Downloading package stopwords to /root/nltk_data...\n",
            "[nltk_data]   Unzipping corpora/stopwords.zip.\n",
            "[nltk_data] Downloading package wordnet to /root/nltk_data...\n",
            "[nltk_data]   Unzipping corpora/wordnet.zip.\n"
          ]
        }
      ],
      "source": [
        "# Importation des différentes librairies utiles pour le notebook\n",
        "\n",
        "#Sickit learn met régulièrement à jour des versions et \n",
        "#indique des futurs warnings. \n",
        "#ces deux lignes permettent de ne pas les afficher.\n",
        "import warnings\n",
        "warnings.filterwarnings(\"ignore\", category=FutureWarning)\n",
        "\n",
        "# librairies générales\n",
        "import pickle \n",
        "import pandas as pd\n",
        "from scipy.stats import randint\n",
        "import numpy as np\n",
        "import string\n",
        "import time\n",
        "import base64\n",
        "import re\n",
        "import sys\n",
        "\n",
        "import contractions\n",
        "\n",
        "# librairie BeautifulSoup\n",
        "from bs4 import BeautifulSoup\n",
        "\n",
        "# librairie affichage\n",
        "import matplotlib.pyplot as plt\n",
        "import seaborn as sns\n",
        "import wordcloud\n",
        "\n",
        "## detection de language\n",
        "import langdetect \n",
        "\n",
        "import nltk\n",
        "from nltk import sent_tokenize\n",
        "from nltk.tokenize import word_tokenize\n",
        "from nltk.stem import WordNetLemmatizer\n",
        "from nltk.stem import PorterStemmer\n",
        "from nltk import RegexpParser\n",
        "\n",
        "# il est possible de charger l'ensemble des librairies en une seule fois \n",
        "# décocher le commentaire de la ligne ci-dessous\n",
        "nltk.download('punkt')\n",
        "nltk.download('averaged_perceptron_tagger')\n",
        "from nltk import pos_tag\n",
        "nltk.download('tagsets')\n",
        "nltk.download(\"stopwords\")\n",
        "nltk.download('wordnet')\n",
        "\n",
        "from nltk.corpus import stopwords\n",
        "\n",
        "from sklearn.feature_extraction.text import TfidfVectorizer\n",
        "\n",
        "import spacy\n",
        "from spacy.tokens import Span\n",
        "# il faut sélectionner pour quelle langue les traitements vont être faits.\n",
        "nlp = spacy.load('en')"
      ]
    },
    {
      "cell_type": "code",
      "execution_count": 11,
      "metadata": {
        "id": "w6xYEr-1jeon"
      },
      "outputs": [],
      "source": [
        "# Loading training set and testing set\n",
        "df_train = pd.read_csv(\"train.csv\",sep=\";\")\n",
        "df_test = pd.read_csv(\"test.csv\",sep=\";\")\n",
        "\n",
        "del df_train['Unnamed: 0'];del df_test['Unnamed: 0']"
      ]
    },
    {
      "cell_type": "markdown",
      "metadata": {
        "id": "1qFonKxTD8c3"
      },
      "source": [
        "### Text Preprocessing class and function\n",
        "\n",
        "\n",
        "\n"
      ]
    },
    {
      "cell_type": "code",
      "execution_count": 12,
      "metadata": {
        "id": "jfjGSadiPMMQ"
      },
      "outputs": [],
      "source": [
        "# text = np.concatenate((df_train[\"text\"],df_test[\"text\"]))\n",
        "\n",
        "# def contains_digit(word):\n",
        "#   for c in word:\n",
        "#     if c.isdigit():\n",
        "#       return True\n",
        "#   return False\n",
        "\n",
        "# stopwords = np.array(nltk.corpus.stopwords.words('english'))\n",
        "\n",
        "# for i,sentence in zip(range(len(text)),text):\n",
        "#   # Removing punctuation\n",
        "#   tokenizer = nltk.RegexpTokenizer(r\"\\w+\")\n",
        "#   sentence = tokenizer.tokenize(sentence)\n",
        "\n",
        "#   sentence = \" \".join(sentence)\n",
        "#   sentence = re.sub(r'Unknown', '', str(sentence))\n",
        "\n",
        "#   sentence = word_tokenize(sentence)\n",
        "\n",
        "#   # converting each word to lowercase\n",
        "#   sentence = [word.lower() for word in sentence if not word in stopwords]\n",
        "\n",
        "#   # Removing stopwords\n",
        "#   sentence = [word for word in sentence if not word in stopwords]\n",
        "\n",
        "#   # Removing word with only one letter\n",
        "#   sentence = [word for word in sentence if len(word) != 1]\n",
        "\n",
        "#   # Removing word with digits\n",
        "#   sentence = [word for word in sentence if not contains_digit(word)]\n",
        "\n",
        "#   # stemmer words \n",
        "#   # lemmatizer = WordNetLemmatizer()\n",
        "#   ps = PorterStemmer()\n",
        "#   sentence = [ps.stem(word) for word in sentence]\n",
        "\n",
        "#   ## Removing pronouns infinitive verbs dt...\n",
        "#   # for word in nltk.pos_tag(sentence):\n",
        "#   #   word_to_keep = []\n",
        "#   #   if word[1] not in ['IN', 'PP', 'DT','PRP$','VB','MD']:\n",
        "#   #     word_to_keep.append(word[0])\n",
        "  \n",
        "#   sentence = (\" \").join(sentence)\n",
        "#   text[i] = sentence"
      ]
    },
    {
      "cell_type": "code",
      "execution_count": 13,
      "metadata": {
        "id": "-7WVUWnZ5Xek"
      },
      "outputs": [],
      "source": [
        "from sklearn.base import BaseEstimator, TransformerMixin\n",
        "\n",
        "def MyCleanText(X, \n",
        "  lowercase=False, # mettre en minuscule\n",
        "  removestopwords=False, # supprimer les stopwords\n",
        "  removedigit=False, # supprimer les nombres \n",
        "  getstemmer=False, # conserver la racine des termes\n",
        "  getlemmatisation=False # lematisation des termes \n",
        "  ):\n",
        "\n",
        "  sentence=str(X)\n",
        "\n",
        "  # suppression des caractères spéciaux\n",
        "  sentence = re.sub(r'[^\\w\\s]',' ', sentence)\n",
        "  # suppression de tous les caractères uniques\n",
        "  sentence = re.sub(r'\\s+[a-zA-Z]\\s+', ' ', sentence)\n",
        "  # substitution des espaces multiples par un seul espace\n",
        "  sentence = re.sub(r'\\s+', ' ', sentence, flags=re.I)\n",
        "  # subtitution of Unknown\n",
        "  sentence = re.sub(r'Unknown', '', sentence)\n",
        "\n",
        "  # remove some space\n",
        "  sentence = sentence.strip()\n",
        "\n",
        "  # decoupage en mots\n",
        "  tokens = word_tokenize(sentence)\n",
        "  if lowercase:\n",
        "    tokens = [token.lower() for token in tokens]\n",
        "\n",
        "  # suppression ponctuation\n",
        "  table = str.maketrans('', '', string.punctuation)\n",
        "  words = [token.translate(table) for token in tokens]\n",
        "\n",
        "  # suppression des tokens non alphabetique ou numerique\n",
        "  words = [word for word in words if word.isalnum()]\n",
        "\n",
        "  # suppression des tokens numerique\n",
        "  if removedigit:\n",
        "    words = [word for word in words if not word.isdigit()]\n",
        "\n",
        "  # suppression des stopwords\n",
        "  if removestopwords:\n",
        "    stopwords = np.array(nltk.corpus.stopwords.words('english'))\n",
        "    words = [word for word in words if not word in stopwords]\n",
        "\n",
        "  # lemmatisation\n",
        "  if getlemmatisation:\n",
        "    lemmatizer=WordNetLemmatizer()\n",
        "    words = [lemmatizer.lemmatize(word)for word in words]\n",
        "\n",
        "\n",
        "  # racinisation\n",
        "  if getstemmer:\n",
        "    ps = PorterStemmer()\n",
        "    words=[ps.stem(word) for word in words]\n",
        "\n",
        "    sentence= ' '.join(words)\n",
        "\n",
        "  return sentence \n",
        "\n",
        "class TextNormalizer(BaseEstimator, TransformerMixin):\n",
        "  def __init__(self, \n",
        "    removestopwords=False, # suppression des stopwords\n",
        "    lowercase=False,# passage en minuscule\n",
        "    removedigit=False, # supprimer les nombres \n",
        "    getstemmer=False,# racinisation des termes \n",
        "    getlemmatisation=False # lemmatisation des termes \n",
        "    ):\n",
        "  \n",
        "    self.lowercase=lowercase\n",
        "    self.getstemmer=getstemmer\n",
        "    self.removestopwords=removestopwords\n",
        "    self.getlemmatisation=getlemmatisation\n",
        "    self.removedigit=removedigit\n",
        "    \n",
        "\n",
        "  def transform(self, X, **transform_params):\n",
        "    # Nettoyage du texte\n",
        "    X=X.copy() # pour conserver le fichier d'origine\n",
        "    return [MyCleanText(text,lowercase=self.lowercase,\n",
        "    getstemmer=self.getstemmer,\n",
        "    removestopwords=self.removestopwords,\n",
        "    getlemmatisation=self.getlemmatisation,\n",
        "    removedigit=self.removedigit) for text in X]\n",
        "\n",
        "  def fit(self, X, y=None, **fit_params):\n",
        "    return self\n",
        "  \n",
        "  def fit_transform(self, X, y=None, **fit_params):\n",
        "    return self.fit(X).transform(X)\n",
        "\n",
        "  def get_params(self, deep=True):\n",
        "    return {\n",
        "    'lowercase':self.lowercase,\n",
        "    'getstemmer':self.getstemmer,\n",
        "    'removestopwords':self.removestopwords,\n",
        "    'getlemmatisation':self.getlemmatisation,\n",
        "    'removedigit':self.removedigit\n",
        "    } \n",
        "  \n",
        "  def set_params (self, **parameters):\n",
        "    for parameter, value in parameters.items():\n",
        "      setattr(self,parameter,value)\n",
        "    return self \n",
        "\n"
      ]
    },
    {
      "cell_type": "code",
      "execution_count": 14,
      "metadata": {
        "id": "u8Qq76KFDRaJ"
      },
      "outputs": [],
      "source": [
        "def preprocess_selection(model_name,model,X,y,lowercase=False):\n",
        "    CV_brut = Pipeline([('cleaner', TextNormalizer()), \n",
        "                        ('count_vectorizer', CountVectorizer(lowercase=False)),\n",
        "                        (model_name, model)])\n",
        "    CV_lowcase = Pipeline([('cleaner', TextNormalizer(removestopwords=False,lowercase=True,\n",
        "                                                getstemmer=False,removedigit=False)), \n",
        "                        ('count_vectorizer', CountVectorizer(lowercase=lowercase)),\n",
        "                        (model_name, model)])\n",
        "    CV_lowStop = Pipeline([('cleaner', TextNormalizer(removestopwords=True,lowercase=True,\n",
        "                                                getstemmer=False,removedigit=False)), \n",
        "                        ('count_vectorizer', CountVectorizer(lowercase=lowercase)),\n",
        "                        (model_name, model)])\n",
        "\n",
        "    CV_lowStopstem = Pipeline([('cleaner', TextNormalizer(removestopwords=True,lowercase=True,\n",
        "                                                getstemmer=True,removedigit=False)), \n",
        "                        ('count_vectorizer', CountVectorizer(lowercase=lowercase)),\n",
        "                        (model_name, model)])\n",
        "    \n",
        "    CV_lowStopna = Pipeline([('cleaner', TextNormalizer(removestopwords=True,lowercase=True,\n",
        "                                                getstemmer=True,removedigit=True)), \n",
        "                        ('count_vectorizer', CountVectorizer(lowercase=lowercase)),\n",
        "                        (model_name, model)])\n",
        "\n",
        "    TFIDF_brut = Pipeline ([('cleaner', TextNormalizer()), \n",
        "                        ('tfidf_vectorizer', TfidfVectorizer(lowercase=lowercase)),\n",
        "                        (model_name, model)])\n",
        "\n",
        "    TFIDF_lowcase = Pipeline([('cleaner', TextNormalizer(removestopwords=False,lowercase=True,\n",
        "                                                getstemmer=False,removedigit=False)), \n",
        "                        ('tfidf_vectorizer', TfidfVectorizer(lowercase=lowercase)),\n",
        "                        (model_name, model)])\n",
        "    TFIDF_lowStop = Pipeline([('cleaner', TextNormalizer(removestopwords=True,lowercase=True,\n",
        "                                                getstemmer=False,removedigit=False)), \n",
        "                        ('tfidf_vectorizer', TfidfVectorizer(lowercase=lowercase)),\n",
        "                        (model_name, model)])\n",
        "\n",
        "    TFIDF_lowStopstem = Pipeline([('cleaner', TextNormalizer(removestopwords=True,lowercase=True,\n",
        "                                                getstemmer=True,removedigit=False)), \n",
        "                        ('tfidf_vectorizer', TfidfVectorizer(lowercase=lowercase)),\n",
        "                        (model_name, model)])\n",
        "    TFIDF_lowStopna = Pipeline([('cleaner', TextNormalizer(removestopwords=True,lowercase=True,\n",
        "                                                getstemmer=True,removedigit=True)), \n",
        "                        ('tfidf_vectorizer', TfidfVectorizer(lowercase=lowercase)),\n",
        "                        (model_name, model)])\n",
        "\n",
        "    all_models = [\n",
        "        (\"CV_brut\", CV_brut),\n",
        "        (\"CV_lowcase\", CV_lowcase),\n",
        "        (\"CV_lowStop\", CV_lowStop),\n",
        "        (\"CV_lowStopstem\",CV_lowStopstem),\n",
        "        (\"CV_lowStopna\",CV_lowStopna),\n",
        "        (\"TFIDF_lowStopna\", TFIDF_lowStopna),\n",
        "        (\"TFIDF_lowcase\", TFIDF_lowcase),\n",
        "        (\"TFIDF_lowStop\", TFIDF_lowStop),\n",
        "        (\"TFIDF_lowStopstem\",TFIDF_lowStopstem),\n",
        "        (\"TFIDF_brut\", TFIDF_brut),\n",
        "    ]\n",
        "\n",
        "    print (\"Evaluation des différentes configurations : \")\n",
        "    unsorted_scores = [(name, cross_val_score(model, X, y, cv=5).mean()) for name, model in all_models]\n",
        "    scores = sorted(unsorted_scores, key=lambda x: -x[1])\n",
        "\n",
        "\n",
        "    print(tabulate(scores, floatfmt='.4f', headers=('Pipeline', 'Score')))"
      ]
    },
    {
      "cell_type": "markdown",
      "metadata": {
        "id": "je4KpcyhL7MG"
      },
      "source": [
        "### Selecting best preprocessing\n",
        "OPTIONAL!\n",
        "WARNING !!!\n",
        "<br>\n",
        "May take some minutes\n",
        "<br>\n",
        "example below ->"
      ]
    },
    {
      "cell_type": "code",
      "execution_count": 15,
      "metadata": {
        "colab": {
          "base_uri": "https://localhost:8080/"
        },
        "id": "XIbKtTePL_5u",
        "outputId": "5e282ec2-c5b4-4b0b-9e39-6056992c5bb0"
      },
      "outputs": [
        {
          "output_type": "stream",
          "name": "stdout",
          "text": [
            "Evaluation des différentes configurations : \n",
            "Pipeline             Score\n",
            "-----------------  -------\n",
            "TFIDF_lowcase       0.6300\n",
            "TFIDF_lowStop       0.6300\n",
            "TFIDF_brut          0.6300\n",
            "CV_brut             0.6260\n",
            "CV_lowcase          0.6260\n",
            "CV_lowStop          0.6260\n",
            "CV_lowStopna        0.6120\n",
            "CV_lowStopstem      0.6100\n",
            "TFIDF_lowStopstem   0.6080\n",
            "TFIDF_lowStopna     0.6060\n"
          ]
        }
      ],
      "source": [
        "X = df_train[\"text\"]\n",
        "y = df_train[\"label\"] \n",
        "\n",
        "X_s = X.sample(500)\n",
        "y_s = y.loc[X_s.index]\n",
        "preprocess_selection(\"multinomial_nb\",MultinomialNB(),X_s,y_s)"
      ]
    },
    {
      "cell_type": "markdown",
      "source": [
        "# ACP Visualisation des données"
      ],
      "metadata": {
        "id": "eQZJhmMxvzWR"
      }
    },
    {
      "cell_type": "code",
      "source": [
        "X = df_train[\"text\"]\n",
        "y = df_train[\"label\"]\n",
        "text_normalizer= TextNormalizer(removestopwords=False,lowercase=True,getstemmer=False,removedigit=False) \n",
        "X=text_normalizer.fit_transform(X)\n",
        "vectorizer = TfidfVectorizer()\n",
        "X = vectorizer.fit_transform(X)"
      ],
      "metadata": {
        "id": "yp0myLlPv3vG"
      },
      "execution_count": 16,
      "outputs": []
    },
    {
      "cell_type": "code",
      "source": [
        "from sklearn.decomposition import TruncatedSVD\n",
        "svd = TruncatedSVD(n_components=2)\n",
        "X_svd = svd.fit_transform(X)\n",
        "\n",
        "print(\"variance ratio: \",svd.explained_variance_ratio_)\n",
        "\n",
        "print(\"variance ratio sum: \",svd.explained_variance_ratio_.sum())\n",
        "print(\"singular values:\" ,svd.singular_values_)\n",
        "fig,ax = plt.subplots(figsize=(15,15))\n",
        "ax.scatter(X_svd[:1000,0], X_svd[:1000,1], alpha=0.2,c=y[:1000])\n",
        "plt.show()"
      ],
      "metadata": {
        "colab": {
          "base_uri": "https://localhost:8080/",
          "height": 918
        },
        "id": "vOW7jZSvy3At",
        "outputId": "863b820d-9c9c-454d-94b8-05d2c3807fc4"
      },
      "execution_count": 17,
      "outputs": [
        {
          "output_type": "stream",
          "name": "stdout",
          "text": [
            "variance ratio:  [0.00247753 0.00474426]\n",
            "variance ratio sum:  0.00722178940701316\n",
            "singular values: [11.49699267  6.12562582]\n"
          ]
        },
        {
          "output_type": "display_data",
          "data": {
            "text/plain": [
              "<Figure size 1080x1080 with 1 Axes>"
            ],
            "image/png": "[encoded data removed]"
          },
          "metadata": {
            "needs_background": "light"
          }
        }
      ]
    },
    {
      "cell_type": "code",
      "source": [
        "from mpl_toolkits.mplot3d import Axes3D\n",
        "svd = TruncatedSVD(n_components=3)\n",
        "X_svd = svd.fit_transform(X)\n",
        "fig,ax = plt.subplots(figsize = (15,15))\n",
        "ax = fig.gca(projection='3d')\n",
        "ax.scatter(X_svd[:1000,0],X_svd[:1000,1],\n",
        "     X_svd[:1000,2],\n",
        "     zdir='z',s=40,depthshade=True,c=y[:1000])\n",
        "plt.show()"
      ],
      "metadata": {
        "colab": {
          "base_uri": "https://localhost:8080/",
          "height": 904
        },
        "id": "vA2iOOEJ0BKB",
        "outputId": "c7cb6b9c-c2ca-4c5a-becf-e90a8db3c824"
      },
      "execution_count": 18,
      "outputs": [
        {
          "output_type": "stream",
          "name": "stderr",
          "text": [
            "/usr/local/lib/python3.7/dist-packages/ipykernel_launcher.py:5: UserWarning: Requested projection is different from current axis projection, creating new axis with requested projection.\n",
            "  \"\"\"\n"
          ]
        },
        {
          "output_type": "display_data",
          "data": {
            "text/plain": [
              "<Figure size 1080x1080 with 2 Axes>"
            ],
            "image/png": "[encoded data removed]"
          },
          "metadata": {
            "needs_background": "light"
          }
        }
      ]
    },
    {
      "cell_type": "markdown",
      "metadata": {
        "id": "P5mcMyy65Kiz"
      },
      "source": [
        "# Premières approches "
      ]
    },
    {
      "cell_type": "code",
      "execution_count": 19,
      "metadata": {
        "id": "niBEZbyh6UfA"
      },
      "outputs": [],
      "source": [
        "def plot_confusion_matrix(cm, classes=classes,\n",
        "                          normalize=False,\n",
        "                          title='Confusion matrix',\n",
        "                          cmap=plt.cm.Blues):\n",
        "    \"\"\"\n",
        "    See full source and example: \n",
        "    http://scikit-learn.org/stable/auto_examples/model_selection/plot_confusion_matrix.html\n",
        "    \n",
        "    This function prints and plots the confusion matrix.\n",
        "    Normalization can be applied by setting `normalize=True`.\n",
        "    \"\"\"\n",
        "    plt.imshow(cm, interpolation='nearest', cmap=cmap)\n",
        "    plt.title(title)\n",
        "    plt.colorbar()\n",
        "    tick_marks = np.arange(len(classes))\n",
        "    plt.xticks(tick_marks, classes, rotation=45)\n",
        "    plt.yticks(tick_marks, classes)\n",
        "\n",
        "    if normalize:\n",
        "        cm = cm.astype('float') / cm.sum(axis=1)[:, np.newaxis]\n",
        "        print(\"Normalized confusion matrix\")\n",
        "    else:\n",
        "        print('Confusion matrix, without normalization')\n",
        "\n",
        "    thresh = 2*cm.max() / 3.\n",
        "    for i, j in itertools.product(range(cm.shape[0]), range(cm.shape[1])):\n",
        "        plt.text(j, i, cm[i, j],\n",
        "                 horizontalalignment=\"center\",\n",
        "                 color=\"white\" if cm[i, j] > thresh else \"black\")\n",
        "\n",
        "    plt.tight_layout()\n",
        "    plt.ylabel('True label')\n",
        "    plt.xlabel('Predicted label')\n",
        "\n",
        "\n",
        "def plot_quad_error(X,y,model):\n",
        "  arr1=[];arr2=[]\n",
        "  size = np.linspace(500,int(len(X)),25).astype('int32')\n",
        "  for m in size:\n",
        "    X_s = X.sample(m)\n",
        "    y_s = y.loc[X_s.index]\n",
        "    X_train,X_val,y_train,y_val = train_test_split(X_s,y_s,train_size=0.8,random_state=0)\n",
        "    clf = model.fit(X_train, y_train)\n",
        "    y_pred_train = clf.predict(X_train)\n",
        "    y_pred_val = clf.predict(X_val)\n",
        "    squarred_error_train = (1/len(y_pred_train))*np.sum((y_pred_train - y_train)**2)\n",
        "    squared_error_CV = (1/len(y_pred_val))*np.sum((y_pred_val - y_val)**2)\n",
        "    arr1.append(squarred_error_train)\n",
        "    arr2.append(squared_error_CV)\n",
        "\n",
        "  plt.plot(size,arr1,label='train error')\n",
        "  plt.plot(size,arr2,label='cv error')\n",
        "  plt.xlabel(\"Training Size\")\n",
        "  plt.gca().set_xlim([100,len(X)])\n",
        "  plt.ylabel(\"Quadratic Error\")\n",
        "  plt.title(\"Model Evaluation\")\n",
        "  plt.legend()\n",
        "  plt.show()"
      ]
    },
    {
      "cell_type": "markdown",
      "metadata": {
        "id": "pkOMzjASJd3_"
      },
      "source": [
        "## Logistic Regression special application (only for True vs False)"
      ]
    },
    {
      "cell_type": "markdown",
      "metadata": {
        "id": "7uZgCJHcuZlj"
      },
      "source": [
        "### special preprocessing based on frequency transformation\n",
        "\n",
        "Before running the classifier we need to compute the fake frequency and non fake frequency of each word. By this I mean counting each word appareance in the fake corpus (set of all fake post) and in the non fake corpus (set of all non fake post. From approximatively 3000 features one corresponding to each word we are now only dealing with 2."
      ]
    },
    {
      "cell_type": "code",
      "execution_count": 20,
      "metadata": {
        "id": "l1WsjBzWuWiZ"
      },
      "outputs": [],
      "source": [
        "# Last step of preprocessing = vectorizing the text\n",
        "text = np.concatenate((df_train[\"text\"],df_test[\"text\"]))\n",
        "label = np.concatenate((df_train[\"label\"],df_test[\"label\"]))\n",
        "\n",
        "arr = [i for i in range(len(df_train)+len(df_test))]\n",
        "idx = np.random.choice(arr,300)\n",
        "text = np.concatenate((df_train[\"text\"],df_test[\"text\"]))\n",
        "text = text[idx]\n",
        "label = label[idx]\n",
        "\n",
        "text_normalizer=TextNormalizer(lowercase=True)  \n",
        "text=text_normalizer.fit_transform(text)\n",
        "text = np.array(text)\n",
        "\n",
        "vectorizer = TfidfVectorizer()\n",
        "vectors = vectorizer.fit_transform(text)\n",
        "corpus = np.array(vectorizer.get_feature_names())"
      ]
    },
    {
      "cell_type": "code",
      "execution_count": 21,
      "metadata": {
        "id": "bLsF3P9jugyv"
      },
      "outputs": [],
      "source": [
        "def get_fake_no_fake_text(text):\n",
        "  fake_text = np.array(text[label == 0])\n",
        "  non_fake_text = np.array(text[label == 1])\n",
        "  return fake_text,non_fake_text\n",
        "\n",
        "def compute_frequency(fake_text,non_fake_text):\n",
        "  # Computes 2 different frequency use of dictionary for O(1) time acces to value of a paticular word\n",
        "  fake_text = \" \".join(fake_text)\n",
        "  fake_text = word_tokenize(fake_text)\n",
        "  non_fake_text = \" \".join(non_fake_text)\n",
        "  non_fake_text = word_tokenize(non_fake_text)\n",
        "  corpus = np.unique(np.concatenate((fake_text,non_fake_text),axis=0))\n",
        "\n",
        "  FakeFreq = {w:0 for w in corpus}\n",
        "  NonFakeFreq = {w:0 for w in corpus}\n",
        "\n",
        "  for word in fake_text:\n",
        "    FakeFreq[word] += 1\n",
        "\n",
        "  for word in non_fake_text:\n",
        "    NonFakeFreq[word] += 1\n",
        "\n",
        "  return FakeFreq,NonFakeFreq"
      ]
    },
    {
      "cell_type": "markdown",
      "metadata": {
        "id": "0NDkzoLDx96V"
      },
      "source": [
        "Before running the logistic regression algorithm we need to compute the frequency of each word in the 2 corpus\n",
        "<br>\n",
        "\n",
        "The training example will the have the following format with 1 for the bias term. \n",
        "$$ X^{(i)} = \\begin{pmatrix}\n",
        "1 \\\\\n",
        "X_{Fake}^{(i)} \\\\\n",
        "X_{NoFake}^{(i)} \n",
        "\\end{pmatrix} $$\n"
      ]
    },
    {
      "cell_type": "code",
      "execution_count": 22,
      "metadata": {
        "id": "qFPiDlUkzo9p"
      },
      "outputs": [],
      "source": [
        "fake_text,non_fake_text= get_fake_no_fake_text(text)\n",
        "FakeFreq,NonFakeFreq = compute_frequency(fake_text,non_fake_text)"
      ]
    },
    {
      "cell_type": "code",
      "execution_count": 23,
      "metadata": {
        "id": "mN4X2ogMzoDQ"
      },
      "outputs": [],
      "source": [
        "def feat_extraction_fake(row):\n",
        "  row_text = word_tokenize(row)\n",
        "  sum_fake_freq = 0\n",
        "  for word in row_text:\n",
        "    sum_fake_freq += FakeFreq[word]\n",
        "  return sum_fake_freq\n",
        "\n",
        "def feat_extraction_no_fake(row):\n",
        "  row_text = word_tokenize(row)\n",
        "  sum_non_fake_freq = 0\n",
        "  for word in row_text:\n",
        "    sum_non_fake_freq += NonFakeFreq[word]\n",
        "  return sum_non_fake_freq"
      ]
    },
    {
      "cell_type": "code",
      "execution_count": 24,
      "metadata": {
        "id": "OQVrIheJqwfj"
      },
      "outputs": [],
      "source": [
        "dfbis_train = pd.DataFrame(text,columns=[\"text\"])\n",
        "dfbis_train[\"bias\"] = 1\n",
        "dfbis_train[\"fake\"] = dfbis_train[\"text\"].apply(feat_extraction_fake)\n",
        "dfbis_train[\"no fake\"] = dfbis_train[\"text\"].apply(feat_extraction_no_fake)\n",
        "\n",
        "X = dfbis_train[[\"fake\",\"no fake\"]]\n",
        "y = pd.DataFrame(label,columns=[\"truthRating\"])"
      ]
    },
    {
      "cell_type": "markdown",
      "metadata": {
        "id": "eR2NsWz-BiHe"
      },
      "source": [
        "Logistic Regression implementation:\n",
        "<br>\n",
        "In short we are the trying to minimize the following cost function with the help to the famous gradient descent algorithm.\n",
        "<br>\n",
        "$$ J(θ) = -\\dfrac{1}{m}*\\sum_{i=1}^{m}[ \\log h(x^{(i)},θ) + (1 - y^{(i)})*log(1 - h(x^{(i)},θ))] $$\n",
        "<br>\n",
        "with h the sigmoid function define as follow $$ h(x^{i},θ) = \\dfrac{1}{1 + e^{-θ^{T}*x^{(i)}}} $$\n",
        "\n",
        "<br>\n",
        "\n",
        "$m =$ number of training examples\n",
        "<br>\n",
        "\n",
        "$x(i) =$ i-th example of the training set \n",
        "<br>\n",
        "\n",
        "Thus we make sure to resolve a convex problem and by this gradient descent find a global minima."
      ]
    },
    {
      "cell_type": "markdown",
      "metadata": {
        "id": "31SEMHPhuvQx"
      },
      "source": [
        "Training"
      ]
    },
    {
      "cell_type": "code",
      "execution_count": 25,
      "metadata": {
        "id": "yyaETv45yo6_",
        "colab": {
          "base_uri": "https://localhost:8080/"
        },
        "outputId": "fe7a9da2-7a34-44ea-db49-47be689081e6"
      },
      "outputs": [
        {
          "output_type": "stream",
          "name": "stdout",
          "text": [
            "accuracy 0.75\n",
            "              precision    recall  f1-score   support\n",
            "\n",
            "     No Fake       0.71      0.83      0.76        29\n",
            "        Fake       0.81      0.68      0.74        31\n",
            "\n",
            "    accuracy                           0.75        60\n",
            "   macro avg       0.76      0.75      0.75        60\n",
            "weighted avg       0.76      0.75      0.75        60\n",
            "\n"
          ]
        },
        {
          "output_type": "stream",
          "name": "stderr",
          "text": [
            "/usr/local/lib/python3.7/dist-packages/sklearn/utils/validation.py:993: DataConversionWarning: A column-vector y was passed when a 1d array was expected. Please change the shape of y to (n_samples, ), for example using ravel().\n",
            "  y = column_or_1d(y, warn=True)\n"
          ]
        }
      ],
      "source": [
        "X_train,X_val,y_train,y_val = train_test_split(X,y,train_size=0.8,random_state=0)\n",
        "\n",
        "clf = LogisticRegression(random_state=0).fit(X_train, y_train)\n",
        "\n",
        "y_pred = clf.predict(X_val)\n",
        "\n",
        "target_names = [\"No Fake\",\"Fake\"]\n",
        "\n",
        "print('accuracy %s' % accuracy_score(y_pred, y_val))\n",
        "print(classification_report(y_val, y_pred, target_names=target_names))"
      ]
    },
    {
      "cell_type": "code",
      "execution_count": 26,
      "metadata": {
        "id": "ah5UYvHR2AkM",
        "colab": {
          "base_uri": "https://localhost:8080/",
          "height": 330
        },
        "outputId": "0afdbf40-94e9-4f01-e2d8-925e75ae9020"
      },
      "outputs": [
        {
          "output_type": "stream",
          "name": "stdout",
          "text": [
            "Confusion matrix, without normalization\n"
          ]
        },
        {
          "output_type": "display_data",
          "data": {
            "text/plain": [
              "<Figure size 432x288 with 2 Axes>"
            ],
            "image/png": "[encoded data removed]"
          },
          "metadata": {
            "needs_background": "light"
          }
        }
      ],
      "source": [
        "plot_confusion_matrix(confusion_matrix(y_val, y_pred), classes=[\"Fake\",\"No Fake\"])"
      ]
    },
    {
      "cell_type": "markdown",
      "metadata": {
        "id": "orDvOWUR2WNp"
      },
      "source": [
        "Etant donnée la simplicité de nos features seulement 2 il n'est pas nécesaire ici d'appliquer des algorithmes de classifications plus performant sachant qu'ici une simple regression répond très bien à notre problème."
      ]
    },
    {
      "cell_type": "markdown",
      "metadata": {
        "id": "jUHxo9K61Tjm"
      },
      "source": [
        "## Naives Bayes"
      ]
    },
    {
      "cell_type": "markdown",
      "metadata": {
        "id": "-Z9pNHtg8W3Z"
      },
      "source": [
        "<br>\n",
        "\n",
        "Naives Bayes Approach Inference Rules for binary classification.\n",
        "<br>\n",
        "\n",
        "$$\\prod_{i=1}^{n} \\dfrac{P \\left( wi \\middle| \\ Fake \\right)}{P \\left( wi \\middle| \\ NonFake \\right)}$$\n",
        "<br>\n",
        "This expression says that we're going to take the product across all of the words (n words) in a post of the probability for each word in the fake class divide it by the probability in the non fake class\n",
        "<br>\n",
        "\n",
        "Laplacian Smoothing technique to avoid zero probability issue with the formula above\n",
        "<br>\n",
        "\n",
        "$$P \\left( wi \\middle| \\ class \\right) = \\dfrac{freq(wi,class)+1}{Nc + Vc} \\\\ class \\in \\{ Fake , Non Fake \\} $$\n",
        "<br>\n",
        "\n",
        "$N_c = \\ $frequency of all words in class \n",
        "class\n",
        "<br>\n",
        "\n",
        "​$V =\\ $number of unique words in vocabulary\n",
        "<br>"
      ]
    },
    {
      "cell_type": "code",
      "execution_count": 27,
      "metadata": {
        "id": "87tfMjlcK64L"
      },
      "outputs": [],
      "source": [
        "X = df_train[\"text\"]\n",
        "y = df_train[\"ratingName\"] \n",
        "\n",
        "text_normalizer= TextNormalizer(removestopwords=True,lowercase=True,getstemmer=True,removedigit=True) \n",
        "X=text_normalizer.fit_transform(X)"
      ]
    },
    {
      "cell_type": "code",
      "execution_count": 28,
      "metadata": {
        "colab": {
          "base_uri": "https://localhost:8080/"
        },
        "id": "7MUpJblbD0Jz",
        "outputId": "801987e0-7a0b-4a72-be01-3429c72319d9"
      },
      "outputs": [
        {
          "output_type": "stream",
          "name": "stdout",
          "text": [
            "accuracy 0.658485856905158\n",
            "              precision    recall  f1-score   support\n",
            "\n",
            "        True       0.66      0.65      0.65      1189\n",
            "       False       0.66      0.67      0.66      1215\n",
            "\n",
            "    accuracy                           0.66      2404\n",
            "   macro avg       0.66      0.66      0.66      2404\n",
            "weighted avg       0.66      0.66      0.66      2404\n",
            "\n"
          ]
        }
      ],
      "source": [
        "X_train,X_val,y_train,y_val = train_test_split(X,y,train_size=0.7,random_state=0)\n",
        "\n",
        "nb = Pipeline([('vect', TfidfVectorizer()),\n",
        "               ('tfidf', TfidfTransformer()),\n",
        "               ('clf', MultinomialNB()),\n",
        "              ])\n",
        "nb.fit(X_train, y_train)\n",
        "\n",
        "y_pred = nb.predict(X_val)\n",
        "\n",
        "print('accuracy %s' % accuracy_score(y_pred, y_val))\n",
        "print(classification_report(y_val, y_pred,target_names=classes))"
      ]
    },
    {
      "cell_type": "markdown",
      "metadata": {
        "id": "LjIDmkrAGXLa"
      },
      "source": [
        "# ML Comparaison de tous les classifieurs"
      ]
    },
    {
      "cell_type": "markdown",
      "metadata": {
        "id": "p_bqvgoUCNf9"
      },
      "source": [
        "## Cross Validation"
      ]
    },
    {
      "cell_type": "code",
      "execution_count": 29,
      "metadata": {
        "id": "c2qbEYCDCQ_U"
      },
      "outputs": [],
      "source": [
        "X = df_train[\"text\"]\n",
        "y = df_train[\"label\"]\n",
        "# found when testing different parameters in the preprocessing  \n",
        "text_normalizer= TextNormalizer(removestopwords=False,lowercase=True,getstemmer=False,removedigit=False) \n",
        "X=text_normalizer.fit_transform(X)\n",
        "\n",
        "models = []\n",
        "models.append(('LRegression', LogisticRegression()))\n",
        "models.append(('KNN', KNeighborsClassifier()))\n",
        "models.append(('MultinomialNB', MultinomialNB()))\n",
        "models.append(('DecisionTreeClassifier', DecisionTreeClassifier()))\n",
        "models.append(('SVM', SVC()))\n",
        "models.append(('SGDClassifier',SGDClassifier()))\n",
        "models.append(('RandomForest', RandomForestClassifier()))\n",
        "models.append(('PassiveAggressiveClassifier',PassiveAggressiveClassifier()))"
      ]
    },
    {
      "cell_type": "code",
      "execution_count": 30,
      "metadata": {
        "colab": {
          "base_uri": "https://localhost:8080/"
        },
        "id": "M_i7PAfLCU44",
        "outputId": "cf921581-1b1d-4bc9-a080-0b0e0468b6d5"
      },
      "outputs": [
        {
          "output_type": "stream",
          "name": "stdout",
          "text": [
            "LRegression: 0.672281 (0.010370)\n",
            "KNN: 0.624734 (0.008487)\n",
            "MultinomialNB: 0.668165 (0.007211)\n",
            "DecisionTreeClassifier: 0.610507 (0.012072)\n",
            "SVM: 0.678026 (0.015381)\n",
            "SGDClassifier: 0.676151 (0.006028)\n",
            "RandomForest: 0.679893 (0.016608)\n",
            "PassiveAggressiveClassifier: 0.645827 (0.009453)\n"
          ]
        }
      ],
      "source": [
        "results = []\n",
        "names = []\n",
        "scoring = 'accuracy'\n",
        "for name, model in models:\n",
        "  kfold = KFold(n_splits=5, shuffle=True)\n",
        "  model = make_pipeline(TfidfVectorizer(), model)\n",
        "  cv_results = cross_val_score(model, X, y, cv=kfold, scoring=scoring)\n",
        "  results.append(cv_results)\n",
        "  names.append(name)\n",
        "  msg = \"%s: %f (%f)\" % (name, cv_results.mean(), cv_results.std())\n",
        "  print(msg)"
      ]
    },
    {
      "cell_type": "code",
      "execution_count": 31,
      "metadata": {
        "colab": {
          "base_uri": "https://localhost:8080/",
          "height": 634
        },
        "id": "MfRRViySCd1q",
        "outputId": "f2884f74-4dca-468b-9ffa-566385983df0"
      },
      "outputs": [
        {
          "output_type": "display_data",
          "data": {
            "text/plain": [
              "<Figure size 576x576 with 1 Axes>"
            ],
            "image/png": "[encoded data removed]"
          },
          "metadata": {
            "needs_background": "light"
          }
        }
      ],
      "source": [
        "fig = plt.figure(figsize=(8,8))\n",
        "if len(classes)>2:\n",
        "  fig.suptitle('Comparison of models {} vs {} vs {}'.format(classes[0],classes[1],classes[2]))\n",
        "else:\n",
        "  fig.suptitle('Comparison of models {} vs {}'.format(classes[0],classes[1]))  \n",
        "ax = fig.add_subplot(111)\n",
        "ax.boxplot(results)\n",
        "ax.set_xticklabels(names,rotation = 45)\n",
        "plt.show()"
      ]
    },
    {
      "cell_type": "markdown",
      "metadata": {
        "id": "6yALCXJ1BMor"
      },
      "source": [
        "## Grid Search CV affinement des meilleurs paramètres\n",
        "\n"
      ]
    },
    {
      "cell_type": "markdown",
      "metadata": {
        "id": "srLlVE9pDdB-"
      },
      "source": [
        "### Logistic Regression"
      ]
    },
    {
      "cell_type": "code",
      "execution_count": 32,
      "metadata": {
        "colab": {
          "base_uri": "https://localhost:8080/"
        },
        "id": "OuH-2dLmk8GF",
        "outputId": "6f7d7843-5f2e-4fae-b6ba-0ae5d6a8265b"
      },
      "outputs": [
        {
          "output_type": "stream",
          "name": "stdout",
          "text": [
            "Evaluation des différentes configurations : \n",
            "Pipeline             Score\n",
            "-----------------  -------\n",
            "TFIDF_lowcase       0.6200\n",
            "TFIDF_lowStop       0.6200\n",
            "TFIDF_brut          0.6200\n",
            "CV_brut             0.5990\n",
            "CV_lowcase          0.5990\n",
            "CV_lowStop          0.5990\n",
            "CV_lowStopstem      0.5860\n",
            "CV_lowStopna        0.5830\n",
            "TFIDF_lowStopna     0.5730\n",
            "TFIDF_lowStopstem   0.5720\n"
          ]
        }
      ],
      "source": [
        "X = df_train[\"text\"]\n",
        "y = df_train[\"label\"] \n",
        "\n",
        "X_s = X.sample(1000)\n",
        "y_s = y.loc[X_s.index]\n",
        "preprocess_selection(\"logistic_regression\",LogisticRegression(),X_s,y_s)"
      ]
    },
    {
      "cell_type": "code",
      "source": [
        "X = df_train[\"text\"]\n",
        "y = df_train[\"label\"]\n",
        "\n",
        "# put text normalizer in the pipe is a bad idea because of the very long time processing\n",
        "text_normalizer = TextNormalizer(removestopwords=False,lowercase=True,getstemmer=False,removedigit=False)\n",
        "X = text_normalizer.fit_transform(X)\n",
        "\n",
        "X_train,X_val,y_train,y_val = train_test_split(X,y,train_size=0.8,random_state=0)\n",
        "\n",
        "pipe = Pipeline([('vect', TfidfVectorizer()),\n",
        "               ('clf', LogisticRegression(solver='lbfgs')),\n",
        "               ])\n",
        "\n",
        "grid = {\"clf__penalty\": ['l2' ,'none'],\n",
        "        \"clf__C\":np.logspace(-2,2,4),\n",
        "        \"clf__max_iter\":[100,1000]}\n",
        "\n",
        "gd_srLR = GridSearchCV(pipe,  \n",
        "                     param_grid=grid,\n",
        "                     scoring='accuracy',\n",
        "                     cv=5,\n",
        "                     n_jobs=-1,\n",
        "                    return_train_score=True)\n",
        "\n",
        "gd_srLR.fit(X_train, y_train)\n",
        "print('meilleur score ',\n",
        " gd_srLR.best_score_,'\\n')\n",
        "print('meilleurs paramètres',\n",
        " gd_srLR.best_params_,'\\n')\n",
        "print('meilleur estimateur',\n",
        "gd_srLR.best_estimator_,'\\n')"
      ],
      "metadata": {
        "colab": {
          "base_uri": "https://localhost:8080/"
        },
        "id": "bGKhiBxw8CAc",
        "outputId": "5b9712a0-721d-4e8c-f897-9e3160b8644a"
      },
      "execution_count": 33,
      "outputs": [
        {
          "output_type": "stream",
          "name": "stdout",
          "text": [
            "meilleur score  0.6720748829953198 \n",
            "\n",
            "meilleurs paramètres {'clf__C': 4.6415888336127775, 'clf__max_iter': 100, 'clf__penalty': 'l2'} \n",
            "\n",
            "meilleur estimateur Pipeline(steps=[('vect', TfidfVectorizer()),\n",
            "                ('clf', LogisticRegression(C=4.6415888336127775))]) \n",
            "\n"
          ]
        },
        {
          "output_type": "stream",
          "name": "stderr",
          "text": [
            "/usr/local/lib/python3.7/dist-packages/sklearn/linear_model/_logistic.py:818: ConvergenceWarning: lbfgs failed to converge (status=1):\n",
            "STOP: TOTAL NO. of ITERATIONS REACHED LIMIT.\n",
            "\n",
            "Increase the number of iterations (max_iter) or scale the data as shown in:\n",
            "    https://scikit-learn.org/stable/modules/preprocessing.html\n",
            "Please also refer to the documentation for alternative solver options:\n",
            "    https://scikit-learn.org/stable/modules/linear_model.html#logistic-regression\n",
            "  extra_warning_msg=_LOGISTIC_SOLVER_CONVERGENCE_MSG,\n"
          ]
        }
      ]
    },
    {
      "cell_type": "code",
      "execution_count": 34,
      "metadata": {
        "colab": {
          "base_uri": "https://localhost:8080/",
          "height": 716
        },
        "id": "HV2ReMyKI3VG",
        "outputId": "48c115d2-3992-4018-e71c-a78b54869d42"
      },
      "outputs": [
        {
          "output_type": "stream",
          "name": "stderr",
          "text": [
            "/usr/local/lib/python3.7/dist-packages/sklearn/linear_model/_logistic.py:818: ConvergenceWarning: lbfgs failed to converge (status=1):\n",
            "STOP: TOTAL NO. of ITERATIONS REACHED LIMIT.\n",
            "\n",
            "Increase the number of iterations (max_iter) or scale the data as shown in:\n",
            "    https://scikit-learn.org/stable/modules/preprocessing.html\n",
            "Please also refer to the documentation for alternative solver options:\n",
            "    https://scikit-learn.org/stable/modules/linear_model.html#logistic-regression\n",
            "  extra_warning_msg=_LOGISTIC_SOLVER_CONVERGENCE_MSG,\n"
          ]
        },
        {
          "output_type": "stream",
          "name": "stdout",
          "text": [
            "\n",
            " accuracy:  0.6712414223331253 \n",
            "\n",
            "\n",
            "               precision    recall  f1-score   support\n",
            "\n",
            "        True       0.67      0.67      0.67       795\n",
            "       False       0.67      0.68      0.67       808\n",
            "\n",
            "    accuracy                           0.67      1603\n",
            "   macro avg       0.67      0.67      0.67      1603\n",
            "weighted avg       0.67      0.67      0.67      1603\n",
            "\n",
            "Confusion matrix, without normalization\n"
          ]
        },
        {
          "output_type": "display_data",
          "data": {
            "text/plain": [
              "<Figure size 432x288 with 2 Axes>"
            ],
            "image/png": "[encoded data removed]"
          },
          "metadata": {
            "needs_background": "light"
          }
        }
      ],
      "source": [
        "# Creation d'une instance de l'algorithme en utilisant les meilleurs paramètres\n",
        "lr = gd_srLR.best_estimator_\n",
        "\n",
        "lr.fit(X_train, y_train)\n",
        "y_pred = lr.predict(X_val)\n",
        "print('\\n accuracy: ', accuracy_score(y_pred, y_val),'\\n')\n",
        "\n",
        "print('\\n',classification_report(y_val, y_pred,target_names=classes))\n",
        "plot_confusion_matrix(confusion_matrix(y_val, y_pred),classes = classes)"
      ]
    },
    {
      "cell_type": "markdown",
      "metadata": {
        "id": "RNWuM1Bp5D6f"
      },
      "source": [
        "Overfitting, Underfitting ?"
      ]
    },
    {
      "cell_type": "code",
      "execution_count": 35,
      "metadata": {
        "colab": {
          "base_uri": "https://localhost:8080/",
          "height": 442
        },
        "id": "QydKI9pQ48fp",
        "outputId": "2470af19-80f0-4a1d-bd12-fd7b0d4aae3d"
      },
      "outputs": [
        {
          "output_type": "stream",
          "name": "stderr",
          "text": [
            "/usr/local/lib/python3.7/dist-packages/sklearn/linear_model/_logistic.py:818: ConvergenceWarning: lbfgs failed to converge (status=1):\n",
            "STOP: TOTAL NO. of ITERATIONS REACHED LIMIT.\n",
            "\n",
            "Increase the number of iterations (max_iter) or scale the data as shown in:\n",
            "    https://scikit-learn.org/stable/modules/preprocessing.html\n",
            "Please also refer to the documentation for alternative solver options:\n",
            "    https://scikit-learn.org/stable/modules/linear_model.html#logistic-regression\n",
            "  extra_warning_msg=_LOGISTIC_SOLVER_CONVERGENCE_MSG,\n"
          ]
        },
        {
          "output_type": "display_data",
          "data": {
            "text/plain": [
              "<Figure size 432x288 with 1 Axes>"
            ],
            "image/png": "[encoded data removed]"
          },
          "metadata": {
            "needs_background": "light"
          }
        }
      ],
      "source": [
        "X = df_train[\"text\"]\n",
        "y = df_train[\"label\"]\n",
        "text_normalizer = TextNormalizer(removestopwords=True,lowercase=True,getstemmer=True,removedigit=False)\n",
        "X = text_normalizer.fit_transform(X)\n",
        "X = pd.Series(X)\n",
        "plot_quad_error(X,y,lr)"
      ]
    },
    {
      "cell_type": "markdown",
      "metadata": {
        "id": "YxyKCeTAxpyP"
      },
      "source": [
        "Evaluation sur le test set"
      ]
    },
    {
      "cell_type": "code",
      "execution_count": 36,
      "metadata": {
        "colab": {
          "base_uri": "https://localhost:8080/",
          "height": 568
        },
        "id": "dj3hQmjKxn1u",
        "outputId": "ea64d314-84e2-4e04-bbfe-ee1965b2f031"
      },
      "outputs": [
        {
          "output_type": "stream",
          "name": "stdout",
          "text": [
            "\n",
            " accuracy:  0.6430976430976431 \n",
            "\n",
            "\n",
            "               precision    recall  f1-score   support\n",
            "\n",
            "        True       0.65      0.59      0.62       436\n",
            "       False       0.64      0.70      0.67       455\n",
            "\n",
            "    accuracy                           0.64       891\n",
            "   macro avg       0.64      0.64      0.64       891\n",
            "weighted avg       0.64      0.64      0.64       891\n",
            "\n",
            "Confusion matrix, without normalization\n"
          ]
        },
        {
          "output_type": "display_data",
          "data": {
            "text/plain": [
              "<Figure size 432x288 with 2 Axes>"
            ],
            "image/png": "[encoded data removed]"
          },
          "metadata": {
            "needs_background": "light"
          }
        }
      ],
      "source": [
        "X_test,y_test = df_test[\"text\"],df_test[\"label\"]\n",
        "y_pred = lr.predict(X_test)\n",
        "print('\\n accuracy: ', accuracy_score(y_pred, y_test),'\\n')\n",
        "\n",
        "print('\\n',classification_report(y_test, y_pred,target_names=classes))\n",
        "plot_confusion_matrix(confusion_matrix(y_test, y_pred),classes = classes)"
      ]
    },
    {
      "cell_type": "markdown",
      "source": [
        "### SVC"
      ],
      "metadata": {
        "id": "7Lf0nU7N-Vhl"
      }
    },
    {
      "cell_type": "code",
      "source": [
        "X = df_train[\"text\"]\n",
        "y = df_train[\"label\"] \n",
        "\n",
        "X_s = X.sample(1000)\n",
        "y_s = y.loc[X_s.index]\n",
        "preprocess_selection(\"SVC\",SVC(),X_s,y_s)"
      ],
      "metadata": {
        "id": "OCD3jSMc-Yup",
        "colab": {
          "base_uri": "https://localhost:8080/"
        },
        "outputId": "8a559be5-24a7-45c6-ffaa-9e59aad28a68"
      },
      "execution_count": 37,
      "outputs": [
        {
          "output_type": "stream",
          "name": "stdout",
          "text": [
            "Evaluation des différentes configurations : \n",
            "Pipeline             Score\n",
            "-----------------  -------\n",
            "CV_brut             0.5960\n",
            "CV_lowcase          0.5960\n",
            "CV_lowStop          0.5960\n",
            "TFIDF_lowStopna     0.5910\n",
            "TFIDF_lowStopstem   0.5910\n",
            "TFIDF_lowcase       0.5860\n",
            "TFIDF_lowStop       0.5860\n",
            "TFIDF_brut          0.5860\n",
            "CV_lowStopstem      0.5770\n",
            "CV_lowStopna        0.5730\n"
          ]
        }
      ]
    },
    {
      "cell_type": "code",
      "source": [
        "X = df_train[\"text\"]\n",
        "y = df_train[\"label\"]\n",
        "# put text normalizer in the pipe is a bad idea because of the very long time processing\n",
        "text_normalizer = TextNormalizer(removestopwords=True,lowercase=True,getstemmer=True,removedigit=False)\n",
        "X = text_normalizer.fit_transform(X)\n",
        "X_train,X_val,y_train,y_val = train_test_split(X,y,train_size=0.8,random_state=0)\n",
        "\n",
        "pipe = Pipeline([('vect', TfidfVectorizer()),\n",
        "               ('clf', SVC()),\n",
        "              ])\n",
        "\n",
        "grid = {'clf__C': [100, 1000], \n",
        "        'clf__kernel': ['linear'],\n",
        "        'clf__gamma': [0.001, 0.0001], \n",
        "        'clf__kernel': ['rbf']}\n",
        "\n",
        "gd_srSVC = GridSearchCV(pipe,  \n",
        "                     param_grid=grid,\n",
        "                     scoring='accuracy',\n",
        "                     cv=5,\n",
        "                     n_jobs=-1,\n",
        "                    return_train_score=True)\n",
        "\n",
        "gd_srSVC.fit(X_train, y_train)\n",
        "print('meilleur score ',\n",
        " gd_srSVC.best_score_,'\\n')\n",
        "print('meilleurs paramètres',\n",
        " gd_srSVC.best_params_,'\\n')\n",
        "print('meilleur estimateur',\n",
        "gd_srSVC.best_estimator_,'\\n')\n"
      ],
      "metadata": {
        "id": "3dpz2wZO-bXS",
        "colab": {
          "base_uri": "https://localhost:8080/"
        },
        "outputId": "3f888fc6-309d-463c-b25f-5c317ab2599c"
      },
      "execution_count": 38,
      "outputs": [
        {
          "output_type": "stream",
          "name": "stdout",
          "text": [
            "meilleur score  0.6492979719188767 \n",
            "\n",
            "meilleurs paramètres {'clf__C': 100, 'clf__gamma': 0.001, 'clf__kernel': 'rbf'} \n",
            "\n",
            "meilleur estimateur Pipeline(steps=[('vect', TfidfVectorizer()), ('clf', SVC(C=100, gamma=0.001))]) \n",
            "\n"
          ]
        }
      ]
    },
    {
      "cell_type": "code",
      "source": [
        "# Creation d'une instance de l'algorithme en utilisant les meilleurs paramètres\n",
        "lr = gd_srSVC.best_estimator_\n",
        "\n",
        "lr.fit(X_train, y_train)\n",
        "y_pred = lr.predict(X_val)\n",
        "print('\\n accuracy: ', accuracy_score(y_pred, y_val),'\\n')\n",
        "\n",
        "print('\\n',classification_report(y_val, y_pred,target_names=classes))\n",
        "plot_confusion_matrix(confusion_matrix(y_val, y_pred),classes = classes)"
      ],
      "metadata": {
        "id": "CvLZWcIY-gNb",
        "colab": {
          "base_uri": "https://localhost:8080/",
          "height": 568
        },
        "outputId": "cb133898-320c-4563-f33e-960563a19305"
      },
      "execution_count": 39,
      "outputs": [
        {
          "output_type": "stream",
          "name": "stdout",
          "text": [
            "\n",
            " accuracy:  0.6768558951965066 \n",
            "\n",
            "\n",
            "               precision    recall  f1-score   support\n",
            "\n",
            "        True       0.68      0.65      0.67       795\n",
            "       False       0.67      0.70      0.69       808\n",
            "\n",
            "    accuracy                           0.68      1603\n",
            "   macro avg       0.68      0.68      0.68      1603\n",
            "weighted avg       0.68      0.68      0.68      1603\n",
            "\n",
            "Confusion matrix, without normalization\n"
          ]
        },
        {
          "output_type": "display_data",
          "data": {
            "text/plain": [
              "<Figure size 432x288 with 2 Axes>"
            ],
            "image/png": "[encoded data removed]"
          },
          "metadata": {
            "needs_background": "light"
          }
        }
      ]
    },
    {
      "cell_type": "code",
      "source": [
        "X = df_train[\"text\"]\n",
        "y = df_train[\"label\"]\n",
        "text_normalizer = TextNormalizer(removestopwords=True,lowercase=True,getstemmer=True,removedigit=False)\n",
        "X = text_normalizer.fit_transform(X)\n",
        "X = pd.Series(X)\n",
        "plot_quad_error(X,y,lr)"
      ],
      "metadata": {
        "id": "izu25Agw-kUv",
        "colab": {
          "base_uri": "https://localhost:8080/",
          "height": 294
        },
        "outputId": "dd64c2a7-b6a9-4781-8749-999eb6336f9e"
      },
      "execution_count": 40,
      "outputs": [
        {
          "output_type": "display_data",
          "data": {
            "text/plain": [
              "<Figure size 432x288 with 1 Axes>"
            ],
            "image/png": "[encoded data removed]"
          },
          "metadata": {
            "needs_background": "light"
          }
        }
      ]
    },
    {
      "cell_type": "code",
      "source": [
        "X_test,y_test = df_test[\"text\"],df_test[\"label\"]\n",
        "y_pred = lr.predict(X_test)\n",
        "print('\\n accuracy: ', accuracy_score(y_pred, y_test),'\\n')\n",
        "\n",
        "print('\\n',classification_report(y_test, y_pred,target_names=classes))\n",
        "plot_confusion_matrix(confusion_matrix(y_test, y_pred),classes = classes)"
      ],
      "metadata": {
        "id": "m2lQHb9M-pd7",
        "colab": {
          "base_uri": "https://localhost:8080/",
          "height": 568
        },
        "outputId": "99dfb85b-f3e0-4709-af66-90c511e85a54"
      },
      "execution_count": 41,
      "outputs": [
        {
          "output_type": "stream",
          "name": "stdout",
          "text": [
            "\n",
            " accuracy:  0.67003367003367 \n",
            "\n",
            "\n",
            "               precision    recall  f1-score   support\n",
            "\n",
            "        True       0.67      0.64      0.65       436\n",
            "       False       0.67      0.70      0.68       455\n",
            "\n",
            "    accuracy                           0.67       891\n",
            "   macro avg       0.67      0.67      0.67       891\n",
            "weighted avg       0.67      0.67      0.67       891\n",
            "\n",
            "Confusion matrix, without normalization\n"
          ]
        },
        {
          "output_type": "display_data",
          "data": {
            "text/plain": [
              "<Figure size 432x288 with 2 Axes>"
            ],
            "image/png": "[encoded data removed]"
          },
          "metadata": {
            "needs_background": "light"
          }
        }
      ]
    },
    {
      "cell_type": "markdown",
      "metadata": {
        "id": "P4XFbUHv3Jzk"
      },
      "source": [
        "### MultinomialNB"
      ]
    },
    {
      "cell_type": "code",
      "execution_count": 42,
      "metadata": {
        "colab": {
          "base_uri": "https://localhost:8080/"
        },
        "id": "DKDRMZyj3OAm",
        "outputId": "e2780d51-c771-47ca-87b1-143f74a7cb8a"
      },
      "outputs": [
        {
          "output_type": "stream",
          "name": "stdout",
          "text": [
            "Evaluation des différentes configurations : \n",
            "Pipeline             Score\n",
            "-----------------  -------\n",
            "CV_lowStopstem      0.6560\n",
            "CV_lowStopna        0.6560\n",
            "CV_brut             0.6460\n",
            "CV_lowcase          0.6460\n",
            "CV_lowStop          0.6460\n",
            "TFIDF_lowStopstem   0.6450\n",
            "TFIDF_lowStopna     0.6440\n",
            "TFIDF_lowcase       0.6430\n",
            "TFIDF_lowStop       0.6430\n",
            "TFIDF_brut          0.6430\n"
          ]
        }
      ],
      "source": [
        "X = df_train[\"text\"]\n",
        "y = df_train[\"label\"] \n",
        "\n",
        "X_s = X.sample(1000)\n",
        "y_s = y.loc[X_s.index]\n",
        "preprocess_selection(\"MuntinomialNB\",MultinomialNB(),X_s,y_s)"
      ]
    },
    {
      "cell_type": "code",
      "execution_count": 43,
      "metadata": {
        "colab": {
          "base_uri": "https://localhost:8080/"
        },
        "id": "xOOZw9T1i4NG",
        "outputId": "e64a8edf-f136-4ba6-c4fd-87b5f96ba991"
      },
      "outputs": [
        {
          "output_type": "stream",
          "name": "stdout",
          "text": [
            "meilleur score  0.6561622464898595 \n",
            "\n",
            "meilleurs paramètres {'clf__alpha': 1.1, 'clf__fit_prior': False} \n",
            "\n",
            "meilleur estimateur Pipeline(steps=[('vect', TfidfVectorizer()),\n",
            "                ('clf', MultinomialNB(alpha=1.1, fit_prior=False))]) \n",
            "\n"
          ]
        }
      ],
      "source": [
        "X = df_train[\"text\"]\n",
        "y = df_train[\"label\"]\n",
        "# put text normalizer in the pipe is a bad idea because of the very long time processing\n",
        "text_normalizer = TextNormalizer(removestopwords=True,lowercase=True,getstemmer=True,removedigit=False)\n",
        "X = text_normalizer.fit_transform(X)\n",
        "X_train,X_val,y_train,y_val = train_test_split(X,y,train_size=0.8,random_state=0)\n",
        "\n",
        "pipe = Pipeline([('vect', TfidfVectorizer()),\n",
        "               ('clf', MultinomialNB()),\n",
        "              ])\n",
        "\n",
        "grid = {'clf__alpha': np.linspace(0.5, 1.5, 6),\n",
        "        'clf__fit_prior': [True, False],}\n",
        "\n",
        "gd_srMNB = GridSearchCV(pipe,  \n",
        "                     param_grid=grid,\n",
        "                     scoring='accuracy',\n",
        "                     cv=5,\n",
        "                     n_jobs=-1,\n",
        "                    return_train_score=True)\n",
        "\n",
        "gd_srMNB.fit(X_train, y_train)\n",
        "print('meilleur score ',\n",
        " gd_srMNB.best_score_,'\\n')\n",
        "print('meilleurs paramètres',\n",
        " gd_srMNB.best_params_,'\\n')\n",
        "print('meilleur estimateur',\n",
        "gd_srMNB.best_estimator_,'\\n')"
      ]
    },
    {
      "cell_type": "code",
      "execution_count": 44,
      "metadata": {
        "colab": {
          "base_uri": "https://localhost:8080/",
          "height": 568
        },
        "id": "ei967gRjjKeE",
        "outputId": "d86e0501-28ff-42ef-f5ec-f1f0ceada63d"
      },
      "outputs": [
        {
          "output_type": "stream",
          "name": "stdout",
          "text": [
            "\n",
            " accuracy:  0.678727386150967 \n",
            "\n",
            "\n",
            "               precision    recall  f1-score   support\n",
            "\n",
            "        True       0.67      0.70      0.68       795\n",
            "       False       0.69      0.66      0.67       808\n",
            "\n",
            "    accuracy                           0.68      1603\n",
            "   macro avg       0.68      0.68      0.68      1603\n",
            "weighted avg       0.68      0.68      0.68      1603\n",
            "\n",
            "Confusion matrix, without normalization\n"
          ]
        },
        {
          "output_type": "display_data",
          "data": {
            "text/plain": [
              "<Figure size 432x288 with 2 Axes>"
            ],
            "image/png": "[encoded data removed]"
          },
          "metadata": {
            "needs_background": "light"
          }
        }
      ],
      "source": [
        "#Creation d'une instance de l'algorithme en utilisant les meilleurs paramètres\n",
        "lr = gd_srMNB.best_estimator_\n",
        "\n",
        "lr.fit(X_train, y_train)\n",
        "y_pred = lr.predict(X_val)\n",
        "print('\\n accuracy: ', accuracy_score(y_pred, y_val),'\\n')\n",
        "\n",
        "print('\\n',classification_report(y_val, y_pred,target_names=classes))\n",
        "plot_confusion_matrix(confusion_matrix(y_val, y_pred))"
      ]
    },
    {
      "cell_type": "markdown",
      "metadata": {
        "id": "9Vt3JAJxjUGa"
      },
      "source": [
        "Overfitting underfitting ?"
      ]
    },
    {
      "cell_type": "code",
      "execution_count": 45,
      "metadata": {
        "colab": {
          "base_uri": "https://localhost:8080/",
          "height": 294
        },
        "id": "9NfML2wIjMt3",
        "outputId": "7d352d1e-3cc7-4e33-90ff-bb6cb28ffd71"
      },
      "outputs": [
        {
          "output_type": "display_data",
          "data": {
            "text/plain": [
              "<Figure size 432x288 with 1 Axes>"
            ],
            "image/png": "[encoded data removed]"
          },
          "metadata": {
            "needs_background": "light"
          }
        }
      ],
      "source": [
        "X = df_train[\"text\"]\n",
        "y = df_train[\"label\"]\n",
        "text_normalizer = TextNormalizer(removestopwords=True,lowercase=True,getstemmer=True,removedigit=False)\n",
        "X = text_normalizer.fit_transform(X)\n",
        "X = pd.Series(X)\n",
        "plot_quad_error(X,y,lr)"
      ]
    },
    {
      "cell_type": "markdown",
      "metadata": {
        "id": "TZ5oopPHjQgJ"
      },
      "source": [
        "Evaluation sur le test Set"
      ]
    },
    {
      "cell_type": "code",
      "execution_count": 46,
      "metadata": {
        "colab": {
          "base_uri": "https://localhost:8080/",
          "height": 568
        },
        "id": "cvgo0VrMjPdJ",
        "outputId": "dd5bf1e8-5c2d-405d-eb6a-9901366f6138"
      },
      "outputs": [
        {
          "output_type": "stream",
          "name": "stdout",
          "text": [
            "\n",
            " accuracy:  0.6588103254769921 \n",
            "\n",
            "\n",
            "               precision    recall  f1-score   support\n",
            "\n",
            "        True       0.69      0.56      0.62       436\n",
            "       False       0.64      0.75      0.69       455\n",
            "\n",
            "    accuracy                           0.66       891\n",
            "   macro avg       0.66      0.66      0.65       891\n",
            "weighted avg       0.66      0.66      0.66       891\n",
            "\n",
            "Confusion matrix, without normalization\n"
          ]
        },
        {
          "output_type": "display_data",
          "data": {
            "text/plain": [
              "<Figure size 432x288 with 2 Axes>"
            ],
            "image/png": "[encoded data removed]"
          },
          "metadata": {
            "needs_background": "light"
          }
        }
      ],
      "source": [
        "X_test,y_test = df_test[\"text\"],df_test[\"label\"]\n",
        "y_pred = lr.predict(X_test)\n",
        "print('\\n accuracy: ', accuracy_score(y_pred, y_test),'\\n')\n",
        "\n",
        "print('\\n',classification_report(y_test, y_pred,target_names=classes))\n",
        "plot_confusion_matrix(confusion_matrix(y_test, y_pred),classes = classes)"
      ]
    },
    {
      "cell_type": "markdown",
      "metadata": {
        "id": "GTNQu5KtBihk"
      },
      "source": [
        "### RandomForest"
      ]
    },
    {
      "cell_type": "code",
      "execution_count": 47,
      "metadata": {
        "id": "PtdvsuNeBuFA"
      },
      "outputs": [],
      "source": [
        "# X = df_train[\"text\"]\n",
        "# y = df_train[\"truthRating\"]\n",
        "# text_normalizer= TextNormalizer(removestopwords=False,lowercase=True,getstemmer=False,removedigit=False) \n",
        "# X=text_normalizer.fit_transform(X)"
      ]
    },
    {
      "cell_type": "code",
      "execution_count": 48,
      "metadata": {
        "id": "v-2-yklJB9xg"
      },
      "outputs": [],
      "source": [
        "# X_train,X_val,y_train,y_val = train_test_split(X,y,train_size=0.7,random_state=0)\n",
        "\n",
        "# pipe = Pipeline([('vect', TfidfVectorizer()),\n",
        "#                ('clf', RandomForestClassifier()),\n",
        "#               ])\n",
        "# grid = { \n",
        "#     'clf__n_estimators': [100,200],\n",
        "#     'clf__max_features': ['auto', 'sqrt', 'log2'],\n",
        "#     'clf__max_depth' : [7,8],\n",
        "#     'clf__criterion' :['gini', 'entropy']\n",
        "# }\n",
        "# gd_srLR = GridSearchCV(pipe,  \n",
        "#                      param_grid=grid,\n",
        "#                      scoring='accuracy',\n",
        "#                      cv=5,\n",
        "#                      n_jobs=-1,\n",
        "#                     return_train_score=True)\n",
        "\n",
        "# gd_srLR.fit(X_train, y_train)\n",
        "# print ('meilleur score ',\n",
        "#  gd_srLR.best_score_,'\\n')\n",
        "# print ('meilleurs paramètres',\n",
        "#  gd_srLR.best_params_,'\\n')\n",
        "# print ('meilleur estimateur',\n",
        "# gd_srLR.best_estimator_,'\\n')"
      ]
    },
    {
      "cell_type": "code",
      "execution_count": 49,
      "metadata": {
        "id": "ZXwnkg0uB-pk"
      },
      "outputs": [],
      "source": [
        "# # Creation d'une instance de l'algorithme en utilisant les meilleurs paramètres\n",
        "# lr = gd_srLR.best_estimator_\n",
        "\n",
        "# lr.fit(X_train, y_train)\n",
        "# y_pred = lr.predict(X_val)\n",
        "# print('\\n accuracy: ', accuracy_score(y_pred, y_val),'\\n')\n",
        "\n",
        "# print('\\n',classification_report(y_val, y_pred,target_names=classes))\n",
        "# plot_confusion_matrix(confusion_matrix(y_val, y_pred),classes = classes)"
      ]
    },
    {
      "cell_type": "markdown",
      "metadata": {
        "id": "qEpLC2fvITPA"
      },
      "source": [
        "# Deep learning "
      ]
    },
    {
      "cell_type": "markdown",
      "metadata": {
        "id": "fIVl36Eytiq5"
      },
      "source": [
        "### LSTM"
      ]
    },
    {
      "cell_type": "code",
      "execution_count": 50,
      "metadata": {
        "id": "lVPKO0UyKRe1"
      },
      "outputs": [],
      "source": [
        "from tensorflow import keras\n",
        "from keras.preprocessing.text import Tokenizer\n",
        "from keras.models import Sequential\n",
        "from keras.layers import Embedding\n",
        "from keras.layers import SpatialDropout1D\n",
        "from keras.layers import Dense\n",
        "from keras.layers import LSTM\n",
        "from keras.callbacks import EarlyStopping"
      ]
    },
    {
      "cell_type": "code",
      "source": [
        "X = df_train[\"text\"]\n",
        "y = df_train[\"ratingName\"]\n",
        "\n",
        "text_normalizer= TextNormalizer(removestopwords=True,lowercase=True,getstemmer=True,removedigit=False) \n",
        "X=text_normalizer.fit_transform(X)\n",
        "\n",
        "# The maximum number of words to be used. (most frequent)\n",
        "MAX_NB_WORDS = 50000\n",
        "# Max number of words in each complaint.\n",
        "MAX_SEQUENCE_LENGTH = 250\n",
        "# This is fixed.\n",
        "EMBEDDING_DIM = 100\n",
        "tokenizer = Tokenizer(num_words=MAX_NB_WORDS, filters='!\"#$%&()*+,-./:;<=>?@[\\]^_`{|}~', lower=True)\n",
        "tokenizer.fit_on_texts(X)\n",
        "word_index = tokenizer.word_index\n",
        "print('Found %s unique tokens.' % len(word_index))\n",
        "\n",
        "X = tokenizer.texts_to_sequences(X)\n",
        "X = keras.preprocessing.sequence.pad_sequences(X, maxlen=MAX_SEQUENCE_LENGTH)\n",
        "print('Shape of data tensor:', X.shape)\n",
        "y = pd.get_dummies(y).values\n",
        "print('Shape of label tensor:', y.shape)\n",
        "\n",
        "X_train, X_test, y_train, y_test = train_test_split(X,y, test_size = 0.10, random_state = 42)\n",
        "print(X_train.shape,y_train.shape)\n",
        "print(X_test.shape,y_test.shape)\n"
      ],
      "metadata": {
        "colab": {
          "base_uri": "https://localhost:8080/"
        },
        "id": "MB4ZZSWo7T_o",
        "outputId": "09cf26bb-ce95-47b4-8dcc-6bdd4094fa46"
      },
      "execution_count": 51,
      "outputs": [
        {
          "output_type": "stream",
          "name": "stdout",
          "text": [
            "Found 11918 unique tokens.\n",
            "Shape of data tensor: (8013, 250)\n",
            "Shape of label tensor: (8013, 2)\n",
            "(7211, 250) (7211, 2)\n",
            "(802, 250) (802, 2)\n"
          ]
        }
      ]
    },
    {
      "cell_type": "code",
      "execution_count": 52,
      "metadata": {
        "colab": {
          "base_uri": "https://localhost:8080/"
        },
        "id": "iruf-B7GN_oq",
        "outputId": "62f0878f-0afb-4efd-975d-49bdbbf9bbc4"
      },
      "outputs": [
        {
          "output_type": "stream",
          "name": "stdout",
          "text": [
            "WARNING:tensorflow:Layer lstm will not use cuDNN kernels since it doesn't meet the criteria. It will use a generic GPU kernel as fallback when running on GPU.\n",
            "Model: \"sequential\"\n",
            "_________________________________________________________________\n",
            " Layer (type)                Output Shape              Param #   \n",
            "=================================================================\n",
            " embedding (Embedding)       (None, 250, 100)          5000000   \n",
            "                                                                 \n",
            " spatial_dropout1d (SpatialD  (None, 250, 100)         0         \n",
            " ropout1D)                                                       \n",
            "                                                                 \n",
            " lstm (LSTM)                 (None, 100)               80400     \n",
            "                                                                 \n",
            " dense (Dense)               (None, 2)                 202       \n",
            "                                                                 \n",
            "=================================================================\n",
            "Total params: 5,080,602\n",
            "Trainable params: 5,080,602\n",
            "Non-trainable params: 0\n",
            "_________________________________________________________________\n",
            "None\n",
            "Epoch 1/5\n",
            "102/102 [==============================] - 80s 737ms/step - loss: 0.6565 - accuracy: 0.6056 - val_loss: 0.5835 - val_accuracy: 0.6967\n",
            "Epoch 2/5\n",
            "102/102 [==============================] - 75s 736ms/step - loss: 0.4673 - accuracy: 0.7884 - val_loss: 0.6320 - val_accuracy: 0.6620\n",
            "Epoch 3/5\n",
            "102/102 [==============================] - 75s 736ms/step - loss: 0.2941 - accuracy: 0.8787 - val_loss: 0.7031 - val_accuracy: 0.6482\n",
            "Epoch 4/5\n",
            "102/102 [==============================] - 75s 736ms/step - loss: 0.1913 - accuracy: 0.9296 - val_loss: 0.9393 - val_accuracy: 0.6496\n",
            "Epoch 5/5\n",
            "102/102 [==============================] - 75s 736ms/step - loss: 0.1114 - accuracy: 0.9605 - val_loss: 1.1063 - val_accuracy: 0.6233\n"
          ]
        }
      ],
      "source": [
        "model = Sequential()\n",
        "model.add(Embedding(MAX_NB_WORDS, EMBEDDING_DIM, input_length=X.shape[1]))\n",
        "model.add(SpatialDropout1D(0.2))\n",
        "model.add(LSTM(100, dropout=0.3, recurrent_dropout=0.3))\n",
        "model.add(Dense(y.shape[1], activation='softmax'))\n",
        "model.compile(loss='categorical_crossentropy', optimizer='adam', metrics=['accuracy'])\n",
        "print(model.summary())\n",
        "epochs = 5\n",
        "batch_size = 64\n",
        "\n",
        "history = model.fit(X_train, y_train, epochs=epochs, batch_size=batch_size,validation_split=0.1)"
      ]
    },
    {
      "cell_type": "code",
      "source": [
        "plt.title('Loss')\n",
        "plt.plot(history.history['loss'], label='train')\n",
        "plt.plot(history.history['val_loss'], label='validation')\n",
        "plt.legend()\n",
        "plt.show()"
      ],
      "metadata": {
        "colab": {
          "base_uri": "https://localhost:8080/",
          "height": 281
        },
        "id": "6KW1aVDH9prD",
        "outputId": "8316f7d5-8d14-44a0-e488-f15745183484"
      },
      "execution_count": 53,
      "outputs": [
        {
          "output_type": "display_data",
          "data": {
            "text/plain": [
              "<Figure size 432x288 with 1 Axes>"
            ],
            "image/png": "[encoded data removed]"
          },
          "metadata": {
            "needs_background": "light"
          }
        }
      ]
    },
    {
      "cell_type": "code",
      "source": [
        "plt.title('Accuracy for LSTM')\n",
        "plt.plot(history.history['accuracy'], label='train')\n",
        "plt.plot(history.history['val_accuracy'], label='validation')\n",
        "plt.legend()\n",
        "plt.show()"
      ],
      "metadata": {
        "colab": {
          "base_uri": "https://localhost:8080/",
          "height": 281
        },
        "id": "8KxxpeEG9qZm",
        "outputId": "7d5b180d-b875-4851-abd1-6923110356d8"
      },
      "execution_count": 54,
      "outputs": [
        {
          "output_type": "display_data",
          "data": {
            "text/plain": [
              "<Figure size 432x288 with 1 Axes>"
            ],
            "image/png": "[encoded data removed]"
          },
          "metadata": {
            "needs_background": "light"
          }
        }
      ]
    },
    {
      "cell_type": "markdown",
      "metadata": {
        "id": "l4p6VgqzPD0L"
      },
      "source": [
        "### Fine tuning BERT"
      ]
    },
    {
      "cell_type": "code",
      "execution_count": 55,
      "metadata": {
        "colab": {
          "base_uri": "https://localhost:8080/"
        },
        "id": "65qWrqJygjuX",
        "outputId": "19bde8cb-820d-4bd7-d014-07294c9d3830"
      },
      "outputs": [
        {
          "output_type": "stream",
          "name": "stdout",
          "text": [
            "Collecting transformers\n",
            "  Downloading transformers-4.18.0-py3-none-any.whl (4.0 MB)\n",
            "\u001b[K     |████████████████████████████████| 4.0 MB 8.4 MB/s \n",
            "\u001b[?25hRequirement already satisfied: regex!=2019.12.17 in /usr/local/lib/python3.7/dist-packages (from transformers) (2019.12.20)\n",
            "Requirement already satisfied: importlib-metadata in /usr/local/lib/python3.7/dist-packages (from transformers) (4.11.3)\n",
            "Requirement already satisfied: packaging>=20.0 in /usr/local/lib/python3.7/dist-packages (from transformers) (21.3)\n",
            "Requirement already satisfied: numpy>=1.17 in /usr/local/lib/python3.7/dist-packages (from transformers) (1.21.6)\n",
            "Collecting sacremoses\n",
            "  Downloading sacremoses-0.0.49-py3-none-any.whl (895 kB)\n",
            "\u001b[K     |████████████████████████████████| 895 kB 66.1 MB/s \n",
            "\u001b[?25hRequirement already satisfied: requests in /usr/local/lib/python3.7/dist-packages (from transformers) (2.23.0)\n",
            "Requirement already satisfied: tqdm>=4.27 in /usr/local/lib/python3.7/dist-packages (from transformers) (4.64.0)\n",
            "Collecting huggingface-hub<1.0,>=0.1.0\n",
            "  Downloading huggingface_hub-0.5.1-py3-none-any.whl (77 kB)\n",
            "\u001b[K     |████████████████████████████████| 77 kB 7.9 MB/s \n",
            "\u001b[?25hRequirement already satisfied: filelock in /usr/local/lib/python3.7/dist-packages (from transformers) (3.6.0)\n",
            "Collecting tokenizers!=0.11.3,<0.13,>=0.11.1\n",
            "  Downloading tokenizers-0.12.1-cp37-cp37m-manylinux_2_12_x86_64.manylinux2010_x86_64.whl (6.6 MB)\n",
            "\u001b[K     |████████████████████████████████| 6.6 MB 82.8 MB/s \n",
            "\u001b[?25hCollecting pyyaml>=5.1\n",
            "  Downloading PyYAML-6.0-cp37-cp37m-manylinux_2_5_x86_64.manylinux1_x86_64.manylinux_2_12_x86_64.manylinux2010_x86_64.whl (596 kB)\n",
            "\u001b[K     |████████████████████████████████| 596 kB 68.9 MB/s \n",
            "\u001b[?25hRequirement already satisfied: typing-extensions>=3.7.4.3 in /usr/local/lib/python3.7/dist-packages (from huggingface-hub<1.0,>=0.1.0->transformers) (4.1.1)\n",
            "Requirement already satisfied: pyparsing!=3.0.5,>=2.0.2 in /usr/local/lib/python3.7/dist-packages (from packaging>=20.0->transformers) (3.0.8)\n",
            "Requirement already satisfied: zipp>=0.5 in /usr/local/lib/python3.7/dist-packages (from importlib-metadata->transformers) (3.8.0)\n",
            "Requirement already satisfied: idna<3,>=2.5 in /usr/local/lib/python3.7/dist-packages (from requests->transformers) (2.10)\n",
            "Requirement already satisfied: chardet<4,>=3.0.2 in /usr/local/lib/python3.7/dist-packages (from requests->transformers) (3.0.4)\n",
            "Requirement already satisfied: certifi>=2017.4.17 in /usr/local/lib/python3.7/dist-packages (from requests->transformers) (2021.10.8)\n",
            "Requirement already satisfied: urllib3!=1.25.0,!=1.25.1,<1.26,>=1.21.1 in /usr/local/lib/python3.7/dist-packages (from requests->transformers) (1.24.3)\n",
            "Requirement already satisfied: six in /usr/local/lib/python3.7/dist-packages (from sacremoses->transformers) (1.15.0)\n",
            "Requirement already satisfied: joblib in /usr/local/lib/python3.7/dist-packages (from sacremoses->transformers) (1.1.0)\n",
            "Requirement already satisfied: click in /usr/local/lib/python3.7/dist-packages (from sacremoses->transformers) (7.1.2)\n",
            "Installing collected packages: pyyaml, tokenizers, sacremoses, huggingface-hub, transformers\n",
            "  Attempting uninstall: pyyaml\n",
            "    Found existing installation: PyYAML 3.13\n",
            "    Uninstalling PyYAML-3.13:\n",
            "      Successfully uninstalled PyYAML-3.13\n",
            "Successfully installed huggingface-hub-0.5.1 pyyaml-6.0 sacremoses-0.0.49 tokenizers-0.12.1 transformers-4.18.0\n"
          ]
        }
      ],
      "source": [
        "import torch\n",
        "from tqdm.notebook import tqdm\n",
        "!pip install transformers\n",
        "from transformers import BertTokenizer\n",
        "from torch.utils.data import TensorDataset\n",
        "from transformers import BertForSequenceClassification"
      ]
    },
    {
      "cell_type": "code",
      "execution_count": 56,
      "metadata": {
        "colab": {
          "base_uri": "https://localhost:8080/",
          "height": 206
        },
        "id": "rI__hcqqFo4X",
        "outputId": "252d8ddb-07bb-48f1-d81f-c47e37618c70"
      },
      "outputs": [
        {
          "output_type": "execute_result",
          "data": {
            "text/plain": [
              "                            text\n",
              "ratingName label data_type      \n",
              "False      1     train      3397\n",
              "                 val         600\n",
              "True       0     train      3414\n",
              "                 val         602"
            ],
            "text/html": [
              "\n",
              "  <div id=\"df-18eee00b-9dff-48cc-b190-1b158ad46792\">\n",
              "    <div class=\"colab-df-container\">\n",
              "      <div>\n",
              "<style scoped>\n",
              "    .dataframe tbody tr th:only-of-type {\n",
              "        vertical-align: middle;\n",
              "    }\n",
              "\n",
              "    .dataframe tbody tr th {\n",
              "        vertical-align: top;\n",
              "    }\n",
              "\n",
              "    .dataframe thead th {\n",
              "        text-align: right;\n",
              "    }\n",
              "</style>\n",
              "<table border=\"1\" class=\"dataframe\">\n",
              "  <thead>\n",
              "    <tr style=\"text-align: right;\">\n",
              "      <th></th>\n",
              "      <th></th>\n",
              "      <th></th>\n",
              "      <th>text</th>\n",
              "    </tr>\n",
              "    <tr>\n",
              "      <th>ratingName</th>\n",
              "      <th>label</th>\n",
              "      <th>data_type</th>\n",
              "      <th></th>\n",
              "    </tr>\n",
              "  </thead>\n",
              "  <tbody>\n",
              "    <tr>\n",
              "      <th rowspan=\"2\" valign=\"top\">False</th>\n",
              "      <th rowspan=\"2\" valign=\"top\">1</th>\n",
              "      <th>train</th>\n",
              "      <td>3397</td>\n",
              "    </tr>\n",
              "    <tr>\n",
              "      <th>val</th>\n",
              "      <td>600</td>\n",
              "    </tr>\n",
              "    <tr>\n",
              "      <th rowspan=\"2\" valign=\"top\">True</th>\n",
              "      <th rowspan=\"2\" valign=\"top\">0</th>\n",
              "      <th>train</th>\n",
              "      <td>3414</td>\n",
              "    </tr>\n",
              "    <tr>\n",
              "      <th>val</th>\n",
              "      <td>602</td>\n",
              "    </tr>\n",
              "  </tbody>\n",
              "</table>\n",
              "</div>\n",
              "      <button class=\"colab-df-convert\" onclick=\"convertToInteractive('df-18eee00b-9dff-48cc-b190-1b158ad46792')\"\n",
              "              title=\"Convert this dataframe to an interactive table.\"\n",
              "              style=\"display:none;\">\n",
              "        \n",
              "  <svg xmlns=\"http://www.w3.org/2000/svg\" height=\"24px\"viewBox=\"0 0 24 24\"\n",
              "       width=\"24px\">\n",
              "    <path d=\"M0 0h24v24H0V0z\" fill=\"none\"/>\n",
              "    <path d=\"M18.56 5.44l.94 2.06.94-2.06 2.06-.94-2.06-.94-.94-2.06-.94 2.06-2.06.94zm-11 1L8.5 8.5l.94-2.06 2.06-.94-2.06-.94L8.5 2.5l-.94 2.06-2.06.94zm10 10l.94 2.06.94-2.06 2.06-.94-2.06-.94-.94-2.06-.94 2.06-2.06.94z\"/><path d=\"M17.41 7.96l-1.37-1.37c-.4-.4-.92-.59-1.43-.59-.52 0-1.04.2-1.43.59L10.3 9.45l-7.72 7.72c-.78.78-.78 2.05 0 2.83L4 21.41c.39.39.9.59 1.41.59.51 0 1.02-.2 1.41-.59l7.78-7.78 2.81-2.81c.8-.78.8-2.07 0-2.86zM5.41 20L4 18.59l7.72-7.72 1.47 1.35L5.41 20z\"/>\n",
              "  </svg>\n",
              "      </button>\n",
              "      \n",
              "  <style>\n",
              "    .colab-df-container {\n",
              "      display:flex;\n",
              "      flex-wrap:wrap;\n",
              "      gap: 12px;\n",
              "    }\n",
              "\n",
              "    .colab-df-convert {\n",
              "      background-color: #E8F0FE;\n",
              "      border: none;\n",
              "      border-radius: 50%;\n",
              "      cursor: pointer;\n",
              "      display: none;\n",
              "      fill: #1967D2;\n",
              "      height: 32px;\n",
              "      padding: 0 0 0 0;\n",
              "      width: 32px;\n",
              "    }\n",
              "\n",
              "    .colab-df-convert:hover {\n",
              "      background-color: #E2EBFA;\n",
              "      box-shadow: 0px 1px 2px rgba(60, 64, 67, 0.3), 0px 1px 3px 1px rgba(60, 64, 67, 0.15);\n",
              "      fill: #174EA6;\n",
              "    }\n",
              "\n",
              "    [theme=dark] .colab-df-convert {\n",
              "      background-color: #3B4455;\n",
              "      fill: #D2E3FC;\n",
              "    }\n",
              "\n",
              "    [theme=dark] .colab-df-convert:hover {\n",
              "      background-color: #434B5C;\n",
              "      box-shadow: 0px 1px 3px 1px rgba(0, 0, 0, 0.15);\n",
              "      filter: drop-shadow(0px 1px 2px rgba(0, 0, 0, 0.3));\n",
              "      fill: #FFFFFF;\n",
              "    }\n",
              "  </style>\n",
              "\n",
              "      <script>\n",
              "        const buttonEl =\n",
              "          document.querySelector('#df-18eee00b-9dff-48cc-b190-1b158ad46792 button.colab-df-convert');\n",
              "        buttonEl.style.display =\n",
              "          google.colab.kernel.accessAllowed ? 'block' : 'none';\n",
              "\n",
              "        async function convertToInteractive(key) {\n",
              "          const element = document.querySelector('#df-18eee00b-9dff-48cc-b190-1b158ad46792');\n",
              "          const dataTable =\n",
              "            await google.colab.kernel.invokeFunction('convertToInteractive',\n",
              "                                                     [key], {});\n",
              "          if (!dataTable) return;\n",
              "\n",
              "          const docLinkHtml = 'Like what you see? Visit the ' +\n",
              "            '<a target=\"_blank\" href=https://colab.research.google.com/notebooks/data_table.ipynb>data table notebook</a>'\n",
              "            + ' to learn more about interactive tables.';\n",
              "          element.innerHTML = '';\n",
              "          dataTable['output_type'] = 'display_data';\n",
              "          await google.colab.output.renderOutput(dataTable, element);\n",
              "          const docLink = document.createElement('div');\n",
              "          docLink.innerHTML = docLinkHtml;\n",
              "          element.appendChild(docLink);\n",
              "        }\n",
              "      </script>\n",
              "    </div>\n",
              "  </div>\n",
              "  "
            ]
          },
          "metadata": {},
          "execution_count": 56
        }
      ],
      "source": [
        "from sklearn.model_selection import train_test_split\n",
        "\n",
        "X_train, X_val, y_train, y_val = train_test_split(df_train.index.values, df_train.label.values, test_size=0.15, random_state=0, stratify=df_train.label.values)\n",
        "\n",
        "df_train.loc[X_train, 'data_type'] = 'train'\n",
        "df_train.loc[X_val, 'data_type'] = 'val'\n",
        "\n",
        "df_train.groupby(['ratingName', 'label', 'data_type']).count()"
      ]
    },
    {
      "cell_type": "code",
      "execution_count": 57,
      "metadata": {
        "colab": {
          "base_uri": "https://localhost:8080/",
          "height": 151,
          "referenced_widgets": [
            "37408794c37f47ddb052a69591fd18e2",
            "67e15e07949d4d09a40d969e902646a9",
            "8fd29d2cdcdd475b99e097e16b235c30",
            "d9adc089ec094865b8ded4fca81c9e0f",
            "c60edbd2e1314bd2bb4c578bee44e0a2",
            "f237107953464772add24895038a8947",
            "d4a730e3f40e4225a3e13fa284703b05",
            "9d0a84549a254407882c445a2147ddbf",
            "035b2971e537401b83bfd3158fb9c128",
            "f8c96cb4112141938bccfa3e6ae31a78",
            "30da85854511455c9ad1b41af7513984",
            "5bb39edaddd045569d38bacff23c9488",
            "2a23a39d781b4359b5ead311e5b6363e",
            "57c3ab09d0b441b0a791d84798384c2b",
            "d70986bea9c54320a6807366445d66c7",
            "378870e7736f423ab980ddf6392a4ebc",
            "2366c43881f942c9b5b97186b6287b60",
            "1106c5bb7c5941d890bc0bffc56780d5",
            "cda57258a8a341739cbe9b7591e5a53d",
            "15303968b0f9463cb15aaf1c090af39d",
            "0f6ee1d3fada4966bf5bb0ab41a7692a",
            "87aee4c4dee84b048272fc42f4e956b9",
            "4bad1cb7125c4b9f959a6721762d6d8a",
            "f60ef7c1510d407d8effa400b88dd9cd",
            "d32e3e2dd0f6461da8952c6a5e253170",
            "3bb7c1a9587f423eb6ec03289506a709",
            "769d1881434c4033832229f60635f6ab",
            "0d55a3291c014085a8001f057855b512",
            "f9ef3e9aac914eb695dbc41bd1630cd2",
            "5bc14aac187343d7a4559fec7c2b214a",
            "99e4a15030794ace88893a52a10d6111",
            "657a50f94f014ed1a67c55fd362d85cf",
            "8aa84a6484c04f63b9bd0fe0a274d11b"
          ]
        },
        "id": "tIO8RGPwf5OV",
        "outputId": "ada5c65d-1879-4233-9cc8-e9eb0abc9f3e"
      },
      "outputs": [
        {
          "output_type": "display_data",
          "data": {
            "text/plain": [
              "Downloading:   0%|          | 0.00/226k [00:00<?, ?B/s]"
            ],
            "application/vnd.jupyter.widget-view+json": {
              "version_major": 2,
              "version_minor": 0,
              "model_id": "37408794c37f47ddb052a69591fd18e2"
            }
          },
          "metadata": {}
        },
        {
          "output_type": "display_data",
          "data": {
            "text/plain": [
              "Downloading:   0%|          | 0.00/28.0 [00:00<?, ?B/s]"
            ],
            "application/vnd.jupyter.widget-view+json": {
              "version_major": 2,
              "version_minor": 0,
              "model_id": "5bb39edaddd045569d38bacff23c9488"
            }
          },
          "metadata": {}
        },
        {
          "output_type": "display_data",
          "data": {
            "text/plain": [
              "Downloading:   0%|          | 0.00/570 [00:00<?, ?B/s]"
            ],
            "application/vnd.jupyter.widget-view+json": {
              "version_major": 2,
              "version_minor": 0,
              "model_id": "4bad1cb7125c4b9f959a6721762d6d8a"
            }
          },
          "metadata": {}
        },
        {
          "output_type": "stream",
          "name": "stderr",
          "text": [
            "Truncation was not explicitly activated but `max_length` is provided a specific value, please use `truncation=True` to explicitly truncate examples to max length. Defaulting to 'longest_first' truncation strategy. If you encode pairs of sequences (GLUE-style) with the tokenizer you can select this strategy more precisely by providing a specific strategy to `truncation`.\n"
          ]
        }
      ],
      "source": [
        "tokenizer = BertTokenizer.from_pretrained('bert-base-uncased', \n",
        "                                          do_lower_case=True)\n",
        "                                          \n",
        "encoded_data_train = tokenizer.batch_encode_plus(\n",
        "    df_train[df_train.data_type=='train'].text.values, \n",
        "    add_special_tokens=True, \n",
        "    return_attention_mask=True, \n",
        "    pad_to_max_length=True, \n",
        "    max_length=256, \n",
        "    return_tensors='pt'\n",
        ")\n",
        "\n",
        "encoded_data_val = tokenizer.batch_encode_plus(\n",
        "    df_train[df_train.data_type=='val'].text.values, \n",
        "    add_special_tokens=True, \n",
        "    return_attention_mask=True, \n",
        "    pad_to_max_length=True, \n",
        "    max_length=256, \n",
        "    return_tensors='pt' \n",
        ")\n",
        "\n",
        "encoded_data_test = tokenizer.batch_encode_plus(\n",
        "    df_test.text.values, \n",
        "    add_special_tokens=True, \n",
        "    return_attention_mask=True, \n",
        "    pad_to_max_length=True, \n",
        "    max_length=256, \n",
        "    return_tensors='pt' \n",
        ")\n",
        "\n",
        "input_ids_train = encoded_data_train['input_ids']\n",
        "attention_masks_train = encoded_data_train['attention_mask']\n",
        "labels_train = torch.tensor(df_train[df_train.data_type=='train'].label.values)\n",
        "\n",
        "input_ids_val = encoded_data_val['input_ids']\n",
        "attention_masks_val = encoded_data_val['attention_mask']\n",
        "labels_val = torch.tensor(df_train[df_train.data_type=='val'].label.values)\n",
        "\n",
        "input_ids_test = encoded_data_test['input_ids']\n",
        "attention_masks_test = encoded_data_test['attention_mask']\n",
        "labels_test = torch.tensor(df_test.label.values)\n",
        "\n",
        "dataset_train = TensorDataset(input_ids_train, attention_masks_train, labels_train)\n",
        "dataset_val = TensorDataset(input_ids_val, attention_masks_val, labels_val)\n",
        "dataset_test = TensorDataset(input_ids_test, attention_masks_test, labels_test)"
      ]
    },
    {
      "cell_type": "code",
      "execution_count": 58,
      "metadata": {
        "colab": {
          "base_uri": "https://localhost:8080/",
          "height": 161,
          "referenced_widgets": [
            "ffe85e6dc6db45d2a8e01dfd50785f02",
            "ea7e4c3fa8274cb48f9cb32d8fdfa95e",
            "b002b771dcaa4e05a0b490be9726acca",
            "e4f936d345ef4dd6925f361549db0430",
            "a73c6cce49734f7d9db761a2e8d7e23b",
            "295e6229dead4f74a42a9ddbe4832490",
            "6f6fba6586b648a381a9d1ed19481b5b",
            "a782044a3e1c4e96adb7d617cc3a8f18",
            "4b297fd9c19c4b67af3acdb5e6fc0ae5",
            "853a472b334145c2a8a99cb011f320be",
            "15368f89f62d4be4a543bb7f7ad77144"
          ]
        },
        "id": "SfuNyEPWf6FJ",
        "outputId": "c69dde52-45d3-4f9e-bb1e-40ff1f8350d3"
      },
      "outputs": [
        {
          "output_type": "display_data",
          "data": {
            "text/plain": [
              "Downloading:   0%|          | 0.00/420M [00:00<?, ?B/s]"
            ],
            "application/vnd.jupyter.widget-view+json": {
              "version_major": 2,
              "version_minor": 0,
              "model_id": "ffe85e6dc6db45d2a8e01dfd50785f02"
            }
          },
          "metadata": {}
        },
        {
          "output_type": "stream",
          "name": "stderr",
          "text": [
            "Some weights of the model checkpoint at bert-base-uncased were not used when initializing BertForSequenceClassification: ['cls.predictions.transform.dense.weight', 'cls.predictions.transform.LayerNorm.weight', 'cls.predictions.transform.LayerNorm.bias', 'cls.seq_relationship.bias', 'cls.predictions.bias', 'cls.predictions.transform.dense.bias', 'cls.predictions.decoder.weight', 'cls.seq_relationship.weight']\n",
            "- This IS expected if you are initializing BertForSequenceClassification from the checkpoint of a model trained on another task or with another architecture (e.g. initializing a BertForSequenceClassification model from a BertForPreTraining model).\n",
            "- This IS NOT expected if you are initializing BertForSequenceClassification from the checkpoint of a model that you expect to be exactly identical (initializing a BertForSequenceClassification model from a BertForSequenceClassification model).\n",
            "Some weights of BertForSequenceClassification were not initialized from the model checkpoint at bert-base-uncased and are newly initialized: ['classifier.bias', 'classifier.weight']\n",
            "You should probably TRAIN this model on a down-stream task to be able to use it for predictions and inference.\n"
          ]
        }
      ],
      "source": [
        "model = BertForSequenceClassification.from_pretrained(\"bert-base-uncased\",\n",
        "                                                      num_labels=len(label_dict),\n",
        "                                                      output_attentions=False,\n",
        "                                                      output_hidden_states=False)"
      ]
    },
    {
      "cell_type": "code",
      "execution_count": 59,
      "metadata": {
        "id": "R6xZm8FfgNEx"
      },
      "outputs": [],
      "source": [
        "# We will use Random sampler for train set and sequential sampler for validation\n",
        "from torch.utils.data import DataLoader, RandomSampler, SequentialSampler\n",
        "\n",
        "batch_size = 3\n",
        "\n",
        "dataloader_train = DataLoader(dataset_train, \n",
        "                              sampler=RandomSampler(dataset_train), \n",
        "                              batch_size=batch_size)\n",
        "\n",
        "dataloader_validation = DataLoader(dataset_val, \n",
        "                                   sampler=SequentialSampler(dataset_val), \n",
        "                                   batch_size=batch_size)\n",
        "\n",
        "dataloader_test = DataLoader(dataset_test, \n",
        "                                   sampler=SequentialSampler(dataset_test), \n",
        "                                   batch_size=batch_size)"
      ]
    },
    {
      "cell_type": "code",
      "execution_count": 60,
      "metadata": {
        "id": "Hn2kzKH6gQiK"
      },
      "outputs": [],
      "source": [
        "from transformers import get_linear_schedule_with_warmup\n",
        "\n",
        "optimizer = torch.optim.AdamW(model.parameters(),\n",
        "                  lr=1e-5, \n",
        "                  eps=1e-8)\n",
        "                  \n",
        "epochs = 5\n",
        "\n",
        "scheduler = get_linear_schedule_with_warmup(optimizer, \n",
        "                                            num_warmup_steps=0,\n",
        "                                            num_training_steps=len(dataloader_train)*epochs)"
      ]
    },
    {
      "cell_type": "code",
      "execution_count": 61,
      "metadata": {
        "id": "zrq1hKuTgTCr"
      },
      "outputs": [],
      "source": [
        "from sklearn.metrics import f1_score\n",
        "\n",
        "def f1_score_func(preds, labels):\n",
        "    preds_flat = np.argmax(preds, axis=1).flatten()\n",
        "    labels_flat = labels.flatten()\n",
        "    return f1_score(labels_flat, preds_flat, average='weighted')\n",
        "\n",
        "def accuracy_per_class(preds, labels):\n",
        "    label_dict_inverse = {v: k for k, v in label_dict.items()}\n",
        "    \n",
        "    preds_flat = np.argmax(preds, axis=1).flatten()\n",
        "    labels_flat = labels.flatten()\n",
        "\n",
        "    for label in np.unique(labels_flat):\n",
        "        y_preds = preds_flat[labels_flat==label]\n",
        "        y_true = labels_flat[labels_flat==label]\n",
        "        print(f'Class: {label_dict_inverse[label]}')\n",
        "        print(f'Accuracy: {len(y_preds[y_preds==label])}/{len(y_true)}\\n')"
      ]
    },
    {
      "cell_type": "code",
      "execution_count": 62,
      "metadata": {
        "colab": {
          "base_uri": "https://localhost:8080/"
        },
        "id": "f8kKqXtcgUhV",
        "outputId": "16fbe1e9-37c0-4366-ad49-e09ffdf10c3e"
      },
      "outputs": [
        {
          "output_type": "stream",
          "name": "stdout",
          "text": [
            "cuda\n"
          ]
        }
      ],
      "source": [
        "device = torch.device('cuda' if torch.cuda.is_available() else 'cpu')\n",
        "model.to(device)\n",
        "\n",
        "print(device)"
      ]
    },
    {
      "cell_type": "code",
      "execution_count": 63,
      "metadata": {
        "colab": {
          "base_uri": "https://localhost:8080/",
          "height": 510,
          "referenced_widgets": [
            "1946327e89df49f8af2570763264bbbe",
            "10b73ea8903346b5b0117ff3c9d9606c",
            "4aa3039e408b403f826b981ce1e9a72f",
            "130c30589631468b9332608fcbe9391a",
            "413bb6d78eb14b9fb0a0c6f3f30b608d",
            "58af8c0a8d1c4d0e96816b8fc3e0d938",
            "2702f36efbd34ad09667c6b65e0aa567",
            "0ed5ba6b56984199b31133f4cb6791f1",
            "f44de70817f64736baf128859f97f208",
            "870b781470ec4d6c85a10c71af1aa950",
            "e5032eeb3fb841c996d76546f64104a9",
            "7b2b83957ef9450a9328132aa71df593",
            "1938377a3a1642f58397dd4bec95f924",
            "9022215283a44d8fbfc57219ed57914b",
            "fb2bd4edcf68421f8f9dba90744446d8",
            "4098df4c17c349fa90d1c68353a9b887",
            "434f55e23cb24d7c8e4fceb60c88233d",
            "14ed054b33b64434a5e2fecde898b6f6",
            "251bb56eb3914b3582f6cd4bc6612cb4",
            "096d6e8bf1974a7f9eef9eae29670bef",
            "15e45be3bab446889be89017be2dc353",
            "898c74742b4c45c4bb8b352b9d2a6314",
            "1e100f7cc09d4eec9bbebd1cd6e0bc03",
            "066b05253ff947c6a8fca53913e17678",
            "f40376ee1e354d568268e0f1a8bccf23",
            "b254fa7e0c6b4990814085f593c086cc",
            "31b83b5c338f4c9da7444e31c1333766",
            "58e24ea82bf54548882f8416761cadc6",
            "310bcd86e6674b06b57d9895302e0457",
            "d2c20cc0210745f4bebae8f541a51139",
            "4ea05f6b9c624e959979c137bb31983e",
            "3308b1528d8a4e33887919d8e12b1e89",
            "f2b5f69921d0497e8f2d0eb964236b47",
            "a88b6b471fd94a08b7eb846f716aedd9",
            "dd8a4508976a44c0892e9b5c782fcce5",
            "f7746d98b4c14108a78b2c608f7fa3a0",
            "95c05727156c4353b4df7b56fadeca34",
            "c543f2c67cfc4bd5beb37f9b754bfd2c",
            "60933f7254b74d8184cd7d293ea45cfd",
            "563ac11755244ceda2e469296a1cd6eb",
            "c9ce431873934d41a9f991b99b88d684",
            "cb2166831cc04df99a3a2b8737afa5ec",
            "b6b8c9a44d344c308a4cf129871d1847",
            "0ed05df074ae4837aacc188775a939fc",
            "22df8e486d7e4fc2a95c4c0481e0561e",
            "20cca826eb7b4dcf836a682697b66d10",
            "acd972ade29f43b28b2d62c023612256",
            "61e4b55929b6420b96fb05e04aa9dd0b",
            "e519cab301444688a1cd479b90a711cf",
            "bca37851190349f4b4c951e455568298",
            "b4731e6bf4f448e18f70e5553b2dc125",
            "31f60a9d13ff40cca2d487e555445c1f",
            "04a0173814e141c9a29419c35cbe395d",
            "9665fc6f1c2b463aa3d0ec35fc47fb06",
            "0a4f0169164b46198d85f8b16a08332e",
            "676ce4a0f5294b0699fe784e39d6892e",
            "1f9ab752cefa4e84acd89f18ac58ee51",
            "6341b98cfdbb4164aaf5c93a514d4d3b",
            "365aff68d6df4855823d2e19ab1cd560",
            "ab0f998f44fa41fda398cce6815a09a1",
            "a68596ff757549a5805bbde77cc34f97",
            "93eab57d2f3f49f48d0f5f8c070bd53f",
            "99a8d3ffd243499891c2bb650027d757",
            "9158f4a6bfc74d219fa2cfcade4b707b",
            "34239cedb2144a229286700db8dd83d1",
            "90c162986a23467b9c66f58fd65cf85d"
          ]
        },
        "id": "1Q2Yt_UYgWP3",
        "outputId": "6e60f08b-207a-4f64-9ef5-9cfca11b6b94"
      },
      "outputs": [
        {
          "output_type": "display_data",
          "data": {
            "text/plain": [
              "  0%|          | 0/5 [00:00<?, ?it/s]"
            ],
            "application/vnd.jupyter.widget-view+json": {
              "version_major": 2,
              "version_minor": 0,
              "model_id": "1946327e89df49f8af2570763264bbbe"
            }
          },
          "metadata": {}
        },
        {
          "output_type": "display_data",
          "data": {
            "text/plain": [
              "Epoch 1:   0%|          | 0/2271 [00:00<?, ?it/s]"
            ],
            "application/vnd.jupyter.widget-view+json": {
              "version_major": 2,
              "version_minor": 0,
              "model_id": "7b2b83957ef9450a9328132aa71df593"
            }
          },
          "metadata": {}
        },
        {
          "output_type": "stream",
          "name": "stdout",
          "text": [
            "\n",
            "Epoch 1\n",
            "Training loss: 0.6340735479565981\n",
            "Validation loss: 0.6812718162717218\n",
            "F1 Score (Weighted): 0.6846356491472055\n"
          ]
        },
        {
          "output_type": "display_data",
          "data": {
            "text/plain": [
              "Epoch 2:   0%|          | 0/2271 [00:00<?, ?it/s]"
            ],
            "application/vnd.jupyter.widget-view+json": {
              "version_major": 2,
              "version_minor": 0,
              "model_id": "1e100f7cc09d4eec9bbebd1cd6e0bc03"
            }
          },
          "metadata": {}
        },
        {
          "output_type": "stream",
          "name": "stdout",
          "text": [
            "\n",
            "Epoch 2\n",
            "Training loss: 0.6294333816917907\n",
            "Validation loss: 0.9684613750634385\n",
            "F1 Score (Weighted): 0.7255488130217226\n"
          ]
        },
        {
          "output_type": "display_data",
          "data": {
            "text/plain": [
              "Epoch 3:   0%|          | 0/2271 [00:00<?, ?it/s]"
            ],
            "application/vnd.jupyter.widget-view+json": {
              "version_major": 2,
              "version_minor": 0,
              "model_id": "a88b6b471fd94a08b7eb846f716aedd9"
            }
          },
          "metadata": {}
        },
        {
          "output_type": "stream",
          "name": "stdout",
          "text": [
            "\n",
            "Epoch 3\n",
            "Training loss: 0.5117051267481968\n",
            "Validation loss: 1.1358172705175211\n",
            "F1 Score (Weighted): 0.7426714585038404\n"
          ]
        },
        {
          "output_type": "display_data",
          "data": {
            "text/plain": [
              "Epoch 4:   0%|          | 0/2271 [00:00<?, ?it/s]"
            ],
            "application/vnd.jupyter.widget-view+json": {
              "version_major": 2,
              "version_minor": 0,
              "model_id": "22df8e486d7e4fc2a95c4c0481e0561e"
            }
          },
          "metadata": {}
        },
        {
          "output_type": "stream",
          "name": "stdout",
          "text": [
            "\n",
            "Epoch 4\n",
            "Training loss: 0.32715118148324707\n",
            "Validation loss: 1.3467987546607407\n",
            "F1 Score (Weighted): 0.7606349736855502\n"
          ]
        },
        {
          "output_type": "display_data",
          "data": {
            "text/plain": [
              "Epoch 5:   0%|          | 0/2271 [00:00<?, ?it/s]"
            ],
            "application/vnd.jupyter.widget-view+json": {
              "version_major": 2,
              "version_minor": 0,
              "model_id": "676ce4a0f5294b0699fe784e39d6892e"
            }
          },
          "metadata": {}
        },
        {
          "output_type": "stream",
          "name": "stdout",
          "text": [
            "\n",
            "Epoch 5\n",
            "Training loss: 0.2017301886661775\n",
            "Validation loss: 1.491257447398461\n",
            "F1 Score (Weighted): 0.7519548877613884\n"
          ]
        }
      ],
      "source": [
        "seed_val = 42\n",
        "random.seed(seed_val)\n",
        "np.random.seed(seed_val)\n",
        "torch.manual_seed(seed_val)\n",
        "torch.cuda.manual_seed_all(seed_val)\n",
        "\n",
        "def evaluate(dataloader_val):\n",
        "\n",
        "    model.eval()\n",
        "    \n",
        "    loss_val_total = 0\n",
        "    predictions, true_vals = [], []\n",
        "    \n",
        "    for batch in dataloader_val:\n",
        "        \n",
        "        batch = tuple(b.to(device) for b in batch)\n",
        "        \n",
        "        inputs = {'input_ids':      batch[0],\n",
        "                  'attention_mask': batch[1],\n",
        "                  'labels':         batch[2],\n",
        "                 }\n",
        "\n",
        "        with torch.no_grad():        \n",
        "            outputs = model(**inputs)\n",
        "            \n",
        "        loss = outputs[0]\n",
        "        logits = outputs[1]\n",
        "        loss_val_total += loss.item()\n",
        "\n",
        "        logits = logits.detach().cpu().numpy()\n",
        "        label_ids = inputs['labels'].cpu().numpy()\n",
        "        predictions.append(logits)\n",
        "        true_vals.append(label_ids)\n",
        "    loss_val_avg = loss_val_total/len(dataloader_val) \n",
        "    \n",
        "    predictions = np.concatenate(predictions, axis=0)\n",
        "    true_vals = np.concatenate(true_vals, axis=0)\n",
        "            \n",
        "    return loss_val_avg, predictions, true_vals\n",
        "    \n",
        "for epoch in tqdm(range(1, epochs+1)):\n",
        "    \n",
        "    model.train()\n",
        "    \n",
        "    loss_train_total = 0\n",
        "\n",
        "    progress_bar = tqdm(dataloader_train, desc='Epoch {:1d}'.format(epoch), leave=False, disable=False)\n",
        "    for batch in progress_bar:\n",
        "\n",
        "        model.zero_grad()\n",
        "        \n",
        "        batch = tuple(b.to(device) for b in batch)\n",
        "        \n",
        "        inputs = {'input_ids':      batch[0],\n",
        "                  'attention_mask': batch[1],\n",
        "                  'labels':         batch[2],\n",
        "                 }       \n",
        "\n",
        "        outputs = model(**inputs)\n",
        "        \n",
        "        loss = outputs[0]\n",
        "        loss_train_total += loss.item()\n",
        "        loss.backward()\n",
        "\n",
        "        torch.nn.utils.clip_grad_norm_(model.parameters(), 1.0)\n",
        "\n",
        "        optimizer.step()\n",
        "        scheduler.step()\n",
        "        \n",
        "        progress_bar.set_postfix({'training_loss': '{:.3f}'.format(loss.item()/len(batch))})\n",
        "         \n",
        "        \n",
        "    torch.save(model.state_dict(), f'finetuned_BERT_epoch_{epoch}.model')\n",
        "    tqdm.write(f'\\nEpoch {epoch}')\n",
        "    \n",
        "    loss_train_avg = loss_train_total/len(dataloader_train)            \n",
        "    tqdm.write(f'Training loss: {loss_train_avg}')\n",
        "    \n",
        "    val_loss, predictions, true_vals = evaluate(dataloader_validation)\n",
        "    val_f1 = f1_score_func(predictions, true_vals)\n",
        "    tqdm.write(f'Validation loss: {val_loss}')\n",
        "    tqdm.write(f'F1 Score (Weighted): {val_f1}')"
      ]
    },
    {
      "cell_type": "code",
      "execution_count": 65,
      "metadata": {
        "id": "QrQ2ZWzfgbL0",
        "colab": {
          "base_uri": "https://localhost:8080/"
        },
        "outputId": "efd96e5a-0db7-491e-bed7-1bb7dc54a459"
      },
      "outputs": [
        {
          "output_type": "stream",
          "name": "stderr",
          "text": [
            "Some weights of the model checkpoint at bert-base-uncased were not used when initializing BertForSequenceClassification: ['cls.predictions.transform.dense.weight', 'cls.predictions.transform.LayerNorm.weight', 'cls.predictions.transform.LayerNorm.bias', 'cls.seq_relationship.bias', 'cls.predictions.bias', 'cls.predictions.transform.dense.bias', 'cls.predictions.decoder.weight', 'cls.seq_relationship.weight']\n",
            "- This IS expected if you are initializing BertForSequenceClassification from the checkpoint of a model trained on another task or with another architecture (e.g. initializing a BertForSequenceClassification model from a BertForPreTraining model).\n",
            "- This IS NOT expected if you are initializing BertForSequenceClassification from the checkpoint of a model that you expect to be exactly identical (initializing a BertForSequenceClassification model from a BertForSequenceClassification model).\n",
            "Some weights of BertForSequenceClassification were not initialized from the model checkpoint at bert-base-uncased and are newly initialized: ['classifier.bias', 'classifier.weight']\n",
            "You should probably TRAIN this model on a down-stream task to be able to use it for predictions and inference.\n"
          ]
        },
        {
          "output_type": "stream",
          "name": "stdout",
          "text": [
            "Class: True\n",
            "Accuracy: 269/436\n",
            "\n",
            "Class: False\n",
            "Accuracy: 373/455\n",
            "\n"
          ]
        }
      ],
      "source": [
        "model = BertForSequenceClassification.from_pretrained(\"bert-base-uncased\",\n",
        "                                                      num_labels=len(label_dict),\n",
        "                                                      output_attentions=False,\n",
        "                                                      output_hidden_states=False)\n",
        "\n",
        "model.to(device)\n",
        "\n",
        "model.load_state_dict(torch.load('finetuned_BERT_epoch_1.model', map_location=torch.device('cpu')))\n",
        "\n",
        "_, predictions, true_vals = evaluate(dataloader_test)\n",
        "accuracy_per_class(predictions, true_vals)"
      ]
    }
  ],
  "metadata": {
    "accelerator": "GPU",
    "colab": {
      "collapsed_sections": [
        "i6z-w3-M-T-5",
        "9gjp_awkJLFr",
        "neyVpCHhGFFq",
        "1qFonKxTD8c3",
        "eQZJhmMxvzWR",
        "P5mcMyy65Kiz",
        "7uZgCJHcuZlj",
        "p_bqvgoUCNf9",
        "7Lf0nU7N-Vhl",
        "P4XFbUHv3Jzk",
        "GTNQu5KtBihk",
        "qEpLC2fvITPA",
        "l4p6VgqzPD0L"
      ],
      "machine_shape": "hm",
      "name": "fakeNews.ipynb",
      "provenance": []
    },
    "kernelspec": {
      "display_name": "Python 3",
      "name": "python3"
    },
    "language_info": {
      "name": "python"
    },
    "widgets": {
      "application/vnd.jupyter.widget-state+json": {
        "37408794c37f47ddb052a69591fd18e2": {
          "model_module": "@jupyter-widgets/controls",
          "model_name": "HBoxModel",
          "model_module_version": "1.5.0",
          "state": {
            "_dom_classes": [],
            "_model_module": "@jupyter-widgets/controls",
            "_model_module_version": "1.5.0",
            "_model_name": "HBoxModel",
            "_view_count": null,
            "_view_module": "@jupyter-widgets/controls",
            "_view_module_version": "1.5.0",
            "_view_name": "HBoxView",
            "box_style": "",
            "children": [
              "IPY_MODEL_67e15e07949d4d09a40d969e902646a9",
              "IPY_MODEL_8fd29d2cdcdd475b99e097e16b235c30",
              "IPY_MODEL_d9adc089ec094865b8ded4fca81c9e0f"
            ],
            "layout": "IPY_MODEL_c60edbd2e1314bd2bb4c578bee44e0a2"
          }
        },
        "67e15e07949d4d09a40d969e902646a9": {
          "model_module": "@jupyter-widgets/controls",
          "model_name": "HTMLModel",
          "model_module_version": "1.5.0",
          "state": {
            "_dom_classes": [],
            "_model_module": "@jupyter-widgets/controls",
            "_model_module_version": "1.5.0",
            "_model_name": "HTMLModel",
            "_view_count": null,
            "_view_module": "@jupyter-widgets/controls",
            "_view_module_version": "1.5.0",
            "_view_name": "HTMLView",
            "description": "",
            "description_tooltip": null,
            "layout": "IPY_MODEL_f237107953464772add24895038a8947",
            "placeholder": "​",
            "style": "IPY_MODEL_d4a730e3f40e4225a3e13fa284703b05",
            "value": "Downloading: 100%"
          }
        },
        "8fd29d2cdcdd475b99e097e16b235c30": {
          "model_module": "@jupyter-widgets/controls",
          "model_name": "FloatProgressModel",
          "model_module_version": "1.5.0",
          "state": {
            "_dom_classes": [],
            "_model_module": "@jupyter-widgets/controls",
            "_model_module_version": "1.5.0",
            "_model_name": "FloatProgressModel",
            "_view_count": null,
            "_view_module": "@jupyter-widgets/controls",
            "_view_module_version": "1.5.0",
            "_view_name": "ProgressView",
            "bar_style": "success",
            "description": "",
            "description_tooltip": null,
            "layout": "IPY_MODEL_9d0a84549a254407882c445a2147ddbf",
            "max": 231508,
            "min": 0,
            "orientation": "horizontal",
            "style": "IPY_MODEL_035b2971e537401b83bfd3158fb9c128",
            "value": 231508
          }
        },
        "d9adc089ec094865b8ded4fca81c9e0f": {
          "model_module": "@jupyter-widgets/controls",
          "model_name": "HTMLModel",
          "model_module_version": "1.5.0",
          "state": {
            "_dom_classes": [],
            "_model_module": "@jupyter-widgets/controls",
            "_model_module_version": "1.5.0",
            "_model_name": "HTMLModel",
            "_view_count": null,
            "_view_module": "@jupyter-widgets/controls",
            "_view_module_version": "1.5.0",
            "_view_name": "HTMLView",
            "description": "",
            "description_tooltip": null,
            "layout": "IPY_MODEL_f8c96cb4112141938bccfa3e6ae31a78",
            "placeholder": "​",
            "style": "IPY_MODEL_30da85854511455c9ad1b41af7513984",
            "value": " 226k/226k [00:00&lt;00:00, 743kB/s]"
          }
        },
        "c60edbd2e1314bd2bb4c578bee44e0a2": {
          "model_module": "@jupyter-widgets/base",
          "model_name": "LayoutModel",
          "model_module_version": "1.2.0",
          "state": {
            "_model_module": "@jupyter-widgets/base",
            "_model_module_version": "1.2.0",
            "_model_name": "LayoutModel",
            "_view_count": null,
            "_view_module": "@jupyter-widgets/base",
            "_view_module_version": "1.2.0",
            "_view_name": "LayoutView",
            "align_content": null,
            "align_items": null,
            "align_self": null,
            "border": null,
            "bottom": null,
            "display": null,
            "flex": null,
            "flex_flow": null,
            "grid_area": null,
            "grid_auto_columns": null,
            "grid_auto_flow": null,
            "grid_auto_rows": null,
            "grid_column": null,
            "grid_gap": null,
            "grid_row": null,
            "grid_template_areas": null,
            "grid_template_columns": null,
            "grid_template_rows": null,
            "height": null,
            "justify_content": null,
            "justify_items": null,
            "left": null,
            "margin": null,
            "max_height": null,
            "max_width": null,
            "min_height": null,
            "min_width": null,
            "object_fit": null,
            "object_position": null,
            "order": null,
            "overflow": null,
            "overflow_x": null,
            "overflow_y": null,
            "padding": null,
            "right": null,
            "top": null,
            "visibility": null,
            "width": null
          }
        },
        "f237107953464772add24895038a8947": {
          "model_module": "@jupyter-widgets/base",
          "model_name": "LayoutModel",
          "model_module_version": "1.2.0",
          "state": {
            "_model_module": "@jupyter-widgets/base",
            "_model_module_version": "1.2.0",
            "_model_name": "LayoutModel",
            "_view_count": null,
            "_view_module": "@jupyter-widgets/base",
            "_view_module_version": "1.2.0",
            "_view_name": "LayoutView",
            "align_content": null,
            "align_items": null,
            "align_self": null,
            "border": null,
            "bottom": null,
            "display": null,
            "flex": null,
            "flex_flow": null,
            "grid_area": null,
            "grid_auto_columns": null,
            "grid_auto_flow": null,
            "grid_auto_rows": null,
            "grid_column": null,
            "grid_gap": null,
            "grid_row": null,
            "grid_template_areas": null,
            "grid_template_columns": null,
            "grid_template_rows": null,
            "height": null,
            "justify_content": null,
            "justify_items": null,
            "left": null,
            "margin": null,
            "max_height": null,
            "max_width": null,
            "min_height": null,
            "min_width": null,
            "object_fit": null,
            "object_position": null,
            "order": null,
            "overflow": null,
            "overflow_x": null,
            "overflow_y": null,
            "padding": null,
            "right": null,
            "top": null,
            "visibility": null,
            "width": null
          }
        },
        "d4a730e3f40e4225a3e13fa284703b05": {
          "model_module": "@jupyter-widgets/controls",
          "model_name": "DescriptionStyleModel",
          "model_module_version": "1.5.0",
          "state": {
            "_model_module": "@jupyter-widgets/controls",
            "_model_module_version": "1.5.0",
            "_model_name": "DescriptionStyleModel",
            "_view_count": null,
            "_view_module": "@jupyter-widgets/base",
            "_view_module_version": "1.2.0",
            "_view_name": "StyleView",
            "description_width": ""
          }
        },
        "9d0a84549a254407882c445a2147ddbf": {
          "model_module": "@jupyter-widgets/base",
          "model_name": "LayoutModel",
          "model_module_version": "1.2.0",
          "state": {
            "_model_module": "@jupyter-widgets/base",
            "_model_module_version": "1.2.0",
            "_model_name": "LayoutModel",
            "_view_count": null,
            "_view_module": "@jupyter-widgets/base",
            "_view_module_version": "1.2.0",
            "_view_name": "LayoutView",
            "align_content": null,
            "align_items": null,
            "align_self": null,
            "border": null,
            "bottom": null,
            "display": null,
            "flex": null,
            "flex_flow": null,
            "grid_area": null,
            "grid_auto_columns": null,
            "grid_auto_flow": null,
            "grid_auto_rows": null,
            "grid_column": null,
            "grid_gap": null,
            "grid_row": null,
            "grid_template_areas": null,
            "grid_template_columns": null,
            "grid_template_rows": null,
            "height": null,
            "justify_content": null,
            "justify_items": null,
            "left": null,
            "margin": null,
            "max_height": null,
            "max_width": null,
            "min_height": null,
            "min_width": null,
            "object_fit": null,
            "object_position": null,
            "order": null,
            "overflow": null,
            "overflow_x": null,
            "overflow_y": null,
            "padding": null,
            "right": null,
            "top": null,
            "visibility": null,
            "width": null
          }
        },
        "035b2971e537401b83bfd3158fb9c128": {
          "model_module": "@jupyter-widgets/controls",
          "model_name": "ProgressStyleModel",
          "model_module_version": "1.5.0",
          "state": {
            "_model_module": "@jupyter-widgets/controls",
            "_model_module_version": "1.5.0",
            "_model_name": "ProgressStyleModel",
            "_view_count": null,
            "_view_module": "@jupyter-widgets/base",
            "_view_module_version": "1.2.0",
            "_view_name": "StyleView",
            "bar_color": null,
            "description_width": ""
          }
        },
        "f8c96cb4112141938bccfa3e6ae31a78": {
          "model_module": "@jupyter-widgets/base",
          "model_name": "LayoutModel",
          "model_module_version": "1.2.0",
          "state": {
            "_model_module": "@jupyter-widgets/base",
            "_model_module_version": "1.2.0",
            "_model_name": "LayoutModel",
            "_view_count": null,
            "_view_module": "@jupyter-widgets/base",
            "_view_module_version": "1.2.0",
            "_view_name": "LayoutView",
            "align_content": null,
            "align_items": null,
            "align_self": null,
            "border": null,
            "bottom": null,
            "display": null,
            "flex": null,
            "flex_flow": null,
            "grid_area": null,
            "grid_auto_columns": null,
            "grid_auto_flow": null,
            "grid_auto_rows": null,
            "grid_column": null,
            "grid_gap": null,
            "grid_row": null,
            "grid_template_areas": null,
            "grid_template_columns": null,
            "grid_template_rows": null,
            "height": null,
            "justify_content": null,
            "justify_items": null,
            "left": null,
            "margin": null,
            "max_height": null,
            "max_width": null,
            "min_height": null,
            "min_width": null,
            "object_fit": null,
            "object_position": null,
            "order": null,
            "overflow": null,
            "overflow_x": null,
            "overflow_y": null,
            "padding": null,
            "right": null,
            "top": null,
            "visibility": null,
            "width": null
          }
        },
        "30da85854511455c9ad1b41af7513984": {
          "model_module": "@jupyter-widgets/controls",
          "model_name": "DescriptionStyleModel",
          "model_module_version": "1.5.0",
          "state": {
            "_model_module": "@jupyter-widgets/controls",
            "_model_module_version": "1.5.0",
            "_model_name": "DescriptionStyleModel",
            "_view_count": null,
            "_view_module": "@jupyter-widgets/base",
            "_view_module_version": "1.2.0",
            "_view_name": "StyleView",
            "description_width": ""
          }
        },
        "5bb39edaddd045569d38bacff23c9488": {
          "model_module": "@jupyter-widgets/controls",
          "model_name": "HBoxModel",
          "model_module_version": "1.5.0",
          "state": {
            "_dom_classes": [],
            "_model_module": "@jupyter-widgets/controls",
            "_model_module_version": "1.5.0",
            "_model_name": "HBoxModel",
            "_view_count": null,
            "_view_module": "@jupyter-widgets/controls",
            "_view_module_version": "1.5.0",
            "_view_name": "HBoxView",
            "box_style": "",
            "children": [
              "IPY_MODEL_2a23a39d781b4359b5ead311e5b6363e",
              "IPY_MODEL_57c3ab09d0b441b0a791d84798384c2b",
              "IPY_MODEL_d70986bea9c54320a6807366445d66c7"
            ],
            "layout": "IPY_MODEL_378870e7736f423ab980ddf6392a4ebc"
          }
        },
        "2a23a39d781b4359b5ead311e5b6363e": {
          "model_module": "@jupyter-widgets/controls",
          "model_name": "HTMLModel",
          "model_module_version": "1.5.0",
          "state": {
            "_dom_classes": [],
            "_model_module": "@jupyter-widgets/controls",
            "_model_module_version": "1.5.0",
            "_model_name": "HTMLModel",
            "_view_count": null,
            "_view_module": "@jupyter-widgets/controls",
            "_view_module_version": "1.5.0",
            "_view_name": "HTMLView",
            "description": "",
            "description_tooltip": null,
            "layout": "IPY_MODEL_2366c43881f942c9b5b97186b6287b60",
            "placeholder": "​",
            "style": "IPY_MODEL_1106c5bb7c5941d890bc0bffc56780d5",
            "value": "Downloading: 100%"
          }
        },
        "57c3ab09d0b441b0a791d84798384c2b": {
          "model_module": "@jupyter-widgets/controls",
          "model_name": "FloatProgressModel",
          "model_module_version": "1.5.0",
          "state": {
            "_dom_classes": [],
            "_model_module": "@jupyter-widgets/controls",
            "_model_module_version": "1.5.0",
            "_model_name": "FloatProgressModel",
            "_view_count": null,
            "_view_module": "@jupyter-widgets/controls",
            "_view_module_version": "1.5.0",
            "_view_name": "ProgressView",
            "bar_style": "success",
            "description": "",
            "description_tooltip": null,
            "layout": "IPY_MODEL_cda57258a8a341739cbe9b7591e5a53d",
            "max": 28,
            "min": 0,
            "orientation": "horizontal",
            "style": "IPY_MODEL_15303968b0f9463cb15aaf1c090af39d",
            "value": 28
          }
        },
        "d70986bea9c54320a6807366445d66c7": {
          "model_module": "@jupyter-widgets/controls",
          "model_name": "HTMLModel",
          "model_module_version": "1.5.0",
          "state": {
            "_dom_classes": [],
            "_model_module": "@jupyter-widgets/controls",
            "_model_module_version": "1.5.0",
            "_model_name": "HTMLModel",
            "_view_count": null,
            "_view_module": "@jupyter-widgets/controls",
            "_view_module_version": "1.5.0",
            "_view_name": "HTMLView",
            "description": "",
            "description_tooltip": null,
            "layout": "IPY_MODEL_0f6ee1d3fada4966bf5bb0ab41a7692a",
            "placeholder": "​",
            "style": "IPY_MODEL_87aee4c4dee84b048272fc42f4e956b9",
            "value": " 28.0/28.0 [00:00&lt;00:00, 1.15kB/s]"
          }
        },
        "378870e7736f423ab980ddf6392a4ebc": {
          "model_module": "@jupyter-widgets/base",
          "model_name": "LayoutModel",
          "model_module_version": "1.2.0",
          "state": {
            "_model_module": "@jupyter-widgets/base",
            "_model_module_version": "1.2.0",
            "_model_name": "LayoutModel",
            "_view_count": null,
            "_view_module": "@jupyter-widgets/base",
            "_view_module_version": "1.2.0",
            "_view_name": "LayoutView",
            "align_content": null,
            "align_items": null,
            "align_self": null,
            "border": null,
            "bottom": null,
            "display": null,
            "flex": null,
            "flex_flow": null,
            "grid_area": null,
            "grid_auto_columns": null,
            "grid_auto_flow": null,
            "grid_auto_rows": null,
            "grid_column": null,
            "grid_gap": null,
            "grid_row": null,
            "grid_template_areas": null,
            "grid_template_columns": null,
            "grid_template_rows": null,
            "height": null,
            "justify_content": null,
            "justify_items": null,
            "left": null,
            "margin": null,
            "max_height": null,
            "max_width": null,
            "min_height": null,
            "min_width": null,
            "object_fit": null,
            "object_position": null,
            "order": null,
            "overflow": null,
            "overflow_x": null,
            "overflow_y": null,
            "padding": null,
            "right": null,
            "top": null,
            "visibility": null,
            "width": null
          }
        },
        "2366c43881f942c9b5b97186b6287b60": {
          "model_module": "@jupyter-widgets/base",
          "model_name": "LayoutModel",
          "model_module_version": "1.2.0",
          "state": {
            "_model_module": "@jupyter-widgets/base",
            "_model_module_version": "1.2.0",
            "_model_name": "LayoutModel",
            "_view_count": null,
            "_view_module": "@jupyter-widgets/base",
            "_view_module_version": "1.2.0",
            "_view_name": "LayoutView",
            "align_content": null,
            "align_items": null,
            "align_self": null,
            "border": null,
            "bottom": null,
            "display": null,
            "flex": null,
            "flex_flow": null,
            "grid_area": null,
            "grid_auto_columns": null,
            "grid_auto_flow": null,
            "grid_auto_rows": null,
            "grid_column": null,
            "grid_gap": null,
            "grid_row": null,
            "grid_template_areas": null,
            "grid_template_columns": null,
            "grid_template_rows": null,
            "height": null,
            "justify_content": null,
            "justify_items": null,
            "left": null,
            "margin": null,
            "max_height": null,
            "max_width": null,
            "min_height": null,
            "min_width": null,
            "object_fit": null,
            "object_position": null,
            "order": null,
            "overflow": null,
            "overflow_x": null,
            "overflow_y": null,
            "padding": null,
            "right": null,
            "top": null,
            "visibility": null,
            "width": null
          }
        },
        "1106c5bb7c5941d890bc0bffc56780d5": {
          "model_module": "@jupyter-widgets/controls",
          "model_name": "DescriptionStyleModel",
          "model_module_version": "1.5.0",
          "state": {
            "_model_module": "@jupyter-widgets/controls",
            "_model_module_version": "1.5.0",
            "_model_name": "DescriptionStyleModel",
            "_view_count": null,
            "_view_module": "@jupyter-widgets/base",
            "_view_module_version": "1.2.0",
            "_view_name": "StyleView",
            "description_width": ""
          }
        },
        "cda57258a8a341739cbe9b7591e5a53d": {
          "model_module": "@jupyter-widgets/base",
          "model_name": "LayoutModel",
          "model_module_version": "1.2.0",
          "state": {
            "_model_module": "@jupyter-widgets/base",
            "_model_module_version": "1.2.0",
            "_model_name": "LayoutModel",
            "_view_count": null,
            "_view_module": "@jupyter-widgets/base",
            "_view_module_version": "1.2.0",
            "_view_name": "LayoutView",
            "align_content": null,
            "align_items": null,
            "align_self": null,
            "border": null,
            "bottom": null,
            "display": null,
            "flex": null,
            "flex_flow": null,
            "grid_area": null,
            "grid_auto_columns": null,
            "grid_auto_flow": null,
            "grid_auto_rows": null,
            "grid_column": null,
            "grid_gap": null,
            "grid_row": null,
            "grid_template_areas": null,
            "grid_template_columns": null,
            "grid_template_rows": null,
            "height": null,
            "justify_content": null,
            "justify_items": null,
            "left": null,
            "margin": null,
            "max_height": null,
            "max_width": null,
            "min_height": null,
            "min_width": null,
            "object_fit": null,
            "object_position": null,
            "order": null,
            "overflow": null,
            "overflow_x": null,
            "overflow_y": null,
            "padding": null,
            "right": null,
            "top": null,
            "visibility": null,
            "width": null
          }
        },
        "15303968b0f9463cb15aaf1c090af39d": {
          "model_module": "@jupyter-widgets/controls",
          "model_name": "ProgressStyleModel",
          "model_module_version": "1.5.0",
          "state": {
            "_model_module": "@jupyter-widgets/controls",
            "_model_module_version": "1.5.0",
            "_model_name": "ProgressStyleModel",
            "_view_count": null,
            "_view_module": "@jupyter-widgets/base",
            "_view_module_version": "1.2.0",
            "_view_name": "StyleView",
            "bar_color": null,
            "description_width": ""
          }
        },
        "0f6ee1d3fada4966bf5bb0ab41a7692a": {
          "model_module": "@jupyter-widgets/base",
          "model_name": "LayoutModel",
          "model_module_version": "1.2.0",
          "state": {
            "_model_module": "@jupyter-widgets/base",
            "_model_module_version": "1.2.0",
            "_model_name": "LayoutModel",
            "_view_count": null,
            "_view_module": "@jupyter-widgets/base",
            "_view_module_version": "1.2.0",
            "_view_name": "LayoutView",
            "align_content": null,
            "align_items": null,
            "align_self": null,
            "border": null,
            "bottom": null,
            "display": null,
            "flex": null,
            "flex_flow": null,
            "grid_area": null,
            "grid_auto_columns": null,
            "grid_auto_flow": null,
            "grid_auto_rows": null,
            "grid_column": null,
            "grid_gap": null,
            "grid_row": null,
            "grid_template_areas": null,
            "grid_template_columns": null,
            "grid_template_rows": null,
            "height": null,
            "justify_content": null,
            "justify_items": null,
            "left": null,
            "margin": null,
            "max_height": null,
            "max_width": null,
            "min_height": null,
            "min_width": null,
            "object_fit": null,
            "object_position": null,
            "order": null,
            "overflow": null,
            "overflow_x": null,
            "overflow_y": null,
            "padding": null,
            "right": null,
            "top": null,
            "visibility": null,
            "width": null
          }
        },
        "87aee4c4dee84b048272fc42f4e956b9": {
          "model_module": "@jupyter-widgets/controls",
          "model_name": "DescriptionStyleModel",
          "model_module_version": "1.5.0",
          "state": {
            "_model_module": "@jupyter-widgets/controls",
            "_model_module_version": "1.5.0",
            "_model_name": "DescriptionStyleModel",
            "_view_count": null,
            "_view_module": "@jupyter-widgets/base",
            "_view_module_version": "1.2.0",
            "_view_name": "StyleView",
            "description_width": ""
          }
        },
        "4bad1cb7125c4b9f959a6721762d6d8a": {
          "model_module": "@jupyter-widgets/controls",
          "model_name": "HBoxModel",
          "model_module_version": "1.5.0",
          "state": {
            "_dom_classes": [],
            "_model_module": "@jupyter-widgets/controls",
            "_model_module_version": "1.5.0",
            "_model_name": "HBoxModel",
            "_view_count": null,
            "_view_module": "@jupyter-widgets/controls",
            "_view_module_version": "1.5.0",
            "_view_name": "HBoxView",
            "box_style": "",
            "children": [
              "IPY_MODEL_f60ef7c1510d407d8effa400b88dd9cd",
              "IPY_MODEL_d32e3e2dd0f6461da8952c6a5e253170",
              "IPY_MODEL_3bb7c1a9587f423eb6ec03289506a709"
            ],
            "layout": "IPY_MODEL_769d1881434c4033832229f60635f6ab"
          }
        },
        "f60ef7c1510d407d8effa400b88dd9cd": {
          "model_module": "@jupyter-widgets/controls",
          "model_name": "HTMLModel",
          "model_module_version": "1.5.0",
          "state": {
            "_dom_classes": [],
            "_model_module": "@jupyter-widgets/controls",
            "_model_module_version": "1.5.0",
            "_model_name": "HTMLModel",
            "_view_count": null,
            "_view_module": "@jupyter-widgets/controls",
            "_view_module_version": "1.5.0",
            "_view_name": "HTMLView",
            "description": "",
            "description_tooltip": null,
            "layout": "IPY_MODEL_0d55a3291c014085a8001f057855b512",
            "placeholder": "​",
            "style": "IPY_MODEL_f9ef3e9aac914eb695dbc41bd1630cd2",
            "value": "Downloading: 100%"
          }
        },
        "d32e3e2dd0f6461da8952c6a5e253170": {
          "model_module": "@jupyter-widgets/controls",
          "model_name": "FloatProgressModel",
          "model_module_version": "1.5.0",
          "state": {
            "_dom_classes": [],
            "_model_module": "@jupyter-widgets/controls",
            "_model_module_version": "1.5.0",
            "_model_name": "FloatProgressModel",
            "_view_count": null,
            "_view_module": "@jupyter-widgets/controls",
            "_view_module_version": "1.5.0",
            "_view_name": "ProgressView",
            "bar_style": "success",
            "description": "",
            "description_tooltip": null,
            "layout": "IPY_MODEL_5bc14aac187343d7a4559fec7c2b214a",
            "max": 570,
            "min": 0,
            "orientation": "horizontal",
            "style": "IPY_MODEL_99e4a15030794ace88893a52a10d6111",
            "value": 570
          }
        },
        "3bb7c1a9587f423eb6ec03289506a709": {
          "model_module": "@jupyter-widgets/controls",
          "model_name": "HTMLModel",
          "model_module_version": "1.5.0",
          "state": {
            "_dom_classes": [],
            "_model_module": "@jupyter-widgets/controls",
            "_model_module_version": "1.5.0",
            "_model_name": "HTMLModel",
            "_view_count": null,
            "_view_module": "@jupyter-widgets/controls",
            "_view_module_version": "1.5.0",
            "_view_name": "HTMLView",
            "description": "",
            "description_tooltip": null,
            "layout": "IPY_MODEL_657a50f94f014ed1a67c55fd362d85cf",
            "placeholder": "​",
            "style": "IPY_MODEL_8aa84a6484c04f63b9bd0fe0a274d11b",
            "value": " 570/570 [00:00&lt;00:00, 23.7kB/s]"
          }
        },
        "769d1881434c4033832229f60635f6ab": {
          "model_module": "@jupyter-widgets/base",
          "model_name": "LayoutModel",
          "model_module_version": "1.2.0",
          "state": {
            "_model_module": "@jupyter-widgets/base",
            "_model_module_version": "1.2.0",
            "_model_name": "LayoutModel",
            "_view_count": null,
            "_view_module": "@jupyter-widgets/base",
            "_view_module_version": "1.2.0",
            "_view_name": "LayoutView",
            "align_content": null,
            "align_items": null,
            "align_self": null,
            "border": null,
            "bottom": null,
            "display": null,
            "flex": null,
            "flex_flow": null,
            "grid_area": null,
            "grid_auto_columns": null,
            "grid_auto_flow": null,
            "grid_auto_rows": null,
            "grid_column": null,
            "grid_gap": null,
            "grid_row": null,
            "grid_template_areas": null,
            "grid_template_columns": null,
            "grid_template_rows": null,
            "height": null,
            "justify_content": null,
            "justify_items": null,
            "left": null,
            "margin": null,
            "max_height": null,
            "max_width": null,
            "min_height": null,
            "min_width": null,
            "object_fit": null,
            "object_position": null,
            "order": null,
            "overflow": null,
            "overflow_x": null,
            "overflow_y": null,
            "padding": null,
            "right": null,
            "top": null,
            "visibility": null,
            "width": null
          }
        },
        "0d55a3291c014085a8001f057855b512": {
          "model_module": "@jupyter-widgets/base",
          "model_name": "LayoutModel",
          "model_module_version": "1.2.0",
          "state": {
            "_model_module": "@jupyter-widgets/base",
            "_model_module_version": "1.2.0",
            "_model_name": "LayoutModel",
            "_view_count": null,
            "_view_module": "@jupyter-widgets/base",
            "_view_module_version": "1.2.0",
            "_view_name": "LayoutView",
            "align_content": null,
            "align_items": null,
            "align_self": null,
            "border": null,
            "bottom": null,
            "display": null,
            "flex": null,
            "flex_flow": null,
            "grid_area": null,
            "grid_auto_columns": null,
            "grid_auto_flow": null,
            "grid_auto_rows": null,
            "grid_column": null,
            "grid_gap": null,
            "grid_row": null,
            "grid_template_areas": null,
            "grid_template_columns": null,
            "grid_template_rows": null,
            "height": null,
            "justify_content": null,
            "justify_items": null,
            "left": null,
            "margin": null,
            "max_height": null,
            "max_width": null,
            "min_height": null,
            "min_width": null,
            "object_fit": null,
            "object_position": null,
            "order": null,
            "overflow": null,
            "overflow_x": null,
            "overflow_y": null,
            "padding": null,
            "right": null,
            "top": null,
            "visibility": null,
            "width": null
          }
        },
        "f9ef3e9aac914eb695dbc41bd1630cd2": {
          "model_module": "@jupyter-widgets/controls",
          "model_name": "DescriptionStyleModel",
          "model_module_version": "1.5.0",
          "state": {
            "_model_module": "@jupyter-widgets/controls",
            "_model_module_version": "1.5.0",
            "_model_name": "DescriptionStyleModel",
            "_view_count": null,
            "_view_module": "@jupyter-widgets/base",
            "_view_module_version": "1.2.0",
            "_view_name": "StyleView",
            "description_width": ""
          }
        },
        "5bc14aac187343d7a4559fec7c2b214a": {
          "model_module": "@jupyter-widgets/base",
          "model_name": "LayoutModel",
          "model_module_version": "1.2.0",
          "state": {
            "_model_module": "@jupyter-widgets/base",
            "_model_module_version": "1.2.0",
            "_model_name": "LayoutModel",
            "_view_count": null,
            "_view_module": "@jupyter-widgets/base",
            "_view_module_version": "1.2.0",
            "_view_name": "LayoutView",
            "align_content": null,
            "align_items": null,
            "align_self": null,
            "border": null,
            "bottom": null,
            "display": null,
            "flex": null,
            "flex_flow": null,
            "grid_area": null,
            "grid_auto_columns": null,
            "grid_auto_flow": null,
            "grid_auto_rows": null,
            "grid_column": null,
            "grid_gap": null,
            "grid_row": null,
            "grid_template_areas": null,
            "grid_template_columns": null,
            "grid_template_rows": null,
            "height": null,
            "justify_content": null,
            "justify_items": null,
            "left": null,
            "margin": null,
            "max_height": null,
            "max_width": null,
            "min_height": null,
            "min_width": null,
            "object_fit": null,
            "object_position": null,
            "order": null,
            "overflow": null,
            "overflow_x": null,
            "overflow_y": null,
            "padding": null,
            "right": null,
            "top": null,
            "visibility": null,
            "width": null
          }
        },
        "99e4a15030794ace88893a52a10d6111": {
          "model_module": "@jupyter-widgets/controls",
          "model_name": "ProgressStyleModel",
          "model_module_version": "1.5.0",
          "state": {
            "_model_module": "@jupyter-widgets/controls",
            "_model_module_version": "1.5.0",
            "_model_name": "ProgressStyleModel",
            "_view_count": null,
            "_view_module": "@jupyter-widgets/base",
            "_view_module_version": "1.2.0",
            "_view_name": "StyleView",
            "bar_color": null,
            "description_width": ""
          }
        },
        "657a50f94f014ed1a67c55fd362d85cf": {
          "model_module": "@jupyter-widgets/base",
          "model_name": "LayoutModel",
          "model_module_version": "1.2.0",
          "state": {
            "_model_module": "@jupyter-widgets/base",
            "_model_module_version": "1.2.0",
            "_model_name": "LayoutModel",
            "_view_count": null,
            "_view_module": "@jupyter-widgets/base",
            "_view_module_version": "1.2.0",
            "_view_name": "LayoutView",
            "align_content": null,
            "align_items": null,
            "align_self": null,
            "border": null,
            "bottom": null,
            "display": null,
            "flex": null,
            "flex_flow": null,
            "grid_area": null,
            "grid_auto_columns": null,
            "grid_auto_flow": null,
            "grid_auto_rows": null,
            "grid_column": null,
            "grid_gap": null,
            "grid_row": null,
            "grid_template_areas": null,
            "grid_template_columns": null,
            "grid_template_rows": null,
            "height": null,
            "justify_content": null,
            "justify_items": null,
            "left": null,
            "margin": null,
            "max_height": null,
            "max_width": null,
            "min_height": null,
            "min_width": null,
            "object_fit": null,
            "object_position": null,
            "order": null,
            "overflow": null,
            "overflow_x": null,
            "overflow_y": null,
            "padding": null,
            "right": null,
            "top": null,
            "visibility": null,
            "width": null
          }
        },
        "8aa84a6484c04f63b9bd0fe0a274d11b": {
          "model_module": "@jupyter-widgets/controls",
          "model_name": "DescriptionStyleModel",
          "model_module_version": "1.5.0",
          "state": {
            "_model_module": "@jupyter-widgets/controls",
            "_model_module_version": "1.5.0",
            "_model_name": "DescriptionStyleModel",
            "_view_count": null,
            "_view_module": "@jupyter-widgets/base",
            "_view_module_version": "1.2.0",
            "_view_name": "StyleView",
            "description_width": ""
          }
        },
        "ffe85e6dc6db45d2a8e01dfd50785f02": {
          "model_module": "@jupyter-widgets/controls",
          "model_name": "HBoxModel",
          "model_module_version": "1.5.0",
          "state": {
            "_dom_classes": [],
            "_model_module": "@jupyter-widgets/controls",
            "_model_module_version": "1.5.0",
            "_model_name": "HBoxModel",
            "_view_count": null,
            "_view_module": "@jupyter-widgets/controls",
            "_view_module_version": "1.5.0",
            "_view_name": "HBoxView",
            "box_style": "",
            "children": [
              "IPY_MODEL_ea7e4c3fa8274cb48f9cb32d8fdfa95e",
              "IPY_MODEL_b002b771dcaa4e05a0b490be9726acca",
              "IPY_MODEL_e4f936d345ef4dd6925f361549db0430"
            ],
            "layout": "IPY_MODEL_a73c6cce49734f7d9db761a2e8d7e23b"
          }
        },
        "ea7e4c3fa8274cb48f9cb32d8fdfa95e": {
          "model_module": "@jupyter-widgets/controls",
          "model_name": "HTMLModel",
          "model_module_version": "1.5.0",
          "state": {
            "_dom_classes": [],
            "_model_module": "@jupyter-widgets/controls",
            "_model_module_version": "1.5.0",
            "_model_name": "HTMLModel",
            "_view_count": null,
            "_view_module": "@jupyter-widgets/controls",
            "_view_module_version": "1.5.0",
            "_view_name": "HTMLView",
            "description": "",
            "description_tooltip": null,
            "layout": "IPY_MODEL_295e6229dead4f74a42a9ddbe4832490",
            "placeholder": "​",
            "style": "IPY_MODEL_6f6fba6586b648a381a9d1ed19481b5b",
            "value": "Downloading: 100%"
          }
        },
        "b002b771dcaa4e05a0b490be9726acca": {
          "model_module": "@jupyter-widgets/controls",
          "model_name": "FloatProgressModel",
          "model_module_version": "1.5.0",
          "state": {
            "_dom_classes": [],
            "_model_module": "@jupyter-widgets/controls",
            "_model_module_version": "1.5.0",
            "_model_name": "FloatProgressModel",
            "_view_count": null,
            "_view_module": "@jupyter-widgets/controls",
            "_view_module_version": "1.5.0",
            "_view_name": "ProgressView",
            "bar_style": "success",
            "description": "",
            "description_tooltip": null,
            "layout": "IPY_MODEL_a782044a3e1c4e96adb7d617cc3a8f18",
            "max": 440473133,
            "min": 0,
            "orientation": "horizontal",
            "style": "IPY_MODEL_4b297fd9c19c4b67af3acdb5e6fc0ae5",
            "value": 440473133
          }
        },
        "e4f936d345ef4dd6925f361549db0430": {
          "model_module": "@jupyter-widgets/controls",
          "model_name": "HTMLModel",
          "model_module_version": "1.5.0",
          "state": {
            "_dom_classes": [],
            "_model_module": "@jupyter-widgets/controls",
            "_model_module_version": "1.5.0",
            "_model_name": "HTMLModel",
            "_view_count": null,
            "_view_module": "@jupyter-widgets/controls",
            "_view_module_version": "1.5.0",
            "_view_name": "HTMLView",
            "description": "",
            "description_tooltip": null,
            "layout": "IPY_MODEL_853a472b334145c2a8a99cb011f320be",
            "placeholder": "​",
            "style": "IPY_MODEL_15368f89f62d4be4a543bb7f7ad77144",
            "value": " 420M/420M [00:08&lt;00:00, 49.8MB/s]"
          }
        },
        "a73c6cce49734f7d9db761a2e8d7e23b": {
          "model_module": "@jupyter-widgets/base",
          "model_name": "LayoutModel",
          "model_module_version": "1.2.0",
          "state": {
            "_model_module": "@jupyter-widgets/base",
            "_model_module_version": "1.2.0",
            "_model_name": "LayoutModel",
            "_view_count": null,
            "_view_module": "@jupyter-widgets/base",
            "_view_module_version": "1.2.0",
            "_view_name": "LayoutView",
            "align_content": null,
            "align_items": null,
            "align_self": null,
            "border": null,
            "bottom": null,
            "display": null,
            "flex": null,
            "flex_flow": null,
            "grid_area": null,
            "grid_auto_columns": null,
            "grid_auto_flow": null,
            "grid_auto_rows": null,
            "grid_column": null,
            "grid_gap": null,
            "grid_row": null,
            "grid_template_areas": null,
            "grid_template_columns": null,
            "grid_template_rows": null,
            "height": null,
            "justify_content": null,
            "justify_items": null,
            "left": null,
            "margin": null,
            "max_height": null,
            "max_width": null,
            "min_height": null,
            "min_width": null,
            "object_fit": null,
            "object_position": null,
            "order": null,
            "overflow": null,
            "overflow_x": null,
            "overflow_y": null,
            "padding": null,
            "right": null,
            "top": null,
            "visibility": null,
            "width": null
          }
        },
        "295e6229dead4f74a42a9ddbe4832490": {
          "model_module": "@jupyter-widgets/base",
          "model_name": "LayoutModel",
          "model_module_version": "1.2.0",
          "state": {
            "_model_module": "@jupyter-widgets/base",
            "_model_module_version": "1.2.0",
            "_model_name": "LayoutModel",
            "_view_count": null,
            "_view_module": "@jupyter-widgets/base",
            "_view_module_version": "1.2.0",
            "_view_name": "LayoutView",
            "align_content": null,
            "align_items": null,
            "align_self": null,
            "border": null,
            "bottom": null,
            "display": null,
            "flex": null,
            "flex_flow": null,
            "grid_area": null,
            "grid_auto_columns": null,
            "grid_auto_flow": null,
            "grid_auto_rows": null,
            "grid_column": null,
            "grid_gap": null,
            "grid_row": null,
            "grid_template_areas": null,
            "grid_template_columns": null,
            "grid_template_rows": null,
            "height": null,
            "justify_content": null,
            "justify_items": null,
            "left": null,
            "margin": null,
            "max_height": null,
            "max_width": null,
            "min_height": null,
            "min_width": null,
            "object_fit": null,
            "object_position": null,
            "order": null,
            "overflow": null,
            "overflow_x": null,
            "overflow_y": null,
            "padding": null,
            "right": null,
            "top": null,
            "visibility": null,
            "width": null
          }
        },
        "6f6fba6586b648a381a9d1ed19481b5b": {
          "model_module": "@jupyter-widgets/controls",
          "model_name": "DescriptionStyleModel",
          "model_module_version": "1.5.0",
          "state": {
            "_model_module": "@jupyter-widgets/controls",
            "_model_module_version": "1.5.0",
            "_model_name": "DescriptionStyleModel",
            "_view_count": null,
            "_view_module": "@jupyter-widgets/base",
            "_view_module_version": "1.2.0",
            "_view_name": "StyleView",
            "description_width": ""
          }
        },
        "a782044a3e1c4e96adb7d617cc3a8f18": {
          "model_module": "@jupyter-widgets/base",
          "model_name": "LayoutModel",
          "model_module_version": "1.2.0",
          "state": {
            "_model_module": "@jupyter-widgets/base",
            "_model_module_version": "1.2.0",
            "_model_name": "LayoutModel",
            "_view_count": null,
            "_view_module": "@jupyter-widgets/base",
            "_view_module_version": "1.2.0",
            "_view_name": "LayoutView",
            "align_content": null,
            "align_items": null,
            "align_self": null,
            "border": null,
            "bottom": null,
            "display": null,
            "flex": null,
            "flex_flow": null,
            "grid_area": null,
            "grid_auto_columns": null,
            "grid_auto_flow": null,
            "grid_auto_rows": null,
            "grid_column": null,
            "grid_gap": null,
            "grid_row": null,
            "grid_template_areas": null,
            "grid_template_columns": null,
            "grid_template_rows": null,
            "height": null,
            "justify_content": null,
            "justify_items": null,
            "left": null,
            "margin": null,
            "max_height": null,
            "max_width": null,
            "min_height": null,
            "min_width": null,
            "object_fit": null,
            "object_position": null,
            "order": null,
            "overflow": null,
            "overflow_x": null,
            "overflow_y": null,
            "padding": null,
            "right": null,
            "top": null,
            "visibility": null,
            "width": null
          }
        },
        "4b297fd9c19c4b67af3acdb5e6fc0ae5": {
          "model_module": "@jupyter-widgets/controls",
          "model_name": "ProgressStyleModel",
          "model_module_version": "1.5.0",
          "state": {
            "_model_module": "@jupyter-widgets/controls",
            "_model_module_version": "1.5.0",
            "_model_name": "ProgressStyleModel",
            "_view_count": null,
            "_view_module": "@jupyter-widgets/base",
            "_view_module_version": "1.2.0",
            "_view_name": "StyleView",
            "bar_color": null,
            "description_width": ""
          }
        },
        "853a472b334145c2a8a99cb011f320be": {
          "model_module": "@jupyter-widgets/base",
          "model_name": "LayoutModel",
          "model_module_version": "1.2.0",
          "state": {
            "_model_module": "@jupyter-widgets/base",
            "_model_module_version": "1.2.0",
            "_model_name": "LayoutModel",
            "_view_count": null,
            "_view_module": "@jupyter-widgets/base",
            "_view_module_version": "1.2.0",
            "_view_name": "LayoutView",
            "align_content": null,
            "align_items": null,
            "align_self": null,
            "border": null,
            "bottom": null,
            "display": null,
            "flex": null,
            "flex_flow": null,
            "grid_area": null,
            "grid_auto_columns": null,
            "grid_auto_flow": null,
            "grid_auto_rows": null,
            "grid_column": null,
            "grid_gap": null,
            "grid_row": null,
            "grid_template_areas": null,
            "grid_template_columns": null,
            "grid_template_rows": null,
            "height": null,
            "justify_content": null,
            "justify_items": null,
            "left": null,
            "margin": null,
            "max_height": null,
            "max_width": null,
            "min_height": null,
            "min_width": null,
            "object_fit": null,
            "object_position": null,
            "order": null,
            "overflow": null,
            "overflow_x": null,
            "overflow_y": null,
            "padding": null,
            "right": null,
            "top": null,
            "visibility": null,
            "width": null
          }
        },
        "15368f89f62d4be4a543bb7f7ad77144": {
          "model_module": "@jupyter-widgets/controls",
          "model_name": "DescriptionStyleModel",
          "model_module_version": "1.5.0",
          "state": {
            "_model_module": "@jupyter-widgets/controls",
            "_model_module_version": "1.5.0",
            "_model_name": "DescriptionStyleModel",
            "_view_count": null,
            "_view_module": "@jupyter-widgets/base",
            "_view_module_version": "1.2.0",
            "_view_name": "StyleView",
            "description_width": ""
          }
        },
        "1946327e89df49f8af2570763264bbbe": {
          "model_module": "@jupyter-widgets/controls",
          "model_name": "HBoxModel",
          "model_module_version": "1.5.0",
          "state": {
            "_dom_classes": [],
            "_model_module": "@jupyter-widgets/controls",
            "_model_module_version": "1.5.0",
            "_model_name": "HBoxModel",
            "_view_count": null,
            "_view_module": "@jupyter-widgets/controls",
            "_view_module_version": "1.5.0",
            "_view_name": "HBoxView",
            "box_style": "",
            "children": [
              "IPY_MODEL_10b73ea8903346b5b0117ff3c9d9606c",
              "IPY_MODEL_4aa3039e408b403f826b981ce1e9a72f",
              "IPY_MODEL_130c30589631468b9332608fcbe9391a"
            ],
            "layout": "IPY_MODEL_413bb6d78eb14b9fb0a0c6f3f30b608d"
          }
        },
        "10b73ea8903346b5b0117ff3c9d9606c": {
          "model_module": "@jupyter-widgets/controls",
          "model_name": "HTMLModel",
          "model_module_version": "1.5.0",
          "state": {
            "_dom_classes": [],
            "_model_module": "@jupyter-widgets/controls",
            "_model_module_version": "1.5.0",
            "_model_name": "HTMLModel",
            "_view_count": null,
            "_view_module": "@jupyter-widgets/controls",
            "_view_module_version": "1.5.0",
            "_view_name": "HTMLView",
            "description": "",
            "description_tooltip": null,
            "layout": "IPY_MODEL_58af8c0a8d1c4d0e96816b8fc3e0d938",
            "placeholder": "​",
            "style": "IPY_MODEL_2702f36efbd34ad09667c6b65e0aa567",
            "value": "100%"
          }
        },
        "4aa3039e408b403f826b981ce1e9a72f": {
          "model_module": "@jupyter-widgets/controls",
          "model_name": "FloatProgressModel",
          "model_module_version": "1.5.0",
          "state": {
            "_dom_classes": [],
            "_model_module": "@jupyter-widgets/controls",
            "_model_module_version": "1.5.0",
            "_model_name": "FloatProgressModel",
            "_view_count": null,
            "_view_module": "@jupyter-widgets/controls",
            "_view_module_version": "1.5.0",
            "_view_name": "ProgressView",
            "bar_style": "success",
            "description": "",
            "description_tooltip": null,
            "layout": "IPY_MODEL_0ed5ba6b56984199b31133f4cb6791f1",
            "max": 5,
            "min": 0,
            "orientation": "horizontal",
            "style": "IPY_MODEL_f44de70817f64736baf128859f97f208",
            "value": 5
          }
        },
        "130c30589631468b9332608fcbe9391a": {
          "model_module": "@jupyter-widgets/controls",
          "model_name": "HTMLModel",
          "model_module_version": "1.5.0",
          "state": {
            "_dom_classes": [],
            "_model_module": "@jupyter-widgets/controls",
            "_model_module_version": "1.5.0",
            "_model_name": "HTMLModel",
            "_view_count": null,
            "_view_module": "@jupyter-widgets/controls",
            "_view_module_version": "1.5.0",
            "_view_name": "HTMLView",
            "description": "",
            "description_tooltip": null,
            "layout": "IPY_MODEL_870b781470ec4d6c85a10c71af1aa950",
            "placeholder": "​",
            "style": "IPY_MODEL_e5032eeb3fb841c996d76546f64104a9",
            "value": " 5/5 [24:05&lt;00:00, 289.04s/it]"
          }
        },
        "413bb6d78eb14b9fb0a0c6f3f30b608d": {
          "model_module": "@jupyter-widgets/base",
          "model_name": "LayoutModel",
          "model_module_version": "1.2.0",
          "state": {
            "_model_module": "@jupyter-widgets/base",
            "_model_module_version": "1.2.0",
            "_model_name": "LayoutModel",
            "_view_count": null,
            "_view_module": "@jupyter-widgets/base",
            "_view_module_version": "1.2.0",
            "_view_name": "LayoutView",
            "align_content": null,
            "align_items": null,
            "align_self": null,
            "border": null,
            "bottom": null,
            "display": null,
            "flex": null,
            "flex_flow": null,
            "grid_area": null,
            "grid_auto_columns": null,
            "grid_auto_flow": null,
            "grid_auto_rows": null,
            "grid_column": null,
            "grid_gap": null,
            "grid_row": null,
            "grid_template_areas": null,
            "grid_template_columns": null,
            "grid_template_rows": null,
            "height": null,
            "justify_content": null,
            "justify_items": null,
            "left": null,
            "margin": null,
            "max_height": null,
            "max_width": null,
            "min_height": null,
            "min_width": null,
            "object_fit": null,
            "object_position": null,
            "order": null,
            "overflow": null,
            "overflow_x": null,
            "overflow_y": null,
            "padding": null,
            "right": null,
            "top": null,
            "visibility": null,
            "width": null
          }
        },
        "58af8c0a8d1c4d0e96816b8fc3e0d938": {
          "model_module": "@jupyter-widgets/base",
          "model_name": "LayoutModel",
          "model_module_version": "1.2.0",
          "state": {
            "_model_module": "@jupyter-widgets/base",
            "_model_module_version": "1.2.0",
            "_model_name": "LayoutModel",
            "_view_count": null,
            "_view_module": "@jupyter-widgets/base",
            "_view_module_version": "1.2.0",
            "_view_name": "LayoutView",
            "align_content": null,
            "align_items": null,
            "align_self": null,
            "border": null,
            "bottom": null,
            "display": null,
            "flex": null,
            "flex_flow": null,
            "grid_area": null,
            "grid_auto_columns": null,
            "grid_auto_flow": null,
            "grid_auto_rows": null,
            "grid_column": null,
            "grid_gap": null,
            "grid_row": null,
            "grid_template_areas": null,
            "grid_template_columns": null,
            "grid_template_rows": null,
            "height": null,
            "justify_content": null,
            "justify_items": null,
            "left": null,
            "margin": null,
            "max_height": null,
            "max_width": null,
            "min_height": null,
            "min_width": null,
            "object_fit": null,
            "object_position": null,
            "order": null,
            "overflow": null,
            "overflow_x": null,
            "overflow_y": null,
            "padding": null,
            "right": null,
            "top": null,
            "visibility": null,
            "width": null
          }
        },
        "2702f36efbd34ad09667c6b65e0aa567": {
          "model_module": "@jupyter-widgets/controls",
          "model_name": "DescriptionStyleModel",
          "model_module_version": "1.5.0",
          "state": {
            "_model_module": "@jupyter-widgets/controls",
            "_model_module_version": "1.5.0",
            "_model_name": "DescriptionStyleModel",
            "_view_count": null,
            "_view_module": "@jupyter-widgets/base",
            "_view_module_version": "1.2.0",
            "_view_name": "StyleView",
            "description_width": ""
          }
        },
        "0ed5ba6b56984199b31133f4cb6791f1": {
          "model_module": "@jupyter-widgets/base",
          "model_name": "LayoutModel",
          "model_module_version": "1.2.0",
          "state": {
            "_model_module": "@jupyter-widgets/base",
            "_model_module_version": "1.2.0",
            "_model_name": "LayoutModel",
            "_view_count": null,
            "_view_module": "@jupyter-widgets/base",
            "_view_module_version": "1.2.0",
            "_view_name": "LayoutView",
            "align_content": null,
            "align_items": null,
            "align_self": null,
            "border": null,
            "bottom": null,
            "display": null,
            "flex": null,
            "flex_flow": null,
            "grid_area": null,
            "grid_auto_columns": null,
            "grid_auto_flow": null,
            "grid_auto_rows": null,
            "grid_column": null,
            "grid_gap": null,
            "grid_row": null,
            "grid_template_areas": null,
            "grid_template_columns": null,
            "grid_template_rows": null,
            "height": null,
            "justify_content": null,
            "justify_items": null,
            "left": null,
            "margin": null,
            "max_height": null,
            "max_width": null,
            "min_height": null,
            "min_width": null,
            "object_fit": null,
            "object_position": null,
            "order": null,
            "overflow": null,
            "overflow_x": null,
            "overflow_y": null,
            "padding": null,
            "right": null,
            "top": null,
            "visibility": null,
            "width": null
          }
        },
        "f44de70817f64736baf128859f97f208": {
          "model_module": "@jupyter-widgets/controls",
          "model_name": "ProgressStyleModel",
          "model_module_version": "1.5.0",
          "state": {
            "_model_module": "@jupyter-widgets/controls",
            "_model_module_version": "1.5.0",
            "_model_name": "ProgressStyleModel",
            "_view_count": null,
            "_view_module": "@jupyter-widgets/base",
            "_view_module_version": "1.2.0",
            "_view_name": "StyleView",
            "bar_color": null,
            "description_width": ""
          }
        },
        "870b781470ec4d6c85a10c71af1aa950": {
          "model_module": "@jupyter-widgets/base",
          "model_name": "LayoutModel",
          "model_module_version": "1.2.0",
          "state": {
            "_model_module": "@jupyter-widgets/base",
            "_model_module_version": "1.2.0",
            "_model_name": "LayoutModel",
            "_view_count": null,
            "_view_module": "@jupyter-widgets/base",
            "_view_module_version": "1.2.0",
            "_view_name": "LayoutView",
            "align_content": null,
            "align_items": null,
            "align_self": null,
            "border": null,
            "bottom": null,
            "display": null,
            "flex": null,
            "flex_flow": null,
            "grid_area": null,
            "grid_auto_columns": null,
            "grid_auto_flow": null,
            "grid_auto_rows": null,
            "grid_column": null,
            "grid_gap": null,
            "grid_row": null,
            "grid_template_areas": null,
            "grid_template_columns": null,
            "grid_template_rows": null,
            "height": null,
            "justify_content": null,
            "justify_items": null,
            "left": null,
            "margin": null,
            "max_height": null,
            "max_width": null,
            "min_height": null,
            "min_width": null,
            "object_fit": null,
            "object_position": null,
            "order": null,
            "overflow": null,
            "overflow_x": null,
            "overflow_y": null,
            "padding": null,
            "right": null,
            "top": null,
            "visibility": null,
            "width": null
          }
        },
        "e5032eeb3fb841c996d76546f64104a9": {
          "model_module": "@jupyter-widgets/controls",
          "model_name": "DescriptionStyleModel",
          "model_module_version": "1.5.0",
          "state": {
            "_model_module": "@jupyter-widgets/controls",
            "_model_module_version": "1.5.0",
            "_model_name": "DescriptionStyleModel",
            "_view_count": null,
            "_view_module": "@jupyter-widgets/base",
            "_view_module_version": "1.2.0",
            "_view_name": "StyleView",
            "description_width": ""
          }
        },
        "7b2b83957ef9450a9328132aa71df593": {
          "model_module": "@jupyter-widgets/controls",
          "model_name": "HBoxModel",
          "model_module_version": "1.5.0",
          "state": {
            "_dom_classes": [],
            "_model_module": "@jupyter-widgets/controls",
            "_model_module_version": "1.5.0",
            "_model_name": "HBoxModel",
            "_view_count": null,
            "_view_module": "@jupyter-widgets/controls",
            "_view_module_version": "1.5.0",
            "_view_name": "HBoxView",
            "box_style": "",
            "children": [
              "IPY_MODEL_1938377a3a1642f58397dd4bec95f924",
              "IPY_MODEL_9022215283a44d8fbfc57219ed57914b",
              "IPY_MODEL_fb2bd4edcf68421f8f9dba90744446d8"
            ],
            "layout": "IPY_MODEL_4098df4c17c349fa90d1c68353a9b887"
          }
        },
        "1938377a3a1642f58397dd4bec95f924": {
          "model_module": "@jupyter-widgets/controls",
          "model_name": "HTMLModel",
          "model_module_version": "1.5.0",
          "state": {
            "_dom_classes": [],
            "_model_module": "@jupyter-widgets/controls",
            "_model_module_version": "1.5.0",
            "_model_name": "HTMLModel",
            "_view_count": null,
            "_view_module": "@jupyter-widgets/controls",
            "_view_module_version": "1.5.0",
            "_view_name": "HTMLView",
            "description": "",
            "description_tooltip": null,
            "layout": "IPY_MODEL_434f55e23cb24d7c8e4fceb60c88233d",
            "placeholder": "​",
            "style": "IPY_MODEL_14ed054b33b64434a5e2fecde898b6f6",
            "value": "Epoch 1: 100%"
          }
        },
        "9022215283a44d8fbfc57219ed57914b": {
          "model_module": "@jupyter-widgets/controls",
          "model_name": "FloatProgressModel",
          "model_module_version": "1.5.0",
          "state": {
            "_dom_classes": [],
            "_model_module": "@jupyter-widgets/controls",
            "_model_module_version": "1.5.0",
            "_model_name": "FloatProgressModel",
            "_view_count": null,
            "_view_module": "@jupyter-widgets/controls",
            "_view_module_version": "1.5.0",
            "_view_name": "ProgressView",
            "bar_style": "",
            "description": "",
            "description_tooltip": null,
            "layout": "IPY_MODEL_251bb56eb3914b3582f6cd4bc6612cb4",
            "max": 2271,
            "min": 0,
            "orientation": "horizontal",
            "style": "IPY_MODEL_096d6e8bf1974a7f9eef9eae29670bef",
            "value": 2271
          }
        },
        "fb2bd4edcf68421f8f9dba90744446d8": {
          "model_module": "@jupyter-widgets/controls",
          "model_name": "HTMLModel",
          "model_module_version": "1.5.0",
          "state": {
            "_dom_classes": [],
            "_model_module": "@jupyter-widgets/controls",
            "_model_module_version": "1.5.0",
            "_model_name": "HTMLModel",
            "_view_count": null,
            "_view_module": "@jupyter-widgets/controls",
            "_view_module_version": "1.5.0",
            "_view_name": "HTMLView",
            "description": "",
            "description_tooltip": null,
            "layout": "IPY_MODEL_15e45be3bab446889be89017be2dc353",
            "placeholder": "​",
            "style": "IPY_MODEL_898c74742b4c45c4bb8b352b9d2a6314",
            "value": " 2270/2271 [04:30&lt;00:00,  8.42it/s, training_loss=0.079]"
          }
        },
        "4098df4c17c349fa90d1c68353a9b887": {
          "model_module": "@jupyter-widgets/base",
          "model_name": "LayoutModel",
          "model_module_version": "1.2.0",
          "state": {
            "_model_module": "@jupyter-widgets/base",
            "_model_module_version": "1.2.0",
            "_model_name": "LayoutModel",
            "_view_count": null,
            "_view_module": "@jupyter-widgets/base",
            "_view_module_version": "1.2.0",
            "_view_name": "LayoutView",
            "align_content": null,
            "align_items": null,
            "align_self": null,
            "border": null,
            "bottom": null,
            "display": null,
            "flex": null,
            "flex_flow": null,
            "grid_area": null,
            "grid_auto_columns": null,
            "grid_auto_flow": null,
            "grid_auto_rows": null,
            "grid_column": null,
            "grid_gap": null,
            "grid_row": null,
            "grid_template_areas": null,
            "grid_template_columns": null,
            "grid_template_rows": null,
            "height": null,
            "justify_content": null,
            "justify_items": null,
            "left": null,
            "margin": null,
            "max_height": null,
            "max_width": null,
            "min_height": null,
            "min_width": null,
            "object_fit": null,
            "object_position": null,
            "order": null,
            "overflow": null,
            "overflow_x": null,
            "overflow_y": null,
            "padding": null,
            "right": null,
            "top": null,
            "visibility": null,
            "width": null
          }
        },
        "434f55e23cb24d7c8e4fceb60c88233d": {
          "model_module": "@jupyter-widgets/base",
          "model_name": "LayoutModel",
          "model_module_version": "1.2.0",
          "state": {
            "_model_module": "@jupyter-widgets/base",
            "_model_module_version": "1.2.0",
            "_model_name": "LayoutModel",
            "_view_count": null,
            "_view_module": "@jupyter-widgets/base",
            "_view_module_version": "1.2.0",
            "_view_name": "LayoutView",
            "align_content": null,
            "align_items": null,
            "align_self": null,
            "border": null,
            "bottom": null,
            "display": null,
            "flex": null,
            "flex_flow": null,
            "grid_area": null,
            "grid_auto_columns": null,
            "grid_auto_flow": null,
            "grid_auto_rows": null,
            "grid_column": null,
            "grid_gap": null,
            "grid_row": null,
            "grid_template_areas": null,
            "grid_template_columns": null,
            "grid_template_rows": null,
            "height": null,
            "justify_content": null,
            "justify_items": null,
            "left": null,
            "margin": null,
            "max_height": null,
            "max_width": null,
            "min_height": null,
            "min_width": null,
            "object_fit": null,
            "object_position": null,
            "order": null,
            "overflow": null,
            "overflow_x": null,
            "overflow_y": null,
            "padding": null,
            "right": null,
            "top": null,
            "visibility": null,
            "width": null
          }
        },
        "14ed054b33b64434a5e2fecde898b6f6": {
          "model_module": "@jupyter-widgets/controls",
          "model_name": "DescriptionStyleModel",
          "model_module_version": "1.5.0",
          "state": {
            "_model_module": "@jupyter-widgets/controls",
            "_model_module_version": "1.5.0",
            "_model_name": "DescriptionStyleModel",
            "_view_count": null,
            "_view_module": "@jupyter-widgets/base",
            "_view_module_version": "1.2.0",
            "_view_name": "StyleView",
            "description_width": ""
          }
        },
        "251bb56eb3914b3582f6cd4bc6612cb4": {
          "model_module": "@jupyter-widgets/base",
          "model_name": "LayoutModel",
          "model_module_version": "1.2.0",
          "state": {
            "_model_module": "@jupyter-widgets/base",
            "_model_module_version": "1.2.0",
            "_model_name": "LayoutModel",
            "_view_count": null,
            "_view_module": "@jupyter-widgets/base",
            "_view_module_version": "1.2.0",
            "_view_name": "LayoutView",
            "align_content": null,
            "align_items": null,
            "align_self": null,
            "border": null,
            "bottom": null,
            "display": null,
            "flex": null,
            "flex_flow": null,
            "grid_area": null,
            "grid_auto_columns": null,
            "grid_auto_flow": null,
            "grid_auto_rows": null,
            "grid_column": null,
            "grid_gap": null,
            "grid_row": null,
            "grid_template_areas": null,
            "grid_template_columns": null,
            "grid_template_rows": null,
            "height": null,
            "justify_content": null,
            "justify_items": null,
            "left": null,
            "margin": null,
            "max_height": null,
            "max_width": null,
            "min_height": null,
            "min_width": null,
            "object_fit": null,
            "object_position": null,
            "order": null,
            "overflow": null,
            "overflow_x": null,
            "overflow_y": null,
            "padding": null,
            "right": null,
            "top": null,
            "visibility": null,
            "width": null
          }
        },
        "096d6e8bf1974a7f9eef9eae29670bef": {
          "model_module": "@jupyter-widgets/controls",
          "model_name": "ProgressStyleModel",
          "model_module_version": "1.5.0",
          "state": {
            "_model_module": "@jupyter-widgets/controls",
            "_model_module_version": "1.5.0",
            "_model_name": "ProgressStyleModel",
            "_view_count": null,
            "_view_module": "@jupyter-widgets/base",
            "_view_module_version": "1.2.0",
            "_view_name": "StyleView",
            "bar_color": null,
            "description_width": ""
          }
        },
        "15e45be3bab446889be89017be2dc353": {
          "model_module": "@jupyter-widgets/base",
          "model_name": "LayoutModel",
          "model_module_version": "1.2.0",
          "state": {
            "_model_module": "@jupyter-widgets/base",
            "_model_module_version": "1.2.0",
            "_model_name": "LayoutModel",
            "_view_count": null,
            "_view_module": "@jupyter-widgets/base",
            "_view_module_version": "1.2.0",
            "_view_name": "LayoutView",
            "align_content": null,
            "align_items": null,
            "align_self": null,
            "border": null,
            "bottom": null,
            "display": null,
            "flex": null,
            "flex_flow": null,
            "grid_area": null,
            "grid_auto_columns": null,
            "grid_auto_flow": null,
            "grid_auto_rows": null,
            "grid_column": null,
            "grid_gap": null,
            "grid_row": null,
            "grid_template_areas": null,
            "grid_template_columns": null,
            "grid_template_rows": null,
            "height": null,
            "justify_content": null,
            "justify_items": null,
            "left": null,
            "margin": null,
            "max_height": null,
            "max_width": null,
            "min_height": null,
            "min_width": null,
            "object_fit": null,
            "object_position": null,
            "order": null,
            "overflow": null,
            "overflow_x": null,
            "overflow_y": null,
            "padding": null,
            "right": null,
            "top": null,
            "visibility": null,
            "width": null
          }
        },
        "898c74742b4c45c4bb8b352b9d2a6314": {
          "model_module": "@jupyter-widgets/controls",
          "model_name": "DescriptionStyleModel",
          "model_module_version": "1.5.0",
          "state": {
            "_model_module": "@jupyter-widgets/controls",
            "_model_module_version": "1.5.0",
            "_model_name": "DescriptionStyleModel",
            "_view_count": null,
            "_view_module": "@jupyter-widgets/base",
            "_view_module_version": "1.2.0",
            "_view_name": "StyleView",
            "description_width": ""
          }
        },
        "1e100f7cc09d4eec9bbebd1cd6e0bc03": {
          "model_module": "@jupyter-widgets/controls",
          "model_name": "HBoxModel",
          "model_module_version": "1.5.0",
          "state": {
            "_dom_classes": [],
            "_model_module": "@jupyter-widgets/controls",
            "_model_module_version": "1.5.0",
            "_model_name": "HBoxModel",
            "_view_count": null,
            "_view_module": "@jupyter-widgets/controls",
            "_view_module_version": "1.5.0",
            "_view_name": "HBoxView",
            "box_style": "",
            "children": [
              "IPY_MODEL_066b05253ff947c6a8fca53913e17678",
              "IPY_MODEL_f40376ee1e354d568268e0f1a8bccf23",
              "IPY_MODEL_b254fa7e0c6b4990814085f593c086cc"
            ],
            "layout": "IPY_MODEL_31b83b5c338f4c9da7444e31c1333766"
          }
        },
        "066b05253ff947c6a8fca53913e17678": {
          "model_module": "@jupyter-widgets/controls",
          "model_name": "HTMLModel",
          "model_module_version": "1.5.0",
          "state": {
            "_dom_classes": [],
            "_model_module": "@jupyter-widgets/controls",
            "_model_module_version": "1.5.0",
            "_model_name": "HTMLModel",
            "_view_count": null,
            "_view_module": "@jupyter-widgets/controls",
            "_view_module_version": "1.5.0",
            "_view_name": "HTMLView",
            "description": "",
            "description_tooltip": null,
            "layout": "IPY_MODEL_58e24ea82bf54548882f8416761cadc6",
            "placeholder": "​",
            "style": "IPY_MODEL_310bcd86e6674b06b57d9895302e0457",
            "value": "Epoch 2: 100%"
          }
        },
        "f40376ee1e354d568268e0f1a8bccf23": {
          "model_module": "@jupyter-widgets/controls",
          "model_name": "FloatProgressModel",
          "model_module_version": "1.5.0",
          "state": {
            "_dom_classes": [],
            "_model_module": "@jupyter-widgets/controls",
            "_model_module_version": "1.5.0",
            "_model_name": "FloatProgressModel",
            "_view_count": null,
            "_view_module": "@jupyter-widgets/controls",
            "_view_module_version": "1.5.0",
            "_view_name": "ProgressView",
            "bar_style": "",
            "description": "",
            "description_tooltip": null,
            "layout": "IPY_MODEL_d2c20cc0210745f4bebae8f541a51139",
            "max": 2271,
            "min": 0,
            "orientation": "horizontal",
            "style": "IPY_MODEL_4ea05f6b9c624e959979c137bb31983e",
            "value": 2271
          }
        },
        "b254fa7e0c6b4990814085f593c086cc": {
          "model_module": "@jupyter-widgets/controls",
          "model_name": "HTMLModel",
          "model_module_version": "1.5.0",
          "state": {
            "_dom_classes": [],
            "_model_module": "@jupyter-widgets/controls",
            "_model_module_version": "1.5.0",
            "_model_name": "HTMLModel",
            "_view_count": null,
            "_view_module": "@jupyter-widgets/controls",
            "_view_module_version": "1.5.0",
            "_view_name": "HTMLView",
            "description": "",
            "description_tooltip": null,
            "layout": "IPY_MODEL_3308b1528d8a4e33887919d8e12b1e89",
            "placeholder": "​",
            "style": "IPY_MODEL_f2b5f69921d0497e8f2d0eb964236b47",
            "value": " 2270/2271 [04:29&lt;00:00,  8.44it/s, training_loss=0.742]"
          }
        },
        "31b83b5c338f4c9da7444e31c1333766": {
          "model_module": "@jupyter-widgets/base",
          "model_name": "LayoutModel",
          "model_module_version": "1.2.0",
          "state": {
            "_model_module": "@jupyter-widgets/base",
            "_model_module_version": "1.2.0",
            "_model_name": "LayoutModel",
            "_view_count": null,
            "_view_module": "@jupyter-widgets/base",
            "_view_module_version": "1.2.0",
            "_view_name": "LayoutView",
            "align_content": null,
            "align_items": null,
            "align_self": null,
            "border": null,
            "bottom": null,
            "display": null,
            "flex": null,
            "flex_flow": null,
            "grid_area": null,
            "grid_auto_columns": null,
            "grid_auto_flow": null,
            "grid_auto_rows": null,
            "grid_column": null,
            "grid_gap": null,
            "grid_row": null,
            "grid_template_areas": null,
            "grid_template_columns": null,
            "grid_template_rows": null,
            "height": null,
            "justify_content": null,
            "justify_items": null,
            "left": null,
            "margin": null,
            "max_height": null,
            "max_width": null,
            "min_height": null,
            "min_width": null,
            "object_fit": null,
            "object_position": null,
            "order": null,
            "overflow": null,
            "overflow_x": null,
            "overflow_y": null,
            "padding": null,
            "right": null,
            "top": null,
            "visibility": null,
            "width": null
          }
        },
        "58e24ea82bf54548882f8416761cadc6": {
          "model_module": "@jupyter-widgets/base",
          "model_name": "LayoutModel",
          "model_module_version": "1.2.0",
          "state": {
            "_model_module": "@jupyter-widgets/base",
            "_model_module_version": "1.2.0",
            "_model_name": "LayoutModel",
            "_view_count": null,
            "_view_module": "@jupyter-widgets/base",
            "_view_module_version": "1.2.0",
            "_view_name": "LayoutView",
            "align_content": null,
            "align_items": null,
            "align_self": null,
            "border": null,
            "bottom": null,
            "display": null,
            "flex": null,
            "flex_flow": null,
            "grid_area": null,
            "grid_auto_columns": null,
            "grid_auto_flow": null,
            "grid_auto_rows": null,
            "grid_column": null,
            "grid_gap": null,
            "grid_row": null,
            "grid_template_areas": null,
            "grid_template_columns": null,
            "grid_template_rows": null,
            "height": null,
            "justify_content": null,
            "justify_items": null,
            "left": null,
            "margin": null,
            "max_height": null,
            "max_width": null,
            "min_height": null,
            "min_width": null,
            "object_fit": null,
            "object_position": null,
            "order": null,
            "overflow": null,
            "overflow_x": null,
            "overflow_y": null,
            "padding": null,
            "right": null,
            "top": null,
            "visibility": null,
            "width": null
          }
        },
        "310bcd86e6674b06b57d9895302e0457": {
          "model_module": "@jupyter-widgets/controls",
          "model_name": "DescriptionStyleModel",
          "model_module_version": "1.5.0",
          "state": {
            "_model_module": "@jupyter-widgets/controls",
            "_model_module_version": "1.5.0",
            "_model_name": "DescriptionStyleModel",
            "_view_count": null,
            "_view_module": "@jupyter-widgets/base",
            "_view_module_version": "1.2.0",
            "_view_name": "StyleView",
            "description_width": ""
          }
        },
        "d2c20cc0210745f4bebae8f541a51139": {
          "model_module": "@jupyter-widgets/base",
          "model_name": "LayoutModel",
          "model_module_version": "1.2.0",
          "state": {
            "_model_module": "@jupyter-widgets/base",
            "_model_module_version": "1.2.0",
            "_model_name": "LayoutModel",
            "_view_count": null,
            "_view_module": "@jupyter-widgets/base",
            "_view_module_version": "1.2.0",
            "_view_name": "LayoutView",
            "align_content": null,
            "align_items": null,
            "align_self": null,
            "border": null,
            "bottom": null,
            "display": null,
            "flex": null,
            "flex_flow": null,
            "grid_area": null,
            "grid_auto_columns": null,
            "grid_auto_flow": null,
            "grid_auto_rows": null,
            "grid_column": null,
            "grid_gap": null,
            "grid_row": null,
            "grid_template_areas": null,
            "grid_template_columns": null,
            "grid_template_rows": null,
            "height": null,
            "justify_content": null,
            "justify_items": null,
            "left": null,
            "margin": null,
            "max_height": null,
            "max_width": null,
            "min_height": null,
            "min_width": null,
            "object_fit": null,
            "object_position": null,
            "order": null,
            "overflow": null,
            "overflow_x": null,
            "overflow_y": null,
            "padding": null,
            "right": null,
            "top": null,
            "visibility": null,
            "width": null
          }
        },
        "4ea05f6b9c624e959979c137bb31983e": {
          "model_module": "@jupyter-widgets/controls",
          "model_name": "ProgressStyleModel",
          "model_module_version": "1.5.0",
          "state": {
            "_model_module": "@jupyter-widgets/controls",
            "_model_module_version": "1.5.0",
            "_model_name": "ProgressStyleModel",
            "_view_count": null,
            "_view_module": "@jupyter-widgets/base",
            "_view_module_version": "1.2.0",
            "_view_name": "StyleView",
            "bar_color": null,
            "description_width": ""
          }
        },
        "3308b1528d8a4e33887919d8e12b1e89": {
          "model_module": "@jupyter-widgets/base",
          "model_name": "LayoutModel",
          "model_module_version": "1.2.0",
          "state": {
            "_model_module": "@jupyter-widgets/base",
            "_model_module_version": "1.2.0",
            "_model_name": "LayoutModel",
            "_view_count": null,
            "_view_module": "@jupyter-widgets/base",
            "_view_module_version": "1.2.0",
            "_view_name": "LayoutView",
            "align_content": null,
            "align_items": null,
            "align_self": null,
            "border": null,
            "bottom": null,
            "display": null,
            "flex": null,
            "flex_flow": null,
            "grid_area": null,
            "grid_auto_columns": null,
            "grid_auto_flow": null,
            "grid_auto_rows": null,
            "grid_column": null,
            "grid_gap": null,
            "grid_row": null,
            "grid_template_areas": null,
            "grid_template_columns": null,
            "grid_template_rows": null,
            "height": null,
            "justify_content": null,
            "justify_items": null,
            "left": null,
            "margin": null,
            "max_height": null,
            "max_width": null,
            "min_height": null,
            "min_width": null,
            "object_fit": null,
            "object_position": null,
            "order": null,
            "overflow": null,
            "overflow_x": null,
            "overflow_y": null,
            "padding": null,
            "right": null,
            "top": null,
            "visibility": null,
            "width": null
          }
        },
        "f2b5f69921d0497e8f2d0eb964236b47": {
          "model_module": "@jupyter-widgets/controls",
          "model_name": "DescriptionStyleModel",
          "model_module_version": "1.5.0",
          "state": {
            "_model_module": "@jupyter-widgets/controls",
            "_model_module_version": "1.5.0",
            "_model_name": "DescriptionStyleModel",
            "_view_count": null,
            "_view_module": "@jupyter-widgets/base",
            "_view_module_version": "1.2.0",
            "_view_name": "StyleView",
            "description_width": ""
          }
        },
        "a88b6b471fd94a08b7eb846f716aedd9": {
          "model_module": "@jupyter-widgets/controls",
          "model_name": "HBoxModel",
          "model_module_version": "1.5.0",
          "state": {
            "_dom_classes": [],
            "_model_module": "@jupyter-widgets/controls",
            "_model_module_version": "1.5.0",
            "_model_name": "HBoxModel",
            "_view_count": null,
            "_view_module": "@jupyter-widgets/controls",
            "_view_module_version": "1.5.0",
            "_view_name": "HBoxView",
            "box_style": "",
            "children": [
              "IPY_MODEL_dd8a4508976a44c0892e9b5c782fcce5",
              "IPY_MODEL_f7746d98b4c14108a78b2c608f7fa3a0",
              "IPY_MODEL_95c05727156c4353b4df7b56fadeca34"
            ],
            "layout": "IPY_MODEL_c543f2c67cfc4bd5beb37f9b754bfd2c"
          }
        },
        "dd8a4508976a44c0892e9b5c782fcce5": {
          "model_module": "@jupyter-widgets/controls",
          "model_name": "HTMLModel",
          "model_module_version": "1.5.0",
          "state": {
            "_dom_classes": [],
            "_model_module": "@jupyter-widgets/controls",
            "_model_module_version": "1.5.0",
            "_model_name": "HTMLModel",
            "_view_count": null,
            "_view_module": "@jupyter-widgets/controls",
            "_view_module_version": "1.5.0",
            "_view_name": "HTMLView",
            "description": "",
            "description_tooltip": null,
            "layout": "IPY_MODEL_60933f7254b74d8184cd7d293ea45cfd",
            "placeholder": "​",
            "style": "IPY_MODEL_563ac11755244ceda2e469296a1cd6eb",
            "value": "Epoch 3: 100%"
          }
        },
        "f7746d98b4c14108a78b2c608f7fa3a0": {
          "model_module": "@jupyter-widgets/controls",
          "model_name": "FloatProgressModel",
          "model_module_version": "1.5.0",
          "state": {
            "_dom_classes": [],
            "_model_module": "@jupyter-widgets/controls",
            "_model_module_version": "1.5.0",
            "_model_name": "FloatProgressModel",
            "_view_count": null,
            "_view_module": "@jupyter-widgets/controls",
            "_view_module_version": "1.5.0",
            "_view_name": "ProgressView",
            "bar_style": "",
            "description": "",
            "description_tooltip": null,
            "layout": "IPY_MODEL_c9ce431873934d41a9f991b99b88d684",
            "max": 2271,
            "min": 0,
            "orientation": "horizontal",
            "style": "IPY_MODEL_cb2166831cc04df99a3a2b8737afa5ec",
            "value": 2271
          }
        },
        "95c05727156c4353b4df7b56fadeca34": {
          "model_module": "@jupyter-widgets/controls",
          "model_name": "HTMLModel",
          "model_module_version": "1.5.0",
          "state": {
            "_dom_classes": [],
            "_model_module": "@jupyter-widgets/controls",
            "_model_module_version": "1.5.0",
            "_model_name": "HTMLModel",
            "_view_count": null,
            "_view_module": "@jupyter-widgets/controls",
            "_view_module_version": "1.5.0",
            "_view_name": "HTMLView",
            "description": "",
            "description_tooltip": null,
            "layout": "IPY_MODEL_b6b8c9a44d344c308a4cf129871d1847",
            "placeholder": "​",
            "style": "IPY_MODEL_0ed05df074ae4837aacc188775a939fc",
            "value": " 2270/2271 [04:29&lt;00:00,  8.42it/s, training_loss=0.001]"
          }
        },
        "c543f2c67cfc4bd5beb37f9b754bfd2c": {
          "model_module": "@jupyter-widgets/base",
          "model_name": "LayoutModel",
          "model_module_version": "1.2.0",
          "state": {
            "_model_module": "@jupyter-widgets/base",
            "_model_module_version": "1.2.0",
            "_model_name": "LayoutModel",
            "_view_count": null,
            "_view_module": "@jupyter-widgets/base",
            "_view_module_version": "1.2.0",
            "_view_name": "LayoutView",
            "align_content": null,
            "align_items": null,
            "align_self": null,
            "border": null,
            "bottom": null,
            "display": null,
            "flex": null,
            "flex_flow": null,
            "grid_area": null,
            "grid_auto_columns": null,
            "grid_auto_flow": null,
            "grid_auto_rows": null,
            "grid_column": null,
            "grid_gap": null,
            "grid_row": null,
            "grid_template_areas": null,
            "grid_template_columns": null,
            "grid_template_rows": null,
            "height": null,
            "justify_content": null,
            "justify_items": null,
            "left": null,
            "margin": null,
            "max_height": null,
            "max_width": null,
            "min_height": null,
            "min_width": null,
            "object_fit": null,
            "object_position": null,
            "order": null,
            "overflow": null,
            "overflow_x": null,
            "overflow_y": null,
            "padding": null,
            "right": null,
            "top": null,
            "visibility": null,
            "width": null
          }
        },
        "60933f7254b74d8184cd7d293ea45cfd": {
          "model_module": "@jupyter-widgets/base",
          "model_name": "LayoutModel",
          "model_module_version": "1.2.0",
          "state": {
            "_model_module": "@jupyter-widgets/base",
            "_model_module_version": "1.2.0",
            "_model_name": "LayoutModel",
            "_view_count": null,
            "_view_module": "@jupyter-widgets/base",
            "_view_module_version": "1.2.0",
            "_view_name": "LayoutView",
            "align_content": null,
            "align_items": null,
            "align_self": null,
            "border": null,
            "bottom": null,
            "display": null,
            "flex": null,
            "flex_flow": null,
            "grid_area": null,
            "grid_auto_columns": null,
            "grid_auto_flow": null,
            "grid_auto_rows": null,
            "grid_column": null,
            "grid_gap": null,
            "grid_row": null,
            "grid_template_areas": null,
            "grid_template_columns": null,
            "grid_template_rows": null,
            "height": null,
            "justify_content": null,
            "justify_items": null,
            "left": null,
            "margin": null,
            "max_height": null,
            "max_width": null,
            "min_height": null,
            "min_width": null,
            "object_fit": null,
            "object_position": null,
            "order": null,
            "overflow": null,
            "overflow_x": null,
            "overflow_y": null,
            "padding": null,
            "right": null,
            "top": null,
            "visibility": null,
            "width": null
          }
        },
        "563ac11755244ceda2e469296a1cd6eb": {
          "model_module": "@jupyter-widgets/controls",
          "model_name": "DescriptionStyleModel",
          "model_module_version": "1.5.0",
          "state": {
            "_model_module": "@jupyter-widgets/controls",
            "_model_module_version": "1.5.0",
            "_model_name": "DescriptionStyleModel",
            "_view_count": null,
            "_view_module": "@jupyter-widgets/base",
            "_view_module_version": "1.2.0",
            "_view_name": "StyleView",
            "description_width": ""
          }
        },
        "c9ce431873934d41a9f991b99b88d684": {
          "model_module": "@jupyter-widgets/base",
          "model_name": "LayoutModel",
          "model_module_version": "1.2.0",
          "state": {
            "_model_module": "@jupyter-widgets/base",
            "_model_module_version": "1.2.0",
            "_model_name": "LayoutModel",
            "_view_count": null,
            "_view_module": "@jupyter-widgets/base",
            "_view_module_version": "1.2.0",
            "_view_name": "LayoutView",
            "align_content": null,
            "align_items": null,
            "align_self": null,
            "border": null,
            "bottom": null,
            "display": null,
            "flex": null,
            "flex_flow": null,
            "grid_area": null,
            "grid_auto_columns": null,
            "grid_auto_flow": null,
            "grid_auto_rows": null,
            "grid_column": null,
            "grid_gap": null,
            "grid_row": null,
            "grid_template_areas": null,
            "grid_template_columns": null,
            "grid_template_rows": null,
            "height": null,
            "justify_content": null,
            "justify_items": null,
            "left": null,
            "margin": null,
            "max_height": null,
            "max_width": null,
            "min_height": null,
            "min_width": null,
            "object_fit": null,
            "object_position": null,
            "order": null,
            "overflow": null,
            "overflow_x": null,
            "overflow_y": null,
            "padding": null,
            "right": null,
            "top": null,
            "visibility": null,
            "width": null
          }
        },
        "cb2166831cc04df99a3a2b8737afa5ec": {
          "model_module": "@jupyter-widgets/controls",
          "model_name": "ProgressStyleModel",
          "model_module_version": "1.5.0",
          "state": {
            "_model_module": "@jupyter-widgets/controls",
            "_model_module_version": "1.5.0",
            "_model_name": "ProgressStyleModel",
            "_view_count": null,
            "_view_module": "@jupyter-widgets/base",
            "_view_module_version": "1.2.0",
            "_view_name": "StyleView",
            "bar_color": null,
            "description_width": ""
          }
        },
        "b6b8c9a44d344c308a4cf129871d1847": {
          "model_module": "@jupyter-widgets/base",
          "model_name": "LayoutModel",
          "model_module_version": "1.2.0",
          "state": {
            "_model_module": "@jupyter-widgets/base",
            "_model_module_version": "1.2.0",
            "_model_name": "LayoutModel",
            "_view_count": null,
            "_view_module": "@jupyter-widgets/base",
            "_view_module_version": "1.2.0",
            "_view_name": "LayoutView",
            "align_content": null,
            "align_items": null,
            "align_self": null,
            "border": null,
            "bottom": null,
            "display": null,
            "flex": null,
            "flex_flow": null,
            "grid_area": null,
            "grid_auto_columns": null,
            "grid_auto_flow": null,
            "grid_auto_rows": null,
            "grid_column": null,
            "grid_gap": null,
            "grid_row": null,
            "grid_template_areas": null,
            "grid_template_columns": null,
            "grid_template_rows": null,
            "height": null,
            "justify_content": null,
            "justify_items": null,
            "left": null,
            "margin": null,
            "max_height": null,
            "max_width": null,
            "min_height": null,
            "min_width": null,
            "object_fit": null,
            "object_position": null,
            "order": null,
            "overflow": null,
            "overflow_x": null,
            "overflow_y": null,
            "padding": null,
            "right": null,
            "top": null,
            "visibility": null,
            "width": null
          }
        },
        "0ed05df074ae4837aacc188775a939fc": {
          "model_module": "@jupyter-widgets/controls",
          "model_name": "DescriptionStyleModel",
          "model_module_version": "1.5.0",
          "state": {
            "_model_module": "@jupyter-widgets/controls",
            "_model_module_version": "1.5.0",
            "_model_name": "DescriptionStyleModel",
            "_view_count": null,
            "_view_module": "@jupyter-widgets/base",
            "_view_module_version": "1.2.0",
            "_view_name": "StyleView",
            "description_width": ""
          }
        },
        "22df8e486d7e4fc2a95c4c0481e0561e": {
          "model_module": "@jupyter-widgets/controls",
          "model_name": "HBoxModel",
          "model_module_version": "1.5.0",
          "state": {
            "_dom_classes": [],
            "_model_module": "@jupyter-widgets/controls",
            "_model_module_version": "1.5.0",
            "_model_name": "HBoxModel",
            "_view_count": null,
            "_view_module": "@jupyter-widgets/controls",
            "_view_module_version": "1.5.0",
            "_view_name": "HBoxView",
            "box_style": "",
            "children": [
              "IPY_MODEL_20cca826eb7b4dcf836a682697b66d10",
              "IPY_MODEL_acd972ade29f43b28b2d62c023612256",
              "IPY_MODEL_61e4b55929b6420b96fb05e04aa9dd0b"
            ],
            "layout": "IPY_MODEL_e519cab301444688a1cd479b90a711cf"
          }
        },
        "20cca826eb7b4dcf836a682697b66d10": {
          "model_module": "@jupyter-widgets/controls",
          "model_name": "HTMLModel",
          "model_module_version": "1.5.0",
          "state": {
            "_dom_classes": [],
            "_model_module": "@jupyter-widgets/controls",
            "_model_module_version": "1.5.0",
            "_model_name": "HTMLModel",
            "_view_count": null,
            "_view_module": "@jupyter-widgets/controls",
            "_view_module_version": "1.5.0",
            "_view_name": "HTMLView",
            "description": "",
            "description_tooltip": null,
            "layout": "IPY_MODEL_bca37851190349f4b4c951e455568298",
            "placeholder": "​",
            "style": "IPY_MODEL_b4731e6bf4f448e18f70e5553b2dc125",
            "value": "Epoch 4: 100%"
          }
        },
        "acd972ade29f43b28b2d62c023612256": {
          "model_module": "@jupyter-widgets/controls",
          "model_name": "FloatProgressModel",
          "model_module_version": "1.5.0",
          "state": {
            "_dom_classes": [],
            "_model_module": "@jupyter-widgets/controls",
            "_model_module_version": "1.5.0",
            "_model_name": "FloatProgressModel",
            "_view_count": null,
            "_view_module": "@jupyter-widgets/controls",
            "_view_module_version": "1.5.0",
            "_view_name": "ProgressView",
            "bar_style": "",
            "description": "",
            "description_tooltip": null,
            "layout": "IPY_MODEL_31f60a9d13ff40cca2d487e555445c1f",
            "max": 2271,
            "min": 0,
            "orientation": "horizontal",
            "style": "IPY_MODEL_04a0173814e141c9a29419c35cbe395d",
            "value": 2271
          }
        },
        "61e4b55929b6420b96fb05e04aa9dd0b": {
          "model_module": "@jupyter-widgets/controls",
          "model_name": "HTMLModel",
          "model_module_version": "1.5.0",
          "state": {
            "_dom_classes": [],
            "_model_module": "@jupyter-widgets/controls",
            "_model_module_version": "1.5.0",
            "_model_name": "HTMLModel",
            "_view_count": null,
            "_view_module": "@jupyter-widgets/controls",
            "_view_module_version": "1.5.0",
            "_view_name": "HTMLView",
            "description": "",
            "description_tooltip": null,
            "layout": "IPY_MODEL_9665fc6f1c2b463aa3d0ec35fc47fb06",
            "placeholder": "​",
            "style": "IPY_MODEL_0a4f0169164b46198d85f8b16a08332e",
            "value": " 2270/2271 [04:29&lt;00:00,  8.43it/s, training_loss=0.000]"
          }
        },
        "e519cab301444688a1cd479b90a711cf": {
          "model_module": "@jupyter-widgets/base",
          "model_name": "LayoutModel",
          "model_module_version": "1.2.0",
          "state": {
            "_model_module": "@jupyter-widgets/base",
            "_model_module_version": "1.2.0",
            "_model_name": "LayoutModel",
            "_view_count": null,
            "_view_module": "@jupyter-widgets/base",
            "_view_module_version": "1.2.0",
            "_view_name": "LayoutView",
            "align_content": null,
            "align_items": null,
            "align_self": null,
            "border": null,
            "bottom": null,
            "display": null,
            "flex": null,
            "flex_flow": null,
            "grid_area": null,
            "grid_auto_columns": null,
            "grid_auto_flow": null,
            "grid_auto_rows": null,
            "grid_column": null,
            "grid_gap": null,
            "grid_row": null,
            "grid_template_areas": null,
            "grid_template_columns": null,
            "grid_template_rows": null,
            "height": null,
            "justify_content": null,
            "justify_items": null,
            "left": null,
            "margin": null,
            "max_height": null,
            "max_width": null,
            "min_height": null,
            "min_width": null,
            "object_fit": null,
            "object_position": null,
            "order": null,
            "overflow": null,
            "overflow_x": null,
            "overflow_y": null,
            "padding": null,
            "right": null,
            "top": null,
            "visibility": null,
            "width": null
          }
        },
        "bca37851190349f4b4c951e455568298": {
          "model_module": "@jupyter-widgets/base",
          "model_name": "LayoutModel",
          "model_module_version": "1.2.0",
          "state": {
            "_model_module": "@jupyter-widgets/base",
            "_model_module_version": "1.2.0",
            "_model_name": "LayoutModel",
            "_view_count": null,
            "_view_module": "@jupyter-widgets/base",
            "_view_module_version": "1.2.0",
            "_view_name": "LayoutView",
            "align_content": null,
            "align_items": null,
            "align_self": null,
            "border": null,
            "bottom": null,
            "display": null,
            "flex": null,
            "flex_flow": null,
            "grid_area": null,
            "grid_auto_columns": null,
            "grid_auto_flow": null,
            "grid_auto_rows": null,
            "grid_column": null,
            "grid_gap": null,
            "grid_row": null,
            "grid_template_areas": null,
            "grid_template_columns": null,
            "grid_template_rows": null,
            "height": null,
            "justify_content": null,
            "justify_items": null,
            "left": null,
            "margin": null,
            "max_height": null,
            "max_width": null,
            "min_height": null,
            "min_width": null,
            "object_fit": null,
            "object_position": null,
            "order": null,
            "overflow": null,
            "overflow_x": null,
            "overflow_y": null,
            "padding": null,
            "right": null,
            "top": null,
            "visibility": null,
            "width": null
          }
        },
        "b4731e6bf4f448e18f70e5553b2dc125": {
          "model_module": "@jupyter-widgets/controls",
          "model_name": "DescriptionStyleModel",
          "model_module_version": "1.5.0",
          "state": {
            "_model_module": "@jupyter-widgets/controls",
            "_model_module_version": "1.5.0",
            "_model_name": "DescriptionStyleModel",
            "_view_count": null,
            "_view_module": "@jupyter-widgets/base",
            "_view_module_version": "1.2.0",
            "_view_name": "StyleView",
            "description_width": ""
          }
        },
        "31f60a9d13ff40cca2d487e555445c1f": {
          "model_module": "@jupyter-widgets/base",
          "model_name": "LayoutModel",
          "model_module_version": "1.2.0",
          "state": {
            "_model_module": "@jupyter-widgets/base",
            "_model_module_version": "1.2.0",
            "_model_name": "LayoutModel",
            "_view_count": null,
            "_view_module": "@jupyter-widgets/base",
            "_view_module_version": "1.2.0",
            "_view_name": "LayoutView",
            "align_content": null,
            "align_items": null,
            "align_self": null,
            "border": null,
            "bottom": null,
            "display": null,
            "flex": null,
            "flex_flow": null,
            "grid_area": null,
            "grid_auto_columns": null,
            "grid_auto_flow": null,
            "grid_auto_rows": null,
            "grid_column": null,
            "grid_gap": null,
            "grid_row": null,
            "grid_template_areas": null,
            "grid_template_columns": null,
            "grid_template_rows": null,
            "height": null,
            "justify_content": null,
            "justify_items": null,
            "left": null,
            "margin": null,
            "max_height": null,
            "max_width": null,
            "min_height": null,
            "min_width": null,
            "object_fit": null,
            "object_position": null,
            "order": null,
            "overflow": null,
            "overflow_x": null,
            "overflow_y": null,
            "padding": null,
            "right": null,
            "top": null,
            "visibility": null,
            "width": null
          }
        },
        "04a0173814e141c9a29419c35cbe395d": {
          "model_module": "@jupyter-widgets/controls",
          "model_name": "ProgressStyleModel",
          "model_module_version": "1.5.0",
          "state": {
            "_model_module": "@jupyter-widgets/controls",
            "_model_module_version": "1.5.0",
            "_model_name": "ProgressStyleModel",
            "_view_count": null,
            "_view_module": "@jupyter-widgets/base",
            "_view_module_version": "1.2.0",
            "_view_name": "StyleView",
            "bar_color": null,
            "description_width": ""
          }
        },
        "9665fc6f1c2b463aa3d0ec35fc47fb06": {
          "model_module": "@jupyter-widgets/base",
          "model_name": "LayoutModel",
          "model_module_version": "1.2.0",
          "state": {
            "_model_module": "@jupyter-widgets/base",
            "_model_module_version": "1.2.0",
            "_model_name": "LayoutModel",
            "_view_count": null,
            "_view_module": "@jupyter-widgets/base",
            "_view_module_version": "1.2.0",
            "_view_name": "LayoutView",
            "align_content": null,
            "align_items": null,
            "align_self": null,
            "border": null,
            "bottom": null,
            "display": null,
            "flex": null,
            "flex_flow": null,
            "grid_area": null,
            "grid_auto_columns": null,
            "grid_auto_flow": null,
            "grid_auto_rows": null,
            "grid_column": null,
            "grid_gap": null,
            "grid_row": null,
            "grid_template_areas": null,
            "grid_template_columns": null,
            "grid_template_rows": null,
            "height": null,
            "justify_content": null,
            "justify_items": null,
            "left": null,
            "margin": null,
            "max_height": null,
            "max_width": null,
            "min_height": null,
            "min_width": null,
            "object_fit": null,
            "object_position": null,
            "order": null,
            "overflow": null,
            "overflow_x": null,
            "overflow_y": null,
            "padding": null,
            "right": null,
            "top": null,
            "visibility": null,
            "width": null
          }
        },
        "0a4f0169164b46198d85f8b16a08332e": {
          "model_module": "@jupyter-widgets/controls",
          "model_name": "DescriptionStyleModel",
          "model_module_version": "1.5.0",
          "state": {
            "_model_module": "@jupyter-widgets/controls",
            "_model_module_version": "1.5.0",
            "_model_name": "DescriptionStyleModel",
            "_view_count": null,
            "_view_module": "@jupyter-widgets/base",
            "_view_module_version": "1.2.0",
            "_view_name": "StyleView",
            "description_width": ""
          }
        },
        "676ce4a0f5294b0699fe784e39d6892e": {
          "model_module": "@jupyter-widgets/controls",
          "model_name": "HBoxModel",
          "model_module_version": "1.5.0",
          "state": {
            "_dom_classes": [],
            "_model_module": "@jupyter-widgets/controls",
            "_model_module_version": "1.5.0",
            "_model_name": "HBoxModel",
            "_view_count": null,
            "_view_module": "@jupyter-widgets/controls",
            "_view_module_version": "1.5.0",
            "_view_name": "HBoxView",
            "box_style": "",
            "children": [
              "IPY_MODEL_1f9ab752cefa4e84acd89f18ac58ee51",
              "IPY_MODEL_6341b98cfdbb4164aaf5c93a514d4d3b",
              "IPY_MODEL_365aff68d6df4855823d2e19ab1cd560"
            ],
            "layout": "IPY_MODEL_ab0f998f44fa41fda398cce6815a09a1"
          }
        },
        "1f9ab752cefa4e84acd89f18ac58ee51": {
          "model_module": "@jupyter-widgets/controls",
          "model_name": "HTMLModel",
          "model_module_version": "1.5.0",
          "state": {
            "_dom_classes": [],
            "_model_module": "@jupyter-widgets/controls",
            "_model_module_version": "1.5.0",
            "_model_name": "HTMLModel",
            "_view_count": null,
            "_view_module": "@jupyter-widgets/controls",
            "_view_module_version": "1.5.0",
            "_view_name": "HTMLView",
            "description": "",
            "description_tooltip": null,
            "layout": "IPY_MODEL_a68596ff757549a5805bbde77cc34f97",
            "placeholder": "​",
            "style": "IPY_MODEL_93eab57d2f3f49f48d0f5f8c070bd53f",
            "value": "Epoch 5: 100%"
          }
        },
        "6341b98cfdbb4164aaf5c93a514d4d3b": {
          "model_module": "@jupyter-widgets/controls",
          "model_name": "FloatProgressModel",
          "model_module_version": "1.5.0",
          "state": {
            "_dom_classes": [],
            "_model_module": "@jupyter-widgets/controls",
            "_model_module_version": "1.5.0",
            "_model_name": "FloatProgressModel",
            "_view_count": null,
            "_view_module": "@jupyter-widgets/controls",
            "_view_module_version": "1.5.0",
            "_view_name": "ProgressView",
            "bar_style": "",
            "description": "",
            "description_tooltip": null,
            "layout": "IPY_MODEL_99a8d3ffd243499891c2bb650027d757",
            "max": 2271,
            "min": 0,
            "orientation": "horizontal",
            "style": "IPY_MODEL_9158f4a6bfc74d219fa2cfcade4b707b",
            "value": 2271
          }
        },
        "365aff68d6df4855823d2e19ab1cd560": {
          "model_module": "@jupyter-widgets/controls",
          "model_name": "HTMLModel",
          "model_module_version": "1.5.0",
          "state": {
            "_dom_classes": [],
            "_model_module": "@jupyter-widgets/controls",
            "_model_module_version": "1.5.0",
            "_model_name": "HTMLModel",
            "_view_count": null,
            "_view_module": "@jupyter-widgets/controls",
            "_view_module_version": "1.5.0",
            "_view_name": "HTMLView",
            "description": "",
            "description_tooltip": null,
            "layout": "IPY_MODEL_34239cedb2144a229286700db8dd83d1",
            "placeholder": "​",
            "style": "IPY_MODEL_90c162986a23467b9c66f58fd65cf85d",
            "value": " 2270/2271 [04:29&lt;00:00,  8.44it/s, training_loss=0.000]"
          }
        },
        "ab0f998f44fa41fda398cce6815a09a1": {
          "model_module": "@jupyter-widgets/base",
          "model_name": "LayoutModel",
          "model_module_version": "1.2.0",
          "state": {
            "_model_module": "@jupyter-widgets/base",
            "_model_module_version": "1.2.0",
            "_model_name": "LayoutModel",
            "_view_count": null,
            "_view_module": "@jupyter-widgets/base",
            "_view_module_version": "1.2.0",
            "_view_name": "LayoutView",
            "align_content": null,
            "align_items": null,
            "align_self": null,
            "border": null,
            "bottom": null,
            "display": null,
            "flex": null,
            "flex_flow": null,
            "grid_area": null,
            "grid_auto_columns": null,
            "grid_auto_flow": null,
            "grid_auto_rows": null,
            "grid_column": null,
            "grid_gap": null,
            "grid_row": null,
            "grid_template_areas": null,
            "grid_template_columns": null,
            "grid_template_rows": null,
            "height": null,
            "justify_content": null,
            "justify_items": null,
            "left": null,
            "margin": null,
            "max_height": null,
            "max_width": null,
            "min_height": null,
            "min_width": null,
            "object_fit": null,
            "object_position": null,
            "order": null,
            "overflow": null,
            "overflow_x": null,
            "overflow_y": null,
            "padding": null,
            "right": null,
            "top": null,
            "visibility": null,
            "width": null
          }
        },
        "a68596ff757549a5805bbde77cc34f97": {
          "model_module": "@jupyter-widgets/base",
          "model_name": "LayoutModel",
          "model_module_version": "1.2.0",
          "state": {
            "_model_module": "@jupyter-widgets/base",
            "_model_module_version": "1.2.0",
            "_model_name": "LayoutModel",
            "_view_count": null,
            "_view_module": "@jupyter-widgets/base",
            "_view_module_version": "1.2.0",
            "_view_name": "LayoutView",
            "align_content": null,
            "align_items": null,
            "align_self": null,
            "border": null,
            "bottom": null,
            "display": null,
            "flex": null,
            "flex_flow": null,
            "grid_area": null,
            "grid_auto_columns": null,
            "grid_auto_flow": null,
            "grid_auto_rows": null,
            "grid_column": null,
            "grid_gap": null,
            "grid_row": null,
            "grid_template_areas": null,
            "grid_template_columns": null,
            "grid_template_rows": null,
            "height": null,
            "justify_content": null,
            "justify_items": null,
            "left": null,
            "margin": null,
            "max_height": null,
            "max_width": null,
            "min_height": null,
            "min_width": null,
            "object_fit": null,
            "object_position": null,
            "order": null,
            "overflow": null,
            "overflow_x": null,
            "overflow_y": null,
            "padding": null,
            "right": null,
            "top": null,
            "visibility": null,
            "width": null
          }
        },
        "93eab57d2f3f49f48d0f5f8c070bd53f": {
          "model_module": "@jupyter-widgets/controls",
          "model_name": "DescriptionStyleModel",
          "model_module_version": "1.5.0",
          "state": {
            "_model_module": "@jupyter-widgets/controls",
            "_model_module_version": "1.5.0",
            "_model_name": "DescriptionStyleModel",
            "_view_count": null,
            "_view_module": "@jupyter-widgets/base",
            "_view_module_version": "1.2.0",
            "_view_name": "StyleView",
            "description_width": ""
          }
        },
        "99a8d3ffd243499891c2bb650027d757": {
          "model_module": "@jupyter-widgets/base",
          "model_name": "LayoutModel",
          "model_module_version": "1.2.0",
          "state": {
            "_model_module": "@jupyter-widgets/base",
            "_model_module_version": "1.2.0",
            "_model_name": "LayoutModel",
            "_view_count": null,
            "_view_module": "@jupyter-widgets/base",
            "_view_module_version": "1.2.0",
            "_view_name": "LayoutView",
            "align_content": null,
            "align_items": null,
            "align_self": null,
            "border": null,
            "bottom": null,
            "display": null,
            "flex": null,
            "flex_flow": null,
            "grid_area": null,
            "grid_auto_columns": null,
            "grid_auto_flow": null,
            "grid_auto_rows": null,
            "grid_column": null,
            "grid_gap": null,
            "grid_row": null,
            "grid_template_areas": null,
            "grid_template_columns": null,
            "grid_template_rows": null,
            "height": null,
            "justify_content": null,
            "justify_items": null,
            "left": null,
            "margin": null,
            "max_height": null,
            "max_width": null,
            "min_height": null,
            "min_width": null,
            "object_fit": null,
            "object_position": null,
            "order": null,
            "overflow": null,
            "overflow_x": null,
            "overflow_y": null,
            "padding": null,
            "right": null,
            "top": null,
            "visibility": null,
            "width": null
          }
        },
        "9158f4a6bfc74d219fa2cfcade4b707b": {
          "model_module": "@jupyter-widgets/controls",
          "model_name": "ProgressStyleModel",
          "model_module_version": "1.5.0",
          "state": {
            "_model_module": "@jupyter-widgets/controls",
            "_model_module_version": "1.5.0",
            "_model_name": "ProgressStyleModel",
            "_view_count": null,
            "_view_module": "@jupyter-widgets/base",
            "_view_module_version": "1.2.0",
            "_view_name": "StyleView",
            "bar_color": null,
            "description_width": ""
          }
        },
        "34239cedb2144a229286700db8dd83d1": {
          "model_module": "@jupyter-widgets/base",
          "model_name": "LayoutModel",
          "model_module_version": "1.2.0",
          "state": {
            "_model_module": "@jupyter-widgets/base",
            "_model_module_version": "1.2.0",
            "_model_name": "LayoutModel",
            "_view_count": null,
            "_view_module": "@jupyter-widgets/base",
            "_view_module_version": "1.2.0",
            "_view_name": "LayoutView",
            "align_content": null,
            "align_items": null,
            "align_self": null,
            "border": null,
            "bottom": null,
            "display": null,
            "flex": null,
            "flex_flow": null,
            "grid_area": null,
            "grid_auto_columns": null,
            "grid_auto_flow": null,
            "grid_auto_rows": null,
            "grid_column": null,
            "grid_gap": null,
            "grid_row": null,
            "grid_template_areas": null,
            "grid_template_columns": null,
            "grid_template_rows": null,
            "height": null,
            "justify_content": null,
            "justify_items": null,
            "left": null,
            "margin": null,
            "max_height": null,
            "max_width": null,
            "min_height": null,
            "min_width": null,
            "object_fit": null,
            "object_position": null,
            "order": null,
            "overflow": null,
            "overflow_x": null,
            "overflow_y": null,
            "padding": null,
            "right": null,
            "top": null,
            "visibility": null,
            "width": null
          }
        },
        "90c162986a23467b9c66f58fd65cf85d": {
          "model_module": "@jupyter-widgets/controls",
          "model_name": "DescriptionStyleModel",
          "model_module_version": "1.5.0",
          "state": {
            "_model_module": "@jupyter-widgets/controls",
            "_model_module_version": "1.5.0",
            "_model_name": "DescriptionStyleModel",
            "_view_count": null,
            "_view_module": "@jupyter-widgets/base",
            "_view_module_version": "1.2.0",
            "_view_name": "StyleView",
            "description_width": ""
          }
        }
      }
    }
  },
  "nbformat": 4,
  "nbformat_minor": 0
}